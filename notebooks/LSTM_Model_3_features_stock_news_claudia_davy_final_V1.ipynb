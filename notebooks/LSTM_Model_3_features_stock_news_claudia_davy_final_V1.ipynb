{
 "cells": [
  {
   "cell_type": "code",
   "execution_count": 2,
   "id": "5fb8eccf",
   "metadata": {},
   "outputs": [],
   "source": [
    "import pandas as pd\n",
    "import numpy as np"
   ]
  },
  {
   "cell_type": "markdown",
   "id": "69d87f50",
   "metadata": {
    "heading_collapsed": true
   },
   "source": [
    "## get the stock data "
   ]
  },
  {
   "cell_type": "code",
   "execution_count": 2,
   "id": "8788b2f9",
   "metadata": {
    "hidden": true
   },
   "outputs": [],
   "source": [
    "# get the stock data\n",
    "from google.cloud import storage\n",
    "def get_amazn_stock_data_from_gcp(nrows=10000, local=False, optimize=False, **kwargs):\n",
    "    \"\"\"method to get the training data (or a portion of it) from google cloud bucket\"\"\"\n",
    "    # Add Client() here\n",
    "    client = storage.Client()\n",
    "    if local:\n",
    "        path = \"data/data_data_10Mill.csv\"\n",
    "    else:\n",
    "        path = \"gs://stock-news-pred-bucket/amazon_stock_price.csv\"\n",
    "    df = pd.read_csv(path)#add nrows after if you want to select a specific number of row\n",
    "    return df\n"
   ]
  },
  {
   "cell_type": "code",
   "execution_count": 3,
   "id": "6f245985",
   "metadata": {
    "hidden": true
   },
   "outputs": [],
   "source": [
    "df_stocks = get_amazn_stock_data_from_gcp(local = True)"
   ]
  },
  {
   "cell_type": "code",
   "execution_count": 4,
   "id": "2a35183e",
   "metadata": {
    "hidden": true
   },
   "outputs": [],
   "source": [
    "df_stocks = df_stocks.sort_values([\"date\"], ascending=True)"
   ]
  },
  {
   "cell_type": "code",
   "execution_count": 5,
   "id": "a0de90c3",
   "metadata": {
    "hidden": true
   },
   "outputs": [
    {
     "data": {
      "text/html": [
       "<div>\n",
       "<style scoped>\n",
       "    .dataframe tbody tr th:only-of-type {\n",
       "        vertical-align: middle;\n",
       "    }\n",
       "\n",
       "    .dataframe tbody tr th {\n",
       "        vertical-align: top;\n",
       "    }\n",
       "\n",
       "    .dataframe thead th {\n",
       "        text-align: right;\n",
       "    }\n",
       "</style>\n",
       "<table border=\"1\" class=\"dataframe\">\n",
       "  <thead>\n",
       "    <tr style=\"text-align: right;\">\n",
       "      <th></th>\n",
       "      <th>date</th>\n",
       "      <th>AMZN</th>\n",
       "    </tr>\n",
       "  </thead>\n",
       "  <tbody>\n",
       "    <tr>\n",
       "      <th>5551</th>\n",
       "      <td>1999-11-01</td>\n",
       "      <td>69.13</td>\n",
       "    </tr>\n",
       "    <tr>\n",
       "      <th>5550</th>\n",
       "      <td>1999-11-02</td>\n",
       "      <td>66.44</td>\n",
       "    </tr>\n",
       "    <tr>\n",
       "      <th>5549</th>\n",
       "      <td>1999-11-03</td>\n",
       "      <td>65.81</td>\n",
       "    </tr>\n",
       "    <tr>\n",
       "      <th>5548</th>\n",
       "      <td>1999-11-04</td>\n",
       "      <td>63.06</td>\n",
       "    </tr>\n",
       "    <tr>\n",
       "      <th>5547</th>\n",
       "      <td>1999-11-05</td>\n",
       "      <td>64.94</td>\n",
       "    </tr>\n",
       "  </tbody>\n",
       "</table>\n",
       "</div>"
      ],
      "text/plain": [
       "            date   AMZN\n",
       "5551  1999-11-01  69.13\n",
       "5550  1999-11-02  66.44\n",
       "5549  1999-11-03  65.81\n",
       "5548  1999-11-04  63.06\n",
       "5547  1999-11-05  64.94"
      ]
     },
     "execution_count": 5,
     "metadata": {},
     "output_type": "execute_result"
    }
   ],
   "source": [
    "df_stocks.head()"
   ]
  },
  {
   "cell_type": "code",
   "execution_count": 73,
   "id": "c5ce4654",
   "metadata": {
    "hidden": true
   },
   "outputs": [],
   "source": [
    "df_stocks.to_csv(\"df_stocks\", index=False)"
   ]
  },
  {
   "cell_type": "markdown",
   "id": "9c568a9d",
   "metadata": {},
   "source": [
    "## get the sentiment data"
   ]
  },
  {
   "cell_type": "code",
   "execution_count": 6,
   "id": "757f199f",
   "metadata": {},
   "outputs": [],
   "source": [
    "# get the data from GCP\n",
    "from google.cloud import storage\n",
    "def get_sentiment_news_data_from_gcp(nrows=10000, local=False, optimize=False, **kwargs):\n",
    "    \"\"\"method to get the training data (or a portion of it) from google cloud bucket\"\"\"\n",
    "    # Add Client() here\n",
    "    client = storage.Client()\n",
    "    if local:\n",
    "        path = \"data/data_data_10Mill.csv\"\n",
    "    else:\n",
    "        path = \"gs://stock-news-pred-bucket/final_stocks_sentiment.csv\"\n",
    "    df = pd.read_csv(path)#add nrows after if you want to select a specific number of row\n",
    "    return df"
   ]
  },
  {
   "cell_type": "code",
   "execution_count": 7,
   "id": "283a3a0a",
   "metadata": {},
   "outputs": [],
   "source": [
    "sentiment = get_sentiment_news_data_from_gcp()"
   ]
  },
  {
   "cell_type": "code",
   "execution_count": 8,
   "id": "7e7ca824",
   "metadata": {},
   "outputs": [],
   "source": [
    "sentiment = sentiment[['date', 'ticker', 'class_label']]"
   ]
  },
  {
   "cell_type": "code",
   "execution_count": 9,
   "id": "83d119b2",
   "metadata": {},
   "outputs": [],
   "source": [
    "sentiment = sentiment.loc[sentiment['ticker'] == 'AMZN']"
   ]
  },
  {
   "cell_type": "code",
   "execution_count": 10,
   "id": "dc858e19",
   "metadata": {},
   "outputs": [],
   "source": [
    "sentiment = sentiment.reset_index(drop=True)"
   ]
  },
  {
   "cell_type": "code",
   "execution_count": 11,
   "id": "f0f5a35e",
   "metadata": {},
   "outputs": [],
   "source": [
    "sentiment = sentiment.drop(columns=['ticker'])\n"
   ]
  },
  {
   "cell_type": "code",
   "execution_count": 12,
   "id": "ddd58c30",
   "metadata": {},
   "outputs": [],
   "source": [
    "sentiment['date'] = pd.to_datetime(sentiment['date'], infer_datetime_format=True)"
   ]
  },
  {
   "cell_type": "code",
   "execution_count": 13,
   "id": "db68dfe1",
   "metadata": {},
   "outputs": [
    {
     "data": {
      "text/plain": [
       "Timestamp('2020-11-02 00:00:00')"
      ]
     },
     "execution_count": 13,
     "metadata": {},
     "output_type": "execute_result"
    }
   ],
   "source": [
    "min_date = sentiment[\"date\"].min()\n",
    "min_date"
   ]
  },
  {
   "cell_type": "code",
   "execution_count": 14,
   "id": "ec6deae9",
   "metadata": {},
   "outputs": [
    {
     "data": {
      "text/html": [
       "<div>\n",
       "<style scoped>\n",
       "    .dataframe tbody tr th:only-of-type {\n",
       "        vertical-align: middle;\n",
       "    }\n",
       "\n",
       "    .dataframe tbody tr th {\n",
       "        vertical-align: top;\n",
       "    }\n",
       "\n",
       "    .dataframe thead th {\n",
       "        text-align: right;\n",
       "    }\n",
       "</style>\n",
       "<table border=\"1\" class=\"dataframe\">\n",
       "  <thead>\n",
       "    <tr style=\"text-align: right;\">\n",
       "      <th></th>\n",
       "      <th>date</th>\n",
       "      <th>class_label</th>\n",
       "    </tr>\n",
       "  </thead>\n",
       "  <tbody>\n",
       "    <tr>\n",
       "      <th>0</th>\n",
       "      <td>2020-11-02</td>\n",
       "      <td>0.000000</td>\n",
       "    </tr>\n",
       "    <tr>\n",
       "      <th>1</th>\n",
       "      <td>2020-11-05</td>\n",
       "      <td>1.000000</td>\n",
       "    </tr>\n",
       "    <tr>\n",
       "      <th>2</th>\n",
       "      <td>2020-11-06</td>\n",
       "      <td>0.333333</td>\n",
       "    </tr>\n",
       "    <tr>\n",
       "      <th>3</th>\n",
       "      <td>2020-11-07</td>\n",
       "      <td>1.000000</td>\n",
       "    </tr>\n",
       "    <tr>\n",
       "      <th>4</th>\n",
       "      <td>2020-11-09</td>\n",
       "      <td>0.250000</td>\n",
       "    </tr>\n",
       "  </tbody>\n",
       "</table>\n",
       "</div>"
      ],
      "text/plain": [
       "        date  class_label\n",
       "0 2020-11-02     0.000000\n",
       "1 2020-11-05     1.000000\n",
       "2 2020-11-06     0.333333\n",
       "3 2020-11-07     1.000000\n",
       "4 2020-11-09     0.250000"
      ]
     },
     "execution_count": 14,
     "metadata": {},
     "output_type": "execute_result"
    }
   ],
   "source": [
    "sentiment.head()"
   ]
  },
  {
   "cell_type": "code",
   "execution_count": 74,
   "id": "b32a7543",
   "metadata": {},
   "outputs": [],
   "source": [
    "sentiment.to_csv(\"sentiment\", index=False)"
   ]
  },
  {
   "cell_type": "code",
   "execution_count": 15,
   "id": "e58aa5f9",
   "metadata": {},
   "outputs": [],
   "source": [
    "df_stocks = df_stocks[['date', 'AMZN']]\n",
    "df_stocks[\"date\"] = pd.to_datetime(df_stocks['date'], infer_datetime_format=True)"
   ]
  },
  {
   "cell_type": "code",
   "execution_count": 16,
   "id": "8eb7cd23",
   "metadata": {},
   "outputs": [
    {
     "data": {
      "text/html": [
       "<div>\n",
       "<style scoped>\n",
       "    .dataframe tbody tr th:only-of-type {\n",
       "        vertical-align: middle;\n",
       "    }\n",
       "\n",
       "    .dataframe tbody tr th {\n",
       "        vertical-align: top;\n",
       "    }\n",
       "\n",
       "    .dataframe thead th {\n",
       "        text-align: right;\n",
       "    }\n",
       "</style>\n",
       "<table border=\"1\" class=\"dataframe\">\n",
       "  <thead>\n",
       "    <tr style=\"text-align: right;\">\n",
       "      <th></th>\n",
       "      <th>date</th>\n",
       "      <th>AMZN</th>\n",
       "    </tr>\n",
       "  </thead>\n",
       "  <tbody>\n",
       "    <tr>\n",
       "      <th>266</th>\n",
       "      <td>2020-11-02</td>\n",
       "      <td>3004.48</td>\n",
       "    </tr>\n",
       "    <tr>\n",
       "      <th>265</th>\n",
       "      <td>2020-11-03</td>\n",
       "      <td>3048.41</td>\n",
       "    </tr>\n",
       "    <tr>\n",
       "      <th>264</th>\n",
       "      <td>2020-11-04</td>\n",
       "      <td>3241.16</td>\n",
       "    </tr>\n",
       "    <tr>\n",
       "      <th>263</th>\n",
       "      <td>2020-11-05</td>\n",
       "      <td>3322.00</td>\n",
       "    </tr>\n",
       "    <tr>\n",
       "      <th>262</th>\n",
       "      <td>2020-11-06</td>\n",
       "      <td>3311.37</td>\n",
       "    </tr>\n",
       "    <tr>\n",
       "      <th>...</th>\n",
       "      <td>...</td>\n",
       "      <td>...</td>\n",
       "    </tr>\n",
       "    <tr>\n",
       "      <th>4</th>\n",
       "      <td>2021-11-16</td>\n",
       "      <td>3540.70</td>\n",
       "    </tr>\n",
       "    <tr>\n",
       "      <th>3</th>\n",
       "      <td>2021-11-17</td>\n",
       "      <td>3549.00</td>\n",
       "    </tr>\n",
       "    <tr>\n",
       "      <th>2</th>\n",
       "      <td>2021-11-18</td>\n",
       "      <td>3696.06</td>\n",
       "    </tr>\n",
       "    <tr>\n",
       "      <th>1</th>\n",
       "      <td>2021-11-19</td>\n",
       "      <td>3676.57</td>\n",
       "    </tr>\n",
       "    <tr>\n",
       "      <th>0</th>\n",
       "      <td>2021-11-22</td>\n",
       "      <td>3572.57</td>\n",
       "    </tr>\n",
       "  </tbody>\n",
       "</table>\n",
       "<p>267 rows × 2 columns</p>\n",
       "</div>"
      ],
      "text/plain": [
       "          date     AMZN\n",
       "266 2020-11-02  3004.48\n",
       "265 2020-11-03  3048.41\n",
       "264 2020-11-04  3241.16\n",
       "263 2020-11-05  3322.00\n",
       "262 2020-11-06  3311.37\n",
       "..         ...      ...\n",
       "4   2021-11-16  3540.70\n",
       "3   2021-11-17  3549.00\n",
       "2   2021-11-18  3696.06\n",
       "1   2021-11-19  3676.57\n",
       "0   2021-11-22  3572.57\n",
       "\n",
       "[267 rows x 2 columns]"
      ]
     },
     "execution_count": 16,
     "metadata": {},
     "output_type": "execute_result"
    }
   ],
   "source": [
    "stock_df = df_stocks[df_stocks[\"date\"]>= min_date]\n",
    "stock_df"
   ]
  },
  {
   "cell_type": "code",
   "execution_count": 78,
   "id": "ec33b2ea",
   "metadata": {},
   "outputs": [
    {
     "data": {
      "text/html": [
       "<div>\n",
       "<style scoped>\n",
       "    .dataframe tbody tr th:only-of-type {\n",
       "        vertical-align: middle;\n",
       "    }\n",
       "\n",
       "    .dataframe tbody tr th {\n",
       "        vertical-align: top;\n",
       "    }\n",
       "\n",
       "    .dataframe thead th {\n",
       "        text-align: right;\n",
       "    }\n",
       "</style>\n",
       "<table border=\"1\" class=\"dataframe\">\n",
       "  <thead>\n",
       "    <tr style=\"text-align: right;\">\n",
       "      <th></th>\n",
       "      <th>date</th>\n",
       "      <th>AMZN</th>\n",
       "      <th>class_label</th>\n",
       "    </tr>\n",
       "  </thead>\n",
       "  <tbody>\n",
       "    <tr>\n",
       "      <th>0</th>\n",
       "      <td>2020-11-02</td>\n",
       "      <td>3004.48</td>\n",
       "      <td>0.000000</td>\n",
       "    </tr>\n",
       "    <tr>\n",
       "      <th>1</th>\n",
       "      <td>2020-11-03</td>\n",
       "      <td>3048.41</td>\n",
       "      <td>NaN</td>\n",
       "    </tr>\n",
       "    <tr>\n",
       "      <th>2</th>\n",
       "      <td>2020-11-04</td>\n",
       "      <td>3241.16</td>\n",
       "      <td>NaN</td>\n",
       "    </tr>\n",
       "    <tr>\n",
       "      <th>3</th>\n",
       "      <td>2020-11-05</td>\n",
       "      <td>3322.00</td>\n",
       "      <td>1.000000</td>\n",
       "    </tr>\n",
       "    <tr>\n",
       "      <th>4</th>\n",
       "      <td>2020-11-06</td>\n",
       "      <td>3311.37</td>\n",
       "      <td>0.333333</td>\n",
       "    </tr>\n",
       "  </tbody>\n",
       "</table>\n",
       "</div>"
      ],
      "text/plain": [
       "        date     AMZN  class_label\n",
       "0 2020-11-02  3004.48     0.000000\n",
       "1 2020-11-03  3048.41          NaN\n",
       "2 2020-11-04  3241.16          NaN\n",
       "3 2020-11-05  3322.00     1.000000\n",
       "4 2020-11-06  3311.37     0.333333"
      ]
     },
     "execution_count": 78,
     "metadata": {},
     "output_type": "execute_result"
    }
   ],
   "source": [
    "merged_df = pd.merge(stock_df, sentiment, on='date', how='outer')\n",
    "merged_df.head()"
   ]
  },
  {
   "cell_type": "markdown",
   "id": "5939f07c",
   "metadata": {},
   "source": [
    "## Preprocess and merge data"
   ]
  },
  {
   "cell_type": "code",
   "execution_count": 98,
   "id": "821d8b54",
   "metadata": {},
   "outputs": [
    {
     "data": {
      "text/html": [
       "<div>\n",
       "<style scoped>\n",
       "    .dataframe tbody tr th:only-of-type {\n",
       "        vertical-align: middle;\n",
       "    }\n",
       "\n",
       "    .dataframe tbody tr th {\n",
       "        vertical-align: top;\n",
       "    }\n",
       "\n",
       "    .dataframe thead th {\n",
       "        text-align: right;\n",
       "    }\n",
       "</style>\n",
       "<table border=\"1\" class=\"dataframe\">\n",
       "  <thead>\n",
       "    <tr style=\"text-align: right;\">\n",
       "      <th></th>\n",
       "      <th>date</th>\n",
       "      <th>AMZN</th>\n",
       "      <th>class_label</th>\n",
       "      <th>twitter_label</th>\n",
       "    </tr>\n",
       "  </thead>\n",
       "  <tbody>\n",
       "    <tr>\n",
       "      <th>0</th>\n",
       "      <td>2020-11-02</td>\n",
       "      <td>3004.48</td>\n",
       "      <td>0.000000</td>\n",
       "      <td>-1.0</td>\n",
       "    </tr>\n",
       "    <tr>\n",
       "      <th>1</th>\n",
       "      <td>2020-11-03</td>\n",
       "      <td>3048.41</td>\n",
       "      <td>-1.000000</td>\n",
       "      <td>-1.0</td>\n",
       "    </tr>\n",
       "    <tr>\n",
       "      <th>2</th>\n",
       "      <td>2020-11-04</td>\n",
       "      <td>3241.16</td>\n",
       "      <td>-1.000000</td>\n",
       "      <td>-1.0</td>\n",
       "    </tr>\n",
       "    <tr>\n",
       "      <th>3</th>\n",
       "      <td>2020-11-05</td>\n",
       "      <td>3322.00</td>\n",
       "      <td>1.000000</td>\n",
       "      <td>-1.0</td>\n",
       "    </tr>\n",
       "    <tr>\n",
       "      <th>4</th>\n",
       "      <td>2020-11-06</td>\n",
       "      <td>3311.37</td>\n",
       "      <td>0.333333</td>\n",
       "      <td>-1.0</td>\n",
       "    </tr>\n",
       "  </tbody>\n",
       "</table>\n",
       "</div>"
      ],
      "text/plain": [
       "         date     AMZN  class_label  twitter_label\n",
       "0  2020-11-02  3004.48     0.000000           -1.0\n",
       "1  2020-11-03  3048.41    -1.000000           -1.0\n",
       "2  2020-11-04  3241.16    -1.000000           -1.0\n",
       "3  2020-11-05  3322.00     1.000000           -1.0\n",
       "4  2020-11-06  3311.37     0.333333           -1.0"
      ]
     },
     "execution_count": 98,
     "metadata": {},
     "output_type": "execute_result"
    }
   ],
   "source": [
    "merged_df.head()"
   ]
  },
  {
   "cell_type": "code",
   "execution_count": 12,
   "id": "182e70cd",
   "metadata": {},
   "outputs": [],
   "source": [
    "merged_df.sort_values(by='date', ascending=True, inplace=True)"
   ]
  },
  {
   "cell_type": "code",
   "execution_count": 13,
   "id": "1b66b902",
   "metadata": {},
   "outputs": [],
   "source": [
    "merged_df.reset_index(inplace=True, drop=True)"
   ]
  },
  {
   "cell_type": "code",
   "execution_count": 14,
   "id": "e6214ef1",
   "metadata": {},
   "outputs": [
    {
     "data": {
      "text/plain": [
       "<AxesSubplot:>"
      ]
     },
     "execution_count": 14,
     "metadata": {},
     "output_type": "execute_result"
    },
    {
     "data": {
      "image/png": "[encoded data removed]",
      "text/plain": [
       "<Figure size 432x288 with 1 Axes>"
      ]
     },
     "metadata": {
      "needs_background": "light"
     },
     "output_type": "display_data"
    }
   ],
   "source": [
    "merged_df[\"AMZN\"].plot()"
   ]
  },
  {
   "cell_type": "code",
   "execution_count": 15,
   "id": "a503aeff",
   "metadata": {},
   "outputs": [
    {
     "data": {
      "text/plain": [
       "<AxesSubplot:>"
      ]
     },
     "execution_count": 15,
     "metadata": {},
     "output_type": "execute_result"
    },
    {
     "data": {
      "image/png": "[encoded data removed]",
      "text/plain": [
       "<Figure size 432x288 with 1 Axes>"
      ]
     },
     "metadata": {
      "needs_background": "light"
     },
     "output_type": "display_data"
    }
   ],
   "source": [
    "merged_df[\"AMZN\"].interpolate(method='pad', limit=3).plot()"
   ]
  },
  {
   "cell_type": "code",
   "execution_count": 16,
   "id": "809e7f58",
   "metadata": {},
   "outputs": [],
   "source": [
    "merged_df[\"AMZN\"] = merged_df[\"AMZN\"].interpolate(method='pad', limit=3)"
   ]
  },
  {
   "cell_type": "code",
   "execution_count": 97,
   "id": "3f91ccbd",
   "metadata": {},
   "outputs": [
    {
     "data": {
      "text/plain": [
       "date             0\n",
       "AMZN             0\n",
       "class_label      0\n",
       "twitter_label    0\n",
       "dtype: int64"
      ]
     },
     "execution_count": 97,
     "metadata": {},
     "output_type": "execute_result"
    }
   ],
   "source": [
    "merged_df.isna().sum()"
   ]
  },
  {
   "cell_type": "code",
   "execution_count": 17,
   "id": "8bb3e65a",
   "metadata": {},
   "outputs": [],
   "source": [
    "merged_df.fillna(value=-1, inplace=True)"
   ]
  },
  {
   "cell_type": "code",
   "execution_count": 18,
   "id": "ee294626",
   "metadata": {},
   "outputs": [],
   "source": [
    "merged_df.to_csv(\"merged_df\")"
   ]
  },
  {
   "cell_type": "code",
   "execution_count": 19,
   "id": "c43e3df2",
   "metadata": {},
   "outputs": [],
   "source": [
    "# @Davy start from this point!!!!!"
   ]
  },
  {
   "cell_type": "code",
   "execution_count": 11,
   "id": "084b89e9",
   "metadata": {},
   "outputs": [],
   "source": [
    "merged_df = pd.read_csv(\"merged_twitter_df\")"
   ]
  },
  {
   "cell_type": "code",
   "execution_count": 12,
   "id": "aa1c79d1",
   "metadata": {},
   "outputs": [
    {
     "data": {
      "text/html": [
       "<div>\n",
       "<style scoped>\n",
       "    .dataframe tbody tr th:only-of-type {\n",
       "        vertical-align: middle;\n",
       "    }\n",
       "\n",
       "    .dataframe tbody tr th {\n",
       "        vertical-align: top;\n",
       "    }\n",
       "\n",
       "    .dataframe thead th {\n",
       "        text-align: right;\n",
       "    }\n",
       "</style>\n",
       "<table border=\"1\" class=\"dataframe\">\n",
       "  <thead>\n",
       "    <tr style=\"text-align: right;\">\n",
       "      <th></th>\n",
       "      <th>date</th>\n",
       "      <th>AMZN</th>\n",
       "      <th>class_label</th>\n",
       "      <th>twitter_label</th>\n",
       "    </tr>\n",
       "  </thead>\n",
       "  <tbody>\n",
       "    <tr>\n",
       "      <th>0</th>\n",
       "      <td>2020-11-02</td>\n",
       "      <td>3004.48</td>\n",
       "      <td>0.000000</td>\n",
       "      <td>-1.0</td>\n",
       "    </tr>\n",
       "    <tr>\n",
       "      <th>1</th>\n",
       "      <td>2020-11-03</td>\n",
       "      <td>3048.41</td>\n",
       "      <td>-1.000000</td>\n",
       "      <td>-1.0</td>\n",
       "    </tr>\n",
       "    <tr>\n",
       "      <th>2</th>\n",
       "      <td>2020-11-04</td>\n",
       "      <td>3241.16</td>\n",
       "      <td>-1.000000</td>\n",
       "      <td>-1.0</td>\n",
       "    </tr>\n",
       "    <tr>\n",
       "      <th>3</th>\n",
       "      <td>2020-11-05</td>\n",
       "      <td>3322.00</td>\n",
       "      <td>1.000000</td>\n",
       "      <td>-1.0</td>\n",
       "    </tr>\n",
       "    <tr>\n",
       "      <th>4</th>\n",
       "      <td>2020-11-06</td>\n",
       "      <td>3311.37</td>\n",
       "      <td>0.333333</td>\n",
       "      <td>-1.0</td>\n",
       "    </tr>\n",
       "  </tbody>\n",
       "</table>\n",
       "</div>"
      ],
      "text/plain": [
       "         date     AMZN  class_label  twitter_label\n",
       "0  2020-11-02  3004.48     0.000000           -1.0\n",
       "1  2020-11-03  3048.41    -1.000000           -1.0\n",
       "2  2020-11-04  3241.16    -1.000000           -1.0\n",
       "3  2020-11-05  3322.00     1.000000           -1.0\n",
       "4  2020-11-06  3311.37     0.333333           -1.0"
      ]
     },
     "execution_count": 12,
     "metadata": {},
     "output_type": "execute_result"
    }
   ],
   "source": [
    "merged_df.head()"
   ]
  },
  {
   "cell_type": "code",
   "execution_count": 28,
   "id": "354c432e",
   "metadata": {},
   "outputs": [],
   "source": [
    "#put the data which dont have to be scaled in the index\n",
    "# THERE IS NO NEED TO DO SO, YOU CAN SCALE A PARTICULAR COLUMN\n",
    "# df_temp = merged_df.set_index([\"date\", \"class_label\"])\n",
    "# df_temp = df_temp[[\"AMZN\"]]\n",
    "# df_temp.shape\n",
    "# df_temp"
   ]
  },
  {
   "cell_type": "markdown",
   "id": "09ff6a74",
   "metadata": {},
   "source": [
    "### Scaling stocks"
   ]
  },
  {
   "cell_type": "code",
   "execution_count": 13,
   "id": "3421b558",
   "metadata": {},
   "outputs": [
    {
     "data": {
      "text/plain": [
       "Index(['date', 'AMZN', 'class_label', 'twitter_label'], dtype='object')"
      ]
     },
     "execution_count": 13,
     "metadata": {},
     "output_type": "execute_result"
    }
   ],
   "source": [
    "merged_df.columns"
   ]
  },
  {
   "cell_type": "code",
   "execution_count": 14,
   "id": "af614fa5",
   "metadata": {},
   "outputs": [
    {
     "name": "stdout",
     "output_type": "stream",
     "text": [
      "minimum value = [2951.95]\n",
      "maximum value = [3731.41]\n"
     ]
    }
   ],
   "source": [
    "from sklearn.preprocessing import StandardScaler, MinMaxScaler\n",
    "\n",
    "# INSTANTIATE THE SCALER\n",
    "scaler = MinMaxScaler()\n",
    "\n",
    "# FIT IT ONLY ON AMZN\n",
    "scaler.fit(merged_df[['AMZN']])\n",
    "\n",
    "# YOU NOW HAVE ACCESS TO THE MIN AND MAX OF AMZN\n",
    "print(f\"minimum value = {scaler.data_min_}\")\n",
    "print(f\"maximum value = {scaler.data_max_}\")"
   ]
  },
  {
   "cell_type": "code",
   "execution_count": 10,
   "id": "efe071c4",
   "metadata": {},
   "outputs": [
    {
     "data": {
      "text/html": [
       "<div>\n",
       "<style scoped>\n",
       "    .dataframe tbody tr th:only-of-type {\n",
       "        vertical-align: middle;\n",
       "    }\n",
       "\n",
       "    .dataframe tbody tr th {\n",
       "        vertical-align: top;\n",
       "    }\n",
       "\n",
       "    .dataframe thead th {\n",
       "        text-align: right;\n",
       "    }\n",
       "</style>\n",
       "<table border=\"1\" class=\"dataframe\">\n",
       "  <thead>\n",
       "    <tr style=\"text-align: right;\">\n",
       "      <th></th>\n",
       "      <th>date</th>\n",
       "      <th>AMZN</th>\n",
       "      <th>class_label</th>\n",
       "      <th>twitter_label</th>\n",
       "    </tr>\n",
       "  </thead>\n",
       "  <tbody>\n",
       "    <tr>\n",
       "      <th>0</th>\n",
       "      <td>2020-11-02</td>\n",
       "      <td>0.067393</td>\n",
       "      <td>0.000000</td>\n",
       "      <td>-1.0</td>\n",
       "    </tr>\n",
       "    <tr>\n",
       "      <th>1</th>\n",
       "      <td>2020-11-03</td>\n",
       "      <td>0.123752</td>\n",
       "      <td>-1.000000</td>\n",
       "      <td>-1.0</td>\n",
       "    </tr>\n",
       "    <tr>\n",
       "      <th>2</th>\n",
       "      <td>2020-11-04</td>\n",
       "      <td>0.371039</td>\n",
       "      <td>-1.000000</td>\n",
       "      <td>-1.0</td>\n",
       "    </tr>\n",
       "    <tr>\n",
       "      <th>3</th>\n",
       "      <td>2020-11-05</td>\n",
       "      <td>0.474752</td>\n",
       "      <td>1.000000</td>\n",
       "      <td>-1.0</td>\n",
       "    </tr>\n",
       "    <tr>\n",
       "      <th>4</th>\n",
       "      <td>2020-11-06</td>\n",
       "      <td>0.461114</td>\n",
       "      <td>0.333333</td>\n",
       "      <td>-1.0</td>\n",
       "    </tr>\n",
       "    <tr>\n",
       "      <th>5</th>\n",
       "      <td>2020-11-07</td>\n",
       "      <td>0.461114</td>\n",
       "      <td>1.000000</td>\n",
       "      <td>-1.0</td>\n",
       "    </tr>\n",
       "    <tr>\n",
       "      <th>6</th>\n",
       "      <td>2020-11-09</td>\n",
       "      <td>0.246055</td>\n",
       "      <td>0.250000</td>\n",
       "      <td>-1.0</td>\n",
       "    </tr>\n",
       "    <tr>\n",
       "      <th>7</th>\n",
       "      <td>2020-11-10</td>\n",
       "      <td>0.106574</td>\n",
       "      <td>1.000000</td>\n",
       "      <td>-1.0</td>\n",
       "    </tr>\n",
       "    <tr>\n",
       "      <th>8</th>\n",
       "      <td>2020-11-11</td>\n",
       "      <td>0.237908</td>\n",
       "      <td>0.000000</td>\n",
       "      <td>-1.0</td>\n",
       "    </tr>\n",
       "    <tr>\n",
       "      <th>9</th>\n",
       "      <td>2020-11-12</td>\n",
       "      <td>0.203128</td>\n",
       "      <td>1.000000</td>\n",
       "      <td>-1.0</td>\n",
       "    </tr>\n",
       "    <tr>\n",
       "      <th>10</th>\n",
       "      <td>2020-11-13</td>\n",
       "      <td>0.226901</td>\n",
       "      <td>0.000000</td>\n",
       "      <td>-1.0</td>\n",
       "    </tr>\n",
       "    <tr>\n",
       "      <th>11</th>\n",
       "      <td>2020-11-16</td>\n",
       "      <td>0.229787</td>\n",
       "      <td>0.000000</td>\n",
       "      <td>-1.0</td>\n",
       "    </tr>\n",
       "    <tr>\n",
       "      <th>12</th>\n",
       "      <td>2020-11-17</td>\n",
       "      <td>0.235689</td>\n",
       "      <td>-1.000000</td>\n",
       "      <td>-1.0</td>\n",
       "    </tr>\n",
       "    <tr>\n",
       "      <th>13</th>\n",
       "      <td>2020-11-18</td>\n",
       "      <td>0.196944</td>\n",
       "      <td>-1.000000</td>\n",
       "      <td>-1.0</td>\n",
       "    </tr>\n",
       "    <tr>\n",
       "      <th>14</th>\n",
       "      <td>2020-11-19</td>\n",
       "      <td>0.211775</td>\n",
       "      <td>0.666667</td>\n",
       "      <td>-1.0</td>\n",
       "    </tr>\n",
       "    <tr>\n",
       "      <th>15</th>\n",
       "      <td>2020-11-20</td>\n",
       "      <td>0.189169</td>\n",
       "      <td>-1.000000</td>\n",
       "      <td>-1.0</td>\n",
       "    </tr>\n",
       "    <tr>\n",
       "      <th>16</th>\n",
       "      <td>2020-11-22</td>\n",
       "      <td>0.189169</td>\n",
       "      <td>1.000000</td>\n",
       "      <td>-1.0</td>\n",
       "    </tr>\n",
       "    <tr>\n",
       "      <th>17</th>\n",
       "      <td>2020-11-23</td>\n",
       "      <td>0.187874</td>\n",
       "      <td>0.500000</td>\n",
       "      <td>-1.0</td>\n",
       "    </tr>\n",
       "    <tr>\n",
       "      <th>18</th>\n",
       "      <td>2020-11-24</td>\n",
       "      <td>0.213109</td>\n",
       "      <td>0.500000</td>\n",
       "      <td>-1.0</td>\n",
       "    </tr>\n",
       "    <tr>\n",
       "      <th>19</th>\n",
       "      <td>2020-11-25</td>\n",
       "      <td>0.299079</td>\n",
       "      <td>0.800000</td>\n",
       "      <td>-1.0</td>\n",
       "    </tr>\n",
       "  </tbody>\n",
       "</table>\n",
       "</div>"
      ],
      "text/plain": [
       "          date      AMZN  class_label  twitter_label\n",
       "0   2020-11-02  0.067393     0.000000           -1.0\n",
       "1   2020-11-03  0.123752    -1.000000           -1.0\n",
       "2   2020-11-04  0.371039    -1.000000           -1.0\n",
       "3   2020-11-05  0.474752     1.000000           -1.0\n",
       "4   2020-11-06  0.461114     0.333333           -1.0\n",
       "5   2020-11-07  0.461114     1.000000           -1.0\n",
       "6   2020-11-09  0.246055     0.250000           -1.0\n",
       "7   2020-11-10  0.106574     1.000000           -1.0\n",
       "8   2020-11-11  0.237908     0.000000           -1.0\n",
       "9   2020-11-12  0.203128     1.000000           -1.0\n",
       "10  2020-11-13  0.226901     0.000000           -1.0\n",
       "11  2020-11-16  0.229787     0.000000           -1.0\n",
       "12  2020-11-17  0.235689    -1.000000           -1.0\n",
       "13  2020-11-18  0.196944    -1.000000           -1.0\n",
       "14  2020-11-19  0.211775     0.666667           -1.0\n",
       "15  2020-11-20  0.189169    -1.000000           -1.0\n",
       "16  2020-11-22  0.189169     1.000000           -1.0\n",
       "17  2020-11-23  0.187874     0.500000           -1.0\n",
       "18  2020-11-24  0.213109     0.500000           -1.0\n",
       "19  2020-11-25  0.299079     0.800000           -1.0"
      ]
     },
     "execution_count": 10,
     "metadata": {},
     "output_type": "execute_result"
    }
   ],
   "source": [
    "# LET'S CREATE A COPY OF MERGED_DF\n",
    "data_scaled = merged_df.copy()\n",
    "\n",
    "# AND TRANSFORM ONLY THE AMZN COLUMN\n",
    "data_scaled[\"AMZN\"] = scaler.transform(merged_df[['AMZN']])\n",
    "\n",
    "# NOW LOOK AT DATA_SCALED\n",
    "data_scaled.head(20)"
   ]
  },
  {
   "cell_type": "code",
   "execution_count": 8,
   "id": "bd354c02",
   "metadata": {},
   "outputs": [],
   "source": [
    "# merged_df[\"AMZN\"] = X_scaled_temp\n",
    "# merged_df.head(20)\n",
    "\n",
    "\n",
    "# df  = merged_df.copy()\n",
    "\n",
    "# df.head()"
   ]
  },
  {
   "cell_type": "markdown",
   "id": "ff1774c1",
   "metadata": {},
   "source": [
    "## prepare it for model LSTM"
   ]
  },
  {
   "cell_type": "code",
   "execution_count": 16,
   "id": "0d260456",
   "metadata": {},
   "outputs": [
    {
     "ename": "KeyError",
     "evalue": "\"None of ['date'] are in the columns\"",
     "output_type": "error",
     "traceback": [
      "\u001b[0;31m---------------------------------------------------------------------------\u001b[0m",
      "\u001b[0;31mKeyError\u001b[0m                                  Traceback (most recent call last)",
      "\u001b[0;32m/tmp/ipykernel_3117/267452580.py\u001b[0m in \u001b[0;36m<module>\u001b[0;34m\u001b[0m\n\u001b[1;32m      1\u001b[0m \u001b[0;31m# SETTING THE DATE AS INDEX\u001b[0m\u001b[0;34m\u001b[0m\u001b[0;34m\u001b[0m\u001b[0;34m\u001b[0m\u001b[0m\n\u001b[0;32m----> 2\u001b[0;31m \u001b[0mdata_scaled\u001b[0m\u001b[0;34m.\u001b[0m\u001b[0mset_index\u001b[0m\u001b[0;34m(\u001b[0m\u001b[0;34m[\u001b[0m\u001b[0;34m\"date\"\u001b[0m\u001b[0;34m]\u001b[0m\u001b[0;34m,\u001b[0m \u001b[0minplace\u001b[0m\u001b[0;34m=\u001b[0m \u001b[0;32mTrue\u001b[0m\u001b[0;34m)\u001b[0m\u001b[0;34m\u001b[0m\u001b[0;34m\u001b[0m\u001b[0m\n\u001b[0m",
      "\u001b[0;32m~/.pyenv/versions/3.8.12/envs/lewagon/lib/python3.8/site-packages/pandas/util/_decorators.py\u001b[0m in \u001b[0;36mwrapper\u001b[0;34m(*args, **kwargs)\u001b[0m\n\u001b[1;32m    309\u001b[0m                     \u001b[0mstacklevel\u001b[0m\u001b[0;34m=\u001b[0m\u001b[0mstacklevel\u001b[0m\u001b[0;34m,\u001b[0m\u001b[0;34m\u001b[0m\u001b[0;34m\u001b[0m\u001b[0m\n\u001b[1;32m    310\u001b[0m                 )\n\u001b[0;32m--> 311\u001b[0;31m             \u001b[0;32mreturn\u001b[0m \u001b[0mfunc\u001b[0m\u001b[0;34m(\u001b[0m\u001b[0;34m*\u001b[0m\u001b[0margs\u001b[0m\u001b[0;34m,\u001b[0m \u001b[0;34m**\u001b[0m\u001b[0mkwargs\u001b[0m\u001b[0;34m)\u001b[0m\u001b[0;34m\u001b[0m\u001b[0;34m\u001b[0m\u001b[0m\n\u001b[0m\u001b[1;32m    312\u001b[0m \u001b[0;34m\u001b[0m\u001b[0m\n\u001b[1;32m    313\u001b[0m         \u001b[0;32mreturn\u001b[0m \u001b[0mwrapper\u001b[0m\u001b[0;34m\u001b[0m\u001b[0;34m\u001b[0m\u001b[0m\n",
      "\u001b[0;32m~/.pyenv/versions/3.8.12/envs/lewagon/lib/python3.8/site-packages/pandas/core/frame.py\u001b[0m in \u001b[0;36mset_index\u001b[0;34m(self, keys, drop, append, inplace, verify_integrity)\u001b[0m\n\u001b[1;32m   5449\u001b[0m \u001b[0;34m\u001b[0m\u001b[0m\n\u001b[1;32m   5450\u001b[0m         \u001b[0;32mif\u001b[0m \u001b[0mmissing\u001b[0m\u001b[0;34m:\u001b[0m\u001b[0;34m\u001b[0m\u001b[0;34m\u001b[0m\u001b[0m\n\u001b[0;32m-> 5451\u001b[0;31m             \u001b[0;32mraise\u001b[0m \u001b[0mKeyError\u001b[0m\u001b[0;34m(\u001b[0m\u001b[0;34mf\"None of {missing} are in the columns\"\u001b[0m\u001b[0;34m)\u001b[0m\u001b[0;34m\u001b[0m\u001b[0;34m\u001b[0m\u001b[0m\n\u001b[0m\u001b[1;32m   5452\u001b[0m \u001b[0;34m\u001b[0m\u001b[0m\n\u001b[1;32m   5453\u001b[0m         \u001b[0;32mif\u001b[0m \u001b[0minplace\u001b[0m\u001b[0;34m:\u001b[0m\u001b[0;34m\u001b[0m\u001b[0;34m\u001b[0m\u001b[0m\n",
      "\u001b[0;31mKeyError\u001b[0m: \"None of ['date'] are in the columns\""
     ]
    }
   ],
   "source": [
    "# SETTING THE DATE AS INDEX\n",
    "data_scaled.set_index([\"date\"], inplace= True)"
   ]
  },
  {
   "cell_type": "code",
   "execution_count": 17,
   "id": "71a0b039",
   "metadata": {},
   "outputs": [
    {
     "data": {
      "image/png": "[encoded data removed]",
      "text/plain": [
       "<Figure size 1224x144 with 1 Axes>"
      ]
     },
     "metadata": {
      "needs_background": "light"
     },
     "output_type": "display_data"
    },
    {
     "data": {
      "image/png": "[encoded data removed]",
      "text/plain": [
       "<Figure size 1224x144 with 1 Axes>"
      ]
     },
     "metadata": {
      "needs_background": "light"
     },
     "output_type": "display_data"
    },
    {
     "data": {
      "image/png": "[encoded data removed]",
      "text/plain": [
       "<Figure size 1224x144 with 1 Axes>"
      ]
     },
     "metadata": {
      "needs_background": "light"
     },
     "output_type": "display_data"
    }
   ],
   "source": [
    "import matplotlib.pyplot as plt\n",
    "%matplotlib inline\n",
    "\n",
    "for column in data_scaled.columns:\n",
    "    if column == \"AMZN\": color = \"orange\"\n",
    "    if column == \"class_label\": color = \"blue\" \n",
    "    if column == \"twitter_label\": color = \"purple\" \n",
    "    data_scaled[column].plot(figsize=(17, 2), color=color)\n",
    "    plt.title(column)\n",
    "    plt.show()"
   ]
  },
  {
   "cell_type": "code",
   "execution_count": 18,
   "id": "05b7988c",
   "metadata": {},
   "outputs": [
    {
     "data": {
      "text/html": [
       "<div>\n",
       "<style scoped>\n",
       "    .dataframe tbody tr th:only-of-type {\n",
       "        vertical-align: middle;\n",
       "    }\n",
       "\n",
       "    .dataframe tbody tr th {\n",
       "        vertical-align: top;\n",
       "    }\n",
       "\n",
       "    .dataframe thead th {\n",
       "        text-align: right;\n",
       "    }\n",
       "</style>\n",
       "<table border=\"1\" class=\"dataframe\">\n",
       "  <thead>\n",
       "    <tr style=\"text-align: right;\">\n",
       "      <th></th>\n",
       "      <th>AMZN</th>\n",
       "      <th>class_label</th>\n",
       "      <th>twitter_label</th>\n",
       "    </tr>\n",
       "  </thead>\n",
       "  <tbody>\n",
       "    <tr>\n",
       "      <th>count</th>\n",
       "      <td>385.000000</td>\n",
       "      <td>385.000000</td>\n",
       "      <td>385.000000</td>\n",
       "    </tr>\n",
       "    <tr>\n",
       "      <th>mean</th>\n",
       "      <td>0.459112</td>\n",
       "      <td>0.410457</td>\n",
       "      <td>0.294951</td>\n",
       "    </tr>\n",
       "    <tr>\n",
       "      <th>std</th>\n",
       "      <td>0.210588</td>\n",
       "      <td>0.434192</td>\n",
       "      <td>0.348702</td>\n",
       "    </tr>\n",
       "    <tr>\n",
       "      <th>min</th>\n",
       "      <td>0.000000</td>\n",
       "      <td>-1.000000</td>\n",
       "      <td>-1.000000</td>\n",
       "    </tr>\n",
       "    <tr>\n",
       "      <th>25%</th>\n",
       "      <td>0.305121</td>\n",
       "      <td>0.347826</td>\n",
       "      <td>0.222222</td>\n",
       "    </tr>\n",
       "    <tr>\n",
       "      <th>50%</th>\n",
       "      <td>0.438791</td>\n",
       "      <td>0.500000</td>\n",
       "      <td>0.333333</td>\n",
       "    </tr>\n",
       "    <tr>\n",
       "      <th>75%</th>\n",
       "      <td>0.595348</td>\n",
       "      <td>0.600000</td>\n",
       "      <td>0.463415</td>\n",
       "    </tr>\n",
       "    <tr>\n",
       "      <th>max</th>\n",
       "      <td>1.000000</td>\n",
       "      <td>1.000000</td>\n",
       "      <td>0.866667</td>\n",
       "    </tr>\n",
       "  </tbody>\n",
       "</table>\n",
       "</div>"
      ],
      "text/plain": [
       "             AMZN  class_label  twitter_label\n",
       "count  385.000000   385.000000     385.000000\n",
       "mean     0.459112     0.410457       0.294951\n",
       "std      0.210588     0.434192       0.348702\n",
       "min      0.000000    -1.000000      -1.000000\n",
       "25%      0.305121     0.347826       0.222222\n",
       "50%      0.438791     0.500000       0.333333\n",
       "75%      0.595348     0.600000       0.463415\n",
       "max      1.000000     1.000000       0.866667"
      ]
     },
     "execution_count": 18,
     "metadata": {},
     "output_type": "execute_result"
    }
   ],
   "source": [
    "data_scaled.describe()"
   ]
  },
  {
   "cell_type": "markdown",
   "id": "0130e5c6",
   "metadata": {},
   "source": [
    "X.shape = number of sequence?, 30, 2 <br>\n",
    "y.shape = number of sequence?"
   ]
  },
  {
   "cell_type": "code",
   "execution_count": 22,
   "id": "cca89c41",
   "metadata": {},
   "outputs": [],
   "source": [
    "import numpy as np\n",
    "\n",
    "def subsample_sequence(df, length, HORIZON=0):\n",
    "    \"\"\"\n",
    "    Given the initial dataframe `df`, return a shorter dataframe sequence of length `length`.\n",
    "    This shorter sequence should be selected at random\n",
    "    \"\"\"\n",
    "    last_possible = df.shape[0] - length\n",
    "    \n",
    "    random_start = np.random.randint(0, last_possible)\n",
    "    df_sample = df[random_start: random_start+length+HORIZON]\n",
    "    # X_sample = df_sample[random_start: random_start+length]\n",
    "    # y_sample = df_sample[random_start + length:]\n",
    "    return df_sample"
   ]
  },
  {
   "cell_type": "code",
   "execution_count": 23,
   "id": "97114eb1",
   "metadata": {},
   "outputs": [
    {
     "data": {
      "text/html": [
       "<div>\n",
       "<style scoped>\n",
       "    .dataframe tbody tr th:only-of-type {\n",
       "        vertical-align: middle;\n",
       "    }\n",
       "\n",
       "    .dataframe tbody tr th {\n",
       "        vertical-align: top;\n",
       "    }\n",
       "\n",
       "    .dataframe thead th {\n",
       "        text-align: right;\n",
       "    }\n",
       "</style>\n",
       "<table border=\"1\" class=\"dataframe\">\n",
       "  <thead>\n",
       "    <tr style=\"text-align: right;\">\n",
       "      <th></th>\n",
       "      <th>AMZN</th>\n",
       "      <th>class_label</th>\n",
       "      <th>twitter_label</th>\n",
       "    </tr>\n",
       "    <tr>\n",
       "      <th>date</th>\n",
       "      <th></th>\n",
       "      <th></th>\n",
       "      <th></th>\n",
       "    </tr>\n",
       "  </thead>\n",
       "  <tbody>\n",
       "    <tr>\n",
       "      <th>2021-07-22</th>\n",
       "      <td>0.880199</td>\n",
       "      <td>0.523810</td>\n",
       "      <td>0.425000</td>\n",
       "    </tr>\n",
       "    <tr>\n",
       "      <th>2021-07-23</th>\n",
       "      <td>0.904075</td>\n",
       "      <td>0.500000</td>\n",
       "      <td>0.473684</td>\n",
       "    </tr>\n",
       "    <tr>\n",
       "      <th>2021-07-24</th>\n",
       "      <td>0.904075</td>\n",
       "      <td>0.500000</td>\n",
       "      <td>0.166667</td>\n",
       "    </tr>\n",
       "    <tr>\n",
       "      <th>2021-07-25</th>\n",
       "      <td>0.904075</td>\n",
       "      <td>0.800000</td>\n",
       "      <td>0.095238</td>\n",
       "    </tr>\n",
       "    <tr>\n",
       "      <th>2021-07-26</th>\n",
       "      <td>0.959472</td>\n",
       "      <td>0.317073</td>\n",
       "      <td>0.718750</td>\n",
       "    </tr>\n",
       "    <tr>\n",
       "      <th>2021-07-27</th>\n",
       "      <td>0.865266</td>\n",
       "      <td>0.260870</td>\n",
       "      <td>0.410256</td>\n",
       "    </tr>\n",
       "    <tr>\n",
       "      <th>2021-07-28</th>\n",
       "      <td>0.870308</td>\n",
       "      <td>0.551724</td>\n",
       "      <td>0.254545</td>\n",
       "    </tr>\n",
       "    <tr>\n",
       "      <th>2021-07-29</th>\n",
       "      <td>0.831306</td>\n",
       "      <td>0.348837</td>\n",
       "      <td>0.174757</td>\n",
       "    </tr>\n",
       "    <tr>\n",
       "      <th>2021-07-30</th>\n",
       "      <td>0.481923</td>\n",
       "      <td>0.264706</td>\n",
       "      <td>0.157407</td>\n",
       "    </tr>\n",
       "    <tr>\n",
       "      <th>2021-07-31</th>\n",
       "      <td>0.481923</td>\n",
       "      <td>0.529412</td>\n",
       "      <td>0.250000</td>\n",
       "    </tr>\n",
       "  </tbody>\n",
       "</table>\n",
       "</div>"
      ],
      "text/plain": [
       "                AMZN  class_label  twitter_label\n",
       "date                                            \n",
       "2021-07-22  0.880199     0.523810       0.425000\n",
       "2021-07-23  0.904075     0.500000       0.473684\n",
       "2021-07-24  0.904075     0.500000       0.166667\n",
       "2021-07-25  0.904075     0.800000       0.095238\n",
       "2021-07-26  0.959472     0.317073       0.718750\n",
       "2021-07-27  0.865266     0.260870       0.410256\n",
       "2021-07-28  0.870308     0.551724       0.254545\n",
       "2021-07-29  0.831306     0.348837       0.174757\n",
       "2021-07-30  0.481923     0.264706       0.157407\n",
       "2021-07-31  0.481923     0.529412       0.250000"
      ]
     },
     "execution_count": 23,
     "metadata": {},
     "output_type": "execute_result"
    }
   ],
   "source": [
    "subsample_sequence(data_scaled, 10)"
   ]
  },
  {
   "cell_type": "code",
   "execution_count": 24,
   "id": "b6cf5892",
   "metadata": {},
   "outputs": [],
   "source": [
    "def split_subsample_sequence(df, length):\n",
    "    '''Create one single random (X,y) pair'''\n",
    "\n",
    "    df_subsample = subsample_sequence(df, length)\n",
    "    y_sample = df_subsample.iloc[length -1]['AMZN'] # -1 means the future window\n",
    "    \n",
    "    X_sample = df_subsample[0:length -1]# -1 means the future window\n",
    "    X_sample = X_sample.values\n",
    "\n",
    "    return np.array(X_sample), np.array(y_sample)"
   ]
  },
  {
   "cell_type": "code",
   "execution_count": 25,
   "id": "436f3fc6",
   "metadata": {},
   "outputs": [
    {
     "data": {
      "text/plain": [
       "(array([[0.50418238, 0.44444444, 0.42857143],\n",
       "        [0.50418238, 0.61538462, 0.44444444],\n",
       "        [0.50418238, 0.25      , 0.25      ],\n",
       "        [0.50024376, 0.34782609, 0.17142857],\n",
       "        [0.47305827, 0.52631579, 0.29032258],\n",
       "        [0.43640469, 0.52631579, 0.40740741],\n",
       "        [0.45101737, 0.58333333, 0.22222222],\n",
       "        [0.43879096, 0.71428571, 0.15789474],\n",
       "        [0.43879096, 0.33333333, 0.10344828]]),\n",
       " array(0.43879096))"
      ]
     },
     "execution_count": 25,
     "metadata": {},
     "output_type": "execute_result"
    }
   ],
   "source": [
    "split_subsample_sequence(data_scaled, 10)"
   ]
  },
  {
   "cell_type": "code",
   "execution_count": 26,
   "id": "c4ad7d58",
   "metadata": {},
   "outputs": [],
   "source": [
    "def compute_means(X, df_mean):\n",
    "    # Compute means of X\n",
    "    means = X.mean()\n",
    "    \n",
    "    # Case if ALL values of at least one feature of X are NaN, then reaplace with the whole df_mean\n",
    "    if means.isna().sum() != 0:\n",
    "        means.fillna(df_mean, inplace=True)\n",
    "        \n",
    "    return means\n",
    "\n",
    "def split_subsample_sequence(df, length, df_mean=None):\n",
    "    '''Return one single random sample (X_sample, y_sample) containing one sequence each of length `length`'''\n",
    "    # Trick to save time during potential recursive calls\n",
    "    if df_mean is None:\n",
    "        df_mean = df.mean()\n",
    "\n",
    "    df_subsample = subsample_sequence(df, length)\n",
    "    \n",
    "    y_sample = df_subsample.iloc[length-1]['AMZN']\n",
    "    # Case y_sample is NaN: redraw !\n",
    "    if y_sample != y_sample: # A value is not equal to itself only for NaN\n",
    "            X_sample, y_sample = split_subsample_sequence(df, length, df_mean) # Recursive call !!!\n",
    "            return np.array(X_sample), np.array(y_sample)\n",
    "\n",
    "    X_sample = df_subsample[0:length-1]\n",
    "    # Case X_sample has some NaNs\n",
    "    if X_sample.isna().sum().sum() !=0:\n",
    "        X_sample = X_sample.fillna(compute_means(X_sample, df_mean))\n",
    "        X_sample = X_sample.values\n",
    "        \n",
    "    return np.array(X_sample), np.array(y_sample)"
   ]
  },
  {
   "cell_type": "code",
   "execution_count": 27,
   "id": "a1a3c3f8",
   "metadata": {},
   "outputs": [],
   "source": [
    "(X_sample, y_sample) = split_subsample_sequence(data_scaled, 10)"
   ]
  },
  {
   "cell_type": "code",
   "execution_count": 28,
   "id": "af24dcbc",
   "metadata": {},
   "outputs": [
    {
     "data": {
      "text/plain": [
       "(array([[0.68630847, 0.61290323, 0.27586207],\n",
       "        [0.68630847, 0.69230769, 0.14583333],\n",
       "        [0.68630847, 0.30769231, 0.13793103],\n",
       "        [0.64404844, 0.54320988, 0.5       ],\n",
       "        [0.71009417, 0.5       , 0.67857143],\n",
       "        [0.70801581, 0.69090909, 0.38888889],\n",
       "        [0.6377877 , 0.55932203, 0.42857143],\n",
       "        [0.57669412, 0.4       , 0.4375    ],\n",
       "        [0.57669412, 0.8125    , 0.33333333]]),\n",
       " array(0.57669412))"
      ]
     },
     "execution_count": 28,
     "metadata": {},
     "output_type": "execute_result"
    }
   ],
   "source": [
    "(X_sample, y_sample)"
   ]
  },
  {
   "cell_type": "code",
   "execution_count": 29,
   "id": "7292a7e2",
   "metadata": {},
   "outputs": [
    {
     "data": {
      "text/plain": [
       "((9, 3), ())"
      ]
     },
     "execution_count": 29,
     "metadata": {},
     "output_type": "execute_result"
    }
   ],
   "source": [
    "X_sample.shape, y_sample.shape"
   ]
  },
  {
   "cell_type": "code",
   "execution_count": 30,
   "id": "265c8429",
   "metadata": {},
   "outputs": [],
   "source": [
    "def get_X_y(df, n_sequences, length): #length = 30, n_sequence = 12, df(12month)\n",
    "    '''Return a list of samples (X, y)'''\n",
    "    \n",
    "    X, y = [], []\n",
    "\n",
    "    for i in range(n_sequences):\n",
    "        (xi, yi) = split_subsample_sequence(df, length)\n",
    "        X.append(xi)\n",
    "        y.append(yi)\n",
    "        \n",
    "    X = np.array(X)\n",
    "    y = np.array(y)\n",
    "\n",
    "    return X, y"
   ]
  },
  {
   "cell_type": "code",
   "execution_count": 31,
   "id": "5791bda7",
   "metadata": {},
   "outputs": [],
   "source": [
    "##TESTING THE GET X Y FUNCTION\n",
    "\n",
    "df = data_scaled\n",
    "n_sequences = 7\n",
    "length = 30\n",
    "\n",
    "X, y = get_X_y(df, n_sequences, length)"
   ]
  },
  {
   "cell_type": "code",
   "execution_count": 32,
   "id": "f8cca358",
   "metadata": {},
   "outputs": [
    {
     "data": {
      "text/plain": [
       "((7, 29, 3), (7,))"
      ]
     },
     "execution_count": 32,
     "metadata": {},
     "output_type": "execute_result"
    }
   ],
   "source": [
    "X.shape, y.shape"
   ]
  },
  {
   "cell_type": "code",
   "execution_count": 33,
   "id": "58e3e37b",
   "metadata": {},
   "outputs": [],
   "source": [
    "# import matplotlib.pyplot as plt\n",
    "# fig, axs = plt.subplots(12, figsize=[20,100])\n",
    "# # fig.suptitle('Vertically stacked subplots')\n",
    "\n",
    "# for i in range(len(df_list[0])):\n",
    "#     axs[i].plot(df_list[0][i])"
   ]
  },
  {
   "cell_type": "markdown",
   "id": "e848aff5",
   "metadata": {},
   "source": [
    "## Train test split"
   ]
  },
  {
   "cell_type": "code",
   "execution_count": 34,
   "id": "24995e9c",
   "metadata": {},
   "outputs": [],
   "source": [
    "# len of train dataset should be 80%"
   ]
  },
  {
   "cell_type": "code",
   "execution_count": 35,
   "id": "7f073a66",
   "metadata": {},
   "outputs": [
    {
     "name": "stdout",
     "output_type": "stream",
     "text": [
      "(308, 3)\n",
      "(77, 3)\n"
     ]
    }
   ],
   "source": [
    "len_ = int(0.8*data_scaled.shape[0])\n",
    "df_train = data_scaled[:len_]\n",
    "df_test = data_scaled[len_:]\n",
    "print(df_train.shape)\n",
    "print(df_test.shape)"
   ]
  },
  {
   "cell_type": "code",
   "execution_count": 36,
   "id": "685ec4f0",
   "metadata": {},
   "outputs": [],
   "source": [
    "X_train, y_train = get_X_y(df_train, 200, 30) # 200 sequences of a length of 30 days\n",
    "X_test, y_test = get_X_y(df_test, 100, 30) # 200 sequences of a length of 30 days"
   ]
  },
  {
   "cell_type": "code",
   "execution_count": 37,
   "id": "88cf3d37",
   "metadata": {},
   "outputs": [
    {
     "data": {
      "text/plain": [
       "((200, 29, 3), (200,))"
      ]
     },
     "execution_count": 37,
     "metadata": {},
     "output_type": "execute_result"
    }
   ],
   "source": [
    "X_train.shape, y_train.shape"
   ]
  },
  {
   "cell_type": "code",
   "execution_count": 38,
   "id": "6584a055",
   "metadata": {},
   "outputs": [
    {
     "data": {
      "text/plain": [
       "((100, 29, 3), (100,))"
      ]
     },
     "execution_count": 38,
     "metadata": {},
     "output_type": "execute_result"
    }
   ],
   "source": [
    "X_test.shape, y_test.shape"
   ]
  },
  {
   "cell_type": "markdown",
   "id": "c6e63c00",
   "metadata": {},
   "source": [
    "## predict a baseline"
   ]
  },
  {
   "cell_type": "code",
   "execution_count": 39,
   "id": "e93a0bd7",
   "metadata": {},
   "outputs": [
    {
     "name": "stdout",
     "output_type": "stream",
     "text": [
      "Benchmark MAPE on the test set : 27 %\n"
     ]
    }
   ],
   "source": [
    "# We here decide to predict the mean of the train set y_train\n",
    "y_pred = np.mean(y_train)\n",
    "bench_res = np.mean(np.abs(y_pred - y_test)/y_test)*100\n",
    "\n",
    "print(f'Benchmark MAPE on the test set : {bench_res:.0f} %')"
   ]
  },
  {
   "cell_type": "code",
   "execution_count": 40,
   "id": "22e52f38",
   "metadata": {},
   "outputs": [
    {
     "name": "stdout",
     "output_type": "stream",
     "text": [
      "Benchmark MAPE on the test set : 7 %\n"
     ]
    }
   ],
   "source": [
    "# Or (better) we predict the last pollution value!\n",
    "y_pred_baseline = X_test[:,-1,0]\n",
    "bench_res = np.mean(np.abs(y_pred_baseline - y_test)/y_test)*100\n",
    "print(f'Benchmark MAPE on the test set : {bench_res:.0f} %')"
   ]
  },
  {
   "cell_type": "markdown",
   "id": "ae8997f4",
   "metadata": {},
   "source": [
    "## Imports for model\n"
   ]
  },
  {
   "cell_type": "code",
   "execution_count": 41,
   "id": "b253328a",
   "metadata": {},
   "outputs": [
    {
     "name": "stderr",
     "output_type": "stream",
     "text": [
      "2021-12-01 15:20:14.536255: W tensorflow/stream_executor/platform/default/dso_loader.cc:64] Could not load dynamic library 'libcudart.so.11.0'; dlerror: libcudart.so.11.0: cannot open shared object file: No such file or directory\n",
      "2021-12-01 15:20:14.536402: I tensorflow/stream_executor/cuda/cudart_stub.cc:29] Ignore above cudart dlerror if you do not have a GPU set up on your machine.\n"
     ]
    }
   ],
   "source": [
    "from tensorflow.keras import models\n",
    "from tensorflow.keras import layers\n",
    "from tensorflow.keras import optimizers, metrics\n",
    "from tensorflow.keras.layers.experimental.preprocessing import Normalization\n",
    "from tensorflow.keras.callbacks import EarlyStopping\n",
    "import matplotlib.pyplot as plt"
   ]
  },
  {
   "cell_type": "markdown",
   "id": "eeb13e75",
   "metadata": {},
   "source": [
    "## simple LSTM"
   ]
  },
  {
   "cell_type": "code",
   "execution_count": 42,
   "id": "eca16b46",
   "metadata": {},
   "outputs": [],
   "source": [
    "def init_model():\n",
    "    \n",
    "    # Metrics and optimizers\n",
    "    metric = metrics.MAPE\n",
    "    opt = optimizers.RMSprop(learning_rate=0.01)\n",
    "    \n",
    "    # Architecture\n",
    "    \n",
    "    ## Initialising\n",
    "    model = models.Sequential()\n",
    "    \n",
    "    ## LSTM layer\n",
    "    model.add(layers.LSTM(20, activation='tanh'))\n",
    "    \n",
    "    ## Hidden Dense Layer\n",
    "    model.add(layers.Dense(5, activation='relu'))\n",
    "    \n",
    "    ## Predictive layer : only one neuron because we are predicting the NEXT POINT\n",
    "    model.add(layers.Dense(1, activation='linear')) # REPLACE 1 WITH HORIZON\n",
    "    \n",
    "    model.compile(loss='mse', \n",
    "                  optimizer=opt, \n",
    "                  metrics=[metric])\n",
    "    \n",
    "    return model"
   ]
  },
  {
   "cell_type": "code",
   "execution_count": 43,
   "id": "dc8c288f",
   "metadata": {},
   "outputs": [
    {
     "name": "stderr",
     "output_type": "stream",
     "text": [
      "2021-12-01 15:20:21.232845: W tensorflow/stream_executor/platform/default/dso_loader.cc:64] Could not load dynamic library 'libcuda.so.1'; dlerror: libcuda.so.1: cannot open shared object file: No such file or directory\n",
      "2021-12-01 15:20:21.233019: W tensorflow/stream_executor/cuda/cuda_driver.cc:269] failed call to cuInit: UNKNOWN ERROR (303)\n",
      "2021-12-01 15:20:21.233088: I tensorflow/stream_executor/cuda/cuda_diagnostics.cc:156] kernel driver does not appear to be running on this host (DESKTOP-47G28MR): /proc/driver/nvidia/version does not exist\n",
      "2021-12-01 15:20:21.233888: I tensorflow/core/platform/cpu_feature_guard.cc:151] This TensorFlow binary is optimized with oneAPI Deep Neural Network Library (oneDNN) to use the following CPU instructions in performance-critical operations:  AVX2 FMA\n",
      "To enable them in other operations, rebuild TensorFlow with the appropriate compiler flags.\n"
     ]
    }
   ],
   "source": [
    "model = init_model()"
   ]
  },
  {
   "cell_type": "code",
   "execution_count": null,
   "id": "0813c955",
   "metadata": {},
   "outputs": [],
   "source": []
  },
  {
   "cell_type": "code",
   "execution_count": 44,
   "id": "cadb2500",
   "metadata": {},
   "outputs": [],
   "source": [
    "number_of_rows = len(X_train)\n",
    "validation_split = 0.2"
   ]
  },
  {
   "cell_type": "code",
   "execution_count": 45,
   "id": "ae40ecec",
   "metadata": {},
   "outputs": [
    {
     "data": {
      "text/plain": [
       "160.0"
      ]
     },
     "execution_count": 45,
     "metadata": {},
     "output_type": "execute_result"
    }
   ],
   "source": [
    "#number of rows in train\n",
    "number_of_rows_train_train = number_of_rows * (1 - validation_split)\n",
    "number_of_rows_train_train"
   ]
  },
  {
   "cell_type": "code",
   "execution_count": 46,
   "id": "eda77d8b",
   "metadata": {},
   "outputs": [
    {
     "data": {
      "text/plain": [
       "3.0"
      ]
     },
     "execution_count": 46,
     "metadata": {},
     "output_type": "execute_result"
    }
   ],
   "source": [
    "#number of epochs\n",
    "np.ceil(160/64)"
   ]
  },
  {
   "cell_type": "code",
   "execution_count": 47,
   "id": "e27babb3",
   "metadata": {},
   "outputs": [
    {
     "data": {
      "text/plain": [
       "3"
      ]
     },
     "execution_count": 47,
     "metadata": {},
     "output_type": "execute_result"
    }
   ],
   "source": [
    "batch_size = 64\n",
    "number_of_iterations_per_epoch = int(np.ceil(len(X_train) / batch_size * (1-validation_split)))\n",
    "number_of_iterations_per_epoch"
   ]
  },
  {
   "cell_type": "code",
   "execution_count": 48,
   "id": "f67c23b7",
   "metadata": {},
   "outputs": [
    {
     "name": "stdout",
     "output_type": "stream",
     "text": [
      "Epoch 1/2\n",
      "3/3 [==============================] - 11s 1s/step - loss: 0.3046 - mean_absolute_percentage_error: 131.5112 - val_loss: 0.0219 - val_mean_absolute_percentage_error: 52.4705\n",
      "Epoch 2/2\n",
      "3/3 [==============================] - 0s 161ms/step - loss: 0.0224 - mean_absolute_percentage_error: 47.4630 - val_loss: 0.0174 - val_mean_absolute_percentage_error: 40.9202\n"
     ]
    }
   ],
   "source": [
    "es = EarlyStopping(monitor ='val_loss',\n",
    "                   patience=10,\n",
    "                   restore_best_weights = True)\n",
    "\n",
    "history = model.fit(X_train,\n",
    "                    y_train,\n",
    "                    validation_split=0.2,\n",
    "                    epochs=2, \n",
    "                    batch_size=64,\n",
    "                    # callbacks=[es],\n",
    "                    verbose=1)"
   ]
  },
  {
   "cell_type": "code",
   "execution_count": 49,
   "id": "3b195731",
   "metadata": {},
   "outputs": [
    {
     "name": "stdout",
     "output_type": "stream",
     "text": [
      "Model: \"sequential\"\n",
      "_________________________________________________________________\n",
      " Layer (type)                Output Shape              Param #   \n",
      "=================================================================\n",
      " lstm (LSTM)                 (None, 20)                1920      \n",
      "                                                                 \n",
      " dense (Dense)               (None, 5)                 105       \n",
      "                                                                 \n",
      " dense_1 (Dense)             (None, 1)                 6         \n",
      "                                                                 \n",
      "=================================================================\n",
      "Total params: 2,031\n",
      "Trainable params: 2,031\n",
      "Non-trainable params: 0\n",
      "_________________________________________________________________\n"
     ]
    }
   ],
   "source": [
    "model.summary()"
   ]
  },
  {
   "cell_type": "code",
   "execution_count": 50,
   "id": "01938e69",
   "metadata": {},
   "outputs": [
    {
     "data": {
      "text/plain": [
       "[<matplotlib.lines.Line2D at 0x7fe2983c3190>]"
      ]
     },
     "execution_count": 50,
     "metadata": {},
     "output_type": "execute_result"
    },
    {
     "data": {
      "image/png": "[encoded data removed]",
      "text/plain": [
       "<Figure size 432x288 with 1 Axes>"
      ]
     },
     "metadata": {
      "needs_background": "light"
     },
     "output_type": "display_data"
    }
   ],
   "source": [
    "plt.plot(history.history['mean_absolute_percentage_error'])\n",
    "plt.plot(history.history['val_mean_absolute_percentage_error'])"
   ]
  },
  {
   "cell_type": "code",
   "execution_count": 51,
   "id": "e16a67b4",
   "metadata": {},
   "outputs": [
    {
     "name": "stdout",
     "output_type": "stream",
     "text": [
      "4/4 [==============================] - 0s 37ms/step - loss: 0.0320 - mean_absolute_percentage_error: 19.7073\n",
      "MAPE on the test set : 20 %\n"
     ]
    }
   ],
   "source": [
    "res = model.evaluate(X_test, y_test, verbose=1)\n",
    "\n",
    "print(f'MAPE on the test set : {res[1]:.0f} %')"
   ]
  },
  {
   "cell_type": "markdown",
   "id": "1fa24f95",
   "metadata": {},
   "source": [
    "## Improved Model"
   ]
  },
  {
   "cell_type": "code",
   "execution_count": 52,
   "id": "a8e7296e",
   "metadata": {},
   "outputs": [],
   "source": [
    "def init_model_2():\n",
    "    metric = metrics.MAPE\n",
    "    opt = optimizers.RMSprop(learning_rate=0.005)\n",
    "    \n",
    "    model = models.Sequential()\n",
    "    \n",
    "    model.add(layers.LSTM(20, return_sequences=True, activation='tanh'))\n",
    "    model.add(layers.LSTM(10, activation='tanh'))\n",
    "    \n",
    "    model.add(layers.Dense(5, activation='relu'))\n",
    "    model.add(layers.Dense(1, activation='linear'))\n",
    "    \n",
    "    model.compile(loss='mse', \n",
    "                  optimizer=opt, \n",
    "                  metrics=[metric])\n",
    "    \n",
    "    return model"
   ]
  },
  {
   "cell_type": "code",
   "execution_count": 53,
   "id": "de945b77",
   "metadata": {},
   "outputs": [
    {
     "name": "stdout",
     "output_type": "stream",
     "text": [
      "Epoch 1/5\n",
      "5/5 [==============================] - 19s 1s/step - loss: 0.1170 - mean_absolute_percentage_error: 87.9702 - val_loss: 0.0236 - val_mean_absolute_percentage_error: 48.9054\n",
      "Epoch 2/5\n",
      "5/5 [==============================] - 1s 233ms/step - loss: 0.0250 - mean_absolute_percentage_error: 49.4600 - val_loss: 0.0200 - val_mean_absolute_percentage_error: 43.2140\n",
      "Epoch 3/5\n",
      "5/5 [==============================] - 1s 253ms/step - loss: 0.0190 - mean_absolute_percentage_error: 41.9379 - val_loss: 0.0183 - val_mean_absolute_percentage_error: 38.8840\n",
      "Epoch 4/5\n",
      "5/5 [==============================] - 1s 242ms/step - loss: 0.0255 - mean_absolute_percentage_error: 43.3306 - val_loss: 0.0399 - val_mean_absolute_percentage_error: 36.6654\n",
      "Epoch 5/5\n",
      "5/5 [==============================] - 1s 238ms/step - loss: 0.0229 - mean_absolute_percentage_error: 42.4100 - val_loss: 0.0195 - val_mean_absolute_percentage_error: 30.6028\n"
     ]
    }
   ],
   "source": [
    "model_2 = init_model_2()\n",
    "\n",
    "es = EarlyStopping(monitor='val_loss', patience=5, restore_best_weights=True)\n",
    "\n",
    "history_2 = model_2.fit(X_train, y_train,\n",
    "            validation_split=0.3,\n",
    "            epochs=5, \n",
    "            batch_size=32,\n",
    "            callbacks=[es], verbose=1)"
   ]
  },
  {
   "cell_type": "code",
   "execution_count": 54,
   "id": "cfa1cf7e",
   "metadata": {},
   "outputs": [
    {
     "data": {
      "text/plain": [
       "[<matplotlib.lines.Line2D at 0x7fe298f32a90>]"
      ]
     },
     "execution_count": 54,
     "metadata": {},
     "output_type": "execute_result"
    },
    {
     "data": {
      "image/png": "[encoded data removed]",
      "text/plain": [
       "<Figure size 432x288 with 1 Axes>"
      ]
     },
     "metadata": {
      "needs_background": "light"
     },
     "output_type": "display_data"
    }
   ],
   "source": [
    "import matplotlib.pyplot as plt\n",
    "plt.plot(history_2.history['mean_absolute_percentage_error'])\n",
    "plt.plot(history_2.history['val_mean_absolute_percentage_error'])"
   ]
  },
  {
   "cell_type": "code",
   "execution_count": 55,
   "id": "2faae1f4",
   "metadata": {},
   "outputs": [
    {
     "name": "stdout",
     "output_type": "stream",
     "text": [
      "4/4 [==============================] - 0s 63ms/step - loss: 0.0326 - mean_absolute_percentage_error: 20.9842\n",
      "MAPE on the test set : 21 %\n"
     ]
    }
   ],
   "source": [
    "res = model_2.evaluate(X_test, y_test, verbose=1)\n",
    "\n",
    "print(f'MAPE on the test set : {res[1]:.0f} %')"
   ]
  },
  {
   "cell_type": "code",
   "execution_count": 56,
   "id": "1976a5ba",
   "metadata": {},
   "outputs": [
    {
     "data": {
      "text/plain": [
       "((100, 29, 3), (100,))"
      ]
     },
     "execution_count": 56,
     "metadata": {},
     "output_type": "execute_result"
    }
   ],
   "source": [
    "X_test.shape, y_test.shape"
   ]
  },
  {
   "cell_type": "code",
   "execution_count": 57,
   "id": "4f7745e9",
   "metadata": {},
   "outputs": [
    {
     "data": {
      "text/plain": [
       "(100, 1)"
      ]
     },
     "execution_count": 57,
     "metadata": {},
     "output_type": "execute_result"
    }
   ],
   "source": [
    "predictions_2 = model_2.predict(X_test)\n",
    "predictions_2.shape"
   ]
  },
  {
   "cell_type": "code",
   "execution_count": 58,
   "id": "3781f195",
   "metadata": {},
   "outputs": [
    {
     "data": {
      "text/plain": [
       "array([[3265.6296],\n",
       "       [3248.452 ],\n",
       "       [3313.2808],\n",
       "       [3385.4119],\n",
       "       [3250.6675],\n",
       "       [3315.1252],\n",
       "       [3369.8047],\n",
       "       [3391.695 ],\n",
       "       [3323.4495],\n",
       "       [3419.838 ]], dtype=float32)"
      ]
     },
     "execution_count": 58,
     "metadata": {},
     "output_type": "execute_result"
    }
   ],
   "source": [
    "unscaled_predictions_2 = scaler.inverse_transform(predictions_2)\n",
    "unscaled_predictions_2[0:10] # showing 10 predictions in the test set out of 100 "
   ]
  },
  {
   "cell_type": "code",
   "execution_count": 60,
   "id": "1ba87717",
   "metadata": {},
   "outputs": [
    {
     "data": {
      "text/plain": [
       "(100, 1)"
      ]
     },
     "execution_count": 60,
     "metadata": {},
     "output_type": "execute_result"
    }
   ],
   "source": [
    "y_test.reshape(-1,1).shape"
   ]
  },
  {
   "cell_type": "code",
   "execution_count": 76,
   "id": "b925fdcc",
   "metadata": {},
   "outputs": [],
   "source": [
    "X, y = get_X_y(df, len(df), 30)"
   ]
  },
  {
   "cell_type": "code",
   "execution_count": 77,
   "id": "3c869110",
   "metadata": {},
   "outputs": [
    {
     "data": {
      "text/plain": [
       "((385, 29, 3), (385,))"
      ]
     },
     "execution_count": 77,
     "metadata": {},
     "output_type": "execute_result"
    }
   ],
   "source": [
    "X.shape, y.shape"
   ]
  },
  {
   "cell_type": "code",
   "execution_count": 78,
   "id": "4047b058",
   "metadata": {},
   "outputs": [
    {
     "data": {
      "text/plain": [
       "array([[0.3691427 ],\n",
       "       [0.4590493 ],\n",
       "       [0.36217627],\n",
       "       [0.4535021 ],\n",
       "       [0.43706188],\n",
       "       [0.647418  ],\n",
       "       [0.2351782 ],\n",
       "       [0.36017302],\n",
       "       [0.47573406],\n",
       "       [0.26065588]], dtype=float32)"
      ]
     },
     "execution_count": 78,
     "metadata": {},
     "output_type": "execute_result"
    }
   ],
   "source": [
    "predictions_X = model_2.predict(X)\n",
    "predictions_X[:10]"
   ]
  },
  {
   "cell_type": "code",
   "execution_count": 79,
   "id": "95783ba4",
   "metadata": {},
   "outputs": [
    {
     "data": {
      "text/plain": [
       "array([[3239.682 ],\n",
       "       [3309.7605],\n",
       "       [3234.2517],\n",
       "       [3305.4368],\n",
       "       [3292.6223],\n",
       "       [3456.5864],\n",
       "       [3135.262 ],\n",
       "       [3232.6904],\n",
       "       [3322.7656],\n",
       "       [3155.1208]], dtype=float32)"
      ]
     },
     "execution_count": 79,
     "metadata": {},
     "output_type": "execute_result"
    }
   ],
   "source": [
    "unscaled_predictions_X = scaler.inverse_transform(predictions_X)\n",
    "unscaled_predictions_X[:10]"
   ]
  },
  {
   "cell_type": "code",
   "execution_count": 86,
   "id": "982ef109",
   "metadata": {},
   "outputs": [
    {
     "data": {
      "text/html": [
       "<div>\n",
       "<style scoped>\n",
       "    .dataframe tbody tr th:only-of-type {\n",
       "        vertical-align: middle;\n",
       "    }\n",
       "\n",
       "    .dataframe tbody tr th {\n",
       "        vertical-align: top;\n",
       "    }\n",
       "\n",
       "    .dataframe thead th {\n",
       "        text-align: right;\n",
       "    }\n",
       "</style>\n",
       "<table border=\"1\" class=\"dataframe\">\n",
       "  <thead>\n",
       "    <tr style=\"text-align: right;\">\n",
       "      <th></th>\n",
       "      <th>AMZN</th>\n",
       "    </tr>\n",
       "  </thead>\n",
       "  <tbody>\n",
       "    <tr>\n",
       "      <th>0</th>\n",
       "      <td>3004.48</td>\n",
       "    </tr>\n",
       "    <tr>\n",
       "      <th>1</th>\n",
       "      <td>3048.41</td>\n",
       "    </tr>\n",
       "    <tr>\n",
       "      <th>2</th>\n",
       "      <td>3241.16</td>\n",
       "    </tr>\n",
       "    <tr>\n",
       "      <th>3</th>\n",
       "      <td>3322.00</td>\n",
       "    </tr>\n",
       "    <tr>\n",
       "      <th>4</th>\n",
       "      <td>3311.37</td>\n",
       "    </tr>\n",
       "    <tr>\n",
       "      <th>...</th>\n",
       "      <td>...</td>\n",
       "    </tr>\n",
       "    <tr>\n",
       "      <th>380</th>\n",
       "      <td>3676.57</td>\n",
       "    </tr>\n",
       "    <tr>\n",
       "      <th>381</th>\n",
       "      <td>3572.57</td>\n",
       "    </tr>\n",
       "    <tr>\n",
       "      <th>382</th>\n",
       "      <td>3572.57</td>\n",
       "    </tr>\n",
       "    <tr>\n",
       "      <th>383</th>\n",
       "      <td>3572.57</td>\n",
       "    </tr>\n",
       "    <tr>\n",
       "      <th>384</th>\n",
       "      <td>3572.57</td>\n",
       "    </tr>\n",
       "  </tbody>\n",
       "</table>\n",
       "<p>385 rows × 1 columns</p>\n",
       "</div>"
      ],
      "text/plain": [
       "        AMZN\n",
       "0    3004.48\n",
       "1    3048.41\n",
       "2    3241.16\n",
       "3    3322.00\n",
       "4    3311.37\n",
       "..       ...\n",
       "380  3676.57\n",
       "381  3572.57\n",
       "382  3572.57\n",
       "383  3572.57\n",
       "384  3572.57\n",
       "\n",
       "[385 rows x 1 columns]"
      ]
     },
     "execution_count": 86,
     "metadata": {},
     "output_type": "execute_result"
    }
   ],
   "source": []
  },
  {
   "cell_type": "code",
   "execution_count": 89,
   "id": "a395ce35",
   "metadata": {},
   "outputs": [
    {
     "name": "stderr",
     "output_type": "stream",
     "text": [
      "/tmp/ipykernel_3117/1919949454.py:2: SettingWithCopyWarning: \n",
      "A value is trying to be set on a copy of a slice from a DataFrame.\n",
      "Try using .loc[row_indexer,col_indexer] = value instead\n",
      "\n",
      "See the caveats in the documentation: https://pandas.pydata.org/pandas-docs/stable/user_guide/indexing.html#returning-a-view-versus-a-copy\n",
      "  df_true_pred[\"predictions\"]=unscaled_predictions_X\n"
     ]
    }
   ],
   "source": [
    "\n",
    "df_true_pred = merged_df[[\"date\", \"AMZN\"]]\n",
    "df_true_pred[\"predictions\"]=unscaled_predictions_X\n"
   ]
  },
  {
   "cell_type": "code",
   "execution_count": 92,
   "id": "5927359e",
   "metadata": {},
   "outputs": [
    {
     "data": {
      "text/html": [
       "<div>\n",
       "<style scoped>\n",
       "    .dataframe tbody tr th:only-of-type {\n",
       "        vertical-align: middle;\n",
       "    }\n",
       "\n",
       "    .dataframe tbody tr th {\n",
       "        vertical-align: top;\n",
       "    }\n",
       "\n",
       "    .dataframe thead th {\n",
       "        text-align: right;\n",
       "    }\n",
       "</style>\n",
       "<table border=\"1\" class=\"dataframe\">\n",
       "  <thead>\n",
       "    <tr style=\"text-align: right;\">\n",
       "      <th></th>\n",
       "      <th>date</th>\n",
       "      <th>AMZN</th>\n",
       "      <th>predictions</th>\n",
       "      <th>ticker</th>\n",
       "    </tr>\n",
       "  </thead>\n",
       "  <tbody>\n",
       "    <tr>\n",
       "      <th>0</th>\n",
       "      <td>2020-11-02</td>\n",
       "      <td>3004.48</td>\n",
       "      <td>3239.681885</td>\n",
       "      <td>AMZN</td>\n",
       "    </tr>\n",
       "    <tr>\n",
       "      <th>1</th>\n",
       "      <td>2020-11-03</td>\n",
       "      <td>3048.41</td>\n",
       "      <td>3309.760498</td>\n",
       "      <td>AMZN</td>\n",
       "    </tr>\n",
       "    <tr>\n",
       "      <th>2</th>\n",
       "      <td>2020-11-04</td>\n",
       "      <td>3241.16</td>\n",
       "      <td>3234.251709</td>\n",
       "      <td>AMZN</td>\n",
       "    </tr>\n",
       "    <tr>\n",
       "      <th>3</th>\n",
       "      <td>2020-11-05</td>\n",
       "      <td>3322.00</td>\n",
       "      <td>3305.436768</td>\n",
       "      <td>AMZN</td>\n",
       "    </tr>\n",
       "    <tr>\n",
       "      <th>4</th>\n",
       "      <td>2020-11-06</td>\n",
       "      <td>3311.37</td>\n",
       "      <td>3292.622314</td>\n",
       "      <td>AMZN</td>\n",
       "    </tr>\n",
       "  </tbody>\n",
       "</table>\n",
       "</div>"
      ],
      "text/plain": [
       "         date     AMZN  predictions ticker\n",
       "0  2020-11-02  3004.48  3239.681885   AMZN\n",
       "1  2020-11-03  3048.41  3309.760498   AMZN\n",
       "2  2020-11-04  3241.16  3234.251709   AMZN\n",
       "3  2020-11-05  3322.00  3305.436768   AMZN\n",
       "4  2020-11-06  3311.37  3292.622314   AMZN"
      ]
     },
     "execution_count": 92,
     "metadata": {},
     "output_type": "execute_result"
    }
   ],
   "source": [
    "df_true_pred.head()"
   ]
  },
  {
   "cell_type": "code",
   "execution_count": 94,
   "id": "ec4923cb",
   "metadata": {},
   "outputs": [
    {
     "data": {
      "text/plain": [
       "<AxesSubplot:>"
      ]
     },
     "execution_count": 94,
     "metadata": {},
     "output_type": "execute_result"
    },
    {
     "data": {
      "image/png": "[encoded data removed]",
      "text/plain": [
       "<Figure size 432x288 with 1 Axes>"
      ]
     },
     "metadata": {
      "needs_background": "light"
     },
     "output_type": "display_data"
    }
   ],
   "source": [
    "df_true_pred.plot()"
   ]
  },
  {
   "cell_type": "code",
   "execution_count": 91,
   "id": "f5893264",
   "metadata": {},
   "outputs": [],
   "source": [
    "df_true_pred[\"ticker\"] = \"AMZN\""
   ]
  },
  {
   "cell_type": "code",
   "execution_count": 93,
   "id": "114c682a",
   "metadata": {},
   "outputs": [],
   "source": [
    "df_true_pred.to_csv(\"LSTM_3features_AMZN\")"
   ]
  },
  {
   "cell_type": "markdown",
   "id": "f31901a4",
   "metadata": {},
   "source": [
    "## Check Performance of the models"
   ]
  },
  {
   "cell_type": "code",
   "execution_count": 61,
   "id": "5906e687",
   "metadata": {},
   "outputs": [],
   "source": [
    "def train_model(nb_sequences=200, nb_days=30, plot_history=True,epochs = 10):\n",
    "    \n",
    "    X_train, y_train = get_X_y(df_train, nb_sequences, nb_days)\n",
    "    X_test, y_test = get_X_y(df_test, round(nb_sequences/2), nb_days)\n",
    "\n",
    "    metric = metrics.MAPE\n",
    "    opt = optimizers.RMSprop(learning_rate=0.01)\n",
    "\n",
    "    model = models.Sequential()\n",
    "    model.add(layers.LSTM(20, return_sequences=True, activation='tanh'))\n",
    "    model.add(layers.LSTM(10, activation='tanh'))\n",
    "    model.add(layers.Dense(5, activation='relu'))\n",
    "    model.add(layers.Dense(1, activation='linear'))\n",
    "\n",
    "    model.compile(loss='mse', \n",
    "                  optimizer=opt, \n",
    "                  metrics=[metric])\n",
    "\n",
    "\n",
    "    es = EarlyStopping(monitor='val_loss', patience=5, restore_best_weights=True)\n",
    "\n",
    "    history = model.fit(X_train, y_train,\n",
    "            validation_split=0.3,\n",
    "            epochs=epochs, \n",
    "            batch_size=32,\n",
    "            callbacks=[es],\n",
    "            verbose=1)\n",
    "\n",
    "    if plot_history:\n",
    "        plt.plot(history.history['mean_absolute_percentage_error'])\n",
    "        plt.plot(history.history['val_mean_absolute_percentage_error'])\n",
    "        plt.show()\n",
    "\n",
    "    res = model.evaluate(X_test, y_test, verbose=1)\n",
    "    print(f'MAPE on the test set : {res[1]:.0f} %')\n",
    "    return res"
   ]
  },
  {
   "cell_type": "code",
   "execution_count": 140,
   "id": "15eb170a",
   "metadata": {},
   "outputs": [
    {
     "name": "stdout",
     "output_type": "stream",
     "text": [
      "Epoch 1/10\n",
      "5/5 [==============================] - 5s 222ms/step - loss: 0.1355 - mean_absolute_percentage_error: 78.1527 - val_loss: 0.0418 - val_mean_absolute_percentage_error: 58.2556\n",
      "Epoch 2/10\n",
      "5/5 [==============================] - 0s 27ms/step - loss: 0.0395 - mean_absolute_percentage_error: 47.9022 - val_loss: 0.0566 - val_mean_absolute_percentage_error: 78.4917\n",
      "Epoch 3/10\n",
      "5/5 [==============================] - 0s 28ms/step - loss: 0.0440 - mean_absolute_percentage_error: 50.2554 - val_loss: 0.0459 - val_mean_absolute_percentage_error: 32.5050\n",
      "Epoch 4/10\n",
      "5/5 [==============================] - 0s 30ms/step - loss: 0.0402 - mean_absolute_percentage_error: 45.7380 - val_loss: 0.0180 - val_mean_absolute_percentage_error: 24.1609\n",
      "Epoch 5/10\n",
      "5/5 [==============================] - 0s 28ms/step - loss: 0.0338 - mean_absolute_percentage_error: 35.2720 - val_loss: 0.0244 - val_mean_absolute_percentage_error: 48.8844\n",
      "Epoch 6/10\n",
      "5/5 [==============================] - 0s 31ms/step - loss: 0.0314 - mean_absolute_percentage_error: 38.0139 - val_loss: 0.0136 - val_mean_absolute_percentage_error: 24.1782\n",
      "Epoch 7/10\n",
      "5/5 [==============================] - 0s 26ms/step - loss: 0.0091 - mean_absolute_percentage_error: 22.7981 - val_loss: 0.0109 - val_mean_absolute_percentage_error: 27.9472\n",
      "Epoch 8/10\n",
      "5/5 [==============================] - 0s 29ms/step - loss: 0.0251 - mean_absolute_percentage_error: 33.4336 - val_loss: 0.0177 - val_mean_absolute_percentage_error: 27.3043\n",
      "Epoch 9/10\n",
      "5/5 [==============================] - 0s 30ms/step - loss: 0.0315 - mean_absolute_percentage_error: 41.0576 - val_loss: 0.0118 - val_mean_absolute_percentage_error: 28.6186\n",
      "Epoch 10/10\n",
      "5/5 [==============================] - 0s 31ms/step - loss: 0.0098 - mean_absolute_percentage_error: 24.2460 - val_loss: 0.0484 - val_mean_absolute_percentage_error: 56.0104\n"
     ]
    },
    {
     "data": {
      "image/png": "[encoded data removed]",
      "text/plain": [
       "<Figure size 432x288 with 1 Axes>"
      ]
     },
     "metadata": {
      "needs_background": "light"
     },
     "output_type": "display_data"
    },
    {
     "name": "stdout",
     "output_type": "stream",
     "text": [
      "4/4 [==============================] - 0s 4ms/step - loss: 0.0487 - mean_absolute_percentage_error: 33.6792\n",
      "MAPE on the test set : 34 %\n"
     ]
    },
    {
     "data": {
      "text/plain": [
       "[0.048741456121206284, 33.679195404052734]"
      ]
     },
     "execution_count": 140,
     "metadata": {},
     "output_type": "execute_result"
    }
   ],
   "source": [
    "train_model(nb_sequences=200, nb_days=30, plot_history=True)"
   ]
  },
  {
   "cell_type": "markdown",
   "id": "2e3d8248",
   "metadata": {},
   "source": [
    "## manual Grid Search LSTM"
   ]
  },
  {
   "cell_type": "code",
   "execution_count": null,
   "id": "96dc0c2e",
   "metadata": {},
   "outputs": [],
   "source": [
    "nb_days_grid = [12,30,60]\n",
    "nb_sequences_grid = [12, 50, 100]\n",
    "MAPE = []"
   ]
  },
  {
   "cell_type": "code",
   "execution_count": null,
   "id": "1813dbb5",
   "metadata": {},
   "outputs": [],
   "source": [
    "for nb_days in nb_days_grid:\n",
    "    for nb_sequences in nb_sequences_grid:\n",
    "        res = train_model(nb_sequences=nb_sequences, nb_days=nb_days)\n",
    "        MAPE.append((nb_days, nb_sequences, res[1]))\n",
    "        print(f'For {nb_sequences} sequences and {nb_days} days of observation, the MAPE is of {res[1]:.0f} %')"
   ]
  },
  {
   "cell_type": "code",
   "execution_count": null,
   "id": "623cc199",
   "metadata": {},
   "outputs": [],
   "source": [
    "MAPE"
   ]
  },
  {
   "cell_type": "code",
   "execution_count": null,
   "id": "550588e5",
   "metadata": {},
   "outputs": [],
   "source": [
    "import matplotlib\n",
    "x = [res[0] for res in MAPE] # n_days\n",
    "y = [res[1] for res in MAPE] # n_seq\n",
    "c = [res[2] for res in MAPE] # MAPE  \n",
    "plt.scatter(x, y, c=c, norm=matplotlib.colors.Normalize(clip=False), cmap='coolwarm') # vmin=20, vmax=50, "
   ]
  },
  {
   "cell_type": "code",
   "execution_count": null,
   "id": "0666490c",
   "metadata": {},
   "outputs": [],
   "source": [
    "# sns.heatmap(data= x, y, c=c)"
   ]
  },
  {
   "cell_type": "markdown",
   "id": "d7b4d9ec",
   "metadata": {},
   "source": [
    "## Test LSTM with prediction"
   ]
  },
  {
   "cell_type": "code",
   "execution_count": 69,
   "id": "340ce2ef",
   "metadata": {},
   "outputs": [],
   "source": [
    "def train_model_predict(nb_sequences=12, nb_days=30, plot_history=False):\n",
    "    X_train, y_train = get_X_y(df_train, nb_sequences, nb_days)\n",
    "    X_test, y_test = get_X_y(df_test, round(nb_sequences*0.2), nb_days)\n",
    "\n",
    "    metric = metrics.MAPE\n",
    "    opt = optimizers.RMSprop(learning_rate=0.01)\n",
    "\n",
    "    model = models.Sequential()\n",
    "    model.add(layers.LSTM(20, return_sequences=True, activation='tanh'))\n",
    "    model.add(layers.LSTM(10, activation='tanh'))\n",
    "    model.add(layers.Dense(5, activation='relu'))\n",
    "    model.add(layers.Dense(1, activation='linear'))\n",
    "\n",
    "    model.compile(loss='mse', \n",
    "                  optimizer=opt, \n",
    "                  metrics=[metric])\n",
    "\n",
    "\n",
    "    es = EarlyStopping(monitor='val_loss', patience=5, restore_best_weights=True)\n",
    "\n",
    "    history = model.fit(X_train, y_train,\n",
    "            validation_split=0.3,\n",
    "            epochs=1000, \n",
    "            batch_size=64,\n",
    "            callbacks=[es],\n",
    "            verbose=0)\n",
    "\n",
    "    if plot_history:\n",
    "        plt.plot(history.history['mean_absolute_percentage_error'])\n",
    "        plt.plot(history.history['val_mean_absolute_percentage_error'])\n",
    "        plt.show()\n",
    "\n",
    "    res = model.evaluate(X_test, y_test, verbose=0)\n",
    "    y_pred = model.predict(X_test)\n",
    "    return res, y_pred"
   ]
  },
  {
   "cell_type": "code",
   "execution_count": 70,
   "id": "bc11a6ab",
   "metadata": {},
   "outputs": [],
   "source": [
    "result = train_model_predict(nb_sequences=12, nb_days=30, plot_history=False)\n"
   ]
  },
  {
   "cell_type": "code",
   "execution_count": 71,
   "id": "06f93718",
   "metadata": {},
   "outputs": [
    {
     "data": {
      "text/plain": [
       "([0.05257798358798027, 29.545623779296875],\n",
       " array([[0.45786142],\n",
       "        [0.5031962 ]], dtype=float32))"
      ]
     },
     "execution_count": 71,
     "metadata": {},
     "output_type": "execute_result"
    }
   ],
   "source": [
    "result"
   ]
  },
  {
   "cell_type": "code",
   "execution_count": 72,
   "id": "50bc5ea4",
   "metadata": {},
   "outputs": [],
   "source": [
    "result_1  = result[1][0]\n",
    "result_1 = result_1.reshape(-1, 1)"
   ]
  },
  {
   "cell_type": "code",
   "execution_count": null,
   "id": "ae0fdbcb",
   "metadata": {},
   "outputs": [],
   "source": [
    "y_pred = scaler.inverse_transform(result_1)"
   ]
  },
  {
   "cell_type": "code",
   "execution_count": null,
   "id": "f97760ba",
   "metadata": {},
   "outputs": [],
   "source": [
    "y_pred[0][0]"
   ]
  },
  {
   "cell_type": "code",
   "execution_count": null,
   "id": "0c8a15f3",
   "metadata": {},
   "outputs": [],
   "source": [
    "scaler.inverse_transform(X_test[0])"
   ]
  },
  {
   "cell_type": "code",
   "execution_count": null,
   "id": "d6184e4c",
   "metadata": {},
   "outputs": [],
   "source": [
    "scaler.inverse_transform(y_test.reshape(-1, 1))"
   ]
  },
  {
   "cell_type": "code",
   "execution_count": null,
   "id": "38dcaa20",
   "metadata": {},
   "outputs": [],
   "source": [
    "def train_model_predict(nb_sequences=12, nb_days=30, plot_history=False):\n",
    "    X_train, y_train = get_X_y(df_train, nb_sequences, nb_days)\n",
    "    X_test, y_test = get_X_y(df_test, round(nb_sequences*0.2), nb_days)\n",
    "\n",
    "    metric = metrics.MAPE\n",
    "    opt = optimizers.RMSprop(learning_rate=0.01)\n",
    "\n",
    "    model = models.Sequential()\n",
    "    model.add(layers.LSTM(20, return_sequences=True, activation='tanh'))\n",
    "    model.add(layers.LSTM(10, activation='tanh'))\n",
    "    model.add(layers.Dense(5, activation='relu'))\n",
    "    model.add(layers.Dense(1, activation='linear'))\n",
    "\n",
    "    model.compile(loss='mse', \n",
    "                  optimizer=opt, \n",
    "                  metrics=[metric])\n",
    "\n",
    "\n",
    "    es = EarlyStopping(monitor='val_loss', patience=5, restore_best_weights=True)\n",
    "\n",
    "    history = model.fit(X_train, y_train,\n",
    "            validation_split=0.3,\n",
    "            epochs=1000, \n",
    "            batch_size=64,\n",
    "            callbacks=[es],\n",
    "            verbose=0)\n",
    "\n",
    "    if plot_history:\n",
    "        plt.plot(history.history['mean_absolute_percentage_error'])\n",
    "        plt.plot(history.history['val_mean_absolute_percentage_error'])\n",
    "        plt.show()\n",
    "\n",
    "    return model\n",
    "\n",
    "model = train_model_predict(X_test)"
   ]
  },
  {
   "cell_type": "code",
   "execution_count": null,
   "id": "167d4523",
   "metadata": {},
   "outputs": [],
   "source": [
    "X_test"
   ]
  },
  {
   "cell_type": "markdown",
   "id": "4754c253",
   "metadata": {},
   "source": [
    "## Plot the results"
   ]
  },
  {
   "cell_type": "code",
   "execution_count": null,
   "id": "8bf4d75d",
   "metadata": {},
   "outputs": [],
   "source": [
    "plt.figure(figsize=(20, 6))\n",
    "plt.plot(y_test_transformed, color = 'black', label = 'AMZN Stock Price')\n",
    "plt.plot(predicted_stock_price, color = 'green', label = 'Predicted AMZN Stock Price')\n",
    "plt.title('AMZN Stock Price Prediction')\n",
    "plt.xlabel('Time')\n",
    "plt.ylabel('AMZN Stock Price')\n",
    "plt.legend()\n",
    "plt.show()"
   ]
  }
 ],
 "metadata": {
  "kernelspec": {
   "display_name": "Python 3 (ipykernel)",
   "language": "python",
   "name": "python3"
  },
  "language_info": {
   "codemirror_mode": {
    "name": "ipython",
    "version": 3
   },
   "file_extension": ".py",
   "mimetype": "text/x-python",
   "name": "python",
   "nbconvert_exporter": "python",
   "pygments_lexer": "ipython3",
   "version": "3.8.12"
  },
  "toc": {
   "base_numbering": 1,
   "nav_menu": {},
   "number_sections": true,
   "sideBar": true,
   "skip_h1_title": false,
   "title_cell": "Table of Contents",
   "title_sidebar": "Contents",
   "toc_cell": false,
   "toc_position": {},
   "toc_section_display": true,
   "toc_window_display": true
  },
  "varInspector": {
   "cols": {
    "lenName": 16,
    "lenType": 16,
    "lenVar": 40
   },
   "kernels_config": {
    "python": {
     "delete_cmd_postfix": "",
     "delete_cmd_prefix": "del ",
     "library": "var_list.py",
     "varRefreshCmd": "print(var_dic_list())"
    },
    "r": {
     "delete_cmd_postfix": ") ",
     "delete_cmd_prefix": "rm(",
     "library": "var_list.r",
     "varRefreshCmd": "cat(var_dic_list()) "
    }
   },
   "types_to_exclude": [
    "module",
    "function",
    "builtin_function_or_method",
    "instance",
    "_Feature"
   ],
   "window_display": false
  }
 },
 "nbformat": 4,
 "nbformat_minor": 5
}
