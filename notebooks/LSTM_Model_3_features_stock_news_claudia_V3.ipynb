{
 "cells": [
  {
   "cell_type": "code",
   "execution_count": 1,
   "id": "5fb8eccf",
   "metadata": {},
   "outputs": [],
   "source": [
    "import pandas as pd\n",
    "import numpy as np"
   ]
  },
  {
   "cell_type": "markdown",
   "id": "2e3098e2",
   "metadata": {},
   "source": [
    "## get the stock data "
   ]
  },
  {
   "cell_type": "code",
   "execution_count": 2,
   "id": "8685f628",
   "metadata": {},
   "outputs": [],
   "source": [
    "# get the stock data\n",
    "from google.cloud import storage\n",
    "def get_amazn_stock_data_from_gcp(nrows=10000, local=False, optimize=False, **kwargs):\n",
    "    \"\"\"method to get the training data (or a portion of it) from google cloud bucket\"\"\"\n",
    "    # Add Client() here\n",
    "    client = storage.Client()\n",
    "    if local:\n",
    "        path = \"data/data_data_10Mill.csv\"\n",
    "    else:\n",
    "        path = \"gs://stock-news-pred-bucket/amazon_stock_price.csv\"\n",
    "    df = pd.read_csv(path)#add nrows after if you want to select a specific number of row\n",
    "    return df\n"
   ]
  },
  {
   "cell_type": "code",
   "execution_count": 3,
   "id": "37155041",
   "metadata": {},
   "outputs": [],
   "source": [
    "df_stocks = get_amazn_stock_data_from_gcp()"
   ]
  },
  {
   "cell_type": "code",
   "execution_count": 4,
   "id": "f7c90b5d",
   "metadata": {},
   "outputs": [],
   "source": [
    "df_stocks = df_stocks.sort_values([\"date\"], ascending=True)"
   ]
  },
  {
   "cell_type": "code",
   "execution_count": 5,
   "id": "75e04ba5",
   "metadata": {},
   "outputs": [
    {
     "data": {
      "text/html": [
       "<div>\n",
       "<style scoped>\n",
       "    .dataframe tbody tr th:only-of-type {\n",
       "        vertical-align: middle;\n",
       "    }\n",
       "\n",
       "    .dataframe tbody tr th {\n",
       "        vertical-align: top;\n",
       "    }\n",
       "\n",
       "    .dataframe thead th {\n",
       "        text-align: right;\n",
       "    }\n",
       "</style>\n",
       "<table border=\"1\" class=\"dataframe\">\n",
       "  <thead>\n",
       "    <tr style=\"text-align: right;\">\n",
       "      <th></th>\n",
       "      <th>date</th>\n",
       "      <th>AMZN</th>\n",
       "    </tr>\n",
       "  </thead>\n",
       "  <tbody>\n",
       "    <tr>\n",
       "      <th>5551</th>\n",
       "      <td>1999-11-01</td>\n",
       "      <td>69.13</td>\n",
       "    </tr>\n",
       "    <tr>\n",
       "      <th>5550</th>\n",
       "      <td>1999-11-02</td>\n",
       "      <td>66.44</td>\n",
       "    </tr>\n",
       "    <tr>\n",
       "      <th>5549</th>\n",
       "      <td>1999-11-03</td>\n",
       "      <td>65.81</td>\n",
       "    </tr>\n",
       "    <tr>\n",
       "      <th>5548</th>\n",
       "      <td>1999-11-04</td>\n",
       "      <td>63.06</td>\n",
       "    </tr>\n",
       "    <tr>\n",
       "      <th>5547</th>\n",
       "      <td>1999-11-05</td>\n",
       "      <td>64.94</td>\n",
       "    </tr>\n",
       "  </tbody>\n",
       "</table>\n",
       "</div>"
      ],
      "text/plain": [
       "            date   AMZN\n",
       "5551  1999-11-01  69.13\n",
       "5550  1999-11-02  66.44\n",
       "5549  1999-11-03  65.81\n",
       "5548  1999-11-04  63.06\n",
       "5547  1999-11-05  64.94"
      ]
     },
     "execution_count": 5,
     "metadata": {},
     "output_type": "execute_result"
    }
   ],
   "source": [
    "df_stocks.head()"
   ]
  },
  {
   "cell_type": "markdown",
   "id": "f1e08f91",
   "metadata": {},
   "source": [
    "## get the sentiment data"
   ]
  },
  {
   "cell_type": "code",
   "execution_count": 6,
   "id": "98aadcbd",
   "metadata": {},
   "outputs": [],
   "source": [
    "# get the data from GCP\n",
    "from google.cloud import storage\n",
    "def get_sentiment_news_data_from_gcp(nrows=10000, local=False, optimize=False, **kwargs):\n",
    "    \"\"\"method to get the training data (or a portion of it) from google cloud bucket\"\"\"\n",
    "    # Add Client() here\n",
    "    client = storage.Client()\n",
    "    if local:\n",
    "        path = \"data/data_data_10Mill.csv\"\n",
    "    else:\n",
    "        path = \"gs://stock-news-pred-bucket/final_stocks_sentiment.csv\"\n",
    "    df = pd.read_csv(path)#add nrows after if you want to select a specific number of row\n",
    "    return df"
   ]
  },
  {
   "cell_type": "code",
   "execution_count": 7,
   "id": "32990854",
   "metadata": {},
   "outputs": [],
   "source": [
    "sentiment = get_sentiment_news_data_from_gcp()"
   ]
  },
  {
   "cell_type": "code",
   "execution_count": 8,
   "id": "3f3d9511",
   "metadata": {},
   "outputs": [],
   "source": [
    "sentiment = sentiment[['date', 'ticker', 'class_label']]"
   ]
  },
  {
   "cell_type": "code",
   "execution_count": 9,
   "id": "25f4cb1d",
   "metadata": {},
   "outputs": [],
   "source": [
    "sentiment = sentiment.loc[sentiment['ticker'] == 'AMZN']"
   ]
  },
  {
   "cell_type": "code",
   "execution_count": 10,
   "id": "2631c83a",
   "metadata": {},
   "outputs": [],
   "source": [
    "sentiment = sentiment.reset_index(drop=True)"
   ]
  },
  {
   "cell_type": "code",
   "execution_count": 11,
   "id": "9ee87b47",
   "metadata": {},
   "outputs": [],
   "source": [
    "sentiment = sentiment.drop(columns=['ticker'])\n"
   ]
  },
  {
   "cell_type": "code",
   "execution_count": 12,
   "id": "929a5326",
   "metadata": {},
   "outputs": [],
   "source": [
    "sentiment['date'] = pd.to_datetime(sentiment['date'], infer_datetime_format=True)"
   ]
  },
  {
   "cell_type": "code",
   "execution_count": 13,
   "id": "3b0a330e",
   "metadata": {},
   "outputs": [
    {
     "data": {
      "text/plain": [
       "Timestamp('2020-11-02 00:00:00')"
      ]
     },
     "execution_count": 13,
     "metadata": {},
     "output_type": "execute_result"
    }
   ],
   "source": [
    "min_date = sentiment[\"date\"].min()\n",
    "min_date"
   ]
  },
  {
   "cell_type": "code",
   "execution_count": 14,
   "id": "c38368c3",
   "metadata": {},
   "outputs": [
    {
     "data": {
      "text/html": [
       "<div>\n",
       "<style scoped>\n",
       "    .dataframe tbody tr th:only-of-type {\n",
       "        vertical-align: middle;\n",
       "    }\n",
       "\n",
       "    .dataframe tbody tr th {\n",
       "        vertical-align: top;\n",
       "    }\n",
       "\n",
       "    .dataframe thead th {\n",
       "        text-align: right;\n",
       "    }\n",
       "</style>\n",
       "<table border=\"1\" class=\"dataframe\">\n",
       "  <thead>\n",
       "    <tr style=\"text-align: right;\">\n",
       "      <th></th>\n",
       "      <th>date</th>\n",
       "      <th>class_label</th>\n",
       "    </tr>\n",
       "  </thead>\n",
       "  <tbody>\n",
       "    <tr>\n",
       "      <th>0</th>\n",
       "      <td>2020-11-02</td>\n",
       "      <td>0.000000</td>\n",
       "    </tr>\n",
       "    <tr>\n",
       "      <th>1</th>\n",
       "      <td>2020-11-05</td>\n",
       "      <td>1.000000</td>\n",
       "    </tr>\n",
       "    <tr>\n",
       "      <th>2</th>\n",
       "      <td>2020-11-06</td>\n",
       "      <td>0.333333</td>\n",
       "    </tr>\n",
       "    <tr>\n",
       "      <th>3</th>\n",
       "      <td>2020-11-07</td>\n",
       "      <td>1.000000</td>\n",
       "    </tr>\n",
       "    <tr>\n",
       "      <th>4</th>\n",
       "      <td>2020-11-09</td>\n",
       "      <td>0.250000</td>\n",
       "    </tr>\n",
       "  </tbody>\n",
       "</table>\n",
       "</div>"
      ],
      "text/plain": [
       "        date  class_label\n",
       "0 2020-11-02     0.000000\n",
       "1 2020-11-05     1.000000\n",
       "2 2020-11-06     0.333333\n",
       "3 2020-11-07     1.000000\n",
       "4 2020-11-09     0.250000"
      ]
     },
     "execution_count": 14,
     "metadata": {},
     "output_type": "execute_result"
    }
   ],
   "source": [
    "sentiment.head()"
   ]
  },
  {
   "cell_type": "code",
   "execution_count": 15,
   "id": "0594c791",
   "metadata": {},
   "outputs": [],
   "source": [
    "df_stocks = df_stocks[['date', 'AMZN']]\n",
    "df_stocks[\"date\"] = pd.to_datetime(df_stocks['date'], infer_datetime_format=True)"
   ]
  },
  {
   "cell_type": "code",
   "execution_count": 16,
   "id": "e09e7653",
   "metadata": {},
   "outputs": [
    {
     "data": {
      "text/html": [
       "<div>\n",
       "<style scoped>\n",
       "    .dataframe tbody tr th:only-of-type {\n",
       "        vertical-align: middle;\n",
       "    }\n",
       "\n",
       "    .dataframe tbody tr th {\n",
       "        vertical-align: top;\n",
       "    }\n",
       "\n",
       "    .dataframe thead th {\n",
       "        text-align: right;\n",
       "    }\n",
       "</style>\n",
       "<table border=\"1\" class=\"dataframe\">\n",
       "  <thead>\n",
       "    <tr style=\"text-align: right;\">\n",
       "      <th></th>\n",
       "      <th>date</th>\n",
       "      <th>AMZN</th>\n",
       "    </tr>\n",
       "  </thead>\n",
       "  <tbody>\n",
       "    <tr>\n",
       "      <th>266</th>\n",
       "      <td>2020-11-02</td>\n",
       "      <td>3004.48</td>\n",
       "    </tr>\n",
       "    <tr>\n",
       "      <th>265</th>\n",
       "      <td>2020-11-03</td>\n",
       "      <td>3048.41</td>\n",
       "    </tr>\n",
       "    <tr>\n",
       "      <th>264</th>\n",
       "      <td>2020-11-04</td>\n",
       "      <td>3241.16</td>\n",
       "    </tr>\n",
       "    <tr>\n",
       "      <th>263</th>\n",
       "      <td>2020-11-05</td>\n",
       "      <td>3322.00</td>\n",
       "    </tr>\n",
       "    <tr>\n",
       "      <th>262</th>\n",
       "      <td>2020-11-06</td>\n",
       "      <td>3311.37</td>\n",
       "    </tr>\n",
       "    <tr>\n",
       "      <th>...</th>\n",
       "      <td>...</td>\n",
       "      <td>...</td>\n",
       "    </tr>\n",
       "    <tr>\n",
       "      <th>4</th>\n",
       "      <td>2021-11-16</td>\n",
       "      <td>3540.70</td>\n",
       "    </tr>\n",
       "    <tr>\n",
       "      <th>3</th>\n",
       "      <td>2021-11-17</td>\n",
       "      <td>3549.00</td>\n",
       "    </tr>\n",
       "    <tr>\n",
       "      <th>2</th>\n",
       "      <td>2021-11-18</td>\n",
       "      <td>3696.06</td>\n",
       "    </tr>\n",
       "    <tr>\n",
       "      <th>1</th>\n",
       "      <td>2021-11-19</td>\n",
       "      <td>3676.57</td>\n",
       "    </tr>\n",
       "    <tr>\n",
       "      <th>0</th>\n",
       "      <td>2021-11-22</td>\n",
       "      <td>3572.57</td>\n",
       "    </tr>\n",
       "  </tbody>\n",
       "</table>\n",
       "<p>267 rows × 2 columns</p>\n",
       "</div>"
      ],
      "text/plain": [
       "          date     AMZN\n",
       "266 2020-11-02  3004.48\n",
       "265 2020-11-03  3048.41\n",
       "264 2020-11-04  3241.16\n",
       "263 2020-11-05  3322.00\n",
       "262 2020-11-06  3311.37\n",
       "..         ...      ...\n",
       "4   2021-11-16  3540.70\n",
       "3   2021-11-17  3549.00\n",
       "2   2021-11-18  3696.06\n",
       "1   2021-11-19  3676.57\n",
       "0   2021-11-22  3572.57\n",
       "\n",
       "[267 rows x 2 columns]"
      ]
     },
     "execution_count": 16,
     "metadata": {},
     "output_type": "execute_result"
    }
   ],
   "source": [
    "stock_df = df_stocks[df_stocks[\"date\"]>= min_date]\n",
    "stock_df"
   ]
  },
  {
   "cell_type": "code",
   "execution_count": 17,
   "id": "64148b33",
   "metadata": {},
   "outputs": [
    {
     "data": {
      "text/html": [
       "<div>\n",
       "<style scoped>\n",
       "    .dataframe tbody tr th:only-of-type {\n",
       "        vertical-align: middle;\n",
       "    }\n",
       "\n",
       "    .dataframe tbody tr th {\n",
       "        vertical-align: top;\n",
       "    }\n",
       "\n",
       "    .dataframe thead th {\n",
       "        text-align: right;\n",
       "    }\n",
       "</style>\n",
       "<table border=\"1\" class=\"dataframe\">\n",
       "  <thead>\n",
       "    <tr style=\"text-align: right;\">\n",
       "      <th></th>\n",
       "      <th>date</th>\n",
       "      <th>AMZN</th>\n",
       "      <th>class_label</th>\n",
       "    </tr>\n",
       "  </thead>\n",
       "  <tbody>\n",
       "    <tr>\n",
       "      <th>0</th>\n",
       "      <td>2020-11-02</td>\n",
       "      <td>3004.48</td>\n",
       "      <td>0.000000</td>\n",
       "    </tr>\n",
       "    <tr>\n",
       "      <th>1</th>\n",
       "      <td>2020-11-03</td>\n",
       "      <td>3048.41</td>\n",
       "      <td>NaN</td>\n",
       "    </tr>\n",
       "    <tr>\n",
       "      <th>2</th>\n",
       "      <td>2020-11-04</td>\n",
       "      <td>3241.16</td>\n",
       "      <td>NaN</td>\n",
       "    </tr>\n",
       "    <tr>\n",
       "      <th>3</th>\n",
       "      <td>2020-11-05</td>\n",
       "      <td>3322.00</td>\n",
       "      <td>1.000000</td>\n",
       "    </tr>\n",
       "    <tr>\n",
       "      <th>4</th>\n",
       "      <td>2020-11-06</td>\n",
       "      <td>3311.37</td>\n",
       "      <td>0.333333</td>\n",
       "    </tr>\n",
       "  </tbody>\n",
       "</table>\n",
       "</div>"
      ],
      "text/plain": [
       "        date     AMZN  class_label\n",
       "0 2020-11-02  3004.48     0.000000\n",
       "1 2020-11-03  3048.41          NaN\n",
       "2 2020-11-04  3241.16          NaN\n",
       "3 2020-11-05  3322.00     1.000000\n",
       "4 2020-11-06  3311.37     0.333333"
      ]
     },
     "execution_count": 17,
     "metadata": {},
     "output_type": "execute_result"
    }
   ],
   "source": [
    "merged_df = pd.merge(stock_df, sentiment, on='date', how='outer')\n",
    "merged_df.head()"
   ]
  },
  {
   "cell_type": "markdown",
   "id": "14ebc911",
   "metadata": {},
   "source": [
    "## get Twitter data"
   ]
  },
  {
   "cell_type": "code",
<<<<<<< HEAD
   "execution_count": 133,
   "id": "e021fd72",
=======
   "execution_count": 21,
   "id": "03ee88e1",
>>>>>>> b9a670dc68b3b2caf9614b9a8412444259f30c13
   "metadata": {},
   "outputs": [],
   "source": [
    "from google.cloud import storage\n",
    "def get_twitter_stocks_sentiment_from_gcp(nrows=10000, local=False, optimize=False, **kwargs):\n",
    "    \"\"\"method to get the training data (or a portion of it) from google cloud bucket\"\"\"\n",
    "    # Add Client() here\n",
    "    client = storage.Client()\n",
    "    if local:\n",
    "        path = \"data/data_data_10Mill.csv\"\n",
    "    else:\n",
    "        path = \"gs://stock-news-pred-bucket/Amazon1 twitter_stocks_sentiment.csv\"\n",
    "    df = pd.read_csv(path, index_col= False)#add nrows after if you want to select a specific number of row\n",
    "    return df\n"
   ]
  },
  {
   "cell_type": "code",
<<<<<<< HEAD
   "execution_count": 134,
   "id": "799a4fab",
=======
   "execution_count": 22,
   "id": "eaa04764",
>>>>>>> b9a670dc68b3b2caf9614b9a8412444259f30c13
   "metadata": {},
   "outputs": [],
   "source": [
    "df_twitter = get_twitter_stocks_sentiment_from_gcp()"
   ]
  },
  {
   "cell_type": "code",
<<<<<<< HEAD
   "execution_count": 135,
   "id": "22556a0d",
=======
   "execution_count": 24,
   "id": "63bd70cd",
>>>>>>> b9a670dc68b3b2caf9614b9a8412444259f30c13
   "metadata": {},
   "outputs": [],
   "source": [
    "df_twitter.drop(columns=[\"Unnamed: 0\"], inplace=True)\n"
   ]
  },
  {
   "cell_type": "code",
<<<<<<< HEAD
   "execution_count": 136,
   "id": "e67b5d05",
=======
   "execution_count": 25,
   "id": "9c97692d",
>>>>>>> b9a670dc68b3b2caf9614b9a8412444259f30c13
   "metadata": {},
   "outputs": [],
   "source": [
    "df_twitter[\"date\"] = pd.to_datetime(df_twitter[\"date\"], infer_datetime_format=True)"
   ]
  },
  {
   "cell_type": "code",
<<<<<<< HEAD
   "execution_count": 137,
   "id": "9fb99226",
=======
   "execution_count": 26,
   "id": "77e75c48",
>>>>>>> b9a670dc68b3b2caf9614b9a8412444259f30c13
   "metadata": {},
   "outputs": [
    {
     "data": {
      "text/html": [
       "<div>\n",
       "<style scoped>\n",
       "    .dataframe tbody tr th:only-of-type {\n",
       "        vertical-align: middle;\n",
       "    }\n",
       "\n",
       "    .dataframe tbody tr th {\n",
       "        vertical-align: top;\n",
       "    }\n",
       "\n",
       "    .dataframe thead th {\n",
       "        text-align: right;\n",
       "    }\n",
       "</style>\n",
       "<table border=\"1\" class=\"dataframe\">\n",
       "  <thead>\n",
       "    <tr style=\"text-align: right;\">\n",
       "      <th></th>\n",
       "      <th>date</th>\n",
       "      <th>twitter_label</th>\n",
       "    </tr>\n",
       "  </thead>\n",
       "  <tbody>\n",
       "    <tr>\n",
       "      <th>0</th>\n",
       "      <td>2020-11-26</td>\n",
       "      <td>0.352941</td>\n",
       "    </tr>\n",
       "    <tr>\n",
       "      <th>1</th>\n",
       "      <td>2020-11-27</td>\n",
       "      <td>0.666667</td>\n",
       "    </tr>\n",
       "    <tr>\n",
       "      <th>2</th>\n",
       "      <td>2020-11-28</td>\n",
       "      <td>0.428571</td>\n",
       "    </tr>\n",
       "    <tr>\n",
       "      <th>3</th>\n",
       "      <td>2020-11-29</td>\n",
       "      <td>0.142857</td>\n",
       "    </tr>\n",
       "    <tr>\n",
       "      <th>4</th>\n",
       "      <td>2020-11-30</td>\n",
       "      <td>0.666667</td>\n",
       "    </tr>\n",
       "  </tbody>\n",
       "</table>\n",
       "</div>"
      ],
      "text/plain": [
       "        date  twitter_label\n",
       "0 2020-11-26       0.352941\n",
       "1 2020-11-27       0.666667\n",
       "2 2020-11-28       0.428571\n",
       "3 2020-11-29       0.142857\n",
       "4 2020-11-30       0.666667"
      ]
     },
     "execution_count": 26,
     "metadata": {},
     "output_type": "execute_result"
    }
   ],
   "source": [
    "df_twitter.rename(columns={\"class_label\": \"twitter_label\"}, inplace=True)\n",
    "df_twitter.head()"
   ]
  },
  {
   "cell_type": "code",
<<<<<<< HEAD
   "execution_count": 138,
   "id": "8a84f68e",
=======
   "execution_count": 27,
   "id": "f92da9a4",
>>>>>>> b9a670dc68b3b2caf9614b9a8412444259f30c13
   "metadata": {},
   "outputs": [
    {
     "data": {
      "text/html": [
       "<div>\n",
       "<style scoped>\n",
       "    .dataframe tbody tr th:only-of-type {\n",
       "        vertical-align: middle;\n",
       "    }\n",
       "\n",
       "    .dataframe tbody tr th {\n",
       "        vertical-align: top;\n",
       "    }\n",
       "\n",
       "    .dataframe thead th {\n",
       "        text-align: right;\n",
       "    }\n",
       "</style>\n",
       "<table border=\"1\" class=\"dataframe\">\n",
       "  <thead>\n",
       "    <tr style=\"text-align: right;\">\n",
       "      <th></th>\n",
       "      <th>date</th>\n",
       "      <th>AMZN</th>\n",
       "      <th>class_label</th>\n",
       "      <th>twitter_label</th>\n",
       "    </tr>\n",
       "  </thead>\n",
       "  <tbody>\n",
       "    <tr>\n",
       "      <th>380</th>\n",
       "      <td>2021-01-17</td>\n",
       "      <td>NaN</td>\n",
       "      <td>NaN</td>\n",
       "      <td>0.272727</td>\n",
       "    </tr>\n",
       "    <tr>\n",
       "      <th>381</th>\n",
       "      <td>2021-01-23</td>\n",
       "      <td>NaN</td>\n",
       "      <td>NaN</td>\n",
       "      <td>0.230769</td>\n",
       "    </tr>\n",
       "    <tr>\n",
       "      <th>382</th>\n",
       "      <td>2021-02-07</td>\n",
       "      <td>NaN</td>\n",
       "      <td>NaN</td>\n",
       "      <td>0.352941</td>\n",
       "    </tr>\n",
       "    <tr>\n",
       "      <th>383</th>\n",
       "      <td>2021-11-24</td>\n",
       "      <td>NaN</td>\n",
       "      <td>NaN</td>\n",
       "      <td>0.459459</td>\n",
       "    </tr>\n",
       "    <tr>\n",
       "      <th>384</th>\n",
       "      <td>2021-11-25</td>\n",
       "      <td>NaN</td>\n",
       "      <td>NaN</td>\n",
       "      <td>0.562500</td>\n",
       "    </tr>\n",
       "  </tbody>\n",
       "</table>\n",
       "</div>"
      ],
      "text/plain": [
       "          date  AMZN  class_label  twitter_label\n",
       "380 2021-01-17   NaN          NaN       0.272727\n",
       "381 2021-01-23   NaN          NaN       0.230769\n",
       "382 2021-02-07   NaN          NaN       0.352941\n",
       "383 2021-11-24   NaN          NaN       0.459459\n",
       "384 2021-11-25   NaN          NaN       0.562500"
      ]
     },
     "execution_count": 27,
     "metadata": {},
     "output_type": "execute_result"
    }
   ],
   "source": [
    "merged_twitter_df = pd.merge(merged_df, df_twitter, on='date', how='outer')\n",
    "merged_twitter_df.tail()"
   ]
  },
  {
   "cell_type": "code",
<<<<<<< HEAD
   "execution_count": 139,
   "id": "1b04cb0b",
=======
   "execution_count": 28,
   "id": "45d54efd",
>>>>>>> b9a670dc68b3b2caf9614b9a8412444259f30c13
   "metadata": {},
   "outputs": [
    {
     "data": {
      "text/plain": [
       "Timestamp('2020-11-02 00:00:00')"
      ]
     },
     "execution_count": 28,
     "metadata": {},
     "output_type": "execute_result"
    }
   ],
   "source": [
    "min_date"
   ]
  },
  {
   "cell_type": "code",
<<<<<<< HEAD
   "execution_count": 140,
   "id": "8240c931",
=======
   "execution_count": 29,
   "id": "dc7824ed",
>>>>>>> b9a670dc68b3b2caf9614b9a8412444259f30c13
   "metadata": {},
   "outputs": [
    {
     "data": {
      "text/plain": [
       "Timestamp('2020-11-02 00:00:00')"
      ]
     },
     "execution_count": 29,
     "metadata": {},
     "output_type": "execute_result"
    }
   ],
   "source": [
    "merged_twitter_df[\"date\"].min()"
   ]
  },
  {
   "cell_type": "code",
<<<<<<< HEAD
   "execution_count": 63,
   "id": "d8bcbefe",
=======
   "execution_count": 30,
   "id": "47f1d135",
>>>>>>> b9a670dc68b3b2caf9614b9a8412444259f30c13
   "metadata": {},
   "outputs": [
    {
     "data": {
      "text/html": [
       "<div>\n",
       "<style scoped>\n",
       "    .dataframe tbody tr th:only-of-type {\n",
       "        vertical-align: middle;\n",
       "    }\n",
       "\n",
       "    .dataframe tbody tr th {\n",
       "        vertical-align: top;\n",
       "    }\n",
       "\n",
       "    .dataframe thead th {\n",
       "        text-align: right;\n",
       "    }\n",
       "</style>\n",
       "<table border=\"1\" class=\"dataframe\">\n",
       "  <thead>\n",
       "    <tr style=\"text-align: right;\">\n",
       "      <th></th>\n",
       "      <th>date</th>\n",
       "      <th>AMZN</th>\n",
       "      <th>class_label</th>\n",
       "      <th>twitter_label</th>\n",
       "    </tr>\n",
       "  </thead>\n",
       "  <tbody>\n",
       "    <tr>\n",
       "      <th>0</th>\n",
       "      <td>2020-11-02</td>\n",
       "      <td>3004.48</td>\n",
       "      <td>0.000000</td>\n",
       "      <td>NaN</td>\n",
       "    </tr>\n",
       "    <tr>\n",
       "      <th>1</th>\n",
       "      <td>2020-11-03</td>\n",
       "      <td>3048.41</td>\n",
       "      <td>NaN</td>\n",
       "      <td>NaN</td>\n",
       "    </tr>\n",
       "    <tr>\n",
       "      <th>2</th>\n",
       "      <td>2020-11-04</td>\n",
       "      <td>3241.16</td>\n",
       "      <td>NaN</td>\n",
       "      <td>NaN</td>\n",
       "    </tr>\n",
       "    <tr>\n",
       "      <th>3</th>\n",
       "      <td>2020-11-05</td>\n",
       "      <td>3322.00</td>\n",
       "      <td>1.000000</td>\n",
       "      <td>NaN</td>\n",
       "    </tr>\n",
       "    <tr>\n",
       "      <th>4</th>\n",
       "      <td>2020-11-06</td>\n",
       "      <td>3311.37</td>\n",
       "      <td>0.333333</td>\n",
       "      <td>NaN</td>\n",
       "    </tr>\n",
       "    <tr>\n",
       "      <th>...</th>\n",
       "      <td>...</td>\n",
       "      <td>...</td>\n",
       "      <td>...</td>\n",
       "      <td>...</td>\n",
       "    </tr>\n",
       "    <tr>\n",
       "      <th>380</th>\n",
       "      <td>2021-01-17</td>\n",
       "      <td>NaN</td>\n",
       "      <td>NaN</td>\n",
       "      <td>0.272727</td>\n",
       "    </tr>\n",
       "    <tr>\n",
       "      <th>381</th>\n",
       "      <td>2021-01-23</td>\n",
       "      <td>NaN</td>\n",
       "      <td>NaN</td>\n",
       "      <td>0.230769</td>\n",
       "    </tr>\n",
       "    <tr>\n",
       "      <th>382</th>\n",
       "      <td>2021-02-07</td>\n",
       "      <td>NaN</td>\n",
       "      <td>NaN</td>\n",
       "      <td>0.352941</td>\n",
       "    </tr>\n",
       "    <tr>\n",
       "      <th>383</th>\n",
       "      <td>2021-11-24</td>\n",
       "      <td>NaN</td>\n",
       "      <td>NaN</td>\n",
       "      <td>0.459459</td>\n",
       "    </tr>\n",
       "    <tr>\n",
       "      <th>384</th>\n",
       "      <td>2021-11-25</td>\n",
       "      <td>NaN</td>\n",
       "      <td>NaN</td>\n",
       "      <td>0.562500</td>\n",
       "    </tr>\n",
       "  </tbody>\n",
       "</table>\n",
       "<p>385 rows × 4 columns</p>\n",
       "</div>"
      ],
      "text/plain": [
       "          date     AMZN  class_label  twitter_label\n",
       "0   2020-11-02  3004.48     0.000000            NaN\n",
       "1   2020-11-03  3048.41          NaN            NaN\n",
       "2   2020-11-04  3241.16          NaN            NaN\n",
       "3   2020-11-05  3322.00     1.000000            NaN\n",
       "4   2020-11-06  3311.37     0.333333            NaN\n",
       "..         ...      ...          ...            ...\n",
       "380 2021-01-17      NaN          NaN       0.272727\n",
       "381 2021-01-23      NaN          NaN       0.230769\n",
       "382 2021-02-07      NaN          NaN       0.352941\n",
       "383 2021-11-24      NaN          NaN       0.459459\n",
       "384 2021-11-25      NaN          NaN       0.562500\n",
       "\n",
       "[385 rows x 4 columns]"
      ]
     },
     "execution_count": 30,
     "metadata": {},
     "output_type": "execute_result"
    }
   ],
   "source": [
    "merged_twitter_df"
   ]
  },
  {
   "cell_type": "markdown",
   "id": "16a70bc1",
   "metadata": {},
   "source": [
    "## Preprocess and merge data"
   ]
  },
  {
   "cell_type": "code",
   "execution_count": 31,
   "id": "6122fd22",
   "metadata": {},
   "outputs": [],
   "source": [
    "merged_twitter_df.sort_values(by='date', ascending=True, inplace=True)\n"
   ]
  },
  {
   "cell_type": "code",
<<<<<<< HEAD
   "execution_count": 143,
   "id": "ae0b4c43",
=======
   "execution_count": 32,
   "id": "4bced6b7",
>>>>>>> b9a670dc68b3b2caf9614b9a8412444259f30c13
   "metadata": {},
   "outputs": [
    {
     "data": {
      "text/html": [
       "<div>\n",
       "<style scoped>\n",
       "    .dataframe tbody tr th:only-of-type {\n",
       "        vertical-align: middle;\n",
       "    }\n",
       "\n",
       "    .dataframe tbody tr th {\n",
       "        vertical-align: top;\n",
       "    }\n",
       "\n",
       "    .dataframe thead th {\n",
       "        text-align: right;\n",
       "    }\n",
       "</style>\n",
       "<table border=\"1\" class=\"dataframe\">\n",
       "  <thead>\n",
       "    <tr style=\"text-align: right;\">\n",
       "      <th></th>\n",
       "      <th>date</th>\n",
       "      <th>AMZN</th>\n",
       "      <th>class_label</th>\n",
       "      <th>twitter_label</th>\n",
       "    </tr>\n",
       "  </thead>\n",
       "  <tbody>\n",
       "    <tr>\n",
       "      <th>363</th>\n",
       "      <td>2021-11-06</td>\n",
       "      <td>NaN</td>\n",
       "      <td>0.100000</td>\n",
       "      <td>0.000000</td>\n",
       "    </tr>\n",
       "    <tr>\n",
       "      <th>364</th>\n",
       "      <td>2021-11-07</td>\n",
       "      <td>NaN</td>\n",
       "      <td>1.000000</td>\n",
       "      <td>0.484375</td>\n",
       "    </tr>\n",
       "    <tr>\n",
       "      <th>256</th>\n",
       "      <td>2021-11-08</td>\n",
       "      <td>3488.98</td>\n",
       "      <td>0.500000</td>\n",
       "      <td>0.148936</td>\n",
       "    </tr>\n",
       "    <tr>\n",
       "      <th>257</th>\n",
       "      <td>2021-11-09</td>\n",
       "      <td>3576.23</td>\n",
       "      <td>0.486486</td>\n",
       "      <td>0.285714</td>\n",
       "    </tr>\n",
       "    <tr>\n",
       "      <th>258</th>\n",
       "      <td>2021-11-10</td>\n",
       "      <td>3482.05</td>\n",
       "      <td>0.481481</td>\n",
       "      <td>0.421053</td>\n",
       "    </tr>\n",
       "    <tr>\n",
       "      <th>259</th>\n",
       "      <td>2021-11-11</td>\n",
       "      <td>3472.50</td>\n",
       "      <td>0.560000</td>\n",
       "      <td>0.250000</td>\n",
       "    </tr>\n",
       "    <tr>\n",
       "      <th>260</th>\n",
       "      <td>2021-11-12</td>\n",
       "      <td>3525.15</td>\n",
       "      <td>0.567568</td>\n",
       "      <td>0.285714</td>\n",
       "    </tr>\n",
       "    <tr>\n",
       "      <th>365</th>\n",
       "      <td>2021-11-13</td>\n",
       "      <td>NaN</td>\n",
       "      <td>0.357143</td>\n",
       "      <td>0.333333</td>\n",
       "    </tr>\n",
       "    <tr>\n",
       "      <th>366</th>\n",
       "      <td>2021-11-14</td>\n",
       "      <td>NaN</td>\n",
       "      <td>0.888889</td>\n",
       "      <td>0.285714</td>\n",
       "    </tr>\n",
       "    <tr>\n",
       "      <th>261</th>\n",
       "      <td>2021-11-15</td>\n",
       "      <td>3545.68</td>\n",
       "      <td>0.467391</td>\n",
       "      <td>0.538462</td>\n",
       "    </tr>\n",
       "    <tr>\n",
       "      <th>262</th>\n",
       "      <td>2021-11-16</td>\n",
       "      <td>3540.70</td>\n",
       "      <td>0.435897</td>\n",
       "      <td>0.680000</td>\n",
       "    </tr>\n",
       "    <tr>\n",
       "      <th>263</th>\n",
       "      <td>2021-11-17</td>\n",
       "      <td>3549.00</td>\n",
       "      <td>0.394958</td>\n",
       "      <td>0.206897</td>\n",
       "    </tr>\n",
       "    <tr>\n",
       "      <th>264</th>\n",
       "      <td>2021-11-18</td>\n",
       "      <td>3696.06</td>\n",
       "      <td>0.417582</td>\n",
       "      <td>0.469388</td>\n",
       "    </tr>\n",
       "    <tr>\n",
       "      <th>265</th>\n",
       "      <td>2021-11-19</td>\n",
       "      <td>3676.57</td>\n",
       "      <td>0.488095</td>\n",
       "      <td>0.460000</td>\n",
       "    </tr>\n",
       "    <tr>\n",
       "      <th>367</th>\n",
       "      <td>2021-11-20</td>\n",
       "      <td>NaN</td>\n",
       "      <td>0.529412</td>\n",
       "      <td>0.291667</td>\n",
       "    </tr>\n",
       "    <tr>\n",
       "      <th>368</th>\n",
       "      <td>2021-11-21</td>\n",
       "      <td>NaN</td>\n",
       "      <td>0.500000</td>\n",
       "      <td>0.600000</td>\n",
       "    </tr>\n",
       "    <tr>\n",
       "      <th>266</th>\n",
       "      <td>2021-11-22</td>\n",
       "      <td>3572.57</td>\n",
       "      <td>0.394737</td>\n",
       "      <td>0.463415</td>\n",
       "    </tr>\n",
       "    <tr>\n",
       "      <th>369</th>\n",
       "      <td>2021-11-23</td>\n",
       "      <td>NaN</td>\n",
       "      <td>0.294118</td>\n",
       "      <td>0.311475</td>\n",
       "    </tr>\n",
       "    <tr>\n",
       "      <th>383</th>\n",
       "      <td>2021-11-24</td>\n",
       "      <td>NaN</td>\n",
       "      <td>NaN</td>\n",
       "      <td>0.459459</td>\n",
       "    </tr>\n",
       "    <tr>\n",
       "      <th>384</th>\n",
       "      <td>2021-11-25</td>\n",
       "      <td>NaN</td>\n",
       "      <td>NaN</td>\n",
       "      <td>0.562500</td>\n",
       "    </tr>\n",
       "  </tbody>\n",
       "</table>\n",
       "</div>"
      ],
      "text/plain": [
       "          date     AMZN  class_label  twitter_label\n",
       "363 2021-11-06      NaN     0.100000       0.000000\n",
       "364 2021-11-07      NaN     1.000000       0.484375\n",
       "256 2021-11-08  3488.98     0.500000       0.148936\n",
       "257 2021-11-09  3576.23     0.486486       0.285714\n",
       "258 2021-11-10  3482.05     0.481481       0.421053\n",
       "259 2021-11-11  3472.50     0.560000       0.250000\n",
       "260 2021-11-12  3525.15     0.567568       0.285714\n",
       "365 2021-11-13      NaN     0.357143       0.333333\n",
       "366 2021-11-14      NaN     0.888889       0.285714\n",
       "261 2021-11-15  3545.68     0.467391       0.538462\n",
       "262 2021-11-16  3540.70     0.435897       0.680000\n",
       "263 2021-11-17  3549.00     0.394958       0.206897\n",
       "264 2021-11-18  3696.06     0.417582       0.469388\n",
       "265 2021-11-19  3676.57     0.488095       0.460000\n",
       "367 2021-11-20      NaN     0.529412       0.291667\n",
       "368 2021-11-21      NaN     0.500000       0.600000\n",
       "266 2021-11-22  3572.57     0.394737       0.463415\n",
       "369 2021-11-23      NaN     0.294118       0.311475\n",
       "383 2021-11-24      NaN          NaN       0.459459\n",
       "384 2021-11-25      NaN          NaN       0.562500"
      ]
     },
     "execution_count": 32,
     "metadata": {},
     "output_type": "execute_result"
    }
   ],
   "source": [
    "merged_twitter_df.tail(20)"
   ]
  },
  {
   "cell_type": "code",
   "execution_count": 33,
   "id": "c1c4a74e",
   "metadata": {},
   "outputs": [],
   "source": [
    "merged_twitter_df.reset_index(inplace=True, drop=True)"
   ]
  },
  {
   "cell_type": "code",
   "execution_count": 34,
   "id": "d5d4410a",
   "metadata": {},
   "outputs": [
    {
     "data": {
      "text/plain": [
       "<AxesSubplot:>"
      ]
     },
     "execution_count": 34,
     "metadata": {},
     "output_type": "execute_result"
    },
    {
     "data": {
      "image/png": "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\n",
      "text/plain": [
       "<Figure size 432x288 with 1 Axes>"
      ]
     },
     "metadata": {
      "needs_background": "light"
     },
     "output_type": "display_data"
    }
   ],
   "source": [
    "merged_twitter_df[\"AMZN\"].plot()"
   ]
  },
  {
   "cell_type": "code",
   "execution_count": 35,
   "id": "5aa0fb23",
   "metadata": {},
   "outputs": [
    {
     "data": {
      "text/plain": [
       "<AxesSubplot:>"
      ]
     },
     "execution_count": 35,
     "metadata": {},
     "output_type": "execute_result"
    },
    {
     "data": {
      "image/png": "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\n",
      "text/plain": [
       "<Figure size 432x288 with 1 Axes>"
      ]
     },
     "metadata": {
      "needs_background": "light"
     },
     "output_type": "display_data"
    }
   ],
   "source": [
    "merged_twitter_df[\"AMZN\"].interpolate(method='pad', limit=3).plot()"
   ]
  },
  {
   "cell_type": "code",
   "execution_count": 36,
   "id": "c8a60bc8",
   "metadata": {},
   "outputs": [],
   "source": [
    "merged_twitter_df[\"AMZN\"] = merged_twitter_df[\"AMZN\"].interpolate(method='pad', limit=3)"
   ]
  },
  {
   "cell_type": "code",
   "execution_count": 37,
   "id": "38d9586f",
   "metadata": {},
   "outputs": [],
   "source": [
    "merged_twitter_df.fillna(value=-1, inplace=True)"
   ]
  },
  {
   "cell_type": "code",
   "execution_count": 38,
   "id": "55c85b13",
   "metadata": {},
   "outputs": [
    {
     "data": {
      "text/html": [
       "<div>\n",
       "<style scoped>\n",
       "    .dataframe tbody tr th:only-of-type {\n",
       "        vertical-align: middle;\n",
       "    }\n",
       "\n",
       "    .dataframe tbody tr th {\n",
       "        vertical-align: top;\n",
       "    }\n",
       "\n",
       "    .dataframe thead th {\n",
       "        text-align: right;\n",
       "    }\n",
       "</style>\n",
       "<table border=\"1\" class=\"dataframe\">\n",
       "  <thead>\n",
       "    <tr style=\"text-align: right;\">\n",
       "      <th></th>\n",
       "      <th>date</th>\n",
       "      <th>AMZN</th>\n",
       "      <th>class_label</th>\n",
       "      <th>twitter_label</th>\n",
       "    </tr>\n",
       "  </thead>\n",
       "  <tbody>\n",
       "    <tr>\n",
       "      <th>365</th>\n",
       "      <td>2021-11-06</td>\n",
       "      <td>3518.99</td>\n",
       "      <td>0.100000</td>\n",
       "      <td>0.000000</td>\n",
       "    </tr>\n",
       "    <tr>\n",
       "      <th>366</th>\n",
       "      <td>2021-11-07</td>\n",
       "      <td>3518.99</td>\n",
       "      <td>1.000000</td>\n",
       "      <td>0.484375</td>\n",
       "    </tr>\n",
       "    <tr>\n",
       "      <th>367</th>\n",
       "      <td>2021-11-08</td>\n",
       "      <td>3488.98</td>\n",
       "      <td>0.500000</td>\n",
       "      <td>0.148936</td>\n",
       "    </tr>\n",
       "    <tr>\n",
       "      <th>368</th>\n",
       "      <td>2021-11-09</td>\n",
       "      <td>3576.23</td>\n",
       "      <td>0.486486</td>\n",
       "      <td>0.285714</td>\n",
       "    </tr>\n",
       "    <tr>\n",
       "      <th>369</th>\n",
       "      <td>2021-11-10</td>\n",
       "      <td>3482.05</td>\n",
       "      <td>0.481481</td>\n",
       "      <td>0.421053</td>\n",
       "    </tr>\n",
       "    <tr>\n",
       "      <th>370</th>\n",
       "      <td>2021-11-11</td>\n",
       "      <td>3472.50</td>\n",
       "      <td>0.560000</td>\n",
       "      <td>0.250000</td>\n",
       "    </tr>\n",
       "    <tr>\n",
       "      <th>371</th>\n",
       "      <td>2021-11-12</td>\n",
       "      <td>3525.15</td>\n",
       "      <td>0.567568</td>\n",
       "      <td>0.285714</td>\n",
       "    </tr>\n",
       "    <tr>\n",
       "      <th>372</th>\n",
       "      <td>2021-11-13</td>\n",
       "      <td>3525.15</td>\n",
       "      <td>0.357143</td>\n",
       "      <td>0.333333</td>\n",
       "    </tr>\n",
       "    <tr>\n",
       "      <th>373</th>\n",
       "      <td>2021-11-14</td>\n",
       "      <td>3525.15</td>\n",
       "      <td>0.888889</td>\n",
       "      <td>0.285714</td>\n",
       "    </tr>\n",
       "    <tr>\n",
       "      <th>374</th>\n",
       "      <td>2021-11-15</td>\n",
       "      <td>3545.68</td>\n",
       "      <td>0.467391</td>\n",
       "      <td>0.538462</td>\n",
       "    </tr>\n",
       "    <tr>\n",
       "      <th>375</th>\n",
       "      <td>2021-11-16</td>\n",
       "      <td>3540.70</td>\n",
       "      <td>0.435897</td>\n",
       "      <td>0.680000</td>\n",
       "    </tr>\n",
       "    <tr>\n",
       "      <th>376</th>\n",
       "      <td>2021-11-17</td>\n",
       "      <td>3549.00</td>\n",
       "      <td>0.394958</td>\n",
       "      <td>0.206897</td>\n",
       "    </tr>\n",
       "    <tr>\n",
       "      <th>377</th>\n",
       "      <td>2021-11-18</td>\n",
       "      <td>3696.06</td>\n",
       "      <td>0.417582</td>\n",
       "      <td>0.469388</td>\n",
       "    </tr>\n",
       "    <tr>\n",
       "      <th>378</th>\n",
       "      <td>2021-11-19</td>\n",
       "      <td>3676.57</td>\n",
       "      <td>0.488095</td>\n",
       "      <td>0.460000</td>\n",
       "    </tr>\n",
       "    <tr>\n",
       "      <th>379</th>\n",
       "      <td>2021-11-20</td>\n",
       "      <td>3676.57</td>\n",
       "      <td>0.529412</td>\n",
       "      <td>0.291667</td>\n",
       "    </tr>\n",
       "    <tr>\n",
       "      <th>380</th>\n",
       "      <td>2021-11-21</td>\n",
       "      <td>3676.57</td>\n",
       "      <td>0.500000</td>\n",
       "      <td>0.600000</td>\n",
       "    </tr>\n",
       "    <tr>\n",
       "      <th>381</th>\n",
       "      <td>2021-11-22</td>\n",
       "      <td>3572.57</td>\n",
       "      <td>0.394737</td>\n",
       "      <td>0.463415</td>\n",
       "    </tr>\n",
       "    <tr>\n",
       "      <th>382</th>\n",
       "      <td>2021-11-23</td>\n",
       "      <td>3572.57</td>\n",
       "      <td>0.294118</td>\n",
       "      <td>0.311475</td>\n",
       "    </tr>\n",
       "    <tr>\n",
       "      <th>383</th>\n",
       "      <td>2021-11-24</td>\n",
       "      <td>3572.57</td>\n",
       "      <td>-1.000000</td>\n",
       "      <td>0.459459</td>\n",
       "    </tr>\n",
       "    <tr>\n",
       "      <th>384</th>\n",
       "      <td>2021-11-25</td>\n",
       "      <td>3572.57</td>\n",
       "      <td>-1.000000</td>\n",
       "      <td>0.562500</td>\n",
       "    </tr>\n",
       "  </tbody>\n",
       "</table>\n",
       "</div>"
      ],
      "text/plain": [
       "          date     AMZN  class_label  twitter_label\n",
       "365 2021-11-06  3518.99     0.100000       0.000000\n",
       "366 2021-11-07  3518.99     1.000000       0.484375\n",
       "367 2021-11-08  3488.98     0.500000       0.148936\n",
       "368 2021-11-09  3576.23     0.486486       0.285714\n",
       "369 2021-11-10  3482.05     0.481481       0.421053\n",
       "370 2021-11-11  3472.50     0.560000       0.250000\n",
       "371 2021-11-12  3525.15     0.567568       0.285714\n",
       "372 2021-11-13  3525.15     0.357143       0.333333\n",
       "373 2021-11-14  3525.15     0.888889       0.285714\n",
       "374 2021-11-15  3545.68     0.467391       0.538462\n",
       "375 2021-11-16  3540.70     0.435897       0.680000\n",
       "376 2021-11-17  3549.00     0.394958       0.206897\n",
       "377 2021-11-18  3696.06     0.417582       0.469388\n",
       "378 2021-11-19  3676.57     0.488095       0.460000\n",
       "379 2021-11-20  3676.57     0.529412       0.291667\n",
       "380 2021-11-21  3676.57     0.500000       0.600000\n",
       "381 2021-11-22  3572.57     0.394737       0.463415\n",
       "382 2021-11-23  3572.57     0.294118       0.311475\n",
       "383 2021-11-24  3572.57    -1.000000       0.459459\n",
       "384 2021-11-25  3572.57    -1.000000       0.562500"
      ]
     },
     "execution_count": 38,
     "metadata": {},
     "output_type": "execute_result"
    }
   ],
   "source": [
    "merged_twitter_df.tail(20)"
   ]
  },
  {
   "cell_type": "code",
   "execution_count": 39,
   "id": "af5306aa",
   "metadata": {},
   "outputs": [],
   "source": [
    "merged_twitter_df.to_csv(\"merged_twitter_df\", index=False)"
   ]
  },
  {
   "cell_type": "code",
   "execution_count": 40,
   "id": "d356369e",
   "metadata": {},
   "outputs": [],
   "source": [
    "# @Davy start from here with the merged_twitter_df file"
   ]
  },
  {
   "cell_type": "code",
   "execution_count": null,
   "id": "fa1d15de",
   "metadata": {},
   "outputs": [],
   "source": []
  },
  {
   "cell_type": "code",
   "execution_count": 150,
   "id": "7613325e",
   "metadata": {},
   "outputs": [],
   "source": [
    "df_temp = merged_twitter_df.set_index([\"date\", \"class_label\", \"twitter_label\"])"
   ]
  },
  {
   "cell_type": "code",
   "execution_count": 151,
   "id": "6d9feb51",
   "metadata": {},
   "outputs": [],
   "source": [
    "df_temp = df_temp[[\"AMZN\"]]"
   ]
  },
  {
   "cell_type": "markdown",
   "id": "ffe2dc46",
   "metadata": {},
   "source": [
    "### Scaling stocks"
   ]
  },
  {
   "cell_type": "code",
   "execution_count": 156,
   "id": "90a4f95b",
   "metadata": {
    "collapsed": true
   },
   "outputs": [
    {
     "data": {
      "text/plain": [
       "array([[0.06739281],\n",
       "       [0.12375234],\n",
       "       [0.37103892],\n",
       "       [0.47475175],\n",
       "       [0.4611141 ],\n",
       "       [0.4611141 ],\n",
       "       [0.24605496],\n",
       "       [0.10657378],\n",
       "       [0.2379083 ],\n",
       "       [0.20312781],\n",
       "       [0.22690067],\n",
       "       [0.22978729],\n",
       "       [0.23568881],\n",
       "       [0.19694404],\n",
       "       [0.21177482],\n",
       "       [0.18916942],\n",
       "       [0.18916942],\n",
       "       [0.18787366],\n",
       "       [0.21310908],\n",
       "       [0.29907885],\n",
       "       [0.29907885],\n",
       "       [0.31225464],\n",
       "       [0.31225464],\n",
       "       [0.31225464],\n",
       "       [0.27723039],\n",
       "       [0.34399456],\n",
       "       [0.32276191],\n",
       "       [0.30120853],\n",
       "       [0.27022554],\n",
       "       [0.27022554],\n",
       "       [0.27022554],\n",
       "       [0.26434968],\n",
       "       [0.28909758],\n",
       "       [0.19532753],\n",
       "       [0.19185077],\n",
       "       [0.21100505],\n",
       "       [0.21100505],\n",
       "       [0.21100505],\n",
       "       [0.26302825],\n",
       "       [0.27348421],\n",
       "       [0.37078234],\n",
       "       [0.36452159],\n",
       "       [0.32034999],\n",
       "       [0.32034999],\n",
       "       [0.32034999],\n",
       "       [0.3261617 ],\n",
       "       [0.3265979 ],\n",
       "       [0.29933544],\n",
       "       [0.28319606],\n",
       "       [0.28319606],\n",
       "       [0.28319606],\n",
       "       [0.28319606],\n",
       "       [0.42594873],\n",
       "       [0.47475175],\n",
       "       [0.42837349],\n",
       "       [0.39127088],\n",
       "       [0.39127088],\n",
       "       [0.39127088],\n",
       "       [0.39127088],\n",
       "       [0.30108024],\n",
       "       [0.34198035],\n",
       "       [0.23917841],\n",
       "       [0.26968671],\n",
       "       [0.29603828],\n",
       "       [0.29603828],\n",
       "       [0.29603828],\n",
       "       [0.20816976],\n",
       "       [0.21666282],\n",
       "       [0.27447207],\n",
       "       [0.22518154],\n",
       "       [0.19539168],\n",
       "       [0.19539168],\n",
       "       [0.19539168],\n",
       "       [0.19539168],\n",
       "       [0.21657301],\n",
       "       [0.39954584],\n",
       "       [0.45549483],\n",
       "       [0.43655864],\n",
       "       [0.43655864],\n",
       "       [0.43655864],\n",
       "       [0.43882945],\n",
       "       [0.48005029],\n",
       "       [0.3600313 ],\n",
       "       [0.36649732],\n",
       "       [0.32618736],\n",
       "       [0.32618736],\n",
       "       [0.32618736],\n",
       "       [0.50153953],\n",
       "       [0.54916224],\n",
       "       [0.46260231],\n",
       "       [0.48629821],\n",
       "       [0.51343238],\n",
       "       [0.51343238],\n",
       "       [0.51343238],\n",
       "       [0.47595771],\n",
       "       [0.45294178],\n",
       "       [0.42931004],\n",
       "       [0.39794217],\n",
       "       [0.41793036],\n",
       "       [0.41793036],\n",
       "       [0.41793036],\n",
       "       [0.41793036],\n",
       "       [0.40669181],\n",
       "       [0.45761168],\n",
       "       [0.48274446],\n",
       "       [0.38225182],\n",
       "       [0.38225182],\n",
       "       [0.38225182],\n",
       "       [0.29352372],\n",
       "       [0.31117697],\n",
       "       [0.26631258],\n",
       "       [0.13497806],\n",
       "       [0.18086881],\n",
       "       [0.18086881],\n",
       "       [0.18086881],\n",
       "       [0.24913402],\n",
       "       [0.18292151],\n",
       "       [0.06805994],\n",
       "       [0.03286891],\n",
       "       [0.06223539],\n",
       "       [0.06223539],\n",
       "       [0.06223539],\n",
       "       [0.        ],\n",
       "       [0.14227799],\n",
       "       [0.13559387],\n",
       "       [0.20737434],\n",
       "       [0.17645549],\n",
       "       [0.17645549],\n",
       "       [0.17645549],\n",
       "       [0.16643574],\n",
       "       [0.17949606],\n",
       "       [0.23577862],\n",
       "       [0.09755472],\n",
       "       [0.15781438],\n",
       "       [0.15781438],\n",
       "       [0.15781438],\n",
       "       [0.20388474],\n",
       "       [0.23804942],\n",
       "       [0.17335078],\n",
       "       [0.12099402],\n",
       "       [0.12839658],\n",
       "       [0.12839658],\n",
       "       [0.12839658],\n",
       "       [0.15880225],\n",
       "       [0.13257896],\n",
       "       [0.18234419],\n",
       "       [0.2681985 ],\n",
       "       [0.2681985 ],\n",
       "       [0.2681985 ],\n",
       "       [0.2681985 ],\n",
       "       [0.35252611],\n",
       "       [0.34879275],\n",
       "       [0.4200857 ],\n",
       "       [0.44562903],\n",
       "       [0.53915531],\n",
       "       [0.53915531],\n",
       "       [0.53915531],\n",
       "       [0.54837965],\n",
       "       [0.57482103],\n",
       "       [0.48886409],\n",
       "       [0.54799477],\n",
       "       [0.57410258],\n",
       "       [0.57410258],\n",
       "       [0.57410258],\n",
       "       [0.53891155],\n",
       "       [0.49103225],\n",
       "       [0.52609499],\n",
       "       [0.45812486],\n",
       "       [0.49897365],\n",
       "       [0.49897365],\n",
       "       [0.49897365],\n",
       "       [0.58636749],\n",
       "       [0.59718266],\n",
       "       [0.64987299],\n",
       "       [0.66630744],\n",
       "       [0.66131681],\n",
       "       [0.66131681],\n",
       "       [0.66131681],\n",
       "       [0.55748852],\n",
       "       [0.46175557],\n",
       "       [0.40873169],\n",
       "       [0.45469941],\n",
       "       [0.43576322],\n",
       "       [0.43576322],\n",
       "       [0.43576322],\n",
       "       [0.30603238],\n",
       "       [0.34890822],\n",
       "       [0.25657506],\n",
       "       [0.26880148],\n",
       "       [0.34761245],\n",
       "       [0.34761245],\n",
       "       [0.34761245],\n",
       "       [0.40853925],\n",
       "       [0.35964642],\n",
       "       [0.35903061],\n",
       "       [0.37940369],\n",
       "       [0.32218459],\n",
       "       [0.32218459],\n",
       "       [0.32218459],\n",
       "       [0.37595258],\n",
       "       [0.39399071],\n",
       "       [0.40182947],\n",
       "       [0.35686244],\n",
       "       [0.34783055],\n",
       "       [0.34783055],\n",
       "       [0.34783055],\n",
       "       [0.34783055],\n",
       "       [0.34215996],\n",
       "       [0.36184025],\n",
       "       [0.30156775],\n",
       "       [0.32621302],\n",
       "       [0.32621302],\n",
       "       [0.32621302],\n",
       "       [0.31568009],\n",
       "       [0.40048239],\n",
       "       [0.42234367],\n",
       "       [0.51022503],\n",
       "       [0.50660714],\n",
       "       [0.50660714],\n",
       "       [0.50660714],\n",
       "       [0.55412722],\n",
       "       [0.55317784],\n",
       "       [0.59438586],\n",
       "       [0.68931055],\n",
       "       [0.68630847],\n",
       "       [0.68630847],\n",
       "       [0.68630847],\n",
       "       [0.64404844],\n",
       "       [0.71009417],\n",
       "       [0.70801581],\n",
       "       [0.6377877 ],\n",
       "       [0.57669412],\n",
       "       [0.57669412],\n",
       "       [0.57669412],\n",
       "       [0.63112924],\n",
       "       [0.63658174],\n",
       "       [0.62634388],\n",
       "       [0.61711954],\n",
       "       [0.71720165],\n",
       "       [0.71720165],\n",
       "       [0.71720165],\n",
       "       [0.71720165],\n",
       "       [0.92857876],\n",
       "       [0.95531522],\n",
       "       [1.        ],\n",
       "       [0.98451492],\n",
       "       [0.98451492],\n",
       "       [0.98451492],\n",
       "       [0.9835014 ],\n",
       "       [0.93065712],\n",
       "       [0.93619942],\n",
       "       [0.87143664],\n",
       "       [0.79757781],\n",
       "       [0.79757781],\n",
       "       [0.79757781],\n",
       "       [0.76673595],\n",
       "       [0.79701332],\n",
       "       [0.81242142],\n",
       "       [0.88019911],\n",
       "       [0.90407462],\n",
       "       [0.90407462],\n",
       "       [0.90407462],\n",
       "       [0.95947194],\n",
       "       [0.8652657 ],\n",
       "       [0.87030765],\n",
       "       [0.83130629],\n",
       "       [0.48192338],\n",
       "       [0.48192338],\n",
       "       [0.48192338],\n",
       "       [0.48691402],\n",
       "       [0.53150899],\n",
       "       [0.51672953],\n",
       "       [0.54401765],\n",
       "       [0.50418238],\n",
       "       [0.50418238],\n",
       "       [0.50418238],\n",
       "       [0.50024376],\n",
       "       [0.47305827],\n",
       "       [0.43640469],\n",
       "       [0.45101737],\n",
       "       [0.43879096],\n",
       "       [0.43879096],\n",
       "       [0.43879096],\n",
       "       [0.44523131],\n",
       "       [0.37206528],\n",
       "       [0.31979832],\n",
       "       [0.30251713],\n",
       "       [0.31816899],\n",
       "       [0.31816899],\n",
       "       [0.31816899],\n",
       "       [0.40274036],\n",
       "       [0.45394247],\n",
       "       [0.44547507],\n",
       "       [0.46705411],\n",
       "       [0.51019937],\n",
       "       [0.51019937],\n",
       "       [0.51019937],\n",
       "       [0.60249403],\n",
       "       [0.66564032],\n",
       "       [0.67617325],\n",
       "       [0.65580017],\n",
       "       [0.67495446],\n",
       "       [0.67495446],\n",
       "       [0.67495446],\n",
       "       [0.67495446],\n",
       "       [0.71503348],\n",
       "       [0.73582993],\n",
       "       [0.68279322],\n",
       "       [0.66353629],\n",
       "       [0.66353629],\n",
       "       [0.66353629],\n",
       "       [0.64816668],\n",
       "       [0.638968  ],\n",
       "       [0.67205501],\n",
       "       [0.68802761],\n",
       "       [0.65503041],\n",
       "       [0.65503041],\n",
       "       [0.65503041],\n",
       "       [0.5180253 ],\n",
       "       [0.50250173],\n",
       "       [0.54922639],\n",
       "       [0.59534806],\n",
       "       [0.60756165],\n",
       "       [0.60756165],\n",
       "       [0.60756165],\n",
       "       [0.58226208],\n",
       "       [0.4670028 ],\n",
       "       [0.44796398],\n",
       "       [0.42733431],\n",
       "       [0.42505068],\n",
       "       [0.42505068],\n",
       "       [0.42505068],\n",
       "       [0.30512149],\n",
       "       [0.34517486],\n",
       "       [0.39778821],\n",
       "       [0.44964463],\n",
       "       [0.43192723],\n",
       "       [0.43192723],\n",
       "       [0.43192723],\n",
       "       [0.37763323],\n",
       "       [0.37895466],\n",
       "       [0.42635927],\n",
       "       [0.44634747],\n",
       "       [0.58639314],\n",
       "       [0.58639314],\n",
       "       [0.58639314],\n",
       "       [0.63478562],\n",
       "       [0.63146281],\n",
       "       [0.5941421 ],\n",
       "       [0.61973674],\n",
       "       [0.49213558],\n",
       "       [0.49213558],\n",
       "       [0.49213558],\n",
       "       [0.47266056],\n",
       "       [0.54412029],\n",
       "       [0.56518615],\n",
       "       [0.63456752],\n",
       "       [0.53945039],\n",
       "       [0.53945039],\n",
       "       [0.53945039],\n",
       "       [0.46976112],\n",
       "       [0.46288456],\n",
       "       [0.554294  ],\n",
       "       [0.67360737],\n",
       "       [0.727478  ],\n",
       "       [0.727478  ],\n",
       "       [0.727478  ],\n",
       "       [0.68897698],\n",
       "       [0.80091345],\n",
       "       [0.68008621],\n",
       "       [0.66783414],\n",
       "       [0.7353809 ],\n",
       "       [0.7353809 ],\n",
       "       [0.7353809 ],\n",
       "       [0.76171965],\n",
       "       [0.75533061],\n",
       "       [0.76597901],\n",
       "       [0.95464809],\n",
       "       [0.9296436 ],\n",
       "       [0.9296436 ],\n",
       "       [0.9296436 ],\n",
       "       [0.79621789],\n",
       "       [0.79621789],\n",
       "       [0.79621789],\n",
       "       [0.79621789]])"
      ]
     },
     "execution_count": 156,
     "metadata": {},
     "output_type": "execute_result"
    }
   ],
   "source": [
    "from sklearn.preprocessing import StandardScaler, MinMaxScaler\n",
    "\n",
    "scaler = MinMaxScaler()\n",
    "X_scaled_temp = scaler.fit_transform(df_temp)\n",
    "X_scaled_temp"
   ]
  },
  {
   "cell_type": "code",
   "execution_count": 157,
   "id": "56138464",
   "metadata": {
    "scrolled": true
   },
   "outputs": [
    {
     "data": {
      "text/html": [
       "<div>\n",
       "<style scoped>\n",
       "    .dataframe tbody tr th:only-of-type {\n",
       "        vertical-align: middle;\n",
       "    }\n",
       "\n",
       "    .dataframe tbody tr th {\n",
       "        vertical-align: top;\n",
       "    }\n",
       "\n",
       "    .dataframe thead th {\n",
       "        text-align: right;\n",
       "    }\n",
       "</style>\n",
       "<table border=\"1\" class=\"dataframe\">\n",
       "  <thead>\n",
       "    <tr style=\"text-align: right;\">\n",
       "      <th></th>\n",
       "      <th>date</th>\n",
       "      <th>AMZN</th>\n",
       "      <th>class_label</th>\n",
       "      <th>twitter_label</th>\n",
       "    </tr>\n",
       "  </thead>\n",
       "  <tbody>\n",
       "    <tr>\n",
       "      <th>365</th>\n",
       "      <td>2021-11-06</td>\n",
       "      <td>0.727478</td>\n",
       "      <td>0.100000</td>\n",
       "      <td>0.0</td>\n",
       "    </tr>\n",
       "    <tr>\n",
       "      <th>366</th>\n",
       "      <td>2021-11-07</td>\n",
       "      <td>0.727478</td>\n",
       "      <td>1.000000</td>\n",
       "      <td>0.0</td>\n",
       "    </tr>\n",
       "    <tr>\n",
       "      <th>367</th>\n",
       "      <td>2021-11-08</td>\n",
       "      <td>0.688977</td>\n",
       "      <td>0.500000</td>\n",
       "      <td>0.0</td>\n",
       "    </tr>\n",
       "    <tr>\n",
       "      <th>368</th>\n",
       "      <td>2021-11-09</td>\n",
       "      <td>0.800913</td>\n",
       "      <td>0.486486</td>\n",
       "      <td>0.0</td>\n",
       "    </tr>\n",
       "    <tr>\n",
       "      <th>369</th>\n",
       "      <td>2021-11-10</td>\n",
       "      <td>0.680086</td>\n",
       "      <td>0.481481</td>\n",
       "      <td>0.0</td>\n",
       "    </tr>\n",
       "    <tr>\n",
       "      <th>370</th>\n",
       "      <td>2021-11-11</td>\n",
       "      <td>0.667834</td>\n",
       "      <td>0.560000</td>\n",
       "      <td>0.0</td>\n",
       "    </tr>\n",
       "    <tr>\n",
       "      <th>371</th>\n",
       "      <td>2021-11-12</td>\n",
       "      <td>0.735381</td>\n",
       "      <td>0.567568</td>\n",
       "      <td>0.0</td>\n",
       "    </tr>\n",
       "    <tr>\n",
       "      <th>372</th>\n",
       "      <td>2021-11-13</td>\n",
       "      <td>0.735381</td>\n",
       "      <td>0.357143</td>\n",
       "      <td>0.0</td>\n",
       "    </tr>\n",
       "    <tr>\n",
       "      <th>373</th>\n",
       "      <td>2021-11-14</td>\n",
       "      <td>0.735381</td>\n",
       "      <td>0.888889</td>\n",
       "      <td>0.0</td>\n",
       "    </tr>\n",
       "    <tr>\n",
       "      <th>374</th>\n",
       "      <td>2021-11-15</td>\n",
       "      <td>0.761720</td>\n",
       "      <td>0.467391</td>\n",
       "      <td>1.0</td>\n",
       "    </tr>\n",
       "    <tr>\n",
       "      <th>375</th>\n",
       "      <td>2021-11-16</td>\n",
       "      <td>0.755331</td>\n",
       "      <td>0.435897</td>\n",
       "      <td>1.0</td>\n",
       "    </tr>\n",
       "    <tr>\n",
       "      <th>376</th>\n",
       "      <td>2021-11-17</td>\n",
       "      <td>0.765979</td>\n",
       "      <td>0.394958</td>\n",
       "      <td>0.0</td>\n",
       "    </tr>\n",
       "    <tr>\n",
       "      <th>377</th>\n",
       "      <td>2021-11-18</td>\n",
       "      <td>0.954648</td>\n",
       "      <td>0.417582</td>\n",
       "      <td>0.0</td>\n",
       "    </tr>\n",
       "    <tr>\n",
       "      <th>378</th>\n",
       "      <td>2021-11-19</td>\n",
       "      <td>0.929644</td>\n",
       "      <td>0.488095</td>\n",
       "      <td>0.0</td>\n",
       "    </tr>\n",
       "    <tr>\n",
       "      <th>379</th>\n",
       "      <td>2021-11-20</td>\n",
       "      <td>0.929644</td>\n",
       "      <td>0.529412</td>\n",
       "      <td>0.0</td>\n",
       "    </tr>\n",
       "    <tr>\n",
       "      <th>380</th>\n",
       "      <td>2021-11-21</td>\n",
       "      <td>0.929644</td>\n",
       "      <td>0.500000</td>\n",
       "      <td>1.0</td>\n",
       "    </tr>\n",
       "    <tr>\n",
       "      <th>381</th>\n",
       "      <td>2021-11-22</td>\n",
       "      <td>0.796218</td>\n",
       "      <td>0.394737</td>\n",
       "      <td>0.0</td>\n",
       "    </tr>\n",
       "    <tr>\n",
       "      <th>382</th>\n",
       "      <td>2021-11-23</td>\n",
       "      <td>0.796218</td>\n",
       "      <td>0.294118</td>\n",
       "      <td>0.0</td>\n",
       "    </tr>\n",
       "    <tr>\n",
       "      <th>383</th>\n",
       "      <td>2021-11-24</td>\n",
       "      <td>0.796218</td>\n",
       "      <td>-1.000000</td>\n",
       "      <td>0.0</td>\n",
       "    </tr>\n",
       "    <tr>\n",
       "      <th>384</th>\n",
       "      <td>2021-11-25</td>\n",
       "      <td>0.796218</td>\n",
       "      <td>-1.000000</td>\n",
       "      <td>1.0</td>\n",
       "    </tr>\n",
       "  </tbody>\n",
       "</table>\n",
       "</div>"
      ],
      "text/plain": [
       "          date      AMZN  class_label  twitter_label\n",
       "365 2021-11-06  0.727478     0.100000            0.0\n",
       "366 2021-11-07  0.727478     1.000000            0.0\n",
       "367 2021-11-08  0.688977     0.500000            0.0\n",
       "368 2021-11-09  0.800913     0.486486            0.0\n",
       "369 2021-11-10  0.680086     0.481481            0.0\n",
       "370 2021-11-11  0.667834     0.560000            0.0\n",
       "371 2021-11-12  0.735381     0.567568            0.0\n",
       "372 2021-11-13  0.735381     0.357143            0.0\n",
       "373 2021-11-14  0.735381     0.888889            0.0\n",
       "374 2021-11-15  0.761720     0.467391            1.0\n",
       "375 2021-11-16  0.755331     0.435897            1.0\n",
       "376 2021-11-17  0.765979     0.394958            0.0\n",
       "377 2021-11-18  0.954648     0.417582            0.0\n",
       "378 2021-11-19  0.929644     0.488095            0.0\n",
       "379 2021-11-20  0.929644     0.529412            0.0\n",
       "380 2021-11-21  0.929644     0.500000            1.0\n",
       "381 2021-11-22  0.796218     0.394737            0.0\n",
       "382 2021-11-23  0.796218     0.294118            0.0\n",
       "383 2021-11-24  0.796218    -1.000000            0.0\n",
       "384 2021-11-25  0.796218    -1.000000            1.0"
      ]
     },
     "execution_count": 157,
     "metadata": {},
     "output_type": "execute_result"
    }
   ],
   "source": [
    "merged_twitter_df[\"AMZN\"] = X_scaled_temp\n",
    "merged_twitter_df.tail(20)"
   ]
  },
  {
   "cell_type": "code",
   "execution_count": 158,
   "id": "ea795eb6",
   "metadata": {},
   "outputs": [],
   "source": [
    "df  = merged_twitter_df.copy()"
   ]
  },
  {
   "cell_type": "code",
   "execution_count": 159,
   "id": "4ab67f15",
   "metadata": {},
   "outputs": [
    {
     "data": {
      "text/plain": [
       "twitter_label\n",
       " 0.0             291\n",
       " 1.0              74\n",
       "-1.0              20\n",
       "dtype: int64"
      ]
     },
     "execution_count": 159,
     "metadata": {},
     "output_type": "execute_result"
    }
   ],
   "source": [
    "df[[\"twitter_label\"]].value_counts()"
   ]
  },
  {
   "cell_type": "code",
   "execution_count": 161,
   "id": "5d87ff11",
   "metadata": {},
   "outputs": [
    {
     "data": {
      "text/html": [
       "<div>\n",
       "<style scoped>\n",
       "    .dataframe tbody tr th:only-of-type {\n",
       "        vertical-align: middle;\n",
       "    }\n",
       "\n",
       "    .dataframe tbody tr th {\n",
       "        vertical-align: top;\n",
       "    }\n",
       "\n",
       "    .dataframe thead th {\n",
       "        text-align: right;\n",
       "    }\n",
       "</style>\n",
       "<table border=\"1\" class=\"dataframe\">\n",
       "  <thead>\n",
       "    <tr style=\"text-align: right;\">\n",
       "      <th></th>\n",
       "      <th>date</th>\n",
       "      <th>AMZN</th>\n",
       "      <th>class_label</th>\n",
       "      <th>twitter_label</th>\n",
       "    </tr>\n",
       "  </thead>\n",
       "  <tbody>\n",
       "    <tr>\n",
       "      <th>380</th>\n",
       "      <td>2021-11-21</td>\n",
       "      <td>0.929644</td>\n",
       "      <td>0.500000</td>\n",
       "      <td>1.0</td>\n",
       "    </tr>\n",
       "    <tr>\n",
       "      <th>381</th>\n",
       "      <td>2021-11-22</td>\n",
       "      <td>0.796218</td>\n",
       "      <td>0.394737</td>\n",
       "      <td>0.0</td>\n",
       "    </tr>\n",
       "    <tr>\n",
       "      <th>382</th>\n",
       "      <td>2021-11-23</td>\n",
       "      <td>0.796218</td>\n",
       "      <td>0.294118</td>\n",
       "      <td>0.0</td>\n",
       "    </tr>\n",
       "    <tr>\n",
       "      <th>383</th>\n",
       "      <td>2021-11-24</td>\n",
       "      <td>0.796218</td>\n",
       "      <td>-1.000000</td>\n",
       "      <td>0.0</td>\n",
       "    </tr>\n",
       "    <tr>\n",
       "      <th>384</th>\n",
       "      <td>2021-11-25</td>\n",
       "      <td>0.796218</td>\n",
       "      <td>-1.000000</td>\n",
       "      <td>1.0</td>\n",
       "    </tr>\n",
       "  </tbody>\n",
       "</table>\n",
       "</div>"
      ],
      "text/plain": [
       "          date      AMZN  class_label  twitter_label\n",
       "380 2021-11-21  0.929644     0.500000            1.0\n",
       "381 2021-11-22  0.796218     0.394737            0.0\n",
       "382 2021-11-23  0.796218     0.294118            0.0\n",
       "383 2021-11-24  0.796218    -1.000000            0.0\n",
       "384 2021-11-25  0.796218    -1.000000            1.0"
      ]
     },
     "execution_count": 161,
     "metadata": {},
     "output_type": "execute_result"
    }
   ],
   "source": [
    "df.tail()"
   ]
  },
  {
   "cell_type": "markdown",
   "id": "62498d55",
   "metadata": {},
   "source": [
    "## prepare it for model LSTM"
   ]
  },
  {
   "cell_type": "code",
   "execution_count": 162,
   "id": "182d8060",
   "metadata": {},
   "outputs": [],
   "source": [
    "df.set_index([\"date\"], inplace= True)"
   ]
  },
  {
   "cell_type": "code",
   "execution_count": 163,
   "id": "c1e49e3a",
   "metadata": {},
   "outputs": [
    {
     "data": {
      "image/png": "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\n",
      "text/plain": [
       "<Figure size 1224x144 with 1 Axes>"
      ]
     },
     "metadata": {
      "needs_background": "light"
     },
     "output_type": "display_data"
    },
    {
     "data": {
      "image/png": "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\n",
      "text/plain": [
       "<Figure size 1224x144 with 1 Axes>"
      ]
     },
     "metadata": {
      "needs_background": "light"
     },
     "output_type": "display_data"
    },
    {
     "data": {
      "image/png": "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\n",
      "text/plain": [
       "<Figure size 1224x144 with 1 Axes>"
      ]
     },
     "metadata": {
      "needs_background": "light"
     },
     "output_type": "display_data"
    }
   ],
   "source": [
    "import matplotlib.pyplot as plt\n",
    "%matplotlib inline\n",
    "\n",
    "for col in df.columns:\n",
    "    color=\"orange\" if col == \"AMZN\" else \"blue\"\n",
    "    df[col].plot(figsize=(17, 2), color=color)\n",
    "    plt.title(col)\n",
    "    plt.show()"
   ]
  },
  {
   "cell_type": "code",
   "execution_count": 164,
   "id": "e4a41a8b",
   "metadata": {},
   "outputs": [
    {
     "data": {
      "text/html": [
       "<div>\n",
       "<style scoped>\n",
       "    .dataframe tbody tr th:only-of-type {\n",
       "        vertical-align: middle;\n",
       "    }\n",
       "\n",
       "    .dataframe tbody tr th {\n",
       "        vertical-align: top;\n",
       "    }\n",
       "\n",
       "    .dataframe thead th {\n",
       "        text-align: right;\n",
       "    }\n",
       "</style>\n",
       "<table border=\"1\" class=\"dataframe\">\n",
       "  <thead>\n",
       "    <tr style=\"text-align: right;\">\n",
       "      <th></th>\n",
       "      <th>AMZN</th>\n",
       "      <th>class_label</th>\n",
       "      <th>twitter_label</th>\n",
       "    </tr>\n",
       "  </thead>\n",
       "  <tbody>\n",
       "    <tr>\n",
       "      <th>count</th>\n",
       "      <td>385.000000</td>\n",
       "      <td>385.000000</td>\n",
       "      <td>385.000000</td>\n",
       "    </tr>\n",
       "    <tr>\n",
       "      <th>mean</th>\n",
       "      <td>0.459112</td>\n",
       "      <td>0.410457</td>\n",
       "      <td>0.140260</td>\n",
       "    </tr>\n",
       "    <tr>\n",
       "      <th>std</th>\n",
       "      <td>0.210588</td>\n",
       "      <td>0.434192</td>\n",
       "      <td>0.474413</td>\n",
       "    </tr>\n",
       "    <tr>\n",
       "      <th>min</th>\n",
       "      <td>0.000000</td>\n",
       "      <td>-1.000000</td>\n",
       "      <td>-1.000000</td>\n",
       "    </tr>\n",
       "    <tr>\n",
       "      <th>25%</th>\n",
       "      <td>0.305121</td>\n",
       "      <td>0.347826</td>\n",
       "      <td>0.000000</td>\n",
       "    </tr>\n",
       "    <tr>\n",
       "      <th>50%</th>\n",
       "      <td>0.438791</td>\n",
       "      <td>0.500000</td>\n",
       "      <td>0.000000</td>\n",
       "    </tr>\n",
       "    <tr>\n",
       "      <th>75%</th>\n",
       "      <td>0.595348</td>\n",
       "      <td>0.600000</td>\n",
       "      <td>0.000000</td>\n",
       "    </tr>\n",
       "    <tr>\n",
       "      <th>max</th>\n",
       "      <td>1.000000</td>\n",
       "      <td>1.000000</td>\n",
       "      <td>1.000000</td>\n",
       "    </tr>\n",
       "  </tbody>\n",
       "</table>\n",
       "</div>"
      ],
      "text/plain": [
       "             AMZN  class_label  twitter_label\n",
       "count  385.000000   385.000000     385.000000\n",
       "mean     0.459112     0.410457       0.140260\n",
       "std      0.210588     0.434192       0.474413\n",
       "min      0.000000    -1.000000      -1.000000\n",
       "25%      0.305121     0.347826       0.000000\n",
       "50%      0.438791     0.500000       0.000000\n",
       "75%      0.595348     0.600000       0.000000\n",
       "max      1.000000     1.000000       1.000000"
      ]
     },
     "execution_count": 164,
     "metadata": {},
     "output_type": "execute_result"
    }
   ],
   "source": [
    "df.describe()"
   ]
  },
  {
   "cell_type": "markdown",
   "id": "93f811f7",
   "metadata": {},
   "source": [
    "X.shape = number of sequence?, 30, 2 <br>\n",
    "y.shape = number of sequence?"
   ]
  },
  {
   "cell_type": "code",
   "execution_count": 165,
   "id": "9ad30982",
   "metadata": {},
   "outputs": [],
   "source": [
    "import numpy as np\n",
    "\n",
    "def subsample_sequence(df, length):\n",
    "    \"\"\"\n",
    "    Given the initial dataframe `df`, return a shorter dataframe sequence of length `length`.\n",
    "    This shorter sequence should be selected at random\n",
    "    \"\"\"\n",
    "    # $CHALLENGIFY_BEGIN\n",
    "    last_possible = df.shape[0] - length\n",
    "    \n",
    "    random_start = np.random.randint(0, last_possible)\n",
    "    df_sample = df[random_start: random_start+length]\n",
    "    # $CHALLENGIFY_END\n",
    "    return df_sample"
   ]
  },
  {
   "cell_type": "code",
   "execution_count": 167,
   "id": "15b121c8",
   "metadata": {},
   "outputs": [],
   "source": [
    "# Test it \n",
    "assert subsample_sequence(df, 10).shape == (10, 3)"
   ]
  },
  {
   "cell_type": "code",
   "execution_count": 168,
   "id": "4050bb2e",
   "metadata": {},
   "outputs": [],
   "source": [
    "def split_subsample_sequence(df, length):\n",
    "    '''Create one single random (X,y) pair'''\n",
    "    # $CHALLENGIFY_BEGIN\n",
    "    df_subsample = subsample_sequence(df, length)\n",
    "    y_sample = df_subsample.iloc[length -1]['AMZN'] # -1 means the future window\n",
    "    \n",
    "    X_sample = df_subsample[0:length -1]# -1 means the future window\n",
    "    X_sample = X_sample.values\n",
    "    # $CHALLENGIFY_END\n",
    "    return np.array(X_sample), np.array(y_sample)"
   ]
  },
  {
   "cell_type": "code",
   "execution_count": 169,
   "id": "acd2af18",
   "metadata": {},
   "outputs": [],
   "source": [
    "def compute_means(X, df_mean):\n",
    "    # Compute means of X\n",
    "    means = X.mean()\n",
    "    \n",
    "    # Case if ALL values of at least one feature of X are NaN, then reaplace with the whole df_mean\n",
    "    if means.isna().sum() != 0:\n",
    "        means.fillna(df_mean, inplace=True)\n",
    "        \n",
    "    return means\n",
    "\n",
    "def split_subsample_sequence(df, length, df_mean=None):\n",
    "    '''Return one single random sample (X_sample, y_sample) containing one sequence each of length `length`'''\n",
    "    # Trick to save time during potential recursive calls\n",
    "    if df_mean is None:\n",
    "        df_mean = df.mean()\n",
    "\n",
    "    df_subsample = subsample_sequence(df, length)\n",
    "    \n",
    "    y_sample = df_subsample.iloc[length-1]['AMZN']\n",
    "    # Case y_sample is NaN: redraw !\n",
    "    if y_sample != y_sample: # A value is not equal to itself only for NaN\n",
    "            X_sample, y_sample = split_subsample_sequence(df, length, df_mean) # Recursive call !!!\n",
    "            return np.array(X_sample), np.array(y_sample)\n",
    "\n",
    "    X_sample = df_subsample[0:length-1]\n",
    "    # Case X_sample has some NaNs\n",
    "    if X_sample.isna().sum().sum() !=0:\n",
    "        X_sample = X_sample.fillna(compute_means(X_sample, df_mean))\n",
    "        X_sample = X_sample.values\n",
    "        \n",
    "    return np.array(X_sample), np.array(y_sample)"
   ]
  },
  {
   "cell_type": "code",
   "execution_count": 171,
   "id": "a29aa33e",
   "metadata": {},
   "outputs": [],
   "source": [
    "# Test it\n",
    "(X_sample, y_sample) = split_subsample_sequence(df, 10)\n",
    "assert X_sample.shape == (9,3)\n",
    "assert y_sample.shape == ()"
   ]
  },
  {
   "cell_type": "code",
   "execution_count": 172,
   "id": "5cc0418a",
   "metadata": {},
   "outputs": [],
   "source": [
    "def get_X_y(df, n_sequences, length): #length = 30, n_sequence = 12, df(12month)\n",
    "    '''Return a list of samples (X, y)'''\n",
    "    # $CHALLENGIFY_BEGIN\n",
    "    X, y = [], []\n",
    "\n",
    "    for i in range(n_sequences):\n",
    "        (xi, yi) = split_subsample_sequence(df, length)\n",
    "        X.append(xi)\n",
    "        y.append(yi)\n",
    "        \n",
    "    X = np.array(X)\n",
    "    y = np.array(y)\n",
    "    # $CHALLENGIFY_END\n",
    "    return X, y"
   ]
  },
  {
   "cell_type": "code",
   "execution_count": 173,
   "id": "be2a1603",
   "metadata": {},
   "outputs": [
    {
     "name": "stdout",
     "output_type": "stream",
     "text": [
      "(12, 29, 3)\n",
      "(12,)\n"
     ]
    }
   ],
   "source": [
    "X, y = get_X_y(df, 12, 30)\n",
    "print(X.shape)\n",
    "print(y.shape)"
   ]
  },
  {
   "cell_type": "markdown",
   "id": "f2f03bda",
   "metadata": {},
   "source": [
    "## Train test split"
   ]
  },
  {
   "cell_type": "code",
   "execution_count": 174,
   "id": "90f83830",
   "metadata": {},
   "outputs": [],
   "source": [
    "# len of train dataset should be 80%"
   ]
  },
  {
   "cell_type": "code",
   "execution_count": 175,
   "id": "6ed8dfca",
   "metadata": {},
   "outputs": [
    {
     "name": "stdout",
     "output_type": "stream",
     "text": [
      "(308, 3)\n",
      "(77, 3)\n"
     ]
    }
   ],
   "source": [
    "len_ = int(0.8*df.shape[0])\n",
    "df_train = df[:len_]\n",
    "df_test = df[len_:]\n",
    "print(df_train.shape)\n",
    "print(df_test.shape)"
   ]
  },
  {
   "cell_type": "code",
   "execution_count": 176,
   "id": "5535c056",
   "metadata": {},
   "outputs": [],
   "source": [
    "X_train, y_train = get_X_y(df_train, 12, 30) # 12 sequences of a length of 30 days\n",
    "X_test, y_test = get_X_y(df_test, 12, 30) # 12 sequences of a length of 30 days"
   ]
  },
  {
   "cell_type": "markdown",
   "id": "f843402a",
   "metadata": {},
   "source": [
    "## predict a baseline"
   ]
  },
  {
   "cell_type": "code",
   "execution_count": 177,
   "id": "453a44a9",
   "metadata": {},
   "outputs": [
    {
     "name": "stdout",
     "output_type": "stream",
     "text": [
      "Benchmark MAPE on the test set : 18 %\n"
     ]
    }
   ],
   "source": [
    "# We here decide to predict the mean of the train set y_train\n",
    "y_pred = np.mean(y_train)\n",
    "bench_res = np.mean(np.abs(y_pred - y_test)/y_test)*100\n",
    "\n",
    "print(f'Benchmark MAPE on the test set : {bench_res:.0f} %')"
   ]
  },
  {
   "cell_type": "code",
   "execution_count": 178,
   "id": "08d0458e",
   "metadata": {},
   "outputs": [
    {
     "name": "stdout",
     "output_type": "stream",
     "text": [
      "Benchmark MAPE on the test set : 4 %\n"
     ]
    }
   ],
   "source": [
    "# Or (better) we predict the last pollution value!\n",
    "y_pred_baseline = X_test[:,-1,0]\n",
    "bench_res = np.mean(np.abs(y_pred_baseline - y_test)/y_test)*100\n",
    "print(f'Benchmark MAPE on the test set : {bench_res:.0f} %')"
   ]
  },
  {
   "cell_type": "markdown",
   "id": "61af1fef",
   "metadata": {},
   "source": []
  },
  {
   "cell_type": "markdown",
   "id": "7a4e116b",
   "metadata": {},
   "source": [
    "## simple LSTM"
   ]
  },
  {
   "cell_type": "code",
   "execution_count": 195,
   "id": "9a720efc",
   "metadata": {},
   "outputs": [],
   "source": [
    "from tensorflow.keras import models\n",
    "from tensorflow.keras import layers\n",
    "from tensorflow.keras import optimizers, metrics\n",
    "from tensorflow.keras.layers.experimental.preprocessing import Normalization\n",
    "\n",
    "def init_model():\n",
    "    metric = metrics.MAPE\n",
    "    opt = optimizers.RMSprop(learning_rate=0.01)\n",
    "\n",
    "    model = models.Sequential()\n",
    "    model.add(layers.LSTM(20, activation='tanh'))\n",
    "    model.add(layers.Dense(5, activation='relu'))\n",
    "    model.add(layers.Dense(1, activation='linear'))\n",
    "    \n",
    "    model.compile(loss='mse', \n",
    "                  optimizer=opt, \n",
    "                  metrics=[metric])\n",
    "    \n",
    "    return model"
   ]
  },
  {
   "cell_type": "code",
   "execution_count": 196,
   "id": "df3d5c8f",
   "metadata": {},
   "outputs": [
    {
     "ename": "ValueError",
     "evalue": "This model has not yet been built. Build the model first by calling `build()` or by calling the model on a batch of data.",
     "output_type": "error",
     "traceback": [
      "\u001b[0;31m---------------------------------------------------------------------------\u001b[0m",
      "\u001b[0;31mValueError\u001b[0m                                Traceback (most recent call last)",
      "\u001b[0;32m/tmp/ipykernel_28201/931277583.py\u001b[0m in \u001b[0;36m<module>\u001b[0;34m\u001b[0m\n\u001b[1;32m      1\u001b[0m \u001b[0mmodel\u001b[0m \u001b[0;34m=\u001b[0m \u001b[0minit_model\u001b[0m\u001b[0;34m(\u001b[0m\u001b[0;34m)\u001b[0m\u001b[0;34m\u001b[0m\u001b[0;34m\u001b[0m\u001b[0m\n\u001b[0;32m----> 2\u001b[0;31m \u001b[0mmodel\u001b[0m\u001b[0;34m.\u001b[0m\u001b[0msummary\u001b[0m\u001b[0;34m(\u001b[0m\u001b[0;34m)\u001b[0m\u001b[0;34m\u001b[0m\u001b[0;34m\u001b[0m\u001b[0m\n\u001b[0m",
      "\u001b[0;32m~/.pyenv/versions/3.8.12/envs/lewagon/lib/python3.8/site-packages/keras/engine/training.py\u001b[0m in \u001b[0;36msummary\u001b[0;34m(self, line_length, positions, print_fn, expand_nested)\u001b[0m\n\u001b[1;32m   2577\u001b[0m     \"\"\"\n\u001b[1;32m   2578\u001b[0m     \u001b[0;32mif\u001b[0m \u001b[0;32mnot\u001b[0m \u001b[0mself\u001b[0m\u001b[0;34m.\u001b[0m\u001b[0mbuilt\u001b[0m\u001b[0;34m:\u001b[0m\u001b[0;34m\u001b[0m\u001b[0;34m\u001b[0m\u001b[0m\n\u001b[0;32m-> 2579\u001b[0;31m       raise ValueError(\n\u001b[0m\u001b[1;32m   2580\u001b[0m           \u001b[0;34m'This model has not yet been built. '\u001b[0m\u001b[0;34m\u001b[0m\u001b[0;34m\u001b[0m\u001b[0m\n\u001b[1;32m   2581\u001b[0m           \u001b[0;34m'Build the model first by calling `build()` or by calling '\u001b[0m\u001b[0;34m\u001b[0m\u001b[0;34m\u001b[0m\u001b[0m\n",
      "\u001b[0;31mValueError\u001b[0m: This model has not yet been built. Build the model first by calling `build()` or by calling the model on a batch of data."
     ]
    }
   ],
   "source": [
    "model = init_model()\n",
    "model.summary()"
   ]
  },
  {
   "cell_type": "code",
   "execution_count": 189,
   "id": "7c65948c",
   "metadata": {},
   "outputs": [
    {
     "name": "stdout",
     "output_type": "stream",
     "text": [
      "Restoring model weights from the end of the best epoch: 55.\n",
      "Epoch 00065: early stopping\n"
     ]
    }
   ],
   "source": [
    "from tensorflow.keras.callbacks import EarlyStopping\n",
    "es = EarlyStopping(monitor='val_loss', verbose=1, patience=10, restore_best_weights=True)\n",
    "\n",
    "history = model.fit(X_train, y_train,\n",
    "            validation_split=0.2,\n",
    "            epochs=1000, \n",
    "            batch_size=64,\n",
    "            callbacks=[es], verbose=0)"
   ]
  },
  {
   "cell_type": "code",
   "execution_count": 190,
   "id": "1fa35e66",
   "metadata": {},
   "outputs": [
    {
     "data": {
      "text/plain": [
       "[<matplotlib.lines.Line2D at 0x7f22f8fd68e0>]"
      ]
     },
     "execution_count": 190,
     "metadata": {},
     "output_type": "execute_result"
    },
    {
     "data": {
      "image/png": "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\n",
      "text/plain": [
       "<Figure size 432x288 with 1 Axes>"
      ]
     },
     "metadata": {
      "needs_background": "light"
     },
     "output_type": "display_data"
    }
   ],
   "source": [
    "import matplotlib.pyplot as plt\n",
    "plt.plot(history.history['mean_absolute_percentage_error'])\n",
    "plt.plot(history.history['val_mean_absolute_percentage_error'])"
   ]
  },
  {
   "cell_type": "code",
   "execution_count": 191,
   "id": "ed5cb8cb",
   "metadata": {},
   "outputs": [
    {
     "name": "stdout",
     "output_type": "stream",
     "text": [
      "MAPE on the test set : 16 %\n"
     ]
    }
   ],
   "source": [
    "res = model.evaluate(X_test, y_test, verbose=0)\n",
    "\n",
    "print(f'MAPE on the test set : {res[1]:.0f} %')"
   ]
  },
  {
   "cell_type": "markdown",
   "id": "5e95e913",
   "metadata": {},
   "source": [
    "## Improved Model"
   ]
  },
  {
   "cell_type": "code",
   "execution_count": 192,
   "id": "a9b281da",
   "metadata": {},
   "outputs": [
    {
     "name": "stdout",
     "output_type": "stream",
     "text": [
      "Restoring model weights from the end of the best epoch: 37.\n",
      "Epoch 00042: early stopping\n"
     ]
    }
   ],
   "source": [
    "def init_model_2():\n",
    "    metric = metrics.MAPE\n",
    "    opt = optimizers.RMSprop(learning_rate=0.005)\n",
    "    \n",
    "    model = models.Sequential()\n",
    "    model.add(layers.LSTM(20, return_sequences=True, activation='tanh'))\n",
    "    model.add(layers.LSTM(10, activation='tanh'))\n",
    "    model.add(layers.Dense(5, activation='relu'))\n",
    "    model.add(layers.Dense(1, activation='linear'))\n",
    "    \n",
    "    model.compile(loss='mse', \n",
    "                  optimizer=opt, \n",
    "                  metrics=[metric])\n",
    "    \n",
    "    return model\n",
    "\n",
    "model_2 = init_model_2()\n",
    "\n",
    "es = EarlyStopping(monitor='val_loss', verbose=1, patience=5, restore_best_weights=True)\n",
    "\n",
    "history_2 = model_2.fit(X_train, y_train,\n",
    "            validation_split=0.3,\n",
    "            epochs=1000, \n",
    "            batch_size=32,\n",
    "            callbacks=[es], verbose=0)"
   ]
  },
  {
   "cell_type": "code",
   "execution_count": 193,
   "id": "1df9f718",
   "metadata": {},
   "outputs": [
    {
     "data": {
      "text/plain": [
       "[<matplotlib.lines.Line2D at 0x7f22f8ec3ee0>]"
      ]
     },
     "execution_count": 193,
     "metadata": {},
     "output_type": "execute_result"
    },
    {
     "data": {
      "image/png": "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\n",
      "text/plain": [
       "<Figure size 432x288 with 1 Axes>"
      ]
     },
     "metadata": {
      "needs_background": "light"
     },
     "output_type": "display_data"
    }
   ],
   "source": [
    "import matplotlib.pyplot as plt\n",
    "plt.plot(history_2.history['mean_absolute_percentage_error'])\n",
    "plt.plot(history_2.history['val_mean_absolute_percentage_error'])"
   ]
  },
  {
   "cell_type": "code",
   "execution_count": 197,
   "id": "7e6fe138",
   "metadata": {},
   "outputs": [
    {
     "name": "stdout",
     "output_type": "stream",
     "text": [
      "MAPE on the test set : 20 %\n"
     ]
    }
   ],
   "source": [
    "res = model_2.evaluate(X_test, y_test, verbose=0)\n",
    "\n",
    "print(f'MAPE on the test set : {res[1]:.0f} %')"
   ]
  },
  {
   "cell_type": "code",
   "execution_count": null,
   "id": "b88a1224",
   "metadata": {},
   "outputs": [],
   "source": []
  },
  {
   "cell_type": "markdown",
   "id": "8505006d",
   "metadata": {},
   "source": [
    "## Check Performance of the models"
   ]
  },
  {
   "cell_type": "code",
   "execution_count": 198,
   "id": "ad37b627",
   "metadata": {},
   "outputs": [],
   "source": [
    "from tensorflow.keras import models\n",
    "from tensorflow.keras import layers\n",
    "from tensorflow.keras import optimizers, metrics\n",
    "from tensorflow.keras.layers.experimental.preprocessing import Normalization\n",
    "\n",
    "def train_model(nb_sequences=12, nb_days=30, plot_history=False):\n",
    "    X_train, y_train = get_X_y(df_train, nb_sequences, nb_days)\n",
    "    X_test, y_test = get_X_y(df_test, round(nb_sequences*0.2), nb_days)\n",
    "\n",
    "    metric = metrics.MAPE\n",
    "    opt = optimizers.RMSprop(learning_rate=0.01)\n",
    "\n",
    "    model = models.Sequential()\n",
    "    model.add(layers.LSTM(20, return_sequences=True, activation='tanh'))\n",
    "    model.add(layers.LSTM(10, activation='tanh'))\n",
    "    model.add(layers.Dense(5, activation='relu'))\n",
    "    model.add(layers.Dense(1, activation='linear'))\n",
    "\n",
    "    model.compile(loss='mse', \n",
    "                  optimizer=opt, \n",
    "                  metrics=[metric])\n",
    "\n",
    "\n",
    "    es = EarlyStopping(monitor='val_loss', patience=5, restore_best_weights=True)\n",
    "\n",
    "    history = model.fit(X_train, y_train,\n",
    "            validation_split=0.3,\n",
    "            epochs=1000, \n",
    "            batch_size=64,\n",
    "            callbacks=[es],\n",
    "            verbose=0)\n",
    "\n",
    "    if plot_history:\n",
    "        plt.plot(history.history['mean_absolute_percentage_error'])\n",
    "        plt.plot(history.history['val_mean_absolute_percentage_error'])\n",
    "        plt.show()\n",
    "\n",
    "    res = model.evaluate(X_test, y_test, verbose=0)\n",
    "    return res"
   ]
  },
  {
   "cell_type": "code",
   "execution_count": 199,
   "id": "5a1f954f",
   "metadata": {},
   "outputs": [
    {
     "data": {
      "image/png": "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\n",
      "text/plain": [
       "<Figure size 432x288 with 1 Axes>"
      ]
     },
     "metadata": {
      "needs_background": "light"
     },
     "output_type": "display_data"
    },
    {
     "data": {
      "text/plain": [
       "[0.15084421634674072, 44.005775451660156]"
      ]
     },
     "execution_count": 199,
     "metadata": {},
     "output_type": "execute_result"
    }
   ],
   "source": [
    "train_model(nb_sequences=12, nb_days=30, plot_history=True)"
   ]
  },
  {
   "cell_type": "code",
   "execution_count": 200,
   "id": "839db959",
   "metadata": {},
   "outputs": [],
   "source": [
    "nb_days_grid = [12,30,60]\n",
    "nb_sequences_grid = [12, 50, 100]\n",
    "MAPE = []"
   ]
  },
  {
   "cell_type": "code",
   "execution_count": 201,
   "id": "617e76b2",
   "metadata": {},
   "outputs": [
    {
     "name": "stdout",
     "output_type": "stream",
     "text": [
      "For 12 sequences and 12 days of observation, the MAPE is of 15 %\n",
      "For 50 sequences and 12 days of observation, the MAPE is of 14 %\n",
      "For 100 sequences and 12 days of observation, the MAPE is of 18 %\n",
      "For 12 sequences and 30 days of observation, the MAPE is of 35 %\n",
      "For 50 sequences and 30 days of observation, the MAPE is of 12 %\n",
      "For 100 sequences and 30 days of observation, the MAPE is of 24 %\n",
      "For 12 sequences and 60 days of observation, the MAPE is of 18 %\n",
      "For 50 sequences and 60 days of observation, the MAPE is of 23 %\n",
      "For 100 sequences and 60 days of observation, the MAPE is of 20 %\n"
     ]
    }
   ],
   "source": [
    "for nb_days in nb_days_grid:\n",
    "    for nb_sequences in nb_sequences_grid:\n",
    "        res = train_model(nb_sequences=nb_sequences, nb_days=nb_days)\n",
    "        MAPE.append((nb_days, nb_sequences, res[1]))\n",
    "        print(f'For {nb_sequences} sequences and {nb_days} days of observation, the MAPE is of {res[1]:.0f} %')"
   ]
  },
  {
   "cell_type": "code",
   "execution_count": 202,
   "id": "1db41fa6",
   "metadata": {},
   "outputs": [
    {
     "data": {
      "text/plain": [
       "[(12, 12, 15.25463581085205),\n",
       " (12, 50, 14.484237670898438),\n",
       " (12, 100, 18.147262573242188),\n",
       " (30, 12, 34.5211067199707),\n",
       " (30, 50, 12.16861629486084),\n",
       " (30, 100, 23.73044204711914),\n",
       " (60, 12, 17.55120277404785),\n",
       " (60, 50, 22.73746681213379),\n",
       " (60, 100, 19.546037673950195)]"
      ]
     },
     "execution_count": 202,
     "metadata": {},
     "output_type": "execute_result"
    }
   ],
   "source": [
    "MAPE"
   ]
  },
  {
   "cell_type": "code",
   "execution_count": 203,
   "id": "1c0dc278",
   "metadata": {},
   "outputs": [
    {
     "data": {
      "text/plain": [
       "<matplotlib.collections.PathCollection at 0x7f22c3e716a0>"
      ]
     },
     "execution_count": 203,
     "metadata": {},
     "output_type": "execute_result"
    },
    {
     "data": {
      "image/png": "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\n",
      "text/plain": [
       "<Figure size 432x288 with 1 Axes>"
      ]
     },
     "metadata": {
      "needs_background": "light"
     },
     "output_type": "display_data"
    }
   ],
   "source": [
    "import matplotlib\n",
    "x = [res[0] for res in MAPE] # n_days\n",
    "y = [res[1] for res in MAPE] # n_seq\n",
    "c = [res[2] for res in MAPE] # MAPE  \n",
    "plt.scatter(x, y, c=c, norm=matplotlib.colors.Normalize(clip=False), cmap='coolwarm') # vmin=20, vmax=50, "
   ]
  },
  {
   "cell_type": "code",
   "execution_count": 211,
   "id": "40665890",
   "metadata": {},
   "outputs": [],
   "source": [
    "#sns.heatmap(data= x, y, c=c)"
   ]
  },
  {
   "cell_type": "code",
   "execution_count": 205,
   "id": "4324a293",
   "metadata": {},
   "outputs": [],
   "source": [
    "def train_model_predict(nb_sequences=12, nb_days=30, plot_history=False):\n",
    "    X_train, y_train = get_X_y(df_train, nb_sequences, nb_days)\n",
    "    X_test, y_test = get_X_y(df_test, round(nb_sequences*0.2), nb_days)\n",
    "\n",
    "    metric = metrics.MAPE\n",
    "    opt = optimizers.RMSprop(learning_rate=0.01)\n",
    "\n",
    "    model = models.Sequential()\n",
    "    model.add(layers.LSTM(20, return_sequences=True, activation='tanh'))\n",
    "    model.add(layers.LSTM(10, activation='tanh'))\n",
    "    model.add(layers.Dense(5, activation='relu'))\n",
    "    model.add(layers.Dense(1, activation='linear'))\n",
    "\n",
    "    model.compile(loss='mse', \n",
    "                  optimizer=opt, \n",
    "                  metrics=[metric])\n",
    "\n",
    "\n",
    "    es = EarlyStopping(monitor='val_loss', patience=5, restore_best_weights=True)\n",
    "\n",
    "    history = model.fit(X_train, y_train,\n",
    "            validation_split=0.3,\n",
    "            epochs=1000, \n",
    "            batch_size=64,\n",
    "            callbacks=[es],\n",
    "            verbose=0)\n",
    "\n",
    "    if plot_history:\n",
    "        plt.plot(history.history['mean_absolute_percentage_error'])\n",
    "        plt.plot(history.history['val_mean_absolute_percentage_error'])\n",
    "        plt.show()\n",
    "\n",
    "    res = model.evaluate(X_test, y_test, verbose=0)\n",
    "    y_pred = model.predict(X_test)\n",
    "    return res, y_pred"
   ]
  },
  {
   "cell_type": "code",
   "execution_count": 206,
   "id": "34cad179",
   "metadata": {},
   "outputs": [],
   "source": [
    "result = train_model_predict(nb_sequences=12, nb_days=30, plot_history=False)\n"
   ]
  },
  {
   "cell_type": "code",
   "execution_count": 213,
   "id": "d3fd295b",
   "metadata": {},
   "outputs": [
    {
     "data": {
      "text/plain": [
       "([0.0007427721284329891, 6.010095596313477],\n",
       " array([[0.49433482],\n",
       "        [0.4486399 ]], dtype=float32))"
      ]
     },
     "execution_count": 213,
     "metadata": {},
     "output_type": "execute_result"
    }
   ],
   "source": [
    "result"
   ]
  },
  {
   "cell_type": "code",
   "execution_count": 208,
   "id": "f28b1489",
   "metadata": {},
   "outputs": [
    {
     "data": {
      "text/plain": [
       "(2, 1)"
      ]
     },
     "execution_count": 208,
     "metadata": {},
     "output_type": "execute_result"
    }
   ],
   "source": [
    "result_1  = result[1]\n",
    "result_1.shape"
   ]
  },
  {
   "cell_type": "code",
   "execution_count": 209,
   "id": "e49f4be2",
   "metadata": {},
   "outputs": [
    {
     "data": {
      "text/plain": [
       "array([[3337.2642],\n",
       "       [3301.647 ]], dtype=float32)"
      ]
     },
     "execution_count": 209,
     "metadata": {},
     "output_type": "execute_result"
    }
   ],
   "source": [
    "scaler.inverse_transform(result_1)"
   ]
  },
  {
   "cell_type": "code",
   "execution_count": 210,
   "id": "7963c805",
   "metadata": {},
   "outputs": [
    {
     "data": {
      "text/plain": [
       "(12,)"
      ]
     },
     "execution_count": 210,
     "metadata": {},
     "output_type": "execute_result"
    }
   ],
   "source": [
    "y_test.shape"
   ]
  },
  {
   "cell_type": "code",
   "execution_count": null,
   "id": "9332726d",
   "metadata": {},
   "outputs": [],
   "source": []
  }
 ],
 "metadata": {
  "kernelspec": {
   "display_name": "Python 3 (ipykernel)",
   "language": "python",
   "name": "python3"
  },
  "language_info": {
   "codemirror_mode": {
    "name": "ipython",
    "version": 3
   },
   "file_extension": ".py",
   "mimetype": "text/x-python",
   "name": "python",
   "nbconvert_exporter": "python",
   "pygments_lexer": "ipython3",
   "version": "3.8.12"
  },
  "toc": {
   "base_numbering": 1,
   "nav_menu": {},
   "number_sections": true,
   "sideBar": true,
   "skip_h1_title": false,
   "title_cell": "Table of Contents",
   "title_sidebar": "Contents",
   "toc_cell": false,
   "toc_position": {},
   "toc_section_display": true,
   "toc_window_display": true
  }
 },
 "nbformat": 4,
 "nbformat_minor": 5
}
