{
  "nbformat": 4,
  "nbformat_minor": 0,
  "metadata": {
    "colab": {
      "name": "Twitter Data extraction - 1 .ipynb",
      "provenance": [],
      "collapsed_sections": []
    },
    "kernelspec": {
      "display_name": "Python 3",
      "language": "python",
      "name": "python3"
    },
    "language_info": {
      "codemirror_mode": {
        "name": "ipython",
        "version": 3
      },
      "file_extension": ".py",
      "mimetype": "text/x-python",
      "name": "python",
      "nbconvert_exporter": "python",
      "pygments_lexer": "ipython3",
      "version": "3.8.5"
    },
    "toc": {
      "base_numbering": 1,
      "nav_menu": {},
      "number_sections": true,
      "sideBar": true,
      "skip_h1_title": false,
      "title_cell": "Table of Contents",
      "title_sidebar": "Contents",
      "toc_cell": false,
      "toc_position": {},
      "toc_section_display": true,
      "toc_window_display": false
    },
    "varInspector": {
      "cols": {
        "lenName": 16,
        "lenType": 16,
        "lenVar": 40
      },
      "kernels_config": {
        "python": {
          "delete_cmd_postfix": "",
          "delete_cmd_prefix": "del ",
          "library": "var_list.py",
          "varRefreshCmd": "print(var_dic_list())"
        },
        "r": {
          "delete_cmd_postfix": ") ",
          "delete_cmd_prefix": "rm(",
          "library": "var_list.r",
          "varRefreshCmd": "cat(var_dic_list()) "
        }
      },
      "types_to_exclude": [
        "module",
        "function",
        "builtin_function_or_method",
        "instance",
        "_Feature"
      ],
      "window_display": false
    }
  },
  "cells": [
    {
      "cell_type": "code",
      "metadata": {
        "id": "SyA_wKYxHYAo"
      },
      "source": [
        "# For sending GET requests from the API\n",
        "import requests\n",
        "# For saving access tokens and for file management when creating and adding to the dataset\n",
        "import os\n",
        "# For dealing with json responses we receive from the API\n",
        "import json\n",
        "# For displaying the data after\n",
        "import pandas as pd\n",
        "# For saving the response data in CSV format\n",
        "import csv\n",
        "# For parsing the dates received from twitter in readable formats\n",
        "import datetime\n",
        "import dateutil.parser\n",
        "import unicodedata\n",
        "#To add wait time between requests\n",
        "import time"
      ],
      "execution_count": null,
      "outputs": []
    },
    {
      "cell_type": "code",
      "metadata": {
        "id": "Z5USENHjHYAt"
      },
      "source": [
        "os.environ['TOKEN'] = '******************************************************************************************************'"
      ],
      "execution_count": null,
      "outputs": []
    },
    {
      "cell_type": "code",
      "metadata": {
        "id": "BCVvFYDDHYAu"
      },
      "source": [
        "def auth():\n",
        "    return os.getenv('TOKEN')"
      ],
      "execution_count": null,
      "outputs": []
    },
    {
      "cell_type": "code",
      "metadata": {
        "id": "Ic2dt4HVHYAu"
      },
      "source": [
        "def create_headers(bearer_token):\n",
        "    headers = {\"Authorization\": \"Bearer {}\".format(bearer_token)}\n",
        "    return headers"
      ],
      "execution_count": null,
      "outputs": []
    },
    {
      "cell_type": "code",
      "metadata": {
        "id": "eYTt3_zlrC7X"
      },
      "source": [
        "def create_url(keyword, start_date, end_date, max_results = 100):\n",
        "    \n",
        "    search_url = \"https://api.twitter.com/2/tweets/search/all\" #Change to the endpoint you want to collect data from\n",
        "\n",
        "    #change params based on the endpoint you are using\n",
        "    query_params = {'query':keyword ,\n",
        "                    'start_time': start_date,\n",
        "                    'end_time': end_date,\n",
        "                    'max_results': max_results,\n",
        "                    #'expansions': 'author_id,in_reply_to_user_id,geo.place_id',\n",
        "                    'tweet.fields': 'id,text,author_id,in_reply_to_user_id,geo,conversation_id,created_at,lang,public_metrics,referenced_tweets,reply_settings,source',\n",
        "                    #'user.fields': 'id,name,username,created_at,description,public_metrics,verified',\n",
        "                    #'place.fields': 'full_name,id,country,country_code,geo,name,place_type',\n",
        "                    'next_token': {}}\n",
        "    return (search_url, query_params)"
      ],
      "execution_count": null,
      "outputs": []
    },
    {
      "cell_type": "code",
      "metadata": {
        "id": "jkv4G6VnHYAv"
      },
      "source": [
        "def connect_to_endpoint(url, headers, params, next_token=None ):\n",
        "    params['next_token'] = next_token   #params object received from create_url function\n",
        "    response = requests.request(\"GET\", url, headers = headers, params = params)\n",
        "    print(\"Endpoint Response Code: \" + str(response.status_code))\n",
        "    if response.status_code != 200:\n",
        "        raise Exception(response.status_code, response.text)\n",
        "    return response.json()"
      ],
      "execution_count": null,
      "outputs": []
    },
    {
      "cell_type": "code",
      "metadata": {
        "id": "OfwDAHGN9TjO"
      },
      "source": [
        "\n"
      ],
      "execution_count": null,
      "outputs": []
    },
    {
      "cell_type": "code",
      "metadata": {
        "id": "ebpneL8LHYAw"
      },
      "source": [
        "#Inputs for the request\n",
        "bearer_token = auth()\n",
        "headers = create_headers(bearer_token)\n",
        "keyword = \"$TSLA \\AND stock\"\n",
        "start_time = \"2020-11-26T00:00:00.000Z\"\n",
        "end_time = \"2021-11-26T00:00:00.000Z\"\n",
        "max_results = 100\n"
      ],
      "execution_count": null,
      "outputs": []
    },
    {
      "cell_type": "code",
      "metadata": {
        "colab": {
          "base_uri": "https://localhost:8080/"
        },
        "id": "UNj0wflhHYAw",
        "outputId": "294536f3-4553-4618-da50-dab094251a7c"
      },
      "source": [
        "url = create_url(keyword, start_time,end_time, max_results)\n",
        "json_response = connect_to_endpoint(url[0], headers, url[1])"
      ],
      "execution_count": null,
      "outputs": [
        {
          "output_type": "stream",
          "name": "stdout",
          "text": [
            "Endpoint Response Code: 200\n"
          ]
        }
      ]
    },
    {
      "cell_type": "code",
      "metadata": {
        "id": "jW6wDOgXq9fW"
      },
      "source": [
        "#json_response"
      ],
      "execution_count": null,
      "outputs": []
    },
    {
      "cell_type": "code",
      "metadata": {
        "id": "Ff0ynHg5BEIV"
      },
      "source": [
        "import time\n",
        "\n",
        "results_list = []\n",
        "\n",
        "url,  query_params = create_url(keyword, start_time,end_time, max_results)\n",
        "json_response = connect_to_endpoint(url, headers, query_params)\n",
        "data = json_response[\"data\"]\n",
        "results_list.append(data)\n",
        "\n",
        "while True:\n",
        "    next_token = json_response['meta'].get('next_token', None)\n",
        "    \n",
        "    \n",
        "    if next_token is None:\n",
        "        break\n",
        "        \n",
        "    else:\n",
        "        print(next_token)\n",
        "        #query_params[\"next_token\"] = next_token\n",
        "        print(query_params)\n",
        "        time.sleep(2)\n",
        "        json_response = connect_to_endpoint(url, headers, query_params, next_token=next_token)\n",
        "        \n",
        "        data = json_response[\"data\"]\n",
        "        results_list.append(data)"
      ],
      "execution_count": null,
      "outputs": []
    },
    {
      "cell_type": "code",
      "metadata": {
        "colab": {
          "base_uri": "https://localhost:8080/"
        },
        "id": "352IbL13BaYI",
        "outputId": "dfe4c08c-6269-4d23-9939-8eed041c37af"
      },
      "source": [
        "len(results_list)"
      ],
      "execution_count": null,
      "outputs": [
        {
          "output_type": "execute_result",
          "data": {
            "text/plain": [
              "299"
            ]
          },
          "metadata": {},
          "execution_count": 14
        }
      ]
    },
    {
      "cell_type": "code",
      "metadata": {
        "id": "g3LBJO8aIi_H"
      },
      "source": [
        "created_at=[]\n",
        "text=[]\n",
        "\n",
        "for page in results_list:\n",
        "  for tweet in page:\n",
        "      created_at.append(tweet['created_at'])\n",
        "      text.append(tweet['text'])"
      ],
      "execution_count": null,
      "outputs": []
    },
    {
      "cell_type": "code",
      "metadata": {
        "colab": {
          "base_uri": "https://localhost:8080/",
          "height": 423
        },
        "id": "PIr7RCo8Ioys",
        "outputId": "eb15ee3d-d626-402b-ea10-1b40076d8059"
      },
      "source": [
        "df1 = pd.DataFrame(created_at, columns=['created_at'])\n",
        "df2 = pd.DataFrame(text, columns=['text'])\n",
        "\n",
        "df3= pd.concat([df1, df2], axis=1)\n",
        "df3"
      ],
      "execution_count": null,
      "outputs": [
        {
          "output_type": "execute_result",
          "data": {
            "text/html": [
              "<div>\n",
              "<style scoped>\n",
              "    .dataframe tbody tr th:only-of-type {\n",
              "        vertical-align: middle;\n",
              "    }\n",
              "\n",
              "    .dataframe tbody tr th {\n",
              "        vertical-align: top;\n",
              "    }\n",
              "\n",
              "    .dataframe thead th {\n",
              "        text-align: right;\n",
              "    }\n",
              "</style>\n",
              "<table border=\"1\" class=\"dataframe\">\n",
              "  <thead>\n",
              "    <tr style=\"text-align: right;\">\n",
              "      <th></th>\n",
              "      <th>created_at</th>\n",
              "      <th>text</th>\n",
              "    </tr>\n",
              "  </thead>\n",
              "  <tbody>\n",
              "    <tr>\n",
              "      <th>0</th>\n",
              "      <td>2021-11-25T23:13:06.000Z</td>\n",
              "      <td>i will be business as usual till near dec9 and...</td>\n",
              "    </tr>\n",
              "    <tr>\n",
              "      <th>1</th>\n",
              "      <td>2021-11-25T23:09:43.000Z</td>\n",
              "      <td>What he nuked and cut off can be seen here: 19...</td>\n",
              "    </tr>\n",
              "    <tr>\n",
              "      <th>2</th>\n",
              "      <td>2021-11-25T23:07:20.000Z</td>\n",
              "      <td>$TSLA trade idea cont (3) - max profit of pin ...</td>\n",
              "    </tr>\n",
              "    <tr>\n",
              "      <th>3</th>\n",
              "      <td>2021-11-25T22:59:11.000Z</td>\n",
              "      <td>$TSLA trade idea.. assumptions - that stock sp...</td>\n",
              "    </tr>\n",
              "    <tr>\n",
              "      <th>4</th>\n",
              "      <td>2021-11-25T22:44:30.000Z</td>\n",
              "      <td>so you think $TSLA stock is splitting on 9Dec ...</td>\n",
              "    </tr>\n",
              "    <tr>\n",
              "      <th>...</th>\n",
              "      <td>...</td>\n",
              "      <td>...</td>\n",
              "    </tr>\n",
              "    <tr>\n",
              "      <th>29438</th>\n",
              "      <td>2021-06-14T13:17:43.000Z</td>\n",
              "      <td>RT @petteri_bergius: @d4t4wr4ngl3r $TSLA is th...</td>\n",
              "    </tr>\n",
              "    <tr>\n",
              "      <th>29439</th>\n",
              "      <td>2021-06-14T13:11:37.000Z</td>\n",
              "      <td>RT @garyblack00: There’s clearly differences o...</td>\n",
              "    </tr>\n",
              "    <tr>\n",
              "      <th>29440</th>\n",
              "      <td>2021-06-14T13:03:53.000Z</td>\n",
              "      <td>Funny, as it turns out, I sold 100% of my $TSL...</td>\n",
              "    </tr>\n",
              "    <tr>\n",
              "      <th>29441</th>\n",
              "      <td>2021-06-14T13:03:28.000Z</td>\n",
              "      <td>RT @latokens: STSL is live and trading on $USD...</td>\n",
              "    </tr>\n",
              "    <tr>\n",
              "      <th>29442</th>\n",
              "      <td>2021-06-14T12:46:29.000Z</td>\n",
              "      <td>RT @latokens: STSL is live and trading on $USD...</td>\n",
              "    </tr>\n",
              "  </tbody>\n",
              "</table>\n",
              "<p>29443 rows × 2 columns</p>\n",
              "</div>"
            ],
            "text/plain": [
              "                     created_at                                               text\n",
              "0      2021-11-25T23:13:06.000Z  i will be business as usual till near dec9 and...\n",
              "1      2021-11-25T23:09:43.000Z  What he nuked and cut off can be seen here: 19...\n",
              "2      2021-11-25T23:07:20.000Z  $TSLA trade idea cont (3) - max profit of pin ...\n",
              "3      2021-11-25T22:59:11.000Z  $TSLA trade idea.. assumptions - that stock sp...\n",
              "4      2021-11-25T22:44:30.000Z  so you think $TSLA stock is splitting on 9Dec ...\n",
              "...                         ...                                                ...\n",
              "29438  2021-06-14T13:17:43.000Z  RT @petteri_bergius: @d4t4wr4ngl3r $TSLA is th...\n",
              "29439  2021-06-14T13:11:37.000Z  RT @garyblack00: There’s clearly differences o...\n",
              "29440  2021-06-14T13:03:53.000Z  Funny, as it turns out, I sold 100% of my $TSL...\n",
              "29441  2021-06-14T13:03:28.000Z  RT @latokens: STSL is live and trading on $USD...\n",
              "29442  2021-06-14T12:46:29.000Z  RT @latokens: STSL is live and trading on $USD...\n",
              "\n",
              "[29443 rows x 2 columns]"
            ]
          },
          "metadata": {},
          "execution_count": 16
        }
      ]
    },
    {
      "cell_type": "code",
      "metadata": {
        "id": "5YaTlgH328KA"
      },
      "source": [
        "df3.to_csv('Tesla.csv')"
      ],
      "execution_count": null,
      "outputs": []
    },
    {
      "cell_type": "code",
      "metadata": {
        "id": "yLCMz8x6_QAg"
      },
      "source": [
        ""
      ],
      "execution_count": null,
      "outputs": []
    },
    {
      "cell_type": "markdown",
      "metadata": {
        "id": "k0YAYlBX_EQG"
      },
      "source": [
        ""
      ]
    }
  ]
}