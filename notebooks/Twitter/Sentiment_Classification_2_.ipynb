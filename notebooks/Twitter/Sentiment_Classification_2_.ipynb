{
  "nbformat": 4,
  "nbformat_minor": 0,
  "metadata": {
    "accelerator": "GPU",
    "colab": {
      "name": "Sentiment Classification-2 .ipynb",
      "provenance": [],
      "collapsed_sections": []
    },
    "kernelspec": {
      "display_name": "Python 3",
      "name": "python3"
    },
    "language_info": {
      "name": "python"
    }
  },
  "cells": [
    {
      "cell_type": "code",
      "metadata": {
        "id": "WYS96UEdYRWI"
      },
      "source": [
        "import pandas as pd\n",
        "import numpy as np\n",
        "\n",
        "from google.colab import files\n",
        "files.upload()"
      ],
      "execution_count": null,
      "outputs": []
    },
    {
      "cell_type": "code",
      "metadata": {
        "id": "HEJqJd7ec8Xx"
      },
      "source": [
        "df = pd.read_csv(\"Tesla1.csv\")"
      ],
      "execution_count": null,
      "outputs": []
    },
    {
      "cell_type": "code",
      "metadata": {
        "colab": {
          "base_uri": "https://localhost:8080/",
          "height": 423
        },
        "id": "WhpLmaH1c8PW",
        "outputId": "27415829-8193-4a00-d233-0f6eca375481"
      },
      "source": [
        "df"
      ],
      "execution_count": null,
      "outputs": [
        {
          "output_type": "execute_result",
          "data": {
            "text/html": [
              "<div>\n",
              "<style scoped>\n",
              "    .dataframe tbody tr th:only-of-type {\n",
              "        vertical-align: middle;\n",
              "    }\n",
              "\n",
              "    .dataframe tbody tr th {\n",
              "        vertical-align: top;\n",
              "    }\n",
              "\n",
              "    .dataframe thead th {\n",
              "        text-align: right;\n",
              "    }\n",
              "</style>\n",
              "<table border=\"1\" class=\"dataframe\">\n",
              "  <thead>\n",
              "    <tr style=\"text-align: right;\">\n",
              "      <th></th>\n",
              "      <th>Unnamed: 0</th>\n",
              "      <th>created_at</th>\n",
              "      <th>text</th>\n",
              "    </tr>\n",
              "  </thead>\n",
              "  <tbody>\n",
              "    <tr>\n",
              "      <th>0</th>\n",
              "      <td>0</td>\n",
              "      <td>2021-11-25T23:13:06.000Z</td>\n",
              "      <td>i will be business as usual till near dec9 and...</td>\n",
              "    </tr>\n",
              "    <tr>\n",
              "      <th>1</th>\n",
              "      <td>1</td>\n",
              "      <td>2021-11-25T23:09:43.000Z</td>\n",
              "      <td>What he nuked and cut off can be seen here: 19...</td>\n",
              "    </tr>\n",
              "    <tr>\n",
              "      <th>2</th>\n",
              "      <td>2</td>\n",
              "      <td>2021-11-25T23:07:20.000Z</td>\n",
              "      <td>$TSLA trade idea cont (3) - max profit of pin ...</td>\n",
              "    </tr>\n",
              "    <tr>\n",
              "      <th>3</th>\n",
              "      <td>3</td>\n",
              "      <td>2021-11-25T22:59:11.000Z</td>\n",
              "      <td>$TSLA trade idea.. assumptions - that stock sp...</td>\n",
              "    </tr>\n",
              "    <tr>\n",
              "      <th>4</th>\n",
              "      <td>4</td>\n",
              "      <td>2021-11-25T22:44:30.000Z</td>\n",
              "      <td>so you think $TSLA stock is splitting on 9Dec ...</td>\n",
              "    </tr>\n",
              "    <tr>\n",
              "      <th>...</th>\n",
              "      <td>...</td>\n",
              "      <td>...</td>\n",
              "      <td>...</td>\n",
              "    </tr>\n",
              "    <tr>\n",
              "      <th>29441</th>\n",
              "      <td>29441</td>\n",
              "      <td>2021-06-14T14:01:16.000Z</td>\n",
              "      <td>$TSLA - Paul Tudor Jones likes Bitcoin because...</td>\n",
              "    </tr>\n",
              "    <tr>\n",
              "      <th>29442</th>\n",
              "      <td>29442</td>\n",
              "      <td>2021-06-14T13:55:40.000Z</td>\n",
              "      <td>$SONY Sony stock will surpass $DIS Disney stoc...</td>\n",
              "    </tr>\n",
              "    <tr>\n",
              "      <th>29443</th>\n",
              "      <td>29443</td>\n",
              "      <td>2021-06-14T13:48:52.000Z</td>\n",
              "      <td>W Musk chiming in yet again on $btc and transp...</td>\n",
              "    </tr>\n",
              "    <tr>\n",
              "      <th>29444</th>\n",
              "      <td>29444</td>\n",
              "      <td>2021-06-14T13:42:13.000Z</td>\n",
              "      <td>Pump that stock, Grifter. This statement from ...</td>\n",
              "    </tr>\n",
              "    <tr>\n",
              "      <th>29445</th>\n",
              "      <td>29445</td>\n",
              "      <td>2021-06-14T13:36:46.000Z</td>\n",
              "      <td>RT @latokens: STSL is live and trading on $USD...</td>\n",
              "    </tr>\n",
              "  </tbody>\n",
              "</table>\n",
              "<p>29446 rows × 3 columns</p>\n",
              "</div>"
            ],
            "text/plain": [
              "       Unnamed: 0  ...                                               text\n",
              "0               0  ...  i will be business as usual till near dec9 and...\n",
              "1               1  ...  What he nuked and cut off can be seen here: 19...\n",
              "2               2  ...  $TSLA trade idea cont (3) - max profit of pin ...\n",
              "3               3  ...  $TSLA trade idea.. assumptions - that stock sp...\n",
              "4               4  ...  so you think $TSLA stock is splitting on 9Dec ...\n",
              "...           ...  ...                                                ...\n",
              "29441       29441  ...  $TSLA - Paul Tudor Jones likes Bitcoin because...\n",
              "29442       29442  ...  $SONY Sony stock will surpass $DIS Disney stoc...\n",
              "29443       29443  ...  W Musk chiming in yet again on $btc and transp...\n",
              "29444       29444  ...  Pump that stock, Grifter. This statement from ...\n",
              "29445       29445  ...  RT @latokens: STSL is live and trading on $USD...\n",
              "\n",
              "[29446 rows x 3 columns]"
            ]
          },
          "metadata": {},
          "execution_count": 28
        }
      ]
    },
    {
      "cell_type": "markdown",
      "metadata": {
        "id": "NNQuqmxKnZaV"
      },
      "source": [
        ""
      ]
    },
    {
      "cell_type": "code",
      "metadata": {
        "colab": {
          "base_uri": "https://localhost:8080/"
        },
        "id": "FDdKZ1jkY6mr",
        "outputId": "483f0efa-3bb6-4236-a82a-5cd157af71dd"
      },
      "source": [
        "pip install unidecode"
      ],
      "execution_count": null,
      "outputs": [
        {
          "output_type": "stream",
          "name": "stdout",
          "text": [
            "Requirement already satisfied: unidecode in /usr/local/lib/python3.7/dist-packages (1.3.2)\n"
          ]
        }
      ]
    },
    {
      "cell_type": "code",
      "metadata": {
        "id": "3dQpNdDdfOyq"
      },
      "source": [
        "import re\n",
        "import unidecode\n",
        "def cleanTwt(twt):\n",
        "  \n",
        "    twt = str(twt)\n",
        "    twt = unidecode.unidecode(twt)\n",
        "    twt = re.sub('@\\S', 'stock', twt)\n",
        "    twt = re.sub('#Stocks', 'Stock', twt)\n",
        "    twt = re.sub('#[A-Za-z0-9]+', '', twt)\n",
        "    twt = re.sub('\\\\n', ' ' , twt)\n",
        "    twt = re.sub('https?:\\S+', ' ',twt )\n",
        "    twt = re.sub('/W','', twt )\n",
        "    twt = re.sub('\\>','', twt )\n",
        "    twt = re.sub(r'RT[\\s]+','', twt )\n",
        "\n",
        "    return twt"
      ],
      "execution_count": null,
      "outputs": []
    },
    {
      "cell_type": "markdown",
      "metadata": {
        "id": "dbBuHbYE4OC0"
      },
      "source": [
        ""
      ]
    },
    {
      "cell_type": "markdown",
      "metadata": {
        "id": "4uHmioQZ4OSS"
      },
      "source": [
        ""
      ]
    },
    {
      "cell_type": "code",
      "metadata": {
        "id": "flBtjypwfOtY"
      },
      "source": [
        "df['cleaned_tweets'] = df['text'].apply(cleanTwt)"
      ],
      "execution_count": null,
      "outputs": []
    },
    {
      "cell_type": "code",
      "metadata": {
        "colab": {
          "base_uri": "https://localhost:8080/",
          "height": 423
        },
        "id": "j-u3Zb55fOkn",
        "outputId": "68a39ec6-e695-4937-a3b0-68448d405919"
      },
      "source": [
        "df"
      ],
      "execution_count": null,
      "outputs": [
        {
          "output_type": "execute_result",
          "data": {
            "text/html": [
              "<div>\n",
              "<style scoped>\n",
              "    .dataframe tbody tr th:only-of-type {\n",
              "        vertical-align: middle;\n",
              "    }\n",
              "\n",
              "    .dataframe tbody tr th {\n",
              "        vertical-align: top;\n",
              "    }\n",
              "\n",
              "    .dataframe thead th {\n",
              "        text-align: right;\n",
              "    }\n",
              "</style>\n",
              "<table border=\"1\" class=\"dataframe\">\n",
              "  <thead>\n",
              "    <tr style=\"text-align: right;\">\n",
              "      <th></th>\n",
              "      <th>Unnamed: 0</th>\n",
              "      <th>created_at</th>\n",
              "      <th>text</th>\n",
              "      <th>cleaned_tweets</th>\n",
              "    </tr>\n",
              "  </thead>\n",
              "  <tbody>\n",
              "    <tr>\n",
              "      <th>0</th>\n",
              "      <td>0</td>\n",
              "      <td>2021-11-25T23:13:06.000Z</td>\n",
              "      <td>i will be business as usual till near dec9 and...</td>\n",
              "      <td>i will be business as usual till near dec9 and...</td>\n",
              "    </tr>\n",
              "    <tr>\n",
              "      <th>1</th>\n",
              "      <td>1</td>\n",
              "      <td>2021-11-25T23:09:43.000Z</td>\n",
              "      <td>What he nuked and cut off can be seen here: 19...</td>\n",
              "      <td>What he nuked and cut off can be seen here: 19...</td>\n",
              "    </tr>\n",
              "    <tr>\n",
              "      <th>2</th>\n",
              "      <td>2</td>\n",
              "      <td>2021-11-25T23:07:20.000Z</td>\n",
              "      <td>$TSLA trade idea cont (3) - max profit of pin ...</td>\n",
              "      <td>$TSLA trade idea cont (3) - max profit of pin ...</td>\n",
              "    </tr>\n",
              "    <tr>\n",
              "      <th>3</th>\n",
              "      <td>3</td>\n",
              "      <td>2021-11-25T22:59:11.000Z</td>\n",
              "      <td>$TSLA trade idea.. assumptions - that stock sp...</td>\n",
              "      <td>$TSLA trade idea.. assumptions - that stock sp...</td>\n",
              "    </tr>\n",
              "    <tr>\n",
              "      <th>4</th>\n",
              "      <td>4</td>\n",
              "      <td>2021-11-25T22:44:30.000Z</td>\n",
              "      <td>so you think $TSLA stock is splitting on 9Dec ...</td>\n",
              "      <td>so you think $TSLA stock is splitting on 9Dec ...</td>\n",
              "    </tr>\n",
              "    <tr>\n",
              "      <th>...</th>\n",
              "      <td>...</td>\n",
              "      <td>...</td>\n",
              "      <td>...</td>\n",
              "      <td>...</td>\n",
              "    </tr>\n",
              "    <tr>\n",
              "      <th>29441</th>\n",
              "      <td>29441</td>\n",
              "      <td>2021-06-14T14:01:16.000Z</td>\n",
              "      <td>$TSLA - Paul Tudor Jones likes Bitcoin because...</td>\n",
              "      <td>$TSLA - Paul Tudor Jones likes Bitcoin because...</td>\n",
              "    </tr>\n",
              "    <tr>\n",
              "      <th>29442</th>\n",
              "      <td>29442</td>\n",
              "      <td>2021-06-14T13:55:40.000Z</td>\n",
              "      <td>$SONY Sony stock will surpass $DIS Disney stoc...</td>\n",
              "      <td>$SONY Sony stock will surpass $DIS Disney stoc...</td>\n",
              "    </tr>\n",
              "    <tr>\n",
              "      <th>29443</th>\n",
              "      <td>29443</td>\n",
              "      <td>2021-06-14T13:48:52.000Z</td>\n",
              "      <td>W Musk chiming in yet again on $btc and transp...</td>\n",
              "      <td>W Musk chiming in yet again on $btc and transp...</td>\n",
              "    </tr>\n",
              "    <tr>\n",
              "      <th>29444</th>\n",
              "      <td>29444</td>\n",
              "      <td>2021-06-14T13:42:13.000Z</td>\n",
              "      <td>Pump that stock, Grifter. This statement from ...</td>\n",
              "      <td>Pump that stock, Grifter. This statement from ...</td>\n",
              "    </tr>\n",
              "    <tr>\n",
              "      <th>29445</th>\n",
              "      <td>29445</td>\n",
              "      <td>2021-06-14T13:36:46.000Z</td>\n",
              "      <td>RT @latokens: STSL is live and trading on $USD...</td>\n",
              "      <td>stockatokens: STSL is live and trading on $USD...</td>\n",
              "    </tr>\n",
              "  </tbody>\n",
              "</table>\n",
              "<p>29446 rows × 4 columns</p>\n",
              "</div>"
            ],
            "text/plain": [
              "       Unnamed: 0  ...                                     cleaned_tweets\n",
              "0               0  ...  i will be business as usual till near dec9 and...\n",
              "1               1  ...  What he nuked and cut off can be seen here: 19...\n",
              "2               2  ...  $TSLA trade idea cont (3) - max profit of pin ...\n",
              "3               3  ...  $TSLA trade idea.. assumptions - that stock sp...\n",
              "4               4  ...  so you think $TSLA stock is splitting on 9Dec ...\n",
              "...           ...  ...                                                ...\n",
              "29441       29441  ...  $TSLA - Paul Tudor Jones likes Bitcoin because...\n",
              "29442       29442  ...  $SONY Sony stock will surpass $DIS Disney stoc...\n",
              "29443       29443  ...  W Musk chiming in yet again on $btc and transp...\n",
              "29444       29444  ...  Pump that stock, Grifter. This statement from ...\n",
              "29445       29445  ...  stockatokens: STSL is live and trading on $USD...\n",
              "\n",
              "[29446 rows x 4 columns]"
            ]
          },
          "metadata": {},
          "execution_count": 32
        }
      ]
    },
    {
      "cell_type": "code",
      "metadata": {
        "id": "B5bwNd6sZavP"
      },
      "source": [
        "#first install pretrained sentiment analyzer flair\n",
        "!pip install flair"
      ],
      "execution_count": null,
      "outputs": []
    },
    {
      "cell_type": "code",
      "metadata": {
        "id": "ZTVeGkF2f_XS"
      },
      "source": [
        "# !pip install requests~=2.23.0 \n",
        "# !pip install datascience 0.10.6\n",
        "# !pip install folium==0.2.1"
      ],
      "execution_count": null,
      "outputs": []
    },
    {
      "cell_type": "code",
      "metadata": {
        "colab": {
          "base_uri": "https://localhost:8080/"
        },
        "id": "y-CcLwyQgoQ3",
        "outputId": "1affc1cb-045e-4ab8-848f-3834de9fbb12"
      },
      "source": [
        "from flair.models import TextClassifier\n",
        "from flair.data import Sentence\n",
        "classifier = TextClassifier.load('en-sentiment')"
      ],
      "execution_count": null,
      "outputs": [
        {
          "output_type": "stream",
          "name": "stdout",
          "text": [
            "2021-11-30 12:01:01,959 loading file /root/.flair/models/sentiment-en-mix-distillbert_4.pt\n"
          ]
        }
      ]
    },
    {
      "cell_type": "code",
      "metadata": {
        "id": "nZl-jDUzZ4lE"
      },
      "source": [
        "def classify_sentence(X):\n",
        "    sentence = Sentence(X)\n",
        "    classifier.predict(sentence)\n",
        "    return sentence.labels\n",
        "   \n"
      ],
      "execution_count": null,
      "outputs": []
    },
    {
      "cell_type": "code",
      "metadata": {
        "id": "tgKHArGJaTmZ"
      },
      "source": [
        "df[\"sentiment\"]=df[\"text\"].apply(classify_sentence)"
      ],
      "execution_count": null,
      "outputs": []
    },
    {
      "cell_type": "markdown",
      "metadata": {
        "id": "GDRD3hI8esZv"
      },
      "source": [
        ""
      ]
    },
    {
      "cell_type": "code",
      "metadata": {
        "colab": {
          "base_uri": "https://localhost:8080/",
          "height": 614
        },
        "id": "6SRGFjVda3Xz",
        "outputId": "e6be215f-5a65-4bf6-c407-6715eb65e626"
      },
      "source": [
        "df"
      ],
      "execution_count": null,
      "outputs": [
        {
          "output_type": "execute_result",
          "data": {
            "text/html": [
              "<div>\n",
              "<style scoped>\n",
              "    .dataframe tbody tr th:only-of-type {\n",
              "        vertical-align: middle;\n",
              "    }\n",
              "\n",
              "    .dataframe tbody tr th {\n",
              "        vertical-align: top;\n",
              "    }\n",
              "\n",
              "    .dataframe thead th {\n",
              "        text-align: right;\n",
              "    }\n",
              "</style>\n",
              "<table border=\"1\" class=\"dataframe\">\n",
              "  <thead>\n",
              "    <tr style=\"text-align: right;\">\n",
              "      <th></th>\n",
              "      <th>Unnamed: 0</th>\n",
              "      <th>created_at</th>\n",
              "      <th>text</th>\n",
              "      <th>cleaned_tweets</th>\n",
              "      <th>sentiment</th>\n",
              "    </tr>\n",
              "  </thead>\n",
              "  <tbody>\n",
              "    <tr>\n",
              "      <th>0</th>\n",
              "      <td>0</td>\n",
              "      <td>2021-11-25T23:13:06.000Z</td>\n",
              "      <td>i will be business as usual till near dec9 and...</td>\n",
              "      <td>i will be business as usual till near dec9 and...</td>\n",
              "      <td>[NEGATIVE (0.9959)]</td>\n",
              "    </tr>\n",
              "    <tr>\n",
              "      <th>1</th>\n",
              "      <td>1</td>\n",
              "      <td>2021-11-25T23:09:43.000Z</td>\n",
              "      <td>What he nuked and cut off can be seen here: 19...</td>\n",
              "      <td>What he nuked and cut off can be seen here: 19...</td>\n",
              "      <td>[NEGATIVE (1.0)]</td>\n",
              "    </tr>\n",
              "    <tr>\n",
              "      <th>2</th>\n",
              "      <td>2</td>\n",
              "      <td>2021-11-25T23:07:20.000Z</td>\n",
              "      <td>$TSLA trade idea cont (3) - max profit of pin ...</td>\n",
              "      <td>$TSLA trade idea cont (3) - max profit of pin ...</td>\n",
              "      <td>[NEGATIVE (0.9937)]</td>\n",
              "    </tr>\n",
              "    <tr>\n",
              "      <th>3</th>\n",
              "      <td>3</td>\n",
              "      <td>2021-11-25T22:59:11.000Z</td>\n",
              "      <td>$TSLA trade idea.. assumptions - that stock sp...</td>\n",
              "      <td>$TSLA trade idea.. assumptions - that stock sp...</td>\n",
              "      <td>[NEGATIVE (1.0)]</td>\n",
              "    </tr>\n",
              "    <tr>\n",
              "      <th>4</th>\n",
              "      <td>4</td>\n",
              "      <td>2021-11-25T22:44:30.000Z</td>\n",
              "      <td>so you think $TSLA stock is splitting on 9Dec ...</td>\n",
              "      <td>so you think $TSLA stock is splitting on 9Dec ...</td>\n",
              "      <td>[NEGATIVE (1.0)]</td>\n",
              "    </tr>\n",
              "    <tr>\n",
              "      <th>...</th>\n",
              "      <td>...</td>\n",
              "      <td>...</td>\n",
              "      <td>...</td>\n",
              "      <td>...</td>\n",
              "      <td>...</td>\n",
              "    </tr>\n",
              "    <tr>\n",
              "      <th>29441</th>\n",
              "      <td>29441</td>\n",
              "      <td>2021-06-14T14:01:16.000Z</td>\n",
              "      <td>$TSLA - Paul Tudor Jones likes Bitcoin because...</td>\n",
              "      <td>$TSLA - Paul Tudor Jones likes Bitcoin because...</td>\n",
              "      <td>[POSITIVE (0.6468)]</td>\n",
              "    </tr>\n",
              "    <tr>\n",
              "      <th>29442</th>\n",
              "      <td>29442</td>\n",
              "      <td>2021-06-14T13:55:40.000Z</td>\n",
              "      <td>$SONY Sony stock will surpass $DIS Disney stoc...</td>\n",
              "      <td>$SONY Sony stock will surpass $DIS Disney stoc...</td>\n",
              "      <td>[NEGATIVE (0.8615)]</td>\n",
              "    </tr>\n",
              "    <tr>\n",
              "      <th>29443</th>\n",
              "      <td>29443</td>\n",
              "      <td>2021-06-14T13:48:52.000Z</td>\n",
              "      <td>W Musk chiming in yet again on $btc and transp...</td>\n",
              "      <td>W Musk chiming in yet again on $btc and transp...</td>\n",
              "      <td>[NEGATIVE (0.9985)]</td>\n",
              "    </tr>\n",
              "    <tr>\n",
              "      <th>29444</th>\n",
              "      <td>29444</td>\n",
              "      <td>2021-06-14T13:42:13.000Z</td>\n",
              "      <td>Pump that stock, Grifter. This statement from ...</td>\n",
              "      <td>Pump that stock, Grifter. This statement from ...</td>\n",
              "      <td>[POSITIVE (0.7063)]</td>\n",
              "    </tr>\n",
              "    <tr>\n",
              "      <th>29445</th>\n",
              "      <td>29445</td>\n",
              "      <td>2021-06-14T13:36:46.000Z</td>\n",
              "      <td>RT @latokens: STSL is live and trading on $USD...</td>\n",
              "      <td>stockatokens: STSL is live and trading on $USD...</td>\n",
              "      <td>[NEGATIVE (0.7992)]</td>\n",
              "    </tr>\n",
              "  </tbody>\n",
              "</table>\n",
              "<p>29446 rows × 5 columns</p>\n",
              "</div>"
            ],
            "text/plain": [
              "       Unnamed: 0  ...            sentiment\n",
              "0               0  ...  [NEGATIVE (0.9959)]\n",
              "1               1  ...     [NEGATIVE (1.0)]\n",
              "2               2  ...  [NEGATIVE (0.9937)]\n",
              "3               3  ...     [NEGATIVE (1.0)]\n",
              "4               4  ...     [NEGATIVE (1.0)]\n",
              "...           ...  ...                  ...\n",
              "29441       29441  ...  [POSITIVE (0.6468)]\n",
              "29442       29442  ...  [NEGATIVE (0.8615)]\n",
              "29443       29443  ...  [NEGATIVE (0.9985)]\n",
              "29444       29444  ...  [POSITIVE (0.7063)]\n",
              "29445       29445  ...  [NEGATIVE (0.7992)]\n",
              "\n",
              "[29446 rows x 5 columns]"
            ]
          },
          "metadata": {},
          "execution_count": 36
        }
      ]
    },
    {
      "cell_type": "code",
      "metadata": {
        "id": "KsBgFibpaWS4"
      },
      "source": [
        "df.to_csv(\"Tesla sentiment_final.csv\")\n"
      ],
      "execution_count": null,
      "outputs": []
    },
    {
      "cell_type": "code",
      "metadata": {
        "id": "GBagOvIVzJd0"
      },
      "source": [
        ""
      ],
      "execution_count": null,
      "outputs": []
    }
  ]
}