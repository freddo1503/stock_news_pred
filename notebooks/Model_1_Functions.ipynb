{
 "cells": [
  {
   "cell_type": "code",
   "execution_count": 1,
   "id": "86ca074d",
   "metadata": {},
   "outputs": [],
   "source": [
    "# Imports\n",
    "\n",
    "import pandas as pd\n",
    "import numpy as np\n",
    "import matplotlib.pyplot as plt\n",
    "import joblib\n",
    "from google.cloud import storage\n",
    "from sklearn.preprocessing import MinMaxScaler\n",
    "from tensorflow.keras.models import Sequential\n",
    "from tensorflow.keras.layers import Dense, LSTM, Dropout\n",
    "from sklearn.metrics import mean_squared_error, mean_absolute_error\n",
    "from tensorflow.keras.callbacks import EarlyStopping"
   ]
  },
  {
   "cell_type": "code",
   "execution_count": 2,
   "id": "84c57f39",
   "metadata": {},
   "outputs": [],
   "source": [
    "# Function to get data\n",
    "\n",
    "def get_stock_data_from_gcp(nrows=10000, local=False, optimize=False, **kwargs):\n",
    "    \"\"\"method to get the training data (or a portion of it) from google cloud bucket\"\"\"\n",
    "    # Add Client() here\n",
    "    client = storage.Client()\n",
    "    if local:\n",
    "        path = \"data/data_data_10Mill.csv\"\n",
    "    else:\n",
    "        path = \"gs://stock-news-pred-bucket/sorted_final_stock_prices\"\n",
    "    df = pd.read_csv(path)#add nrows after if you want to select a specific number of row\n",
    "    return df"
   ]
  },
  {
   "cell_type": "code",
   "execution_count": 3,
   "id": "0e84974c",
   "metadata": {},
   "outputs": [],
   "source": [
    "df = get_stock_data_from_gcp()"
   ]
  },
  {
   "cell_type": "code",
   "execution_count": 4,
   "id": "a3ca5f24",
   "metadata": {},
   "outputs": [
    {
     "data": {
      "text/html": [
       "<div>\n",
       "<style scoped>\n",
       "    .dataframe tbody tr th:only-of-type {\n",
       "        vertical-align: middle;\n",
       "    }\n",
       "\n",
       "    .dataframe tbody tr th {\n",
       "        vertical-align: top;\n",
       "    }\n",
       "\n",
       "    .dataframe thead th {\n",
       "        text-align: right;\n",
       "    }\n",
       "</style>\n",
       "<table border=\"1\" class=\"dataframe\">\n",
       "  <thead>\n",
       "    <tr style=\"text-align: right;\">\n",
       "      <th></th>\n",
       "      <th>date</th>\n",
       "      <th>AAPL</th>\n",
       "      <th>MSFT</th>\n",
       "      <th>GOOGL</th>\n",
       "      <th>AMZN</th>\n",
       "    </tr>\n",
       "  </thead>\n",
       "  <tbody>\n",
       "    <tr>\n",
       "      <th>0</th>\n",
       "      <td>1999-11-01</td>\n",
       "      <td>77.62</td>\n",
       "      <td>92.37</td>\n",
       "      <td>NaN</td>\n",
       "      <td>69.13</td>\n",
       "    </tr>\n",
       "    <tr>\n",
       "      <th>1</th>\n",
       "      <td>1999-11-02</td>\n",
       "      <td>80.25</td>\n",
       "      <td>92.56</td>\n",
       "      <td>NaN</td>\n",
       "      <td>66.44</td>\n",
       "    </tr>\n",
       "    <tr>\n",
       "      <th>2</th>\n",
       "      <td>1999-11-03</td>\n",
       "      <td>81.50</td>\n",
       "      <td>92.00</td>\n",
       "      <td>NaN</td>\n",
       "      <td>65.81</td>\n",
       "    </tr>\n",
       "    <tr>\n",
       "      <th>3</th>\n",
       "      <td>1999-11-04</td>\n",
       "      <td>83.62</td>\n",
       "      <td>91.75</td>\n",
       "      <td>NaN</td>\n",
       "      <td>63.06</td>\n",
       "    </tr>\n",
       "    <tr>\n",
       "      <th>4</th>\n",
       "      <td>1999-11-05</td>\n",
       "      <td>88.31</td>\n",
       "      <td>91.56</td>\n",
       "      <td>NaN</td>\n",
       "      <td>64.94</td>\n",
       "    </tr>\n",
       "    <tr>\n",
       "      <th>...</th>\n",
       "      <td>...</td>\n",
       "      <td>...</td>\n",
       "      <td>...</td>\n",
       "      <td>...</td>\n",
       "      <td>...</td>\n",
       "    </tr>\n",
       "    <tr>\n",
       "      <th>5553</th>\n",
       "      <td>2021-11-24</td>\n",
       "      <td>161.94</td>\n",
       "      <td>337.91</td>\n",
       "      <td>2922.40</td>\n",
       "      <td>3580.41</td>\n",
       "    </tr>\n",
       "    <tr>\n",
       "      <th>5554</th>\n",
       "      <td>2021-11-26</td>\n",
       "      <td>156.81</td>\n",
       "      <td>329.68</td>\n",
       "      <td>2843.66</td>\n",
       "      <td>3504.56</td>\n",
       "    </tr>\n",
       "    <tr>\n",
       "      <th>5555</th>\n",
       "      <td>2021-11-29</td>\n",
       "      <td>160.24</td>\n",
       "      <td>336.63</td>\n",
       "      <td>2910.61</td>\n",
       "      <td>3561.57</td>\n",
       "    </tr>\n",
       "    <tr>\n",
       "      <th>5556</th>\n",
       "      <td>2021-11-30</td>\n",
       "      <td>165.30</td>\n",
       "      <td>330.59</td>\n",
       "      <td>2837.95</td>\n",
       "      <td>3507.07</td>\n",
       "    </tr>\n",
       "    <tr>\n",
       "      <th>5557</th>\n",
       "      <td>2021-12-01</td>\n",
       "      <td>164.77</td>\n",
       "      <td>330.08</td>\n",
       "      <td>2821.03</td>\n",
       "      <td>3443.72</td>\n",
       "    </tr>\n",
       "  </tbody>\n",
       "</table>\n",
       "<p>5558 rows × 5 columns</p>\n",
       "</div>"
      ],
      "text/plain": [
       "            date    AAPL    MSFT    GOOGL     AMZN\n",
       "0     1999-11-01   77.62   92.37      NaN    69.13\n",
       "1     1999-11-02   80.25   92.56      NaN    66.44\n",
       "2     1999-11-03   81.50   92.00      NaN    65.81\n",
       "3     1999-11-04   83.62   91.75      NaN    63.06\n",
       "4     1999-11-05   88.31   91.56      NaN    64.94\n",
       "...          ...     ...     ...      ...      ...\n",
       "5553  2021-11-24  161.94  337.91  2922.40  3580.41\n",
       "5554  2021-11-26  156.81  329.68  2843.66  3504.56\n",
       "5555  2021-11-29  160.24  336.63  2910.61  3561.57\n",
       "5556  2021-11-30  165.30  330.59  2837.95  3507.07\n",
       "5557  2021-12-01  164.77  330.08  2821.03  3443.72\n",
       "\n",
       "[5558 rows x 5 columns]"
      ]
     },
     "execution_count": 4,
     "metadata": {},
     "output_type": "execute_result"
    }
   ],
   "source": [
    "df"
   ]
  },
  {
   "cell_type": "code",
   "execution_count": 5,
   "id": "c5bd1af4",
   "metadata": {},
   "outputs": [],
   "source": [
    "# Function to scale data\n",
    "\n",
    "def scale_stock_data(df, ticker):\n",
    "    X = df[[ticker]]\n",
    "    sc = MinMaxScaler().fit(X)\n",
    "    X_sc = sc.fit_transform(X)\n",
    "    return sc, X_sc"
   ]
  },
  {
   "cell_type": "code",
   "execution_count": 6,
   "id": "8e58d61a",
   "metadata": {},
   "outputs": [],
   "source": [
    "# Function to split scaled data\n",
    "\n",
    "def split_stock_data(X_sc, train_size):\n",
    "    index = round(train_size*X_sc.shape[0])\n",
    "    X_sc_train = X_sc[:index]\n",
    "    X_sc_test = X_sc[index:]\n",
    "    return X_sc_train, X_sc_test"
   ]
  },
  {
   "cell_type": "code",
   "execution_count": 7,
   "id": "37d22456",
   "metadata": {},
   "outputs": [],
   "source": [
    "# Function to reshape scaled train data\n",
    "\n",
    "def reshape_train_data(X_sc_train, obs):\n",
    "    X_train = []\n",
    "    y_train = []\n",
    "    for i in range(obs, X_sc_train.shape[0]):\n",
    "        X_train.append(X_sc_train[i-obs:i, 0])\n",
    "        y_train.append(X_sc_train[i, 0])\n",
    "    X_train, y_train = np.array(X_train), np.array(y_train)\n",
    "    X_train = np.reshape(X_train, (X_train.shape[0], X_train.shape[1], 1))\n",
    "    return X_train, y_train"
   ]
  },
  {
   "cell_type": "code",
   "execution_count": 8,
   "id": "81f00c81",
   "metadata": {},
   "outputs": [],
   "source": [
    "# Function to reshape scaled test data\n",
    "\n",
    "def reshape_test_data(X_sc_test, obs):\n",
    "    X_test = []\n",
    "    y_test = []\n",
    "    for i in range(obs, X_sc_test.shape[0]):\n",
    "        X_test.append(X_sc_test[i-obs:i, 0])\n",
    "        y_test.append(X_sc_test[i, 0])\n",
    "    X_test, y_test = np.array(X_test), np.array(y_test)\n",
    "    X_test = np.reshape(X_test, (X_test.shape[0], X_test.shape[1], 1))\n",
    "    return X_test, y_test"
   ]
  },
  {
   "cell_type": "code",
   "execution_count": 9,
   "id": "a99d0a7d",
   "metadata": {},
   "outputs": [],
   "source": [
    "# Function to inverse transform\n",
    "\n",
    "def inverse_transformer(y):\n",
    "    y = np.c_[y, np.ones(len(y))]\n",
    "    y = scaler.inverse_transform(y)\n",
    "    y = y[:,0]\n",
    "    return y"
   ]
  },
  {
   "cell_type": "code",
   "execution_count": 10,
   "id": "a722974a",
   "metadata": {},
   "outputs": [],
   "source": [
    "# Function to build the lstm model\n",
    "\n",
    "def lstm_model():\n",
    "    model = Sequential()\n",
    "    model.add(LSTM(units = 50, return_sequences = True))\n",
    "    model.add(Dropout(0.2))\n",
    "    model.add(LSTM(units = 50, return_sequences = True))\n",
    "    model.add(Dropout(0.2))\n",
    "    model.add(LSTM(units = 50, return_sequences = True))\n",
    "    model.add(Dropout(0.2))\n",
    "    model.add(LSTM(units = 50))\n",
    "    model.add(Dropout(0.2))\n",
    "    model.add(Dense(units = 1))\n",
    "    model.compile(optimizer = 'adam', loss = 'mean_squared_error')\n",
    "    return model"
   ]
  },
  {
   "cell_type": "code",
   "execution_count": 11,
   "id": "42078284",
   "metadata": {},
   "outputs": [],
   "source": [
    "# Function to train the model\n",
    "\n",
    "def train_model(X_train, y_train):   \n",
    "    model = lstm_model()\n",
    "    es = EarlyStopping(patience=30, restore_best_weights=True)\n",
    "    model.fit(X_train, y_train, validation_split=0.2, epochs=100, batch_size=32, callbacks=[es], verbose=1)\n",
    "    return model"
   ]
  },
  {
   "cell_type": "code",
   "execution_count": 12,
   "id": "c6410b1a",
   "metadata": {},
   "outputs": [],
   "source": [
    "# Function to predict results\n",
    "\n",
    "def predict_model(ticker):\n",
    "    sc, X_sc = scale_stock_data(df, ticker) \n",
    "    X_sc_train, X_sc_test = split_stock_data(X_sc, 0.8)\n",
    "    X_train, y_train = reshape_train_data(X_sc_train, 30)\n",
    "    X_test, y_test = reshape_test_data(X_sc_test, 30)\n",
    "    #sc = MinMaxScaler().fit(X)\n",
    "    model = train_model(X_train, y_train)\n",
    "    predicted_stock_price = model.predict(X_test)\n",
    "    predicted_stock_price = sc.inverse_transform(predicted_stock_price)\n",
    "    return predicted_stock_price"
   ]
  },
  {
   "cell_type": "code",
   "execution_count": 13,
   "id": "df6e6c3b",
   "metadata": {},
   "outputs": [],
   "source": [
    "# New function to train model for then extracting predictions\n",
    "\n",
    "def model_training(ticker):\n",
    "    sc, X_sc = scale_stock_data(df, ticker) \n",
    "    X_sc_train, X_sc_test = split_stock_data(X_sc, 0.8)\n",
    "    X_train, y_train = reshape_train_data(X_sc_train, 30)\n",
    "    X_test, y_test = reshape_test_data(X_sc_test, 30)\n",
    "    model = train_model(X_train, y_train)\n",
    "    return model"
   ]
  },
  {
   "cell_type": "code",
   "execution_count": 14,
   "id": "d1ca70a8",
   "metadata": {},
   "outputs": [],
   "source": [
    "# New reshape function for final predictions on X\n",
    "\n",
    "def reshape_data(X_sc, obs):\n",
    "    X_final = []\n",
    "    for i in range(obs, X_sc.shape[0]):\n",
    "        X_final.append(X_sc[i-obs:i, 0])\n",
    "    X_final = np.array(X_final)\n",
    "    X_final = np.reshape(X_final, (X_final.shape[0], X_final.shape[1], 1))\n",
    "    return X_final"
   ]
  },
  {
   "cell_type": "code",
   "execution_count": 15,
   "id": "2cce0992",
   "metadata": {
    "scrolled": false
   },
   "outputs": [],
   "source": [
    "#model_amzn = model_training('AMZN')"
   ]
  },
  {
   "cell_type": "code",
   "execution_count": 16,
   "id": "0d0d1d1f",
   "metadata": {},
   "outputs": [],
   "source": [
    "#sc, X_sc = scale_stock_data(df, 'AMZN')"
   ]
  },
  {
   "cell_type": "code",
   "execution_count": 17,
   "id": "349f3553",
   "metadata": {},
   "outputs": [],
   "source": [
    "#X_sc.shape"
   ]
  },
  {
   "cell_type": "code",
   "execution_count": 18,
   "id": "847d4047",
   "metadata": {},
   "outputs": [],
   "source": [
    "#X_final = reshape_data(X_sc, 30)"
   ]
  },
  {
   "cell_type": "code",
   "execution_count": 19,
   "id": "f3a257aa",
   "metadata": {},
   "outputs": [],
   "source": [
    "#X_final.shape"
   ]
  },
  {
   "cell_type": "code",
   "execution_count": 20,
   "id": "cd68d2bf",
   "metadata": {},
   "outputs": [],
   "source": [
    "#final_predictions = model.predict(X_final)"
   ]
  },
  {
   "cell_type": "code",
   "execution_count": 21,
   "id": "b2cf1992",
   "metadata": {},
   "outputs": [],
   "source": [
    "#final_predictions"
   ]
  },
  {
   "cell_type": "code",
   "execution_count": 22,
   "id": "ff65acee",
   "metadata": {},
   "outputs": [
    {
     "ename": "NameError",
     "evalue": "name 'final_predictions' is not defined",
     "output_type": "error",
     "traceback": [
      "\u001b[0;31m---------------------------------------------------------------------------\u001b[0m",
      "\u001b[0;31mNameError\u001b[0m                                 Traceback (most recent call last)",
      "\u001b[0;32m/var/folders/ph/9x0cvwsd3w9f7f44132kb7mc0000gn/T/ipykernel_3338/3008858890.py\u001b[0m in \u001b[0;36m<module>\u001b[0;34m\u001b[0m\n\u001b[1;32m      1\u001b[0m \u001b[0;31m#final_predictions = sc.inverse_transform(final_predictions)\u001b[0m\u001b[0;34m\u001b[0m\u001b[0;34m\u001b[0m\u001b[0;34m\u001b[0m\u001b[0m\n\u001b[0;32m----> 2\u001b[0;31m \u001b[0mfinal_predictions\u001b[0m\u001b[0;34m\u001b[0m\u001b[0;34m\u001b[0m\u001b[0m\n\u001b[0m",
      "\u001b[0;31mNameError\u001b[0m: name 'final_predictions' is not defined"
     ]
    }
   ],
   "source": [
    "#final_predictions = sc.inverse_transform(final_predictions)\n",
    "final_predictions"
   ]
  },
  {
   "cell_type": "code",
   "execution_count": null,
   "id": "98dbfbbf",
   "metadata": {},
   "outputs": [],
   "source": [
    "#final_predictions.shape"
   ]
  },
  {
   "cell_type": "code",
   "execution_count": null,
   "id": "d2e7af77",
   "metadata": {},
   "outputs": [],
   "source": [
    "#df = df.drop(df.head(30).index)"
   ]
  },
  {
   "cell_type": "code",
   "execution_count": null,
   "id": "bf6b47e5",
   "metadata": {},
   "outputs": [],
   "source": [
    "#df['predictions'] = final_predictions"
   ]
  },
  {
   "cell_type": "code",
   "execution_count": null,
   "id": "b696bbfd",
   "metadata": {
    "scrolled": true
   },
   "outputs": [],
   "source": [
    "#df"
   ]
  },
  {
   "cell_type": "code",
   "execution_count": null,
   "id": "a1050fde",
   "metadata": {},
   "outputs": [],
   "source": [
    "#df.to_csv('ticker_predictions.csv', index=False)"
   ]
  },
  {
   "cell_type": "code",
   "execution_count": null,
   "id": "b44ebcf2",
   "metadata": {},
   "outputs": [],
   "source": [
    "#plt.figure(figsize=(20, 6))\n",
    "#plt.plot(df['AMZN'], color = 'black', label = 'AMZN Stock Price')\n",
    "#plt.plot(df['predictions'], color = 'green', label = 'Predicted AMZN Stock Price')\n",
    "#plt.title('AMZN Stock Price Prediction')\n",
    "#plt.xlabel('Time')\n",
    "#plt.ylabel('AMZN Stock Price')\n",
    "#plt.legend()\n",
    "#plt.show()"
   ]
  },
  {
   "cell_type": "code",
   "execution_count": null,
   "id": "81baeb82",
   "metadata": {},
   "outputs": [],
   "source": [
    "#from keras.models import load_model\n",
    "\n",
    "#model.save('stock_price.h5')"
   ]
  },
  {
   "cell_type": "code",
   "execution_count": null,
   "id": "1e2acdd7",
   "metadata": {},
   "outputs": [],
   "source": [
    "#model_test = load_model('lstm_model_stock_price.h5')"
   ]
  },
  {
   "cell_type": "code",
   "execution_count": null,
   "id": "682a404d",
   "metadata": {},
   "outputs": [],
   "source": [
    "#sc, X_sc = scale_stock_data(df, 'AMZN')"
   ]
  },
  {
   "cell_type": "code",
   "execution_count": null,
   "id": "26506aa8",
   "metadata": {},
   "outputs": [],
   "source": [
    "#X_sc_train, X_sc_test = split_stock_data(X_sc, 0.8)"
   ]
  },
  {
   "cell_type": "code",
   "execution_count": null,
   "id": "a605671a",
   "metadata": {},
   "outputs": [],
   "source": [
    "#X_train, y_train = reshape_train_data(X_sc_train, 30)"
   ]
  },
  {
   "cell_type": "code",
   "execution_count": null,
   "id": "fd8f6af6",
   "metadata": {},
   "outputs": [],
   "source": [
    "#X_test, y_test = reshape_test_data(X_sc_test, 30)"
   ]
  },
  {
   "cell_type": "code",
   "execution_count": null,
   "id": "7f17a0ef",
   "metadata": {},
   "outputs": [],
   "source": [
    "#y_pred = model_test.predict(X_test)"
   ]
  },
  {
   "cell_type": "code",
   "execution_count": null,
   "id": "b81b03a9",
   "metadata": {
    "scrolled": true
   },
   "outputs": [],
   "source": [
    "#y_pred"
   ]
  }
 ],
 "metadata": {
  "kernelspec": {
   "display_name": "Python 3 (ipykernel)",
   "language": "python",
   "name": "python3"
  },
  "language_info": {
   "codemirror_mode": {
    "name": "ipython",
    "version": 3
   },
   "file_extension": ".py",
   "mimetype": "text/x-python",
   "name": "python",
   "nbconvert_exporter": "python",
   "pygments_lexer": "ipython3",
   "version": "3.8.12"
  },
  "toc": {
   "base_numbering": 1,
   "nav_menu": {},
   "number_sections": true,
   "sideBar": true,
   "skip_h1_title": false,
   "title_cell": "Table of Contents",
   "title_sidebar": "Contents",
   "toc_cell": false,
   "toc_position": {},
   "toc_section_display": true,
   "toc_window_display": false
  }
 },
 "nbformat": 4,
 "nbformat_minor": 5
}
