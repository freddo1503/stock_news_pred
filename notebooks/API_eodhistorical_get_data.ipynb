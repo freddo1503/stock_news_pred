{
 "cells": [
  {
   "cell_type": "code",
   "execution_count": 1,
   "id": "95e8d7d0",
   "metadata": {},
   "outputs": [],
   "source": [
    "import pandas as pd \n",
    "import numpy as np"
   ]
  },
  {
   "cell_type": "code",
   "execution_count": 2,
   "id": "38d98c97",
   "metadata": {},
   "outputs": [],
   "source": [
    "top_6_stocks = [\"AAPL\", \"MSFT\", \"GOOGL\", \"AMZN\", \"TSLA\", \"NFLX\"]"
   ]
  },
  {
   "cell_type": "code",
   "execution_count": 8,
   "id": "0d162795",
   "metadata": {},
   "outputs": [],
   "source": [
    "import requests\n",
    "from termcolor import colored as cl\n",
    "api_key = \"6193152d6a5ef0.81905359\""
   ]
  },
  {
   "cell_type": "code",
   "execution_count": 9,
   "id": "4d003bd4",
   "metadata": {},
   "outputs": [
    {
     "data": {
      "text/html": [
       "<div>\n",
       "<style scoped>\n",
       "    .dataframe tbody tr th:only-of-type {\n",
       "        vertical-align: middle;\n",
       "    }\n",
       "\n",
       "    .dataframe tbody tr th {\n",
       "        vertical-align: top;\n",
       "    }\n",
       "\n",
       "    .dataframe thead th {\n",
       "        text-align: right;\n",
       "    }\n",
       "</style>\n",
       "<table border=\"1\" class=\"dataframe\">\n",
       "  <thead>\n",
       "    <tr style=\"text-align: right;\">\n",
       "      <th></th>\n",
       "      <th>date</th>\n",
       "      <th>title</th>\n",
       "      <th>content</th>\n",
       "    </tr>\n",
       "  </thead>\n",
       "  <tbody>\n",
       "  </tbody>\n",
       "</table>\n",
       "</div>"
      ],
      "text/plain": [
       "Empty DataFrame\n",
       "Columns: [date, title, content]\n",
       "Index: []"
      ]
     },
     "execution_count": 9,
     "metadata": {},
     "output_type": "execute_result"
    }
   ],
   "source": [
    "import pandas as pd\n",
    "news = pd.DataFrame(columns=[\"date\", \"title\", \"content\"])\n",
    "news"
   ]
  },
  {
   "cell_type": "code",
   "execution_count": 10,
   "id": "8855452a",
   "metadata": {},
   "outputs": [],
   "source": [
    "def get_stock_news(stock, api_key, from_date, to_date, limit=1000):\n",
    "    url = f'https://eodhistoricaldata.com/api/news?api_token={api_key}&s={stock}&from={from_date}&to={to_date}&limit={limit}'\n",
    "    news_json = requests.get(url).json()\n",
    "    for i in range(len(news_json)):\n",
    "        news.loc[i] = [news_json[i][\"date\"],news_json[i][\"title\"], news_json[i][\"content\"]] \n",
    "    return news"
   ]
  },
  {
   "cell_type": "code",
   "execution_count": 11,
   "id": "56730679",
   "metadata": {},
   "outputs": [],
   "source": [
    "import pandas as pd\n",
    "\n",
    "def get_stocks_out(stock_name, api_key):\n",
    "    start_date = [\"2020-11-01\",\"2020-11-15\",\"2020-12-01\", \"2020-12-15\",  \"2021-01-01\",\"2021-01-15\", \"2021-02-01\", \"2021-02-15\",\"2021-03-01\",\"2021-03-15\", \"2021-04-01\",\"2021-04-15\", \"2021-05-01\",\"2021-05-15\",\"2021-06-01\" ,\"2021-06-15\" ,\"2021-07-01\",\"2021-07-15\",  \"2021-08-01\",\"2021-08-15\",  \"2021-09-01\",\"2021-09-15\", \"2021-10-01\", \"2021-10-15\", \"2021-11-01\", \"2021-11-15\"]\n",
    "    end_date = [\"2020-11-14\",\"2020-11-30\",\"2020-12-14\",\"2020-12-31\",  \"2021-01-14\",  \"2021-01-31\", \"2021-02-14\", \"2021-02-28\", \"2021-03-14\",\"2021-03-31\", \"2021-04-14\",\"2021-04-30\",\"2021-05-14\",\"2021-05-31\",  \"2021-06-14\" ,\"2021-06-30\" ,\"2021-07-14\",\"2021-07-31\", \"2021-08-14\",\"2021-08-31\",\"2021-09-14\",\"2021-09-30\",  \"2021-10-14\",\"2021-10-31\", \"2022-11-14\", \"2022-12-02\"]\n",
    "\n",
    "    news = pd.DataFrame(columns=[\"date\", \"title\", \"content\"])\n",
    "    news_result = 0\n",
    "    for i in range(len(start_date)):\n",
    "        news = news.append(get_stock_news(stock_name, api_key,start_date[i],end_date[i],1000), ignore_index=True)\n",
    "    return news\n",
    "\n",
    "  "
   ]
  },
  {
   "cell_type": "code",
   "execution_count": 12,
   "id": "27d2e858",
   "metadata": {},
   "outputs": [],
   "source": [
    "#get out all news by stockname\n",
    "df_list = []\n",
    "for stock in top_6_stocks:\n",
    "    df = pd.DataFrame(get_stocks_out(stock, api_key))\n",
    "    df[\"ticker\"]= stock\n",
    "    df = df.drop_duplicates()\n",
    "    df_list.append(df)\n"
   ]
  },
  {
   "cell_type": "code",
   "execution_count": 13,
   "id": "63d93edf",
   "metadata": {},
   "outputs": [
    {
     "data": {
      "text/plain": [
       "32184"
      ]
     },
     "execution_count": 13,
     "metadata": {},
     "output_type": "execute_result"
    }
   ],
   "source": [
    "# concat the dataframes\n",
    "df_news = df_list[0].append(df_list[1])\n",
    "df_news = df_news.append(df_list[2])\n",
    "df_news = df_news.append(df_list[3])\n",
    "df_news = df_news.append(df_list[4])\n",
    "df_news = df_news.append(df_list[5])\n",
    "len(df_news)"
   ]
  },
  {
   "cell_type": "code",
   "execution_count": 14,
   "id": "6ffb0458",
   "metadata": {},
   "outputs": [
    {
     "data": {
      "text/plain": [
       "32184"
      ]
     },
     "execution_count": 14,
     "metadata": {},
     "output_type": "execute_result"
    }
   ],
   "source": [
    "len(df_news)"
   ]
  },
  {
   "cell_type": "code",
   "execution_count": 27,
   "id": "109cd84f",
   "metadata": {},
   "outputs": [],
   "source": [
    "df_news[\"day\"] = pd.to_datetime(df_news[\"date\"]).dt.date"
   ]
  },
  {
   "cell_type": "code",
   "execution_count": 28,
   "id": "d5abf74c",
   "metadata": {},
   "outputs": [
    {
     "data": {
      "text/html": [
       "<div>\n",
       "<style scoped>\n",
       "    .dataframe tbody tr th:only-of-type {\n",
       "        vertical-align: middle;\n",
       "    }\n",
       "\n",
       "    .dataframe tbody tr th {\n",
       "        vertical-align: top;\n",
       "    }\n",
       "\n",
       "    .dataframe thead th {\n",
       "        text-align: right;\n",
       "    }\n",
       "</style>\n",
       "<table border=\"1\" class=\"dataframe\">\n",
       "  <thead>\n",
       "    <tr style=\"text-align: right;\">\n",
       "      <th></th>\n",
       "      <th>date</th>\n",
       "      <th>title</th>\n",
       "      <th>content</th>\n",
       "      <th>ticker</th>\n",
       "      <th>day</th>\n",
       "    </tr>\n",
       "  </thead>\n",
       "  <tbody>\n",
       "    <tr>\n",
       "      <th>0</th>\n",
       "      <td>2020-11-10T20:35:50+00:00</td>\n",
       "      <td>Stocks mixed as tech sell-off continues</td>\n",
       "      <td>Steve Sosnick, Interactive Brokers Chief Strat...</td>\n",
       "      <td>AAPL</td>\n",
       "      <td>2020-11-10</td>\n",
       "    </tr>\n",
       "    <tr>\n",
       "      <th>1</th>\n",
       "      <td>2020-11-13T14:00:00+00:00</td>\n",
       "      <td>LinkedIn Co-founder: the number of ‘tech giant...</td>\n",
       "      <td>LinkedIn Co-founder Reid Hoffman joins 'Influe...</td>\n",
       "      <td>AAPL</td>\n",
       "      <td>2020-11-13</td>\n",
       "    </tr>\n",
       "    <tr>\n",
       "      <th>2</th>\n",
       "      <td>2020-11-09T09:15:52+00:00</td>\n",
       "      <td>Apple Freezes New Business for Pegatron on Chi...</td>\n",
       "      <td>(Bloomberg) -- Apple Inc. suspended new busine...</td>\n",
       "      <td>AAPL</td>\n",
       "      <td>2020-11-09</td>\n",
       "    </tr>\n",
       "    <tr>\n",
       "      <th>3</th>\n",
       "      <td>2020-11-03T01:17:24+00:00</td>\n",
       "      <td>Apple to Launch MacBooks With Own Chips Next Week</td>\n",
       "      <td>(Bloomberg) -- Apple Inc.’s 15-year relationsh...</td>\n",
       "      <td>AAPL</td>\n",
       "      <td>2020-11-03</td>\n",
       "    </tr>\n",
       "    <tr>\n",
       "      <th>4</th>\n",
       "      <td>2020-11-11T16:18:37+00:00</td>\n",
       "      <td>Alibaba Singles’ Day Ends Strongly as Beijing ...</td>\n",
       "      <td>(Bloomberg) -- Alibaba Group Holding Ltd. post...</td>\n",
       "      <td>AAPL</td>\n",
       "      <td>2020-11-11</td>\n",
       "    </tr>\n",
       "    <tr>\n",
       "      <th>...</th>\n",
       "      <td>...</td>\n",
       "      <td>...</td>\n",
       "      <td>...</td>\n",
       "      <td>...</td>\n",
       "      <td>...</td>\n",
       "    </tr>\n",
       "    <tr>\n",
       "      <th>24150</th>\n",
       "      <td>2021-11-30T20:05:56+00:00</td>\n",
       "      <td>Triller’s Ryan Kavanaugh Shakes Up the Fight G...</td>\n",
       "      <td>By Exec Edge Editorial Staff\\n\\nWhen Ryan Kava...</td>\n",
       "      <td>NFLX</td>\n",
       "      <td>2021-11-30</td>\n",
       "    </tr>\n",
       "    <tr>\n",
       "      <th>24151</th>\n",
       "      <td>2021-12-01T11:40:00+00:00</td>\n",
       "      <td>2 Stocks to Buy If You Are Worried About the N...</td>\n",
       "      <td>The variant in question is called omicron. At ...</td>\n",
       "      <td>NFLX</td>\n",
       "      <td>2021-12-01</td>\n",
       "    </tr>\n",
       "    <tr>\n",
       "      <th>24153</th>\n",
       "      <td>2021-12-01T16:27:00+00:00</td>\n",
       "      <td>Salesforce Joins the List of Companies With Tw...</td>\n",
       "      <td>A brief summary of how companies like Netflix,...</td>\n",
       "      <td>NFLX</td>\n",
       "      <td>2021-12-01</td>\n",
       "    </tr>\n",
       "    <tr>\n",
       "      <th>24154</th>\n",
       "      <td>2021-12-01T21:20:06+00:00</td>\n",
       "      <td>Netflix makes good on pledge to put 2% of its ...</td>\n",
       "      <td>“More capital moving into these institutions m...</td>\n",
       "      <td>NFLX</td>\n",
       "      <td>2021-12-01</td>\n",
       "    </tr>\n",
       "    <tr>\n",
       "      <th>24155</th>\n",
       "      <td>2021-12-01T14:06:02+00:00</td>\n",
       "      <td>Comcast (CMCSA) Disney Renews Content Carriage...</td>\n",
       "      <td>Comcast CMCSA and The Walt Disney DIS recently...</td>\n",
       "      <td>NFLX</td>\n",
       "      <td>2021-12-01</td>\n",
       "    </tr>\n",
       "  </tbody>\n",
       "</table>\n",
       "<p>32184 rows × 5 columns</p>\n",
       "</div>"
      ],
      "text/plain": [
       "                            date  \\\n",
       "0      2020-11-10T20:35:50+00:00   \n",
       "1      2020-11-13T14:00:00+00:00   \n",
       "2      2020-11-09T09:15:52+00:00   \n",
       "3      2020-11-03T01:17:24+00:00   \n",
       "4      2020-11-11T16:18:37+00:00   \n",
       "...                          ...   \n",
       "24150  2021-11-30T20:05:56+00:00   \n",
       "24151  2021-12-01T11:40:00+00:00   \n",
       "24153  2021-12-01T16:27:00+00:00   \n",
       "24154  2021-12-01T21:20:06+00:00   \n",
       "24155  2021-12-01T14:06:02+00:00   \n",
       "\n",
       "                                                   title  \\\n",
       "0                Stocks mixed as tech sell-off continues   \n",
       "1      LinkedIn Co-founder: the number of ‘tech giant...   \n",
       "2      Apple Freezes New Business for Pegatron on Chi...   \n",
       "3      Apple to Launch MacBooks With Own Chips Next Week   \n",
       "4      Alibaba Singles’ Day Ends Strongly as Beijing ...   \n",
       "...                                                  ...   \n",
       "24150  Triller’s Ryan Kavanaugh Shakes Up the Fight G...   \n",
       "24151  2 Stocks to Buy If You Are Worried About the N...   \n",
       "24153  Salesforce Joins the List of Companies With Tw...   \n",
       "24154  Netflix makes good on pledge to put 2% of its ...   \n",
       "24155  Comcast (CMCSA) Disney Renews Content Carriage...   \n",
       "\n",
       "                                                 content ticker         day  \n",
       "0      Steve Sosnick, Interactive Brokers Chief Strat...   AAPL  2020-11-10  \n",
       "1      LinkedIn Co-founder Reid Hoffman joins 'Influe...   AAPL  2020-11-13  \n",
       "2      (Bloomberg) -- Apple Inc. suspended new busine...   AAPL  2020-11-09  \n",
       "3      (Bloomberg) -- Apple Inc.’s 15-year relationsh...   AAPL  2020-11-03  \n",
       "4      (Bloomberg) -- Alibaba Group Holding Ltd. post...   AAPL  2020-11-11  \n",
       "...                                                  ...    ...         ...  \n",
       "24150  By Exec Edge Editorial Staff\\n\\nWhen Ryan Kava...   NFLX  2021-11-30  \n",
       "24151  The variant in question is called omicron. At ...   NFLX  2021-12-01  \n",
       "24153  A brief summary of how companies like Netflix,...   NFLX  2021-12-01  \n",
       "24154  “More capital moving into these institutions m...   NFLX  2021-12-01  \n",
       "24155  Comcast CMCSA and The Walt Disney DIS recently...   NFLX  2021-12-01  \n",
       "\n",
       "[32184 rows x 5 columns]"
      ]
     },
     "execution_count": 28,
     "metadata": {},
     "output_type": "execute_result"
    }
   ],
   "source": [
    "df_news"
   ]
  },
  {
   "cell_type": "code",
   "execution_count": 29,
   "id": "0a80a945",
   "metadata": {},
   "outputs": [],
   "source": [
    "#save the result in a csv file\n",
    "df_news.to_csv(\"stock_news_top_6_stocks\", index=False)"
   ]
  },
  {
   "cell_type": "code",
   "execution_count": 30,
   "id": "eae85801",
   "metadata": {},
   "outputs": [],
   "source": [
    "df_new = pd.read_csv(\"stock_news_top_6_stocks\")"
   ]
  },
  {
   "cell_type": "code",
   "execution_count": 32,
   "id": "cc2688c6",
   "metadata": {},
   "outputs": [
    {
     "data": {
      "text/plain": [
       "'2021-12-02'"
      ]
     },
     "execution_count": 32,
     "metadata": {},
     "output_type": "execute_result"
    }
   ],
   "source": [
    "df_new.day.max()"
   ]
  },
  {
   "cell_type": "code",
   "execution_count": null,
   "id": "500d2c11",
   "metadata": {},
   "outputs": [],
   "source": []
  }
 ],
 "metadata": {
  "kernelspec": {
   "display_name": "Python 3 (ipykernel)",
   "language": "python",
   "name": "python3"
  },
  "language_info": {
   "codemirror_mode": {
    "name": "ipython",
    "version": 3
   },
   "file_extension": ".py",
   "mimetype": "text/x-python",
   "name": "python",
   "nbconvert_exporter": "python",
   "pygments_lexer": "ipython3",
   "version": "3.8.12"
  },
  "toc": {
   "base_numbering": 1,
   "nav_menu": {},
   "number_sections": true,
   "sideBar": true,
   "skip_h1_title": false,
   "title_cell": "Table of Contents",
   "title_sidebar": "Contents",
   "toc_cell": false,
   "toc_position": {},
   "toc_section_display": true,
   "toc_window_display": false
  }
 },
 "nbformat": 4,
 "nbformat_minor": 5
}
