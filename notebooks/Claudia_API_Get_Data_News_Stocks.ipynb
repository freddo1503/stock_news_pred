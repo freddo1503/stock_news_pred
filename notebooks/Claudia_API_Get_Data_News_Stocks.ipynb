{
 "cells": [
  {
   "cell_type": "markdown",
   "metadata": {},
   "source": [
    "# Stocks"
   ]
  },
  {
   "cell_type": "code",
   "execution_count": 97,
   "metadata": {
    "ExecuteTime": {
     "end_time": "2021-11-23T10:02:22.847230Z",
     "start_time": "2021-11-23T10:02:22.817726Z"
    }
   },
   "outputs": [],
   "source": [
    "top_6_stocks = [\"AAPL\", \"MSFT\", \"GOOGL\", \"AMZN\", \"TSLA\", \"NFLX\"]"
   ]
  },
  {
   "cell_type": "markdown",
   "metadata": {},
   "source": [
    "## Kaggle Data Set Stocks"
   ]
  },
  {
   "cell_type": "code",
   "execution_count": 10,
   "metadata": {
    "ExecuteTime": {
     "end_time": "2021-11-22T16:26:58.184466Z",
     "start_time": "2021-11-22T16:26:58.168558Z"
    }
   },
   "outputs": [],
   "source": [
    "import pandas as pd\n",
    "import numpy as np\n",
    "import matplotlib.pyplot as plt"
   ]
  },
  {
   "cell_type": "code",
   "execution_count": 23,
   "metadata": {
    "ExecuteTime": {
     "end_time": "2021-11-22T13:52:47.699610Z",
     "start_time": "2021-11-22T13:52:47.338519Z"
    }
   },
   "outputs": [],
   "source": [
    "stocks = pd.read_csv(\"./kaggle_stocks/all_stocks_2006-01-01_to_2018-01-01.csv\")"
   ]
  },
  {
   "cell_type": "code",
   "execution_count": 24,
   "metadata": {
    "ExecuteTime": {
     "end_time": "2021-11-22T13:52:48.458936Z",
     "start_time": "2021-11-22T13:52:48.403877Z"
    }
   },
   "outputs": [
    {
     "data": {
      "text/html": [
       "<div>\n",
       "<style scoped>\n",
       "    .dataframe tbody tr th:only-of-type {\n",
       "        vertical-align: middle;\n",
       "    }\n",
       "\n",
       "    .dataframe tbody tr th {\n",
       "        vertical-align: top;\n",
       "    }\n",
       "\n",
       "    .dataframe thead th {\n",
       "        text-align: right;\n",
       "    }\n",
       "</style>\n",
       "<table border=\"1\" class=\"dataframe\">\n",
       "  <thead>\n",
       "    <tr style=\"text-align: right;\">\n",
       "      <th></th>\n",
       "      <th>Date</th>\n",
       "      <th>Open</th>\n",
       "      <th>High</th>\n",
       "      <th>Low</th>\n",
       "      <th>Close</th>\n",
       "      <th>Volume</th>\n",
       "      <th>Name</th>\n",
       "    </tr>\n",
       "  </thead>\n",
       "  <tbody>\n",
       "    <tr>\n",
       "      <th>0</th>\n",
       "      <td>2006-01-03</td>\n",
       "      <td>77.76</td>\n",
       "      <td>79.35</td>\n",
       "      <td>77.24</td>\n",
       "      <td>79.11</td>\n",
       "      <td>3117200</td>\n",
       "      <td>MMM</td>\n",
       "    </tr>\n",
       "    <tr>\n",
       "      <th>1</th>\n",
       "      <td>2006-01-04</td>\n",
       "      <td>79.49</td>\n",
       "      <td>79.49</td>\n",
       "      <td>78.25</td>\n",
       "      <td>78.71</td>\n",
       "      <td>2558000</td>\n",
       "      <td>MMM</td>\n",
       "    </tr>\n",
       "    <tr>\n",
       "      <th>2</th>\n",
       "      <td>2006-01-05</td>\n",
       "      <td>78.41</td>\n",
       "      <td>78.65</td>\n",
       "      <td>77.56</td>\n",
       "      <td>77.99</td>\n",
       "      <td>2529500</td>\n",
       "      <td>MMM</td>\n",
       "    </tr>\n",
       "    <tr>\n",
       "      <th>3</th>\n",
       "      <td>2006-01-06</td>\n",
       "      <td>78.64</td>\n",
       "      <td>78.90</td>\n",
       "      <td>77.64</td>\n",
       "      <td>78.63</td>\n",
       "      <td>2479500</td>\n",
       "      <td>MMM</td>\n",
       "    </tr>\n",
       "    <tr>\n",
       "      <th>4</th>\n",
       "      <td>2006-01-09</td>\n",
       "      <td>78.50</td>\n",
       "      <td>79.83</td>\n",
       "      <td>78.46</td>\n",
       "      <td>79.02</td>\n",
       "      <td>1845600</td>\n",
       "      <td>MMM</td>\n",
       "    </tr>\n",
       "  </tbody>\n",
       "</table>\n",
       "</div>"
      ],
      "text/plain": [
       "         Date   Open   High    Low  Close   Volume Name\n",
       "0  2006-01-03  77.76  79.35  77.24  79.11  3117200  MMM\n",
       "1  2006-01-04  79.49  79.49  78.25  78.71  2558000  MMM\n",
       "2  2006-01-05  78.41  78.65  77.56  77.99  2529500  MMM\n",
       "3  2006-01-06  78.64  78.90  77.64  78.63  2479500  MMM\n",
       "4  2006-01-09  78.50  79.83  78.46  79.02  1845600  MMM"
      ]
     },
     "execution_count": 24,
     "metadata": {},
     "output_type": "execute_result"
    }
   ],
   "source": [
    "stocks.head()"
   ]
  },
  {
   "cell_type": "code",
   "execution_count": 25,
   "metadata": {
    "ExecuteTime": {
     "end_time": "2021-11-22T13:52:49.132947Z",
     "start_time": "2021-11-22T13:52:49.086013Z"
    }
   },
   "outputs": [
    {
     "data": {
      "text/plain": [
       "array(['MMM', 'AXP', 'AAPL', 'BA', 'CAT', 'CVX', 'CSCO', 'KO', 'DIS',\n",
       "       'XOM', 'GE', 'GS', 'HD', 'IBM', 'INTC', 'JNJ', 'JPM', 'MCD', 'MRK',\n",
       "       'MSFT', 'NKE', 'PFE', 'PG', 'TRV', 'UTX', 'UNH', 'VZ', 'WMT',\n",
       "       'GOOGL', 'AMZN', 'AABA'], dtype=object)"
      ]
     },
     "execution_count": 25,
     "metadata": {},
     "output_type": "execute_result"
    }
   ],
   "source": [
    "stocks.Name.unique()"
   ]
  },
  {
   "cell_type": "markdown",
   "metadata": {
    "ExecuteTime": {
     "end_time": "2021-11-18T22:59:16.385178Z",
     "start_time": "2021-11-18T22:59:16.367216Z"
    }
   },
   "source": [
    "## APIs"
   ]
  },
  {
   "cell_type": "markdown",
   "metadata": {
    "ExecuteTime": {
     "end_time": "2021-11-18T22:53:25.874165Z",
     "start_time": "2021-11-18T22:53:25.853168Z"
    }
   },
   "source": [
    "###  yfinance"
   ]
  },
  {
   "cell_type": "code",
   "execution_count": null,
   "metadata": {
    "ExecuteTime": {
     "end_time": "2021-11-22T13:27:49.718040Z",
     "start_time": "2021-11-22T13:27:46.130Z"
    }
   },
   "outputs": [],
   "source": [
    "# !pip install yfinance"
   ]
  },
  {
   "cell_type": "code",
   "execution_count": 13,
   "metadata": {
    "ExecuteTime": {
     "end_time": "2021-11-22T16:27:16.363630Z",
     "start_time": "2021-11-22T16:27:06.753826Z"
    }
   },
   "outputs": [
    {
     "data": {
      "image/png": "[encoded data removed]",
      "text/plain": [
       "<Figure size 432x288 with 1 Axes>"
      ]
     },
     "metadata": {
      "needs_background": "light"
     },
     "output_type": "display_data"
    }
   ],
   "source": [
    "import yfinance as yf\n",
    "import matplotlib.pyplot as plt\n",
    "stock_hist = []\n",
    "for stock in top_5_stocks:\n",
    "    ticker = yf.Ticker(stock)\n",
    "    hist = ticker.history(period=\"max\")\n",
    "    hist[\"stock_name\"] = stock\n",
    "    stock_hist.append(hist)\n",
    "    plt.plot(hist[\"Close\"], label=stock)\n",
    "    plt.legend()\n",
    "plt.show()"
   ]
  },
  {
   "cell_type": "code",
   "execution_count": 14,
   "metadata": {
    "ExecuteTime": {
     "end_time": "2021-11-22T16:27:22.031542Z",
     "start_time": "2021-11-22T16:27:18.250668Z"
    }
   },
   "outputs": [
    {
     "data": {
      "image/png": "[encoded data removed]",
      "text/plain": [
       "<Figure size 432x288 with 1 Axes>"
      ]
     },
     "metadata": {
      "needs_background": "light"
     },
     "output_type": "display_data"
    }
   ],
   "source": [
    "import yfinance as yf\n",
    "stock_data = []\n",
    "for stock in top_5_stocks:\n",
    "    ticker = yf.Ticker(stock)\n",
    "    hist = ticker.history(start=\"2011-01-01\")\n",
    "    hist[\"stock_name\"] = stock\n",
    "    stock_hist.append(hist)\n",
    "    plt.plot(hist[\"Close\"], label=stock)"
   ]
  },
  {
   "cell_type": "code",
   "execution_count": null,
   "metadata": {
    "ExecuteTime": {
     "end_time": "2021-11-22T13:27:49.734083Z",
     "start_time": "2021-11-22T13:27:46.597Z"
    }
   },
   "outputs": [],
   "source": [
    "stock_data"
   ]
  },
  {
   "cell_type": "markdown",
   "metadata": {},
   "source": [
    "### Alpa Vantage"
   ]
  },
  {
   "cell_type": "code",
   "execution_count": null,
   "metadata": {
    "ExecuteTime": {
     "end_time": "2021-11-22T13:27:49.776033Z",
     "start_time": "2021-11-22T13:27:46.805Z"
    }
   },
   "outputs": [],
   "source": [
    "# !pip install alpha_vantage"
   ]
  },
  {
   "cell_type": "code",
   "execution_count": null,
   "metadata": {
    "ExecuteTime": {
     "end_time": "2021-11-22T13:27:49.779108Z",
     "start_time": "2021-11-22T13:27:46.926Z"
    }
   },
   "outputs": [],
   "source": [
    "from alpha_vantage.timeseries import TimeSeries\n",
    "from pprint import pprint\n",
    "ts = TimeSeries(key='ALPHAVANTAGE_API_KEY', output_format='pandas')\n",
    "data, meta_data = ts.get_intraday(symbol='AAPL',interval='1min', outputsize='full')\n",
    "pprint(data)"
   ]
  },
  {
   "cell_type": "code",
   "execution_count": null,
   "metadata": {
    "ExecuteTime": {
     "end_time": "2021-11-22T13:27:49.783041Z",
     "start_time": "2021-11-22T13:27:47.087Z"
    }
   },
   "outputs": [],
   "source": [
    "from alpha_vantage.timeseries import TimeSeries\n",
    "from pprint import pprint\n",
    "ts = TimeSeries(key='ALPHAVANTAGE_API_KEY', output_format='pandas')\n",
    "data, meta_data = ts.get_intraday(symbol='GOOG',interval='1min', outputsize='full')\n",
    "pprint(data)"
   ]
  },
  {
   "cell_type": "code",
   "execution_count": null,
   "metadata": {
    "ExecuteTime": {
     "end_time": "2021-11-22T13:27:49.786106Z",
     "start_time": "2021-11-22T13:27:47.203Z"
    }
   },
   "outputs": [],
   "source": [
    "data['4. close'].plot()"
   ]
  },
  {
   "cell_type": "code",
   "execution_count": null,
   "metadata": {
    "ExecuteTime": {
     "end_time": "2021-11-22T13:27:49.789031Z",
     "start_time": "2021-11-22T13:27:47.392Z"
    }
   },
   "outputs": [],
   "source": [
    "from alpha_vantage.timeseries import TimeSeries\n",
    "import matplotlib.pyplot as plt\n",
    "\n",
    "data, meta_data = ts.get_intraday(symbol='MSFT',interval='1min', outputsize='full')\n",
    "data['4. close'].plot()\n",
    "plt.title('Intraday Times Series for the MSFT stock (1 min)')\n",
    "plt.show()\n"
   ]
  },
  {
   "cell_type": "code",
   "execution_count": null,
   "metadata": {
    "ExecuteTime": {
     "end_time": "2021-11-22T13:27:49.792110Z",
     "start_time": "2021-11-22T13:27:47.644Z"
    }
   },
   "outputs": [],
   "source": [
    "import requests\n",
    "import pandas as pd\n",
    "import json\n",
    "import matplotlib.pyplot as plt\n",
    "\n",
    "# replace the \"demo\" apikey below with your own key from https://www.alphavantage.co/support/#api-key\n",
    "url = 'https://www.alphavantage.co/query?function=TIME_SERIES_DAILY&symbol=AAPL&outputsize=full&apikey=ALPHAVANTAGE_API_KEY'\n",
    "r = requests.get(url)\n",
    "data = r.json()\n",
    "data\n",
    "df = pd.DataFrame.from_dict(data[\"Time Series (Daily)\"]) #, orient='index'\n",
    "df.info()"
   ]
  },
  {
   "cell_type": "code",
   "execution_count": null,
   "metadata": {
    "ExecuteTime": {
     "end_time": "2021-11-22T13:27:49.795106Z",
     "start_time": "2021-11-22T13:27:47.753Z"
    }
   },
   "outputs": [],
   "source": [
    "df_2 = df.astype(\"float\")\n",
    "df_2 = df_2.T"
   ]
  },
  {
   "cell_type": "code",
   "execution_count": null,
   "metadata": {
    "ExecuteTime": {
     "end_time": "2021-11-22T13:27:49.799109Z",
     "start_time": "2021-11-22T13:27:47.860Z"
    }
   },
   "outputs": [],
   "source": [
    "df_2[\"4. close\"].plot()\n",
    "plt.show()"
   ]
  },
  {
   "cell_type": "code",
   "execution_count": null,
   "metadata": {
    "ExecuteTime": {
     "end_time": "2021-11-22T13:27:49.805040Z",
     "start_time": "2021-11-22T13:27:47.961Z"
    }
   },
   "outputs": [],
   "source": [
    "def deep_get(d, keys):\n",
    "    if not keys or d is None:\n",
    "        return d\n",
    "    return deep_get(d.get(keys[0]), keys[1:])\n",
    "\n",
    "deep_get(data, \"4. close\")"
   ]
  },
  {
   "cell_type": "raw",
   "metadata": {
    "ExecuteTime": {
     "end_time": "2021-11-16T01:34:17.840319Z",
     "start_time": "2021-11-16T01:34:12.921048Z"
    }
   },
   "source": [
    "import asyncio\n",
    "from alpha_vantage.async_support.timeseries import TimeSeries\n",
    "\n",
    "symbols = ['AAPL', 'GOOG', 'TSLA', 'MSFT']\n",
    "\n",
    "\n",
    "async def get_data(symbol):\n",
    "    ts = TimeSeries(key='ALPHAVANTAGE_API_KEY')\n",
    "    data, _ = await ts.get_quote_endpoint(symbol)\n",
    "    await ts.close()\n",
    "    return data\n",
    "\n",
    "loop = asyncio.get_event_loop()\n",
    "tasks = [get_data(symbol) for symbol in symbols]\n",
    "group1 = asyncio.gather(*tasks)\n",
    "results = loop.run_until_complete(group1)\n",
    "loop.close()\n",
    "print(results)"
   ]
  },
  {
   "cell_type": "raw",
   "metadata": {
    "ExecuteTime": {
     "end_time": "2021-11-16T01:34:40.822129Z",
     "start_time": "2021-11-16T01:34:39.919659Z"
    }
   },
   "source": [
    "loop.stop()\n",
    "loop.close()"
   ]
  },
  {
   "cell_type": "code",
   "execution_count": null,
   "metadata": {},
   "outputs": [],
   "source": []
  },
  {
   "cell_type": "markdown",
   "metadata": {},
   "source": [
    "# Stock News"
   ]
  },
  {
   "cell_type": "markdown",
   "metadata": {},
   "source": [
    "## Kaggle Stock News Dataset"
   ]
  },
  {
   "cell_type": "code",
   "execution_count": 5,
   "metadata": {
    "ExecuteTime": {
     "end_time": "2021-11-22T13:28:20.990197Z",
     "start_time": "2021-11-22T13:27:50.141719Z"
    }
   },
   "outputs": [],
   "source": [
    "import pandas as pd\n",
    "stock_news = pd.read_csv(\"./us_equities_news_dataset/us_equities_news_dataset.csv\")\n"
   ]
  },
  {
   "cell_type": "code",
   "execution_count": 6,
   "metadata": {
    "ExecuteTime": {
     "end_time": "2021-11-22T13:28:21.099335Z",
     "start_time": "2021-11-22T13:28:20.996156Z"
    }
   },
   "outputs": [],
   "source": [
    " reduced_stocks = stock_news[stock_news[\"ticker\"].isin(top_5_stocks)]"
   ]
  },
  {
   "cell_type": "code",
   "execution_count": 7,
   "metadata": {
    "ExecuteTime": {
     "end_time": "2021-11-22T13:28:21.273851Z",
     "start_time": "2021-11-22T13:28:21.106407Z"
    }
   },
   "outputs": [
    {
     "data": {
      "text/html": [
       "<div>\n",
       "<style scoped>\n",
       "    .dataframe tbody tr th:only-of-type {\n",
       "        vertical-align: middle;\n",
       "    }\n",
       "\n",
       "    .dataframe tbody tr th {\n",
       "        vertical-align: top;\n",
       "    }\n",
       "\n",
       "    .dataframe thead th {\n",
       "        text-align: right;\n",
       "    }\n",
       "</style>\n",
       "<table border=\"1\" class=\"dataframe\">\n",
       "  <thead>\n",
       "    <tr style=\"text-align: right;\">\n",
       "      <th></th>\n",
       "      <th>id</th>\n",
       "      <th>title</th>\n",
       "      <th>category</th>\n",
       "      <th>content</th>\n",
       "      <th>release_date</th>\n",
       "      <th>provider</th>\n",
       "      <th>url</th>\n",
       "      <th>article_id</th>\n",
       "    </tr>\n",
       "    <tr>\n",
       "      <th>ticker</th>\n",
       "      <th></th>\n",
       "      <th></th>\n",
       "      <th></th>\n",
       "      <th></th>\n",
       "      <th></th>\n",
       "      <th></th>\n",
       "      <th></th>\n",
       "      <th></th>\n",
       "    </tr>\n",
       "  </thead>\n",
       "  <tbody>\n",
       "    <tr>\n",
       "      <th>AAPL</th>\n",
       "      <td>20231</td>\n",
       "      <td>20231</td>\n",
       "      <td>20231</td>\n",
       "      <td>20231</td>\n",
       "      <td>20231</td>\n",
       "      <td>20231</td>\n",
       "      <td>20231</td>\n",
       "      <td>20231</td>\n",
       "    </tr>\n",
       "    <tr>\n",
       "      <th>AMZN</th>\n",
       "      <td>6330</td>\n",
       "      <td>6330</td>\n",
       "      <td>6330</td>\n",
       "      <td>6330</td>\n",
       "      <td>6330</td>\n",
       "      <td>6330</td>\n",
       "      <td>6330</td>\n",
       "      <td>6330</td>\n",
       "    </tr>\n",
       "    <tr>\n",
       "      <th>GOOGL</th>\n",
       "      <td>5171</td>\n",
       "      <td>5171</td>\n",
       "      <td>5171</td>\n",
       "      <td>5171</td>\n",
       "      <td>5171</td>\n",
       "      <td>5171</td>\n",
       "      <td>5171</td>\n",
       "      <td>5171</td>\n",
       "    </tr>\n",
       "    <tr>\n",
       "      <th>MSFT</th>\n",
       "      <td>8110</td>\n",
       "      <td>8110</td>\n",
       "      <td>8110</td>\n",
       "      <td>8110</td>\n",
       "      <td>8110</td>\n",
       "      <td>8110</td>\n",
       "      <td>8110</td>\n",
       "      <td>8110</td>\n",
       "    </tr>\n",
       "    <tr>\n",
       "      <th>NFLX</th>\n",
       "      <td>3806</td>\n",
       "      <td>3806</td>\n",
       "      <td>3806</td>\n",
       "      <td>3806</td>\n",
       "      <td>3806</td>\n",
       "      <td>3806</td>\n",
       "      <td>3806</td>\n",
       "      <td>3806</td>\n",
       "    </tr>\n",
       "    <tr>\n",
       "      <th>TSLA</th>\n",
       "      <td>4283</td>\n",
       "      <td>4283</td>\n",
       "      <td>4283</td>\n",
       "      <td>4283</td>\n",
       "      <td>4283</td>\n",
       "      <td>4283</td>\n",
       "      <td>4283</td>\n",
       "      <td>4283</td>\n",
       "    </tr>\n",
       "  </tbody>\n",
       "</table>\n",
       "</div>"
      ],
      "text/plain": [
       "           id  title  category  content  release_date  provider    url  \\\n",
       "ticker                                                                   \n",
       "AAPL    20231  20231     20231    20231         20231     20231  20231   \n",
       "AMZN     6330   6330      6330     6330          6330      6330   6330   \n",
       "GOOGL    5171   5171      5171     5171          5171      5171   5171   \n",
       "MSFT     8110   8110      8110     8110          8110      8110   8110   \n",
       "NFLX     3806   3806      3806     3806          3806      3806   3806   \n",
       "TSLA     4283   4283      4283     4283          4283      4283   4283   \n",
       "\n",
       "        article_id  \n",
       "ticker              \n",
       "AAPL         20231  \n",
       "AMZN          6330  \n",
       "GOOGL         5171  \n",
       "MSFT          8110  \n",
       "NFLX          3806  \n",
       "TSLA          4283  "
      ]
     },
     "execution_count": 7,
     "metadata": {},
     "output_type": "execute_result"
    }
   ],
   "source": [
    "reduced_stocks.groupby(by=\"ticker\").count()"
   ]
  },
  {
   "cell_type": "code",
   "execution_count": 8,
   "metadata": {
    "ExecuteTime": {
     "end_time": "2021-11-22T13:28:22.346200Z",
     "start_time": "2021-11-22T13:28:22.238035Z"
    }
   },
   "outputs": [
    {
     "data": {
      "text/plain": [
       "AAPL     20231\n",
       "MSFT      8110\n",
       "BAC       7409\n",
       "AMZN      6330\n",
       "NWSA      5914\n",
       "BA        5879\n",
       "GOOGL     5171\n",
       "GS        4513\n",
       "TSLA      4283\n",
       "NFLX      3806\n",
       "Name: ticker, dtype: int64"
      ]
     },
     "execution_count": 8,
     "metadata": {},
     "output_type": "execute_result"
    }
   ],
   "source": [
    "stock_news[\"ticker\"].value_counts()[:10]"
   ]
  },
  {
   "cell_type": "code",
   "execution_count": 9,
   "metadata": {
    "ExecuteTime": {
     "end_time": "2021-11-22T13:28:22.474191Z",
     "start_time": "2021-11-22T13:28:22.356195Z"
    }
   },
   "outputs": [
    {
     "data": {
      "text/plain": [
       "2020-01-30    32\n",
       "2020-01-07    21\n",
       "2016-06-22    21\n",
       "2020-01-13    20\n",
       "2018-04-03    20\n",
       "              ..\n",
       "2017-08-21     1\n",
       "2018-08-25     1\n",
       "2019-05-17     1\n",
       "2015-02-22     1\n",
       "2019-03-30     1\n",
       "Name: release_date, Length: 1340, dtype: int64"
      ]
     },
     "execution_count": 9,
     "metadata": {},
     "output_type": "execute_result"
    }
   ],
   "source": [
    "TSLA_news = stock_news[stock_news[\"ticker\"]==\"TSLA\"]\n",
    "TSLA_news[\"release_date\"].value_counts()"
   ]
  },
  {
   "cell_type": "markdown",
   "metadata": {},
   "source": [
    "## API"
   ]
  },
  {
   "cell_type": "markdown",
   "metadata": {},
   "source": [
    "### Eodhistoricaldata"
   ]
  },
  {
   "cell_type": "markdown",
   "metadata": {},
   "source": [
    "https://eodhistoricaldata.com/api/news?api_token=OeAFFmMliFG5orCUuwAKQ8l4WWFQ67YX&from=2018-03-01&to=2018-03-30&offset=0"
   ]
  },
  {
   "cell_type": "code",
   "execution_count": 10,
   "metadata": {
    "ExecuteTime": {
     "end_time": "2021-11-22T13:28:28.674507Z",
     "start_time": "2021-11-22T13:28:22.485197Z"
    }
   },
   "outputs": [
    {
     "data": {
      "text/plain": [
       "1"
      ]
     },
     "execution_count": 10,
     "metadata": {},
     "output_type": "execute_result"
    }
   ],
   "source": [
    "import requests\n",
    "import pandas as pd\n",
    "\n",
    "\n",
    "url= \"https://eodhistoricaldata.com/api/news?api_token=EOD_API_KEY&s=TSLA&from=2020-01-01&to=2020-01-15&offset=0&limit=100\"\n",
    "r = requests.get(url)\n",
    "data = r.json()\n",
    "\n",
    "news= []\n",
    "for _ in range(0,len(data)):\n",
    "    news_ = data[_][\"content\"]\n",
    "    date_ =data[_][\"date\"] \n",
    "    news.append(f\"{date_} : {news_}\")\n",
    "    \n",
    "\n",
    "len(news)"
   ]
  },
  {
   "cell_type": "code",
   "execution_count": 12,
   "metadata": {
    "ExecuteTime": {
     "end_time": "2021-11-22T13:28:46.321204Z",
     "start_time": "2021-11-22T13:28:28.733508Z"
    }
   },
   "outputs": [
    {
     "name": "stdout",
     "output_type": "stream",
     "text": [
      "Requirement already satisfied: termcolor in c:\\users\\claud\\anaconda3\\lib\\site-packages (1.1.0)\n"
     ]
    }
   ],
   "source": [
    "!pip install termcolor"
   ]
  },
  {
   "cell_type": "code",
   "execution_count": 15,
   "metadata": {
    "ExecuteTime": {
     "end_time": "2021-11-23T08:40:00.324168Z",
     "start_time": "2021-11-23T08:40:00.273878Z"
    }
   },
   "outputs": [],
   "source": [
    "import requests\n",
    "from termcolor import colored as cl\n",
    "api_key = EOD_API_KEY"
   ]
  },
  {
   "cell_type": "code",
   "execution_count": 16,
   "metadata": {
    "ExecuteTime": {
     "end_time": "2021-11-23T08:40:03.809731Z",
     "start_time": "2021-11-23T08:40:03.659778Z"
    }
   },
   "outputs": [
    {
     "data": {
      "text/html": [
       "<div>\n",
       "<style scoped>\n",
       "    .dataframe tbody tr th:only-of-type {\n",
       "        vertical-align: middle;\n",
       "    }\n",
       "\n",
       "    .dataframe tbody tr th {\n",
       "        vertical-align: top;\n",
       "    }\n",
       "\n",
       "    .dataframe thead th {\n",
       "        text-align: right;\n",
       "    }\n",
       "</style>\n",
       "<table border=\"1\" class=\"dataframe\">\n",
       "  <thead>\n",
       "    <tr style=\"text-align: right;\">\n",
       "      <th></th>\n",
       "      <th>date</th>\n",
       "      <th>title</th>\n",
       "      <th>content</th>\n",
       "    </tr>\n",
       "  </thead>\n",
       "  <tbody>\n",
       "  </tbody>\n",
       "</table>\n",
       "</div>"
      ],
      "text/plain": [
       "Empty DataFrame\n",
       "Columns: [date, title, content]\n",
       "Index: []"
      ]
     },
     "execution_count": 16,
     "metadata": {},
     "output_type": "execute_result"
    }
   ],
   "source": [
    "import pandas as pd\n",
    "news = pd.DataFrame(columns=[\"date\", \"title\", \"content\"])\n",
    "news"
   ]
  },
  {
   "cell_type": "code",
   "execution_count": 146,
   "metadata": {
    "ExecuteTime": {
     "end_time": "2021-11-23T11:13:39.819400Z",
     "start_time": "2021-11-23T11:13:39.787314Z"
    }
   },
   "outputs": [],
   "source": [
    "def get_stock_news(stock, api_key, from_date, to_date, limit=1000):\n",
    "    url = f'https://eodhistoricaldata.com/api/news?api_token={api_key}&s={stock}&from={from_date}&to={to_date}&limit={limit}'\n",
    "    news_json = requests.get(url).json()\n",
    "    for i in range(len(news_json)):\n",
    "        news.loc[i] = [news_json[i][\"date\"],news_json[i][\"title\"], news_json[i][\"content\"]] \n",
    "    return news"
   ]
  },
  {
   "cell_type": "code",
   "execution_count": 98,
   "metadata": {
    "ExecuteTime": {
     "end_time": "2021-11-23T10:02:30.868883Z",
     "start_time": "2021-11-23T10:02:30.825630Z"
    }
   },
   "outputs": [
    {
     "data": {
      "text/plain": [
       "['AAPL', 'MSFT', 'GOOGL', 'AMZN', 'TSLA', 'NFLX']"
      ]
     },
     "execution_count": 98,
     "metadata": {},
     "output_type": "execute_result"
    }
   ],
   "source": [
    "top_6_stocks"
   ]
  },
  {
   "cell_type": "code",
   "execution_count": 154,
   "metadata": {
    "ExecuteTime": {
     "end_time": "2021-11-23T11:16:10.126316Z",
     "start_time": "2021-11-23T11:16:10.099024Z"
    }
   },
   "outputs": [],
   "source": [
    "import pandas as pd\n",
    "\n",
    "def get_stocks_out(stock_name, api_key):\n",
    "    start_date = [\"2020-11-01\",\"2020-11-15\",\"2020-12-01\", \"2020-12-15\",  \"2021-01-01\",\"2021-01-15\", \"2021-02-01\", \"2021-02-15\",\"2021-03-01\",\"2021-03-15\", \"2021-04-01\",\"2021-04-15\", \"2021-05-01\",\"2021-05-15\",\"2021-06-01\" ,\"2021-06-15\" ,\"2021-07-01\",\"2021-07-15\",  \"2021-08-01\",\"2021-08-15\",  \"2021-09-01\",\"2021-09-15\", \"2021-10-01\", \"2021-10-15\", \"2021-11-01\", \"2021-11-15\"]\n",
    "    end_date = [\"2020-11-14\",\"2020-11-30\",\"2020-12-14\",\"2020-12-31\",  \"2021-01-14\",  \"2021-01-31\", \"2021-02-14\", \"2021-02-28\", \"2021-03-14\",\"2021-03-31\", \"2021-04-14\",\"2021-04-30\",\"2021-05-14\",\"2021-05-31\",  \"2021-06-14\" ,\"2021-06-30\" ,\"2021-07-14\",\"2021-07-31\", \"2021-08-14\",\"2021-08-31\",\"2021-09-14\",\"2021-09-30\",  \"2021-10-14\",\"2021-10-31\", \"2022-11-14\", \"2022-11-23\"]\n",
    "\n",
    "    news = pd.DataFrame(columns=[\"date\", \"title\", \"content\"])\n",
    "    news_result = 0\n",
    "    for i in range(len(start_date)):\n",
    "        news = news.append(get_stock_news(stock_name, api_key,start_date[i],end_date[i],1000), ignore_index=True)\n",
    "    return news\n",
    "\n",
    "  "
   ]
  },
  {
   "cell_type": "code",
   "execution_count": 155,
   "metadata": {
    "ExecuteTime": {
     "end_time": "2021-11-23T11:21:16.664623Z",
     "start_time": "2021-11-23T11:16:28.227152Z"
    }
   },
   "outputs": [],
   "source": [
    "#get out all news by stockname\n",
    "df_list = []\n",
    "for stock in top_6_stocks:\n",
    "    df = pd.DataFrame(get_stocks_out(stock, api_key))\n",
    "    df[\"ticker\"]= stock\n",
    "    df = df.drop_duplicates()\n",
    "    df_list.append(df)\n"
   ]
  },
  {
   "cell_type": "code",
   "execution_count": 116,
   "metadata": {
    "ExecuteTime": {
     "end_time": "2021-11-23T10:41:59.624031Z",
     "start_time": "2021-11-23T10:41:59.590774Z"
    }
   },
   "outputs": [
    {
     "data": {
      "text/plain": [
       "['AAPL', 'MSFT', 'GOOGL', 'AMZN', 'TSLA', 'NFLX']"
      ]
     },
     "execution_count": 116,
     "metadata": {},
     "output_type": "execute_result"
    }
   ],
   "source": [
    "top_6_stocks"
   ]
  },
  {
   "cell_type": "code",
   "execution_count": 168,
   "metadata": {
    "ExecuteTime": {
     "end_time": "2021-11-23T11:34:38.858192Z",
     "start_time": "2021-11-23T11:34:38.752871Z"
    }
   },
   "outputs": [
    {
     "data": {
      "text/plain": [
       "33595"
      ]
     },
     "execution_count": 168,
     "metadata": {},
     "output_type": "execute_result"
    }
   ],
   "source": [
    "# concat the dataframes\n",
    "df_news = df_list[0].append(df_list[1])\n",
    "df_news = df_news.append(df_list[2])\n",
    "df_news = df_news.append(df_list[3])\n",
    "df_news = df_news.append(df_list[4])\n",
    "df_news = df_news.append(df_list[5])\n",
    "len(df_news)"
   ]
  },
  {
   "cell_type": "code",
   "execution_count": 192,
   "metadata": {
    "ExecuteTime": {
     "end_time": "2021-11-23T13:40:11.708744Z",
     "start_time": "2021-11-23T13:40:11.682375Z"
    },
    "scrolled": true
   },
   "outputs": [
    {
     "data": {
      "text/plain": [
       "33595"
      ]
     },
     "execution_count": 192,
     "metadata": {},
     "output_type": "execute_result"
    }
   ],
   "source": [
    "len(df_news)"
   ]
  },
  {
   "cell_type": "code",
   "execution_count": 171,
   "metadata": {
    "ExecuteTime": {
     "end_time": "2021-11-23T11:35:15.958026Z",
     "start_time": "2021-11-23T11:35:04.965817Z"
    }
   },
   "outputs": [],
   "source": [
    "#save the result in a csv file\n",
    "df_news.to_csv(\"stock_news_top_6_stocks\")"
   ]
  },
  {
   "cell_type": "code",
   "execution_count": 175,
   "metadata": {
    "ExecuteTime": {
     "end_time": "2021-11-23T11:46:55.316540Z",
     "start_time": "2021-11-23T11:46:55.093546Z"
    }
   },
   "outputs": [
    {
     "data": {
      "text/plain": [
       "4        2020-11-09\n",
       "6        2020-11-09\n",
       "3        2020-11-12\n",
       "1        2020-11-13\n",
       "5        2020-11-14\n",
       "            ...    \n",
       "3119     2021-11-23\n",
       "119      2021-11-23\n",
       "12119    2021-11-23\n",
       "1119     2021-11-23\n",
       "2119     2021-11-23\n",
       "Name: date_day, Length: 13000, dtype: object"
      ]
     },
     "execution_count": 175,
     "metadata": {},
     "output_type": "execute_result"
    }
   ],
   "source": [
    "import datetime\n",
    "NFLX_news[\"date_day\"] = pd.to_datetime(NFLX_news[\"date\"],format = \"%Y-%m-%dT%H:%M:%S+00:00\").dt.date\n",
    "NFLX_news[\"date_day\"] "
   ]
  },
  {
   "cell_type": "code",
   "execution_count": 185,
   "metadata": {
    "ExecuteTime": {
     "end_time": "2021-11-23T11:54:47.814454Z",
     "start_time": "2021-11-23T11:54:47.060814Z"
    }
   },
   "outputs": [],
   "source": [
    "df_news[\"date\"] = pd.to_datetime(df_news[\"date\"], format =\"%Y-%m-%dT%H:%M:%S+00:00\")\n",
    "df_news[\"date_days\"] = df_news[\"date\"].dt.date"
   ]
  },
  {
   "cell_type": "code",
   "execution_count": 186,
   "metadata": {
    "ExecuteTime": {
     "end_time": "2021-11-23T11:54:59.551412Z",
     "start_time": "2021-11-23T11:54:59.519580Z"
    }
   },
   "outputs": [
    {
     "data": {
      "text/plain": [
       "0        2020-11-10\n",
       "1        2020-11-13\n",
       "2        2020-11-09\n",
       "3        2020-11-03\n",
       "4        2020-11-11\n",
       "            ...    \n",
       "24114    2021-11-22\n",
       "24115    2021-11-22\n",
       "24116    2021-11-22\n",
       "24118    2021-11-22\n",
       "24119    2021-11-23\n",
       "Name: date_days, Length: 33595, dtype: object"
      ]
     },
     "execution_count": 186,
     "metadata": {},
     "output_type": "execute_result"
    }
   ],
   "source": [
    "df_news[\"date_days\"]"
   ]
  },
  {
   "cell_type": "code",
   "execution_count": 189,
   "metadata": {
    "ExecuteTime": {
     "end_time": "2021-11-23T11:57:40.933373Z",
     "start_time": "2021-11-23T11:57:39.820550Z"
    }
   },
   "outputs": [
    {
     "ename": "ValueError",
     "evalue": "`bins` must increase monotonically, when an array",
     "output_type": "error",
     "traceback": [
      "\u001b[1;31m---------------------------------------------------------------------------\u001b[0m",
      "\u001b[1;31mValueError\u001b[0m                                Traceback (most recent call last)",
      "\u001b[1;32m<ipython-input-189-42ddeaa6e5fe>\u001b[0m in \u001b[0;36m<module>\u001b[1;34m\u001b[0m\n\u001b[1;32m----> 1\u001b[1;33m \u001b[0mplt\u001b[0m\u001b[1;33m.\u001b[0m\u001b[0mhist\u001b[0m\u001b[1;33m(\u001b[0m\u001b[0mdf_news\u001b[0m\u001b[1;33m[\u001b[0m\u001b[1;34m\"date_days\"\u001b[0m\u001b[1;33m]\u001b[0m\u001b[1;33m.\u001b[0m\u001b[0munique\u001b[0m\u001b[1;33m(\u001b[0m\u001b[1;33m)\u001b[0m\u001b[1;33m,\u001b[0m \u001b[0mdf_news\u001b[0m\u001b[1;33m[\u001b[0m\u001b[1;34m\"date_days\"\u001b[0m\u001b[1;33m]\u001b[0m\u001b[1;33m.\u001b[0m\u001b[0mvalue_counts\u001b[0m\u001b[1;33m(\u001b[0m\u001b[1;33m)\u001b[0m\u001b[1;33m)\u001b[0m\u001b[1;33m\u001b[0m\u001b[1;33m\u001b[0m\u001b[0m\n\u001b[0m",
      "\u001b[1;32m~\\Anaconda3\\lib\\site-packages\\matplotlib\\pyplot.py\u001b[0m in \u001b[0;36mhist\u001b[1;34m(x, bins, range, density, weights, cumulative, bottom, histtype, align, orientation, rwidth, log, color, label, stacked, data, **kwargs)\u001b[0m\n\u001b[0;32m   2683\u001b[0m         \u001b[0morientation\u001b[0m\u001b[1;33m=\u001b[0m\u001b[1;34m'vertical'\u001b[0m\u001b[1;33m,\u001b[0m \u001b[0mrwidth\u001b[0m\u001b[1;33m=\u001b[0m\u001b[1;32mNone\u001b[0m\u001b[1;33m,\u001b[0m \u001b[0mlog\u001b[0m\u001b[1;33m=\u001b[0m\u001b[1;32mFalse\u001b[0m\u001b[1;33m,\u001b[0m \u001b[0mcolor\u001b[0m\u001b[1;33m=\u001b[0m\u001b[1;32mNone\u001b[0m\u001b[1;33m,\u001b[0m\u001b[1;33m\u001b[0m\u001b[1;33m\u001b[0m\u001b[0m\n\u001b[0;32m   2684\u001b[0m         label=None, stacked=False, *, data=None, **kwargs):\n\u001b[1;32m-> 2685\u001b[1;33m     return gca().hist(\n\u001b[0m\u001b[0;32m   2686\u001b[0m         \u001b[0mx\u001b[0m\u001b[1;33m,\u001b[0m \u001b[0mbins\u001b[0m\u001b[1;33m=\u001b[0m\u001b[0mbins\u001b[0m\u001b[1;33m,\u001b[0m \u001b[0mrange\u001b[0m\u001b[1;33m=\u001b[0m\u001b[0mrange\u001b[0m\u001b[1;33m,\u001b[0m \u001b[0mdensity\u001b[0m\u001b[1;33m=\u001b[0m\u001b[0mdensity\u001b[0m\u001b[1;33m,\u001b[0m \u001b[0mweights\u001b[0m\u001b[1;33m=\u001b[0m\u001b[0mweights\u001b[0m\u001b[1;33m,\u001b[0m\u001b[1;33m\u001b[0m\u001b[1;33m\u001b[0m\u001b[0m\n\u001b[0;32m   2687\u001b[0m         \u001b[0mcumulative\u001b[0m\u001b[1;33m=\u001b[0m\u001b[0mcumulative\u001b[0m\u001b[1;33m,\u001b[0m \u001b[0mbottom\u001b[0m\u001b[1;33m=\u001b[0m\u001b[0mbottom\u001b[0m\u001b[1;33m,\u001b[0m \u001b[0mhisttype\u001b[0m\u001b[1;33m=\u001b[0m\u001b[0mhisttype\u001b[0m\u001b[1;33m,\u001b[0m\u001b[1;33m\u001b[0m\u001b[1;33m\u001b[0m\u001b[0m\n",
      "\u001b[1;32m~\\Anaconda3\\lib\\site-packages\\matplotlib\\__init__.py\u001b[0m in \u001b[0;36minner\u001b[1;34m(ax, data, *args, **kwargs)\u001b[0m\n\u001b[0;32m   1436\u001b[0m     \u001b[1;32mdef\u001b[0m \u001b[0minner\u001b[0m\u001b[1;33m(\u001b[0m\u001b[0max\u001b[0m\u001b[1;33m,\u001b[0m \u001b[1;33m*\u001b[0m\u001b[0margs\u001b[0m\u001b[1;33m,\u001b[0m \u001b[0mdata\u001b[0m\u001b[1;33m=\u001b[0m\u001b[1;32mNone\u001b[0m\u001b[1;33m,\u001b[0m \u001b[1;33m**\u001b[0m\u001b[0mkwargs\u001b[0m\u001b[1;33m)\u001b[0m\u001b[1;33m:\u001b[0m\u001b[1;33m\u001b[0m\u001b[1;33m\u001b[0m\u001b[0m\n\u001b[0;32m   1437\u001b[0m         \u001b[1;32mif\u001b[0m \u001b[0mdata\u001b[0m \u001b[1;32mis\u001b[0m \u001b[1;32mNone\u001b[0m\u001b[1;33m:\u001b[0m\u001b[1;33m\u001b[0m\u001b[1;33m\u001b[0m\u001b[0m\n\u001b[1;32m-> 1438\u001b[1;33m             \u001b[1;32mreturn\u001b[0m \u001b[0mfunc\u001b[0m\u001b[1;33m(\u001b[0m\u001b[0max\u001b[0m\u001b[1;33m,\u001b[0m \u001b[1;33m*\u001b[0m\u001b[0mmap\u001b[0m\u001b[1;33m(\u001b[0m\u001b[0msanitize_sequence\u001b[0m\u001b[1;33m,\u001b[0m \u001b[0margs\u001b[0m\u001b[1;33m)\u001b[0m\u001b[1;33m,\u001b[0m \u001b[1;33m**\u001b[0m\u001b[0mkwargs\u001b[0m\u001b[1;33m)\u001b[0m\u001b[1;33m\u001b[0m\u001b[1;33m\u001b[0m\u001b[0m\n\u001b[0m\u001b[0;32m   1439\u001b[0m \u001b[1;33m\u001b[0m\u001b[0m\n\u001b[0;32m   1440\u001b[0m         \u001b[0mbound\u001b[0m \u001b[1;33m=\u001b[0m \u001b[0mnew_sig\u001b[0m\u001b[1;33m.\u001b[0m\u001b[0mbind\u001b[0m\u001b[1;33m(\u001b[0m\u001b[0max\u001b[0m\u001b[1;33m,\u001b[0m \u001b[1;33m*\u001b[0m\u001b[0margs\u001b[0m\u001b[1;33m,\u001b[0m \u001b[1;33m**\u001b[0m\u001b[0mkwargs\u001b[0m\u001b[1;33m)\u001b[0m\u001b[1;33m\u001b[0m\u001b[1;33m\u001b[0m\u001b[0m\n",
      "\u001b[1;32m~\\Anaconda3\\lib\\site-packages\\matplotlib\\axes\\_axes.py\u001b[0m in \u001b[0;36mhist\u001b[1;34m(self, x, bins, range, density, weights, cumulative, bottom, histtype, align, orientation, rwidth, log, color, label, stacked, **kwargs)\u001b[0m\n\u001b[0;32m   6654\u001b[0m             \u001b[1;31m# this will automatically overwrite bins,\u001b[0m\u001b[1;33m\u001b[0m\u001b[1;33m\u001b[0m\u001b[1;33m\u001b[0m\u001b[0m\n\u001b[0;32m   6655\u001b[0m             \u001b[1;31m# so that each histogram uses the same bins\u001b[0m\u001b[1;33m\u001b[0m\u001b[1;33m\u001b[0m\u001b[1;33m\u001b[0m\u001b[0m\n\u001b[1;32m-> 6656\u001b[1;33m             \u001b[0mm\u001b[0m\u001b[1;33m,\u001b[0m \u001b[0mbins\u001b[0m \u001b[1;33m=\u001b[0m \u001b[0mnp\u001b[0m\u001b[1;33m.\u001b[0m\u001b[0mhistogram\u001b[0m\u001b[1;33m(\u001b[0m\u001b[0mx\u001b[0m\u001b[1;33m[\u001b[0m\u001b[0mi\u001b[0m\u001b[1;33m]\u001b[0m\u001b[1;33m,\u001b[0m \u001b[0mbins\u001b[0m\u001b[1;33m,\u001b[0m \u001b[0mweights\u001b[0m\u001b[1;33m=\u001b[0m\u001b[0mw\u001b[0m\u001b[1;33m[\u001b[0m\u001b[0mi\u001b[0m\u001b[1;33m]\u001b[0m\u001b[1;33m,\u001b[0m \u001b[1;33m**\u001b[0m\u001b[0mhist_kwargs\u001b[0m\u001b[1;33m)\u001b[0m\u001b[1;33m\u001b[0m\u001b[1;33m\u001b[0m\u001b[0m\n\u001b[0m\u001b[0;32m   6657\u001b[0m             \u001b[0mtops\u001b[0m\u001b[1;33m.\u001b[0m\u001b[0mappend\u001b[0m\u001b[1;33m(\u001b[0m\u001b[0mm\u001b[0m\u001b[1;33m)\u001b[0m\u001b[1;33m\u001b[0m\u001b[1;33m\u001b[0m\u001b[0m\n\u001b[0;32m   6658\u001b[0m         \u001b[0mtops\u001b[0m \u001b[1;33m=\u001b[0m \u001b[0mnp\u001b[0m\u001b[1;33m.\u001b[0m\u001b[0marray\u001b[0m\u001b[1;33m(\u001b[0m\u001b[0mtops\u001b[0m\u001b[1;33m,\u001b[0m \u001b[0mfloat\u001b[0m\u001b[1;33m)\u001b[0m  \u001b[1;31m# causes problems later if it's an int\u001b[0m\u001b[1;33m\u001b[0m\u001b[1;33m\u001b[0m\u001b[0m\n",
      "\u001b[1;32m<__array_function__ internals>\u001b[0m in \u001b[0;36mhistogram\u001b[1;34m(*args, **kwargs)\u001b[0m\n",
      "\u001b[1;32m~\\Anaconda3\\lib\\site-packages\\numpy\\lib\\histograms.py\u001b[0m in \u001b[0;36mhistogram\u001b[1;34m(a, bins, range, normed, weights, density)\u001b[0m\n\u001b[0;32m    790\u001b[0m     \u001b[0ma\u001b[0m\u001b[1;33m,\u001b[0m \u001b[0mweights\u001b[0m \u001b[1;33m=\u001b[0m \u001b[0m_ravel_and_check_weights\u001b[0m\u001b[1;33m(\u001b[0m\u001b[0ma\u001b[0m\u001b[1;33m,\u001b[0m \u001b[0mweights\u001b[0m\u001b[1;33m)\u001b[0m\u001b[1;33m\u001b[0m\u001b[1;33m\u001b[0m\u001b[0m\n\u001b[0;32m    791\u001b[0m \u001b[1;33m\u001b[0m\u001b[0m\n\u001b[1;32m--> 792\u001b[1;33m     \u001b[0mbin_edges\u001b[0m\u001b[1;33m,\u001b[0m \u001b[0muniform_bins\u001b[0m \u001b[1;33m=\u001b[0m \u001b[0m_get_bin_edges\u001b[0m\u001b[1;33m(\u001b[0m\u001b[0ma\u001b[0m\u001b[1;33m,\u001b[0m \u001b[0mbins\u001b[0m\u001b[1;33m,\u001b[0m \u001b[0mrange\u001b[0m\u001b[1;33m,\u001b[0m \u001b[0mweights\u001b[0m\u001b[1;33m)\u001b[0m\u001b[1;33m\u001b[0m\u001b[1;33m\u001b[0m\u001b[0m\n\u001b[0m\u001b[0;32m    793\u001b[0m \u001b[1;33m\u001b[0m\u001b[0m\n\u001b[0;32m    794\u001b[0m     \u001b[1;31m# Histogram is an integer or a float array depending on the weights.\u001b[0m\u001b[1;33m\u001b[0m\u001b[1;33m\u001b[0m\u001b[1;33m\u001b[0m\u001b[0m\n",
      "\u001b[1;32m~\\Anaconda3\\lib\\site-packages\\numpy\\lib\\histograms.py\u001b[0m in \u001b[0;36m_get_bin_edges\u001b[1;34m(a, bins, range, weights)\u001b[0m\n\u001b[0;32m    429\u001b[0m         \u001b[0mbin_edges\u001b[0m \u001b[1;33m=\u001b[0m \u001b[0mnp\u001b[0m\u001b[1;33m.\u001b[0m\u001b[0masarray\u001b[0m\u001b[1;33m(\u001b[0m\u001b[0mbins\u001b[0m\u001b[1;33m)\u001b[0m\u001b[1;33m\u001b[0m\u001b[1;33m\u001b[0m\u001b[0m\n\u001b[0;32m    430\u001b[0m         \u001b[1;32mif\u001b[0m \u001b[0mnp\u001b[0m\u001b[1;33m.\u001b[0m\u001b[0many\u001b[0m\u001b[1;33m(\u001b[0m\u001b[0mbin_edges\u001b[0m\u001b[1;33m[\u001b[0m\u001b[1;33m:\u001b[0m\u001b[1;33m-\u001b[0m\u001b[1;36m1\u001b[0m\u001b[1;33m]\u001b[0m \u001b[1;33m>\u001b[0m \u001b[0mbin_edges\u001b[0m\u001b[1;33m[\u001b[0m\u001b[1;36m1\u001b[0m\u001b[1;33m:\u001b[0m\u001b[1;33m]\u001b[0m\u001b[1;33m)\u001b[0m\u001b[1;33m:\u001b[0m\u001b[1;33m\u001b[0m\u001b[1;33m\u001b[0m\u001b[0m\n\u001b[1;32m--> 431\u001b[1;33m             raise ValueError(\n\u001b[0m\u001b[0;32m    432\u001b[0m                 '`bins` must increase monotonically, when an array')\n\u001b[0;32m    433\u001b[0m \u001b[1;33m\u001b[0m\u001b[0m\n",
      "\u001b[1;31mValueError\u001b[0m: `bins` must increase monotonically, when an array"
     ]
    },
    {
     "data": {
      "image/png": "[encoded data removed]",
      "text/plain": [
       "<Figure size 432x288 with 1 Axes>"
      ]
     },
     "metadata": {
      "needs_background": "light"
     },
     "output_type": "display_data"
    }
   ],
   "source": [
    "plt.hist(df_news[\"date_days\"].unique(), df_news[\"date_days\"].value_counts())"
   ]
  },
  {
   "cell_type": "code",
   "execution_count": 102,
   "metadata": {
    "ExecuteTime": {
     "end_time": "2021-11-23T10:06:27.136162Z",
     "start_time": "2021-11-23T10:06:27.076432Z"
    }
   },
   "outputs": [
    {
     "ename": "TypeError",
     "evalue": "string indices must be integers",
     "output_type": "error",
     "traceback": [
      "\u001b[1;31m---------------------------------------------------------------------------\u001b[0m",
      "\u001b[1;31mTypeError\u001b[0m                                 Traceback (most recent call last)",
      "\u001b[1;32m<ipython-input-102-e05186c734ce>\u001b[0m in \u001b[0;36m<module>\u001b[1;34m\u001b[0m\n\u001b[0;32m      1\u001b[0m \u001b[1;32mfor\u001b[0m \u001b[0mstock\u001b[0m \u001b[1;32min\u001b[0m \u001b[0mtop_6_stocks\u001b[0m\u001b[1;33m:\u001b[0m\u001b[1;33m\u001b[0m\u001b[1;33m\u001b[0m\u001b[0m\n\u001b[0;32m      2\u001b[0m     \u001b[0mdf\u001b[0m \u001b[1;33m=\u001b[0m \u001b[1;34mf\"{stock}_news\"\u001b[0m\u001b[1;33m\u001b[0m\u001b[1;33m\u001b[0m\u001b[0m\n\u001b[1;32m----> 3\u001b[1;33m     \u001b[0mdf\u001b[0m\u001b[1;33m[\u001b[0m\u001b[1;34m\"date_day\"\u001b[0m\u001b[1;33m]\u001b[0m \u001b[1;33m=\u001b[0m \u001b[0mpd\u001b[0m\u001b[1;33m.\u001b[0m\u001b[0mto_datetime\u001b[0m\u001b[1;33m(\u001b[0m\u001b[0mdf\u001b[0m\u001b[1;33m[\u001b[0m\u001b[1;34m\"date\"\u001b[0m\u001b[1;33m]\u001b[0m\u001b[1;33m,\u001b[0m\u001b[0mformat\u001b[0m \u001b[1;33m=\u001b[0m \u001b[1;34m\"%Y-%m-%dT%H:%M:%S+00:00\"\u001b[0m\u001b[1;33m)\u001b[0m\u001b[1;33m.\u001b[0m\u001b[0mdt\u001b[0m\u001b[1;33m.\u001b[0m\u001b[0mdate\u001b[0m\u001b[1;33m\u001b[0m\u001b[1;33m\u001b[0m\u001b[0m\n\u001b[0m\u001b[0;32m      4\u001b[0m \u001b[0mNFLX_news\u001b[0m\u001b[1;33m[\u001b[0m\u001b[1;34m\"date_day\"\u001b[0m\u001b[1;33m]\u001b[0m\u001b[1;33m\u001b[0m\u001b[1;33m\u001b[0m\u001b[0m\n",
      "\u001b[1;31mTypeError\u001b[0m: string indices must be integers"
     ]
    }
   ],
   "source": [
    "for stock in top_6_stocks:\n",
    "    df = f\"{stock}_news\"\n",
    "    df[\"date_day\"] = pd.to_datetime(df[\"date\"],format = \"%Y-%m-%dT%H:%M:%S+00:00\").dt.date\n",
    "NFLX_news[\"date_day\"]"
   ]
  },
  {
   "cell_type": "code",
   "execution_count": null,
   "metadata": {
    "ExecuteTime": {
     "end_time": "2021-11-22T13:30:02.117097Z",
     "start_time": "2021-11-22T13:27:52.726Z"
    }
   },
   "outputs": [],
   "source": [
    "def get_customized_news(stock, start_date, end_date, n_news, api_key, offset = 0):\n",
    "    url = f'https://eodhistoricaldata.com/api/news?api_token={api_key}&s={stock}&limit={n_news}&offset={offset}&from={start_date}&to={end_date}'\n",
    "    news_json = requests.get(url).json()\n",
    "    \n",
    "    news = []\n",
    "    \n",
    "    for i in range(len(news_json)):\n",
    "        title = news_json[-i]['title']\n",
    "        news.append(title)\n",
    "        print(cl('{}. '.format(i+1), attrs = ['bold']), '{}'.format(title))\n",
    "    \n",
    "    return news\n",
    "\n",
    "#tsla_news = get_customized_news('AMZN', '2021-01-01', '2021-06-30',1000, api_key, 0)"
   ]
  },
  {
   "cell_type": "code",
   "execution_count": null,
   "metadata": {},
   "outputs": [],
   "source": [
    "#concat all dfs "
   ]
  },
  {
   "cell_type": "markdown",
   "metadata": {},
   "source": [
    "### Twitter Academic API"
   ]
  },
  {
   "cell_type": "code",
   "execution_count": null,
   "metadata": {
    "ExecuteTime": {
     "end_time": "2021-11-22T13:30:02.133108Z",
     "start_time": "2021-11-22T13:27:52.944Z"
    }
   },
   "outputs": [],
   "source": []
  },
  {
   "cell_type": "code",
   "execution_count": null,
   "metadata": {
    "ExecuteTime": {
     "end_time": "2021-11-22T13:30:02.133108Z",
     "start_time": "2021-11-22T13:27:53.156Z"
    }
   },
   "outputs": [],
   "source": [
    "from TwitterAPI import TwitterAPI\n",
    "SEARCH_TERM = '#AAPL OR #FB OR #KO OR #ABT OR #PEPCO'\n",
    "PRODUCT = 'fullarchive'\n",
    "LABEL = 'your label'\n",
    "api = TwitterAPI(API_KEY, 'consumer secret', 'access token key', 'access token secret')\n",
    "r = api.request('tweets/search/%s/:%s' % (PRODUCT, LABEL), {'query':SEARCH_TERM})\n",
    "for item in r:\n",
    "    if 'text' in item:\n",
    "        print(item['text'])\n",
    "        print(item['user']['name'])\n",
    "        print(item['followers_count'])\n",
    "        print(item['user']['location'])\n",
    "        print(item['user']['verified'])\n",
    "        print(item['lang'])\n",
    "        print(item['user']['statuses_count'])\n",
    "        print(item['source'])\n",
    "        print(item['favorite_count'])\n",
    "        print(item['retweet_count'])\n",
    "        print(item['created_at'])"
   ]
  },
  {
   "cell_type": "code",
   "execution_count": null,
   "metadata": {
    "ExecuteTime": {
     "end_time": "2021-11-22T13:30:02.133108Z",
     "start_time": "2021-11-22T13:27:53.351Z"
    }
   },
   "outputs": [],
   "source": [
    "r = api.request('tweets/search/%s/:%s' % (PRODUCT, LABEL), \n",
    "                {'query':SEARCH_TERM, 'fromDate':201501010000, 'toDate':201812310000})"
   ]
  },
  {
   "cell_type": "code",
   "execution_count": null,
   "metadata": {
    "ExecuteTime": {
     "end_time": "2021-11-22T13:30:02.133108Z",
     "start_time": "2021-11-22T13:27:53.467Z"
    }
   },
   "outputs": [],
   "source": [
    "search_headers = {\n",
    "    'Authorization': 'BEARER_API_KEY'   \n",
    "}\n",
    "\n",
    "search_params = {\n",
    "    'q': 'AAPL',\n",
    "    'created_at': '2020-06-11',\n",
    "#     'result_type': 'mixed'\n",
    "}\n",
    "\n",
    "# search_url = \"https://api.twitter.com/2/tweets/search/all\"\n",
    "\n",
    "search_url = 'https://api.twitter.com/1.1/search/tweets.json'  \n",
    "search_resp = requests.get(search_url, headers=search_headers, params=search_params)\n"
   ]
  },
  {
   "cell_type": "code",
   "execution_count": null,
   "metadata": {
    "ExecuteTime": {
     "end_time": "2021-11-22T13:30:02.133108Z",
     "start_time": "2021-11-22T13:27:53.559Z"
    }
   },
   "outputs": [],
   "source": [
    "results = search_resp.json()"
   ]
  },
  {
   "cell_type": "code",
   "execution_count": null,
   "metadata": {
    "ExecuteTime": {
     "end_time": "2021-11-22T13:30:02.148722Z",
     "start_time": "2021-11-22T13:27:53.659Z"
    }
   },
   "outputs": [],
   "source": [
    "results"
   ]
  },
  {
   "cell_type": "code",
   "execution_count": null,
   "metadata": {
    "ExecuteTime": {
     "end_time": "2021-11-22T13:30:02.148722Z",
     "start_time": "2021-11-22T13:27:53.826Z"
    }
   },
   "outputs": [],
   "source": [
    "len(results[\"statuses\"])"
   ]
  },
  {
   "cell_type": "code",
   "execution_count": null,
   "metadata": {},
   "outputs": [],
   "source": []
  },
  {
   "cell_type": "code",
   "execution_count": null,
   "metadata": {},
   "outputs": [],
   "source": []
  }
 ],
 "metadata": {
  "kernelspec": {
   "display_name": "Python 3 (ipykernel)",
   "language": "python",
   "name": "python3"
  },
  "language_info": {
   "codemirror_mode": {
    "name": "ipython",
    "version": 3
   },
   "file_extension": ".py",
   "mimetype": "text/x-python",
   "name": "python",
   "nbconvert_exporter": "python",
   "pygments_lexer": "ipython3",
   "version": "3.8.12"
  },
  "toc": {
   "base_numbering": 1,
   "nav_menu": {},
   "number_sections": true,
   "sideBar": true,
   "skip_h1_title": false,
   "title_cell": "Table of Contents",
   "title_sidebar": "Contents",
   "toc_cell": false,
   "toc_position": {
    "height": "calc(100% - 180px)",
    "left": "10px",
    "top": "150px",
    "width": "165px"
   },
   "toc_section_display": true,
   "toc_window_display": true
  },
  "varInspector": {
   "cols": {
    "lenName": 16,
    "lenType": 16,
    "lenVar": 40
   },
   "kernels_config": {
    "python": {
     "delete_cmd_postfix": "",
     "delete_cmd_prefix": "del ",
     "library": "var_list.py",
     "varRefreshCmd": "print(var_dic_list())"
    },
    "r": {
     "delete_cmd_postfix": ") ",
     "delete_cmd_prefix": "rm(",
     "library": "var_list.r",
     "varRefreshCmd": "cat(var_dic_list()) "
    }
   },
   "types_to_exclude": [
    "module",
    "function",
    "builtin_function_or_method",
    "instance",
    "_Feature"
   ],
   "window_display": false
  }
 },
 "nbformat": 4,
 "nbformat_minor": 4
}
