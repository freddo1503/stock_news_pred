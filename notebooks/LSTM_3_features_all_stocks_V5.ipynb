{
 "cells": [
  {
   "cell_type": "markdown",
   "id": "4da7e2d8",
   "metadata": {},
   "source": [
    "## importings "
   ]
  },
  {
   "cell_type": "code",
   "execution_count": 340,
   "id": "1716b52c",
   "metadata": {},
   "outputs": [],
   "source": [
    "import pandas as pd\n",
    "import numpy as np"
   ]
  },
  {
   "cell_type": "markdown",
   "id": "73fab450",
   "metadata": {},
   "source": [
    "## Chose a ticker"
   ]
  },
  {
   "cell_type": "code",
   "execution_count": 341,
   "id": "3efb81cc",
   "metadata": {},
   "outputs": [],
   "source": [
    "ticker=\"GOOGL\""
   ]
  },
  {
   "cell_type": "markdown",
   "id": "f20ffe9e",
   "metadata": {},
   "source": [
    "## Stocks Data"
   ]
  },
  {
   "cell_type": "code",
   "execution_count": 342,
   "id": "8d481ad9",
   "metadata": {},
   "outputs": [],
   "source": [
    "# get the stock data\n",
    "from google.cloud import storage\n",
    "def get_stock_data_from_gcp(nrows=10000, local=False, optimize=False, ticker=None, **kwargs):\n",
    "    \"\"\"method to get the training data (or a portion of it) from google cloud bucket\"\"\"\n",
    "    # Add Client() here\n",
    "    client = storage.Client()\n",
    "    if local:\n",
    "        path = \"data/data_data_10Mill.csv\"\n",
    "    else:\n",
    "        path = \"gs://stock-news-pred-bucket/sorted_final_stock_prices\"\n",
    "    df_stocks = pd.read_csv(path)#add nrows after if you want to select a specific number of row\n",
    "   \n",
    "    if ticker:\n",
    "        df = df_stocks[[\"date\", ticker]]\n",
    "        df[\"date\"] = pd.to_datetime(df['date'], infer_datetime_format=True)\n",
    "        \n",
    "    return df\n"
   ]
  },
  {
   "cell_type": "code",
   "execution_count": 343,
   "id": "55a55e7c",
   "metadata": {},
   "outputs": [],
   "source": [
    "#df_stocks = get_stock_data_from_gcp()"
   ]
  },
  {
   "cell_type": "code",
   "execution_count": 344,
   "id": "0b3cf321",
   "metadata": {},
   "outputs": [],
   "source": [
    "#df_stocks"
   ]
  },
  {
   "cell_type": "code",
   "execution_count": 345,
   "id": "0b9c5004",
   "metadata": {},
   "outputs": [
    {
     "name": "stderr",
     "output_type": "stream",
     "text": [
      "/tmp/ipykernel_7111/4215414328.py:15: SettingWithCopyWarning: \n",
      "A value is trying to be set on a copy of a slice from a DataFrame.\n",
      "Try using .loc[row_indexer,col_indexer] = value instead\n",
      "\n",
      "See the caveats in the documentation: https://pandas.pydata.org/pandas-docs/stable/user_guide/indexing.html#returning-a-view-versus-a-copy\n",
      "  df[\"date\"] = pd.to_datetime(df['date'], infer_datetime_format=True)\n"
     ]
    }
   ],
   "source": [
    "df_stocks = get_stock_data_from_gcp(ticker=ticker)"
   ]
  },
  {
   "cell_type": "code",
   "execution_count": 346,
   "id": "ecfd89e1",
   "metadata": {},
   "outputs": [
    {
     "data": {
      "text/html": [
       "<div>\n",
       "<style scoped>\n",
       "    .dataframe tbody tr th:only-of-type {\n",
       "        vertical-align: middle;\n",
       "    }\n",
       "\n",
       "    .dataframe tbody tr th {\n",
       "        vertical-align: top;\n",
       "    }\n",
       "\n",
       "    .dataframe thead th {\n",
       "        text-align: right;\n",
       "    }\n",
       "</style>\n",
       "<table border=\"1\" class=\"dataframe\">\n",
       "  <thead>\n",
       "    <tr style=\"text-align: right;\">\n",
       "      <th></th>\n",
       "      <th>date</th>\n",
       "      <th>GOOGL</th>\n",
       "    </tr>\n",
       "  </thead>\n",
       "  <tbody>\n",
       "    <tr>\n",
       "      <th>0</th>\n",
       "      <td>1999-11-01</td>\n",
       "      <td>NaN</td>\n",
       "    </tr>\n",
       "    <tr>\n",
       "      <th>1</th>\n",
       "      <td>1999-11-02</td>\n",
       "      <td>NaN</td>\n",
       "    </tr>\n",
       "    <tr>\n",
       "      <th>2</th>\n",
       "      <td>1999-11-03</td>\n",
       "      <td>NaN</td>\n",
       "    </tr>\n",
       "    <tr>\n",
       "      <th>3</th>\n",
       "      <td>1999-11-04</td>\n",
       "      <td>NaN</td>\n",
       "    </tr>\n",
       "    <tr>\n",
       "      <th>4</th>\n",
       "      <td>1999-11-05</td>\n",
       "      <td>NaN</td>\n",
       "    </tr>\n",
       "    <tr>\n",
       "      <th>...</th>\n",
       "      <td>...</td>\n",
       "      <td>...</td>\n",
       "    </tr>\n",
       "    <tr>\n",
       "      <th>5553</th>\n",
       "      <td>2021-11-24</td>\n",
       "      <td>2922.40</td>\n",
       "    </tr>\n",
       "    <tr>\n",
       "      <th>5554</th>\n",
       "      <td>2021-11-26</td>\n",
       "      <td>2843.66</td>\n",
       "    </tr>\n",
       "    <tr>\n",
       "      <th>5555</th>\n",
       "      <td>2021-11-29</td>\n",
       "      <td>2910.61</td>\n",
       "    </tr>\n",
       "    <tr>\n",
       "      <th>5556</th>\n",
       "      <td>2021-11-30</td>\n",
       "      <td>2837.95</td>\n",
       "    </tr>\n",
       "    <tr>\n",
       "      <th>5557</th>\n",
       "      <td>2021-12-01</td>\n",
       "      <td>2821.03</td>\n",
       "    </tr>\n",
       "  </tbody>\n",
       "</table>\n",
       "<p>5558 rows × 2 columns</p>\n",
       "</div>"
      ],
      "text/plain": [
       "           date    GOOGL\n",
       "0    1999-11-01      NaN\n",
       "1    1999-11-02      NaN\n",
       "2    1999-11-03      NaN\n",
       "3    1999-11-04      NaN\n",
       "4    1999-11-05      NaN\n",
       "...         ...      ...\n",
       "5553 2021-11-24  2922.40\n",
       "5554 2021-11-26  2843.66\n",
       "5555 2021-11-29  2910.61\n",
       "5556 2021-11-30  2837.95\n",
       "5557 2021-12-01  2821.03\n",
       "\n",
       "[5558 rows x 2 columns]"
      ]
     },
     "execution_count": 346,
     "metadata": {},
     "output_type": "execute_result"
    }
   ],
   "source": [
    "df_stocks"
   ]
  },
  {
   "cell_type": "markdown",
   "id": "1e2dedb8",
   "metadata": {},
   "source": [
    "## Get the sentiment"
   ]
  },
  {
   "cell_type": "code",
   "execution_count": 347,
   "id": "e052b2ff",
   "metadata": {},
   "outputs": [],
   "source": [
    "# get the data from GCP\n",
    "from google.cloud import storage\n",
    "def get_sentiment_news_data_from_gcp(nrows=10000, local=False, optimize=False, ticker=None, **kwargs):\n",
    "    \"\"\"method to get the training data (or a portion of it) from google cloud bucket\"\"\"\n",
    "    # Add Client() here\n",
    "    client = storage.Client()\n",
    "    if local:\n",
    "        path = \"data/data_data_10Mill.csv\"\n",
    "    else:\n",
    "        path = \"gs://stock-news-pred-bucket/final_stocks_sentiment_21221.csv\"\n",
    "    sentiment = pd.read_csv(path)#add nrows after if you want to select a specific number of row\n",
    "    sentiment = sentiment[['date', 'ticker', 'news_label']]\n",
    "    sentiment[\"date\"] = pd.to_datetime(sentiment[\"date\"] , infer_datetime_format=True)\n",
    "    sentiment.set_index([\"date\"], inplace=True)\n",
    "    if ticker:\n",
    "        sentiment_ticker = sentiment[sentiment['ticker'] == ticker]\n",
    "        sentiment_ticker.drop(columns=['ticker'], inplace=True)\n",
    "        return sentiment_ticker\n",
    "    else:\n",
    "        return sentiment"
   ]
  },
  {
   "cell_type": "code",
   "execution_count": 348,
   "id": "58431025",
   "metadata": {},
   "outputs": [
    {
     "name": "stderr",
     "output_type": "stream",
     "text": [
      "/home/frcloers/.pyenv/versions/3.8.12/envs/lewagon/lib/python3.8/site-packages/pandas/core/frame.py:4906: SettingWithCopyWarning: \n",
      "A value is trying to be set on a copy of a slice from a DataFrame\n",
      "\n",
      "See the caveats in the documentation: https://pandas.pydata.org/pandas-docs/stable/user_guide/indexing.html#returning-a-view-versus-a-copy\n",
      "  return super().drop(\n"
     ]
    }
   ],
   "source": [
    "sentiment = get_sentiment_news_data_from_gcp(ticker=ticker)"
   ]
  },
  {
   "cell_type": "code",
   "execution_count": 349,
   "id": "3337e452",
   "metadata": {},
   "outputs": [],
   "source": [
    "#sentiment = get_sentiment_news_data_from_gcp()"
   ]
  },
  {
   "cell_type": "code",
   "execution_count": 350,
   "id": "6b2512ee",
   "metadata": {},
   "outputs": [
    {
     "data": {
      "text/html": [
       "<div>\n",
       "<style scoped>\n",
       "    .dataframe tbody tr th:only-of-type {\n",
       "        vertical-align: middle;\n",
       "    }\n",
       "\n",
       "    .dataframe tbody tr th {\n",
       "        vertical-align: top;\n",
       "    }\n",
       "\n",
       "    .dataframe thead th {\n",
       "        text-align: right;\n",
       "    }\n",
       "</style>\n",
       "<table border=\"1\" class=\"dataframe\">\n",
       "  <thead>\n",
       "    <tr style=\"text-align: right;\">\n",
       "      <th></th>\n",
       "      <th>news_label</th>\n",
       "    </tr>\n",
       "    <tr>\n",
       "      <th>date</th>\n",
       "      <th></th>\n",
       "    </tr>\n",
       "  </thead>\n",
       "  <tbody>\n",
       "    <tr>\n",
       "      <th>2020-11-02</th>\n",
       "      <td>0.000000</td>\n",
       "    </tr>\n",
       "    <tr>\n",
       "      <th>2020-11-03</th>\n",
       "      <td>0.000000</td>\n",
       "    </tr>\n",
       "    <tr>\n",
       "      <th>2020-11-06</th>\n",
       "      <td>0.500000</td>\n",
       "    </tr>\n",
       "    <tr>\n",
       "      <th>2020-11-09</th>\n",
       "      <td>1.000000</td>\n",
       "    </tr>\n",
       "    <tr>\n",
       "      <th>2020-11-12</th>\n",
       "      <td>0.500000</td>\n",
       "    </tr>\n",
       "    <tr>\n",
       "      <th>...</th>\n",
       "      <td>...</td>\n",
       "    </tr>\n",
       "    <tr>\n",
       "      <th>2021-11-28</th>\n",
       "      <td>0.333333</td>\n",
       "    </tr>\n",
       "    <tr>\n",
       "      <th>2021-11-29</th>\n",
       "      <td>0.428571</td>\n",
       "    </tr>\n",
       "    <tr>\n",
       "      <th>2021-11-30</th>\n",
       "      <td>0.375000</td>\n",
       "    </tr>\n",
       "    <tr>\n",
       "      <th>2021-12-01</th>\n",
       "      <td>0.339623</td>\n",
       "    </tr>\n",
       "    <tr>\n",
       "      <th>2021-12-02</th>\n",
       "      <td>0.142857</td>\n",
       "    </tr>\n",
       "  </tbody>\n",
       "</table>\n",
       "<p>342 rows × 1 columns</p>\n",
       "</div>"
      ],
      "text/plain": [
       "            news_label\n",
       "date                  \n",
       "2020-11-02    0.000000\n",
       "2020-11-03    0.000000\n",
       "2020-11-06    0.500000\n",
       "2020-11-09    1.000000\n",
       "2020-11-12    0.500000\n",
       "...                ...\n",
       "2021-11-28    0.333333\n",
       "2021-11-29    0.428571\n",
       "2021-11-30    0.375000\n",
       "2021-12-01    0.339623\n",
       "2021-12-02    0.142857\n",
       "\n",
       "[342 rows x 1 columns]"
      ]
     },
     "execution_count": 350,
     "metadata": {},
     "output_type": "execute_result"
    }
   ],
   "source": [
    "sentiment"
   ]
  },
  {
   "cell_type": "markdown",
   "id": "e3e50e79",
   "metadata": {},
   "source": [
    "## Get Twitter Data"
   ]
  },
  {
   "cell_type": "code",
   "execution_count": 351,
   "id": "f3c9f61b",
   "metadata": {},
   "outputs": [],
   "source": [
    "from google.cloud import storage\n",
    "def get_twitter_stocks_sentiment_from_gcp(nrows=10000, local=False, optimize=False, ticker=None, **kwargs):\n",
    "    \"\"\"method to get the training data (or a portion of it) from google cloud bucket\"\"\"\n",
    "    # Add Client() here\n",
    "    client = storage.Client()\n",
    "    if local:\n",
    "        path = \"data/data_data_10Mill.csv\"\n",
    "    else:\n",
    "        path = \"gs://stock-news-pred-bucket/Amazon1 twitter_stocks_sentiment.csv\"\n",
    "    \n",
    "    if ticker==\"AMZN\":\n",
    "        path = \"gs://stock-news-pred-bucket/Amazon1 twitter_stocks_sentiment.csv\"\n",
    "    if ticker==\"GOOGL\":\n",
    "        path = \"gs://stock-news-pred-bucket/Google1 twitter_stocks_sentiment.csv\"\n",
    "    if ticker==\"MSFT\":\n",
    "        path = \"gs://stock-news-pred-bucket/Microsoft1 twitter_stocks_sentiment.csv\"\n",
    "    if ticker==\"NFLX\":\n",
    "        path=\"gs://stock-news-pred-bucket/Netflix1 twitter_stocks_sentiment.csv\"\n",
    "        \n",
    "    df = pd.read_csv(path, index_col= False)#add nrows after if you want to select a specific number of row\n",
    "    df.drop(columns=[\"Unnamed: 0\"], inplace=True)\n",
    "    df.rename(columns={\"class_label\": \"twitter_label\"}, inplace=True)\n",
    "    df[\"date\"] = pd.to_datetime(df[\"date\"] , infer_datetime_format=True)\n",
    "\n",
    "    return df"
   ]
  },
  {
   "cell_type": "code",
   "execution_count": 352,
   "id": "00f2acf7",
   "metadata": {},
   "outputs": [
    {
     "data": {
      "text/html": [
       "<div>\n",
       "<style scoped>\n",
       "    .dataframe tbody tr th:only-of-type {\n",
       "        vertical-align: middle;\n",
       "    }\n",
       "\n",
       "    .dataframe tbody tr th {\n",
       "        vertical-align: top;\n",
       "    }\n",
       "\n",
       "    .dataframe thead th {\n",
       "        text-align: right;\n",
       "    }\n",
       "</style>\n",
       "<table border=\"1\" class=\"dataframe\">\n",
       "  <thead>\n",
       "    <tr style=\"text-align: right;\">\n",
       "      <th></th>\n",
       "      <th>date</th>\n",
       "      <th>twitter_label</th>\n",
       "    </tr>\n",
       "  </thead>\n",
       "  <tbody>\n",
       "    <tr>\n",
       "      <th>0</th>\n",
       "      <td>2020-11-26</td>\n",
       "      <td>0.000000</td>\n",
       "    </tr>\n",
       "    <tr>\n",
       "      <th>1</th>\n",
       "      <td>2020-11-27</td>\n",
       "      <td>0.833333</td>\n",
       "    </tr>\n",
       "    <tr>\n",
       "      <th>2</th>\n",
       "      <td>2020-11-28</td>\n",
       "      <td>0.200000</td>\n",
       "    </tr>\n",
       "    <tr>\n",
       "      <th>3</th>\n",
       "      <td>2020-11-29</td>\n",
       "      <td>0.000000</td>\n",
       "    </tr>\n",
       "    <tr>\n",
       "      <th>4</th>\n",
       "      <td>2020-11-30</td>\n",
       "      <td>0.700000</td>\n",
       "    </tr>\n",
       "    <tr>\n",
       "      <th>...</th>\n",
       "      <td>...</td>\n",
       "      <td>...</td>\n",
       "    </tr>\n",
       "    <tr>\n",
       "      <th>348</th>\n",
       "      <td>2021-11-21</td>\n",
       "      <td>0.285714</td>\n",
       "    </tr>\n",
       "    <tr>\n",
       "      <th>349</th>\n",
       "      <td>2021-11-22</td>\n",
       "      <td>0.090909</td>\n",
       "    </tr>\n",
       "    <tr>\n",
       "      <th>350</th>\n",
       "      <td>2021-11-23</td>\n",
       "      <td>0.076923</td>\n",
       "    </tr>\n",
       "    <tr>\n",
       "      <th>351</th>\n",
       "      <td>2021-11-24</td>\n",
       "      <td>0.173913</td>\n",
       "    </tr>\n",
       "    <tr>\n",
       "      <th>352</th>\n",
       "      <td>2021-11-25</td>\n",
       "      <td>0.428571</td>\n",
       "    </tr>\n",
       "  </tbody>\n",
       "</table>\n",
       "<p>353 rows × 2 columns</p>\n",
       "</div>"
      ],
      "text/plain": [
       "          date  twitter_label\n",
       "0   2020-11-26       0.000000\n",
       "1   2020-11-27       0.833333\n",
       "2   2020-11-28       0.200000\n",
       "3   2020-11-29       0.000000\n",
       "4   2020-11-30       0.700000\n",
       "..         ...            ...\n",
       "348 2021-11-21       0.285714\n",
       "349 2021-11-22       0.090909\n",
       "350 2021-11-23       0.076923\n",
       "351 2021-11-24       0.173913\n",
       "352 2021-11-25       0.428571\n",
       "\n",
       "[353 rows x 2 columns]"
      ]
     },
     "execution_count": 352,
     "metadata": {},
     "output_type": "execute_result"
    }
   ],
   "source": [
    "df_twitter = get_twitter_stocks_sentiment_from_gcp(ticker=ticker)\n",
    "df_twitter"
   ]
  },
  {
   "cell_type": "markdown",
   "id": "7c68b6f7",
   "metadata": {},
   "source": [
    "## Merging Datasets"
   ]
  },
  {
   "cell_type": "code",
   "execution_count": 353,
   "id": "a028389f",
   "metadata": {},
   "outputs": [],
   "source": [
    "def merge_data(df_stocks, df_news, df_twitter):\n",
    "    df = pd.merge(df_stocks, df_news, on='date', how='outer')\n",
    "    df_twitter_merge = pd.merge(df, df_twitter, on='date', how='outer')\n",
    "    df_twitter_merge.rename(columns={\"class_label\": \"news_label\"}, inplace= True)\n",
    "    df_twitter_merge.sort_values([\"date\"], inplace=True)\n",
    "    mask = df_twitter_merge[\"news_label\"].notnull()==True\n",
    "    new_df = df_twitter_merge[mask]\n",
    "    new_df.iloc[:,1].interpolate(method= \"linear\", inplace= True)\n",
    "    #min_date = new_df[\"date\"].min()\n",
    "    #new_df = df.loc[min_date:,:]\n",
    "    new_df.fillna(value=-1, inplace=True)\n",
    "    \n",
    "    return new_df"
   ]
  },
  {
   "cell_type": "code",
   "execution_count": 354,
   "id": "4ae874b1",
   "metadata": {},
   "outputs": [
    {
     "name": "stderr",
     "output_type": "stream",
     "text": [
      "/home/frcloers/.pyenv/versions/3.8.12/envs/lewagon/lib/python3.8/site-packages/pandas/core/frame.py:5176: SettingWithCopyWarning: \n",
      "A value is trying to be set on a copy of a slice from a DataFrame\n",
      "\n",
      "See the caveats in the documentation: https://pandas.pydata.org/pandas-docs/stable/user_guide/indexing.html#returning-a-view-versus-a-copy\n",
      "  return super().fillna(\n"
     ]
    }
   ],
   "source": [
    "df = merge_data(df_stocks, sentiment, df_twitter)"
   ]
  },
  {
   "cell_type": "code",
   "execution_count": 355,
   "id": "09cefd9b",
   "metadata": {},
   "outputs": [
    {
     "data": {
      "text/html": [
       "<div>\n",
       "<style scoped>\n",
       "    .dataframe tbody tr th:only-of-type {\n",
       "        vertical-align: middle;\n",
       "    }\n",
       "\n",
       "    .dataframe tbody tr th {\n",
       "        vertical-align: top;\n",
       "    }\n",
       "\n",
       "    .dataframe thead th {\n",
       "        text-align: right;\n",
       "    }\n",
       "</style>\n",
       "<table border=\"1\" class=\"dataframe\">\n",
       "  <thead>\n",
       "    <tr style=\"text-align: right;\">\n",
       "      <th></th>\n",
       "      <th>date</th>\n",
       "      <th>GOOGL</th>\n",
       "      <th>news_label</th>\n",
       "      <th>twitter_label</th>\n",
       "    </tr>\n",
       "  </thead>\n",
       "  <tbody>\n",
       "    <tr>\n",
       "      <th>5285</th>\n",
       "      <td>2020-11-02</td>\n",
       "      <td>1624.320000</td>\n",
       "      <td>0.000000</td>\n",
       "      <td>-1.0</td>\n",
       "    </tr>\n",
       "    <tr>\n",
       "      <th>5286</th>\n",
       "      <td>2020-11-03</td>\n",
       "      <td>1645.660000</td>\n",
       "      <td>0.000000</td>\n",
       "      <td>-1.0</td>\n",
       "    </tr>\n",
       "    <tr>\n",
       "      <th>5289</th>\n",
       "      <td>2020-11-06</td>\n",
       "      <td>1759.730000</td>\n",
       "      <td>0.500000</td>\n",
       "      <td>-1.0</td>\n",
       "    </tr>\n",
       "    <tr>\n",
       "      <th>5290</th>\n",
       "      <td>2020-11-09</td>\n",
       "      <td>1761.420000</td>\n",
       "      <td>1.000000</td>\n",
       "      <td>-1.0</td>\n",
       "    </tr>\n",
       "    <tr>\n",
       "      <th>5293</th>\n",
       "      <td>2020-11-12</td>\n",
       "      <td>1742.820000</td>\n",
       "      <td>0.500000</td>\n",
       "      <td>-1.0</td>\n",
       "    </tr>\n",
       "    <tr>\n",
       "      <th>...</th>\n",
       "      <td>...</td>\n",
       "      <td>...</td>\n",
       "      <td>...</td>\n",
       "      <td>...</td>\n",
       "    </tr>\n",
       "    <tr>\n",
       "      <th>5650</th>\n",
       "      <td>2021-11-28</td>\n",
       "      <td>2888.293333</td>\n",
       "      <td>0.333333</td>\n",
       "      <td>-1.0</td>\n",
       "    </tr>\n",
       "    <tr>\n",
       "      <th>5555</th>\n",
       "      <td>2021-11-29</td>\n",
       "      <td>2910.610000</td>\n",
       "      <td>0.428571</td>\n",
       "      <td>-1.0</td>\n",
       "    </tr>\n",
       "    <tr>\n",
       "      <th>5556</th>\n",
       "      <td>2021-11-30</td>\n",
       "      <td>2837.950000</td>\n",
       "      <td>0.375000</td>\n",
       "      <td>-1.0</td>\n",
       "    </tr>\n",
       "    <tr>\n",
       "      <th>5557</th>\n",
       "      <td>2021-12-01</td>\n",
       "      <td>2821.030000</td>\n",
       "      <td>0.339623</td>\n",
       "      <td>-1.0</td>\n",
       "    </tr>\n",
       "    <tr>\n",
       "      <th>5651</th>\n",
       "      <td>2021-12-02</td>\n",
       "      <td>2821.030000</td>\n",
       "      <td>0.142857</td>\n",
       "      <td>-1.0</td>\n",
       "    </tr>\n",
       "  </tbody>\n",
       "</table>\n",
       "<p>342 rows × 4 columns</p>\n",
       "</div>"
      ],
      "text/plain": [
       "           date        GOOGL  news_label  twitter_label\n",
       "5285 2020-11-02  1624.320000    0.000000           -1.0\n",
       "5286 2020-11-03  1645.660000    0.000000           -1.0\n",
       "5289 2020-11-06  1759.730000    0.500000           -1.0\n",
       "5290 2020-11-09  1761.420000    1.000000           -1.0\n",
       "5293 2020-11-12  1742.820000    0.500000           -1.0\n",
       "...         ...          ...         ...            ...\n",
       "5650 2021-11-28  2888.293333    0.333333           -1.0\n",
       "5555 2021-11-29  2910.610000    0.428571           -1.0\n",
       "5556 2021-11-30  2837.950000    0.375000           -1.0\n",
       "5557 2021-12-01  2821.030000    0.339623           -1.0\n",
       "5651 2021-12-02  2821.030000    0.142857           -1.0\n",
       "\n",
       "[342 rows x 4 columns]"
      ]
     },
     "execution_count": 355,
     "metadata": {},
     "output_type": "execute_result"
    }
   ],
   "source": [
    "df"
   ]
  },
  {
   "cell_type": "code",
   "execution_count": 356,
   "id": "354a5257",
   "metadata": {},
   "outputs": [],
   "source": [
    "from sklearn.preprocessing import StandardScaler, MinMaxScaler\n",
    "\n",
    "# INSTANTIATE THE SCALER\n",
    "scaler = MinMaxScaler()\n",
    "\n",
    "# FIT IT ONLY ON AMZN\n",
    "scaler.fit(df[[ticker]])\n",
    "\n",
    "# LET'S CREATE A COPY OF MERGED_DF\n",
    "data_scaled = df.copy()\n"
   ]
  },
  {
   "cell_type": "code",
   "execution_count": 357,
   "id": "96d90e74",
   "metadata": {},
   "outputs": [
    {
     "data": {
      "text/html": [
       "<div>\n",
       "<style scoped>\n",
       "    .dataframe tbody tr th:only-of-type {\n",
       "        vertical-align: middle;\n",
       "    }\n",
       "\n",
       "    .dataframe tbody tr th {\n",
       "        vertical-align: top;\n",
       "    }\n",
       "\n",
       "    .dataframe thead th {\n",
       "        text-align: right;\n",
       "    }\n",
       "</style>\n",
       "<table border=\"1\" class=\"dataframe\">\n",
       "  <thead>\n",
       "    <tr style=\"text-align: right;\">\n",
       "      <th></th>\n",
       "      <th>date</th>\n",
       "      <th>GOOGL</th>\n",
       "      <th>news_label</th>\n",
       "      <th>twitter_label</th>\n",
       "    </tr>\n",
       "  </thead>\n",
       "  <tbody>\n",
       "    <tr>\n",
       "      <th>5644</th>\n",
       "      <td>2021-11-13</td>\n",
       "      <td>0.981991</td>\n",
       "      <td>0.333333</td>\n",
       "      <td>0.000000</td>\n",
       "    </tr>\n",
       "    <tr>\n",
       "      <th>5645</th>\n",
       "      <td>2021-11-14</td>\n",
       "      <td>0.980893</td>\n",
       "      <td>1.000000</td>\n",
       "      <td>0.500000</td>\n",
       "    </tr>\n",
       "    <tr>\n",
       "      <th>5546</th>\n",
       "      <td>2021-11-15</td>\n",
       "      <td>0.979795</td>\n",
       "      <td>0.470588</td>\n",
       "      <td>0.166667</td>\n",
       "    </tr>\n",
       "    <tr>\n",
       "      <th>5547</th>\n",
       "      <td>2021-11-16</td>\n",
       "      <td>0.971402</td>\n",
       "      <td>0.395349</td>\n",
       "      <td>0.400000</td>\n",
       "    </tr>\n",
       "    <tr>\n",
       "      <th>5548</th>\n",
       "      <td>2021-11-17</td>\n",
       "      <td>0.973893</td>\n",
       "      <td>0.529412</td>\n",
       "      <td>0.333333</td>\n",
       "    </tr>\n",
       "    <tr>\n",
       "      <th>5549</th>\n",
       "      <td>2021-11-18</td>\n",
       "      <td>1.000000</td>\n",
       "      <td>0.400000</td>\n",
       "      <td>0.250000</td>\n",
       "    </tr>\n",
       "    <tr>\n",
       "      <th>5550</th>\n",
       "      <td>2021-11-19</td>\n",
       "      <td>0.986710</td>\n",
       "      <td>0.536585</td>\n",
       "      <td>0.142857</td>\n",
       "    </tr>\n",
       "    <tr>\n",
       "      <th>5646</th>\n",
       "      <td>2021-11-20</td>\n",
       "      <td>0.973961</td>\n",
       "      <td>0.833333</td>\n",
       "      <td>0.000000</td>\n",
       "    </tr>\n",
       "    <tr>\n",
       "      <th>5647</th>\n",
       "      <td>2021-11-21</td>\n",
       "      <td>0.961213</td>\n",
       "      <td>0.666667</td>\n",
       "      <td>0.285714</td>\n",
       "    </tr>\n",
       "    <tr>\n",
       "      <th>5551</th>\n",
       "      <td>2021-11-22</td>\n",
       "      <td>0.948464</td>\n",
       "      <td>0.500000</td>\n",
       "      <td>0.090909</td>\n",
       "    </tr>\n",
       "    <tr>\n",
       "      <th>5552</th>\n",
       "      <td>2021-11-23</td>\n",
       "      <td>0.940887</td>\n",
       "      <td>0.441176</td>\n",
       "      <td>0.076923</td>\n",
       "    </tr>\n",
       "    <tr>\n",
       "      <th>5553</th>\n",
       "      <td>2021-11-24</td>\n",
       "      <td>0.945812</td>\n",
       "      <td>0.523810</td>\n",
       "      <td>0.173913</td>\n",
       "    </tr>\n",
       "    <tr>\n",
       "      <th>5648</th>\n",
       "      <td>2021-11-25</td>\n",
       "      <td>0.917126</td>\n",
       "      <td>0.416667</td>\n",
       "      <td>0.428571</td>\n",
       "    </tr>\n",
       "    <tr>\n",
       "      <th>5554</th>\n",
       "      <td>2021-11-26</td>\n",
       "      <td>0.888440</td>\n",
       "      <td>0.487179</td>\n",
       "      <td>-1.000000</td>\n",
       "    </tr>\n",
       "    <tr>\n",
       "      <th>5649</th>\n",
       "      <td>2021-11-27</td>\n",
       "      <td>0.904701</td>\n",
       "      <td>0.777778</td>\n",
       "      <td>-1.000000</td>\n",
       "    </tr>\n",
       "    <tr>\n",
       "      <th>5650</th>\n",
       "      <td>2021-11-28</td>\n",
       "      <td>0.920961</td>\n",
       "      <td>0.333333</td>\n",
       "      <td>-1.000000</td>\n",
       "    </tr>\n",
       "    <tr>\n",
       "      <th>5555</th>\n",
       "      <td>2021-11-29</td>\n",
       "      <td>0.937222</td>\n",
       "      <td>0.428571</td>\n",
       "      <td>-1.000000</td>\n",
       "    </tr>\n",
       "    <tr>\n",
       "      <th>5556</th>\n",
       "      <td>2021-11-30</td>\n",
       "      <td>0.884280</td>\n",
       "      <td>0.375000</td>\n",
       "      <td>-1.000000</td>\n",
       "    </tr>\n",
       "    <tr>\n",
       "      <th>5557</th>\n",
       "      <td>2021-12-01</td>\n",
       "      <td>0.871952</td>\n",
       "      <td>0.339623</td>\n",
       "      <td>-1.000000</td>\n",
       "    </tr>\n",
       "    <tr>\n",
       "      <th>5651</th>\n",
       "      <td>2021-12-02</td>\n",
       "      <td>0.871952</td>\n",
       "      <td>0.142857</td>\n",
       "      <td>-1.000000</td>\n",
       "    </tr>\n",
       "  </tbody>\n",
       "</table>\n",
       "</div>"
      ],
      "text/plain": [
       "           date     GOOGL  news_label  twitter_label\n",
       "5644 2021-11-13  0.981991    0.333333       0.000000\n",
       "5645 2021-11-14  0.980893    1.000000       0.500000\n",
       "5546 2021-11-15  0.979795    0.470588       0.166667\n",
       "5547 2021-11-16  0.971402    0.395349       0.400000\n",
       "5548 2021-11-17  0.973893    0.529412       0.333333\n",
       "5549 2021-11-18  1.000000    0.400000       0.250000\n",
       "5550 2021-11-19  0.986710    0.536585       0.142857\n",
       "5646 2021-11-20  0.973961    0.833333       0.000000\n",
       "5647 2021-11-21  0.961213    0.666667       0.285714\n",
       "5551 2021-11-22  0.948464    0.500000       0.090909\n",
       "5552 2021-11-23  0.940887    0.441176       0.076923\n",
       "5553 2021-11-24  0.945812    0.523810       0.173913\n",
       "5648 2021-11-25  0.917126    0.416667       0.428571\n",
       "5554 2021-11-26  0.888440    0.487179      -1.000000\n",
       "5649 2021-11-27  0.904701    0.777778      -1.000000\n",
       "5650 2021-11-28  0.920961    0.333333      -1.000000\n",
       "5555 2021-11-29  0.937222    0.428571      -1.000000\n",
       "5556 2021-11-30  0.884280    0.375000      -1.000000\n",
       "5557 2021-12-01  0.871952    0.339623      -1.000000\n",
       "5651 2021-12-02  0.871952    0.142857      -1.000000"
      ]
     },
     "execution_count": 357,
     "metadata": {},
     "output_type": "execute_result"
    }
   ],
   "source": [
    "# AND TRANSFORM ONLY THE AMZN COLUMN\n",
    "data_scaled[ticker] = scaler.transform(data_scaled[[ticker]])\n",
    "\n",
    "# NOW LOOK AT DATA_SCALED\n",
    "data_scaled.tail(20)"
   ]
  },
  {
   "cell_type": "code",
   "execution_count": 358,
   "id": "ed1de323",
   "metadata": {},
   "outputs": [],
   "source": [
    "data_scaled.to_csv(f\"scaled_for_{ticker}\")"
   ]
  },
  {
   "cell_type": "markdown",
   "id": "102b9d40",
   "metadata": {},
   "source": [
    "## prepare the LSTM Model"
   ]
  },
  {
   "cell_type": "code",
   "execution_count": 359,
   "id": "b623f34f",
   "metadata": {},
   "outputs": [],
   "source": [
    "# SETTING THE DATE AS INDEX\n",
    "data_scaled.set_index([\"date\"], inplace= True)"
   ]
  },
  {
   "cell_type": "code",
   "execution_count": 360,
   "id": "c90a2467",
   "metadata": {},
   "outputs": [
    {
     "data": {
      "image/png": "[encoded data removed]",
      "text/plain": [
       "<Figure size 1224x144 with 1 Axes>"
      ]
     },
     "metadata": {
      "needs_background": "light"
     },
     "output_type": "display_data"
    },
    {
     "data": {
      "image/png": "[encoded data removed]",
      "text/plain": [
       "<Figure size 1224x144 with 1 Axes>"
      ]
     },
     "metadata": {
      "needs_background": "light"
     },
     "output_type": "display_data"
    },
    {
     "data": {
      "image/png": "[encoded data removed]",
      "text/plain": [
       "<Figure size 1224x144 with 1 Axes>"
      ]
     },
     "metadata": {
      "needs_background": "light"
     },
     "output_type": "display_data"
    }
   ],
   "source": [
    "import matplotlib.pyplot as plt\n",
    "%matplotlib inline\n",
    "\n",
    "for column in data_scaled.columns:\n",
    "    if column == ticker: color = \"orange\"\n",
    "    if column == \"class_label\": color = \"blue\" \n",
    "    if column == \"twitter_label\": color = \"purple\" \n",
    "    data_scaled[column].plot(figsize=(17, 2), color=color)\n",
    "    plt.title(column)\n",
    "    plt.show()"
   ]
  },
  {
   "cell_type": "code",
   "execution_count": 361,
   "id": "ff43ad25",
   "metadata": {},
   "outputs": [],
   "source": [
    "data_scaled = data_scaled.drop_duplicates()"
   ]
  },
  {
   "cell_type": "markdown",
   "id": "06376e6c",
   "metadata": {},
   "source": [
    "## Functions for the input shape of the model"
   ]
  },
  {
   "cell_type": "code",
   "execution_count": 362,
   "id": "db1f1522",
   "metadata": {},
   "outputs": [],
   "source": [
    "import numpy as np\n",
    "\n",
    "def subsample_sequence(df, length, HORIZON=0):\n",
    "    \"\"\"\n",
    "    Given the initial dataframe `df`, return a shorter dataframe sequence of length `length`.\n",
    "    This shorter sequence should be selected at random\n",
    "    \"\"\"\n",
    "    last_possible = df.shape[0] - length\n",
    "    \n",
    "    random_start = np.random.randint(0, last_possible)\n",
    "    df_sample = df[random_start: random_start+length+HORIZON]\n",
    "    # X_sample = df_sample[random_start: random_start+length]\n",
    "    # y_sample = df_sample[random_start + length:]\n",
    "    return df_sample"
   ]
  },
  {
   "cell_type": "code",
   "execution_count": 363,
   "id": "7264ec00",
   "metadata": {},
   "outputs": [],
   "source": [
    "def split_subsample_sequence(df, length, ticker, HORIZON=1):\n",
    "    '''Create one single random (X,y) pair'''\n",
    "\n",
    "    df_subsample = subsample_sequence(df, length)\n",
    "    y_sample = df_subsample.iloc[length -HORIZON][ticker] # -1 means the future window\n",
    "    \n",
    "    X_sample = df_subsample[0:length -HORIZON]# -1 means the future window\n",
    "    X_sample = X_sample.values\n",
    "\n",
    "    return np.array(X_sample), np.array(y_sample)"
   ]
  },
  {
   "cell_type": "code",
   "execution_count": 364,
   "id": "33acd27e",
   "metadata": {},
   "outputs": [],
   "source": [
    "def compute_means(X, df_mean):\n",
    "    # Compute means of X\n",
    "    means = X.mean()\n",
    "    \n",
    "    # Case if ALL values of at least one feature of X are NaN, then reaplace with the whole df_mean\n",
    "    if means.isna().sum() != 0:\n",
    "        means.fillna(df_mean, inplace=True)\n",
    "        \n",
    "    return means\n",
    "\n",
    "def split_subsample_sequence(df, length, ticker,HORIZON=1, df_mean=None):\n",
    "    '''Return one single random sample (X_sample, y_sample) containing one sequence each of length `length`'''\n",
    "    # Trick to save time during potential recursive calls\n",
    "    if df_mean is None:\n",
    "        df_mean = df.mean()\n",
    "\n",
    "    df_subsample = subsample_sequence(df, length)\n",
    "    \n",
    "    y_sample = df_subsample.iloc[length-HORIZON][ticker]\n",
    "    # Case y_sample is NaN: redraw !\n",
    "    if y_sample != y_sample: # A value is not equal to itself only for NaN\n",
    "            X_sample, y_sample = split_subsample_sequence(df, length, df_mean) # Recursive call !!!\n",
    "            return np.array(X_sample), np.array(y_sample)\n",
    "\n",
    "    X_sample = df_subsample[0:length-1]\n",
    "    # Case X_sample has some NaNs\n",
    "    if X_sample.isna().sum().sum() !=0:\n",
    "        X_sample = X_sample.fillna(compute_means(X_sample, df_mean))\n",
    "        X_sample = X_sample.values\n",
    "        \n",
    "    return np.array(X_sample), np.array(y_sample)"
   ]
  },
  {
   "cell_type": "code",
   "execution_count": 365,
   "id": "4c324b6b",
   "metadata": {},
   "outputs": [],
   "source": [
    "def get_X_y(df, n_sequences, length, ticker): #length = 30, n_sequence = 12, df(12month)\n",
    "    '''Return a list of samples (X, y)'''\n",
    "    \n",
    "    X, y = [], []\n",
    "\n",
    "    for i in range(n_sequences):\n",
    "        (xi, yi) = split_subsample_sequence(df, length, ticker)\n",
    "        X.append(xi)\n",
    "        y.append(yi)\n",
    "        \n",
    "    X = np.array(X)\n",
    "    y = np.array(y)\n",
    "\n",
    "    return X, y"
   ]
  },
  {
   "cell_type": "markdown",
   "id": "ef05f9cf",
   "metadata": {},
   "source": [
    "## Train test split"
   ]
  },
  {
   "cell_type": "code",
   "execution_count": 366,
   "id": "b4aa2230",
   "metadata": {},
   "outputs": [
    {
     "name": "stdout",
     "output_type": "stream",
     "text": [
      "(273, 3)\n",
      "(69, 3)\n"
     ]
    }
   ],
   "source": [
    "# len of train dataset should be 80%\n",
    "len_ = int(0.8*data_scaled.shape[0])\n",
    "df_train = data_scaled[:len_]\n",
    "df_test = data_scaled[len_:]\n",
    "print(df_train.shape)\n",
    "print(df_test.shape)"
   ]
  },
  {
   "cell_type": "markdown",
   "id": "6b4a113b",
   "metadata": {},
   "source": [
    "### Check the data "
   ]
  },
  {
   "cell_type": "code",
   "execution_count": 367,
   "id": "c7b589ed",
   "metadata": {},
   "outputs": [
    {
     "data": {
      "text/html": [
       "<div>\n",
       "<style scoped>\n",
       "    .dataframe tbody tr th:only-of-type {\n",
       "        vertical-align: middle;\n",
       "    }\n",
       "\n",
       "    .dataframe tbody tr th {\n",
       "        vertical-align: top;\n",
       "    }\n",
       "\n",
       "    .dataframe thead th {\n",
       "        text-align: right;\n",
       "    }\n",
       "</style>\n",
       "<table border=\"1\" class=\"dataframe\">\n",
       "  <thead>\n",
       "    <tr style=\"text-align: right;\">\n",
       "      <th></th>\n",
       "      <th>GOOGL</th>\n",
       "      <th>news_label</th>\n",
       "      <th>twitter_label</th>\n",
       "    </tr>\n",
       "    <tr>\n",
       "      <th>date</th>\n",
       "      <th></th>\n",
       "      <th></th>\n",
       "      <th></th>\n",
       "    </tr>\n",
       "  </thead>\n",
       "  <tbody>\n",
       "    <tr>\n",
       "      <th>2020-11-02</th>\n",
       "      <td>0.000000</td>\n",
       "      <td>0.0</td>\n",
       "      <td>-1.0</td>\n",
       "    </tr>\n",
       "    <tr>\n",
       "      <th>2020-11-03</th>\n",
       "      <td>0.015549</td>\n",
       "      <td>0.0</td>\n",
       "      <td>-1.0</td>\n",
       "    </tr>\n",
       "    <tr>\n",
       "      <th>2020-11-06</th>\n",
       "      <td>0.098663</td>\n",
       "      <td>0.5</td>\n",
       "      <td>-1.0</td>\n",
       "    </tr>\n",
       "    <tr>\n",
       "      <th>2020-11-09</th>\n",
       "      <td>0.099894</td>\n",
       "      <td>1.0</td>\n",
       "      <td>-1.0</td>\n",
       "    </tr>\n",
       "    <tr>\n",
       "      <th>2020-11-12</th>\n",
       "      <td>0.086342</td>\n",
       "      <td>0.5</td>\n",
       "      <td>-1.0</td>\n",
       "    </tr>\n",
       "  </tbody>\n",
       "</table>\n",
       "</div>"
      ],
      "text/plain": [
       "               GOOGL  news_label  twitter_label\n",
       "date                                           \n",
       "2020-11-02  0.000000         0.0           -1.0\n",
       "2020-11-03  0.015549         0.0           -1.0\n",
       "2020-11-06  0.098663         0.5           -1.0\n",
       "2020-11-09  0.099894         1.0           -1.0\n",
       "2020-11-12  0.086342         0.5           -1.0"
      ]
     },
     "execution_count": 367,
     "metadata": {},
     "output_type": "execute_result"
    }
   ],
   "source": [
    "df_train.head()"
   ]
  },
  {
   "cell_type": "code",
   "execution_count": 368,
   "id": "5309513a",
   "metadata": {},
   "outputs": [],
   "source": [
    "X_train, y_train = get_X_y(df_train, 200, 30, ticker) # 200 sequences of a length of 30 days\n",
    "X_test, y_test = get_X_y(df_test, 100, 30, ticker) # 200 sequences of a length of 30 days"
   ]
  },
  {
   "cell_type": "code",
   "execution_count": 369,
   "id": "aed7f972",
   "metadata": {},
   "outputs": [
    {
     "data": {
      "text/plain": [
       "((200, 29, 3), (200,))"
      ]
     },
     "execution_count": 369,
     "metadata": {},
     "output_type": "execute_result"
    }
   ],
   "source": [
    "X_train.shape, y_train.shape"
   ]
  },
  {
   "cell_type": "code",
   "execution_count": 370,
   "id": "175d2f74",
   "metadata": {},
   "outputs": [
    {
     "data": {
      "text/plain": [
       "((100, 29, 3), (100,))"
      ]
     },
     "execution_count": 370,
     "metadata": {},
     "output_type": "execute_result"
    }
   ],
   "source": [
    "X_test.shape, y_test.shape"
   ]
  },
  {
   "cell_type": "markdown",
   "id": "a25f0588",
   "metadata": {},
   "source": [
    "## Predict a baseline"
   ]
  },
  {
   "cell_type": "code",
   "execution_count": 371,
   "id": "02735ba6",
   "metadata": {},
   "outputs": [
    {
     "name": "stdout",
     "output_type": "stream",
     "text": [
      "Benchmark MAPE on the test set : 41 %\n"
     ]
    }
   ],
   "source": [
    "# We here decide to predict the mean of the train set y_train\n",
    "y_pred = np.mean(y_train)\n",
    "bench_res = np.mean(np.abs(y_pred - y_test)/y_test)*100\n",
    "\n",
    "print(f'Benchmark MAPE on the test set : {bench_res:.0f} %')"
   ]
  },
  {
   "cell_type": "code",
   "execution_count": 372,
   "id": "64c2ad2d",
   "metadata": {},
   "outputs": [
    {
     "name": "stdout",
     "output_type": "stream",
     "text": [
      "Benchmark MAPE on the test set : 2 %\n"
     ]
    }
   ],
   "source": [
    "# Or (better) we predict the last pollution value!\n",
    "y_pred_baseline = X_test[:,-1,0]\n",
    "bench_res = np.mean(np.abs(y_pred_baseline - y_test)/y_test)*100\n",
    "print(f'Benchmark MAPE on the test set : {bench_res:.0f} %')"
   ]
  },
  {
   "cell_type": "markdown",
   "id": "0c273fb5",
   "metadata": {},
   "source": [
    "## Model"
   ]
  },
  {
   "cell_type": "markdown",
   "id": "5cf8468b",
   "metadata": {},
   "source": [
    "### imports for the model"
   ]
  },
  {
   "cell_type": "code",
   "execution_count": 373,
   "id": "6d5b21d4",
   "metadata": {},
   "outputs": [],
   "source": [
    "from tensorflow.keras import models\n",
    "from tensorflow.keras import layers\n",
    "from tensorflow.keras import optimizers, metrics\n",
    "from tensorflow.keras.layers.experimental.preprocessing import Normalization\n",
    "from tensorflow.keras.callbacks import EarlyStopping\n",
    "import matplotlib.pyplot as plt"
   ]
  },
  {
   "cell_type": "markdown",
   "id": "f9aee889",
   "metadata": {},
   "source": [
    "### Model Init"
   ]
  },
  {
   "cell_type": "code",
   "execution_count": 374,
   "id": "36558ee7",
   "metadata": {},
   "outputs": [],
   "source": [
    "def init_model_2():\n",
    "    metric = metrics.MAPE\n",
    "    opt = optimizers.RMSprop(learning_rate=0.005)\n",
    "    \n",
    "    model = models.Sequential()\n",
    "    \n",
    "    model.add(layers.LSTM(20, return_sequences=True, activation='tanh'))\n",
    "    model.add(layers.LSTM(10, activation='tanh'))\n",
    "    \n",
    "    model.add(layers.Dense(5, activation='relu'))\n",
    "    model.add(layers.Dense(1, activation='linear'))\n",
    "    \n",
    "    model.compile(loss='mse', \n",
    "                  optimizer=opt, \n",
    "                  metrics=[metric])\n",
    "    \n",
    "    return model"
   ]
  },
  {
   "cell_type": "code",
   "execution_count": 375,
   "id": "f53bfeb8",
   "metadata": {},
   "outputs": [
    {
     "name": "stdout",
     "output_type": "stream",
     "text": [
      "Epoch 1/5\n",
      "5/5 [==============================] - 18s 1s/step - loss: 0.0828 - mean_absolute_percentage_error: 48.5960 - val_loss: 0.0204 - val_mean_absolute_percentage_error: 34.0640\n",
      "Epoch 2/5\n",
      "5/5 [==============================] - 1s 241ms/step - loss: 0.0189 - mean_absolute_percentage_error: 27.4941 - val_loss: 0.0068 - val_mean_absolute_percentage_error: 24.7805\n",
      "Epoch 3/5\n",
      "5/5 [==============================] - 1s 260ms/step - loss: 0.0164 - mean_absolute_percentage_error: 22.3068 - val_loss: 0.0079 - val_mean_absolute_percentage_error: 17.2704\n",
      "Epoch 4/5\n",
      "5/5 [==============================] - 1s 271ms/step - loss: 0.0045 - mean_absolute_percentage_error: 11.9895 - val_loss: 0.0034 - val_mean_absolute_percentage_error: 13.9838\n",
      "Epoch 5/5\n",
      "5/5 [==============================] - 1s 273ms/step - loss: 0.0173 - mean_absolute_percentage_error: 21.6593 - val_loss: 0.0273 - val_mean_absolute_percentage_error: 25.1691\n"
     ]
    }
   ],
   "source": [
    "model_2 = init_model_2()\n",
    "\n",
    "es = EarlyStopping(monitor='val_loss', patience=5, restore_best_weights=True)\n",
    "\n",
    "history_2 = model_2.fit(X_train, y_train,\n",
    "            validation_split=0.3,\n",
    "            epochs=5, \n",
    "            batch_size=32,\n",
    "            callbacks=[es], verbose=1)"
   ]
  },
  {
   "cell_type": "code",
   "execution_count": 376,
   "id": "74f799e9",
   "metadata": {},
   "outputs": [
    {
     "data": {
      "text/plain": [
       "[<matplotlib.lines.Line2D at 0x7f8accf5c100>]"
      ]
     },
     "execution_count": 376,
     "metadata": {},
     "output_type": "execute_result"
    },
    {
     "data": {
      "image/png": "[encoded data removed]",
      "text/plain": [
       "<Figure size 432x288 with 1 Axes>"
      ]
     },
     "metadata": {
      "needs_background": "light"
     },
     "output_type": "display_data"
    }
   ],
   "source": [
    "import matplotlib.pyplot as plt\n",
    "plt.plot(history_2.history['mean_absolute_percentage_error'])\n",
    "plt.plot(history_2.history['val_mean_absolute_percentage_error'])"
   ]
  },
  {
   "cell_type": "code",
   "execution_count": 377,
   "id": "319c267a",
   "metadata": {},
   "outputs": [
    {
     "name": "stdout",
     "output_type": "stream",
     "text": [
      "4/4 [==============================] - 0s 64ms/step - loss: 0.0869 - mean_absolute_percentage_error: 30.9899\n",
      "MAPE on the test set : 31 %\n"
     ]
    }
   ],
   "source": [
    "res = model_2.evaluate(X_test, y_test, verbose=1)\n",
    "\n",
    "print(f'MAPE on the test set : {res[1]:.0f} %')"
   ]
  },
  {
   "cell_type": "code",
   "execution_count": 378,
   "id": "aa0e38eb",
   "metadata": {},
   "outputs": [
    {
     "data": {
      "text/plain": [
       "(100, 1)"
      ]
     },
     "execution_count": 378,
     "metadata": {},
     "output_type": "execute_result"
    }
   ],
   "source": [
    "predictions_2 = model_2.predict(X_test)\n",
    "predictions_2.shape"
   ]
  },
  {
   "cell_type": "code",
   "execution_count": 379,
   "id": "2e1d51b3",
   "metadata": {},
   "outputs": [
    {
     "data": {
      "text/plain": [
       "array([[2492.5867],\n",
       "       [2488.8418],\n",
       "       [2540.892 ],\n",
       "       [2486.5623],\n",
       "       [2547.5994],\n",
       "       [2486.5623],\n",
       "       [2488.8418],\n",
       "       [2483.9287],\n",
       "       [2501.635 ],\n",
       "       [2478.0508]], dtype=float32)"
      ]
     },
     "execution_count": 379,
     "metadata": {},
     "output_type": "execute_result"
    }
   ],
   "source": [
    "unscaled_predictions_2 = scaler.inverse_transform(predictions_2)\n",
    "unscaled_predictions_2[0:10] # showing 10 predictions in the test set out of 100 "
   ]
  },
  {
   "cell_type": "code",
   "execution_count": 380,
   "id": "26e20816",
   "metadata": {},
   "outputs": [],
   "source": [
    "error = y_test.reshape(-1,1)-unscaled_predictions_2"
   ]
  },
  {
   "cell_type": "code",
   "execution_count": 381,
   "id": "a6db7e1a",
   "metadata": {},
   "outputs": [
    {
     "data": {
      "text/plain": [
       "((342, 29, 3), (342,))"
      ]
     },
     "execution_count": 381,
     "metadata": {},
     "output_type": "execute_result"
    }
   ],
   "source": [
    "#adapt on lenth of df\n",
    "X, y = get_X_y(data_scaled, len(df), 30, ticker)\n",
    "X.shape, y.shape"
   ]
  },
  {
   "cell_type": "code",
   "execution_count": 382,
   "id": "f8a2d4e5",
   "metadata": {},
   "outputs": [
    {
     "data": {
      "text/plain": [
       "array([[0.44487885],\n",
       "       [0.6152737 ],\n",
       "       [0.62533784],\n",
       "       [0.2383525 ],\n",
       "       [0.6678364 ],\n",
       "       [0.57761323],\n",
       "       [0.61158144],\n",
       "       [0.21151757],\n",
       "       [0.5250323 ],\n",
       "       [0.41114727]], dtype=float32)"
      ]
     },
     "execution_count": 382,
     "metadata": {},
     "output_type": "execute_result"
    }
   ],
   "source": [
    "predictions_X = model_2.predict(X)\n",
    "predictions_X[:10]"
   ]
  },
  {
   "cell_type": "code",
   "execution_count": 383,
   "id": "80a779e5",
   "metadata": {},
   "outputs": [
    {
     "data": {
      "text/plain": [
       "array([[2234.894 ],\n",
       "       [2468.7524],\n",
       "       [2482.565 ],\n",
       "       [1951.4469],\n",
       "       [2540.892 ],\n",
       "       [2417.0652],\n",
       "       [2463.685 ],\n",
       "       [1914.6173],\n",
       "       [2344.9006],\n",
       "       [2188.599 ]], dtype=float32)"
      ]
     },
     "execution_count": 383,
     "metadata": {},
     "output_type": "execute_result"
    }
   ],
   "source": [
    "unscaled_predictions_X = scaler.inverse_transform(predictions_X)\n",
    "unscaled_predictions_X[:10]"
   ]
  },
  {
   "cell_type": "code",
   "execution_count": 384,
   "id": "b9a81ef4",
   "metadata": {},
   "outputs": [
    {
     "name": "stderr",
     "output_type": "stream",
     "text": [
      "/tmp/ipykernel_7111/2637398465.py:2: SettingWithCopyWarning: \n",
      "A value is trying to be set on a copy of a slice from a DataFrame.\n",
      "Try using .loc[row_indexer,col_indexer] = value instead\n",
      "\n",
      "See the caveats in the documentation: https://pandas.pydata.org/pandas-docs/stable/user_guide/indexing.html#returning-a-view-versus-a-copy\n",
      "  df_true_pred[\"predictions\"]=unscaled_predictions_X\n"
     ]
    }
   ],
   "source": [
    "\n",
    "df_true_pred = df[[\"date\", ticker]]\n",
    "df_true_pred[\"predictions\"]=unscaled_predictions_X\n",
    "df_true_pred[\"ticker\"] = ticker"
   ]
  },
  {
   "cell_type": "code",
   "execution_count": 385,
   "id": "6f7dd3bb",
   "metadata": {},
   "outputs": [
    {
     "data": {
      "text/html": [
       "<div>\n",
       "<style scoped>\n",
       "    .dataframe tbody tr th:only-of-type {\n",
       "        vertical-align: middle;\n",
       "    }\n",
       "\n",
       "    .dataframe tbody tr th {\n",
       "        vertical-align: top;\n",
       "    }\n",
       "\n",
       "    .dataframe thead th {\n",
       "        text-align: right;\n",
       "    }\n",
       "</style>\n",
       "<table border=\"1\" class=\"dataframe\">\n",
       "  <thead>\n",
       "    <tr style=\"text-align: right;\">\n",
       "      <th></th>\n",
       "      <th>date</th>\n",
       "      <th>GOOGL</th>\n",
       "      <th>predictions</th>\n",
       "      <th>ticker</th>\n",
       "    </tr>\n",
       "  </thead>\n",
       "  <tbody>\n",
       "    <tr>\n",
       "      <th>5285</th>\n",
       "      <td>2020-11-02</td>\n",
       "      <td>1624.32</td>\n",
       "      <td>2234.894043</td>\n",
       "      <td>GOOGL</td>\n",
       "    </tr>\n",
       "    <tr>\n",
       "      <th>5286</th>\n",
       "      <td>2020-11-03</td>\n",
       "      <td>1645.66</td>\n",
       "      <td>2468.752441</td>\n",
       "      <td>GOOGL</td>\n",
       "    </tr>\n",
       "    <tr>\n",
       "      <th>5289</th>\n",
       "      <td>2020-11-06</td>\n",
       "      <td>1759.73</td>\n",
       "      <td>2482.564941</td>\n",
       "      <td>GOOGL</td>\n",
       "    </tr>\n",
       "    <tr>\n",
       "      <th>5290</th>\n",
       "      <td>2020-11-09</td>\n",
       "      <td>1761.42</td>\n",
       "      <td>1951.446899</td>\n",
       "      <td>GOOGL</td>\n",
       "    </tr>\n",
       "    <tr>\n",
       "      <th>5293</th>\n",
       "      <td>2020-11-12</td>\n",
       "      <td>1742.82</td>\n",
       "      <td>2540.892090</td>\n",
       "      <td>GOOGL</td>\n",
       "    </tr>\n",
       "  </tbody>\n",
       "</table>\n",
       "</div>"
      ],
      "text/plain": [
       "           date    GOOGL  predictions ticker\n",
       "5285 2020-11-02  1624.32  2234.894043  GOOGL\n",
       "5286 2020-11-03  1645.66  2468.752441  GOOGL\n",
       "5289 2020-11-06  1759.73  2482.564941  GOOGL\n",
       "5290 2020-11-09  1761.42  1951.446899  GOOGL\n",
       "5293 2020-11-12  1742.82  2540.892090  GOOGL"
      ]
     },
     "execution_count": 385,
     "metadata": {},
     "output_type": "execute_result"
    }
   ],
   "source": [
    "df_true_pred.head()"
   ]
  },
  {
   "cell_type": "code",
   "execution_count": 386,
   "id": "734fdbfd",
   "metadata": {},
   "outputs": [],
   "source": [
    "df_true_pred.to_csv(f\"LSTM_3features_{ticker}\")"
   ]
  },
  {
   "cell_type": "code",
   "execution_count": null,
   "id": "2b38c689",
   "metadata": {},
   "outputs": [],
   "source": []
  }
 ],
 "metadata": {
  "kernelspec": {
   "display_name": "Python 3 (ipykernel)",
   "language": "python",
   "name": "python3"
  },
  "language_info": {
   "codemirror_mode": {
    "name": "ipython",
    "version": 3
   },
   "file_extension": ".py",
   "mimetype": "text/x-python",
   "name": "python",
   "nbconvert_exporter": "python",
   "pygments_lexer": "ipython3",
   "version": "3.8.12"
  },
  "toc": {
   "base_numbering": 1,
   "nav_menu": {},
   "number_sections": true,
   "sideBar": true,
   "skip_h1_title": false,
   "title_cell": "Table of Contents",
   "title_sidebar": "Contents",
   "toc_cell": false,
   "toc_position": {
    "height": "calc(100% - 180px)",
    "left": "10px",
    "top": "150px",
    "width": "276.216px"
   },
   "toc_section_display": true,
   "toc_window_display": true
  }
 },
 "nbformat": 4,
 "nbformat_minor": 5
}
