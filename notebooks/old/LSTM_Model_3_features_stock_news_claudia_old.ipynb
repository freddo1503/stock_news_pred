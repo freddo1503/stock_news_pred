{
 "cells": [
  {
   "cell_type": "code",
   "execution_count": 7,
   "id": "5fb8eccf",
   "metadata": {},
   "outputs": [],
   "source": [
    "import pandas as pd\n",
    "import numpy as np"
   ]
  },
  {
   "cell_type": "code",
   "execution_count": 8,
   "id": "b362654c",
   "metadata": {},
   "outputs": [],
   "source": [
    "from google.cloud import storage\n",
    "def get_clean_data_2features_from_gcp(nrows=10000, local=False, optimize=False, **kwargs):\n",
    "    \"\"\"method to get the training data (or a portion of it) from google cloud bucket\"\"\"\n",
    "    # Add Client() here\n",
    "    client = storage.Client()\n",
    "    if local:\n",
    "        path = \"data/data_data_10Mill.csv\"\n",
    "    else:\n",
    "        path = \"gs://stock-news-pred-bucket/clean_data_2features.csv\"\n",
    "    df = pd.read_csv(path)#add nrows after if you want to select a specific number of row\n",
    "    return df"
   ]
  },
  {
   "cell_type": "code",
   "execution_count": 21,
   "id": "64be2fc0",
   "metadata": {},
   "outputs": [],
   "source": [
    "from google.cloud import storage\n",
    "def get_twitter_stocks_sentiment_from_gcp(nrows=10000, local=False, optimize=False, **kwargs):\n",
    "    \"\"\"method to get the training data (or a portion of it) from google cloud bucket\"\"\"\n",
    "    # Add Client() here\n",
    "    client = storage.Client()\n",
    "    if local:\n",
    "        path = \"data/data_data_10Mill.csv\"\n",
    "    else:\n",
    "        path = \"gs://stock-news-pred-bucket/Amazon twitter_stocks_sentiment.csv\"\n",
    "    df = pd.read_csv(path, index_col= False)#add nrows after if you want to select a specific number of row\n",
    "    return df\n"
   ]
  },
  {
   "cell_type": "code",
   "execution_count": 10,
   "id": "b902411c",
   "metadata": {},
   "outputs": [],
   "source": [
    "df = get_clean_data_2features_from_gcp()"
   ]
  },
  {
   "cell_type": "code",
   "execution_count": 11,
   "id": "8fbe35f3",
   "metadata": {},
   "outputs": [],
   "source": [
    "df.drop(columns=\"Unnamed: 0\", inplace=True)"
   ]
  },
  {
   "cell_type": "code",
   "execution_count": 12,
   "id": "e09b452d",
   "metadata": {},
   "outputs": [
    {
     "data": {
      "text/html": [
       "<div>\n",
       "<style scoped>\n",
       "    .dataframe tbody tr th:only-of-type {\n",
       "        vertical-align: middle;\n",
       "    }\n",
       "\n",
       "    .dataframe tbody tr th {\n",
       "        vertical-align: top;\n",
       "    }\n",
       "\n",
       "    .dataframe thead th {\n",
       "        text-align: right;\n",
       "    }\n",
       "</style>\n",
       "<table border=\"1\" class=\"dataframe\">\n",
       "  <thead>\n",
       "    <tr style=\"text-align: right;\">\n",
       "      <th></th>\n",
       "      <th>date</th>\n",
       "      <th>ticker</th>\n",
       "      <th>class_label</th>\n",
       "    </tr>\n",
       "  </thead>\n",
       "  <tbody>\n",
       "    <tr>\n",
       "      <th>0</th>\n",
       "      <td>2020-11-26</td>\n",
       "      <td>AMZN</td>\n",
       "      <td>0</td>\n",
       "    </tr>\n",
       "    <tr>\n",
       "      <th>1</th>\n",
       "      <td>2020-11-27</td>\n",
       "      <td>AMZN</td>\n",
       "      <td>1</td>\n",
       "    </tr>\n",
       "    <tr>\n",
       "      <th>2</th>\n",
       "      <td>2020-11-28</td>\n",
       "      <td>AMZN</td>\n",
       "      <td>0</td>\n",
       "    </tr>\n",
       "    <tr>\n",
       "      <th>3</th>\n",
       "      <td>2020-11-29</td>\n",
       "      <td>AMZN</td>\n",
       "      <td>0</td>\n",
       "    </tr>\n",
       "    <tr>\n",
       "      <th>4</th>\n",
       "      <td>2020-11-30</td>\n",
       "      <td>AMZN</td>\n",
       "      <td>1</td>\n",
       "    </tr>\n",
       "  </tbody>\n",
       "</table>\n",
       "</div>"
      ],
      "text/plain": [
       "         date ticker  class_label\n",
       "0  2020-11-26   AMZN            0\n",
       "1  2020-11-27   AMZN            1\n",
       "2  2020-11-28   AMZN            0\n",
       "3  2020-11-29   AMZN            0\n",
       "4  2020-11-30   AMZN            1"
      ]
     },
     "execution_count": 12,
     "metadata": {},
     "output_type": "execute_result"
    }
   ],
   "source": [
    "df.head()"
   ]
  },
  {
   "cell_type": "markdown",
   "id": "6f774d75",
   "metadata": {},
   "source": [
    "## add twitter data"
   ]
  },
  {
   "cell_type": "code",
   "execution_count": 26,
   "id": "35ef531e",
   "metadata": {},
   "outputs": [],
   "source": [
    "df_twitter = get_twitter_stocks_sentiment_from_gcp()"
   ]
  },
  {
   "cell_type": "code",
   "execution_count": 27,
   "id": "0ae7df30",
   "metadata": {},
   "outputs": [],
   "source": [
    "df_twitter.drop(columns=[\"Unnamed: 0\", \"ticker\"], inplace=True)"
   ]
  },
  {
   "cell_type": "code",
   "execution_count": 29,
   "id": "6f11b3ef",
   "metadata": {},
   "outputs": [
    {
     "data": {
      "text/html": [
       "<div>\n",
       "<style scoped>\n",
       "    .dataframe tbody tr th:only-of-type {\n",
       "        vertical-align: middle;\n",
       "    }\n",
       "\n",
       "    .dataframe tbody tr th {\n",
       "        vertical-align: top;\n",
       "    }\n",
       "\n",
       "    .dataframe thead th {\n",
       "        text-align: right;\n",
       "    }\n",
       "</style>\n",
       "<table border=\"1\" class=\"dataframe\">\n",
       "  <thead>\n",
       "    <tr style=\"text-align: right;\">\n",
       "      <th></th>\n",
       "      <th>date</th>\n",
       "      <th>twitter_label</th>\n",
       "    </tr>\n",
       "  </thead>\n",
       "  <tbody>\n",
       "    <tr>\n",
       "      <th>0</th>\n",
       "      <td>2020-11-26</td>\n",
       "      <td>0</td>\n",
       "    </tr>\n",
       "    <tr>\n",
       "      <th>1</th>\n",
       "      <td>2020-11-27</td>\n",
       "      <td>1</td>\n",
       "    </tr>\n",
       "    <tr>\n",
       "      <th>2</th>\n",
       "      <td>2020-11-28</td>\n",
       "      <td>0</td>\n",
       "    </tr>\n",
       "    <tr>\n",
       "      <th>3</th>\n",
       "      <td>2020-11-29</td>\n",
       "      <td>0</td>\n",
       "    </tr>\n",
       "    <tr>\n",
       "      <th>4</th>\n",
       "      <td>2020-11-30</td>\n",
       "      <td>1</td>\n",
       "    </tr>\n",
       "    <tr>\n",
       "      <th>...</th>\n",
       "      <td>...</td>\n",
       "      <td>...</td>\n",
       "    </tr>\n",
       "    <tr>\n",
       "      <th>360</th>\n",
       "      <td>2021-11-21</td>\n",
       "      <td>1</td>\n",
       "    </tr>\n",
       "    <tr>\n",
       "      <th>361</th>\n",
       "      <td>2021-11-22</td>\n",
       "      <td>0</td>\n",
       "    </tr>\n",
       "    <tr>\n",
       "      <th>362</th>\n",
       "      <td>2021-11-23</td>\n",
       "      <td>0</td>\n",
       "    </tr>\n",
       "    <tr>\n",
       "      <th>363</th>\n",
       "      <td>2021-11-24</td>\n",
       "      <td>0</td>\n",
       "    </tr>\n",
       "    <tr>\n",
       "      <th>364</th>\n",
       "      <td>2021-11-25</td>\n",
       "      <td>1</td>\n",
       "    </tr>\n",
       "  </tbody>\n",
       "</table>\n",
       "<p>365 rows × 2 columns</p>\n",
       "</div>"
      ],
      "text/plain": [
       "           date  twitter_label\n",
       "0    2020-11-26              0\n",
       "1    2020-11-27              1\n",
       "2    2020-11-28              0\n",
       "3    2020-11-29              0\n",
       "4    2020-11-30              1\n",
       "..          ...            ...\n",
       "360  2021-11-21              1\n",
       "361  2021-11-22              0\n",
       "362  2021-11-23              0\n",
       "363  2021-11-24              0\n",
       "364  2021-11-25              1\n",
       "\n",
       "[365 rows x 2 columns]"
      ]
     },
     "execution_count": 29,
     "metadata": {},
     "output_type": "execute_result"
    }
   ],
   "source": [
    "df_twitter.rename(columns={\"class_label\": \"twitter_label\"}, inplace=True)\n",
    "df_twitter"
   ]
  },
  {
   "cell_type": "markdown",
   "id": "828045a1",
   "metadata": {},
   "source": [
    "## prepare it for model LSTM"
   ]
  },
  {
   "cell_type": "code",
   "execution_count": 18,
   "id": "9c83eb93",
   "metadata": {},
   "outputs": [],
   "source": [
    "df.set_index([\"date\"], inplace= True)"
   ]
  },
  {
   "cell_type": "code",
   "execution_count": 19,
   "id": "dedd18f1",
   "metadata": {},
   "outputs": [
    {
     "data": {
      "image/png": "[encoded data removed]",
      "text/plain": [
       "<Figure size 1224x144 with 1 Axes>"
      ]
     },
     "metadata": {
      "needs_background": "light"
     },
     "output_type": "display_data"
    },
    {
     "data": {
      "image/png": "[encoded data removed]",
      "text/plain": [
       "<Figure size 1224x144 with 1 Axes>"
      ]
     },
     "metadata": {
      "needs_background": "light"
     },
     "output_type": "display_data"
    }
   ],
   "source": [
    "import matplotlib.pyplot as plt\n",
    "%matplotlib inline\n",
    "\n",
    "for col in df.columns:\n",
    "    color=\"orange\" if col == \"AMZN\" else \"blue\"\n",
    "    df[col].plot(figsize=(17, 2), color=color)\n",
    "    plt.title(col)\n",
    "    plt.show()"
   ]
  },
  {
   "cell_type": "code",
   "execution_count": 20,
   "id": "615652e5",
   "metadata": {},
   "outputs": [
    {
     "data": {
      "text/html": [
       "<div>\n",
       "<style scoped>\n",
       "    .dataframe tbody tr th:only-of-type {\n",
       "        vertical-align: middle;\n",
       "    }\n",
       "\n",
       "    .dataframe tbody tr th {\n",
       "        vertical-align: top;\n",
       "    }\n",
       "\n",
       "    .dataframe thead th {\n",
       "        text-align: right;\n",
       "    }\n",
       "</style>\n",
       "<table border=\"1\" class=\"dataframe\">\n",
       "  <thead>\n",
       "    <tr style=\"text-align: right;\">\n",
       "      <th></th>\n",
       "      <th>AMZN</th>\n",
       "      <th>class_label</th>\n",
       "    </tr>\n",
       "  </thead>\n",
       "  <tbody>\n",
       "    <tr>\n",
       "      <th>count</th>\n",
       "      <td>373.000000</td>\n",
       "      <td>373.000000</td>\n",
       "    </tr>\n",
       "    <tr>\n",
       "      <th>mean</th>\n",
       "      <td>0.464644</td>\n",
       "      <td>0.420912</td>\n",
       "    </tr>\n",
       "    <tr>\n",
       "      <th>std</th>\n",
       "      <td>0.212064</td>\n",
       "      <td>0.560618</td>\n",
       "    </tr>\n",
       "    <tr>\n",
       "      <th>min</th>\n",
       "      <td>0.000000</td>\n",
       "      <td>-1.000000</td>\n",
       "    </tr>\n",
       "    <tr>\n",
       "      <th>25%</th>\n",
       "      <td>0.312255</td>\n",
       "      <td>0.000000</td>\n",
       "    </tr>\n",
       "    <tr>\n",
       "      <th>50%</th>\n",
       "      <td>0.446347</td>\n",
       "      <td>0.000000</td>\n",
       "    </tr>\n",
       "    <tr>\n",
       "      <th>75%</th>\n",
       "      <td>0.607562</td>\n",
       "      <td>1.000000</td>\n",
       "    </tr>\n",
       "    <tr>\n",
       "      <th>max</th>\n",
       "      <td>1.000000</td>\n",
       "      <td>1.000000</td>\n",
       "    </tr>\n",
       "  </tbody>\n",
       "</table>\n",
       "</div>"
      ],
      "text/plain": [
       "             AMZN  class_label\n",
       "count  373.000000   373.000000\n",
       "mean     0.464644     0.420912\n",
       "std      0.212064     0.560618\n",
       "min      0.000000    -1.000000\n",
       "25%      0.312255     0.000000\n",
       "50%      0.446347     0.000000\n",
       "75%      0.607562     1.000000\n",
       "max      1.000000     1.000000"
      ]
     },
     "execution_count": 20,
     "metadata": {},
     "output_type": "execute_result"
    }
   ],
   "source": [
    "df.describe()"
   ]
  },
  {
   "cell_type": "markdown",
   "id": "1311e370",
   "metadata": {},
   "source": [
    "X.shape = number of sequence?, 30, 2 <br>\n",
    "y.shape = number of sequence?"
   ]
  },
  {
   "cell_type": "code",
   "execution_count": 21,
   "id": "d646b31c",
   "metadata": {},
   "outputs": [],
   "source": [
    "import numpy as np\n",
    "\n",
    "def subsample_sequence(df, length):\n",
    "    \"\"\"\n",
    "    Given the initial dataframe `df`, return a shorter dataframe sequence of length `length`.\n",
    "    This shorter sequence should be selected at random\n",
    "    \"\"\"\n",
    "    # $CHALLENGIFY_BEGIN\n",
    "    last_possible = df.shape[0] - length\n",
    "    \n",
    "    random_start = np.random.randint(0, last_possible)\n",
    "    df_sample = df[random_start: random_start+length]\n",
    "    # $CHALLENGIFY_END\n",
    "    return df_sample"
   ]
  },
  {
   "cell_type": "code",
   "execution_count": 23,
   "id": "3fd7c7ea",
   "metadata": {},
   "outputs": [],
   "source": [
    "# Test it \n",
    "assert subsample_sequence(df, 10).shape == (10, 2)"
   ]
  },
  {
   "cell_type": "code",
   "execution_count": 28,
   "id": "f9916102",
   "metadata": {},
   "outputs": [],
   "source": [
    "def split_subsample_sequence(df, length):\n",
    "    '''Create one single random (X,y) pair'''\n",
    "    # $CHALLENGIFY_BEGIN\n",
    "    df_subsample = subsample_sequence(df, length)\n",
    "    y_sample = df_subsample.iloc[length -1]['AMZN'] # -1 means the future window\n",
    "    \n",
    "    X_sample = df_subsample[0:length -1]# -1 means the future window\n",
    "    X_sample = X_sample.values\n",
    "    # $CHALLENGIFY_END\n",
    "    return np.array(X_sample), np.array(y_sample)"
   ]
  },
  {
   "cell_type": "code",
   "execution_count": 31,
   "id": "e1e83241",
   "metadata": {},
   "outputs": [],
   "source": [
    "def compute_means(X, df_mean):\n",
    "    # Compute means of X\n",
    "    means = X.mean()\n",
    "    \n",
    "    # Case if ALL values of at least one feature of X are NaN, then reaplace with the whole df_mean\n",
    "    if means.isna().sum() != 0:\n",
    "        means.fillna(df_mean, inplace=True)\n",
    "        \n",
    "    return means\n",
    "\n",
    "def split_subsample_sequence(df, length, df_mean=None):\n",
    "    '''Return one single random sample (X_sample, y_sample) containing one sequence each of length `length`'''\n",
    "    # Trick to save time during potential recursive calls\n",
    "    if df_mean is None:\n",
    "        df_mean = df.mean()\n",
    "\n",
    "    df_subsample = subsample_sequence(df, length)\n",
    "    \n",
    "    y_sample = df_subsample.iloc[length-1]['AMZN']\n",
    "    # Case y_sample is NaN: redraw !\n",
    "    if y_sample != y_sample: # A value is not equal to itself only for NaN\n",
    "            X_sample, y_sample = split_subsample_sequence(df, length, df_mean) # Recursive call !!!\n",
    "            return np.array(X_sample), np.array(y_sample)\n",
    "\n",
    "    X_sample = df_subsample[0:length-1]\n",
    "    # Case X_sample has some NaNs\n",
    "    if X_sample.isna().sum().sum() !=0:\n",
    "        X_sample = X_sample.fillna(compute_means(X_sample, df_mean))\n",
    "        X_sample = X_sample.values\n",
    "        \n",
    "    return np.array(X_sample), np.array(y_sample)"
   ]
  },
  {
   "cell_type": "code",
   "execution_count": 32,
   "id": "0f3f13c2",
   "metadata": {},
   "outputs": [],
   "source": [
    "# Test it\n",
    "(X_sample, y_sample) = split_subsample_sequence(df, 10)\n",
    "assert X_sample.shape == (9,2)\n",
    "assert y_sample.shape == ()"
   ]
  },
  {
   "cell_type": "code",
   "execution_count": 33,
   "id": "81ad34ab",
   "metadata": {},
   "outputs": [],
   "source": [
    "def get_X_y(df, n_sequences, length): #length = 30, n_sequence = 12, df(12month)\n",
    "    '''Return a list of samples (X, y)'''\n",
    "    # $CHALLENGIFY_BEGIN\n",
    "    X, y = [], []\n",
    "\n",
    "    for i in range(n_sequences):\n",
    "        (xi, yi) = split_subsample_sequence(df, length)\n",
    "        X.append(xi)\n",
    "        y.append(yi)\n",
    "        \n",
    "    X = np.array(X)\n",
    "    y = np.array(y)\n",
    "    # $CHALLENGIFY_END\n",
    "    return X, y"
   ]
  },
  {
   "cell_type": "code",
   "execution_count": 34,
   "id": "46b63185",
   "metadata": {},
   "outputs": [
    {
     "name": "stdout",
     "output_type": "stream",
     "text": [
      "(12, 29, 2)\n",
      "(12,)\n"
     ]
    }
   ],
   "source": [
    "X, y = get_X_y(df, 12, 30)\n",
    "print(X.shape)\n",
    "print(y.shape)"
   ]
  },
  {
   "cell_type": "markdown",
   "id": "088efc03",
   "metadata": {},
   "source": [
    "## Train test split"
   ]
  },
  {
   "cell_type": "code",
   "execution_count": 35,
   "id": "a08261c6",
   "metadata": {},
   "outputs": [],
   "source": [
    "# len of train dataset should be 80%"
   ]
  },
  {
   "cell_type": "code",
   "execution_count": 38,
   "id": "6bd5fc7c",
   "metadata": {},
   "outputs": [
    {
     "name": "stdout",
     "output_type": "stream",
     "text": [
      "(298, 2)\n",
      "(75, 2)\n"
     ]
    }
   ],
   "source": [
    "len_ = int(0.8*df.shape[0])\n",
    "df_train = df[:len_]\n",
    "df_test = df[len_:]\n",
    "print(df_train.shape)\n",
    "print(df_test.shape)"
   ]
  },
  {
   "cell_type": "code",
   "execution_count": 39,
   "id": "36d9cd4a",
   "metadata": {},
   "outputs": [],
   "source": [
    "X_train, y_train = get_X_y(df_train, 12, 30) # 12 sequences of a length of 30 days\n",
    "X_test, y_test = get_X_y(df_test, 12, 30) # 12 sequences of a length of 30 days"
   ]
  },
  {
   "cell_type": "markdown",
   "id": "2ce5177e",
   "metadata": {},
   "source": [
    "## predict a baseline"
   ]
  },
  {
   "cell_type": "code",
   "execution_count": 40,
   "id": "6f093fd3",
   "metadata": {},
   "outputs": [
    {
     "name": "stdout",
     "output_type": "stream",
     "text": [
      "Benchmark MAPE on the test set : 23 %\n"
     ]
    }
   ],
   "source": [
    "# We here decide to predict the mean of the train set y_train\n",
    "y_pred = np.mean(y_train)\n",
    "bench_res = np.mean(np.abs(y_pred - y_test)/y_test)*100\n",
    "\n",
    "print(f'Benchmark MAPE on the test set : {bench_res:.0f} %')"
   ]
  },
  {
   "cell_type": "code",
   "execution_count": 41,
   "id": "65721885",
   "metadata": {},
   "outputs": [
    {
     "name": "stdout",
     "output_type": "stream",
     "text": [
      "Benchmark MAPE on the test set : 10 %\n"
     ]
    }
   ],
   "source": [
    "# Or (better) we predict the last pollution value!\n",
    "y_pred_baseline = X_test[:,-1,0]\n",
    "bench_res = np.mean(np.abs(y_pred_baseline - y_test)/y_test)*100\n",
    "print(f'Benchmark MAPE on the test set : {bench_res:.0f} %')"
   ]
  },
  {
   "cell_type": "markdown",
   "id": "fb472d8a",
   "metadata": {},
   "source": []
  },
  {
   "cell_type": "markdown",
   "id": "253efb1d",
   "metadata": {},
   "source": [
    "## simple LSTM"
   ]
  },
  {
   "cell_type": "code",
   "execution_count": 42,
   "id": "3da2ae6e",
   "metadata": {},
   "outputs": [
    {
     "name": "stderr",
     "output_type": "stream",
     "text": [
      "2021-11-30 12:04:38.881843: W tensorflow/stream_executor/platform/default/dso_loader.cc:64] Could not load dynamic library 'libcudart.so.11.0'; dlerror: libcudart.so.11.0: cannot open shared object file: No such file or directory\n",
      "2021-11-30 12:04:38.882025: I tensorflow/stream_executor/cuda/cudart_stub.cc:29] Ignore above cudart dlerror if you do not have a GPU set up on your machine.\n"
     ]
    }
   ],
   "source": [
    "from tensorflow.keras import models\n",
    "from tensorflow.keras import layers\n",
    "from tensorflow.keras import optimizers, metrics\n",
    "from tensorflow.keras.layers.experimental.preprocessing import Normalization\n",
    "\n",
    "def init_model():\n",
    "    metric = metrics.MAPE\n",
    "    opt = optimizers.RMSprop(learning_rate=0.01)\n",
    "    \n",
    "    normalizer = Normalization()\n",
    "    normalizer.adapt(X_train)\n",
    "\n",
    "    model = models.Sequential()\n",
    "    model.add(normalizer)\n",
    "    model.add(layers.LSTM(20, activation='tanh'))\n",
    "    model.add(layers.Dense(5, activation='relu'))\n",
    "    model.add(layers.Dense(1, activation='linear'))\n",
    "    \n",
    "    model.compile(loss='mse', \n",
    "                  optimizer=opt, \n",
    "                  metrics=[metric])\n",
    "    \n",
    "    return model"
   ]
  },
  {
   "cell_type": "code",
   "execution_count": 43,
   "id": "7151fcbc",
   "metadata": {},
   "outputs": [
    {
     "name": "stderr",
     "output_type": "stream",
     "text": [
      "2021-11-30 12:04:51.486254: W tensorflow/stream_executor/platform/default/dso_loader.cc:64] Could not load dynamic library 'libcuda.so.1'; dlerror: libcuda.so.1: cannot open shared object file: No such file or directory\n",
      "2021-11-30 12:04:51.486457: W tensorflow/stream_executor/cuda/cuda_driver.cc:269] failed call to cuInit: UNKNOWN ERROR (303)\n",
      "2021-11-30 12:04:51.486580: I tensorflow/stream_executor/cuda/cuda_diagnostics.cc:156] kernel driver does not appear to be running on this host (DESKTOP-47G28MR): /proc/driver/nvidia/version does not exist\n",
      "2021-11-30 12:04:51.487898: I tensorflow/core/platform/cpu_feature_guard.cc:151] This TensorFlow binary is optimized with oneAPI Deep Neural Network Library (oneDNN) to use the following CPU instructions in performance-critical operations:  AVX2 FMA\n",
      "To enable them in other operations, rebuild TensorFlow with the appropriate compiler flags.\n"
     ]
    },
    {
     "name": "stdout",
     "output_type": "stream",
     "text": [
      "Model: \"sequential\"\n",
      "_________________________________________________________________\n",
      " Layer (type)                Output Shape              Param #   \n",
      "=================================================================\n",
      " normalization (Normalizatio  (None, None, 2)          5         \n",
      " n)                                                              \n",
      "                                                                 \n",
      " lstm (LSTM)                 (None, 20)                1840      \n",
      "                                                                 \n",
      " dense (Dense)               (None, 5)                 105       \n",
      "                                                                 \n",
      " dense_1 (Dense)             (None, 1)                 6         \n",
      "                                                                 \n",
      "=================================================================\n",
      "Total params: 1,956\n",
      "Trainable params: 1,951\n",
      "Non-trainable params: 5\n",
      "_________________________________________________________________\n"
     ]
    }
   ],
   "source": [
    "model = init_model()\n",
    "model.summary()"
   ]
  },
  {
   "cell_type": "code",
   "execution_count": 44,
   "id": "897fa42a",
   "metadata": {},
   "outputs": [
    {
     "name": "stdout",
     "output_type": "stream",
     "text": [
      "Restoring model weights from the end of the best epoch: 1.\n",
      "Epoch 00011: early stopping\n"
     ]
    }
   ],
   "source": [
    "from tensorflow.keras.callbacks import EarlyStopping\n",
    "es = EarlyStopping(monitor='val_loss', verbose=1, patience=10, restore_best_weights=True)\n",
    "\n",
    "history = model.fit(X_train, y_train,\n",
    "            validation_split=0.2,\n",
    "            epochs=1000, \n",
    "            batch_size=64,\n",
    "            callbacks=[es], verbose=0)"
   ]
  },
  {
   "cell_type": "code",
   "execution_count": 45,
   "id": "28cb6c0f",
   "metadata": {},
   "outputs": [
    {
     "data": {
      "text/plain": [
       "[<matplotlib.lines.Line2D at 0x7f17042116d0>]"
      ]
     },
     "execution_count": 45,
     "metadata": {},
     "output_type": "execute_result"
    },
    {
     "data": {
      "image/png": "[encoded data removed]",
      "text/plain": [
       "<Figure size 432x288 with 1 Axes>"
      ]
     },
     "metadata": {
      "needs_background": "light"
     },
     "output_type": "display_data"
    }
   ],
   "source": [
    "import matplotlib.pyplot as plt\n",
    "plt.plot(history.history['mean_absolute_percentage_error'])\n",
    "plt.plot(history.history['val_mean_absolute_percentage_error'])"
   ]
  },
  {
   "cell_type": "code",
   "execution_count": 46,
   "id": "fdc3e7c0",
   "metadata": {},
   "outputs": [
    {
     "name": "stdout",
     "output_type": "stream",
     "text": [
      "MAPE on the test set : 62 %\n"
     ]
    }
   ],
   "source": [
    "res = model.evaluate(X_test, y_test, verbose=0)\n",
    "\n",
    "print(f'MAPE on the test set : {res[1]:.0f} %')"
   ]
  },
  {
   "cell_type": "markdown",
   "id": "72b068a3",
   "metadata": {},
   "source": [
    "## Improved Model"
   ]
  },
  {
   "cell_type": "code",
   "execution_count": 47,
   "id": "25b3e37e",
   "metadata": {},
   "outputs": [
    {
     "name": "stdout",
     "output_type": "stream",
     "text": [
      "Restoring model weights from the end of the best epoch: 10.\n",
      "Epoch 00015: early stopping\n"
     ]
    }
   ],
   "source": [
    "def init_model_2():\n",
    "    metric = metrics.MAPE\n",
    "    opt = optimizers.RMSprop(learning_rate=0.005)\n",
    "    normalizer = Normalization()\n",
    "    normalizer.adapt(X_train)\n",
    "    \n",
    "    model = models.Sequential()\n",
    "    model.add(normalizer)\n",
    "    model.add(layers.LSTM(20, return_sequences=True, activation='tanh'))\n",
    "    model.add(layers.LSTM(10, activation='tanh'))\n",
    "    model.add(layers.Dense(5, activation='relu'))\n",
    "    model.add(layers.Dense(1, activation='linear'))\n",
    "    \n",
    "    model.compile(loss='mse', \n",
    "                  optimizer=opt, \n",
    "                  metrics=[metric])\n",
    "    \n",
    "    return model\n",
    "\n",
    "model_2 = init_model_2()\n",
    "\n",
    "es = EarlyStopping(monitor='val_loss', verbose=1, patience=5, restore_best_weights=True)\n",
    "\n",
    "history_2 = model_2.fit(X_train, y_train,\n",
    "            validation_split=0.3,\n",
    "            epochs=1000, \n",
    "            batch_size=32,\n",
    "            callbacks=[es], verbose=0)"
   ]
  },
  {
   "cell_type": "code",
   "execution_count": 48,
   "id": "7e13d296",
   "metadata": {},
   "outputs": [
    {
     "data": {
      "text/plain": [
       "[<matplotlib.lines.Line2D at 0x7f16ec156430>]"
      ]
     },
     "execution_count": 48,
     "metadata": {},
     "output_type": "execute_result"
    },
    {
     "data": {
      "image/png": "[encoded data removed]",
      "text/plain": [
       "<Figure size 432x288 with 1 Axes>"
      ]
     },
     "metadata": {
      "needs_background": "light"
     },
     "output_type": "display_data"
    }
   ],
   "source": [
    "import matplotlib.pyplot as plt\n",
    "plt.plot(history_2.history['mean_absolute_percentage_error'])\n",
    "plt.plot(history_2.history['val_mean_absolute_percentage_error'])"
   ]
  },
  {
   "cell_type": "code",
   "execution_count": 49,
   "id": "04d536d5",
   "metadata": {},
   "outputs": [
    {
     "name": "stdout",
     "output_type": "stream",
     "text": [
      "MAPE on the test set : 27 %\n"
     ]
    }
   ],
   "source": [
    "res = model_2.evaluate(X_test, y_test, verbose=0)\n",
    "\n",
    "print(f'MAPE on the test set : {res[1]:.0f} %')"
   ]
  },
  {
   "cell_type": "code",
   "execution_count": null,
   "id": "42f1c8a6",
   "metadata": {},
   "outputs": [],
   "source": []
  },
  {
   "cell_type": "markdown",
   "id": "5d957995",
   "metadata": {},
   "source": [
    "## Check Performance of the models"
   ]
  },
  {
   "cell_type": "code",
   "execution_count": 50,
   "id": "67cb123a",
   "metadata": {},
   "outputs": [],
   "source": [
    "def train_model(nb_sequences=12, nb_days=30, plot_history=False):\n",
    "    X_train, y_train = get_X_y(df_train, nb_sequences, nb_days)\n",
    "    X_test, y_test = get_X_y(df_test, round(nb_sequences*0.2), nb_days)\n",
    "\n",
    "    metric = metrics.MAPE\n",
    "    opt = optimizers.RMSprop(learning_rate=0.01)\n",
    "\n",
    "    normalizer = Normalization()\n",
    "    normalizer.adapt(X_train)\n",
    "\n",
    "    model = models.Sequential()\n",
    "    model.add(normalizer)\n",
    "    model.add(layers.LSTM(20, return_sequences=True, activation='tanh'))\n",
    "    model.add(layers.LSTM(10, activation='tanh'))\n",
    "    model.add(layers.Dense(5, activation='relu'))\n",
    "    model.add(layers.Dense(1, activation='linear'))\n",
    "\n",
    "    model.compile(loss='mse', \n",
    "                  optimizer=opt, \n",
    "                  metrics=[metric])\n",
    "\n",
    "\n",
    "    es = EarlyStopping(monitor='val_loss', patience=5, restore_best_weights=True)\n",
    "\n",
    "    history = model.fit(X_train, y_train,\n",
    "            validation_split=0.3,\n",
    "            epochs=1000, \n",
    "            batch_size=64,\n",
    "            callbacks=[es],\n",
    "            verbose=0)\n",
    "\n",
    "    if plot_history:\n",
    "        plt.plot(history.history['mean_absolute_percentage_error'])\n",
    "        plt.plot(history.history['val_mean_absolute_percentage_error'])\n",
    "        plt.show()\n",
    "\n",
    "    res = model.evaluate(X_test, y_test, verbose=0)\n",
    "    return res"
   ]
  },
  {
   "cell_type": "code",
   "execution_count": 51,
   "id": "ad7cea9b",
   "metadata": {},
   "outputs": [
    {
     "data": {
      "image/png": "[encoded data removed]",
      "text/plain": [
       "<Figure size 432x288 with 1 Axes>"
      ]
     },
     "metadata": {
      "needs_background": "light"
     },
     "output_type": "display_data"
    },
    {
     "data": {
      "text/plain": [
       "[0.00831606425344944, 14.130487442016602]"
      ]
     },
     "execution_count": 51,
     "metadata": {},
     "output_type": "execute_result"
    }
   ],
   "source": [
    "train_model(nb_sequences=12, nb_days=30, plot_history=True)"
   ]
  },
  {
   "cell_type": "code",
   "execution_count": 59,
   "id": "106a1ab5",
   "metadata": {},
   "outputs": [],
   "source": [
    "nb_days_grid = [12,30,60,90,120,150]\n",
    "nb_sequences_grid = [12, 50, 100]\n",
    "MAPE = []"
   ]
  },
  {
   "cell_type": "code",
   "execution_count": 60,
   "id": "48814d31",
   "metadata": {},
   "outputs": [
    {
     "name": "stdout",
     "output_type": "stream",
     "text": [
      "For 100 sequences and 12 days of observation, the MAPE is of 28 %\n",
      "For 100 sequences and 30 days of observation, the MAPE is of 5 %\n",
      "For 100 sequences and 60 days of observation, the MAPE is of 71 %\n"
     ]
    },
    {
     "ename": "ValueError",
     "evalue": "low >= high",
     "output_type": "error",
     "traceback": [
      "\u001b[0;31m---------------------------------------------------------------------------\u001b[0m",
      "\u001b[0;31mValueError\u001b[0m                                Traceback (most recent call last)",
      "\u001b[0;32m/tmp/ipykernel_3344/4284358024.py\u001b[0m in \u001b[0;36m<module>\u001b[0;34m\u001b[0m\n\u001b[1;32m      1\u001b[0m \u001b[0;32mfor\u001b[0m \u001b[0mnb_days\u001b[0m \u001b[0;32min\u001b[0m \u001b[0mnb_days_grid\u001b[0m\u001b[0;34m:\u001b[0m\u001b[0;34m\u001b[0m\u001b[0;34m\u001b[0m\u001b[0m\n\u001b[1;32m      2\u001b[0m     \u001b[0;32mfor\u001b[0m \u001b[0mnb_sequences\u001b[0m \u001b[0;32min\u001b[0m \u001b[0mnb_sequences_grid\u001b[0m\u001b[0;34m:\u001b[0m\u001b[0;34m\u001b[0m\u001b[0;34m\u001b[0m\u001b[0m\n\u001b[0;32m----> 3\u001b[0;31m         \u001b[0mres\u001b[0m \u001b[0;34m=\u001b[0m \u001b[0mtrain_model\u001b[0m\u001b[0;34m(\u001b[0m\u001b[0mnb_sequences\u001b[0m\u001b[0;34m=\u001b[0m\u001b[0;36m12\u001b[0m\u001b[0;34m,\u001b[0m \u001b[0mnb_days\u001b[0m\u001b[0;34m=\u001b[0m\u001b[0mnb_days\u001b[0m\u001b[0;34m)\u001b[0m\u001b[0;34m\u001b[0m\u001b[0;34m\u001b[0m\u001b[0m\n\u001b[0m\u001b[1;32m      4\u001b[0m         \u001b[0mMAPE\u001b[0m\u001b[0;34m.\u001b[0m\u001b[0mappend\u001b[0m\u001b[0;34m(\u001b[0m\u001b[0;34m(\u001b[0m\u001b[0mnb_days\u001b[0m\u001b[0;34m,\u001b[0m \u001b[0mnb_sequences\u001b[0m\u001b[0;34m,\u001b[0m \u001b[0mres\u001b[0m\u001b[0;34m[\u001b[0m\u001b[0;36m1\u001b[0m\u001b[0;34m]\u001b[0m\u001b[0;34m)\u001b[0m\u001b[0;34m)\u001b[0m\u001b[0;34m\u001b[0m\u001b[0;34m\u001b[0m\u001b[0m\n\u001b[1;32m      5\u001b[0m \u001b[0;34m\u001b[0m\u001b[0m\n",
      "\u001b[0;32m/tmp/ipykernel_3344/2606665120.py\u001b[0m in \u001b[0;36mtrain_model\u001b[0;34m(nb_sequences, nb_days, plot_history)\u001b[0m\n\u001b[1;32m      1\u001b[0m \u001b[0;32mdef\u001b[0m \u001b[0mtrain_model\u001b[0m\u001b[0;34m(\u001b[0m\u001b[0mnb_sequences\u001b[0m\u001b[0;34m=\u001b[0m\u001b[0;36m12\u001b[0m\u001b[0;34m,\u001b[0m \u001b[0mnb_days\u001b[0m\u001b[0;34m=\u001b[0m\u001b[0;36m30\u001b[0m\u001b[0;34m,\u001b[0m \u001b[0mplot_history\u001b[0m\u001b[0;34m=\u001b[0m\u001b[0;32mFalse\u001b[0m\u001b[0;34m)\u001b[0m\u001b[0;34m:\u001b[0m\u001b[0;34m\u001b[0m\u001b[0;34m\u001b[0m\u001b[0m\n\u001b[1;32m      2\u001b[0m     \u001b[0mX_train\u001b[0m\u001b[0;34m,\u001b[0m \u001b[0my_train\u001b[0m \u001b[0;34m=\u001b[0m \u001b[0mget_X_y\u001b[0m\u001b[0;34m(\u001b[0m\u001b[0mdf_train\u001b[0m\u001b[0;34m,\u001b[0m \u001b[0mnb_sequences\u001b[0m\u001b[0;34m,\u001b[0m \u001b[0mnb_days\u001b[0m\u001b[0;34m)\u001b[0m\u001b[0;34m\u001b[0m\u001b[0;34m\u001b[0m\u001b[0m\n\u001b[0;32m----> 3\u001b[0;31m     \u001b[0mX_test\u001b[0m\u001b[0;34m,\u001b[0m \u001b[0my_test\u001b[0m \u001b[0;34m=\u001b[0m \u001b[0mget_X_y\u001b[0m\u001b[0;34m(\u001b[0m\u001b[0mdf_test\u001b[0m\u001b[0;34m,\u001b[0m \u001b[0mround\u001b[0m\u001b[0;34m(\u001b[0m\u001b[0mnb_sequences\u001b[0m\u001b[0;34m*\u001b[0m\u001b[0;36m0.2\u001b[0m\u001b[0;34m)\u001b[0m\u001b[0;34m,\u001b[0m \u001b[0mnb_days\u001b[0m\u001b[0;34m)\u001b[0m\u001b[0;34m\u001b[0m\u001b[0;34m\u001b[0m\u001b[0m\n\u001b[0m\u001b[1;32m      4\u001b[0m \u001b[0;34m\u001b[0m\u001b[0m\n\u001b[1;32m      5\u001b[0m     \u001b[0mmetric\u001b[0m \u001b[0;34m=\u001b[0m \u001b[0mmetrics\u001b[0m\u001b[0;34m.\u001b[0m\u001b[0mMAPE\u001b[0m\u001b[0;34m\u001b[0m\u001b[0;34m\u001b[0m\u001b[0m\n",
      "\u001b[0;32m/tmp/ipykernel_3344/1566360086.py\u001b[0m in \u001b[0;36mget_X_y\u001b[0;34m(df, n_sequences, length)\u001b[0m\n\u001b[1;32m      5\u001b[0m \u001b[0;34m\u001b[0m\u001b[0m\n\u001b[1;32m      6\u001b[0m     \u001b[0;32mfor\u001b[0m \u001b[0mi\u001b[0m \u001b[0;32min\u001b[0m \u001b[0mrange\u001b[0m\u001b[0;34m(\u001b[0m\u001b[0mn_sequences\u001b[0m\u001b[0;34m)\u001b[0m\u001b[0;34m:\u001b[0m\u001b[0;34m\u001b[0m\u001b[0;34m\u001b[0m\u001b[0m\n\u001b[0;32m----> 7\u001b[0;31m         \u001b[0;34m(\u001b[0m\u001b[0mxi\u001b[0m\u001b[0;34m,\u001b[0m \u001b[0myi\u001b[0m\u001b[0;34m)\u001b[0m \u001b[0;34m=\u001b[0m \u001b[0msplit_subsample_sequence\u001b[0m\u001b[0;34m(\u001b[0m\u001b[0mdf\u001b[0m\u001b[0;34m,\u001b[0m \u001b[0mlength\u001b[0m\u001b[0;34m)\u001b[0m\u001b[0;34m\u001b[0m\u001b[0;34m\u001b[0m\u001b[0m\n\u001b[0m\u001b[1;32m      8\u001b[0m         \u001b[0mX\u001b[0m\u001b[0;34m.\u001b[0m\u001b[0mappend\u001b[0m\u001b[0;34m(\u001b[0m\u001b[0mxi\u001b[0m\u001b[0;34m)\u001b[0m\u001b[0;34m\u001b[0m\u001b[0;34m\u001b[0m\u001b[0m\n\u001b[1;32m      9\u001b[0m         \u001b[0my\u001b[0m\u001b[0;34m.\u001b[0m\u001b[0mappend\u001b[0m\u001b[0;34m(\u001b[0m\u001b[0myi\u001b[0m\u001b[0;34m)\u001b[0m\u001b[0;34m\u001b[0m\u001b[0;34m\u001b[0m\u001b[0m\n",
      "\u001b[0;32m/tmp/ipykernel_3344/466779598.py\u001b[0m in \u001b[0;36msplit_subsample_sequence\u001b[0;34m(df, length, df_mean)\u001b[0m\n\u001b[1;32m     15\u001b[0m         \u001b[0mdf_mean\u001b[0m \u001b[0;34m=\u001b[0m \u001b[0mdf\u001b[0m\u001b[0;34m.\u001b[0m\u001b[0mmean\u001b[0m\u001b[0;34m(\u001b[0m\u001b[0;34m)\u001b[0m\u001b[0;34m\u001b[0m\u001b[0;34m\u001b[0m\u001b[0m\n\u001b[1;32m     16\u001b[0m \u001b[0;34m\u001b[0m\u001b[0m\n\u001b[0;32m---> 17\u001b[0;31m     \u001b[0mdf_subsample\u001b[0m \u001b[0;34m=\u001b[0m \u001b[0msubsample_sequence\u001b[0m\u001b[0;34m(\u001b[0m\u001b[0mdf\u001b[0m\u001b[0;34m,\u001b[0m \u001b[0mlength\u001b[0m\u001b[0;34m)\u001b[0m\u001b[0;34m\u001b[0m\u001b[0;34m\u001b[0m\u001b[0m\n\u001b[0m\u001b[1;32m     18\u001b[0m \u001b[0;34m\u001b[0m\u001b[0m\n\u001b[1;32m     19\u001b[0m     \u001b[0my_sample\u001b[0m \u001b[0;34m=\u001b[0m \u001b[0mdf_subsample\u001b[0m\u001b[0;34m.\u001b[0m\u001b[0miloc\u001b[0m\u001b[0;34m[\u001b[0m\u001b[0mlength\u001b[0m\u001b[0;34m-\u001b[0m\u001b[0;36m1\u001b[0m\u001b[0;34m]\u001b[0m\u001b[0;34m[\u001b[0m\u001b[0;34m'AMZN'\u001b[0m\u001b[0;34m]\u001b[0m\u001b[0;34m\u001b[0m\u001b[0;34m\u001b[0m\u001b[0m\n",
      "\u001b[0;32m/tmp/ipykernel_3344/3813779492.py\u001b[0m in \u001b[0;36msubsample_sequence\u001b[0;34m(df, length)\u001b[0m\n\u001b[1;32m      9\u001b[0m     \u001b[0mlast_possible\u001b[0m \u001b[0;34m=\u001b[0m \u001b[0mdf\u001b[0m\u001b[0;34m.\u001b[0m\u001b[0mshape\u001b[0m\u001b[0;34m[\u001b[0m\u001b[0;36m0\u001b[0m\u001b[0;34m]\u001b[0m \u001b[0;34m-\u001b[0m \u001b[0mlength\u001b[0m\u001b[0;34m\u001b[0m\u001b[0;34m\u001b[0m\u001b[0m\n\u001b[1;32m     10\u001b[0m \u001b[0;34m\u001b[0m\u001b[0m\n\u001b[0;32m---> 11\u001b[0;31m     \u001b[0mrandom_start\u001b[0m \u001b[0;34m=\u001b[0m \u001b[0mnp\u001b[0m\u001b[0;34m.\u001b[0m\u001b[0mrandom\u001b[0m\u001b[0;34m.\u001b[0m\u001b[0mrandint\u001b[0m\u001b[0;34m(\u001b[0m\u001b[0;36m0\u001b[0m\u001b[0;34m,\u001b[0m \u001b[0mlast_possible\u001b[0m\u001b[0;34m)\u001b[0m\u001b[0;34m\u001b[0m\u001b[0;34m\u001b[0m\u001b[0m\n\u001b[0m\u001b[1;32m     12\u001b[0m     \u001b[0mdf_sample\u001b[0m \u001b[0;34m=\u001b[0m \u001b[0mdf\u001b[0m\u001b[0;34m[\u001b[0m\u001b[0mrandom_start\u001b[0m\u001b[0;34m:\u001b[0m \u001b[0mrandom_start\u001b[0m\u001b[0;34m+\u001b[0m\u001b[0mlength\u001b[0m\u001b[0;34m]\u001b[0m\u001b[0;34m\u001b[0m\u001b[0;34m\u001b[0m\u001b[0m\n\u001b[1;32m     13\u001b[0m     \u001b[0;31m# $CHALLENGIFY_END\u001b[0m\u001b[0;34m\u001b[0m\u001b[0;34m\u001b[0m\u001b[0;34m\u001b[0m\u001b[0m\n",
      "\u001b[0;32mmtrand.pyx\u001b[0m in \u001b[0;36mnumpy.random.mtrand.RandomState.randint\u001b[0;34m()\u001b[0m\n",
      "\u001b[0;32m_bounded_integers.pyx\u001b[0m in \u001b[0;36mnumpy.random._bounded_integers._rand_int64\u001b[0;34m()\u001b[0m\n",
      "\u001b[0;31mValueError\u001b[0m: low >= high"
     ]
    }
   ],
   "source": [
    "for nb_days in nb_days_grid:\n",
    "    for nb_sequences in nb_sequences_grid:\n",
    "        res = train_model(nb_sequences=12, nb_days=nb_days)\n",
    "        MAPE.append((nb_days, nb_sequences, res[1]))\n",
    "    \n",
    "    print(f'For {nb_sequences} sequences and {nb_days} days of observation, the MAPE is of {res[1]:.0f} %')"
   ]
  },
  {
   "cell_type": "code",
   "execution_count": null,
   "id": "61ad60d9",
   "metadata": {},
   "outputs": [],
   "source": [
    "MAPE"
   ]
  },
  {
   "cell_type": "code",
   "execution_count": null,
   "id": "eff262bb",
   "metadata": {},
   "outputs": [],
   "source": [
    "MAPE.shape"
   ]
  },
  {
   "cell_type": "code",
   "execution_count": null,
   "id": "a2215c0d",
   "metadata": {},
   "outputs": [],
   "source": [
    "import matplotlib\n",
    "x = [res[0] for res in MAPE] # n_days\n",
    "y = [res[1] for res in MAPE] # n_seq\n",
    "c = [res[2] for res in MAPE] # MAPE  \n",
    "plt.scatter(x, y, c=c, norm=matplotlib.colors.Normalize(vmin=20, vmax=50, clip=False), cmap='coolwarm')"
   ]
  },
  {
   "cell_type": "code",
   "execution_count": null,
   "id": "64ed6e2c",
   "metadata": {},
   "outputs": [],
   "source": []
  }
 ],
 "metadata": {
  "kernelspec": {
   "display_name": "Python 3 (ipykernel)",
   "language": "python",
   "name": "python3"
  },
  "language_info": {
   "codemirror_mode": {
    "name": "ipython",
    "version": 3
   },
   "file_extension": ".py",
   "mimetype": "text/x-python",
   "name": "python",
   "nbconvert_exporter": "python",
   "pygments_lexer": "ipython3",
   "version": "3.8.12"
  },
  "toc": {
   "base_numbering": 1,
   "nav_menu": {},
   "number_sections": true,
   "sideBar": true,
   "skip_h1_title": false,
   "title_cell": "Table of Contents",
   "title_sidebar": "Contents",
   "toc_cell": false,
   "toc_position": {},
   "toc_section_display": true,
   "toc_window_display": false
  }
 },
 "nbformat": 4,
 "nbformat_minor": 5
}
