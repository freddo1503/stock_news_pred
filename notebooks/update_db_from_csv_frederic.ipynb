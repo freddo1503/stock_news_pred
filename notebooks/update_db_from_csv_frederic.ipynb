{
 "cells": [
  {
   "cell_type": "code",
   "execution_count": 1,
   "id": "020b0290",
   "metadata": {},
   "outputs": [],
   "source": [
    "#This work only on jupyter in your machine and not googlecolab\n",
    "#before start start jupyter load your credential on the terminal\n",
    "#e.g\n",
    "#!export GOOGLE_APPLICATION_CREDENTIALS='/home/freddo/code/freddo1503/gcp/json_file.json'"
   ]
  },
  {
   "cell_type": "code",
   "execution_count": 215,
   "id": "69b36350",
   "metadata": {},
   "outputs": [],
   "source": [
    "import pandas as pd\n",
    "import numpy as np\n",
    "import os\n",
    "import pymysql\n",
    "import datetime as dt\n",
    "from google.cloud import storage"
   ]
  },
  {
   "cell_type": "code",
   "execution_count": null,
   "id": "69a78e08",
   "metadata": {},
   "outputs": [],
   "source": [
    "def upload_news_sentiment(df):\n",
    "    \"\"\"Function to upload the sentiment news prediction \\\n",
    "        in the database\\\n",
    "        in predictionmodel table\\\n",
    "        in the tweet_api_sentiment column\"\"\" \n",
    "    #connect to the dB\n",
    "    connection = connect_to_db()\n",
    "    cursor = connection.cursor()\n",
    "\n",
    "    #transform the DataFrame in a list of list\n",
    "    news_list = list(df[['news_sentiment','date', 'ticker']].values)\n",
    "    news_list = np.array(news_list)\n",
    "    news_list = news_list.tolist()\n",
    "\n",
    "    for news_sentiment, date, ticker in news_list:\n",
    "        try:\n",
    "            #If the prediction does not yet exist, it is inserted into the database,\n",
    "            #otherwise it is updated\n",
    "            sql = \"\"\"INSERT INTO prediction (news_api_sentiment, `date`, ticker) \\\n",
    "                    VALUES (%s, %s, %s)\"\"\"\n",
    "            #Values you want to insert\n",
    "            values = (news_sentiment, date, ticker)\n",
    "            cursor.execute(sql, values)\n",
    "            connection.commit()\n",
    "\n",
    "        except pymysql.Error as err:\n",
    "            if err.args[0] == 1062:\n",
    "                print('Duplicate entry, updating the values')\n",
    "                #SQL query\n",
    "                sql = \"\"\"UPDATE prediction SET news_api_sentiment=%s WHERE `date`=%s AND ticker=%s\"\"\"\n",
    "                #Values you want to insert\n",
    "                values = (news_sentiment, date, ticker)\n",
    "                cursor.execute(sql, values)\n",
    "                connection.commit()\n"
   ]
  },
  {
   "cell_type": "code",
   "execution_count": 3,
   "id": "f4df6539",
   "metadata": {},
   "outputs": [],
   "source": [
    "def implicit():\n",
    "    from google.cloud import storage\n",
    "\n",
    "    # If you don't specify credentials when constructing the client, the\n",
    "    # client library will look for credentials in the environment.\n",
    "    storage_client = storage.Client()\n",
    "\n",
    "    # Make an authenticated API request\n",
    "    buckets = list(storage_client.list_buckets())\n",
    "    print(buckets)"
   ]
  },
  {
   "cell_type": "code",
   "execution_count": 4,
   "id": "83efa77c",
   "metadata": {},
   "outputs": [],
   "source": [
    "def get_data_from_gcp(path, nrows=10000, local=False, optimize=False, **kwargs):\n",
    "    \"\"\"method to get the training data (or a portion of it) from google cloud bucket\"\"\"\n",
    "    # Add Client() here\n",
    "    client = storage.Client()\n",
    "    df = pd.read_csv(path)#add nrows after if you want to select a specific number of row\n",
    "    return df"
   ]
  },
  {
   "cell_type": "code",
   "execution_count": 5,
   "id": "b097068f",
   "metadata": {},
   "outputs": [],
   "source": [
    "def list_blobs(bucket_name):\n",
    "    \"\"\"Lists all the blobs in the bucket.\"\"\"\n",
    "    # bucket_name = \"your-bucket-name\"\n",
    "\n",
    "    storage_client = storage.Client()\n",
    "\n",
    "    # Note: Client.list_blobs requires at least package version 1.17.0.\n",
    "    blobs = storage_client.list_blobs(bucket_name)\n",
    "\n",
    "    for blob in blobs:\n",
    "        print(blob.name)"
   ]
  },
  {
   "cell_type": "code",
   "execution_count": 6,
   "id": "fb603c0f",
   "metadata": {},
   "outputs": [],
   "source": [
    "#List all your bucket"
   ]
  },
  {
   "cell_type": "code",
   "execution_count": 7,
   "id": "85216e38",
   "metadata": {},
   "outputs": [
    {
     "name": "stdout",
     "output_type": "stream",
     "text": [
      "[<Bucket: artifacts.stock-news-pred.appspot.com>, <Bucket: stock-news-pred-bucket>, <Bucket: stock-news-pred_cloudbuild>]\n"
     ]
    }
   ],
   "source": [
    "implicit()"
   ]
  },
  {
   "cell_type": "code",
   "execution_count": 8,
   "id": "7ffe026a",
   "metadata": {},
   "outputs": [],
   "source": [
    "#List all the files in your bucket"
   ]
  },
  {
   "cell_type": "code",
   "execution_count": 114,
   "id": "28aa1f42",
   "metadata": {},
   "outputs": [
    {
     "name": "stdout",
     "output_type": "stream",
     "text": [
      "Amazon1 twitter_stocks_sentiment.csv\n",
      "For Database Extraction/\n",
      "For Database Extraction/Amazon Database.csv\n",
      "For Database Extraction/Google Database.csv\n",
      "For Database Extraction/Microsoft Database.csv\n",
      "For Database Extraction/Netflix Database.csv\n",
      "For Database Extraction/Stock_news _for_Database.csv\n",
      "Google1 twitter_stocks_sentiment.csv\n",
      "Microsoft1 twitter_stocks_sentiment.csv\n",
      "Netflix1 twitter_stocks_sentiment.csv\n",
      "Stock predictions without NLP/\n",
      "Stock predictions without NLP/aapl_predictions.csv\n",
      "Stock predictions without NLP/amzn_predictions.csv\n",
      "Stock predictions without NLP/googl_predictions.csv\n",
      "Stock predictions without NLP/msft_predictions.csv\n",
      "Stocks_news_final_to_use.csv\n",
      "Tw_mentions_last_year_daily_stocks.csv\n",
      "amazon_stock_price.csv\n",
      "clean_data_2features.csv\n",
      "final_stocks_sentiment_21221.csv\n",
      "old/\n",
      "prediction_data_011221/\n",
      "prediction_data_011221/LSTM_3features_AAPL\n",
      "prediction_data_011221/LSTM_3features_AMZN\n",
      "prediction_data_011221/LSTM_3features_GOOGL\n",
      "prediction_data_011221/LSTM_3features_MSFT\n",
      "sorted_final_stock_prices\n",
      "stock_news_top_6_stocks\n",
      "stock_prices\n",
      "updated_stock_prices\n"
     ]
    }
   ],
   "source": [
    "list_blobs('stock-news-pred-bucket')"
   ]
  },
  {
   "cell_type": "code",
   "execution_count": 10,
   "id": "f7ba664a",
   "metadata": {},
   "outputs": [],
   "source": [
    "#get the data from the csv you want to update"
   ]
  },
  {
   "cell_type": "markdown",
   "id": "2910805f",
   "metadata": {},
   "source": [
    "# Updating LSTM_3features_AAPL"
   ]
  },
  {
   "cell_type": "code",
   "execution_count": 179,
   "id": "54fbed37",
   "metadata": {},
   "outputs": [],
   "source": [
    "LSTM_3features_AAPL = get_data_from_gcp('gs://stock-news-pred-bucket/prediction_data_011221/LSTM_3features_AAPL')"
   ]
  },
  {
   "cell_type": "code",
   "execution_count": 180,
   "id": "6b8d59ce",
   "metadata": {},
   "outputs": [
    {
     "data": {
      "text/html": [
       "<div>\n",
       "<style scoped>\n",
       "    .dataframe tbody tr th:only-of-type {\n",
       "        vertical-align: middle;\n",
       "    }\n",
       "\n",
       "    .dataframe tbody tr th {\n",
       "        vertical-align: top;\n",
       "    }\n",
       "\n",
       "    .dataframe thead th {\n",
       "        text-align: right;\n",
       "    }\n",
       "</style>\n",
       "<table border=\"1\" class=\"dataframe\">\n",
       "  <thead>\n",
       "    <tr style=\"text-align: right;\">\n",
       "      <th></th>\n",
       "      <th>Unnamed: 0</th>\n",
       "      <th>date</th>\n",
       "      <th>AAPL</th>\n",
       "      <th>predictions</th>\n",
       "      <th>ticker</th>\n",
       "    </tr>\n",
       "  </thead>\n",
       "  <tbody>\n",
       "    <tr>\n",
       "      <th>0</th>\n",
       "      <td>5285</td>\n",
       "      <td>2020-11-02</td>\n",
       "      <td>108.77</td>\n",
       "      <td>151.61069</td>\n",
       "      <td>AAPL</td>\n",
       "    </tr>\n",
       "    <tr>\n",
       "      <th>1</th>\n",
       "      <td>5286</td>\n",
       "      <td>2020-11-03</td>\n",
       "      <td>110.44</td>\n",
       "      <td>140.59087</td>\n",
       "      <td>AAPL</td>\n",
       "    </tr>\n",
       "    <tr>\n",
       "      <th>2</th>\n",
       "      <td>5290</td>\n",
       "      <td>2020-11-09</td>\n",
       "      <td>116.32</td>\n",
       "      <td>137.05025</td>\n",
       "      <td>AAPL</td>\n",
       "    </tr>\n",
       "    <tr>\n",
       "      <th>3</th>\n",
       "      <td>5291</td>\n",
       "      <td>2020-11-10</td>\n",
       "      <td>115.97</td>\n",
       "      <td>137.73227</td>\n",
       "      <td>AAPL</td>\n",
       "    </tr>\n",
       "    <tr>\n",
       "      <th>4</th>\n",
       "      <td>5292</td>\n",
       "      <td>2020-11-11</td>\n",
       "      <td>119.49</td>\n",
       "      <td>137.61299</td>\n",
       "      <td>AAPL</td>\n",
       "    </tr>\n",
       "  </tbody>\n",
       "</table>\n",
       "</div>"
      ],
      "text/plain": [
       "   Unnamed: 0        date    AAPL  predictions ticker\n",
       "0        5285  2020-11-02  108.77    151.61069   AAPL\n",
       "1        5286  2020-11-03  110.44    140.59087   AAPL\n",
       "2        5290  2020-11-09  116.32    137.05025   AAPL\n",
       "3        5291  2020-11-10  115.97    137.73227   AAPL\n",
       "4        5292  2020-11-11  119.49    137.61299   AAPL"
      ]
     },
     "execution_count": 180,
     "metadata": {},
     "output_type": "execute_result"
    }
   ],
   "source": [
    "LSTM_3features_AAPL.head()"
   ]
  },
  {
   "cell_type": "code",
   "execution_count": 181,
   "id": "e18de17c",
   "metadata": {},
   "outputs": [],
   "source": [
    "LSTM_3features_AAPL_list = list(LSTM_3features_AAPL[['date','predictions']].values)\n",
    "LSTM_3features_AAPL_list = np.array(LSTM_3features_AAPL_list)\n",
    "LSTM_3features_AAPL_list = LSTM_3features_AAPL_list.tolist()"
   ]
  },
  {
   "cell_type": "code",
   "execution_count": 182,
   "id": "ebae3903",
   "metadata": {},
   "outputs": [
    {
     "data": {
      "text/plain": [
       "['2020-11-02', 151.61069]"
      ]
     },
     "execution_count": 182,
     "metadata": {},
     "output_type": "execute_result"
    }
   ],
   "source": [
    "LSTM_3features_AAPL_list[0]"
   ]
  },
  {
   "cell_type": "code",
   "execution_count": 315,
   "id": "4534b657",
   "metadata": {},
   "outputs": [],
   "source": [
    "connection = pymysql.connect(host='34.159.115.175',\n",
    "                             user='freddo',\n",
    "                             password='batch-735-berlin',\n",
    "                             db='db-stock-news-pred')"
   ]
  },
  {
   "cell_type": "code",
   "execution_count": 316,
   "id": "d3f4bc52",
   "metadata": {},
   "outputs": [],
   "source": [
    "cursor = connection.cursor()"
   ]
  },
  {
   "cell_type": "code",
   "execution_count": 185,
   "id": "3d074fbe",
   "metadata": {},
   "outputs": [
    {
     "ename": "SyntaxError",
     "evalue": "invalid syntax (1512223409.py, line 1)",
     "output_type": "error",
     "traceback": [
      "\u001b[0;36m  File \u001b[0;32m\"/tmp/ipykernel_4351/1512223409.py\"\u001b[0;36m, line \u001b[0;32m1\u001b[0m\n\u001b[0;31m    INSERT INTO `db-stock-news-pred`.prediction\u001b[0m\n\u001b[0m           ^\u001b[0m\n\u001b[0;31mSyntaxError\u001b[0m\u001b[0;31m:\u001b[0m invalid syntax\n"
     ]
    }
   ],
   "source": [
    "INSERT INTO `db-stock-news-pred`.prediction\n",
    "(`date`, tweet_api_sentiment, news_api_sentiment, stock_api_pred, next_day_pred, ticker)\n",
    "VALUES('', '', '', '', '', '');\n"
   ]
  },
  {
   "cell_type": "code",
   "execution_count": 186,
   "id": "334cfa65",
   "metadata": {},
   "outputs": [
    {
     "name": "stdout",
     "output_type": "stream",
     "text": [
      "CPU times: user 140 ms, sys: 70.8 ms, total: 211 ms\n",
      "Wall time: 20.4 s\n"
     ]
    }
   ],
   "source": [
    "%%time\n",
    "for i,j in LSTM_3features_AAPL_list:\n",
    "    sql =\"\"\"INSERT INTO prediction (next_day_pred, ticker, `date`) \\\n",
    "            VALUES (%s , 'AAPL', %s)\"\"\"\n",
    "    values = (j,i)\n",
    "    cursor.execute(sql, values)\n",
    "\n",
    "    # the connection is not autocommitted by default, so we must commit to save our changes\n",
    "    connection.commit()"
   ]
  },
  {
   "cell_type": "markdown",
   "id": "8d036325",
   "metadata": {},
   "source": [
    "# Updating LSTM_3features_AMZN"
   ]
  },
  {
   "cell_type": "code",
   "execution_count": 187,
   "id": "c9fa8578",
   "metadata": {},
   "outputs": [],
   "source": [
    "LSTM_3features_AMZN = get_data_from_gcp('gs://stock-news-pred-bucket/prediction_data_011221/LSTM_3features_AMZN')"
   ]
  },
  {
   "cell_type": "code",
   "execution_count": 188,
   "id": "38db997e",
   "metadata": {},
   "outputs": [
    {
     "data": {
      "text/html": [
       "<div>\n",
       "<style scoped>\n",
       "    .dataframe tbody tr th:only-of-type {\n",
       "        vertical-align: middle;\n",
       "    }\n",
       "\n",
       "    .dataframe tbody tr th {\n",
       "        vertical-align: top;\n",
       "    }\n",
       "\n",
       "    .dataframe thead th {\n",
       "        text-align: right;\n",
       "    }\n",
       "</style>\n",
       "<table border=\"1\" class=\"dataframe\">\n",
       "  <thead>\n",
       "    <tr style=\"text-align: right;\">\n",
       "      <th></th>\n",
       "      <th>Unnamed: 0</th>\n",
       "      <th>date</th>\n",
       "      <th>AMZN</th>\n",
       "      <th>predictions</th>\n",
       "      <th>ticker</th>\n",
       "    </tr>\n",
       "  </thead>\n",
       "  <tbody>\n",
       "    <tr>\n",
       "      <th>0</th>\n",
       "      <td>5285</td>\n",
       "      <td>2020-11-02</td>\n",
       "      <td>3004.480</td>\n",
       "      <td>3324.1418</td>\n",
       "      <td>AMZN</td>\n",
       "    </tr>\n",
       "    <tr>\n",
       "      <th>1</th>\n",
       "      <td>5288</td>\n",
       "      <td>2020-11-05</td>\n",
       "      <td>3322.000</td>\n",
       "      <td>3392.2160</td>\n",
       "      <td>AMZN</td>\n",
       "    </tr>\n",
       "    <tr>\n",
       "      <th>2</th>\n",
       "      <td>5289</td>\n",
       "      <td>2020-11-06</td>\n",
       "      <td>3311.370</td>\n",
       "      <td>3139.0823</td>\n",
       "      <td>AMZN</td>\n",
       "    </tr>\n",
       "    <tr>\n",
       "      <th>3</th>\n",
       "      <td>5558</td>\n",
       "      <td>2020-11-07</td>\n",
       "      <td>3227.555</td>\n",
       "      <td>3166.2107</td>\n",
       "      <td>AMZN</td>\n",
       "    </tr>\n",
       "    <tr>\n",
       "      <th>4</th>\n",
       "      <td>5290</td>\n",
       "      <td>2020-11-09</td>\n",
       "      <td>3143.740</td>\n",
       "      <td>3218.3809</td>\n",
       "      <td>AMZN</td>\n",
       "    </tr>\n",
       "  </tbody>\n",
       "</table>\n",
       "</div>"
      ],
      "text/plain": [
       "   Unnamed: 0        date      AMZN  predictions ticker\n",
       "0        5285  2020-11-02  3004.480    3324.1418   AMZN\n",
       "1        5288  2020-11-05  3322.000    3392.2160   AMZN\n",
       "2        5289  2020-11-06  3311.370    3139.0823   AMZN\n",
       "3        5558  2020-11-07  3227.555    3166.2107   AMZN\n",
       "4        5290  2020-11-09  3143.740    3218.3809   AMZN"
      ]
     },
     "execution_count": 188,
     "metadata": {},
     "output_type": "execute_result"
    }
   ],
   "source": [
    "LSTM_3features_AMZN.head()"
   ]
  },
  {
   "cell_type": "code",
   "execution_count": 189,
   "id": "025a8223",
   "metadata": {},
   "outputs": [],
   "source": [
    "LSTM_3features_AMZN_list = list(LSTM_3features_AMZN[['date','predictions']].values)\n",
    "LSTM_3features_AMZN_list = np.array(LSTM_3features_AMZN_list)\n",
    "LSTM_3features_AMZN_list = LSTM_3features_AMZN_list.tolist()"
   ]
  },
  {
   "cell_type": "code",
   "execution_count": 190,
   "id": "ebd2f772",
   "metadata": {},
   "outputs": [
    {
     "data": {
      "text/plain": [
       "['2020-11-02', 3324.1418]"
      ]
     },
     "execution_count": 190,
     "metadata": {},
     "output_type": "execute_result"
    }
   ],
   "source": [
    "LSTM_3features_AMZN_list[0]"
   ]
  },
  {
   "cell_type": "code",
   "execution_count": 191,
   "id": "122c18e8",
   "metadata": {},
   "outputs": [],
   "source": [
    "for date, prediction in LSTM_3features_AMZN_list:\n",
    "        try:\n",
    "            #If the prediction does not yet exist, it is inserted into the database,\n",
    "            #otherwise it is updated\n",
    "            sql = \"\"\"INSERT INTO prediction (next_day_pred, ticker, `date`) \\\n",
    "                        VALUES (%s , %s, %s)\"\"\"\n",
    "            #Values you want to insert\n",
    "            values = (prediction, 'AMZN', date)\n",
    "            cursor.execute(sql, values)\n",
    "            connection.commit()\n",
    "\n",
    "        except pymysql.Error as err:\n",
    "            if err.args[0] == 1062:\n",
    "                print('Duplicate entry, updating the values')\n",
    "                #SQL query\n",
    "                sql = \"\"\"UPDATE prediction SET next_day_pred=%s WHERE `date`=%s AND ticker=%s\"\"\"\n",
    "                #Values you want to insert\n",
    "                values = (prediction, date, 'AMZN')\n",
    "                cursor.execute(sql, values)\n",
    "                connection.commit()"
   ]
  },
  {
   "cell_type": "markdown",
   "id": "eb277ef1",
   "metadata": {},
   "source": [
    "# Updating LSTM_3features_GOOGL"
   ]
  },
  {
   "cell_type": "code",
   "execution_count": 192,
   "id": "9dafdc33",
   "metadata": {},
   "outputs": [],
   "source": [
    "LSTM_3features_GOOGL = get_data_from_gcp('gs://stock-news-pred-bucket/prediction_data_011221/LSTM_3features_GOOGL')"
   ]
  },
  {
   "cell_type": "code",
   "execution_count": 193,
   "id": "9971e527",
   "metadata": {},
   "outputs": [
    {
     "data": {
      "text/html": [
       "<div>\n",
       "<style scoped>\n",
       "    .dataframe tbody tr th:only-of-type {\n",
       "        vertical-align: middle;\n",
       "    }\n",
       "\n",
       "    .dataframe tbody tr th {\n",
       "        vertical-align: top;\n",
       "    }\n",
       "\n",
       "    .dataframe thead th {\n",
       "        text-align: right;\n",
       "    }\n",
       "</style>\n",
       "<table border=\"1\" class=\"dataframe\">\n",
       "  <thead>\n",
       "    <tr style=\"text-align: right;\">\n",
       "      <th></th>\n",
       "      <th>Unnamed: 0</th>\n",
       "      <th>date</th>\n",
       "      <th>GOOGL</th>\n",
       "      <th>predictions</th>\n",
       "      <th>ticker</th>\n",
       "    </tr>\n",
       "  </thead>\n",
       "  <tbody>\n",
       "    <tr>\n",
       "      <th>0</th>\n",
       "      <td>5285</td>\n",
       "      <td>2020-11-02</td>\n",
       "      <td>1624.32</td>\n",
       "      <td>2234.8940</td>\n",
       "      <td>GOOGL</td>\n",
       "    </tr>\n",
       "    <tr>\n",
       "      <th>1</th>\n",
       "      <td>5286</td>\n",
       "      <td>2020-11-03</td>\n",
       "      <td>1645.66</td>\n",
       "      <td>2468.7524</td>\n",
       "      <td>GOOGL</td>\n",
       "    </tr>\n",
       "    <tr>\n",
       "      <th>2</th>\n",
       "      <td>5289</td>\n",
       "      <td>2020-11-06</td>\n",
       "      <td>1759.73</td>\n",
       "      <td>2482.5650</td>\n",
       "      <td>GOOGL</td>\n",
       "    </tr>\n",
       "    <tr>\n",
       "      <th>3</th>\n",
       "      <td>5290</td>\n",
       "      <td>2020-11-09</td>\n",
       "      <td>1761.42</td>\n",
       "      <td>1951.4469</td>\n",
       "      <td>GOOGL</td>\n",
       "    </tr>\n",
       "    <tr>\n",
       "      <th>4</th>\n",
       "      <td>5293</td>\n",
       "      <td>2020-11-12</td>\n",
       "      <td>1742.82</td>\n",
       "      <td>2540.8920</td>\n",
       "      <td>GOOGL</td>\n",
       "    </tr>\n",
       "  </tbody>\n",
       "</table>\n",
       "</div>"
      ],
      "text/plain": [
       "   Unnamed: 0        date    GOOGL  predictions ticker\n",
       "0        5285  2020-11-02  1624.32    2234.8940  GOOGL\n",
       "1        5286  2020-11-03  1645.66    2468.7524  GOOGL\n",
       "2        5289  2020-11-06  1759.73    2482.5650  GOOGL\n",
       "3        5290  2020-11-09  1761.42    1951.4469  GOOGL\n",
       "4        5293  2020-11-12  1742.82    2540.8920  GOOGL"
      ]
     },
     "execution_count": 193,
     "metadata": {},
     "output_type": "execute_result"
    }
   ],
   "source": [
    "LSTM_3features_GOOGL.head()"
   ]
  },
  {
   "cell_type": "code",
   "execution_count": 194,
   "id": "ff76e96d",
   "metadata": {},
   "outputs": [],
   "source": [
    "LSTM_3features_GOOGL_list = list(LSTM_3features_GOOGL[['date','predictions']].values)\n",
    "LSTM_3features_GOOGL_list = np.array(LSTM_3features_GOOGL_list)\n",
    "LSTM_3features_GOOGL_list = LSTM_3features_GOOGL_list.tolist()"
   ]
  },
  {
   "cell_type": "code",
   "execution_count": 195,
   "id": "148b41c6",
   "metadata": {},
   "outputs": [
    {
     "data": {
      "text/plain": [
       "['2020-11-02', 2234.894]"
      ]
     },
     "execution_count": 195,
     "metadata": {},
     "output_type": "execute_result"
    }
   ],
   "source": [
    "LSTM_3features_GOOGL_list[0]"
   ]
  },
  {
   "cell_type": "code",
   "execution_count": 196,
   "id": "981bd398",
   "metadata": {},
   "outputs": [
    {
     "name": "stdout",
     "output_type": "stream",
     "text": [
      "CPU times: user 150 ms, sys: 51.1 ms, total: 202 ms\n",
      "Wall time: 19.9 s\n"
     ]
    }
   ],
   "source": [
    "%%time\n",
    "for date, prediction in LSTM_3features_GOOGL_list:\n",
    "        try:\n",
    "            #If the prediction does not yet exist, it is inserted into the database,\n",
    "            #otherwise it is updated\n",
    "            sql = \"\"\"INSERT INTO prediction (next_day_pred, ticker, `date`) \\\n",
    "                        VALUES (%s , %s, %s)\"\"\"\n",
    "            #Values you want to insert\n",
    "            values = (prediction, 'GOOGL', date)\n",
    "            cursor.execute(sql, values)\n",
    "            connection.commit()\n",
    "\n",
    "        except pymysql.Error as err:\n",
    "            if err.args[0] == 1062:\n",
    "                print('Duplicate entry, updating the values')\n",
    "                #SQL query\n",
    "                sql = \"\"\"UPDATE prediction SET next_day_pred=%s WHERE `date`=%s AND ticker=%s\"\"\"\n",
    "                #Values you want to insert\n",
    "                values = (prediction, date, 'GOOGL')\n",
    "                cursor.execute(sql, values)\n",
    "                connection.commit()"
   ]
  },
  {
   "cell_type": "markdown",
   "id": "e32a9092",
   "metadata": {},
   "source": [
    "# Updating LSTM_3features_MSFT"
   ]
  },
  {
   "cell_type": "code",
   "execution_count": 203,
   "id": "7a867469",
   "metadata": {},
   "outputs": [],
   "source": [
    "LSTM_3features_MSFT = get_data_from_gcp('gs://stock-news-pred-bucket/prediction_data_011221/LSTM_3features_MSFT')"
   ]
  },
  {
   "cell_type": "code",
   "execution_count": 204,
   "id": "e022e3ee",
   "metadata": {},
   "outputs": [
    {
     "data": {
      "text/html": [
       "<div>\n",
       "<style scoped>\n",
       "    .dataframe tbody tr th:only-of-type {\n",
       "        vertical-align: middle;\n",
       "    }\n",
       "\n",
       "    .dataframe tbody tr th {\n",
       "        vertical-align: top;\n",
       "    }\n",
       "\n",
       "    .dataframe thead th {\n",
       "        text-align: right;\n",
       "    }\n",
       "</style>\n",
       "<table border=\"1\" class=\"dataframe\">\n",
       "  <thead>\n",
       "    <tr style=\"text-align: right;\">\n",
       "      <th></th>\n",
       "      <th>Unnamed: 0</th>\n",
       "      <th>date</th>\n",
       "      <th>MSFT</th>\n",
       "      <th>predictions</th>\n",
       "      <th>ticker</th>\n",
       "    </tr>\n",
       "  </thead>\n",
       "  <tbody>\n",
       "    <tr>\n",
       "      <th>0</th>\n",
       "      <td>5285</td>\n",
       "      <td>2020-11-02</td>\n",
       "      <td>202.33</td>\n",
       "      <td>285.40120</td>\n",
       "      <td>MSFT</td>\n",
       "    </tr>\n",
       "    <tr>\n",
       "      <th>1</th>\n",
       "      <td>5289</td>\n",
       "      <td>2020-11-06</td>\n",
       "      <td>223.72</td>\n",
       "      <td>247.37758</td>\n",
       "      <td>MSFT</td>\n",
       "    </tr>\n",
       "    <tr>\n",
       "      <th>2</th>\n",
       "      <td>5290</td>\n",
       "      <td>2020-11-09</td>\n",
       "      <td>218.39</td>\n",
       "      <td>243.68030</td>\n",
       "      <td>MSFT</td>\n",
       "    </tr>\n",
       "    <tr>\n",
       "      <th>3</th>\n",
       "      <td>5293</td>\n",
       "      <td>2020-11-12</td>\n",
       "      <td>215.44</td>\n",
       "      <td>257.07150</td>\n",
       "      <td>MSFT</td>\n",
       "    </tr>\n",
       "    <tr>\n",
       "      <th>4</th>\n",
       "      <td>5294</td>\n",
       "      <td>2020-11-13</td>\n",
       "      <td>216.51</td>\n",
       "      <td>244.01654</td>\n",
       "      <td>MSFT</td>\n",
       "    </tr>\n",
       "    <tr>\n",
       "      <th>...</th>\n",
       "      <td>...</td>\n",
       "      <td>...</td>\n",
       "      <td>...</td>\n",
       "      <td>...</td>\n",
       "      <td>...</td>\n",
       "    </tr>\n",
       "    <tr>\n",
       "      <th>95</th>\n",
       "      <td>5575</td>\n",
       "      <td>2021-04-02</td>\n",
       "      <td>244.03</td>\n",
       "      <td>243.88356</td>\n",
       "      <td>MSFT</td>\n",
       "    </tr>\n",
       "    <tr>\n",
       "      <th>96</th>\n",
       "      <td>5576</td>\n",
       "      <td>2021-04-03</td>\n",
       "      <td>245.71</td>\n",
       "      <td>286.87698</td>\n",
       "      <td>MSFT</td>\n",
       "    </tr>\n",
       "    <tr>\n",
       "      <th>97</th>\n",
       "      <td>5577</td>\n",
       "      <td>2021-04-04</td>\n",
       "      <td>247.39</td>\n",
       "      <td>246.88603</td>\n",
       "      <td>MSFT</td>\n",
       "    </tr>\n",
       "    <tr>\n",
       "      <th>98</th>\n",
       "      <td>5389</td>\n",
       "      <td>2021-04-05</td>\n",
       "      <td>249.07</td>\n",
       "      <td>236.81590</td>\n",
       "      <td>MSFT</td>\n",
       "    </tr>\n",
       "    <tr>\n",
       "      <th>99</th>\n",
       "      <td>5390</td>\n",
       "      <td>2021-04-06</td>\n",
       "      <td>247.86</td>\n",
       "      <td>283.74387</td>\n",
       "      <td>MSFT</td>\n",
       "    </tr>\n",
       "  </tbody>\n",
       "</table>\n",
       "<p>100 rows × 5 columns</p>\n",
       "</div>"
      ],
      "text/plain": [
       "    Unnamed: 0        date    MSFT  predictions ticker\n",
       "0         5285  2020-11-02  202.33    285.40120   MSFT\n",
       "1         5289  2020-11-06  223.72    247.37758   MSFT\n",
       "2         5290  2020-11-09  218.39    243.68030   MSFT\n",
       "3         5293  2020-11-12  215.44    257.07150   MSFT\n",
       "4         5294  2020-11-13  216.51    244.01654   MSFT\n",
       "..         ...         ...     ...          ...    ...\n",
       "95        5575  2021-04-02  244.03    243.88356   MSFT\n",
       "96        5576  2021-04-03  245.71    286.87698   MSFT\n",
       "97        5577  2021-04-04  247.39    246.88603   MSFT\n",
       "98        5389  2021-04-05  249.07    236.81590   MSFT\n",
       "99        5390  2021-04-06  247.86    283.74387   MSFT\n",
       "\n",
       "[100 rows x 5 columns]"
      ]
     },
     "execution_count": 204,
     "metadata": {},
     "output_type": "execute_result"
    }
   ],
   "source": []
  },
  {
   "cell_type": "code",
   "execution_count": 199,
   "id": "0f47df1b",
   "metadata": {},
   "outputs": [],
   "source": [
    "LSTM_3features_MSFT_list = list(LSTM_3features_MSFT[['date','predictions']].values)\n",
    "LSTM_3features_MSFT_list = np.array(LSTM_3features_MSFT_list)\n",
    "LSTM_3features_MSFT_list = LSTM_3features_MSFT_list.tolist()"
   ]
  },
  {
   "cell_type": "code",
   "execution_count": 200,
   "id": "089902a8",
   "metadata": {},
   "outputs": [
    {
     "data": {
      "text/plain": [
       "['2020-11-02', 285.4012]"
      ]
     },
     "execution_count": 200,
     "metadata": {},
     "output_type": "execute_result"
    }
   ],
   "source": [
    "LSTM_3features_MSFT_list[0]"
   ]
  },
  {
   "cell_type": "code",
   "execution_count": 201,
   "id": "97a83f0d",
   "metadata": {},
   "outputs": [
    {
     "name": "stdout",
     "output_type": "stream",
     "text": [
      "CPU times: user 116 ms, sys: 81.7 ms, total: 198 ms\n",
      "Wall time: 19.3 s\n"
     ]
    }
   ],
   "source": [
    "%%time\n",
    "for date, prediction in LSTM_3features_MSFT_list:\n",
    "        try:\n",
    "            #If the prediction does not yet exist, it is inserted into the database,\n",
    "            #otherwise it is updated\n",
    "            sql = \"\"\"INSERT INTO prediction (next_day_pred, ticker, `date`) \\\n",
    "                        VALUES (%s , %s, %s)\"\"\"\n",
    "            #Values you want to insert\n",
    "            values = (prediction, 'MSFT', date)\n",
    "            cursor.execute(sql, values)\n",
    "            connection.commit()\n",
    "\n",
    "        except pymysql.Error as err:\n",
    "            if err.args[0] == 1062:\n",
    "                print('Duplicate entry, updating the values')\n",
    "                #SQL query\n",
    "                sql = \"\"\"UPDATE prediction SET next_day_pred=%s WHERE `date`=%s AND ticker=%s\"\"\"\n",
    "                #Values you want to insert\n",
    "                values = (prediction, date, 'MSFT')\n",
    "                cursor.execute(sql, values)\n",
    "                connection.commit()"
   ]
  },
  {
   "cell_type": "markdown",
   "id": "41df2d64",
   "metadata": {},
   "source": [
    "# Updating sorted_final_stock_prices"
   ]
  },
  {
   "cell_type": "code",
   "execution_count": 108,
   "id": "0a77dcf6",
   "metadata": {},
   "outputs": [],
   "source": [
    "sorted_final_stock_prices = get_data_from_gcp('gs://stock-news-pred-bucket/sorted_final_stock_prices')"
   ]
  },
  {
   "cell_type": "code",
   "execution_count": 109,
   "id": "427e5ea0",
   "metadata": {},
   "outputs": [],
   "source": [
    "sorted_final_stock_prices=sorted_final_stock_prices.fillna(0)"
   ]
  },
  {
   "cell_type": "code",
   "execution_count": 110,
   "id": "bb55615a",
   "metadata": {},
   "outputs": [
    {
     "data": {
      "text/html": [
       "<div>\n",
       "<style scoped>\n",
       "    .dataframe tbody tr th:only-of-type {\n",
       "        vertical-align: middle;\n",
       "    }\n",
       "\n",
       "    .dataframe tbody tr th {\n",
       "        vertical-align: top;\n",
       "    }\n",
       "\n",
       "    .dataframe thead th {\n",
       "        text-align: right;\n",
       "    }\n",
       "</style>\n",
       "<table border=\"1\" class=\"dataframe\">\n",
       "  <thead>\n",
       "    <tr style=\"text-align: right;\">\n",
       "      <th></th>\n",
       "      <th>date</th>\n",
       "      <th>AAPL</th>\n",
       "      <th>MSFT</th>\n",
       "      <th>GOOGL</th>\n",
       "      <th>AMZN</th>\n",
       "    </tr>\n",
       "  </thead>\n",
       "  <tbody>\n",
       "    <tr>\n",
       "      <th>5553</th>\n",
       "      <td>2021-11-24</td>\n",
       "      <td>161.94</td>\n",
       "      <td>337.91</td>\n",
       "      <td>2922.40</td>\n",
       "      <td>3580.41</td>\n",
       "    </tr>\n",
       "    <tr>\n",
       "      <th>5554</th>\n",
       "      <td>2021-11-26</td>\n",
       "      <td>156.81</td>\n",
       "      <td>329.68</td>\n",
       "      <td>2843.66</td>\n",
       "      <td>3504.56</td>\n",
       "    </tr>\n",
       "    <tr>\n",
       "      <th>5555</th>\n",
       "      <td>2021-11-29</td>\n",
       "      <td>160.24</td>\n",
       "      <td>336.63</td>\n",
       "      <td>2910.61</td>\n",
       "      <td>3561.57</td>\n",
       "    </tr>\n",
       "    <tr>\n",
       "      <th>5556</th>\n",
       "      <td>2021-11-30</td>\n",
       "      <td>165.30</td>\n",
       "      <td>330.59</td>\n",
       "      <td>2837.95</td>\n",
       "      <td>3507.07</td>\n",
       "    </tr>\n",
       "    <tr>\n",
       "      <th>5557</th>\n",
       "      <td>2021-12-01</td>\n",
       "      <td>164.77</td>\n",
       "      <td>330.08</td>\n",
       "      <td>2821.03</td>\n",
       "      <td>3443.72</td>\n",
       "    </tr>\n",
       "  </tbody>\n",
       "</table>\n",
       "</div>"
      ],
      "text/plain": [
       "            date    AAPL    MSFT    GOOGL     AMZN\n",
       "5553  2021-11-24  161.94  337.91  2922.40  3580.41\n",
       "5554  2021-11-26  156.81  329.68  2843.66  3504.56\n",
       "5555  2021-11-29  160.24  336.63  2910.61  3561.57\n",
       "5556  2021-11-30  165.30  330.59  2837.95  3507.07\n",
       "5557  2021-12-01  164.77  330.08  2821.03  3443.72"
      ]
     },
     "execution_count": 110,
     "metadata": {},
     "output_type": "execute_result"
    }
   ],
   "source": [
    "sorted_final_stock_prices.tail()"
   ]
  },
  {
   "cell_type": "code",
   "execution_count": 111,
   "id": "848c9df2",
   "metadata": {},
   "outputs": [],
   "source": [
    "sorted_final_stock_prices = sorted_final_stock_prices.tail(50)\n",
    "AAPL_prices = list(sorted_final_stock_prices[['date', 'AMZN']].values)\n",
    "AAPL_prices = np.array(AAPL_prices)\n",
    "AAPL_prices = AAPL_prices.tolist()"
   ]
  },
  {
   "cell_type": "code",
   "execution_count": 112,
   "id": "65d63ddb",
   "metadata": {},
   "outputs": [
    {
     "data": {
      "text/plain": [
       "['2021-09-22', 3380.05]"
      ]
     },
     "execution_count": 112,
     "metadata": {},
     "output_type": "execute_result"
    }
   ],
   "source": [
    "AAPL_prices[0]"
   ]
  },
  {
   "cell_type": "code",
   "execution_count": 113,
   "id": "6d5061fc",
   "metadata": {},
   "outputs": [
    {
     "name": "stdout",
     "output_type": "stream",
     "text": [
      "Duplicate entry, updating the values\n",
      "Duplicate entry, updating the values\n",
      "Duplicate entry, updating the values\n",
      "Duplicate entry, updating the values\n",
      "Duplicate entry, updating the values\n",
      "Duplicate entry, updating the values\n",
      "Duplicate entry, updating the values\n",
      "Duplicate entry, updating the values\n",
      "Duplicate entry, updating the values\n",
      "Duplicate entry, updating the values\n",
      "Duplicate entry, updating the values\n",
      "Duplicate entry, updating the values\n",
      "Duplicate entry, updating the values\n",
      "Duplicate entry, updating the values\n",
      "Duplicate entry, updating the values\n",
      "Duplicate entry, updating the values\n",
      "Duplicate entry, updating the values\n",
      "Duplicate entry, updating the values\n",
      "Duplicate entry, updating the values\n",
      "Duplicate entry, updating the values\n",
      "Duplicate entry, updating the values\n",
      "Duplicate entry, updating the values\n",
      "Duplicate entry, updating the values\n",
      "Duplicate entry, updating the values\n",
      "Duplicate entry, updating the values\n",
      "Duplicate entry, updating the values\n",
      "Duplicate entry, updating the values\n",
      "Duplicate entry, updating the values\n",
      "Duplicate entry, updating the values\n",
      "Duplicate entry, updating the values\n",
      "Duplicate entry, updating the values\n",
      "Duplicate entry, updating the values\n",
      "Duplicate entry, updating the values\n",
      "Duplicate entry, updating the values\n",
      "Duplicate entry, updating the values\n",
      "Duplicate entry, updating the values\n",
      "Duplicate entry, updating the values\n",
      "Duplicate entry, updating the values\n",
      "Duplicate entry, updating the values\n",
      "Duplicate entry, updating the values\n",
      "Duplicate entry, updating the values\n",
      "Duplicate entry, updating the values\n",
      "Duplicate entry, updating the values\n",
      "Duplicate entry, updating the values\n",
      "CPU times: user 94.7 ms, sys: 4.23 ms, total: 98.9 ms\n",
      "Wall time: 3.47 s\n"
     ]
    }
   ],
   "source": [
    "%%time\n",
    "for date, AMZN in AAPL_prices:\n",
    "    try:\n",
    "        #If the prediction does not yet exist, it is inserted into the database,\n",
    "        #otherwise it is updated\n",
    "        sql = \"\"\"INSERT INTO stocksprice (`date`, ticker, stock_price) \\\n",
    "                    VALUES (%s , %s, %s)\"\"\"\n",
    "        #Values you want to insert\n",
    "        values = (date, 'AMZN', AMZN)\n",
    "        cursor.execute(sql, values)\n",
    "        connection.commit()\n",
    "\n",
    "    except pymysql.Error as err:\n",
    "            print('Duplicate entry, updating the values')\n",
    "            #SQL query\n",
    "            sql = \"\"\"UPDATE stocksprice SET stock_price=%s WHERE `date`=%s AND ticker=%s\"\"\"\n",
    "            #Values you want to insert\n",
    "            values = (AMZN, date, 'AMZN')\n",
    "            cursor.execute(sql, values)\n",
    "            connection.commit()"
   ]
  },
  {
   "cell_type": "markdown",
   "id": "91314272",
   "metadata": {},
   "source": [
    "# Updating stock_news_top_6_stocks_"
   ]
  },
  {
   "cell_type": "code",
   "execution_count": 202,
   "id": "50ede7be",
   "metadata": {},
   "outputs": [
    {
     "name": "stdout",
     "output_type": "stream",
     "text": [
      "Amazon1 twitter_stocks_sentiment.csv\n",
      "For Database Extraction/\n",
      "For Database Extraction/Amazon Database.csv\n",
      "For Database Extraction/Google Database.csv\n",
      "For Database Extraction/Microsoft Database.csv\n",
      "For Database Extraction/Netflix Database.csv\n",
      "For Database Extraction/Stock_news _for_Database.csv\n",
      "Google1 twitter_stocks_sentiment.csv\n",
      "Microsoft1 twitter_stocks_sentiment.csv\n",
      "Netflix1 twitter_stocks_sentiment.csv\n",
      "Stock predictions without NLP/\n",
      "Stock predictions without NLP/aapl_predictions.csv\n",
      "Stock predictions without NLP/amzn_predictions.csv\n",
      "Stock predictions without NLP/googl_predictions.csv\n",
      "Stock predictions without NLP/msft_predictions.csv\n",
      "Tw_mentions_last_year_daily_stocks.csv\n",
      "amazon_stock_price.csv\n",
      "clean_data_2features.csv\n",
      "final_stocks_sentiment_21221.csv\n",
      "old/\n",
      "prediction_data_011221/\n",
      "prediction_data_011221/LSTM_3features_AAPL\n",
      "prediction_data_011221/LSTM_3features_AMZN\n",
      "prediction_data_011221/LSTM_3features_GOOGL\n",
      "prediction_data_011221/LSTM_3features_MSFT\n",
      "sorted_final_stock_prices\n",
      "stock_news_top_6_stocks\n",
      "stock_news_top_6_stocks_\n",
      "stock_prices\n",
      "updated_stock_prices\n"
     ]
    }
   ],
   "source": [
    "list_blobs('stock-news-pred-bucket')"
   ]
  },
  {
   "cell_type": "code",
   "execution_count": 170,
   "id": "5fc0b54b",
   "metadata": {},
   "outputs": [],
   "source": [
    "stock_news_top_6_stocks_ = get_data_from_gcp('gs://stock-news-pred-bucket/stock_news_top_6_stocks_')"
   ]
  },
  {
   "cell_type": "code",
   "execution_count": 171,
   "id": "fc67173e",
   "metadata": {},
   "outputs": [],
   "source": [
    "stock_news_top_6_stocks_=stock_news_top_6_stocks_.fillna(0)"
   ]
  },
  {
   "cell_type": "code",
   "execution_count": 172,
   "id": "d8c577e0",
   "metadata": {},
   "outputs": [
    {
     "data": {
      "text/html": [
       "<div>\n",
       "<style scoped>\n",
       "    .dataframe tbody tr th:only-of-type {\n",
       "        vertical-align: middle;\n",
       "    }\n",
       "\n",
       "    .dataframe tbody tr th {\n",
       "        vertical-align: top;\n",
       "    }\n",
       "\n",
       "    .dataframe thead th {\n",
       "        text-align: right;\n",
       "    }\n",
       "</style>\n",
       "<table border=\"1\" class=\"dataframe\">\n",
       "  <thead>\n",
       "    <tr style=\"text-align: right;\">\n",
       "      <th></th>\n",
       "      <th>date</th>\n",
       "      <th>title</th>\n",
       "      <th>content</th>\n",
       "      <th>ticker</th>\n",
       "      <th>day</th>\n",
       "    </tr>\n",
       "  </thead>\n",
       "  <tbody>\n",
       "    <tr>\n",
       "      <th>32179</th>\n",
       "      <td>2021-11-30T20:05:56+00:00</td>\n",
       "      <td>Triller’s Ryan Kavanaugh Shakes Up the Fight G...</td>\n",
       "      <td>By Exec Edge Editorial Staff\\n\\nWhen Ryan Kava...</td>\n",
       "      <td>NFLX</td>\n",
       "      <td>2021-11-30</td>\n",
       "    </tr>\n",
       "    <tr>\n",
       "      <th>32180</th>\n",
       "      <td>2021-12-01T11:40:00+00:00</td>\n",
       "      <td>2 Stocks to Buy If You Are Worried About the N...</td>\n",
       "      <td>The variant in question is called omicron. At ...</td>\n",
       "      <td>NFLX</td>\n",
       "      <td>2021-12-01</td>\n",
       "    </tr>\n",
       "    <tr>\n",
       "      <th>32181</th>\n",
       "      <td>2021-12-01T16:27:00+00:00</td>\n",
       "      <td>Salesforce Joins the List of Companies With Tw...</td>\n",
       "      <td>A brief summary of how companies like Netflix,...</td>\n",
       "      <td>NFLX</td>\n",
       "      <td>2021-12-01</td>\n",
       "    </tr>\n",
       "    <tr>\n",
       "      <th>32182</th>\n",
       "      <td>2021-12-01T21:20:06+00:00</td>\n",
       "      <td>Netflix makes good on pledge to put 2% of its ...</td>\n",
       "      <td>“More capital moving into these institutions m...</td>\n",
       "      <td>NFLX</td>\n",
       "      <td>2021-12-01</td>\n",
       "    </tr>\n",
       "    <tr>\n",
       "      <th>32183</th>\n",
       "      <td>2021-12-01T14:06:02+00:00</td>\n",
       "      <td>Comcast (CMCSA) Disney Renews Content Carriage...</td>\n",
       "      <td>Comcast CMCSA and The Walt Disney DIS recently...</td>\n",
       "      <td>NFLX</td>\n",
       "      <td>2021-12-01</td>\n",
       "    </tr>\n",
       "  </tbody>\n",
       "</table>\n",
       "</div>"
      ],
      "text/plain": [
       "                            date  \\\n",
       "32179  2021-11-30T20:05:56+00:00   \n",
       "32180  2021-12-01T11:40:00+00:00   \n",
       "32181  2021-12-01T16:27:00+00:00   \n",
       "32182  2021-12-01T21:20:06+00:00   \n",
       "32183  2021-12-01T14:06:02+00:00   \n",
       "\n",
       "                                                   title  \\\n",
       "32179  Triller’s Ryan Kavanaugh Shakes Up the Fight G...   \n",
       "32180  2 Stocks to Buy If You Are Worried About the N...   \n",
       "32181  Salesforce Joins the List of Companies With Tw...   \n",
       "32182  Netflix makes good on pledge to put 2% of its ...   \n",
       "32183  Comcast (CMCSA) Disney Renews Content Carriage...   \n",
       "\n",
       "                                                 content ticker         day  \n",
       "32179  By Exec Edge Editorial Staff\\n\\nWhen Ryan Kava...   NFLX  2021-11-30  \n",
       "32180  The variant in question is called omicron. At ...   NFLX  2021-12-01  \n",
       "32181  A brief summary of how companies like Netflix,...   NFLX  2021-12-01  \n",
       "32182  “More capital moving into these institutions m...   NFLX  2021-12-01  \n",
       "32183  Comcast CMCSA and The Walt Disney DIS recently...   NFLX  2021-12-01  "
      ]
     },
     "execution_count": 172,
     "metadata": {},
     "output_type": "execute_result"
    }
   ],
   "source": [
    "stock_news_top_6_stocks_.tail()"
   ]
  },
  {
   "cell_type": "code",
   "execution_count": 173,
   "id": "c0caf16e",
   "metadata": {},
   "outputs": [],
   "source": [
    "stock_news_top_6_stocks_ = stock_news_top_6_stocks_[['day', 'title', 'content', 'ticker']]\n",
    "stock_news_top_6_stocks_.sort_values(by='day', ascending=True, inplace=True)"
   ]
  },
  {
   "cell_type": "code",
   "execution_count": 174,
   "id": "78019f0e",
   "metadata": {},
   "outputs": [],
   "source": [
    "stock_news_top_6_stocks_ = stock_news_top_6_stocks_.tail(1000)\n"
   ]
  },
  {
   "cell_type": "code",
   "execution_count": 176,
   "id": "377059fc",
   "metadata": {},
   "outputs": [
    {
     "data": {
      "text/html": [
       "<div>\n",
       "<style scoped>\n",
       "    .dataframe tbody tr th:only-of-type {\n",
       "        vertical-align: middle;\n",
       "    }\n",
       "\n",
       "    .dataframe tbody tr th {\n",
       "        vertical-align: top;\n",
       "    }\n",
       "\n",
       "    .dataframe thead th {\n",
       "        text-align: right;\n",
       "    }\n",
       "</style>\n",
       "<table border=\"1\" class=\"dataframe\">\n",
       "  <thead>\n",
       "    <tr style=\"text-align: right;\">\n",
       "      <th></th>\n",
       "      <th>day</th>\n",
       "      <th>title</th>\n",
       "      <th>content</th>\n",
       "      <th>ticker</th>\n",
       "    </tr>\n",
       "  </thead>\n",
       "  <tbody>\n",
       "    <tr>\n",
       "      <th>5772</th>\n",
       "      <td>2021-11-26</td>\n",
       "      <td>Apple global battery development chief moves t...</td>\n",
       "      <td>SAN FRANCISCO (Reuters) - Apple's global batte...</td>\n",
       "      <td>AAPL</td>\n",
       "    </tr>\n",
       "    <tr>\n",
       "      <th>10028</th>\n",
       "      <td>2021-11-26</td>\n",
       "      <td>9 of the best Apple deals happening now, inclu...</td>\n",
       "      <td>From Apple Airpods to MacBooks to iPads, here ...</td>\n",
       "      <td>GOOGL</td>\n",
       "    </tr>\n",
       "    <tr>\n",
       "      <th>29868</th>\n",
       "      <td>2021-11-26</td>\n",
       "      <td>Tesla withdrew state funding application for G...</td>\n",
       "      <td>BERLIN (Reuters) -Tesla has withdrawn its appl...</td>\n",
       "      <td>NFLX</td>\n",
       "    </tr>\n",
       "    <tr>\n",
       "      <th>29366</th>\n",
       "      <td>2021-11-26</td>\n",
       "      <td>Tesla Drops as Musk’s Sale of Shares Crosses H...</td>\n",
       "      <td>By Dhirendra Tripathi\\n\\nInvesting.com – Tesla...</td>\n",
       "      <td>TSLA</td>\n",
       "    </tr>\n",
       "    <tr>\n",
       "      <th>29367</th>\n",
       "      <td>2021-11-26</td>\n",
       "      <td>Dow Jones Futures Dive 800 Points On New Covid...</td>\n",
       "      <td>Dow Jones futures dived 800 points Friday morn...</td>\n",
       "      <td>TSLA</td>\n",
       "    </tr>\n",
       "  </tbody>\n",
       "</table>\n",
       "</div>"
      ],
      "text/plain": [
       "              day                                              title  \\\n",
       "5772   2021-11-26  Apple global battery development chief moves t...   \n",
       "10028  2021-11-26  9 of the best Apple deals happening now, inclu...   \n",
       "29868  2021-11-26  Tesla withdrew state funding application for G...   \n",
       "29366  2021-11-26  Tesla Drops as Musk’s Sale of Shares Crosses H...   \n",
       "29367  2021-11-26  Dow Jones Futures Dive 800 Points On New Covid...   \n",
       "\n",
       "                                                 content ticker  \n",
       "5772   SAN FRANCISCO (Reuters) - Apple's global batte...   AAPL  \n",
       "10028  From Apple Airpods to MacBooks to iPads, here ...  GOOGL  \n",
       "29868  BERLIN (Reuters) -Tesla has withdrawn its appl...   NFLX  \n",
       "29366  By Dhirendra Tripathi\\n\\nInvesting.com – Tesla...   TSLA  \n",
       "29367  Dow Jones futures dived 800 points Friday morn...   TSLA  "
      ]
     },
     "execution_count": 176,
     "metadata": {},
     "output_type": "execute_result"
    }
   ],
   "source": [
    "stock_news_top_6_stocks_.head()"
   ]
  },
  {
   "cell_type": "code",
   "execution_count": 162,
   "id": "c86cfb27",
   "metadata": {},
   "outputs": [],
   "source": [
    "stock_news_top_6_stocks__list = list(stock_news_top_6_stocks_.values)\n",
    "stock_news_top_6_stocks__list = np.array(stock_news_top_6_stocks__list)\n",
    "stock_news_top_6_stocks__list = stock_news_top_6_stocks__list.tolist()"
   ]
  },
  {
   "cell_type": "code",
   "execution_count": 163,
   "id": "95515477",
   "metadata": {},
   "outputs": [
    {
     "data": {
      "text/plain": [
       "['2021-12-01',\n",
       " 'Why Tesla Stock Popped, Then Dropped Today',\n",
       " 'Shares of Tesla (NASDAQ: TSLA) raced out of the gate Wednesday morning, climbing 2.3% in the first couple minutes of trading before beginning to fall back. Tesla\\'s first big pop seems to have been sparked by a bit of corporate theater. In an apparent poke at the phenomenon of whistleblowers trying to embarrass their bosses, Elon Musk tweeted last night that Tesla is now selling a \"limited-edition Cyberwhistle\" shaped like its still-unavailable Cybertruck.',\n",
       " 'NFLX']"
      ]
     },
     "execution_count": 163,
     "metadata": {},
     "output_type": "execute_result"
    }
   ],
   "source": [
    "stock_news_top_6_stocks__list[0]"
   ]
  },
  {
   "cell_type": "code",
   "execution_count": 165,
   "id": "f0d65ee5",
   "metadata": {},
   "outputs": [
    {
     "name": "stdout",
     "output_type": "stream",
     "text": [
      "CPU times: user 72.9 ms, sys: 0 ns, total: 72.9 ms\n",
      "Wall time: 5.58 s\n"
     ]
    }
   ],
   "source": [
    "%%time\n",
    "for day, title, content, ticker in stock_news_top_6_stocks__list:\n",
    "    try:\n",
    "        #If the prediction does not yet exist, it is inserted into the database,\n",
    "        #otherwise it is updated\n",
    "        sql = \"\"\"INSERT INTO news (`date`, ticker, title, content) \\\n",
    "                    VALUES (%s , %s, %s, %s)\"\"\"\n",
    "        #Values you want to insert\n",
    "        values = (day, ticker, title, content)\n",
    "        cursor.execute(sql, values)\n",
    "        connection.commit()\n",
    "\n",
    "    except pymysql.Error as err:\n",
    "            print('Duplicate entry, updating the values')\n",
    "            #SQL query\n",
    "            sql = \"\"\"UPDATE news SET title=%s , content=%s WHERE `date`=%s AND ticker=%s\"\"\"\n",
    "            #Values you want to insert\n",
    "            values = (day, ticker, title, content)\n",
    "            cursor.execute(sql, values)\n",
    "            connection.commit()"
   ]
  },
  {
   "cell_type": "markdown",
   "id": "e8788cc2",
   "metadata": {},
   "source": [
    "# Updating Tweet\n",
    "For Database Extraction/Amazon Database.csv\n",
    "\n",
    "For Database Extraction/Google Database.csv\n",
    "\n",
    "For Database Extraction/Microsoft Database.csv\n",
    "\n",
    "For Database Extraction/Netflix Database.csv"
   ]
  },
  {
   "cell_type": "code",
   "execution_count": 299,
   "id": "1c72746e",
   "metadata": {},
   "outputs": [],
   "source": [
    "googl_tweet = get_data_from_gcp('gs://stock-news-pred-bucket/For Database Extraction/Netflix Database.csv')"
   ]
  },
  {
   "cell_type": "code",
   "execution_count": 300,
   "id": "15c6b4f3",
   "metadata": {},
   "outputs": [],
   "source": [
    "googl_tweet['date'] = googl_tweet['date'].str.slice(0,10)"
   ]
  },
  {
   "cell_type": "code",
   "execution_count": 301,
   "id": "783a95fb",
   "metadata": {},
   "outputs": [
    {
     "data": {
      "text/html": [
       "<div>\n",
       "<style scoped>\n",
       "    .dataframe tbody tr th:only-of-type {\n",
       "        vertical-align: middle;\n",
       "    }\n",
       "\n",
       "    .dataframe tbody tr th {\n",
       "        vertical-align: top;\n",
       "    }\n",
       "\n",
       "    .dataframe thead th {\n",
       "        text-align: right;\n",
       "    }\n",
       "</style>\n",
       "<table border=\"1\" class=\"dataframe\">\n",
       "  <thead>\n",
       "    <tr style=\"text-align: right;\">\n",
       "      <th></th>\n",
       "      <th>Unnamed: 0</th>\n",
       "      <th>date</th>\n",
       "      <th>title</th>\n",
       "      <th>sentiment</th>\n",
       "    </tr>\n",
       "  </thead>\n",
       "  <tbody>\n",
       "    <tr>\n",
       "      <th>0</th>\n",
       "      <td>0</td>\n",
       "      <td>2021-11-25</td>\n",
       "      <td>Netflix Inc $NFLX is trending on both Twitter ...</td>\n",
       "      <td>[NEGATIVE (0.9904)]</td>\n",
       "    </tr>\n",
       "    <tr>\n",
       "      <th>1</th>\n",
       "      <td>1</td>\n",
       "      <td>2021-11-25</td>\n",
       "      <td>Stock: $NFLX - Netflix *** NEWS *** Thanksgivi...</td>\n",
       "      <td>[POSITIVE (0.987)]</td>\n",
       "    </tr>\n",
       "    <tr>\n",
       "      <th>2</th>\n",
       "      <td>2</td>\n",
       "      <td>2021-11-25</td>\n",
       "      <td>$NFLX ~For a limited time, we are opening our ...</td>\n",
       "      <td>[POSITIVE (0.9183)]</td>\n",
       "    </tr>\n",
       "    <tr>\n",
       "      <th>3</th>\n",
       "      <td>3</td>\n",
       "      <td>2021-11-25</td>\n",
       "      <td>stockomAngtrades: 2nd mistake, which I fixed t...</td>\n",
       "      <td>[NEGATIVE (0.9994)]</td>\n",
       "    </tr>\n",
       "    <tr>\n",
       "      <th>4</th>\n",
       "      <td>4</td>\n",
       "      <td>2021-11-25</td>\n",
       "      <td>$NFLX in -3.65% Downtrend, falling for three c...</td>\n",
       "      <td>[NEGATIVE (1.0)]</td>\n",
       "    </tr>\n",
       "    <tr>\n",
       "      <th>...</th>\n",
       "      <td>...</td>\n",
       "      <td>...</td>\n",
       "      <td>...</td>\n",
       "      <td>...</td>\n",
       "    </tr>\n",
       "    <tr>\n",
       "      <th>4452</th>\n",
       "      <td>4452</td>\n",
       "      <td>2020-11-27</td>\n",
       "      <td>$NFLX in Uptrend: price may ascend as a result...</td>\n",
       "      <td>[NEGATIVE (0.9907)]</td>\n",
       "    </tr>\n",
       "    <tr>\n",
       "      <th>4453</th>\n",
       "      <td>4453</td>\n",
       "      <td>2020-11-27</td>\n",
       "      <td>$NFLX, $VEEV and $OLLI are selected by our sto...</td>\n",
       "      <td>[NEGATIVE (0.8455)]</td>\n",
       "    </tr>\n",
       "    <tr>\n",
       "      <th>4454</th>\n",
       "      <td>4454</td>\n",
       "      <td>2020-11-26</td>\n",
       "      <td>$KXIN stock of the day with 547% squeeze and 3...</td>\n",
       "      <td>[NEGATIVE (0.7232)]</td>\n",
       "    </tr>\n",
       "    <tr>\n",
       "      <th>4455</th>\n",
       "      <td>4455</td>\n",
       "      <td>2020-11-26</td>\n",
       "      <td>$NFLX company ,  and  Analysis Score Update (F...</td>\n",
       "      <td>[POSITIVE (0.621)]</td>\n",
       "    </tr>\n",
       "    <tr>\n",
       "      <th>4456</th>\n",
       "      <td>4456</td>\n",
       "      <td>2020-11-26</td>\n",
       "      <td>$NFLX in Uptrend: price may ascend as a result...</td>\n",
       "      <td>[NEGATIVE (0.995)]</td>\n",
       "    </tr>\n",
       "  </tbody>\n",
       "</table>\n",
       "<p>4457 rows × 4 columns</p>\n",
       "</div>"
      ],
      "text/plain": [
       "      Unnamed: 0        date  \\\n",
       "0              0  2021-11-25   \n",
       "1              1  2021-11-25   \n",
       "2              2  2021-11-25   \n",
       "3              3  2021-11-25   \n",
       "4              4  2021-11-25   \n",
       "...          ...         ...   \n",
       "4452        4452  2020-11-27   \n",
       "4453        4453  2020-11-27   \n",
       "4454        4454  2020-11-26   \n",
       "4455        4455  2020-11-26   \n",
       "4456        4456  2020-11-26   \n",
       "\n",
       "                                                  title            sentiment  \n",
       "0     Netflix Inc $NFLX is trending on both Twitter ...  [NEGATIVE (0.9904)]  \n",
       "1     Stock: $NFLX - Netflix *** NEWS *** Thanksgivi...   [POSITIVE (0.987)]  \n",
       "2     $NFLX ~For a limited time, we are opening our ...  [POSITIVE (0.9183)]  \n",
       "3     stockomAngtrades: 2nd mistake, which I fixed t...  [NEGATIVE (0.9994)]  \n",
       "4     $NFLX in -3.65% Downtrend, falling for three c...     [NEGATIVE (1.0)]  \n",
       "...                                                 ...                  ...  \n",
       "4452  $NFLX in Uptrend: price may ascend as a result...  [NEGATIVE (0.9907)]  \n",
       "4453  $NFLX, $VEEV and $OLLI are selected by our sto...  [NEGATIVE (0.8455)]  \n",
       "4454  $KXIN stock of the day with 547% squeeze and 3...  [NEGATIVE (0.7232)]  \n",
       "4455  $NFLX company ,  and  Analysis Score Update (F...   [POSITIVE (0.621)]  \n",
       "4456  $NFLX in Uptrend: price may ascend as a result...   [NEGATIVE (0.995)]  \n",
       "\n",
       "[4457 rows x 4 columns]"
      ]
     },
     "execution_count": 301,
     "metadata": {},
     "output_type": "execute_result"
    }
   ],
   "source": [
    "googl_tweet"
   ]
  },
  {
   "cell_type": "code",
   "execution_count": 302,
   "id": "e4101564",
   "metadata": {},
   "outputs": [],
   "source": [
    "googl_tweet=googl_tweet[['date', 'title', 'sentiment']]"
   ]
  },
  {
   "cell_type": "code",
   "execution_count": 303,
   "id": "6867394f",
   "metadata": {},
   "outputs": [],
   "source": [
    "googl_tweet=googl_tweet.fillna(0)"
   ]
  },
  {
   "cell_type": "code",
   "execution_count": 304,
   "id": "a858be4f",
   "metadata": {},
   "outputs": [],
   "source": [
    "amzn_tweet_list = list(googl_tweet.values)\n",
    "amzn_tweet_list = np.array(amzn_tweet_list)\n",
    "amzn_tweet_list = amzn_tweet_list.tolist()"
   ]
  },
  {
   "cell_type": "code",
   "execution_count": 305,
   "id": "5983c834",
   "metadata": {},
   "outputs": [
    {
     "data": {
      "text/plain": [
       "['2021-11-25',\n",
       " 'Netflix Inc $NFLX is trending on both Twitter and Reddit  ',\n",
       " '[NEGATIVE (0.9904)]']"
      ]
     },
     "execution_count": 305,
     "metadata": {},
     "output_type": "execute_result"
    }
   ],
   "source": [
    "amzn_tweet_list[0]"
   ]
  },
  {
   "cell_type": "code",
   "execution_count": 306,
   "id": "4d3b99b7",
   "metadata": {},
   "outputs": [
    {
     "name": "stdout",
     "output_type": "stream",
     "text": [
      "CPU times: user 2.04 s, sys: 304 ms, total: 2.34 s\n",
      "Wall time: 4min 5s\n"
     ]
    }
   ],
   "source": [
    "%%time\n",
    "for date, tweet, sentiment in amzn_tweet_list:\n",
    "    try:\n",
    "        #If the prediction does not yet exist, it is inserted into the database,\n",
    "        #otherwise it is updated\n",
    "        sql = \"\"\"INSERT INTO tweets (`date`, ticker, tweet, sentiment) \\\n",
    "                    VALUES (%s , %s, %s, %s)\"\"\"\n",
    "        #Values you want to insert\n",
    "        values = (date, 'NFLX', tweet, sentiment)\n",
    "        cursor.execute(sql, values)\n",
    "        connection.commit()\n",
    "        \n",
    "    except pymysql.Error as err:\n",
    "            print('Duplicate entry, updating the values')\n",
    "            #SQL query\n",
    "            sql = \"\"\"UPDATE tweets SET tweet=%s , sentiment=%s WHERE `date`=%s AND ticker=%s\"\"\"\n",
    "            #Values you want to insert\n",
    "            values = (tweet, sentiment, date, 'NFLX')\n",
    "            cursor.execute(sql, values)\n",
    "            connection.commit()"
   ]
  },
  {
   "cell_type": "markdown",
   "id": "fff99338",
   "metadata": {},
   "source": [
    "# final_stocks_sentiment_21221.csv"
   ]
  },
  {
   "cell_type": "code",
   "execution_count": 310,
   "id": "cf3428c2",
   "metadata": {},
   "outputs": [],
   "source": [
    "googl_tweet = get_data_from_gcp('gs://stock-news-pred-bucket/final_stocks_sentiment_21221.csv')"
   ]
  },
  {
   "cell_type": "code",
   "execution_count": 311,
   "id": "6443a313",
   "metadata": {},
   "outputs": [
    {
     "data": {
      "text/html": [
       "<div>\n",
       "<style scoped>\n",
       "    .dataframe tbody tr th:only-of-type {\n",
       "        vertical-align: middle;\n",
       "    }\n",
       "\n",
       "    .dataframe tbody tr th {\n",
       "        vertical-align: top;\n",
       "    }\n",
       "\n",
       "    .dataframe thead th {\n",
       "        text-align: right;\n",
       "    }\n",
       "</style>\n",
       "<table border=\"1\" class=\"dataframe\">\n",
       "  <thead>\n",
       "    <tr style=\"text-align: right;\">\n",
       "      <th></th>\n",
       "      <th>date</th>\n",
       "      <th>ticker</th>\n",
       "      <th>news_label</th>\n",
       "    </tr>\n",
       "  </thead>\n",
       "  <tbody>\n",
       "    <tr>\n",
       "      <th>0</th>\n",
       "      <td>2020-11-02</td>\n",
       "      <td>AAPL</td>\n",
       "      <td>0.000000</td>\n",
       "    </tr>\n",
       "    <tr>\n",
       "      <th>1</th>\n",
       "      <td>2020-11-02</td>\n",
       "      <td>AMZN</td>\n",
       "      <td>0.000000</td>\n",
       "    </tr>\n",
       "    <tr>\n",
       "      <th>2</th>\n",
       "      <td>2020-11-02</td>\n",
       "      <td>GOOGL</td>\n",
       "      <td>0.000000</td>\n",
       "    </tr>\n",
       "    <tr>\n",
       "      <th>3</th>\n",
       "      <td>2020-11-02</td>\n",
       "      <td>MSFT</td>\n",
       "      <td>0.333333</td>\n",
       "    </tr>\n",
       "    <tr>\n",
       "      <th>4</th>\n",
       "      <td>2020-11-02</td>\n",
       "      <td>TSLA</td>\n",
       "      <td>1.000000</td>\n",
       "    </tr>\n",
       "    <tr>\n",
       "      <th>...</th>\n",
       "      <td>...</td>\n",
       "      <td>...</td>\n",
       "      <td>...</td>\n",
       "    </tr>\n",
       "    <tr>\n",
       "      <th>2049</th>\n",
       "      <td>2021-12-02</td>\n",
       "      <td>AMZN</td>\n",
       "      <td>0.125000</td>\n",
       "    </tr>\n",
       "    <tr>\n",
       "      <th>2050</th>\n",
       "      <td>2021-12-02</td>\n",
       "      <td>GOOGL</td>\n",
       "      <td>0.142857</td>\n",
       "    </tr>\n",
       "    <tr>\n",
       "      <th>2051</th>\n",
       "      <td>2021-12-02</td>\n",
       "      <td>MSFT</td>\n",
       "      <td>0.166667</td>\n",
       "    </tr>\n",
       "    <tr>\n",
       "      <th>2052</th>\n",
       "      <td>2021-12-02</td>\n",
       "      <td>NFLX</td>\n",
       "      <td>1.000000</td>\n",
       "    </tr>\n",
       "    <tr>\n",
       "      <th>2053</th>\n",
       "      <td>2021-12-02</td>\n",
       "      <td>TSLA</td>\n",
       "      <td>0.666667</td>\n",
       "    </tr>\n",
       "  </tbody>\n",
       "</table>\n",
       "<p>2054 rows × 3 columns</p>\n",
       "</div>"
      ],
      "text/plain": [
       "            date ticker  news_label\n",
       "0     2020-11-02   AAPL    0.000000\n",
       "1     2020-11-02   AMZN    0.000000\n",
       "2     2020-11-02  GOOGL    0.000000\n",
       "3     2020-11-02   MSFT    0.333333\n",
       "4     2020-11-02   TSLA    1.000000\n",
       "...          ...    ...         ...\n",
       "2049  2021-12-02   AMZN    0.125000\n",
       "2050  2021-12-02  GOOGL    0.142857\n",
       "2051  2021-12-02   MSFT    0.166667\n",
       "2052  2021-12-02   NFLX    1.000000\n",
       "2053  2021-12-02   TSLA    0.666667\n",
       "\n",
       "[2054 rows x 3 columns]"
      ]
     },
     "execution_count": 311,
     "metadata": {},
     "output_type": "execute_result"
    }
   ],
   "source": [
    "googl_tweet"
   ]
  },
  {
   "cell_type": "code",
   "execution_count": 312,
   "id": "1c394b9d",
   "metadata": {},
   "outputs": [],
   "source": [
    "googl_tweet=googl_tweet.fillna(0)\n",
    "amzn_tweet_list = list(googl_tweet.values)\n",
    "amzn_tweet_list = np.array(amzn_tweet_list)\n",
    "amzn_tweet_list = amzn_tweet_list.tolist()"
   ]
  },
  {
   "cell_type": "code",
   "execution_count": 320,
   "id": "a0d58a64",
   "metadata": {},
   "outputs": [
    {
     "data": {
      "text/plain": [
       "['2020-11-02', 'TSLA', 1.0]"
      ]
     },
     "execution_count": 320,
     "metadata": {},
     "output_type": "execute_result"
    }
   ],
   "source": [
    "amzn_tweet_list[4]"
   ]
  },
  {
   "cell_type": "code",
   "execution_count": 317,
   "id": "a6324b9d",
   "metadata": {},
   "outputs": [
    {
     "name": "stdout",
     "output_type": "stream",
     "text": [
      "CPU times: user 805 ms, sys: 225 ms, total: 1.03 s\n",
      "Wall time: 2min 28s\n"
     ]
    }
   ],
   "source": [
    "%%time\n",
    "for date, ticker, sentiment in amzn_tweet_list:\n",
    "    #SQL query\n",
    "    sql = \"\"\"UPDATE news SET sentiment=%s WHERE `date`=%s AND ticker=%s\"\"\"\n",
    "    #Values you want to insert\n",
    "    values = (sentiment, date, ticker)\n",
    "    cursor.execute(sql, values)\n",
    "    connection.commit()"
   ]
  },
  {
   "cell_type": "code",
   "execution_count": null,
   "id": "9c4fd8c3",
   "metadata": {},
   "outputs": [],
   "source": []
  }
 ],
 "metadata": {
  "kernelspec": {
   "display_name": "Python 3 (ipykernel)",
   "language": "python",
   "name": "python3"
  },
  "language_info": {
   "codemirror_mode": {
    "name": "ipython",
    "version": 3
   },
   "file_extension": ".py",
   "mimetype": "text/x-python",
   "name": "python",
   "nbconvert_exporter": "python",
   "pygments_lexer": "ipython3",
   "version": "3.8.12"
  },
  "toc": {
   "base_numbering": 1,
   "nav_menu": {},
   "number_sections": true,
   "sideBar": true,
   "skip_h1_title": false,
   "title_cell": "Table of Contents",
   "title_sidebar": "Contents",
   "toc_cell": false,
   "toc_position": {
    "height": "calc(100% - 180px)",
    "left": "10px",
    "top": "150px",
    "width": "279.273px"
   },
   "toc_section_display": true,
   "toc_window_display": true
  }
 },
 "nbformat": 4,
 "nbformat_minor": 5
}
