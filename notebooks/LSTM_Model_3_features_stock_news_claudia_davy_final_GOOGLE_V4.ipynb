{
 "cells": [
  {
   "cell_type": "code",
   "execution_count": 5,
   "id": "5fb8eccf",
   "metadata": {},
   "outputs": [],
   "source": [
    "import pandas as pd\n",
    "import numpy as np"
   ]
  },
  {
   "cell_type": "markdown",
   "id": "69d87f50",
   "metadata": {},
   "source": [
    "## get the stock data "
   ]
  },
  {
   "cell_type": "code",
   "execution_count": 16,
   "id": "8788b2f9",
   "metadata": {},
   "outputs": [],
   "source": [
    "# get the stock data\n",
    "from google.cloud import storage\n",
    "def get_stock_data_from_gcp(nrows=10000, local=False, optimize=False, **kwargs):\n",
    "    \"\"\"method to get the training data (or a portion of it) from google cloud bucket\"\"\"\n",
    "    # Add Client() here\n",
    "    client = storage.Client()\n",
    "    if local:\n",
    "        path = \"data/data_data_10Mill.csv\"\n",
    "    else:\n",
    "        path = \"gs://stock-news-pred-bucket/stock_prices\"\n",
    "    df = pd.read_csv(path, sep=\"\\t\")#add nrows after if you want to select a specific number of row\n",
    "    return df\n"
   ]
  },
  {
   "cell_type": "code",
   "execution_count": 17,
   "id": "6f245985",
   "metadata": {},
   "outputs": [],
   "source": [
    "df_stocks = get_stock_data_from_gcp()"
   ]
  },
  {
   "cell_type": "code",
   "execution_count": 21,
   "id": "5339d81c",
   "metadata": {},
   "outputs": [],
   "source": [
    "df_stocks.rename(columns={\"Unnamed: 0\":\"date\"}, inplace=True)"
   ]
  },
  {
   "cell_type": "code",
   "execution_count": 22,
   "id": "2a35183e",
   "metadata": {},
   "outputs": [],
   "source": [
    "df_stocks = df_stocks.sort_values([\"date\"], ascending=True)"
   ]
  },
  {
   "cell_type": "code",
   "execution_count": 429,
   "id": "a0de90c3",
   "metadata": {},
   "outputs": [
    {
     "data": {
      "text/html": [
       "<div>\n",
       "<style scoped>\n",
       "    .dataframe tbody tr th:only-of-type {\n",
       "        vertical-align: middle;\n",
       "    }\n",
       "\n",
       "    .dataframe tbody tr th {\n",
       "        vertical-align: top;\n",
       "    }\n",
       "\n",
       "    .dataframe thead th {\n",
       "        text-align: right;\n",
       "    }\n",
       "</style>\n",
       "<table border=\"1\" class=\"dataframe\">\n",
       "  <thead>\n",
       "    <tr style=\"text-align: right;\">\n",
       "      <th></th>\n",
       "      <th>date</th>\n",
       "      <th>AAPL</th>\n",
       "      <th>MSFT</th>\n",
       "      <th>GOOGL</th>\n",
       "      <th>AMZN</th>\n",
       "    </tr>\n",
       "  </thead>\n",
       "  <tbody>\n",
       "    <tr>\n",
       "      <th>4</th>\n",
       "      <td>2021-11-16</td>\n",
       "      <td>151.00</td>\n",
       "      <td>339.51</td>\n",
       "      <td>2957.52</td>\n",
       "      <td>3540.70</td>\n",
       "    </tr>\n",
       "    <tr>\n",
       "      <th>3</th>\n",
       "      <td>2021-11-17</td>\n",
       "      <td>153.49</td>\n",
       "      <td>339.12</td>\n",
       "      <td>2960.94</td>\n",
       "      <td>3549.00</td>\n",
       "    </tr>\n",
       "    <tr>\n",
       "      <th>2</th>\n",
       "      <td>2021-11-18</td>\n",
       "      <td>157.87</td>\n",
       "      <td>341.27</td>\n",
       "      <td>2996.77</td>\n",
       "      <td>3696.06</td>\n",
       "    </tr>\n",
       "    <tr>\n",
       "      <th>1</th>\n",
       "      <td>2021-11-19</td>\n",
       "      <td>160.55</td>\n",
       "      <td>343.11</td>\n",
       "      <td>2978.53</td>\n",
       "      <td>3676.57</td>\n",
       "    </tr>\n",
       "    <tr>\n",
       "      <th>0</th>\n",
       "      <td>2021-11-22</td>\n",
       "      <td>161.02</td>\n",
       "      <td>339.83</td>\n",
       "      <td>2926.04</td>\n",
       "      <td>3572.57</td>\n",
       "    </tr>\n",
       "  </tbody>\n",
       "</table>\n",
       "</div>"
      ],
      "text/plain": [
       "         date    AAPL    MSFT    GOOGL     AMZN\n",
       "4  2021-11-16  151.00  339.51  2957.52  3540.70\n",
       "3  2021-11-17  153.49  339.12  2960.94  3549.00\n",
       "2  2021-11-18  157.87  341.27  2996.77  3696.06\n",
       "1  2021-11-19  160.55  343.11  2978.53  3676.57\n",
       "0  2021-11-22  161.02  339.83  2926.04  3572.57"
      ]
     },
     "execution_count": 429,
     "metadata": {},
     "output_type": "execute_result"
    }
   ],
   "source": [
    "df_stocks.tail()"
   ]
  },
  {
   "cell_type": "code",
   "execution_count": 73,
   "id": "c5ce4654",
   "metadata": {},
   "outputs": [],
   "source": [
    "df_stocks.to_csv(\"df_stocks\", index=False)"
   ]
  },
  {
   "cell_type": "markdown",
   "id": "9c568a9d",
   "metadata": {},
   "source": [
    "## get the sentiment data"
   ]
  },
  {
   "cell_type": "code",
   "execution_count": 828,
   "id": "757f199f",
   "metadata": {},
   "outputs": [],
   "source": [
    "# get the data from GCP\n",
    "from google.cloud import storage\n",
    "def get_sentiment_news_data_from_gcp(nrows=10000, local=False, optimize=False, **kwargs):\n",
    "    \"\"\"method to get the training data (or a portion of it) from google cloud bucket\"\"\"\n",
    "    # Add Client() here\n",
    "    client = storage.Client()\n",
    "    if local:\n",
    "        path = \"data/data_data_10Mill.csv\"\n",
    "    else:\n",
    "        path = \"gs://stock-news-pred-bucket/Stocks_news_final_to_use.csv\"\n",
    "    df = pd.read_csv(path)#add nrows after if you want to select a specific number of row\n",
    "    return df"
   ]
  },
  {
   "cell_type": "code",
   "execution_count": 829,
   "id": "283a3a0a",
   "metadata": {},
   "outputs": [],
   "source": [
    "sentiment = get_sentiment_news_data_from_gcp()"
   ]
  },
  {
   "cell_type": "code",
   "execution_count": 830,
   "id": "7e7ca824",
   "metadata": {},
   "outputs": [],
   "source": [
    "sentiment = sentiment[['date', 'ticker', 'class_label']]"
   ]
  },
  {
   "cell_type": "code",
   "execution_count": 831,
   "id": "9cef0bad",
   "metadata": {},
   "outputs": [],
   "source": [
    "sentiment[\"date\"] = pd.to_datetime(sentiment[\"date\"] , infer_datetime_format=True)"
   ]
  },
  {
   "cell_type": "code",
   "execution_count": 835,
   "id": "09df5a75",
   "metadata": {},
   "outputs": [
    {
     "data": {
      "text/html": [
       "<div>\n",
       "<style scoped>\n",
       "    .dataframe tbody tr th:only-of-type {\n",
       "        vertical-align: middle;\n",
       "    }\n",
       "\n",
       "    .dataframe tbody tr th {\n",
       "        vertical-align: top;\n",
       "    }\n",
       "\n",
       "    .dataframe thead th {\n",
       "        text-align: right;\n",
       "    }\n",
       "</style>\n",
       "<table border=\"1\" class=\"dataframe\">\n",
       "  <thead>\n",
       "    <tr style=\"text-align: right;\">\n",
       "      <th></th>\n",
       "      <th>date</th>\n",
       "      <th>ticker</th>\n",
       "      <th>class_label</th>\n",
       "    </tr>\n",
       "  </thead>\n",
       "  <tbody>\n",
       "    <tr>\n",
       "      <th>479</th>\n",
       "      <td>2021-05-31</td>\n",
       "      <td>GOOGL</td>\n",
       "      <td>0.000000</td>\n",
       "    </tr>\n",
       "    <tr>\n",
       "      <th>482</th>\n",
       "      <td>2021-06-01</td>\n",
       "      <td>GOOGL</td>\n",
       "      <td>0.421053</td>\n",
       "    </tr>\n",
       "    <tr>\n",
       "      <th>485</th>\n",
       "      <td>2021-06-02</td>\n",
       "      <td>GOOGL</td>\n",
       "      <td>0.296296</td>\n",
       "    </tr>\n",
       "    <tr>\n",
       "      <th>488</th>\n",
       "      <td>2021-06-03</td>\n",
       "      <td>GOOGL</td>\n",
       "      <td>0.227273</td>\n",
       "    </tr>\n",
       "    <tr>\n",
       "      <th>491</th>\n",
       "      <td>2021-06-04</td>\n",
       "      <td>GOOGL</td>\n",
       "      <td>0.320000</td>\n",
       "    </tr>\n",
       "    <tr>\n",
       "      <th>494</th>\n",
       "      <td>2021-06-05</td>\n",
       "      <td>GOOGL</td>\n",
       "      <td>0.200000</td>\n",
       "    </tr>\n",
       "    <tr>\n",
       "      <th>497</th>\n",
       "      <td>2021-06-06</td>\n",
       "      <td>GOOGL</td>\n",
       "      <td>0.666667</td>\n",
       "    </tr>\n",
       "    <tr>\n",
       "      <th>500</th>\n",
       "      <td>2021-06-07</td>\n",
       "      <td>GOOGL</td>\n",
       "      <td>0.290323</td>\n",
       "    </tr>\n",
       "    <tr>\n",
       "      <th>503</th>\n",
       "      <td>2021-06-08</td>\n",
       "      <td>GOOGL</td>\n",
       "      <td>0.206897</td>\n",
       "    </tr>\n",
       "    <tr>\n",
       "      <th>506</th>\n",
       "      <td>2021-06-09</td>\n",
       "      <td>GOOGL</td>\n",
       "      <td>0.434783</td>\n",
       "    </tr>\n",
       "    <tr>\n",
       "      <th>509</th>\n",
       "      <td>2021-06-10</td>\n",
       "      <td>GOOGL</td>\n",
       "      <td>0.269231</td>\n",
       "    </tr>\n",
       "    <tr>\n",
       "      <th>512</th>\n",
       "      <td>2021-06-11</td>\n",
       "      <td>GOOGL</td>\n",
       "      <td>0.406250</td>\n",
       "    </tr>\n",
       "    <tr>\n",
       "      <th>515</th>\n",
       "      <td>2021-06-12</td>\n",
       "      <td>GOOGL</td>\n",
       "      <td>0.428571</td>\n",
       "    </tr>\n",
       "    <tr>\n",
       "      <th>518</th>\n",
       "      <td>2021-06-13</td>\n",
       "      <td>GOOGL</td>\n",
       "      <td>0.142857</td>\n",
       "    </tr>\n",
       "    <tr>\n",
       "      <th>521</th>\n",
       "      <td>2021-06-14</td>\n",
       "      <td>GOOGL</td>\n",
       "      <td>0.285714</td>\n",
       "    </tr>\n",
       "    <tr>\n",
       "      <th>524</th>\n",
       "      <td>2021-06-15</td>\n",
       "      <td>GOOGL</td>\n",
       "      <td>0.333333</td>\n",
       "    </tr>\n",
       "    <tr>\n",
       "      <th>529</th>\n",
       "      <td>2021-06-17</td>\n",
       "      <td>GOOGL</td>\n",
       "      <td>0.000000</td>\n",
       "    </tr>\n",
       "    <tr>\n",
       "      <th>532</th>\n",
       "      <td>2021-06-18</td>\n",
       "      <td>GOOGL</td>\n",
       "      <td>0.000000</td>\n",
       "    </tr>\n",
       "    <tr>\n",
       "      <th>535</th>\n",
       "      <td>2021-06-19</td>\n",
       "      <td>GOOGL</td>\n",
       "      <td>1.000000</td>\n",
       "    </tr>\n",
       "    <tr>\n",
       "      <th>538</th>\n",
       "      <td>2021-06-20</td>\n",
       "      <td>GOOGL</td>\n",
       "      <td>0.000000</td>\n",
       "    </tr>\n",
       "    <tr>\n",
       "      <th>541</th>\n",
       "      <td>2021-06-21</td>\n",
       "      <td>GOOGL</td>\n",
       "      <td>0.200000</td>\n",
       "    </tr>\n",
       "    <tr>\n",
       "      <th>544</th>\n",
       "      <td>2021-06-22</td>\n",
       "      <td>GOOGL</td>\n",
       "      <td>0.333333</td>\n",
       "    </tr>\n",
       "    <tr>\n",
       "      <th>547</th>\n",
       "      <td>2021-06-23</td>\n",
       "      <td>GOOGL</td>\n",
       "      <td>0.000000</td>\n",
       "    </tr>\n",
       "    <tr>\n",
       "      <th>550</th>\n",
       "      <td>2021-06-24</td>\n",
       "      <td>GOOGL</td>\n",
       "      <td>0.000000</td>\n",
       "    </tr>\n",
       "    <tr>\n",
       "      <th>553</th>\n",
       "      <td>2021-06-25</td>\n",
       "      <td>GOOGL</td>\n",
       "      <td>0.250000</td>\n",
       "    </tr>\n",
       "    <tr>\n",
       "      <th>556</th>\n",
       "      <td>2021-06-26</td>\n",
       "      <td>GOOGL</td>\n",
       "      <td>0.000000</td>\n",
       "    </tr>\n",
       "    <tr>\n",
       "      <th>561</th>\n",
       "      <td>2021-06-28</td>\n",
       "      <td>GOOGL</td>\n",
       "      <td>0.000000</td>\n",
       "    </tr>\n",
       "    <tr>\n",
       "      <th>566</th>\n",
       "      <td>2021-06-30</td>\n",
       "      <td>GOOGL</td>\n",
       "      <td>1.000000</td>\n",
       "    </tr>\n",
       "    <tr>\n",
       "      <th>794</th>\n",
       "      <td>2021-10-25</td>\n",
       "      <td>GOOGL</td>\n",
       "      <td>0.000000</td>\n",
       "    </tr>\n",
       "    <tr>\n",
       "      <th>797</th>\n",
       "      <td>2021-10-26</td>\n",
       "      <td>GOOGL</td>\n",
       "      <td>0.000000</td>\n",
       "    </tr>\n",
       "    <tr>\n",
       "      <th>800</th>\n",
       "      <td>2021-10-27</td>\n",
       "      <td>GOOGL</td>\n",
       "      <td>0.000000</td>\n",
       "    </tr>\n",
       "    <tr>\n",
       "      <th>803</th>\n",
       "      <td>2021-10-28</td>\n",
       "      <td>GOOGL</td>\n",
       "      <td>0.259259</td>\n",
       "    </tr>\n",
       "    <tr>\n",
       "      <th>806</th>\n",
       "      <td>2021-10-29</td>\n",
       "      <td>GOOGL</td>\n",
       "      <td>0.156463</td>\n",
       "    </tr>\n",
       "    <tr>\n",
       "      <th>809</th>\n",
       "      <td>2021-10-30</td>\n",
       "      <td>GOOGL</td>\n",
       "      <td>0.150000</td>\n",
       "    </tr>\n",
       "    <tr>\n",
       "      <th>812</th>\n",
       "      <td>2021-10-31</td>\n",
       "      <td>GOOGL</td>\n",
       "      <td>0.333333</td>\n",
       "    </tr>\n",
       "    <tr>\n",
       "      <th>831</th>\n",
       "      <td>2021-11-09</td>\n",
       "      <td>GOOGL</td>\n",
       "      <td>0.500000</td>\n",
       "    </tr>\n",
       "    <tr>\n",
       "      <th>834</th>\n",
       "      <td>2021-11-10</td>\n",
       "      <td>GOOGL</td>\n",
       "      <td>0.333333</td>\n",
       "    </tr>\n",
       "    <tr>\n",
       "      <th>837</th>\n",
       "      <td>2021-11-11</td>\n",
       "      <td>GOOGL</td>\n",
       "      <td>0.285714</td>\n",
       "    </tr>\n",
       "    <tr>\n",
       "      <th>840</th>\n",
       "      <td>2021-11-12</td>\n",
       "      <td>GOOGL</td>\n",
       "      <td>0.642857</td>\n",
       "    </tr>\n",
       "    <tr>\n",
       "      <th>843</th>\n",
       "      <td>2021-11-13</td>\n",
       "      <td>GOOGL</td>\n",
       "      <td>0.000000</td>\n",
       "    </tr>\n",
       "    <tr>\n",
       "      <th>846</th>\n",
       "      <td>2021-11-14</td>\n",
       "      <td>GOOGL</td>\n",
       "      <td>0.500000</td>\n",
       "    </tr>\n",
       "    <tr>\n",
       "      <th>849</th>\n",
       "      <td>2021-11-15</td>\n",
       "      <td>GOOGL</td>\n",
       "      <td>0.222222</td>\n",
       "    </tr>\n",
       "    <tr>\n",
       "      <th>852</th>\n",
       "      <td>2021-11-16</td>\n",
       "      <td>GOOGL</td>\n",
       "      <td>0.184783</td>\n",
       "    </tr>\n",
       "    <tr>\n",
       "      <th>855</th>\n",
       "      <td>2021-11-17</td>\n",
       "      <td>GOOGL</td>\n",
       "      <td>0.222222</td>\n",
       "    </tr>\n",
       "    <tr>\n",
       "      <th>858</th>\n",
       "      <td>2021-11-18</td>\n",
       "      <td>GOOGL</td>\n",
       "      <td>0.255814</td>\n",
       "    </tr>\n",
       "    <tr>\n",
       "      <th>861</th>\n",
       "      <td>2021-11-19</td>\n",
       "      <td>GOOGL</td>\n",
       "      <td>0.233333</td>\n",
       "    </tr>\n",
       "    <tr>\n",
       "      <th>864</th>\n",
       "      <td>2021-11-20</td>\n",
       "      <td>GOOGL</td>\n",
       "      <td>0.571429</td>\n",
       "    </tr>\n",
       "    <tr>\n",
       "      <th>867</th>\n",
       "      <td>2021-11-21</td>\n",
       "      <td>GOOGL</td>\n",
       "      <td>0.400000</td>\n",
       "    </tr>\n",
       "    <tr>\n",
       "      <th>870</th>\n",
       "      <td>2021-11-22</td>\n",
       "      <td>GOOGL</td>\n",
       "      <td>0.123077</td>\n",
       "    </tr>\n",
       "    <tr>\n",
       "      <th>873</th>\n",
       "      <td>2021-11-23</td>\n",
       "      <td>GOOGL</td>\n",
       "      <td>0.200000</td>\n",
       "    </tr>\n",
       "  </tbody>\n",
       "</table>\n",
       "</div>"
      ],
      "text/plain": [
       "          date ticker  class_label\n",
       "479 2021-05-31  GOOGL     0.000000\n",
       "482 2021-06-01  GOOGL     0.421053\n",
       "485 2021-06-02  GOOGL     0.296296\n",
       "488 2021-06-03  GOOGL     0.227273\n",
       "491 2021-06-04  GOOGL     0.320000\n",
       "494 2021-06-05  GOOGL     0.200000\n",
       "497 2021-06-06  GOOGL     0.666667\n",
       "500 2021-06-07  GOOGL     0.290323\n",
       "503 2021-06-08  GOOGL     0.206897\n",
       "506 2021-06-09  GOOGL     0.434783\n",
       "509 2021-06-10  GOOGL     0.269231\n",
       "512 2021-06-11  GOOGL     0.406250\n",
       "515 2021-06-12  GOOGL     0.428571\n",
       "518 2021-06-13  GOOGL     0.142857\n",
       "521 2021-06-14  GOOGL     0.285714\n",
       "524 2021-06-15  GOOGL     0.333333\n",
       "529 2021-06-17  GOOGL     0.000000\n",
       "532 2021-06-18  GOOGL     0.000000\n",
       "535 2021-06-19  GOOGL     1.000000\n",
       "538 2021-06-20  GOOGL     0.000000\n",
       "541 2021-06-21  GOOGL     0.200000\n",
       "544 2021-06-22  GOOGL     0.333333\n",
       "547 2021-06-23  GOOGL     0.000000\n",
       "550 2021-06-24  GOOGL     0.000000\n",
       "553 2021-06-25  GOOGL     0.250000\n",
       "556 2021-06-26  GOOGL     0.000000\n",
       "561 2021-06-28  GOOGL     0.000000\n",
       "566 2021-06-30  GOOGL     1.000000\n",
       "794 2021-10-25  GOOGL     0.000000\n",
       "797 2021-10-26  GOOGL     0.000000\n",
       "800 2021-10-27  GOOGL     0.000000\n",
       "803 2021-10-28  GOOGL     0.259259\n",
       "806 2021-10-29  GOOGL     0.156463\n",
       "809 2021-10-30  GOOGL     0.150000\n",
       "812 2021-10-31  GOOGL     0.333333\n",
       "831 2021-11-09  GOOGL     0.500000\n",
       "834 2021-11-10  GOOGL     0.333333\n",
       "837 2021-11-11  GOOGL     0.285714\n",
       "840 2021-11-12  GOOGL     0.642857\n",
       "843 2021-11-13  GOOGL     0.000000\n",
       "846 2021-11-14  GOOGL     0.500000\n",
       "849 2021-11-15  GOOGL     0.222222\n",
       "852 2021-11-16  GOOGL     0.184783\n",
       "855 2021-11-17  GOOGL     0.222222\n",
       "858 2021-11-18  GOOGL     0.255814\n",
       "861 2021-11-19  GOOGL     0.233333\n",
       "864 2021-11-20  GOOGL     0.571429\n",
       "867 2021-11-21  GOOGL     0.400000\n",
       "870 2021-11-22  GOOGL     0.123077\n",
       "873 2021-11-23  GOOGL     0.200000"
      ]
     },
     "execution_count": 835,
     "metadata": {},
     "output_type": "execute_result"
    }
   ],
   "source": [
    "sentiment[sentiment[\"ticker\"]==\"GOOGL\"][-50:]"
   ]
  },
  {
   "cell_type": "markdown",
   "id": "e11dfa8c",
   "metadata": {},
   "source": [
    "### First GOOGL"
   ]
  },
  {
   "cell_type": "code",
   "execution_count": 825,
   "id": "83d119b2",
   "metadata": {},
   "outputs": [],
   "source": [
    "sentiment_GOOGL = sentiment[sentiment['ticker'] == 'GOOGL']"
   ]
  },
  {
   "cell_type": "code",
   "execution_count": 826,
   "id": "9ed4ca87",
   "metadata": {},
   "outputs": [
    {
     "data": {
      "text/plain": [
       "<AxesSubplot:xlabel='date'>"
      ]
     },
     "execution_count": 826,
     "metadata": {},
     "output_type": "execute_result"
    },
    {
     "data": {
      "image/png": "[encoded data removed]",
      "text/plain": [
       "<Figure size 432x288 with 1 Axes>"
      ]
     },
     "metadata": {
      "needs_background": "light"
     },
     "output_type": "display_data"
    }
   ],
   "source": [
    "sentiment_GOOGL.set_index([\"date\"]).plot()"
   ]
  },
  {
   "cell_type": "code",
   "execution_count": 817,
   "id": "f0f5a35e",
   "metadata": {},
   "outputs": [],
   "source": [
    "sentiment_GOOGL = sentiment_GOOGL.drop(columns=['ticker'])"
   ]
  },
  {
   "cell_type": "code",
   "execution_count": 701,
   "id": "ddd58c30",
   "metadata": {},
   "outputs": [],
   "source": [
    "sentiment_GOOGL['date'] = pd.to_datetime(sentiment_GOOGL['date'], infer_datetime_format=True)"
   ]
  },
  {
   "cell_type": "code",
   "execution_count": 702,
   "id": "db68dfe1",
   "metadata": {},
   "outputs": [
    {
     "data": {
      "text/plain": [
       "Timestamp('2020-11-02 00:00:00')"
      ]
     },
     "execution_count": 702,
     "metadata": {},
     "output_type": "execute_result"
    }
   ],
   "source": [
    "min_date = sentiment_GOOGL[\"date\"].min()\n",
    "min_date"
   ]
  },
  {
   "cell_type": "code",
   "execution_count": 306,
   "id": "b32a7543",
   "metadata": {},
   "outputs": [],
   "source": [
    "#sentiment.to_csv(\"sentiment\", index=False)"
   ]
  },
  {
   "cell_type": "markdown",
   "id": "eb5a05f3",
   "metadata": {},
   "source": [
    "### stock GOOGLE"
   ]
  },
  {
   "cell_type": "code",
   "execution_count": 308,
   "id": "e58aa5f9",
   "metadata": {},
   "outputs": [
    {
     "name": "stderr",
     "output_type": "stream",
     "text": [
      "/tmp/ipykernel_3413/2052759871.py:2: SettingWithCopyWarning: \n",
      "A value is trying to be set on a copy of a slice from a DataFrame.\n",
      "Try using .loc[row_indexer,col_indexer] = value instead\n",
      "\n",
      "See the caveats in the documentation: https://pandas.pydata.org/pandas-docs/stable/user_guide/indexing.html#returning-a-view-versus-a-copy\n",
      "  df_stocks_GOOGL[\"date\"] = pd.to_datetime(df_stocks_GOOGL['date'], infer_datetime_format=True)\n"
     ]
    }
   ],
   "source": [
    "df_stocks_GOOGL = df_stocks[['date', 'GOOGL']]\n",
    "df_stocks_GOOGL[\"date\"] = pd.to_datetime(df_stocks_GOOGL['date'], infer_datetime_format=True)"
   ]
  },
  {
   "cell_type": "code",
   "execution_count": 311,
   "id": "8eb7cd23",
   "metadata": {},
   "outputs": [
    {
     "data": {
      "text/html": [
       "<div>\n",
       "<style scoped>\n",
       "    .dataframe tbody tr th:only-of-type {\n",
       "        vertical-align: middle;\n",
       "    }\n",
       "\n",
       "    .dataframe tbody tr th {\n",
       "        vertical-align: top;\n",
       "    }\n",
       "\n",
       "    .dataframe thead th {\n",
       "        text-align: right;\n",
       "    }\n",
       "</style>\n",
       "<table border=\"1\" class=\"dataframe\">\n",
       "  <thead>\n",
       "    <tr style=\"text-align: right;\">\n",
       "      <th></th>\n",
       "      <th>date</th>\n",
       "      <th>GOOGL</th>\n",
       "    </tr>\n",
       "  </thead>\n",
       "  <tbody>\n",
       "    <tr>\n",
       "      <th>266</th>\n",
       "      <td>2020-11-02</td>\n",
       "      <td>1624.32</td>\n",
       "    </tr>\n",
       "    <tr>\n",
       "      <th>265</th>\n",
       "      <td>2020-11-03</td>\n",
       "      <td>1645.66</td>\n",
       "    </tr>\n",
       "    <tr>\n",
       "      <th>264</th>\n",
       "      <td>2020-11-04</td>\n",
       "      <td>1745.85</td>\n",
       "    </tr>\n",
       "    <tr>\n",
       "      <th>263</th>\n",
       "      <td>2020-11-05</td>\n",
       "      <td>1762.50</td>\n",
       "    </tr>\n",
       "    <tr>\n",
       "      <th>262</th>\n",
       "      <td>2020-11-06</td>\n",
       "      <td>1759.73</td>\n",
       "    </tr>\n",
       "    <tr>\n",
       "      <th>...</th>\n",
       "      <td>...</td>\n",
       "      <td>...</td>\n",
       "    </tr>\n",
       "    <tr>\n",
       "      <th>4</th>\n",
       "      <td>2021-11-16</td>\n",
       "      <td>2957.52</td>\n",
       "    </tr>\n",
       "    <tr>\n",
       "      <th>3</th>\n",
       "      <td>2021-11-17</td>\n",
       "      <td>2960.94</td>\n",
       "    </tr>\n",
       "    <tr>\n",
       "      <th>2</th>\n",
       "      <td>2021-11-18</td>\n",
       "      <td>2996.77</td>\n",
       "    </tr>\n",
       "    <tr>\n",
       "      <th>1</th>\n",
       "      <td>2021-11-19</td>\n",
       "      <td>2978.53</td>\n",
       "    </tr>\n",
       "    <tr>\n",
       "      <th>0</th>\n",
       "      <td>2021-11-22</td>\n",
       "      <td>2926.04</td>\n",
       "    </tr>\n",
       "  </tbody>\n",
       "</table>\n",
       "<p>267 rows × 2 columns</p>\n",
       "</div>"
      ],
      "text/plain": [
       "          date    GOOGL\n",
       "266 2020-11-02  1624.32\n",
       "265 2020-11-03  1645.66\n",
       "264 2020-11-04  1745.85\n",
       "263 2020-11-05  1762.50\n",
       "262 2020-11-06  1759.73\n",
       "..         ...      ...\n",
       "4   2021-11-16  2957.52\n",
       "3   2021-11-17  2960.94\n",
       "2   2021-11-18  2996.77\n",
       "1   2021-11-19  2978.53\n",
       "0   2021-11-22  2926.04\n",
       "\n",
       "[267 rows x 2 columns]"
      ]
     },
     "execution_count": 311,
     "metadata": {},
     "output_type": "execute_result"
    }
   ],
   "source": [
    "df_stocks_GOOGL = df_stocks_GOOGL[df_stocks_GOOGL[\"date\"]>= min_date]\n",
    "df_stocks_GOOGL"
   ]
  },
  {
   "cell_type": "code",
   "execution_count": 779,
   "id": "27e7b02a",
   "metadata": {},
   "outputs": [],
   "source": [
    "sentiment_GOOGL[\"date\"] = pd.to_datetime(sentiment_GOOGL[\"date\"])"
   ]
  },
  {
   "cell_type": "code",
   "execution_count": 778,
   "id": "2f00f330",
   "metadata": {},
   "outputs": [
    {
     "data": {
      "text/plain": [
       "<AxesSubplot:xlabel='date'>"
      ]
     },
     "execution_count": 778,
     "metadata": {},
     "output_type": "execute_result"
    },
    {
     "data": {
      "image/png": "[encoded data removed]",
      "text/plain": [
       "<Figure size 432x288 with 1 Axes>"
      ]
     },
     "metadata": {
      "needs_background": "light"
     },
     "output_type": "display_data"
    }
   ],
   "source": [
    "sentiment_GOOGL.set_index([\"date\"]).plot()"
   ]
  },
  {
   "cell_type": "code",
   "execution_count": 754,
   "id": "ec33b2ea",
   "metadata": {},
   "outputs": [],
   "source": [
    "merged_df_GOOGL = pd.merge(df_stocks_GOOGL, sentiment[sentiment['ticker'] == 'GOOGL'], on='date', how=\"outer\")\n",
    "#merged_df.drop(columns)\n",
    "merged_df_GOOGL.drop(columns=\"ticker\", inplace=True)"
   ]
  },
  {
   "cell_type": "markdown",
   "id": "5939f07c",
   "metadata": {},
   "source": [
    "## Preprocess and merge data"
   ]
  },
  {
   "cell_type": "code",
   "execution_count": 755,
   "id": "821d8b54",
   "metadata": {},
   "outputs": [
    {
     "data": {
      "text/html": [
       "<div>\n",
       "<style scoped>\n",
       "    .dataframe tbody tr th:only-of-type {\n",
       "        vertical-align: middle;\n",
       "    }\n",
       "\n",
       "    .dataframe tbody tr th {\n",
       "        vertical-align: top;\n",
       "    }\n",
       "\n",
       "    .dataframe thead th {\n",
       "        text-align: right;\n",
       "    }\n",
       "</style>\n",
       "<table border=\"1\" class=\"dataframe\">\n",
       "  <thead>\n",
       "    <tr style=\"text-align: right;\">\n",
       "      <th></th>\n",
       "      <th>date</th>\n",
       "      <th>GOOGL</th>\n",
       "      <th>class_label</th>\n",
       "    </tr>\n",
       "  </thead>\n",
       "  <tbody>\n",
       "    <tr>\n",
       "      <th>0</th>\n",
       "      <td>2020-11-02</td>\n",
       "      <td>1624.32</td>\n",
       "      <td>0.0</td>\n",
       "    </tr>\n",
       "    <tr>\n",
       "      <th>1</th>\n",
       "      <td>2020-11-03</td>\n",
       "      <td>1645.66</td>\n",
       "      <td>0.0</td>\n",
       "    </tr>\n",
       "    <tr>\n",
       "      <th>2</th>\n",
       "      <td>2020-11-04</td>\n",
       "      <td>1745.85</td>\n",
       "      <td>NaN</td>\n",
       "    </tr>\n",
       "    <tr>\n",
       "      <th>3</th>\n",
       "      <td>2020-11-05</td>\n",
       "      <td>1762.50</td>\n",
       "      <td>NaN</td>\n",
       "    </tr>\n",
       "    <tr>\n",
       "      <th>4</th>\n",
       "      <td>2020-11-06</td>\n",
       "      <td>1759.73</td>\n",
       "      <td>0.5</td>\n",
       "    </tr>\n",
       "  </tbody>\n",
       "</table>\n",
       "</div>"
      ],
      "text/plain": [
       "        date    GOOGL  class_label\n",
       "0 2020-11-02  1624.32          0.0\n",
       "1 2020-11-03  1645.66          0.0\n",
       "2 2020-11-04  1745.85          NaN\n",
       "3 2020-11-05  1762.50          NaN\n",
       "4 2020-11-06  1759.73          0.5"
      ]
     },
     "execution_count": 755,
     "metadata": {},
     "output_type": "execute_result"
    }
   ],
   "source": [
    "merged_df_GOOGL.head()"
   ]
  },
  {
   "cell_type": "code",
   "execution_count": 756,
   "id": "3e6306ca",
   "metadata": {},
   "outputs": [
    {
     "data": {
      "text/plain": [
       "113"
      ]
     },
     "execution_count": 756,
     "metadata": {},
     "output_type": "execute_result"
    }
   ],
   "source": [
    "merged_df_GOOGL[\"class_label\"].isna().sum()"
   ]
  },
  {
   "cell_type": "code",
   "execution_count": 757,
   "id": "182e70cd",
   "metadata": {},
   "outputs": [],
   "source": [
    "merged_df_GOOGL.sort_values(by='date', ascending=True, inplace=True)"
   ]
  },
  {
   "cell_type": "code",
   "execution_count": 758,
   "id": "1b66b902",
   "metadata": {},
   "outputs": [],
   "source": [
    "merged_df_GOOGL.reset_index(inplace=True, drop=True)"
   ]
  },
  {
   "cell_type": "code",
   "execution_count": 759,
   "id": "e6214ef1",
   "metadata": {},
   "outputs": [
    {
     "data": {
      "text/plain": [
       "<AxesSubplot:>"
      ]
     },
     "execution_count": 759,
     "metadata": {},
     "output_type": "execute_result"
    },
    {
     "data": {
      "image/png": "[encoded data removed]",
      "text/plain": [
       "<Figure size 432x288 with 1 Axes>"
      ]
     },
     "metadata": {
      "needs_background": "light"
     },
     "output_type": "display_data"
    }
   ],
   "source": [
    "merged_df_GOOGL[\"GOOGL\"].plot()"
   ]
  },
  {
   "cell_type": "code",
   "execution_count": 760,
   "id": "a503aeff",
   "metadata": {},
   "outputs": [],
   "source": [
    "merged_df_GOOGL[\"GOOGL\"].interpolate(method= \"linear\", inplace= True)"
   ]
  },
  {
   "cell_type": "code",
   "execution_count": 761,
   "id": "7d5542c0",
   "metadata": {},
   "outputs": [
    {
     "data": {
      "text/plain": [
       "0      1624.320000\n",
       "1      1645.660000\n",
       "2      1745.850000\n",
       "3      1762.500000\n",
       "4      1759.730000\n",
       "          ...     \n",
       "315    2978.530000\n",
       "316    2961.033333\n",
       "317    2943.536667\n",
       "318    2926.040000\n",
       "319    2926.040000\n",
       "Name: GOOGL, Length: 320, dtype: float64"
      ]
     },
     "execution_count": 761,
     "metadata": {},
     "output_type": "execute_result"
    }
   ],
   "source": [
    "merged_df_GOOGL[\"GOOGL\"]"
   ]
  },
  {
   "cell_type": "code",
   "execution_count": 762,
   "id": "8bb3e65a",
   "metadata": {},
   "outputs": [],
   "source": [
    "#merged_df_GOOGL.fillna(value=-1, inplace=True)"
   ]
  },
  {
   "cell_type": "code",
   "execution_count": 714,
   "id": "ee294626",
   "metadata": {},
   "outputs": [],
   "source": [
    "#merged_df_GOOGL.to_csv(\"merged_df_GOOGL\")"
   ]
  },
  {
   "cell_type": "code",
   "execution_count": 715,
   "id": "c43e3df2",
   "metadata": {},
   "outputs": [],
   "source": [
    "# @Davy start from this point!!!!!"
   ]
  },
  {
   "cell_type": "code",
   "execution_count": 763,
   "id": "7ed390c9",
   "metadata": {},
   "outputs": [],
   "source": [
    "merged_df = merged_df_GOOGL.copy()"
   ]
  },
  {
   "cell_type": "code",
   "execution_count": 764,
   "id": "aa1c79d1",
   "metadata": {},
   "outputs": [
    {
     "data": {
      "text/html": [
       "<div>\n",
       "<style scoped>\n",
       "    .dataframe tbody tr th:only-of-type {\n",
       "        vertical-align: middle;\n",
       "    }\n",
       "\n",
       "    .dataframe tbody tr th {\n",
       "        vertical-align: top;\n",
       "    }\n",
       "\n",
       "    .dataframe thead th {\n",
       "        text-align: right;\n",
       "    }\n",
       "</style>\n",
       "<table border=\"1\" class=\"dataframe\">\n",
       "  <thead>\n",
       "    <tr style=\"text-align: right;\">\n",
       "      <th></th>\n",
       "      <th>date</th>\n",
       "      <th>GOOGL</th>\n",
       "      <th>class_label</th>\n",
       "    </tr>\n",
       "  </thead>\n",
       "  <tbody>\n",
       "    <tr>\n",
       "      <th>315</th>\n",
       "      <td>2021-11-19</td>\n",
       "      <td>2978.530000</td>\n",
       "      <td>0.233333</td>\n",
       "    </tr>\n",
       "    <tr>\n",
       "      <th>316</th>\n",
       "      <td>2021-11-20</td>\n",
       "      <td>2961.033333</td>\n",
       "      <td>0.571429</td>\n",
       "    </tr>\n",
       "    <tr>\n",
       "      <th>317</th>\n",
       "      <td>2021-11-21</td>\n",
       "      <td>2943.536667</td>\n",
       "      <td>0.400000</td>\n",
       "    </tr>\n",
       "    <tr>\n",
       "      <th>318</th>\n",
       "      <td>2021-11-22</td>\n",
       "      <td>2926.040000</td>\n",
       "      <td>0.123077</td>\n",
       "    </tr>\n",
       "    <tr>\n",
       "      <th>319</th>\n",
       "      <td>2021-11-23</td>\n",
       "      <td>2926.040000</td>\n",
       "      <td>0.200000</td>\n",
       "    </tr>\n",
       "  </tbody>\n",
       "</table>\n",
       "</div>"
      ],
      "text/plain": [
       "          date        GOOGL  class_label\n",
       "315 2021-11-19  2978.530000     0.233333\n",
       "316 2021-11-20  2961.033333     0.571429\n",
       "317 2021-11-21  2943.536667     0.400000\n",
       "318 2021-11-22  2926.040000     0.123077\n",
       "319 2021-11-23  2926.040000     0.200000"
      ]
     },
     "execution_count": 764,
     "metadata": {},
     "output_type": "execute_result"
    }
   ],
   "source": [
    "merged_df.tail()"
   ]
  },
  {
   "cell_type": "code",
   "execution_count": 765,
   "id": "ac0b0d77",
   "metadata": {},
   "outputs": [
    {
     "data": {
      "text/plain": [
       "113"
      ]
     },
     "execution_count": 765,
     "metadata": {},
     "output_type": "execute_result"
    }
   ],
   "source": [
    "merged_df[\"class_label\"].isna().sum()"
   ]
  },
  {
   "cell_type": "markdown",
   "id": "71379bde",
   "metadata": {},
   "source": [
    "## get the twitter data"
   ]
  },
  {
   "cell_type": "code",
   "execution_count": 719,
   "id": "3fa21645",
   "metadata": {},
   "outputs": [],
   "source": [
    "#amazon"
   ]
  },
  {
   "cell_type": "code",
   "execution_count": null,
   "id": "b25dfac6",
   "metadata": {},
   "outputs": [],
   "source": [
    "from google.cloud import storage\n",
    "def get_twitter_stocks_sentiment_amazon_from_gcp(nrows=10000, local=False, optimize=False, **kwargs):\n",
    "    \"\"\"method to get the training data (or a portion of it) from google cloud bucket\"\"\"\n",
    "    # Add Client() here\n",
    "    client = storage.Client()\n",
    "    if local:\n",
    "        path = \"data/data_data_10Mill.csv\"\n",
    "    else:\n",
    "        path = \"gs://stock-news-pred-bucket/Amazon1 twitter_stocks_sentiment.csv\"\n",
    "    df = pd.read_csv(path, index_col= False)#add nrows after if you want to select a specific number of row\n",
    "    return df"
   ]
  },
  {
   "cell_type": "code",
   "execution_count": 112,
   "id": "614564ee",
   "metadata": {},
   "outputs": [],
   "source": [
    "#google"
   ]
  },
  {
   "cell_type": "code",
   "execution_count": 600,
   "id": "a822fd74",
   "metadata": {},
   "outputs": [],
   "source": [
    "from google.cloud import storage\n",
    "def get_twitter_stocks_sentiment_google_from_gcp(nrows=10000, local=False, optimize=False, **kwargs):\n",
    "    \"\"\"method to get the training data (or a portion of it) from google cloud bucket\"\"\"\n",
    "    # Add Client() here\n",
    "    client = storage.Client()\n",
    "    if local:\n",
    "        path = \"data/data_data_10Mill.csv\"\n",
    "    else:\n",
    "        path = \"gs://stock-news-pred-bucket/Google1 twitter_stocks_sentiment.csv\"\n",
    "    df = pd.read_csv(path, index_col= False)#add nrows after if you want to select a specific number of row\n",
    "    return df"
   ]
  },
  {
   "cell_type": "code",
   "execution_count": 720,
   "id": "ae3c63f8",
   "metadata": {},
   "outputs": [],
   "source": [
    "df_twitter_googl = get_twitter_stocks_sentiment_google_from_gcp()"
   ]
  },
  {
   "cell_type": "code",
   "execution_count": 721,
   "id": "ca4dae6d",
   "metadata": {},
   "outputs": [],
   "source": [
    "df_twitter_googl.drop(columns=[\"Unnamed: 0\"], inplace=True)"
   ]
  },
  {
   "cell_type": "code",
   "execution_count": 722,
   "id": "f78bc17b",
   "metadata": {},
   "outputs": [],
   "source": [
    "df_twitter_googl[\"date\"] = pd.to_datetime(df_twitter_googl[\"date\"], infer_datetime_format=True)"
   ]
  },
  {
   "cell_type": "code",
   "execution_count": 723,
   "id": "df90d841",
   "metadata": {},
   "outputs": [
    {
     "data": {
      "text/html": [
       "<div>\n",
       "<style scoped>\n",
       "    .dataframe tbody tr th:only-of-type {\n",
       "        vertical-align: middle;\n",
       "    }\n",
       "\n",
       "    .dataframe tbody tr th {\n",
       "        vertical-align: top;\n",
       "    }\n",
       "\n",
       "    .dataframe thead th {\n",
       "        text-align: right;\n",
       "    }\n",
       "</style>\n",
       "<table border=\"1\" class=\"dataframe\">\n",
       "  <thead>\n",
       "    <tr style=\"text-align: right;\">\n",
       "      <th></th>\n",
       "      <th>date</th>\n",
       "      <th>twitter_label</th>\n",
       "    </tr>\n",
       "  </thead>\n",
       "  <tbody>\n",
       "    <tr>\n",
       "      <th>0</th>\n",
       "      <td>2020-11-26</td>\n",
       "      <td>0.000000</td>\n",
       "    </tr>\n",
       "    <tr>\n",
       "      <th>1</th>\n",
       "      <td>2020-11-27</td>\n",
       "      <td>0.833333</td>\n",
       "    </tr>\n",
       "    <tr>\n",
       "      <th>2</th>\n",
       "      <td>2020-11-28</td>\n",
       "      <td>0.200000</td>\n",
       "    </tr>\n",
       "    <tr>\n",
       "      <th>3</th>\n",
       "      <td>2020-11-29</td>\n",
       "      <td>0.000000</td>\n",
       "    </tr>\n",
       "    <tr>\n",
       "      <th>4</th>\n",
       "      <td>2020-11-30</td>\n",
       "      <td>0.700000</td>\n",
       "    </tr>\n",
       "  </tbody>\n",
       "</table>\n",
       "</div>"
      ],
      "text/plain": [
       "        date  twitter_label\n",
       "0 2020-11-26       0.000000\n",
       "1 2020-11-27       0.833333\n",
       "2 2020-11-28       0.200000\n",
       "3 2020-11-29       0.000000\n",
       "4 2020-11-30       0.700000"
      ]
     },
     "execution_count": 723,
     "metadata": {},
     "output_type": "execute_result"
    }
   ],
   "source": [
    "df_twitter_googl.rename(columns={\"class_label\": \"twitter_label\"}, inplace=True)\n",
    "df_twitter_googl.head()"
   ]
  },
  {
   "cell_type": "code",
   "execution_count": 766,
   "id": "c53ffff1",
   "metadata": {},
   "outputs": [
    {
     "data": {
      "text/html": [
       "<div>\n",
       "<style scoped>\n",
       "    .dataframe tbody tr th:only-of-type {\n",
       "        vertical-align: middle;\n",
       "    }\n",
       "\n",
       "    .dataframe tbody tr th {\n",
       "        vertical-align: top;\n",
       "    }\n",
       "\n",
       "    .dataframe thead th {\n",
       "        text-align: right;\n",
       "    }\n",
       "</style>\n",
       "<table border=\"1\" class=\"dataframe\">\n",
       "  <thead>\n",
       "    <tr style=\"text-align: right;\">\n",
       "      <th></th>\n",
       "      <th>date</th>\n",
       "      <th>GOOGL</th>\n",
       "      <th>class_label</th>\n",
       "      <th>twitter_label</th>\n",
       "    </tr>\n",
       "  </thead>\n",
       "  <tbody>\n",
       "    <tr>\n",
       "      <th>373</th>\n",
       "      <td>2021-10-24</td>\n",
       "      <td>NaN</td>\n",
       "      <td>NaN</td>\n",
       "      <td>0.500000</td>\n",
       "    </tr>\n",
       "    <tr>\n",
       "      <th>374</th>\n",
       "      <td>2021-11-06</td>\n",
       "      <td>NaN</td>\n",
       "      <td>NaN</td>\n",
       "      <td>0.000000</td>\n",
       "    </tr>\n",
       "    <tr>\n",
       "      <th>375</th>\n",
       "      <td>2021-11-07</td>\n",
       "      <td>NaN</td>\n",
       "      <td>NaN</td>\n",
       "      <td>0.962963</td>\n",
       "    </tr>\n",
       "    <tr>\n",
       "      <th>376</th>\n",
       "      <td>2021-11-24</td>\n",
       "      <td>NaN</td>\n",
       "      <td>NaN</td>\n",
       "      <td>0.173913</td>\n",
       "    </tr>\n",
       "    <tr>\n",
       "      <th>377</th>\n",
       "      <td>2021-11-25</td>\n",
       "      <td>NaN</td>\n",
       "      <td>NaN</td>\n",
       "      <td>0.428571</td>\n",
       "    </tr>\n",
       "  </tbody>\n",
       "</table>\n",
       "</div>"
      ],
      "text/plain": [
       "          date  GOOGL  class_label  twitter_label\n",
       "373 2021-10-24    NaN          NaN       0.500000\n",
       "374 2021-11-06    NaN          NaN       0.000000\n",
       "375 2021-11-07    NaN          NaN       0.962963\n",
       "376 2021-11-24    NaN          NaN       0.173913\n",
       "377 2021-11-25    NaN          NaN       0.428571"
      ]
     },
     "execution_count": 766,
     "metadata": {},
     "output_type": "execute_result"
    }
   ],
   "source": [
    "merged_twitter_df = pd.merge(merged_df, df_twitter_googl, on='date', how='outer')\n",
    "merged_twitter_df.tail()"
   ]
  },
  {
   "cell_type": "code",
   "execution_count": 767,
   "id": "ce5b7b0f",
   "metadata": {},
   "outputs": [
    {
     "data": {
      "text/html": [
       "<div>\n",
       "<style scoped>\n",
       "    .dataframe tbody tr th:only-of-type {\n",
       "        vertical-align: middle;\n",
       "    }\n",
       "\n",
       "    .dataframe tbody tr th {\n",
       "        vertical-align: top;\n",
       "    }\n",
       "\n",
       "    .dataframe thead th {\n",
       "        text-align: right;\n",
       "    }\n",
       "</style>\n",
       "<table border=\"1\" class=\"dataframe\">\n",
       "  <thead>\n",
       "    <tr style=\"text-align: right;\">\n",
       "      <th></th>\n",
       "      <th>date</th>\n",
       "      <th>GOOGL</th>\n",
       "      <th>class_label</th>\n",
       "      <th>twitter_label</th>\n",
       "    </tr>\n",
       "  </thead>\n",
       "  <tbody>\n",
       "    <tr>\n",
       "      <th>317</th>\n",
       "      <td>2021-11-21</td>\n",
       "      <td>2943.536667</td>\n",
       "      <td>0.400000</td>\n",
       "      <td>0.285714</td>\n",
       "    </tr>\n",
       "    <tr>\n",
       "      <th>318</th>\n",
       "      <td>2021-11-22</td>\n",
       "      <td>2926.040000</td>\n",
       "      <td>0.123077</td>\n",
       "      <td>0.090909</td>\n",
       "    </tr>\n",
       "    <tr>\n",
       "      <th>319</th>\n",
       "      <td>2021-11-23</td>\n",
       "      <td>2926.040000</td>\n",
       "      <td>0.200000</td>\n",
       "      <td>0.076923</td>\n",
       "    </tr>\n",
       "    <tr>\n",
       "      <th>376</th>\n",
       "      <td>2021-11-24</td>\n",
       "      <td>NaN</td>\n",
       "      <td>NaN</td>\n",
       "      <td>0.173913</td>\n",
       "    </tr>\n",
       "    <tr>\n",
       "      <th>377</th>\n",
       "      <td>2021-11-25</td>\n",
       "      <td>NaN</td>\n",
       "      <td>NaN</td>\n",
       "      <td>0.428571</td>\n",
       "    </tr>\n",
       "  </tbody>\n",
       "</table>\n",
       "</div>"
      ],
      "text/plain": [
       "          date        GOOGL  class_label  twitter_label\n",
       "317 2021-11-21  2943.536667     0.400000       0.285714\n",
       "318 2021-11-22  2926.040000     0.123077       0.090909\n",
       "319 2021-11-23  2926.040000     0.200000       0.076923\n",
       "376 2021-11-24          NaN          NaN       0.173913\n",
       "377 2021-11-25          NaN          NaN       0.428571"
      ]
     },
     "execution_count": 767,
     "metadata": {},
     "output_type": "execute_result"
    }
   ],
   "source": [
    "merged_twitter_df = merged_twitter_df.sort_values(by=\"date\")\n",
    "merged_twitter_df.tail()"
   ]
  },
  {
   "cell_type": "code",
   "execution_count": 768,
   "id": "abf4fda9",
   "metadata": {},
   "outputs": [
    {
     "data": {
      "text/plain": [
       "171"
      ]
     },
     "execution_count": 768,
     "metadata": {},
     "output_type": "execute_result"
    }
   ],
   "source": [
    "merged_twitter_df[\"class_label\"].isna().sum()"
   ]
  },
  {
   "cell_type": "code",
   "execution_count": 769,
   "id": "3bcfbebc",
   "metadata": {},
   "outputs": [],
   "source": [
    "merged_twitter_df[\"GOOGL\"].interpolate(method= \"linear\", inplace= True)"
   ]
  },
  {
   "cell_type": "code",
   "execution_count": 770,
   "id": "d0d7d1cc",
   "metadata": {},
   "outputs": [
    {
     "data": {
      "text/plain": [
       "<AxesSubplot:xlabel='date'>"
      ]
     },
     "execution_count": 770,
     "metadata": {},
     "output_type": "execute_result"
    },
    {
     "data": {
      "image/png": "[encoded data removed]",
      "text/plain": [
       "<Figure size 432x288 with 1 Axes>"
      ]
     },
     "metadata": {
      "needs_background": "light"
     },
     "output_type": "display_data"
    }
   ],
   "source": [
    "merged_twitter_df.set_index([\"date\"]).plot()"
   ]
  },
  {
   "cell_type": "code",
   "execution_count": 771,
   "id": "76c49111",
   "metadata": {},
   "outputs": [
    {
     "data": {
      "text/html": [
       "<div>\n",
       "<style scoped>\n",
       "    .dataframe tbody tr th:only-of-type {\n",
       "        vertical-align: middle;\n",
       "    }\n",
       "\n",
       "    .dataframe tbody tr th {\n",
       "        vertical-align: top;\n",
       "    }\n",
       "\n",
       "    .dataframe thead th {\n",
       "        text-align: right;\n",
       "    }\n",
       "</style>\n",
       "<table border=\"1\" class=\"dataframe\">\n",
       "  <thead>\n",
       "    <tr style=\"text-align: right;\">\n",
       "      <th></th>\n",
       "      <th>date</th>\n",
       "      <th>GOOGL</th>\n",
       "      <th>class_label</th>\n",
       "      <th>twitter_label</th>\n",
       "    </tr>\n",
       "  </thead>\n",
       "  <tbody>\n",
       "    <tr>\n",
       "      <th>317</th>\n",
       "      <td>2021-11-21</td>\n",
       "      <td>2943.536667</td>\n",
       "      <td>0.400000</td>\n",
       "      <td>0.285714</td>\n",
       "    </tr>\n",
       "    <tr>\n",
       "      <th>318</th>\n",
       "      <td>2021-11-22</td>\n",
       "      <td>2926.040000</td>\n",
       "      <td>0.123077</td>\n",
       "      <td>0.090909</td>\n",
       "    </tr>\n",
       "    <tr>\n",
       "      <th>319</th>\n",
       "      <td>2021-11-23</td>\n",
       "      <td>2926.040000</td>\n",
       "      <td>0.200000</td>\n",
       "      <td>0.076923</td>\n",
       "    </tr>\n",
       "    <tr>\n",
       "      <th>376</th>\n",
       "      <td>2021-11-24</td>\n",
       "      <td>2926.040000</td>\n",
       "      <td>NaN</td>\n",
       "      <td>0.173913</td>\n",
       "    </tr>\n",
       "    <tr>\n",
       "      <th>377</th>\n",
       "      <td>2021-11-25</td>\n",
       "      <td>2926.040000</td>\n",
       "      <td>NaN</td>\n",
       "      <td>0.428571</td>\n",
       "    </tr>\n",
       "  </tbody>\n",
       "</table>\n",
       "</div>"
      ],
      "text/plain": [
       "          date        GOOGL  class_label  twitter_label\n",
       "317 2021-11-21  2943.536667     0.400000       0.285714\n",
       "318 2021-11-22  2926.040000     0.123077       0.090909\n",
       "319 2021-11-23  2926.040000     0.200000       0.076923\n",
       "376 2021-11-24  2926.040000          NaN       0.173913\n",
       "377 2021-11-25  2926.040000          NaN       0.428571"
      ]
     },
     "execution_count": 771,
     "metadata": {},
     "output_type": "execute_result"
    }
   ],
   "source": [
    "merged_twitter_df.tail()"
   ]
  },
  {
   "cell_type": "code",
   "execution_count": 772,
   "id": "354c432e",
   "metadata": {},
   "outputs": [],
   "source": [
    "#put the data which dont have to be scaled in the index\n",
    "# THERE IS NO NEED TO DO SO, YOU CAN SCALE A PARTICULAR COLUMN\n",
    "# df_temp = merged_df.set_index([\"date\", \"class_label\"])\n",
    "# df_temp = df_temp[[\"AMZN\"]]\n",
    "# df_temp.shape\n",
    "# df_temp"
   ]
  },
  {
   "cell_type": "markdown",
   "id": "09ff6a74",
   "metadata": {},
   "source": [
    "### Scaling stocks"
   ]
  },
  {
   "cell_type": "code",
   "execution_count": 773,
   "id": "3421b558",
   "metadata": {},
   "outputs": [
    {
     "data": {
      "text/plain": [
       "Index(['date', 'GOOGL', 'class_label', 'twitter_label'], dtype='object')"
      ]
     },
     "execution_count": 773,
     "metadata": {},
     "output_type": "execute_result"
    }
   ],
   "source": [
    "merged_twitter_df.columns"
   ]
  },
  {
   "cell_type": "code",
   "execution_count": 774,
   "id": "af614fa5",
   "metadata": {},
   "outputs": [
    {
     "name": "stdout",
     "output_type": "stream",
     "text": [
      "minimum value = [1624.32]\n",
      "maximum value = [2996.77]\n"
     ]
    }
   ],
   "source": [
    "from sklearn.preprocessing import StandardScaler, MinMaxScaler\n",
    "\n",
    "# INSTANTIATE THE SCALER\n",
    "scaler = MinMaxScaler()\n",
    "\n",
    "# FIT IT ONLY ON AMZN\n",
    "scaler.fit(merged_twitter_df[['GOOGL']])\n",
    "\n",
    "# YOU NOW HAVE ACCESS TO THE MIN AND MAX OF AMZN\n",
    "print(f\"minimum value = {scaler.data_min_}\")\n",
    "print(f\"maximum value = {scaler.data_max_}\")"
   ]
  },
  {
   "cell_type": "code",
   "execution_count": 775,
   "id": "efe071c4",
   "metadata": {},
   "outputs": [
    {
     "data": {
      "text/html": [
       "<div>\n",
       "<style scoped>\n",
       "    .dataframe tbody tr th:only-of-type {\n",
       "        vertical-align: middle;\n",
       "    }\n",
       "\n",
       "    .dataframe tbody tr th {\n",
       "        vertical-align: top;\n",
       "    }\n",
       "\n",
       "    .dataframe thead th {\n",
       "        text-align: right;\n",
       "    }\n",
       "</style>\n",
       "<table border=\"1\" class=\"dataframe\">\n",
       "  <thead>\n",
       "    <tr style=\"text-align: right;\">\n",
       "      <th></th>\n",
       "      <th>date</th>\n",
       "      <th>GOOGL</th>\n",
       "      <th>class_label</th>\n",
       "      <th>twitter_label</th>\n",
       "    </tr>\n",
       "  </thead>\n",
       "  <tbody>\n",
       "    <tr>\n",
       "      <th>374</th>\n",
       "      <td>2021-11-06</td>\n",
       "      <td>0.986494</td>\n",
       "      <td>NaN</td>\n",
       "      <td>0.000000</td>\n",
       "    </tr>\n",
       "    <tr>\n",
       "      <th>375</th>\n",
       "      <td>2021-11-07</td>\n",
       "      <td>0.987363</td>\n",
       "      <td>NaN</td>\n",
       "      <td>0.962963</td>\n",
       "    </tr>\n",
       "    <tr>\n",
       "      <th>304</th>\n",
       "      <td>2021-11-08</td>\n",
       "      <td>0.988233</td>\n",
       "      <td>NaN</td>\n",
       "      <td>0.666667</td>\n",
       "    </tr>\n",
       "    <tr>\n",
       "      <th>305</th>\n",
       "      <td>2021-11-09</td>\n",
       "      <td>0.986593</td>\n",
       "      <td>0.500000</td>\n",
       "      <td>0.375000</td>\n",
       "    </tr>\n",
       "    <tr>\n",
       "      <th>306</th>\n",
       "      <td>2021-11-10</td>\n",
       "      <td>0.942512</td>\n",
       "      <td>0.333333</td>\n",
       "      <td>0.230769</td>\n",
       "    </tr>\n",
       "    <tr>\n",
       "      <th>307</th>\n",
       "      <td>2021-11-11</td>\n",
       "      <td>0.940661</td>\n",
       "      <td>0.285714</td>\n",
       "      <td>0.333333</td>\n",
       "    </tr>\n",
       "    <tr>\n",
       "      <th>308</th>\n",
       "      <td>2021-11-12</td>\n",
       "      <td>0.983089</td>\n",
       "      <td>0.642857</td>\n",
       "      <td>0.400000</td>\n",
       "    </tr>\n",
       "    <tr>\n",
       "      <th>309</th>\n",
       "      <td>2021-11-13</td>\n",
       "      <td>0.981991</td>\n",
       "      <td>0.000000</td>\n",
       "      <td>0.000000</td>\n",
       "    </tr>\n",
       "    <tr>\n",
       "      <th>310</th>\n",
       "      <td>2021-11-14</td>\n",
       "      <td>0.980893</td>\n",
       "      <td>0.500000</td>\n",
       "      <td>0.500000</td>\n",
       "    </tr>\n",
       "    <tr>\n",
       "      <th>311</th>\n",
       "      <td>2021-11-15</td>\n",
       "      <td>0.979795</td>\n",
       "      <td>0.222222</td>\n",
       "      <td>0.166667</td>\n",
       "    </tr>\n",
       "    <tr>\n",
       "      <th>312</th>\n",
       "      <td>2021-11-16</td>\n",
       "      <td>0.971402</td>\n",
       "      <td>0.184783</td>\n",
       "      <td>0.400000</td>\n",
       "    </tr>\n",
       "    <tr>\n",
       "      <th>313</th>\n",
       "      <td>2021-11-17</td>\n",
       "      <td>0.973893</td>\n",
       "      <td>0.222222</td>\n",
       "      <td>0.333333</td>\n",
       "    </tr>\n",
       "    <tr>\n",
       "      <th>314</th>\n",
       "      <td>2021-11-18</td>\n",
       "      <td>1.000000</td>\n",
       "      <td>0.255814</td>\n",
       "      <td>0.250000</td>\n",
       "    </tr>\n",
       "    <tr>\n",
       "      <th>315</th>\n",
       "      <td>2021-11-19</td>\n",
       "      <td>0.986710</td>\n",
       "      <td>0.233333</td>\n",
       "      <td>0.142857</td>\n",
       "    </tr>\n",
       "    <tr>\n",
       "      <th>316</th>\n",
       "      <td>2021-11-20</td>\n",
       "      <td>0.973961</td>\n",
       "      <td>0.571429</td>\n",
       "      <td>0.000000</td>\n",
       "    </tr>\n",
       "    <tr>\n",
       "      <th>317</th>\n",
       "      <td>2021-11-21</td>\n",
       "      <td>0.961213</td>\n",
       "      <td>0.400000</td>\n",
       "      <td>0.285714</td>\n",
       "    </tr>\n",
       "    <tr>\n",
       "      <th>318</th>\n",
       "      <td>2021-11-22</td>\n",
       "      <td>0.948464</td>\n",
       "      <td>0.123077</td>\n",
       "      <td>0.090909</td>\n",
       "    </tr>\n",
       "    <tr>\n",
       "      <th>319</th>\n",
       "      <td>2021-11-23</td>\n",
       "      <td>0.948464</td>\n",
       "      <td>0.200000</td>\n",
       "      <td>0.076923</td>\n",
       "    </tr>\n",
       "    <tr>\n",
       "      <th>376</th>\n",
       "      <td>2021-11-24</td>\n",
       "      <td>0.948464</td>\n",
       "      <td>NaN</td>\n",
       "      <td>0.173913</td>\n",
       "    </tr>\n",
       "    <tr>\n",
       "      <th>377</th>\n",
       "      <td>2021-11-25</td>\n",
       "      <td>0.948464</td>\n",
       "      <td>NaN</td>\n",
       "      <td>0.428571</td>\n",
       "    </tr>\n",
       "  </tbody>\n",
       "</table>\n",
       "</div>"
      ],
      "text/plain": [
       "          date     GOOGL  class_label  twitter_label\n",
       "374 2021-11-06  0.986494          NaN       0.000000\n",
       "375 2021-11-07  0.987363          NaN       0.962963\n",
       "304 2021-11-08  0.988233          NaN       0.666667\n",
       "305 2021-11-09  0.986593     0.500000       0.375000\n",
       "306 2021-11-10  0.942512     0.333333       0.230769\n",
       "307 2021-11-11  0.940661     0.285714       0.333333\n",
       "308 2021-11-12  0.983089     0.642857       0.400000\n",
       "309 2021-11-13  0.981991     0.000000       0.000000\n",
       "310 2021-11-14  0.980893     0.500000       0.500000\n",
       "311 2021-11-15  0.979795     0.222222       0.166667\n",
       "312 2021-11-16  0.971402     0.184783       0.400000\n",
       "313 2021-11-17  0.973893     0.222222       0.333333\n",
       "314 2021-11-18  1.000000     0.255814       0.250000\n",
       "315 2021-11-19  0.986710     0.233333       0.142857\n",
       "316 2021-11-20  0.973961     0.571429       0.000000\n",
       "317 2021-11-21  0.961213     0.400000       0.285714\n",
       "318 2021-11-22  0.948464     0.123077       0.090909\n",
       "319 2021-11-23  0.948464     0.200000       0.076923\n",
       "376 2021-11-24  0.948464          NaN       0.173913\n",
       "377 2021-11-25  0.948464          NaN       0.428571"
      ]
     },
     "execution_count": 775,
     "metadata": {},
     "output_type": "execute_result"
    }
   ],
   "source": [
    "# LET'S CREATE A COPY OF MERGED_DF\n",
    "data_scaled = merged_twitter_df.copy()\n",
    "\n",
    "# AND TRANSFORM ONLY THE AMZN COLUMN\n",
    "data_scaled[\"GOOGL\"] = scaler.transform(data_scaled[['GOOGL']])\n",
    "\n",
    "# NOW LOOK AT DATA_SCALED\n",
    "data_scaled.tail(20)"
   ]
  },
  {
   "cell_type": "code",
   "execution_count": null,
   "id": "4aca3c68",
   "metadata": {},
   "outputs": [],
   "source": []
  },
  {
   "cell_type": "markdown",
   "id": "ff1774c1",
   "metadata": {},
   "source": [
    "## prepare it for model LSTM"
   ]
  },
  {
   "cell_type": "code",
   "execution_count": 776,
   "id": "0d260456",
   "metadata": {},
   "outputs": [],
   "source": [
    "# SETTING THE DATE AS INDEX\n",
    "data_scaled.set_index([\"date\"], inplace= True)"
   ]
  },
  {
   "cell_type": "code",
   "execution_count": 777,
   "id": "71a0b039",
   "metadata": {},
   "outputs": [
    {
     "data": {
      "image/png": "[encoded data removed]",
      "text/plain": [
       "<Figure size 1224x144 with 1 Axes>"
      ]
     },
     "metadata": {
      "needs_background": "light"
     },
     "output_type": "display_data"
    },
    {
     "data": {
      "image/png": "[encoded data removed]",
      "text/plain": [
       "<Figure size 1224x144 with 1 Axes>"
      ]
     },
     "metadata": {
      "needs_background": "light"
     },
     "output_type": "display_data"
    },
    {
     "data": {
      "image/png": "[encoded data removed]",
      "text/plain": [
       "<Figure size 1224x144 with 1 Axes>"
      ]
     },
     "metadata": {
      "needs_background": "light"
     },
     "output_type": "display_data"
    }
   ],
   "source": [
    "import matplotlib.pyplot as plt\n",
    "%matplotlib inline\n",
    "\n",
    "for column in data_scaled.columns:\n",
    "    if column == \"GOOGL\": color = \"orange\"\n",
    "    if column == \"class_label\": color = \"blue\" \n",
    "    if column == \"twitter_label\": color = \"purple\" \n",
    "    data_scaled[column].plot(figsize=(17, 2), color=color)\n",
    "    plt.title(column)\n",
    "    plt.show()"
   ]
  },
  {
   "cell_type": "code",
   "execution_count": 198,
   "id": "05b7988c",
   "metadata": {},
   "outputs": [
    {
     "data": {
      "text/html": [
       "<div>\n",
       "<style scoped>\n",
       "    .dataframe tbody tr th:only-of-type {\n",
       "        vertical-align: middle;\n",
       "    }\n",
       "\n",
       "    .dataframe tbody tr th {\n",
       "        vertical-align: top;\n",
       "    }\n",
       "\n",
       "    .dataframe thead th {\n",
       "        text-align: right;\n",
       "    }\n",
       "</style>\n",
       "<table border=\"1\" class=\"dataframe\">\n",
       "  <thead>\n",
       "    <tr style=\"text-align: right;\">\n",
       "      <th></th>\n",
       "      <th>GOOGL</th>\n",
       "      <th>class_label</th>\n",
       "      <th>twitter_label</th>\n",
       "    </tr>\n",
       "  </thead>\n",
       "  <tbody>\n",
       "    <tr>\n",
       "      <th>count</th>\n",
       "      <td>884.000000</td>\n",
       "      <td>884.000000</td>\n",
       "      <td>824.000000</td>\n",
       "    </tr>\n",
       "    <tr>\n",
       "      <th>mean</th>\n",
       "      <td>0.526089</td>\n",
       "      <td>0.305487</td>\n",
       "      <td>0.338004</td>\n",
       "    </tr>\n",
       "    <tr>\n",
       "      <th>std</th>\n",
       "      <td>0.279746</td>\n",
       "      <td>0.281280</td>\n",
       "      <td>0.286733</td>\n",
       "    </tr>\n",
       "    <tr>\n",
       "      <th>min</th>\n",
       "      <td>0.000000</td>\n",
       "      <td>-1.000000</td>\n",
       "      <td>0.000000</td>\n",
       "    </tr>\n",
       "    <tr>\n",
       "      <th>25%</th>\n",
       "      <td>0.310161</td>\n",
       "      <td>0.155128</td>\n",
       "      <td>0.083333</td>\n",
       "    </tr>\n",
       "    <tr>\n",
       "      <th>50%</th>\n",
       "      <td>0.523706</td>\n",
       "      <td>0.285714</td>\n",
       "      <td>0.294737</td>\n",
       "    </tr>\n",
       "    <tr>\n",
       "      <th>75%</th>\n",
       "      <td>0.798674</td>\n",
       "      <td>0.434783</td>\n",
       "      <td>0.500000</td>\n",
       "    </tr>\n",
       "    <tr>\n",
       "      <th>max</th>\n",
       "      <td>1.000000</td>\n",
       "      <td>1.000000</td>\n",
       "      <td>1.000000</td>\n",
       "    </tr>\n",
       "  </tbody>\n",
       "</table>\n",
       "</div>"
      ],
      "text/plain": [
       "            GOOGL  class_label  twitter_label\n",
       "count  884.000000   884.000000     824.000000\n",
       "mean     0.526089     0.305487       0.338004\n",
       "std      0.279746     0.281280       0.286733\n",
       "min      0.000000    -1.000000       0.000000\n",
       "25%      0.310161     0.155128       0.083333\n",
       "50%      0.523706     0.285714       0.294737\n",
       "75%      0.798674     0.434783       0.500000\n",
       "max      1.000000     1.000000       1.000000"
      ]
     },
     "execution_count": 198,
     "metadata": {},
     "output_type": "execute_result"
    }
   ],
   "source": [
    "data_scaled.describe()"
   ]
  },
  {
   "cell_type": "code",
   "execution_count": 213,
   "id": "81db2ac7",
   "metadata": {},
   "outputs": [
    {
     "data": {
      "text/html": [
       "<div>\n",
       "<style scoped>\n",
       "    .dataframe tbody tr th:only-of-type {\n",
       "        vertical-align: middle;\n",
       "    }\n",
       "\n",
       "    .dataframe tbody tr th {\n",
       "        vertical-align: top;\n",
       "    }\n",
       "\n",
       "    .dataframe thead th {\n",
       "        text-align: right;\n",
       "    }\n",
       "</style>\n",
       "<table border=\"1\" class=\"dataframe\">\n",
       "  <thead>\n",
       "    <tr style=\"text-align: right;\">\n",
       "      <th></th>\n",
       "      <th>GOOGL</th>\n",
       "      <th>class_label</th>\n",
       "      <th>twitter_label</th>\n",
       "    </tr>\n",
       "    <tr>\n",
       "      <th>date</th>\n",
       "      <th></th>\n",
       "      <th></th>\n",
       "      <th></th>\n",
       "    </tr>\n",
       "  </thead>\n",
       "  <tbody>\n",
       "    <tr>\n",
       "      <th>2020-11-02</th>\n",
       "      <td>0.000000</td>\n",
       "      <td>0.333333</td>\n",
       "      <td>NaN</td>\n",
       "    </tr>\n",
       "    <tr>\n",
       "      <th>2020-11-02</th>\n",
       "      <td>0.000000</td>\n",
       "      <td>0.000000</td>\n",
       "      <td>NaN</td>\n",
       "    </tr>\n",
       "    <tr>\n",
       "      <th>2020-11-03</th>\n",
       "      <td>0.015549</td>\n",
       "      <td>0.000000</td>\n",
       "      <td>NaN</td>\n",
       "    </tr>\n",
       "    <tr>\n",
       "      <th>2020-11-04</th>\n",
       "      <td>0.088550</td>\n",
       "      <td>-1.000000</td>\n",
       "      <td>NaN</td>\n",
       "    </tr>\n",
       "    <tr>\n",
       "      <th>2020-11-05</th>\n",
       "      <td>0.100681</td>\n",
       "      <td>-1.000000</td>\n",
       "      <td>NaN</td>\n",
       "    </tr>\n",
       "    <tr>\n",
       "      <th>...</th>\n",
       "      <td>...</td>\n",
       "      <td>...</td>\n",
       "      <td>...</td>\n",
       "    </tr>\n",
       "    <tr>\n",
       "      <th>2021-11-21</th>\n",
       "      <td>0.986710</td>\n",
       "      <td>0.461538</td>\n",
       "      <td>0.285714</td>\n",
       "    </tr>\n",
       "    <tr>\n",
       "      <th>2021-11-22</th>\n",
       "      <td>0.948464</td>\n",
       "      <td>0.123077</td>\n",
       "      <td>0.090909</td>\n",
       "    </tr>\n",
       "    <tr>\n",
       "      <th>2021-11-22</th>\n",
       "      <td>0.948464</td>\n",
       "      <td>0.109375</td>\n",
       "      <td>0.090909</td>\n",
       "    </tr>\n",
       "    <tr>\n",
       "      <th>2021-11-23</th>\n",
       "      <td>0.948464</td>\n",
       "      <td>0.133333</td>\n",
       "      <td>0.076923</td>\n",
       "    </tr>\n",
       "    <tr>\n",
       "      <th>2021-11-23</th>\n",
       "      <td>0.948464</td>\n",
       "      <td>0.200000</td>\n",
       "      <td>0.076923</td>\n",
       "    </tr>\n",
       "  </tbody>\n",
       "</table>\n",
       "<p>796 rows × 3 columns</p>\n",
       "</div>"
      ],
      "text/plain": [
       "               GOOGL  class_label  twitter_label\n",
       "date                                            \n",
       "2020-11-02  0.000000     0.333333            NaN\n",
       "2020-11-02  0.000000     0.000000            NaN\n",
       "2020-11-03  0.015549     0.000000            NaN\n",
       "2020-11-04  0.088550    -1.000000            NaN\n",
       "2020-11-05  0.100681    -1.000000            NaN\n",
       "...              ...          ...            ...\n",
       "2021-11-21  0.986710     0.461538       0.285714\n",
       "2021-11-22  0.948464     0.123077       0.090909\n",
       "2021-11-22  0.948464     0.109375       0.090909\n",
       "2021-11-23  0.948464     0.133333       0.076923\n",
       "2021-11-23  0.948464     0.200000       0.076923\n",
       "\n",
       "[796 rows x 3 columns]"
      ]
     },
     "execution_count": 213,
     "metadata": {},
     "output_type": "execute_result"
    }
   ],
   "source": [
    "data_scaled.drop_duplicates()"
   ]
  },
  {
   "cell_type": "markdown",
   "id": "0130e5c6",
   "metadata": {},
   "source": [
    "X.shape = number of sequence?, 30, 2 <br>\n",
    "y.shape = number of sequence?"
   ]
  },
  {
   "cell_type": "code",
   "execution_count": 199,
   "id": "cca89c41",
   "metadata": {},
   "outputs": [],
   "source": [
    "import numpy as np\n",
    "\n",
    "def subsample_sequence(df, length, HORIZON=0):\n",
    "    \"\"\"\n",
    "    Given the initial dataframe `df`, return a shorter dataframe sequence of length `length`.\n",
    "    This shorter sequence should be selected at random\n",
    "    \"\"\"\n",
    "    last_possible = df.shape[0] - length\n",
    "    \n",
    "    random_start = np.random.randint(0, last_possible)\n",
    "    df_sample = df[random_start: random_start+length+HORIZON]\n",
    "    # X_sample = df_sample[random_start: random_start+length]\n",
    "    # y_sample = df_sample[random_start + length:]\n",
    "    return df_sample"
   ]
  },
  {
   "cell_type": "code",
   "execution_count": 201,
   "id": "b6cf5892",
   "metadata": {},
   "outputs": [],
   "source": [
    "def split_subsample_sequence(df, length, ticker):\n",
    "    '''Create one single random (X,y) pair'''\n",
    "\n",
    "    df_subsample = subsample_sequence(df, length)\n",
    "    y_sample = df_subsample.iloc[length -1][ticker] # -1 means the future window\n",
    "    \n",
    "    X_sample = df_subsample[0:length -1]# -1 means the future window\n",
    "    X_sample = X_sample.values\n",
    "\n",
    "    return np.array(X_sample), np.array(y_sample)"
   ]
  },
  {
   "cell_type": "code",
   "execution_count": 202,
   "id": "c4ad7d58",
   "metadata": {},
   "outputs": [],
   "source": [
    "def compute_means(X, df_mean):\n",
    "    # Compute means of X\n",
    "    means = X.mean()\n",
    "    \n",
    "    # Case if ALL values of at least one feature of X are NaN, then reaplace with the whole df_mean\n",
    "    if means.isna().sum() != 0:\n",
    "        means.fillna(df_mean, inplace=True)\n",
    "        \n",
    "    return means\n",
    "\n",
    "def split_subsample_sequence(df, length, ticker, df_mean=None):\n",
    "    '''Return one single random sample (X_sample, y_sample) containing one sequence each of length `length`'''\n",
    "    # Trick to save time during potential recursive calls\n",
    "    if df_mean is None:\n",
    "        df_mean = df.mean()\n",
    "\n",
    "    df_subsample = subsample_sequence(df, length)\n",
    "    \n",
    "    y_sample = df_subsample.iloc[length-1][ticker]\n",
    "    # Case y_sample is NaN: redraw !\n",
    "    if y_sample != y_sample: # A value is not equal to itself only for NaN\n",
    "            X_sample, y_sample = split_subsample_sequence(df, length, df_mean) # Recursive call !!!\n",
    "            return np.array(X_sample), np.array(y_sample)\n",
    "\n",
    "    X_sample = df_subsample[0:length-1]\n",
    "    # Case X_sample has some NaNs\n",
    "    if X_sample.isna().sum().sum() !=0:\n",
    "        X_sample = X_sample.fillna(compute_means(X_sample, df_mean))\n",
    "        X_sample = X_sample.values\n",
    "        \n",
    "    return np.array(X_sample), np.array(y_sample)"
   ]
  },
  {
   "cell_type": "code",
   "execution_count": 203,
   "id": "265c8429",
   "metadata": {},
   "outputs": [],
   "source": [
    "def get_X_y(df, n_sequences, length, ticker): #length = 30, n_sequence = 12, df(12month)\n",
    "    '''Return a list of samples (X, y)'''\n",
    "    \n",
    "    X, y = [], []\n",
    "\n",
    "    for i in range(n_sequences):\n",
    "        (xi, yi) = split_subsample_sequence(df, length, ticker)\n",
    "        X.append(xi)\n",
    "        y.append(yi)\n",
    "        \n",
    "    X = np.array(X)\n",
    "    y = np.array(y)\n",
    "\n",
    "    return X, y"
   ]
  },
  {
   "cell_type": "code",
   "execution_count": 204,
   "id": "5791bda7",
   "metadata": {},
   "outputs": [],
   "source": [
    "##TESTING THE GET X Y FUNCTION\n",
    "\n",
    "df = data_scaled\n",
    "n_sequences = 7\n",
    "length = 30\n",
    "\n",
    "X, y = get_X_y(df, n_sequences, length,\"GOOGL\" )"
   ]
  },
  {
   "cell_type": "code",
   "execution_count": 205,
   "id": "f8cca358",
   "metadata": {},
   "outputs": [
    {
     "data": {
      "text/plain": [
       "((7, 29, 3), (7,))"
      ]
     },
     "execution_count": 205,
     "metadata": {},
     "output_type": "execute_result"
    }
   ],
   "source": [
    "X.shape, y.shape"
   ]
  },
  {
   "cell_type": "code",
   "execution_count": 206,
   "id": "58e3e37b",
   "metadata": {},
   "outputs": [],
   "source": [
    "# import matplotlib.pyplot as plt\n",
    "# fig, axs = plt.subplots(12, figsize=[20,100])\n",
    "# # fig.suptitle('Vertically stacked subplots')\n",
    "\n",
    "# for i in range(len(df_list[0])):\n",
    "#     axs[i].plot(df_list[0][i])"
   ]
  },
  {
   "cell_type": "markdown",
   "id": "e848aff5",
   "metadata": {},
   "source": [
    "## Train test split"
   ]
  },
  {
   "cell_type": "code",
   "execution_count": 207,
   "id": "24995e9c",
   "metadata": {},
   "outputs": [],
   "source": [
    "# len of train dataset should be 80%"
   ]
  },
  {
   "cell_type": "code",
   "execution_count": 208,
   "id": "7f073a66",
   "metadata": {},
   "outputs": [
    {
     "name": "stdout",
     "output_type": "stream",
     "text": [
      "(707, 3)\n",
      "(177, 3)\n"
     ]
    }
   ],
   "source": [
    "len_ = int(0.8*data_scaled.shape[0])\n",
    "df_train = data_scaled[:len_]\n",
    "df_test = data_scaled[len_:]\n",
    "print(df_train.shape)\n",
    "print(df_test.shape)"
   ]
  },
  {
   "cell_type": "code",
   "execution_count": 209,
   "id": "26d1f409",
   "metadata": {},
   "outputs": [
    {
     "data": {
      "text/html": [
       "<div>\n",
       "<style scoped>\n",
       "    .dataframe tbody tr th:only-of-type {\n",
       "        vertical-align: middle;\n",
       "    }\n",
       "\n",
       "    .dataframe tbody tr th {\n",
       "        vertical-align: top;\n",
       "    }\n",
       "\n",
       "    .dataframe thead th {\n",
       "        text-align: right;\n",
       "    }\n",
       "</style>\n",
       "<table border=\"1\" class=\"dataframe\">\n",
       "  <thead>\n",
       "    <tr style=\"text-align: right;\">\n",
       "      <th></th>\n",
       "      <th>GOOGL</th>\n",
       "      <th>class_label</th>\n",
       "      <th>twitter_label</th>\n",
       "    </tr>\n",
       "    <tr>\n",
       "      <th>date</th>\n",
       "      <th></th>\n",
       "      <th></th>\n",
       "      <th></th>\n",
       "    </tr>\n",
       "  </thead>\n",
       "  <tbody>\n",
       "    <tr>\n",
       "      <th>2020-11-02</th>\n",
       "      <td>0.000000</td>\n",
       "      <td>0.333333</td>\n",
       "      <td>NaN</td>\n",
       "    </tr>\n",
       "    <tr>\n",
       "      <th>2020-11-02</th>\n",
       "      <td>0.000000</td>\n",
       "      <td>0.000000</td>\n",
       "      <td>NaN</td>\n",
       "    </tr>\n",
       "    <tr>\n",
       "      <th>2020-11-02</th>\n",
       "      <td>0.000000</td>\n",
       "      <td>0.000000</td>\n",
       "      <td>NaN</td>\n",
       "    </tr>\n",
       "    <tr>\n",
       "      <th>2020-11-03</th>\n",
       "      <td>0.015549</td>\n",
       "      <td>0.000000</td>\n",
       "      <td>NaN</td>\n",
       "    </tr>\n",
       "    <tr>\n",
       "      <th>2020-11-03</th>\n",
       "      <td>0.015549</td>\n",
       "      <td>0.000000</td>\n",
       "      <td>NaN</td>\n",
       "    </tr>\n",
       "  </tbody>\n",
       "</table>\n",
       "</div>"
      ],
      "text/plain": [
       "               GOOGL  class_label  twitter_label\n",
       "date                                            \n",
       "2020-11-02  0.000000     0.333333            NaN\n",
       "2020-11-02  0.000000     0.000000            NaN\n",
       "2020-11-02  0.000000     0.000000            NaN\n",
       "2020-11-03  0.015549     0.000000            NaN\n",
       "2020-11-03  0.015549     0.000000            NaN"
      ]
     },
     "execution_count": 209,
     "metadata": {},
     "output_type": "execute_result"
    }
   ],
   "source": [
    "df_train.head()"
   ]
  },
  {
   "cell_type": "code",
   "execution_count": 36,
   "id": "685ec4f0",
   "metadata": {},
   "outputs": [],
   "source": [
    "X_train, y_train = get_X_y(df_train, 200, 30) # 200 sequences of a length of 30 days\n",
    "X_test, y_test = get_X_y(df_test, 100, 30) # 200 sequences of a length of 30 days"
   ]
  },
  {
   "cell_type": "code",
   "execution_count": 37,
   "id": "88cf3d37",
   "metadata": {},
   "outputs": [
    {
     "data": {
      "text/plain": [
       "((200, 29, 3), (200,))"
      ]
     },
     "execution_count": 37,
     "metadata": {},
     "output_type": "execute_result"
    }
   ],
   "source": [
    "X_train.shape, y_train.shape"
   ]
  },
  {
   "cell_type": "code",
   "execution_count": 38,
   "id": "6584a055",
   "metadata": {},
   "outputs": [
    {
     "data": {
      "text/plain": [
       "((100, 29, 3), (100,))"
      ]
     },
     "execution_count": 38,
     "metadata": {},
     "output_type": "execute_result"
    }
   ],
   "source": [
    "X_test.shape, y_test.shape"
   ]
  },
  {
   "cell_type": "markdown",
   "id": "c6e63c00",
   "metadata": {},
   "source": [
    "## predict a baseline"
   ]
  },
  {
   "cell_type": "code",
   "execution_count": 39,
   "id": "e93a0bd7",
   "metadata": {},
   "outputs": [
    {
     "name": "stdout",
     "output_type": "stream",
     "text": [
      "Benchmark MAPE on the test set : 27 %\n"
     ]
    }
   ],
   "source": [
    "# We here decide to predict the mean of the train set y_train\n",
    "y_pred = np.mean(y_train)\n",
    "bench_res = np.mean(np.abs(y_pred - y_test)/y_test)*100\n",
    "\n",
    "print(f'Benchmark MAPE on the test set : {bench_res:.0f} %')"
   ]
  },
  {
   "cell_type": "code",
   "execution_count": 40,
   "id": "22e52f38",
   "metadata": {},
   "outputs": [
    {
     "name": "stdout",
     "output_type": "stream",
     "text": [
      "Benchmark MAPE on the test set : 7 %\n"
     ]
    }
   ],
   "source": [
    "# Or (better) we predict the last pollution value!\n",
    "y_pred_baseline = X_test[:,-1,0]\n",
    "bench_res = np.mean(np.abs(y_pred_baseline - y_test)/y_test)*100\n",
    "print(f'Benchmark MAPE on the test set : {bench_res:.0f} %')"
   ]
  },
  {
   "cell_type": "markdown",
   "id": "ae8997f4",
   "metadata": {},
   "source": [
    "## Imports for model\n"
   ]
  },
  {
   "cell_type": "code",
   "execution_count": 41,
   "id": "b253328a",
   "metadata": {},
   "outputs": [
    {
     "name": "stderr",
     "output_type": "stream",
     "text": [
      "2021-12-01 15:20:14.536255: W tensorflow/stream_executor/platform/default/dso_loader.cc:64] Could not load dynamic library 'libcudart.so.11.0'; dlerror: libcudart.so.11.0: cannot open shared object file: No such file or directory\n",
      "2021-12-01 15:20:14.536402: I tensorflow/stream_executor/cuda/cudart_stub.cc:29] Ignore above cudart dlerror if you do not have a GPU set up on your machine.\n"
     ]
    }
   ],
   "source": [
    "from tensorflow.keras import models\n",
    "from tensorflow.keras import layers\n",
    "from tensorflow.keras import optimizers, metrics\n",
    "from tensorflow.keras.layers.experimental.preprocessing import Normalization\n",
    "from tensorflow.keras.callbacks import EarlyStopping\n",
    "import matplotlib.pyplot as plt"
   ]
  },
  {
   "cell_type": "markdown",
   "id": "eeb13e75",
   "metadata": {},
   "source": [
    "## simple LSTM"
   ]
  },
  {
   "cell_type": "code",
   "execution_count": 42,
   "id": "eca16b46",
   "metadata": {},
   "outputs": [],
   "source": [
    "def init_model():\n",
    "    \n",
    "    # Metrics and optimizers\n",
    "    metric = metrics.MAPE\n",
    "    opt = optimizers.RMSprop(learning_rate=0.01)\n",
    "    \n",
    "    # Architecture\n",
    "    \n",
    "    ## Initialising\n",
    "    model = models.Sequential()\n",
    "    \n",
    "    ## LSTM layer\n",
    "    model.add(layers.LSTM(20, activation='tanh'))\n",
    "    \n",
    "    ## Hidden Dense Layer\n",
    "    model.add(layers.Dense(5, activation='relu'))\n",
    "    \n",
    "    ## Predictive layer : only one neuron because we are predicting the NEXT POINT\n",
    "    model.add(layers.Dense(1, activation='linear')) # REPLACE 1 WITH HORIZON\n",
    "    \n",
    "    model.compile(loss='mse', \n",
    "                  optimizer=opt, \n",
    "                  metrics=[metric])\n",
    "    \n",
    "    return model"
   ]
  },
  {
   "cell_type": "code",
   "execution_count": 43,
   "id": "dc8c288f",
   "metadata": {},
   "outputs": [
    {
     "name": "stderr",
     "output_type": "stream",
     "text": [
      "2021-12-01 15:20:21.232845: W tensorflow/stream_executor/platform/default/dso_loader.cc:64] Could not load dynamic library 'libcuda.so.1'; dlerror: libcuda.so.1: cannot open shared object file: No such file or directory\n",
      "2021-12-01 15:20:21.233019: W tensorflow/stream_executor/cuda/cuda_driver.cc:269] failed call to cuInit: UNKNOWN ERROR (303)\n",
      "2021-12-01 15:20:21.233088: I tensorflow/stream_executor/cuda/cuda_diagnostics.cc:156] kernel driver does not appear to be running on this host (DESKTOP-47G28MR): /proc/driver/nvidia/version does not exist\n",
      "2021-12-01 15:20:21.233888: I tensorflow/core/platform/cpu_feature_guard.cc:151] This TensorFlow binary is optimized with oneAPI Deep Neural Network Library (oneDNN) to use the following CPU instructions in performance-critical operations:  AVX2 FMA\n",
      "To enable them in other operations, rebuild TensorFlow with the appropriate compiler flags.\n"
     ]
    }
   ],
   "source": [
    "model = init_model()"
   ]
  },
  {
   "cell_type": "code",
   "execution_count": null,
   "id": "0813c955",
   "metadata": {},
   "outputs": [],
   "source": []
  },
  {
   "cell_type": "code",
   "execution_count": 44,
   "id": "cadb2500",
   "metadata": {},
   "outputs": [],
   "source": [
    "number_of_rows = len(X_train)\n",
    "validation_split = 0.2"
   ]
  },
  {
   "cell_type": "code",
   "execution_count": 45,
   "id": "ae40ecec",
   "metadata": {},
   "outputs": [
    {
     "data": {
      "text/plain": [
       "160.0"
      ]
     },
     "execution_count": 45,
     "metadata": {},
     "output_type": "execute_result"
    }
   ],
   "source": [
    "#number of rows in train\n",
    "number_of_rows_train_train = number_of_rows * (1 - validation_split)\n",
    "number_of_rows_train_train"
   ]
  },
  {
   "cell_type": "code",
   "execution_count": 46,
   "id": "eda77d8b",
   "metadata": {},
   "outputs": [
    {
     "data": {
      "text/plain": [
       "3.0"
      ]
     },
     "execution_count": 46,
     "metadata": {},
     "output_type": "execute_result"
    }
   ],
   "source": [
    "#number of epochs\n",
    "np.ceil(160/64)"
   ]
  },
  {
   "cell_type": "code",
   "execution_count": 47,
   "id": "e27babb3",
   "metadata": {},
   "outputs": [
    {
     "data": {
      "text/plain": [
       "3"
      ]
     },
     "execution_count": 47,
     "metadata": {},
     "output_type": "execute_result"
    }
   ],
   "source": [
    "batch_size = 64\n",
    "number_of_iterations_per_epoch = int(np.ceil(len(X_train) / batch_size * (1-validation_split)))\n",
    "number_of_iterations_per_epoch"
   ]
  },
  {
   "cell_type": "code",
   "execution_count": 48,
   "id": "f67c23b7",
   "metadata": {},
   "outputs": [
    {
     "name": "stdout",
     "output_type": "stream",
     "text": [
      "Epoch 1/2\n",
      "3/3 [==============================] - 11s 1s/step - loss: 0.3046 - mean_absolute_percentage_error: 131.5112 - val_loss: 0.0219 - val_mean_absolute_percentage_error: 52.4705\n",
      "Epoch 2/2\n",
      "3/3 [==============================] - 0s 161ms/step - loss: 0.0224 - mean_absolute_percentage_error: 47.4630 - val_loss: 0.0174 - val_mean_absolute_percentage_error: 40.9202\n"
     ]
    }
   ],
   "source": [
    "es = EarlyStopping(monitor ='val_loss',\n",
    "                   patience=10,\n",
    "                   restore_best_weights = True)\n",
    "\n",
    "history = model.fit(X_train,\n",
    "                    y_train,\n",
    "                    validation_split=0.2,\n",
    "                    epochs=2, \n",
    "                    batch_size=64,\n",
    "                    # callbacks=[es],\n",
    "                    verbose=1)"
   ]
  },
  {
   "cell_type": "code",
   "execution_count": 49,
   "id": "3b195731",
   "metadata": {},
   "outputs": [
    {
     "name": "stdout",
     "output_type": "stream",
     "text": [
      "Model: \"sequential\"\n",
      "_________________________________________________________________\n",
      " Layer (type)                Output Shape              Param #   \n",
      "=================================================================\n",
      " lstm (LSTM)                 (None, 20)                1920      \n",
      "                                                                 \n",
      " dense (Dense)               (None, 5)                 105       \n",
      "                                                                 \n",
      " dense_1 (Dense)             (None, 1)                 6         \n",
      "                                                                 \n",
      "=================================================================\n",
      "Total params: 2,031\n",
      "Trainable params: 2,031\n",
      "Non-trainable params: 0\n",
      "_________________________________________________________________\n"
     ]
    }
   ],
   "source": [
    "model.summary()"
   ]
  },
  {
   "cell_type": "code",
   "execution_count": 50,
   "id": "01938e69",
   "metadata": {},
   "outputs": [
    {
     "data": {
      "text/plain": [
       "[<matplotlib.lines.Line2D at 0x7fe2983c3190>]"
      ]
     },
     "execution_count": 50,
     "metadata": {},
     "output_type": "execute_result"
    },
    {
     "data": {
      "image/png": "[encoded data removed]",
      "text/plain": [
       "<Figure size 432x288 with 1 Axes>"
      ]
     },
     "metadata": {
      "needs_background": "light"
     },
     "output_type": "display_data"
    }
   ],
   "source": [
    "plt.plot(history.history['mean_absolute_percentage_error'])\n",
    "plt.plot(history.history['val_mean_absolute_percentage_error'])"
   ]
  },
  {
   "cell_type": "code",
   "execution_count": 51,
   "id": "e16a67b4",
   "metadata": {},
   "outputs": [
    {
     "name": "stdout",
     "output_type": "stream",
     "text": [
      "4/4 [==============================] - 0s 37ms/step - loss: 0.0320 - mean_absolute_percentage_error: 19.7073\n",
      "MAPE on the test set : 20 %\n"
     ]
    }
   ],
   "source": [
    "res = model.evaluate(X_test, y_test, verbose=1)\n",
    "\n",
    "print(f'MAPE on the test set : {res[1]:.0f} %')"
   ]
  },
  {
   "cell_type": "markdown",
   "id": "1fa24f95",
   "metadata": {},
   "source": [
    "## Improved Model"
   ]
  },
  {
   "cell_type": "code",
   "execution_count": 52,
   "id": "a8e7296e",
   "metadata": {},
   "outputs": [],
   "source": [
    "def init_model_2():\n",
    "    metric = metrics.MAPE\n",
    "    opt = optimizers.RMSprop(learning_rate=0.005)\n",
    "    \n",
    "    model = models.Sequential()\n",
    "    \n",
    "    model.add(layers.LSTM(20, return_sequences=True, activation='tanh'))\n",
    "    model.add(layers.LSTM(10, activation='tanh'))\n",
    "    \n",
    "    model.add(layers.Dense(5, activation='relu'))\n",
    "    model.add(layers.Dense(1, activation='linear'))\n",
    "    \n",
    "    model.compile(loss='mse', \n",
    "                  optimizer=opt, \n",
    "                  metrics=[metric])\n",
    "    \n",
    "    return model"
   ]
  },
  {
   "cell_type": "code",
   "execution_count": 53,
   "id": "de945b77",
   "metadata": {},
   "outputs": [
    {
     "name": "stdout",
     "output_type": "stream",
     "text": [
      "Epoch 1/5\n",
      "5/5 [==============================] - 19s 1s/step - loss: 0.1170 - mean_absolute_percentage_error: 87.9702 - val_loss: 0.0236 - val_mean_absolute_percentage_error: 48.9054\n",
      "Epoch 2/5\n",
      "5/5 [==============================] - 1s 233ms/step - loss: 0.0250 - mean_absolute_percentage_error: 49.4600 - val_loss: 0.0200 - val_mean_absolute_percentage_error: 43.2140\n",
      "Epoch 3/5\n",
      "5/5 [==============================] - 1s 253ms/step - loss: 0.0190 - mean_absolute_percentage_error: 41.9379 - val_loss: 0.0183 - val_mean_absolute_percentage_error: 38.8840\n",
      "Epoch 4/5\n",
      "5/5 [==============================] - 1s 242ms/step - loss: 0.0255 - mean_absolute_percentage_error: 43.3306 - val_loss: 0.0399 - val_mean_absolute_percentage_error: 36.6654\n",
      "Epoch 5/5\n",
      "5/5 [==============================] - 1s 238ms/step - loss: 0.0229 - mean_absolute_percentage_error: 42.4100 - val_loss: 0.0195 - val_mean_absolute_percentage_error: 30.6028\n"
     ]
    }
   ],
   "source": [
    "model_2 = init_model_2()\n",
    "\n",
    "es = EarlyStopping(monitor='val_loss', patience=5, restore_best_weights=True)\n",
    "\n",
    "history_2 = model_2.fit(X_train, y_train,\n",
    "            validation_split=0.3,\n",
    "            epochs=5, \n",
    "            batch_size=32,\n",
    "            callbacks=[es], verbose=1)"
   ]
  },
  {
   "cell_type": "code",
   "execution_count": 54,
   "id": "cfa1cf7e",
   "metadata": {},
   "outputs": [
    {
     "data": {
      "text/plain": [
       "[<matplotlib.lines.Line2D at 0x7fe298f32a90>]"
      ]
     },
     "execution_count": 54,
     "metadata": {},
     "output_type": "execute_result"
    },
    {
     "data": {
      "image/png": "[encoded data removed]",
      "text/plain": [
       "<Figure size 432x288 with 1 Axes>"
      ]
     },
     "metadata": {
      "needs_background": "light"
     },
     "output_type": "display_data"
    }
   ],
   "source": [
    "import matplotlib.pyplot as plt\n",
    "plt.plot(history_2.history['mean_absolute_percentage_error'])\n",
    "plt.plot(history_2.history['val_mean_absolute_percentage_error'])"
   ]
  },
  {
   "cell_type": "code",
   "execution_count": 55,
   "id": "2faae1f4",
   "metadata": {},
   "outputs": [
    {
     "name": "stdout",
     "output_type": "stream",
     "text": [
      "4/4 [==============================] - 0s 63ms/step - loss: 0.0326 - mean_absolute_percentage_error: 20.9842\n",
      "MAPE on the test set : 21 %\n"
     ]
    }
   ],
   "source": [
    "res = model_2.evaluate(X_test, y_test, verbose=1)\n",
    "\n",
    "print(f'MAPE on the test set : {res[1]:.0f} %')"
   ]
  },
  {
   "cell_type": "code",
   "execution_count": 56,
   "id": "1976a5ba",
   "metadata": {},
   "outputs": [
    {
     "data": {
      "text/plain": [
       "((100, 29, 3), (100,))"
      ]
     },
     "execution_count": 56,
     "metadata": {},
     "output_type": "execute_result"
    }
   ],
   "source": [
    "X_test.shape, y_test.shape"
   ]
  },
  {
   "cell_type": "code",
   "execution_count": 57,
   "id": "4f7745e9",
   "metadata": {},
   "outputs": [
    {
     "data": {
      "text/plain": [
       "(100, 1)"
      ]
     },
     "execution_count": 57,
     "metadata": {},
     "output_type": "execute_result"
    }
   ],
   "source": [
    "predictions_2 = model_2.predict(X_test)\n",
    "predictions_2.shape"
   ]
  },
  {
   "cell_type": "code",
   "execution_count": 58,
   "id": "3781f195",
   "metadata": {},
   "outputs": [
    {
     "data": {
      "text/plain": [
       "array([[3265.6296],\n",
       "       [3248.452 ],\n",
       "       [3313.2808],\n",
       "       [3385.4119],\n",
       "       [3250.6675],\n",
       "       [3315.1252],\n",
       "       [3369.8047],\n",
       "       [3391.695 ],\n",
       "       [3323.4495],\n",
       "       [3419.838 ]], dtype=float32)"
      ]
     },
     "execution_count": 58,
     "metadata": {},
     "output_type": "execute_result"
    }
   ],
   "source": [
    "unscaled_predictions_2 = scaler.inverse_transform(predictions_2)\n",
    "unscaled_predictions_2[0:10] # showing 10 predictions in the test set out of 100 "
   ]
  },
  {
   "cell_type": "code",
   "execution_count": 60,
   "id": "1ba87717",
   "metadata": {},
   "outputs": [
    {
     "data": {
      "text/plain": [
       "(100, 1)"
      ]
     },
     "execution_count": 60,
     "metadata": {},
     "output_type": "execute_result"
    }
   ],
   "source": [
    "y_test.reshape(-1,1).shape"
   ]
  },
  {
   "cell_type": "code",
   "execution_count": 836,
   "id": "0f6b8bcb",
   "metadata": {},
   "outputs": [
    {
     "ename": "NameError",
     "evalue": "name 'y_test' is not defined",
     "output_type": "error",
     "traceback": [
      "\u001b[0;31m---------------------------------------------------------------------------\u001b[0m",
      "\u001b[0;31mNameError\u001b[0m                                 Traceback (most recent call last)",
      "\u001b[0;32m/tmp/ipykernel_3413/2214420861.py\u001b[0m in \u001b[0;36m<module>\u001b[0;34m\u001b[0m\n\u001b[0;32m----> 1\u001b[0;31m \u001b[0my_test\u001b[0m\u001b[0;34m.\u001b[0m\u001b[0mreshape\u001b[0m\u001b[0;34m(\u001b[0m\u001b[0;34m-\u001b[0m\u001b[0;36m1\u001b[0m\u001b[0;34m,\u001b[0m\u001b[0;36m1\u001b[0m\u001b[0;34m)\u001b[0m\u001b[0;34m-\u001b[0m\u001b[0munscaled_predictions_2\u001b[0m\u001b[0;34m\u001b[0m\u001b[0;34m\u001b[0m\u001b[0m\n\u001b[0m",
      "\u001b[0;31mNameError\u001b[0m: name 'y_test' is not defined"
     ]
    }
   ],
   "source": [
    "#find the error\n",
    "y_test.reshape(-1,1)-unscaled_predictions_2"
   ]
  },
  {
   "cell_type": "code",
   "execution_count": 76,
   "id": "b925fdcc",
   "metadata": {},
   "outputs": [],
   "source": [
    "X, y = get_X_y(df, len(df), 30)"
   ]
  },
  {
   "cell_type": "code",
   "execution_count": 77,
   "id": "3c869110",
   "metadata": {},
   "outputs": [
    {
     "data": {
      "text/plain": [
       "((385, 29, 3), (385,))"
      ]
     },
     "execution_count": 77,
     "metadata": {},
     "output_type": "execute_result"
    }
   ],
   "source": [
    "X.shape, y.shape"
   ]
  },
  {
   "cell_type": "code",
   "execution_count": 78,
   "id": "4047b058",
   "metadata": {},
   "outputs": [
    {
     "data": {
      "text/plain": [
       "array([[0.3691427 ],\n",
       "       [0.4590493 ],\n",
       "       [0.36217627],\n",
       "       [0.4535021 ],\n",
       "       [0.43706188],\n",
       "       [0.647418  ],\n",
       "       [0.2351782 ],\n",
       "       [0.36017302],\n",
       "       [0.47573406],\n",
       "       [0.26065588]], dtype=float32)"
      ]
     },
     "execution_count": 78,
     "metadata": {},
     "output_type": "execute_result"
    }
   ],
   "source": [
    "predictions_X = model_2.predict(X)\n",
    "predictions_X[:10]"
   ]
  },
  {
   "cell_type": "code",
   "execution_count": 79,
   "id": "95783ba4",
   "metadata": {},
   "outputs": [
    {
     "data": {
      "text/plain": [
       "array([[3239.682 ],\n",
       "       [3309.7605],\n",
       "       [3234.2517],\n",
       "       [3305.4368],\n",
       "       [3292.6223],\n",
       "       [3456.5864],\n",
       "       [3135.262 ],\n",
       "       [3232.6904],\n",
       "       [3322.7656],\n",
       "       [3155.1208]], dtype=float32)"
      ]
     },
     "execution_count": 79,
     "metadata": {},
     "output_type": "execute_result"
    }
   ],
   "source": [
    "unscaled_predictions_X = scaler.inverse_transform(predictions_X)\n",
    "unscaled_predictions_X[:10]"
   ]
  },
  {
   "cell_type": "code",
   "execution_count": 86,
   "id": "982ef109",
   "metadata": {},
   "outputs": [
    {
     "data": {
      "text/html": [
       "<div>\n",
       "<style scoped>\n",
       "    .dataframe tbody tr th:only-of-type {\n",
       "        vertical-align: middle;\n",
       "    }\n",
       "\n",
       "    .dataframe tbody tr th {\n",
       "        vertical-align: top;\n",
       "    }\n",
       "\n",
       "    .dataframe thead th {\n",
       "        text-align: right;\n",
       "    }\n",
       "</style>\n",
       "<table border=\"1\" class=\"dataframe\">\n",
       "  <thead>\n",
       "    <tr style=\"text-align: right;\">\n",
       "      <th></th>\n",
       "      <th>AMZN</th>\n",
       "    </tr>\n",
       "  </thead>\n",
       "  <tbody>\n",
       "    <tr>\n",
       "      <th>0</th>\n",
       "      <td>3004.48</td>\n",
       "    </tr>\n",
       "    <tr>\n",
       "      <th>1</th>\n",
       "      <td>3048.41</td>\n",
       "    </tr>\n",
       "    <tr>\n",
       "      <th>2</th>\n",
       "      <td>3241.16</td>\n",
       "    </tr>\n",
       "    <tr>\n",
       "      <th>3</th>\n",
       "      <td>3322.00</td>\n",
       "    </tr>\n",
       "    <tr>\n",
       "      <th>4</th>\n",
       "      <td>3311.37</td>\n",
       "    </tr>\n",
       "    <tr>\n",
       "      <th>...</th>\n",
       "      <td>...</td>\n",
       "    </tr>\n",
       "    <tr>\n",
       "      <th>380</th>\n",
       "      <td>3676.57</td>\n",
       "    </tr>\n",
       "    <tr>\n",
       "      <th>381</th>\n",
       "      <td>3572.57</td>\n",
       "    </tr>\n",
       "    <tr>\n",
       "      <th>382</th>\n",
       "      <td>3572.57</td>\n",
       "    </tr>\n",
       "    <tr>\n",
       "      <th>383</th>\n",
       "      <td>3572.57</td>\n",
       "    </tr>\n",
       "    <tr>\n",
       "      <th>384</th>\n",
       "      <td>3572.57</td>\n",
       "    </tr>\n",
       "  </tbody>\n",
       "</table>\n",
       "<p>385 rows × 1 columns</p>\n",
       "</div>"
      ],
      "text/plain": [
       "        AMZN\n",
       "0    3004.48\n",
       "1    3048.41\n",
       "2    3241.16\n",
       "3    3322.00\n",
       "4    3311.37\n",
       "..       ...\n",
       "380  3676.57\n",
       "381  3572.57\n",
       "382  3572.57\n",
       "383  3572.57\n",
       "384  3572.57\n",
       "\n",
       "[385 rows x 1 columns]"
      ]
     },
     "execution_count": 86,
     "metadata": {},
     "output_type": "execute_result"
    }
   ],
   "source": []
  },
  {
   "cell_type": "code",
   "execution_count": 89,
   "id": "a395ce35",
   "metadata": {},
   "outputs": [
    {
     "name": "stderr",
     "output_type": "stream",
     "text": [
      "/tmp/ipykernel_3117/1919949454.py:2: SettingWithCopyWarning: \n",
      "A value is trying to be set on a copy of a slice from a DataFrame.\n",
      "Try using .loc[row_indexer,col_indexer] = value instead\n",
      "\n",
      "See the caveats in the documentation: https://pandas.pydata.org/pandas-docs/stable/user_guide/indexing.html#returning-a-view-versus-a-copy\n",
      "  df_true_pred[\"predictions\"]=unscaled_predictions_X\n"
     ]
    }
   ],
   "source": [
    "\n",
    "df_true_pred = merged_df[[\"date\", \"AMZN\"]]\n",
    "df_true_pred[\"predictions\"]=unscaled_predictions_X\n"
   ]
  },
  {
   "cell_type": "code",
   "execution_count": 92,
   "id": "5927359e",
   "metadata": {},
   "outputs": [
    {
     "data": {
      "text/html": [
       "<div>\n",
       "<style scoped>\n",
       "    .dataframe tbody tr th:only-of-type {\n",
       "        vertical-align: middle;\n",
       "    }\n",
       "\n",
       "    .dataframe tbody tr th {\n",
       "        vertical-align: top;\n",
       "    }\n",
       "\n",
       "    .dataframe thead th {\n",
       "        text-align: right;\n",
       "    }\n",
       "</style>\n",
       "<table border=\"1\" class=\"dataframe\">\n",
       "  <thead>\n",
       "    <tr style=\"text-align: right;\">\n",
       "      <th></th>\n",
       "      <th>date</th>\n",
       "      <th>AMZN</th>\n",
       "      <th>predictions</th>\n",
       "      <th>ticker</th>\n",
       "    </tr>\n",
       "  </thead>\n",
       "  <tbody>\n",
       "    <tr>\n",
       "      <th>0</th>\n",
       "      <td>2020-11-02</td>\n",
       "      <td>3004.48</td>\n",
       "      <td>3239.681885</td>\n",
       "      <td>AMZN</td>\n",
       "    </tr>\n",
       "    <tr>\n",
       "      <th>1</th>\n",
       "      <td>2020-11-03</td>\n",
       "      <td>3048.41</td>\n",
       "      <td>3309.760498</td>\n",
       "      <td>AMZN</td>\n",
       "    </tr>\n",
       "    <tr>\n",
       "      <th>2</th>\n",
       "      <td>2020-11-04</td>\n",
       "      <td>3241.16</td>\n",
       "      <td>3234.251709</td>\n",
       "      <td>AMZN</td>\n",
       "    </tr>\n",
       "    <tr>\n",
       "      <th>3</th>\n",
       "      <td>2020-11-05</td>\n",
       "      <td>3322.00</td>\n",
       "      <td>3305.436768</td>\n",
       "      <td>AMZN</td>\n",
       "    </tr>\n",
       "    <tr>\n",
       "      <th>4</th>\n",
       "      <td>2020-11-06</td>\n",
       "      <td>3311.37</td>\n",
       "      <td>3292.622314</td>\n",
       "      <td>AMZN</td>\n",
       "    </tr>\n",
       "  </tbody>\n",
       "</table>\n",
       "</div>"
      ],
      "text/plain": [
       "         date     AMZN  predictions ticker\n",
       "0  2020-11-02  3004.48  3239.681885   AMZN\n",
       "1  2020-11-03  3048.41  3309.760498   AMZN\n",
       "2  2020-11-04  3241.16  3234.251709   AMZN\n",
       "3  2020-11-05  3322.00  3305.436768   AMZN\n",
       "4  2020-11-06  3311.37  3292.622314   AMZN"
      ]
     },
     "execution_count": 92,
     "metadata": {},
     "output_type": "execute_result"
    }
   ],
   "source": [
    "df_true_pred.head()"
   ]
  },
  {
   "cell_type": "code",
   "execution_count": 91,
   "id": "f5893264",
   "metadata": {},
   "outputs": [],
   "source": [
    "df_true_pred[\"ticker\"] = \"AMZN\""
   ]
  },
  {
   "cell_type": "code",
   "execution_count": 93,
   "id": "114c682a",
   "metadata": {},
   "outputs": [],
   "source": [
    "df_true_pred.to_csv(\"LSTM_3features_AMZN\")"
   ]
  },
  {
   "cell_type": "markdown",
   "id": "f31901a4",
   "metadata": {},
   "source": [
    "## Check Performance of the models"
   ]
  },
  {
   "cell_type": "code",
   "execution_count": 61,
   "id": "5906e687",
   "metadata": {},
   "outputs": [],
   "source": [
    "def train_model(nb_sequences=200, nb_days=30, plot_history=True,epochs = 10):\n",
    "    \n",
    "    X_train, y_train = get_X_y(df_train, nb_sequences, nb_days)\n",
    "    X_test, y_test = get_X_y(df_test, round(nb_sequences/2), nb_days)\n",
    "\n",
    "    metric = metrics.MAPE\n",
    "    opt = optimizers.RMSprop(learning_rate=0.01)\n",
    "\n",
    "    model = models.Sequential()\n",
    "    model.add(layers.LSTM(20, return_sequences=True, activation='tanh'))\n",
    "    model.add(layers.LSTM(10, activation='tanh'))\n",
    "    model.add(layers.Dense(5, activation='relu'))\n",
    "    model.add(layers.Dense(1, activation='linear'))\n",
    "\n",
    "    model.compile(loss='mse', \n",
    "                  optimizer=opt, \n",
    "                  metrics=[metric])\n",
    "\n",
    "\n",
    "    es = EarlyStopping(monitor='val_loss', patience=5, restore_best_weights=True)\n",
    "\n",
    "    history = model.fit(X_train, y_train,\n",
    "            validation_split=0.3,\n",
    "            epochs=epochs, \n",
    "            batch_size=32,\n",
    "            callbacks=[es],\n",
    "            verbose=1)\n",
    "\n",
    "    if plot_history:\n",
    "        plt.plot(history.history['mean_absolute_percentage_error'])\n",
    "        plt.plot(history.history['val_mean_absolute_percentage_error'])\n",
    "        plt.show()\n",
    "\n",
    "    res = model.evaluate(X_test, y_test, verbose=1)\n",
    "    print(f'MAPE on the test set : {res[1]:.0f} %')\n",
    "    return res"
   ]
  },
  {
   "cell_type": "code",
   "execution_count": 140,
   "id": "15eb170a",
   "metadata": {},
   "outputs": [
    {
     "name": "stdout",
     "output_type": "stream",
     "text": [
      "Epoch 1/10\n",
      "5/5 [==============================] - 5s 222ms/step - loss: 0.1355 - mean_absolute_percentage_error: 78.1527 - val_loss: 0.0418 - val_mean_absolute_percentage_error: 58.2556\n",
      "Epoch 2/10\n",
      "5/5 [==============================] - 0s 27ms/step - loss: 0.0395 - mean_absolute_percentage_error: 47.9022 - val_loss: 0.0566 - val_mean_absolute_percentage_error: 78.4917\n",
      "Epoch 3/10\n",
      "5/5 [==============================] - 0s 28ms/step - loss: 0.0440 - mean_absolute_percentage_error: 50.2554 - val_loss: 0.0459 - val_mean_absolute_percentage_error: 32.5050\n",
      "Epoch 4/10\n",
      "5/5 [==============================] - 0s 30ms/step - loss: 0.0402 - mean_absolute_percentage_error: 45.7380 - val_loss: 0.0180 - val_mean_absolute_percentage_error: 24.1609\n",
      "Epoch 5/10\n",
      "5/5 [==============================] - 0s 28ms/step - loss: 0.0338 - mean_absolute_percentage_error: 35.2720 - val_loss: 0.0244 - val_mean_absolute_percentage_error: 48.8844\n",
      "Epoch 6/10\n",
      "5/5 [==============================] - 0s 31ms/step - loss: 0.0314 - mean_absolute_percentage_error: 38.0139 - val_loss: 0.0136 - val_mean_absolute_percentage_error: 24.1782\n",
      "Epoch 7/10\n",
      "5/5 [==============================] - 0s 26ms/step - loss: 0.0091 - mean_absolute_percentage_error: 22.7981 - val_loss: 0.0109 - val_mean_absolute_percentage_error: 27.9472\n",
      "Epoch 8/10\n",
      "5/5 [==============================] - 0s 29ms/step - loss: 0.0251 - mean_absolute_percentage_error: 33.4336 - val_loss: 0.0177 - val_mean_absolute_percentage_error: 27.3043\n",
      "Epoch 9/10\n",
      "5/5 [==============================] - 0s 30ms/step - loss: 0.0315 - mean_absolute_percentage_error: 41.0576 - val_loss: 0.0118 - val_mean_absolute_percentage_error: 28.6186\n",
      "Epoch 10/10\n",
      "5/5 [==============================] - 0s 31ms/step - loss: 0.0098 - mean_absolute_percentage_error: 24.2460 - val_loss: 0.0484 - val_mean_absolute_percentage_error: 56.0104\n"
     ]
    },
    {
     "data": {
      "image/png": "[encoded data removed]",
      "text/plain": [
       "<Figure size 432x288 with 1 Axes>"
      ]
     },
     "metadata": {
      "needs_background": "light"
     },
     "output_type": "display_data"
    },
    {
     "name": "stdout",
     "output_type": "stream",
     "text": [
      "4/4 [==============================] - 0s 4ms/step - loss: 0.0487 - mean_absolute_percentage_error: 33.6792\n",
      "MAPE on the test set : 34 %\n"
     ]
    },
    {
     "data": {
      "text/plain": [
       "[0.048741456121206284, 33.679195404052734]"
      ]
     },
     "execution_count": 140,
     "metadata": {},
     "output_type": "execute_result"
    }
   ],
   "source": [
    "train_model(nb_sequences=200, nb_days=30, plot_history=True)"
   ]
  },
  {
   "cell_type": "markdown",
   "id": "2e3d8248",
   "metadata": {},
   "source": [
    "## manual Grid Search LSTM"
   ]
  },
  {
   "cell_type": "code",
   "execution_count": null,
   "id": "96dc0c2e",
   "metadata": {},
   "outputs": [],
   "source": [
    "nb_days_grid = [12,30,60]\n",
    "nb_sequences_grid = [12, 50, 100]\n",
    "MAPE = []"
   ]
  },
  {
   "cell_type": "code",
   "execution_count": null,
   "id": "1813dbb5",
   "metadata": {},
   "outputs": [],
   "source": [
    "for nb_days in nb_days_grid:\n",
    "    for nb_sequences in nb_sequences_grid:\n",
    "        res = train_model(nb_sequences=nb_sequences, nb_days=nb_days)\n",
    "        MAPE.append((nb_days, nb_sequences, res[1]))\n",
    "        print(f'For {nb_sequences} sequences and {nb_days} days of observation, the MAPE is of {res[1]:.0f} %')"
   ]
  },
  {
   "cell_type": "code",
   "execution_count": null,
   "id": "623cc199",
   "metadata": {},
   "outputs": [],
   "source": [
    "MAPE"
   ]
  },
  {
   "cell_type": "code",
   "execution_count": null,
   "id": "550588e5",
   "metadata": {},
   "outputs": [],
   "source": [
    "import matplotlib\n",
    "x = [res[0] for res in MAPE] # n_days\n",
    "y = [res[1] for res in MAPE] # n_seq\n",
    "c = [res[2] for res in MAPE] # MAPE  \n",
    "plt.scatter(x, y, c=c, norm=matplotlib.colors.Normalize(clip=False), cmap='coolwarm') # vmin=20, vmax=50, "
   ]
  },
  {
   "cell_type": "code",
   "execution_count": null,
   "id": "0666490c",
   "metadata": {},
   "outputs": [],
   "source": [
    "# sns.heatmap(data= x, y, c=c)"
   ]
  },
  {
   "cell_type": "markdown",
   "id": "d7b4d9ec",
   "metadata": {},
   "source": [
    "## Test LSTM with prediction"
   ]
  },
  {
   "cell_type": "code",
   "execution_count": 69,
   "id": "340ce2ef",
   "metadata": {},
   "outputs": [],
   "source": [
    "def train_model_predict(nb_sequences=12, nb_days=30, plot_history=False):\n",
    "    X_train, y_train = get_X_y(df_train, nb_sequences, nb_days)\n",
    "    X_test, y_test = get_X_y(df_test, round(nb_sequences*0.2), nb_days)\n",
    "\n",
    "    metric = metrics.MAPE\n",
    "    opt = optimizers.RMSprop(learning_rate=0.01)\n",
    "\n",
    "    model = models.Sequential()\n",
    "    model.add(layers.LSTM(20, return_sequences=True, activation='tanh'))\n",
    "    model.add(layers.LSTM(10, activation='tanh'))\n",
    "    model.add(layers.Dense(5, activation='relu'))\n",
    "    model.add(layers.Dense(1, activation='linear'))\n",
    "\n",
    "    model.compile(loss='mse', \n",
    "                  optimizer=opt, \n",
    "                  metrics=[metric])\n",
    "\n",
    "\n",
    "    es = EarlyStopping(monitor='val_loss', patience=5, restore_best_weights=True)\n",
    "\n",
    "    history = model.fit(X_train, y_train,\n",
    "            validation_split=0.3,\n",
    "            epochs=1000, \n",
    "            batch_size=64,\n",
    "            callbacks=[es],\n",
    "            verbose=0)\n",
    "\n",
    "    if plot_history:\n",
    "        plt.plot(history.history['mean_absolute_percentage_error'])\n",
    "        plt.plot(history.history['val_mean_absolute_percentage_error'])\n",
    "        plt.show()\n",
    "\n",
    "    res = model.evaluate(X_test, y_test, verbose=0)\n",
    "    y_pred = model.predict(X_test)\n",
    "    return res, y_pred"
   ]
  },
  {
   "cell_type": "code",
   "execution_count": 70,
   "id": "bc11a6ab",
   "metadata": {},
   "outputs": [],
   "source": [
    "result = train_model_predict(nb_sequences=12, nb_days=30, plot_history=False)\n"
   ]
  },
  {
   "cell_type": "code",
   "execution_count": 71,
   "id": "06f93718",
   "metadata": {},
   "outputs": [
    {
     "data": {
      "text/plain": [
       "([0.05257798358798027, 29.545623779296875],\n",
       " array([[0.45786142],\n",
       "        [0.5031962 ]], dtype=float32))"
      ]
     },
     "execution_count": 71,
     "metadata": {},
     "output_type": "execute_result"
    }
   ],
   "source": [
    "result"
   ]
  },
  {
   "cell_type": "code",
   "execution_count": 72,
   "id": "50bc5ea4",
   "metadata": {},
   "outputs": [],
   "source": [
    "result_1  = result[1][0]\n",
    "result_1 = result_1.reshape(-1, 1)"
   ]
  },
  {
   "cell_type": "code",
   "execution_count": null,
   "id": "ae0fdbcb",
   "metadata": {},
   "outputs": [],
   "source": [
    "y_pred = scaler.inverse_transform(result_1)"
   ]
  },
  {
   "cell_type": "code",
   "execution_count": null,
   "id": "f97760ba",
   "metadata": {},
   "outputs": [],
   "source": [
    "y_pred[0][0]"
   ]
  },
  {
   "cell_type": "code",
   "execution_count": null,
   "id": "0c8a15f3",
   "metadata": {},
   "outputs": [],
   "source": [
    "scaler.inverse_transform(X_test[0])"
   ]
  },
  {
   "cell_type": "code",
   "execution_count": null,
   "id": "d6184e4c",
   "metadata": {},
   "outputs": [],
   "source": [
    "scaler.inverse_transform(y_test.reshape(-1, 1))"
   ]
  },
  {
   "cell_type": "code",
   "execution_count": null,
   "id": "38dcaa20",
   "metadata": {},
   "outputs": [],
   "source": [
    "def train_model_predict(nb_sequences=12, nb_days=30, plot_history=False):\n",
    "    X_train, y_train = get_X_y(df_train, nb_sequences, nb_days)\n",
    "    X_test, y_test = get_X_y(df_test, round(nb_sequences*0.2), nb_days)\n",
    "\n",
    "    metric = metrics.MAPE\n",
    "    opt = optimizers.RMSprop(learning_rate=0.01)\n",
    "\n",
    "    model = models.Sequential()\n",
    "    model.add(layers.LSTM(20, return_sequences=True, activation='tanh'))\n",
    "    model.add(layers.LSTM(10, activation='tanh'))\n",
    "    model.add(layers.Dense(5, activation='relu'))\n",
    "    model.add(layers.Dense(1, activation='linear'))\n",
    "\n",
    "    model.compile(loss='mse', \n",
    "                  optimizer=opt, \n",
    "                  metrics=[metric])\n",
    "\n",
    "\n",
    "    es = EarlyStopping(monitor='val_loss', patience=5, restore_best_weights=True)\n",
    "\n",
    "    history = model.fit(X_train, y_train,\n",
    "            validation_split=0.3,\n",
    "            epochs=1000, \n",
    "            batch_size=64,\n",
    "            callbacks=[es],\n",
    "            verbose=0)\n",
    "\n",
    "    if plot_history:\n",
    "        plt.plot(history.history['mean_absolute_percentage_error'])\n",
    "        plt.plot(history.history['val_mean_absolute_percentage_error'])\n",
    "        plt.show()\n",
    "\n",
    "    return model\n",
    "\n",
    "model = train_model_predict(X_test)"
   ]
  },
  {
   "cell_type": "code",
   "execution_count": null,
   "id": "167d4523",
   "metadata": {},
   "outputs": [],
   "source": [
    "X_test"
   ]
  },
  {
   "cell_type": "markdown",
   "id": "4754c253",
   "metadata": {},
   "source": [
    "## Plot the results"
   ]
  },
  {
   "cell_type": "code",
   "execution_count": null,
   "id": "8bf4d75d",
   "metadata": {},
   "outputs": [],
   "source": [
    "plt.figure(figsize=(20, 6))\n",
    "plt.plot(y_test_transformed, color = 'black', label = 'AMZN Stock Price')\n",
    "plt.plot(predicted_stock_price, color = 'green', label = 'Predicted AMZN Stock Price')\n",
    "plt.title('AMZN Stock Price Prediction')\n",
    "plt.xlabel('Time')\n",
    "plt.ylabel('AMZN Stock Price')\n",
    "plt.legend()\n",
    "plt.show()"
   ]
  }
 ],
 "metadata": {
  "kernelspec": {
   "display_name": "Python 3 (ipykernel)",
   "language": "python",
   "name": "python3"
  },
  "language_info": {
   "codemirror_mode": {
    "name": "ipython",
    "version": 3
   },
   "file_extension": ".py",
   "mimetype": "text/x-python",
   "name": "python",
   "nbconvert_exporter": "python",
   "pygments_lexer": "ipython3",
   "version": "3.8.12"
  },
  "toc": {
   "base_numbering": 1,
   "nav_menu": {},
   "number_sections": true,
   "sideBar": true,
   "skip_h1_title": false,
   "title_cell": "Table of Contents",
   "title_sidebar": "Contents",
   "toc_cell": false,
   "toc_position": {},
   "toc_section_display": true,
   "toc_window_display": true
  },
  "varInspector": {
   "cols": {
    "lenName": 16,
    "lenType": 16,
    "lenVar": 40
   },
   "kernels_config": {
    "python": {
     "delete_cmd_postfix": "",
     "delete_cmd_prefix": "del ",
     "library": "var_list.py",
     "varRefreshCmd": "print(var_dic_list())"
    },
    "r": {
     "delete_cmd_postfix": ") ",
     "delete_cmd_prefix": "rm(",
     "library": "var_list.r",
     "varRefreshCmd": "cat(var_dic_list()) "
    }
   },
   "types_to_exclude": [
    "module",
    "function",
    "builtin_function_or_method",
    "instance",
    "_Feature"
   ],
   "window_display": false
  }
 },
 "nbformat": 4,
 "nbformat_minor": 5
}
