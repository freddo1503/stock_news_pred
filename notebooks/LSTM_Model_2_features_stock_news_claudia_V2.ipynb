{
 "cells": [
  {
   "cell_type": "code",
   "execution_count": 1,
   "id": "5fb8eccf",
   "metadata": {},
   "outputs": [],
   "source": [
    "import pandas as pd\n",
    "import numpy as np"
   ]
  },
  {
   "cell_type": "markdown",
<<<<<<< HEAD
   "id": "bb85ab9e",
=======
   "id": "69d87f50",
>>>>>>> b9a670dc68b3b2caf9614b9a8412444259f30c13
   "metadata": {},
   "source": [
    "## get the stock data "
   ]
  },
  {
   "cell_type": "code",
<<<<<<< HEAD
   "execution_count": 97,
   "id": "14dda43e",
=======
   "execution_count": 2,
   "id": "8788b2f9",
>>>>>>> b9a670dc68b3b2caf9614b9a8412444259f30c13
   "metadata": {},
   "outputs": [],
   "source": [
    "# get the stock data\n",
    "from google.cloud import storage\n",
    "def get_amazn_stock_data_from_gcp(nrows=10000, local=False, optimize=False, **kwargs):\n",
    "    \"\"\"method to get the training data (or a portion of it) from google cloud bucket\"\"\"\n",
    "    # Add Client() here\n",
    "    client = storage.Client()\n",
    "    if local:\n",
    "        path = \"data/data_data_10Mill.csv\"\n",
    "    else:\n",
    "        path = \"gs://stock-news-pred-bucket/amazon_stock_price.csv\"\n",
    "    df = pd.read_csv(path)#add nrows after if you want to select a specific number of row\n",
    "    return df\n"
   ]
  },
  {
   "cell_type": "code",
<<<<<<< HEAD
   "execution_count": 98,
   "id": "1a7361bd",
=======
   "execution_count": 3,
   "id": "6f245985",
>>>>>>> b9a670dc68b3b2caf9614b9a8412444259f30c13
   "metadata": {},
   "outputs": [],
   "source": [
    "df_stocks = get_amazn_stock_data_from_gcp()"
   ]
  },
  {
   "cell_type": "code",
<<<<<<< HEAD
   "execution_count": 102,
   "id": "98cfd403",
=======
   "execution_count": 4,
   "id": "2a35183e",
>>>>>>> b9a670dc68b3b2caf9614b9a8412444259f30c13
   "metadata": {},
   "outputs": [],
   "source": [
    "df_stocks = df_stocks.sort_values([\"date\"], ascending=True)"
   ]
  },
  {
   "cell_type": "code",
<<<<<<< HEAD
   "execution_count": 103,
   "id": "09bb1bca",
=======
   "execution_count": 5,
   "id": "a0de90c3",
>>>>>>> b9a670dc68b3b2caf9614b9a8412444259f30c13
   "metadata": {},
   "outputs": [
    {
     "data": {
      "text/html": [
       "<div>\n",
       "<style scoped>\n",
       "    .dataframe tbody tr th:only-of-type {\n",
       "        vertical-align: middle;\n",
       "    }\n",
       "\n",
       "    .dataframe tbody tr th {\n",
       "        vertical-align: top;\n",
       "    }\n",
       "\n",
       "    .dataframe thead th {\n",
       "        text-align: right;\n",
       "    }\n",
       "</style>\n",
       "<table border=\"1\" class=\"dataframe\">\n",
       "  <thead>\n",
       "    <tr style=\"text-align: right;\">\n",
       "      <th></th>\n",
       "      <th>date</th>\n",
       "      <th>AMZN</th>\n",
       "    </tr>\n",
       "  </thead>\n",
       "  <tbody>\n",
       "    <tr>\n",
       "      <th>5551</th>\n",
       "      <td>1999-11-01</td>\n",
       "      <td>69.13</td>\n",
       "    </tr>\n",
       "    <tr>\n",
       "      <th>5550</th>\n",
       "      <td>1999-11-02</td>\n",
       "      <td>66.44</td>\n",
       "    </tr>\n",
       "    <tr>\n",
       "      <th>5549</th>\n",
       "      <td>1999-11-03</td>\n",
       "      <td>65.81</td>\n",
       "    </tr>\n",
       "    <tr>\n",
       "      <th>5548</th>\n",
       "      <td>1999-11-04</td>\n",
       "      <td>63.06</td>\n",
       "    </tr>\n",
       "    <tr>\n",
       "      <th>5547</th>\n",
       "      <td>1999-11-05</td>\n",
       "      <td>64.94</td>\n",
       "    </tr>\n",
       "  </tbody>\n",
       "</table>\n",
       "</div>"
      ],
      "text/plain": [
       "            date   AMZN\n",
       "5551  1999-11-01  69.13\n",
       "5550  1999-11-02  66.44\n",
       "5549  1999-11-03  65.81\n",
       "5548  1999-11-04  63.06\n",
       "5547  1999-11-05  64.94"
      ]
     },
     "execution_count": 5,
     "metadata": {},
     "output_type": "execute_result"
    }
   ],
   "source": [
    "df_stocks.head()"
   ]
  },
  {
   "cell_type": "code",
   "execution_count": 73,
   "id": "c5166a46",
   "metadata": {},
   "outputs": [],
   "source": [
    "df_stocks.to_csv(\"df_stocks\", index=False)"
   ]
  },
  {
   "cell_type": "markdown",
<<<<<<< HEAD
   "id": "178b2753",
=======
   "id": "9c568a9d",
>>>>>>> b9a670dc68b3b2caf9614b9a8412444259f30c13
   "metadata": {},
   "source": [
    "## get the sentiment data"
   ]
  },
  {
   "cell_type": "code",
<<<<<<< HEAD
   "execution_count": 109,
   "id": "f0d2d12b",
=======
   "execution_count": 6,
   "id": "757f199f",
>>>>>>> b9a670dc68b3b2caf9614b9a8412444259f30c13
   "metadata": {},
   "outputs": [],
   "source": [
    "# get the data from GCP\n",
    "from google.cloud import storage\n",
    "def get_sentiment_news_data_from_gcp(nrows=10000, local=False, optimize=False, **kwargs):\n",
    "    \"\"\"method to get the training data (or a portion of it) from google cloud bucket\"\"\"\n",
    "    # Add Client() here\n",
    "    client = storage.Client()\n",
    "    if local:\n",
    "        path = \"data/data_data_10Mill.csv\"\n",
    "    else:\n",
    "        path = \"gs://stock-news-pred-bucket/final_stocks_sentiment.csv\"\n",
    "    df = pd.read_csv(path)#add nrows after if you want to select a specific number of row\n",
    "    return df"
   ]
  },
  {
   "cell_type": "code",
<<<<<<< HEAD
   "execution_count": 110,
   "id": "4711c7f5",
=======
   "execution_count": 7,
   "id": "283a3a0a",
>>>>>>> b9a670dc68b3b2caf9614b9a8412444259f30c13
   "metadata": {},
   "outputs": [],
   "source": [
    "sentiment = get_sentiment_news_data_from_gcp()"
   ]
  },
  {
   "cell_type": "code",
<<<<<<< HEAD
   "execution_count": 111,
   "id": "e24b0ff8",
=======
   "execution_count": 8,
   "id": "7e7ca824",
>>>>>>> b9a670dc68b3b2caf9614b9a8412444259f30c13
   "metadata": {},
   "outputs": [],
   "source": [
    "sentiment = sentiment[['date', 'ticker', 'class_label']]"
   ]
  },
  {
   "cell_type": "code",
<<<<<<< HEAD
   "execution_count": 112,
   "id": "c4585f37",
=======
   "execution_count": 9,
   "id": "83d119b2",
>>>>>>> b9a670dc68b3b2caf9614b9a8412444259f30c13
   "metadata": {},
   "outputs": [],
   "source": [
    "sentiment = sentiment.loc[sentiment['ticker'] == 'AMZN']"
   ]
  },
  {
   "cell_type": "code",
<<<<<<< HEAD
   "execution_count": 113,
   "id": "d0928f2a",
=======
   "execution_count": 10,
   "id": "dc858e19",
>>>>>>> b9a670dc68b3b2caf9614b9a8412444259f30c13
   "metadata": {},
   "outputs": [],
   "source": [
    "sentiment = sentiment.reset_index(drop=True)"
   ]
  },
  {
   "cell_type": "code",
<<<<<<< HEAD
   "execution_count": 114,
   "id": "3c5de86a",
=======
   "execution_count": 11,
   "id": "f0f5a35e",
>>>>>>> b9a670dc68b3b2caf9614b9a8412444259f30c13
   "metadata": {},
   "outputs": [],
   "source": [
    "sentiment = sentiment.drop(columns=['ticker'])\n"
   ]
  },
  {
   "cell_type": "code",
<<<<<<< HEAD
   "execution_count": 115,
   "id": "edeb98b1",
=======
   "execution_count": 12,
   "id": "ddd58c30",
>>>>>>> b9a670dc68b3b2caf9614b9a8412444259f30c13
   "metadata": {},
   "outputs": [],
   "source": [
    "sentiment['date'] = pd.to_datetime(sentiment['date'], infer_datetime_format=True)"
   ]
  },
  {
   "cell_type": "code",
<<<<<<< HEAD
   "execution_count": 120,
   "id": "602d061c",
=======
   "execution_count": 13,
   "id": "db68dfe1",
>>>>>>> b9a670dc68b3b2caf9614b9a8412444259f30c13
   "metadata": {},
   "outputs": [
    {
     "data": {
      "text/plain": [
       "Timestamp('2020-11-02 00:00:00')"
      ]
     },
     "execution_count": 13,
     "metadata": {},
     "output_type": "execute_result"
    }
   ],
   "source": [
    "min_date = sentiment[\"date\"].min()\n",
    "min_date"
   ]
  },
  {
   "cell_type": "code",
<<<<<<< HEAD
   "execution_count": 117,
   "id": "70d94457",
=======
   "execution_count": 14,
   "id": "ec6deae9",
>>>>>>> b9a670dc68b3b2caf9614b9a8412444259f30c13
   "metadata": {},
   "outputs": [
    {
     "data": {
      "text/html": [
       "<div>\n",
       "<style scoped>\n",
       "    .dataframe tbody tr th:only-of-type {\n",
       "        vertical-align: middle;\n",
       "    }\n",
       "\n",
       "    .dataframe tbody tr th {\n",
       "        vertical-align: top;\n",
       "    }\n",
       "\n",
       "    .dataframe thead th {\n",
       "        text-align: right;\n",
       "    }\n",
       "</style>\n",
       "<table border=\"1\" class=\"dataframe\">\n",
       "  <thead>\n",
       "    <tr style=\"text-align: right;\">\n",
       "      <th></th>\n",
       "      <th>date</th>\n",
       "      <th>class_label</th>\n",
       "    </tr>\n",
       "  </thead>\n",
       "  <tbody>\n",
       "    <tr>\n",
       "      <th>0</th>\n",
       "      <td>2020-11-02</td>\n",
       "      <td>0.000000</td>\n",
       "    </tr>\n",
       "    <tr>\n",
       "      <th>1</th>\n",
       "      <td>2020-11-05</td>\n",
       "      <td>1.000000</td>\n",
       "    </tr>\n",
       "    <tr>\n",
       "      <th>2</th>\n",
       "      <td>2020-11-06</td>\n",
       "      <td>0.333333</td>\n",
       "    </tr>\n",
       "    <tr>\n",
       "      <th>3</th>\n",
       "      <td>2020-11-07</td>\n",
       "      <td>1.000000</td>\n",
       "    </tr>\n",
       "    <tr>\n",
       "      <th>4</th>\n",
       "      <td>2020-11-09</td>\n",
       "      <td>0.250000</td>\n",
       "    </tr>\n",
       "  </tbody>\n",
       "</table>\n",
       "</div>"
      ],
      "text/plain": [
       "        date  class_label\n",
       "0 2020-11-02     0.000000\n",
       "1 2020-11-05     1.000000\n",
       "2 2020-11-06     0.333333\n",
       "3 2020-11-07     1.000000\n",
       "4 2020-11-09     0.250000"
      ]
     },
     "execution_count": 14,
     "metadata": {},
     "output_type": "execute_result"
    }
   ],
   "source": [
    "sentiment.head()"
   ]
  },
  {
   "cell_type": "code",
<<<<<<< HEAD
   "execution_count": 123,
   "id": "19190cfd",
=======
   "execution_count": 74,
   "id": "be16d52c",
   "metadata": {},
   "outputs": [],
   "source": [
    "sentiment.to_csv(\"sentiment\", index=False)"
   ]
  },
  {
   "cell_type": "code",
   "execution_count": 15,
   "id": "e58aa5f9",
>>>>>>> b9a670dc68b3b2caf9614b9a8412444259f30c13
   "metadata": {},
   "outputs": [],
   "source": [
    "df_stocks = df_stocks[['date', 'AMZN']]\n",
    "df_stocks[\"date\"] = pd.to_datetime(df_stocks['date'], infer_datetime_format=True)"
   ]
  },
  {
   "cell_type": "code",
<<<<<<< HEAD
   "execution_count": 124,
   "id": "ee90bd66",
=======
   "execution_count": 16,
   "id": "8eb7cd23",
>>>>>>> b9a670dc68b3b2caf9614b9a8412444259f30c13
   "metadata": {},
   "outputs": [
    {
     "data": {
      "text/html": [
       "<div>\n",
       "<style scoped>\n",
       "    .dataframe tbody tr th:only-of-type {\n",
       "        vertical-align: middle;\n",
       "    }\n",
       "\n",
       "    .dataframe tbody tr th {\n",
       "        vertical-align: top;\n",
       "    }\n",
       "\n",
       "    .dataframe thead th {\n",
       "        text-align: right;\n",
       "    }\n",
       "</style>\n",
       "<table border=\"1\" class=\"dataframe\">\n",
       "  <thead>\n",
       "    <tr style=\"text-align: right;\">\n",
       "      <th></th>\n",
       "      <th>date</th>\n",
       "      <th>AMZN</th>\n",
       "    </tr>\n",
       "  </thead>\n",
       "  <tbody>\n",
       "    <tr>\n",
       "      <th>266</th>\n",
       "      <td>2020-11-02</td>\n",
       "      <td>3004.48</td>\n",
       "    </tr>\n",
       "    <tr>\n",
       "      <th>265</th>\n",
       "      <td>2020-11-03</td>\n",
       "      <td>3048.41</td>\n",
       "    </tr>\n",
       "    <tr>\n",
       "      <th>264</th>\n",
       "      <td>2020-11-04</td>\n",
       "      <td>3241.16</td>\n",
       "    </tr>\n",
       "    <tr>\n",
       "      <th>263</th>\n",
       "      <td>2020-11-05</td>\n",
       "      <td>3322.00</td>\n",
       "    </tr>\n",
       "    <tr>\n",
       "      <th>262</th>\n",
       "      <td>2020-11-06</td>\n",
       "      <td>3311.37</td>\n",
       "    </tr>\n",
       "    <tr>\n",
       "      <th>...</th>\n",
       "      <td>...</td>\n",
       "      <td>...</td>\n",
       "    </tr>\n",
       "    <tr>\n",
       "      <th>4</th>\n",
       "      <td>2021-11-16</td>\n",
       "      <td>3540.70</td>\n",
       "    </tr>\n",
       "    <tr>\n",
       "      <th>3</th>\n",
       "      <td>2021-11-17</td>\n",
       "      <td>3549.00</td>\n",
       "    </tr>\n",
       "    <tr>\n",
       "      <th>2</th>\n",
       "      <td>2021-11-18</td>\n",
       "      <td>3696.06</td>\n",
       "    </tr>\n",
       "    <tr>\n",
       "      <th>1</th>\n",
       "      <td>2021-11-19</td>\n",
       "      <td>3676.57</td>\n",
       "    </tr>\n",
       "    <tr>\n",
       "      <th>0</th>\n",
       "      <td>2021-11-22</td>\n",
       "      <td>3572.57</td>\n",
       "    </tr>\n",
       "  </tbody>\n",
       "</table>\n",
       "<p>267 rows × 2 columns</p>\n",
       "</div>"
      ],
      "text/plain": [
       "          date     AMZN\n",
       "266 2020-11-02  3004.48\n",
       "265 2020-11-03  3048.41\n",
       "264 2020-11-04  3241.16\n",
       "263 2020-11-05  3322.00\n",
       "262 2020-11-06  3311.37\n",
       "..         ...      ...\n",
       "4   2021-11-16  3540.70\n",
       "3   2021-11-17  3549.00\n",
       "2   2021-11-18  3696.06\n",
       "1   2021-11-19  3676.57\n",
       "0   2021-11-22  3572.57\n",
       "\n",
       "[267 rows x 2 columns]"
      ]
     },
     "execution_count": 16,
     "metadata": {},
     "output_type": "execute_result"
    }
   ],
   "source": [
    "stock_df = df_stocks[df_stocks[\"date\"]>= min_date]\n",
    "stock_df"
   ]
  },
  {
   "cell_type": "code",
<<<<<<< HEAD
   "execution_count": 125,
   "id": "d6539091",
=======
   "execution_count": 78,
   "id": "ec33b2ea",
>>>>>>> b9a670dc68b3b2caf9614b9a8412444259f30c13
   "metadata": {},
   "outputs": [
    {
     "data": {
      "text/html": [
       "<div>\n",
       "<style scoped>\n",
       "    .dataframe tbody tr th:only-of-type {\n",
       "        vertical-align: middle;\n",
       "    }\n",
       "\n",
       "    .dataframe tbody tr th {\n",
       "        vertical-align: top;\n",
       "    }\n",
       "\n",
       "    .dataframe thead th {\n",
       "        text-align: right;\n",
       "    }\n",
       "</style>\n",
       "<table border=\"1\" class=\"dataframe\">\n",
       "  <thead>\n",
       "    <tr style=\"text-align: right;\">\n",
       "      <th></th>\n",
       "      <th>date</th>\n",
       "      <th>AMZN</th>\n",
       "      <th>class_label</th>\n",
       "    </tr>\n",
       "  </thead>\n",
       "  <tbody>\n",
       "    <tr>\n",
       "      <th>0</th>\n",
       "      <td>2020-11-02</td>\n",
       "      <td>3004.48</td>\n",
       "      <td>0.000000</td>\n",
       "    </tr>\n",
       "    <tr>\n",
       "      <th>1</th>\n",
       "      <td>2020-11-03</td>\n",
       "      <td>3048.41</td>\n",
       "      <td>NaN</td>\n",
       "    </tr>\n",
       "    <tr>\n",
       "      <th>2</th>\n",
       "      <td>2020-11-04</td>\n",
       "      <td>3241.16</td>\n",
       "      <td>NaN</td>\n",
       "    </tr>\n",
       "    <tr>\n",
       "      <th>3</th>\n",
       "      <td>2020-11-05</td>\n",
       "      <td>3322.00</td>\n",
       "      <td>1.000000</td>\n",
       "    </tr>\n",
       "    <tr>\n",
       "      <th>4</th>\n",
       "      <td>2020-11-06</td>\n",
       "      <td>3311.37</td>\n",
       "      <td>0.333333</td>\n",
       "    </tr>\n",
       "  </tbody>\n",
       "</table>\n",
       "</div>"
      ],
      "text/plain": [
       "        date     AMZN  class_label\n",
       "0 2020-11-02  3004.48     0.000000\n",
       "1 2020-11-03  3048.41          NaN\n",
       "2 2020-11-04  3241.16          NaN\n",
       "3 2020-11-05  3322.00     1.000000\n",
       "4 2020-11-06  3311.37     0.333333"
      ]
     },
     "execution_count": 78,
     "metadata": {},
     "output_type": "execute_result"
    }
   ],
   "source": [
    "merged_df = pd.merge(stock_df, sentiment, on='date', how='outer')\n",
    "merged_df.head()"
   ]
  },
  {
   "cell_type": "markdown",
<<<<<<< HEAD
   "id": "8fb20184",
=======
   "id": "5939f07c",
>>>>>>> b9a670dc68b3b2caf9614b9a8412444259f30c13
   "metadata": {},
   "source": [
    "## Preprocess and merge data"
   ]
  },
  {
   "cell_type": "code",
<<<<<<< HEAD
   "execution_count": 126,
   "id": "172aa77c",
=======
   "execution_count": 79,
   "id": "182e70cd",
>>>>>>> b9a670dc68b3b2caf9614b9a8412444259f30c13
   "metadata": {},
   "outputs": [],
   "source": [
    "merged_df.sort_values(by='date', ascending=True, inplace=True)"
   ]
  },
  {
   "cell_type": "code",
<<<<<<< HEAD
   "execution_count": 127,
   "id": "775a9689",
=======
   "execution_count": 80,
   "id": "1b66b902",
>>>>>>> b9a670dc68b3b2caf9614b9a8412444259f30c13
   "metadata": {},
   "outputs": [],
   "source": [
    "merged_df.reset_index(inplace=True, drop=True)"
   ]
  },
  {
   "cell_type": "code",
<<<<<<< HEAD
   "execution_count": 128,
   "id": "86ea9694",
=======
   "execution_count": 81,
   "id": "e6214ef1",
>>>>>>> b9a670dc68b3b2caf9614b9a8412444259f30c13
   "metadata": {},
   "outputs": [
    {
     "data": {
      "text/plain": [
       "<AxesSubplot:>"
      ]
     },
     "execution_count": 81,
     "metadata": {},
     "output_type": "execute_result"
    },
    {
     "data": {
      "image/png": "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\n",
      "text/plain": [
       "<Figure size 432x288 with 1 Axes>"
      ]
     },
     "metadata": {
      "needs_background": "light"
     },
     "output_type": "display_data"
    }
   ],
   "source": [
    "merged_df[\"AMZN\"].plot()"
   ]
  },
  {
   "cell_type": "code",
<<<<<<< HEAD
   "execution_count": 129,
   "id": "406e13f3",
=======
   "execution_count": 82,
   "id": "a503aeff",
>>>>>>> b9a670dc68b3b2caf9614b9a8412444259f30c13
   "metadata": {},
   "outputs": [
    {
     "data": {
      "text/plain": [
       "<AxesSubplot:>"
      ]
     },
     "execution_count": 82,
     "metadata": {},
     "output_type": "execute_result"
    },
    {
     "data": {
      "image/png": "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\n",
      "text/plain": [
       "<Figure size 432x288 with 1 Axes>"
      ]
     },
     "metadata": {
      "needs_background": "light"
     },
     "output_type": "display_data"
    }
   ],
   "source": [
    "merged_df[\"AMZN\"].interpolate(method='pad', limit=3).plot()"
   ]
  },
  {
   "cell_type": "code",
<<<<<<< HEAD
   "execution_count": 130,
   "id": "b6233ccf",
=======
   "execution_count": 83,
   "id": "809e7f58",
>>>>>>> b9a670dc68b3b2caf9614b9a8412444259f30c13
   "metadata": {},
   "outputs": [],
   "source": [
    "merged_df[\"AMZN\"] = merged_df[\"AMZN\"].interpolate(method='pad', limit=3)"
   ]
  },
  {
   "cell_type": "code",
<<<<<<< HEAD
   "execution_count": 132,
   "id": "c56a1b16",
=======
   "execution_count": 84,
   "id": "8bb3e65a",
>>>>>>> b9a670dc68b3b2caf9614b9a8412444259f30c13
   "metadata": {},
   "outputs": [],
   "source": [
    "merged_df.fillna(value=-1, inplace=True)"
   ]
  },
  {
   "cell_type": "code",
   "execution_count": 85,
   "id": "eef89ac5",
   "metadata": {},
   "outputs": [],
   "source": [
    "merged_df.to_csv(\"merged_df\")"
   ]
  },
  {
   "cell_type": "code",
   "execution_count": null,
<<<<<<< HEAD
   "id": "80e6351f",
=======
   "id": "0f7f7384",
   "metadata": {},
   "outputs": [],
   "source": [
    "# @Davy start from this point!!!!!"
   ]
  },
  {
   "cell_type": "code",
   "execution_count": 87,
   "id": "dbb3617c",
   "metadata": {},
   "outputs": [
    {
     "data": {
      "text/html": [
       "<div>\n",
       "<style scoped>\n",
       "    .dataframe tbody tr th:only-of-type {\n",
       "        vertical-align: middle;\n",
       "    }\n",
       "\n",
       "    .dataframe tbody tr th {\n",
       "        vertical-align: top;\n",
       "    }\n",
       "\n",
       "    .dataframe thead th {\n",
       "        text-align: right;\n",
       "    }\n",
       "</style>\n",
       "<table border=\"1\" class=\"dataframe\">\n",
       "  <thead>\n",
       "    <tr style=\"text-align: right;\">\n",
       "      <th></th>\n",
       "      <th>date</th>\n",
       "      <th>AMZN</th>\n",
       "      <th>class_label</th>\n",
       "    </tr>\n",
       "  </thead>\n",
       "  <tbody>\n",
       "    <tr>\n",
       "      <th>0</th>\n",
       "      <td>2020-11-02</td>\n",
       "      <td>3004.48</td>\n",
       "      <td>0.000000</td>\n",
       "    </tr>\n",
       "    <tr>\n",
       "      <th>1</th>\n",
       "      <td>2020-11-03</td>\n",
       "      <td>3048.41</td>\n",
       "      <td>-1.000000</td>\n",
       "    </tr>\n",
       "    <tr>\n",
       "      <th>2</th>\n",
       "      <td>2020-11-04</td>\n",
       "      <td>3241.16</td>\n",
       "      <td>-1.000000</td>\n",
       "    </tr>\n",
       "    <tr>\n",
       "      <th>3</th>\n",
       "      <td>2020-11-05</td>\n",
       "      <td>3322.00</td>\n",
       "      <td>1.000000</td>\n",
       "    </tr>\n",
       "    <tr>\n",
       "      <th>4</th>\n",
       "      <td>2020-11-06</td>\n",
       "      <td>3311.37</td>\n",
       "      <td>0.333333</td>\n",
       "    </tr>\n",
       "  </tbody>\n",
       "</table>\n",
       "</div>"
      ],
      "text/plain": [
       "        date     AMZN  class_label\n",
       "0 2020-11-02  3004.48     0.000000\n",
       "1 2020-11-03  3048.41    -1.000000\n",
       "2 2020-11-04  3241.16    -1.000000\n",
       "3 2020-11-05  3322.00     1.000000\n",
       "4 2020-11-06  3311.37     0.333333"
      ]
     },
     "execution_count": 87,
     "metadata": {},
     "output_type": "execute_result"
    }
   ],
   "source": [
    "merged_df.head()"
   ]
  },
  {
   "cell_type": "code",
   "execution_count": 24,
   "id": "354c432e",
>>>>>>> b9a670dc68b3b2caf9614b9a8412444259f30c13
   "metadata": {},
   "outputs": [],
   "source": [
    "#put the data which dont have to be scaled in the index"
   ]
  },
  {
   "cell_type": "code",
<<<<<<< HEAD
   "execution_count": 134,
   "id": "0df79e4c",
=======
   "execution_count": 25,
   "id": "99d26e0d",
>>>>>>> b9a670dc68b3b2caf9614b9a8412444259f30c13
   "metadata": {},
   "outputs": [],
   "source": [
    "df_temp = merged_df.set_index([\"date\", \"class_label\"])"
   ]
  },
  {
   "cell_type": "code",
<<<<<<< HEAD
   "execution_count": 135,
   "id": "79be678c",
=======
   "execution_count": 26,
   "id": "65bd0559",
>>>>>>> b9a670dc68b3b2caf9614b9a8412444259f30c13
   "metadata": {},
   "outputs": [],
   "source": [
    "df_temp = df_temp[[\"AMZN\"]]"
   ]
  },
  {
   "cell_type": "code",
<<<<<<< HEAD
   "execution_count": 188,
   "id": "423a6c3b",
=======
   "execution_count": 27,
   "id": "b3e1b2bb",
>>>>>>> b9a670dc68b3b2caf9614b9a8412444259f30c13
   "metadata": {},
   "outputs": [
    {
     "data": {
      "text/plain": [
       "(370, 1)"
      ]
     },
     "execution_count": 27,
     "metadata": {},
     "output_type": "execute_result"
    }
   ],
   "source": [
    "df_temp.shape"
   ]
  },
  {
   "cell_type": "markdown",
<<<<<<< HEAD
   "id": "4d3ae9cf",
=======
   "id": "09ff6a74",
>>>>>>> b9a670dc68b3b2caf9614b9a8412444259f30c13
   "metadata": {},
   "source": [
    "### Scaling stocks"
   ]
  },
  {
   "cell_type": "code",
<<<<<<< HEAD
   "execution_count": 191,
   "id": "a808bbfa",
=======
   "execution_count": 28,
   "id": "af614fa5",
>>>>>>> b9a670dc68b3b2caf9614b9a8412444259f30c13
   "metadata": {},
   "outputs": [
    {
     "data": {
      "text/plain": [
       "(370, 1)"
      ]
     },
     "execution_count": 28,
     "metadata": {},
     "output_type": "execute_result"
    }
   ],
   "source": [
    "from sklearn.preprocessing import StandardScaler, MinMaxScaler\n",
    "\n",
    "scaler = MinMaxScaler()\n",
    "X_scaled_temp = scaler.fit_transform(df_temp)\n",
    "X_scaled_temp.shape"
   ]
  },
  {
   "cell_type": "code",
<<<<<<< HEAD
   "execution_count": 138,
   "id": "5ff7b24b",
=======
   "execution_count": 29,
   "id": "bd354c02",
>>>>>>> b9a670dc68b3b2caf9614b9a8412444259f30c13
   "metadata": {},
   "outputs": [
    {
     "data": {
      "text/html": [
       "<div>\n",
       "<style scoped>\n",
       "    .dataframe tbody tr th:only-of-type {\n",
       "        vertical-align: middle;\n",
       "    }\n",
       "\n",
       "    .dataframe tbody tr th {\n",
       "        vertical-align: top;\n",
       "    }\n",
       "\n",
       "    .dataframe thead th {\n",
       "        text-align: right;\n",
       "    }\n",
       "</style>\n",
       "<table border=\"1\" class=\"dataframe\">\n",
       "  <thead>\n",
       "    <tr style=\"text-align: right;\">\n",
       "      <th></th>\n",
       "      <th>date</th>\n",
       "      <th>AMZN</th>\n",
       "      <th>class_label</th>\n",
       "    </tr>\n",
       "  </thead>\n",
       "  <tbody>\n",
       "    <tr>\n",
       "      <th>0</th>\n",
       "      <td>2020-11-02</td>\n",
       "      <td>0.067393</td>\n",
       "      <td>0.000000</td>\n",
       "    </tr>\n",
       "    <tr>\n",
       "      <th>1</th>\n",
       "      <td>2020-11-03</td>\n",
       "      <td>0.123752</td>\n",
       "      <td>-1.000000</td>\n",
       "    </tr>\n",
       "    <tr>\n",
       "      <th>2</th>\n",
       "      <td>2020-11-04</td>\n",
       "      <td>0.371039</td>\n",
       "      <td>-1.000000</td>\n",
       "    </tr>\n",
       "    <tr>\n",
       "      <th>3</th>\n",
       "      <td>2020-11-05</td>\n",
       "      <td>0.474752</td>\n",
       "      <td>1.000000</td>\n",
       "    </tr>\n",
       "    <tr>\n",
       "      <th>4</th>\n",
       "      <td>2020-11-06</td>\n",
       "      <td>0.461114</td>\n",
       "      <td>0.333333</td>\n",
       "    </tr>\n",
       "    <tr>\n",
       "      <th>5</th>\n",
       "      <td>2020-11-07</td>\n",
       "      <td>0.461114</td>\n",
       "      <td>1.000000</td>\n",
       "    </tr>\n",
       "    <tr>\n",
       "      <th>6</th>\n",
       "      <td>2020-11-09</td>\n",
       "      <td>0.246055</td>\n",
       "      <td>0.250000</td>\n",
       "    </tr>\n",
       "    <tr>\n",
       "      <th>7</th>\n",
       "      <td>2020-11-10</td>\n",
       "      <td>0.106574</td>\n",
       "      <td>1.000000</td>\n",
       "    </tr>\n",
       "    <tr>\n",
       "      <th>8</th>\n",
       "      <td>2020-11-11</td>\n",
       "      <td>0.237908</td>\n",
       "      <td>0.000000</td>\n",
       "    </tr>\n",
       "    <tr>\n",
       "      <th>9</th>\n",
       "      <td>2020-11-12</td>\n",
       "      <td>0.203128</td>\n",
       "      <td>1.000000</td>\n",
       "    </tr>\n",
       "    <tr>\n",
       "      <th>10</th>\n",
       "      <td>2020-11-13</td>\n",
       "      <td>0.226901</td>\n",
       "      <td>0.000000</td>\n",
       "    </tr>\n",
       "    <tr>\n",
       "      <th>11</th>\n",
       "      <td>2020-11-16</td>\n",
       "      <td>0.229787</td>\n",
       "      <td>0.000000</td>\n",
       "    </tr>\n",
       "    <tr>\n",
       "      <th>12</th>\n",
       "      <td>2020-11-17</td>\n",
       "      <td>0.235689</td>\n",
       "      <td>-1.000000</td>\n",
       "    </tr>\n",
       "    <tr>\n",
       "      <th>13</th>\n",
       "      <td>2020-11-18</td>\n",
       "      <td>0.196944</td>\n",
       "      <td>-1.000000</td>\n",
       "    </tr>\n",
       "    <tr>\n",
       "      <th>14</th>\n",
       "      <td>2020-11-19</td>\n",
       "      <td>0.211775</td>\n",
       "      <td>0.666667</td>\n",
       "    </tr>\n",
       "    <tr>\n",
       "      <th>15</th>\n",
       "      <td>2020-11-20</td>\n",
       "      <td>0.189169</td>\n",
       "      <td>-1.000000</td>\n",
       "    </tr>\n",
       "    <tr>\n",
       "      <th>16</th>\n",
       "      <td>2020-11-22</td>\n",
       "      <td>0.189169</td>\n",
       "      <td>1.000000</td>\n",
       "    </tr>\n",
       "    <tr>\n",
       "      <th>17</th>\n",
       "      <td>2020-11-23</td>\n",
       "      <td>0.187874</td>\n",
       "      <td>0.500000</td>\n",
       "    </tr>\n",
       "    <tr>\n",
       "      <th>18</th>\n",
       "      <td>2020-11-24</td>\n",
       "      <td>0.213109</td>\n",
       "      <td>0.500000</td>\n",
       "    </tr>\n",
       "    <tr>\n",
       "      <th>19</th>\n",
       "      <td>2020-11-25</td>\n",
       "      <td>0.299079</td>\n",
       "      <td>0.800000</td>\n",
       "    </tr>\n",
       "  </tbody>\n",
       "</table>\n",
       "</div>"
      ],
      "text/plain": [
       "         date      AMZN  class_label\n",
       "0  2020-11-02  0.067393     0.000000\n",
       "1  2020-11-03  0.123752    -1.000000\n",
       "2  2020-11-04  0.371039    -1.000000\n",
       "3  2020-11-05  0.474752     1.000000\n",
       "4  2020-11-06  0.461114     0.333333\n",
       "5  2020-11-07  0.461114     1.000000\n",
       "6  2020-11-09  0.246055     0.250000\n",
       "7  2020-11-10  0.106574     1.000000\n",
       "8  2020-11-11  0.237908     0.000000\n",
       "9  2020-11-12  0.203128     1.000000\n",
       "10 2020-11-13  0.226901     0.000000\n",
       "11 2020-11-16  0.229787     0.000000\n",
       "12 2020-11-17  0.235689    -1.000000\n",
       "13 2020-11-18  0.196944    -1.000000\n",
       "14 2020-11-19  0.211775     0.666667\n",
       "15 2020-11-20  0.189169    -1.000000\n",
       "16 2020-11-22  0.189169     1.000000\n",
       "17 2020-11-23  0.187874     0.500000\n",
       "18 2020-11-24  0.213109     0.500000\n",
       "19 2020-11-25  0.299079     0.800000"
      ]
     },
     "execution_count": 29,
     "metadata": {},
     "output_type": "execute_result"
    }
   ],
   "source": [
    "merged_df[\"AMZN\"] = X_scaled_temp\n",
    "merged_df.head(20)\n"
   ]
  },
  {
   "cell_type": "code",
<<<<<<< HEAD
   "execution_count": 139,
   "id": "72519b92",
=======
   "execution_count": 30,
   "id": "11bfd54a",
>>>>>>> b9a670dc68b3b2caf9614b9a8412444259f30c13
   "metadata": {},
   "outputs": [],
   "source": [
    "df  = merged_df.copy()"
   ]
  },
  {
   "cell_type": "code",
<<<<<<< HEAD
   "execution_count": 31,
   "id": "b37c001d",
=======
<<<<<<< HEAD
   "execution_count": 15,
   "id": "d8d5695e",
   "metadata": {
    "scrolled": true
   },
=======
   "execution_count": 141,
<<<<<<< HEAD
   "id": "2b591c00",
=======
   "id": "b691a266",
>>>>>>> d125be344a592c283521ca1e0c0828bef20b4a02
>>>>>>> b9a670dc68b3b2caf9614b9a8412444259f30c13
   "metadata": {},
>>>>>>> bf1f73ebcf11d00956f92bf6392c3869fd94fb18
   "outputs": [
    {
     "data": {
      "text/html": [
       "<div>\n",
       "<style scoped>\n",
       "    .dataframe tbody tr th:only-of-type {\n",
       "        vertical-align: middle;\n",
       "    }\n",
       "\n",
       "    .dataframe tbody tr th {\n",
       "        vertical-align: top;\n",
       "    }\n",
       "\n",
       "    .dataframe thead th {\n",
       "        text-align: right;\n",
       "    }\n",
       "</style>\n",
       "<table border=\"1\" class=\"dataframe\">\n",
       "  <thead>\n",
       "    <tr style=\"text-align: right;\">\n",
       "      <th></th>\n",
       "      <th>date</th>\n",
       "      <th>AMZN</th>\n",
       "      <th>class_label</th>\n",
       "    </tr>\n",
       "  </thead>\n",
       "  <tbody>\n",
       "    <tr>\n",
       "      <th>0</th>\n",
       "      <td>2020-11-02</td>\n",
       "      <td>0.067393</td>\n",
       "      <td>0.000000</td>\n",
       "    </tr>\n",
       "    <tr>\n",
       "      <th>1</th>\n",
       "      <td>2020-11-03</td>\n",
       "      <td>0.123752</td>\n",
       "      <td>-1.000000</td>\n",
       "    </tr>\n",
       "    <tr>\n",
       "      <th>2</th>\n",
       "      <td>2020-11-04</td>\n",
       "      <td>0.371039</td>\n",
       "      <td>-1.000000</td>\n",
       "    </tr>\n",
       "    <tr>\n",
       "      <th>3</th>\n",
       "      <td>2020-11-05</td>\n",
       "      <td>0.474752</td>\n",
       "      <td>1.000000</td>\n",
       "    </tr>\n",
       "    <tr>\n",
       "      <th>4</th>\n",
       "      <td>2020-11-06</td>\n",
       "      <td>0.461114</td>\n",
       "      <td>0.333333</td>\n",
       "    </tr>\n",
       "  </tbody>\n",
       "</table>\n",
       "</div>"
      ],
      "text/plain": [
       "        date      AMZN  class_label\n",
       "0 2020-11-02  0.067393     0.000000\n",
       "1 2020-11-03  0.123752    -1.000000\n",
       "2 2020-11-04  0.371039    -1.000000\n",
       "3 2020-11-05  0.474752     1.000000\n",
       "4 2020-11-06  0.461114     0.333333"
      ]
     },
     "execution_count": 31,
     "metadata": {},
     "output_type": "execute_result"
    }
   ],
   "source": [
    "df.head()"
   ]
  },
  {
   "cell_type": "markdown",
<<<<<<< HEAD
   "id": "0b8a80ac",
=======
   "id": "ff1774c1",
>>>>>>> b9a670dc68b3b2caf9614b9a8412444259f30c13
   "metadata": {},
   "source": [
    "## prepare it for model LSTM"
   ]
  },
  {
   "cell_type": "code",
<<<<<<< HEAD
   "execution_count": 142,
   "id": "4df9bad0",
=======
   "execution_count": 32,
   "id": "0d260456",
>>>>>>> b9a670dc68b3b2caf9614b9a8412444259f30c13
   "metadata": {},
   "outputs": [],
   "source": [
    "df.set_index([\"date\"], inplace= True)"
   ]
  },
  {
   "cell_type": "code",
<<<<<<< HEAD
   "execution_count": 143,
   "id": "d20b9bf7",
=======
   "execution_count": 33,
   "id": "71a0b039",
>>>>>>> b9a670dc68b3b2caf9614b9a8412444259f30c13
   "metadata": {},
   "outputs": [
    {
     "data": {
      "image/png": "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\n",
      "text/plain": [
       "<Figure size 1224x144 with 1 Axes>"
      ]
     },
     "metadata": {
      "needs_background": "light"
     },
     "output_type": "display_data"
    },
    {
     "data": {
      "image/png": "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\n",
      "text/plain": [
       "<Figure size 1224x144 with 1 Axes>"
      ]
     },
     "metadata": {
      "needs_background": "light"
     },
     "output_type": "display_data"
    }
   ],
   "source": [
    "import matplotlib.pyplot as plt\n",
    "%matplotlib inline\n",
    "\n",
    "for col in df.columns:\n",
    "    color=\"orange\" if col == \"AMZN\" else \"blue\"\n",
    "    df[col].plot(figsize=(17, 2), color=color)\n",
    "    plt.title(col)\n",
    "    plt.show()"
   ]
  },
  {
   "cell_type": "code",
<<<<<<< HEAD
   "execution_count": 145,
   "id": "18a7f2c3",
=======
   "execution_count": 34,
   "id": "05b7988c",
>>>>>>> b9a670dc68b3b2caf9614b9a8412444259f30c13
   "metadata": {},
   "outputs": [
    {
     "data": {
      "text/html": [
       "<div>\n",
       "<style scoped>\n",
       "    .dataframe tbody tr th:only-of-type {\n",
       "        vertical-align: middle;\n",
       "    }\n",
       "\n",
       "    .dataframe tbody tr th {\n",
       "        vertical-align: top;\n",
       "    }\n",
       "\n",
       "    .dataframe thead th {\n",
       "        text-align: right;\n",
       "    }\n",
       "</style>\n",
       "<table border=\"1\" class=\"dataframe\">\n",
       "  <thead>\n",
       "    <tr style=\"text-align: right;\">\n",
       "      <th></th>\n",
       "      <th>AMZN</th>\n",
       "      <th>class_label</th>\n",
       "    </tr>\n",
       "  </thead>\n",
       "  <tbody>\n",
       "    <tr>\n",
       "      <th>count</th>\n",
       "      <td>370.000000</td>\n",
       "      <td>370.000000</td>\n",
       "    </tr>\n",
       "    <tr>\n",
       "      <th>mean</th>\n",
       "      <td>0.462176</td>\n",
       "      <td>0.467638</td>\n",
       "    </tr>\n",
       "    <tr>\n",
       "      <th>std</th>\n",
       "      <td>0.211097</td>\n",
       "      <td>0.334721</td>\n",
       "    </tr>\n",
       "    <tr>\n",
       "      <th>min</th>\n",
       "      <td>0.000000</td>\n",
       "      <td>-1.000000</td>\n",
       "    </tr>\n",
       "    <tr>\n",
       "      <th>25%</th>\n",
       "      <td>0.311446</td>\n",
       "      <td>0.360909</td>\n",
       "    </tr>\n",
       "    <tr>\n",
       "      <th>50%</th>\n",
       "      <td>0.445552</td>\n",
       "      <td>0.500000</td>\n",
       "    </tr>\n",
       "    <tr>\n",
       "      <th>75%</th>\n",
       "      <td>0.601166</td>\n",
       "      <td>0.605861</td>\n",
       "    </tr>\n",
       "    <tr>\n",
       "      <th>max</th>\n",
       "      <td>1.000000</td>\n",
       "      <td>1.000000</td>\n",
       "    </tr>\n",
       "  </tbody>\n",
       "</table>\n",
       "</div>"
      ],
      "text/plain": [
       "             AMZN  class_label\n",
       "count  370.000000   370.000000\n",
       "mean     0.462176     0.467638\n",
       "std      0.211097     0.334721\n",
       "min      0.000000    -1.000000\n",
       "25%      0.311446     0.360909\n",
       "50%      0.445552     0.500000\n",
       "75%      0.601166     0.605861\n",
       "max      1.000000     1.000000"
      ]
     },
     "execution_count": 34,
     "metadata": {},
     "output_type": "execute_result"
    }
   ],
   "source": [
    "df.describe()"
   ]
  },
  {
   "cell_type": "markdown",
<<<<<<< HEAD
   "id": "f995f80a",
=======
   "id": "0130e5c6",
>>>>>>> b9a670dc68b3b2caf9614b9a8412444259f30c13
   "metadata": {},
   "source": [
    "X.shape = number of sequence?, 30, 2 <br>\n",
    "y.shape = number of sequence?"
   ]
  },
  {
   "cell_type": "code",
<<<<<<< HEAD
   "execution_count": 146,
   "id": "9bd6e8e6",
=======
   "execution_count": 35,
   "id": "cca89c41",
>>>>>>> b9a670dc68b3b2caf9614b9a8412444259f30c13
   "metadata": {},
   "outputs": [],
   "source": [
    "import numpy as np\n",
    "\n",
    "def subsample_sequence(df, length):\n",
    "    \"\"\"\n",
    "    Given the initial dataframe `df`, return a shorter dataframe sequence of length `length`.\n",
    "    This shorter sequence should be selected at random\n",
    "    \"\"\"\n",
    "    # $CHALLENGIFY_BEGIN\n",
    "    last_possible = df.shape[0] - length\n",
    "    \n",
    "    random_start = np.random.randint(0, last_possible)\n",
    "    df_sample = df[random_start: random_start+length]\n",
    "    # $CHALLENGIFY_END\n",
    "    return df_sample"
   ]
  },
  {
   "cell_type": "code",
<<<<<<< HEAD
   "execution_count": 147,
   "id": "907d79fd",
=======
   "execution_count": 36,
   "id": "97114eb1",
>>>>>>> b9a670dc68b3b2caf9614b9a8412444259f30c13
   "metadata": {},
   "outputs": [],
   "source": [
    "# Test it \n",
    "assert subsample_sequence(df, 10).shape == (10, 2)"
   ]
  },
  {
   "cell_type": "code",
<<<<<<< HEAD
   "execution_count": 148,
   "id": "185ec7ee",
=======
   "execution_count": 37,
   "id": "b6cf5892",
>>>>>>> b9a670dc68b3b2caf9614b9a8412444259f30c13
   "metadata": {},
   "outputs": [],
   "source": [
    "def split_subsample_sequence(df, length):\n",
    "    '''Create one single random (X,y) pair'''\n",
    "    # $CHALLENGIFY_BEGIN\n",
    "    df_subsample = subsample_sequence(df, length)\n",
    "    y_sample = df_subsample.iloc[length -1]['AMZN'] # -1 means the future window\n",
    "    \n",
    "    X_sample = df_subsample[0:length -1]# -1 means the future window\n",
    "    X_sample = X_sample.values\n",
    "    # $CHALLENGIFY_END\n",
    "    return np.array(X_sample), np.array(y_sample)"
   ]
  },
  {
   "cell_type": "code",
<<<<<<< HEAD
   "execution_count": 149,
   "id": "77384182",
=======
   "execution_count": 38,
   "id": "c4ad7d58",
>>>>>>> b9a670dc68b3b2caf9614b9a8412444259f30c13
   "metadata": {},
   "outputs": [],
   "source": [
    "def compute_means(X, df_mean):\n",
    "    # Compute means of X\n",
    "    means = X.mean()\n",
    "    \n",
    "    # Case if ALL values of at least one feature of X are NaN, then reaplace with the whole df_mean\n",
    "    if means.isna().sum() != 0:\n",
    "        means.fillna(df_mean, inplace=True)\n",
    "        \n",
    "    return means\n",
    "\n",
    "def split_subsample_sequence(df, length, df_mean=None):\n",
    "    '''Return one single random sample (X_sample, y_sample) containing one sequence each of length `length`'''\n",
    "    # Trick to save time during potential recursive calls\n",
    "    if df_mean is None:\n",
    "        df_mean = df.mean()\n",
    "\n",
    "    df_subsample = subsample_sequence(df, length)\n",
    "    \n",
    "    y_sample = df_subsample.iloc[length-1]['AMZN']\n",
    "    # Case y_sample is NaN: redraw !\n",
    "    if y_sample != y_sample: # A value is not equal to itself only for NaN\n",
    "            X_sample, y_sample = split_subsample_sequence(df, length, df_mean) # Recursive call !!!\n",
    "            return np.array(X_sample), np.array(y_sample)\n",
    "\n",
    "    X_sample = df_subsample[0:length-1]\n",
    "    # Case X_sample has some NaNs\n",
    "    if X_sample.isna().sum().sum() !=0:\n",
    "        X_sample = X_sample.fillna(compute_means(X_sample, df_mean))\n",
    "        X_sample = X_sample.values\n",
    "        \n",
    "    return np.array(X_sample), np.array(y_sample)"
   ]
  },
  {
   "cell_type": "code",
<<<<<<< HEAD
   "execution_count": 150,
   "id": "2c0953fb",
=======
   "execution_count": 39,
   "id": "3be1e78b",
>>>>>>> b9a670dc68b3b2caf9614b9a8412444259f30c13
   "metadata": {},
   "outputs": [],
   "source": [
    "# Test it\n",
    "(X_sample, y_sample) = split_subsample_sequence(df, 10)\n",
    "assert X_sample.shape == (9,2)\n",
    "assert y_sample.shape == ()"
   ]
  },
  {
   "cell_type": "code",
<<<<<<< HEAD
   "execution_count": 151,
   "id": "182bbaae",
=======
   "execution_count": 40,
   "id": "265c8429",
>>>>>>> b9a670dc68b3b2caf9614b9a8412444259f30c13
   "metadata": {},
   "outputs": [],
   "source": [
    "def get_X_y(df, n_sequences, length): #length = 30, n_sequence = 12, df(12month)\n",
    "    '''Return a list of samples (X, y)'''\n",
    "    # $CHALLENGIFY_BEGIN\n",
    "    X, y = [], []\n",
    "\n",
    "    for i in range(n_sequences):\n",
    "        (xi, yi) = split_subsample_sequence(df, length)\n",
    "        X.append(xi)\n",
    "        y.append(yi)\n",
    "        \n",
    "    X = np.array(X)\n",
    "    y = np.array(y)\n",
    "    # $CHALLENGIFY_END\n",
    "    return X, y"
   ]
  },
  {
   "cell_type": "code",
<<<<<<< HEAD
   "execution_count": 153,
   "id": "3a448b63",
=======
   "execution_count": 41,
   "id": "5791bda7",
   "metadata": {},
   "outputs": [],
   "source": [
    "##TESTING"
   ]
  },
  {
   "cell_type": "raw",
   "id": "8d94ed35",
   "metadata": {},
   "source": [
    "def split_subsample_sequence(df, length):\n",
    "    '''Create one single random (X,y) pair'''\n",
    "    # $CHALLENGIFY_BEGIN\n",
    "    df_subsample = subsample_sequence(df, length)\n",
    "    y_sample = df_subsample.iloc[length -1][\"AMZN\"] # -1 means the future window\n",
    "    return df_subsample, y_sample\n",
    "\n",
    "new_test_df = split_subsample_sequence(df_test, 30)\n",
    "new_test_df[0]\n"
   ]
  },
  {
   "cell_type": "raw",
   "id": "54ce494d",
   "metadata": {},
   "source": [
    "def get_df_X_y(df, n_sequences, length): #length = 30, n_sequence = 12, df(12month)\n",
    "    '''Return a list of samples (X, y)'''\n",
    "    # $CHALLENGIFY_BEGIN\n",
    "    X, y = [], []\n",
    "\n",
    "    for i in range(n_sequences):\n",
    "        (xi, yi) = split_subsample_sequence(df, length)\n",
    "        X.append(xi)\n",
    "        y.append(yi)\n",
    "    return X, y\n",
    "\n",
    "df_list = get_df_X_y(df_test,12,30)\n"
   ]
  },
  {
   "cell_type": "raw",
   "id": "f0ba677f",
   "metadata": {},
   "source": [
    "import matplotlib.pyplot as plt\n",
    "fig, axs = plt.subplots(12, figsize=[20,100])\n",
    "# fig.suptitle('Vertically stacked subplots')\n",
    "\n",
    "for i in range(len(df_list[0])):\n",
    "    axs[i].plot(df_list[0][i])"
   ]
  },
  {
   "cell_type": "code",
   "execution_count": 42,
   "id": "67555623",
>>>>>>> b9a670dc68b3b2caf9614b9a8412444259f30c13
   "metadata": {},
   "outputs": [
    {
     "name": "stdout",
     "output_type": "stream",
     "text": [
      "(12, 29, 2)\n",
      "(12,)\n"
     ]
    }
   ],
   "source": [
    "X, y = get_X_y(df, 12, 30)\n",
    "print(X.shape)\n",
    "print(y.shape)"
   ]
  },
  {
   "cell_type": "markdown",
<<<<<<< HEAD
   "id": "4273af4c",
=======
   "id": "e848aff5",
>>>>>>> b9a670dc68b3b2caf9614b9a8412444259f30c13
   "metadata": {},
   "source": [
    "## Train test split"
   ]
  },
  {
   "cell_type": "code",
<<<<<<< HEAD
   "execution_count": 154,
   "id": "0a5f67da",
=======
   "execution_count": 43,
   "id": "24995e9c",
>>>>>>> b9a670dc68b3b2caf9614b9a8412444259f30c13
   "metadata": {},
   "outputs": [],
   "source": [
    "# len of train dataset should be 80%"
   ]
  },
  {
   "cell_type": "code",
<<<<<<< HEAD
   "execution_count": 155,
   "id": "576a5896",
=======
   "execution_count": 58,
   "id": "7f073a66",
>>>>>>> b9a670dc68b3b2caf9614b9a8412444259f30c13
   "metadata": {},
   "outputs": [
    {
     "name": "stdout",
     "output_type": "stream",
     "text": [
      "(296, 2)\n",
      "(74, 2)\n"
     ]
    }
   ],
   "source": [
    "len_ = int(0.8*df.shape[0])\n",
    "df_train = df[:len_]\n",
    "df_test = df[len_:]\n",
    "print(df_train.shape)\n",
    "print(df_test.shape)"
   ]
  },
  {
   "cell_type": "code",
<<<<<<< HEAD
   "execution_count": 244,
   "id": "34de9d70",
   "metadata": {},
   "outputs": [
    {
     "ename": "KeyError",
     "evalue": "0",
     "output_type": "error",
     "traceback": [
      "\u001b[0;31m---------------------------------------------------------------------------\u001b[0m",
      "\u001b[0;31mKeyError\u001b[0m                                  Traceback (most recent call last)",
      "\u001b[0;32m~/.pyenv/versions/3.8.12/envs/lewagon/lib/python3.8/site-packages/pandas/core/indexes/base.py\u001b[0m in \u001b[0;36mget_loc\u001b[0;34m(self, key, method, tolerance)\u001b[0m\n\u001b[1;32m   3360\u001b[0m             \u001b[0;32mtry\u001b[0m\u001b[0;34m:\u001b[0m\u001b[0;34m\u001b[0m\u001b[0;34m\u001b[0m\u001b[0m\n\u001b[0;32m-> 3361\u001b[0;31m                 \u001b[0;32mreturn\u001b[0m \u001b[0mself\u001b[0m\u001b[0;34m.\u001b[0m\u001b[0m_engine\u001b[0m\u001b[0;34m.\u001b[0m\u001b[0mget_loc\u001b[0m\u001b[0;34m(\u001b[0m\u001b[0mcasted_key\u001b[0m\u001b[0;34m)\u001b[0m\u001b[0;34m\u001b[0m\u001b[0;34m\u001b[0m\u001b[0m\n\u001b[0m\u001b[1;32m   3362\u001b[0m             \u001b[0;32mexcept\u001b[0m \u001b[0mKeyError\u001b[0m \u001b[0;32mas\u001b[0m \u001b[0merr\u001b[0m\u001b[0;34m:\u001b[0m\u001b[0;34m\u001b[0m\u001b[0;34m\u001b[0m\u001b[0m\n",
      "\u001b[0;32m~/.pyenv/versions/3.8.12/envs/lewagon/lib/python3.8/site-packages/pandas/_libs/index.pyx\u001b[0m in \u001b[0;36mpandas._libs.index.IndexEngine.get_loc\u001b[0;34m()\u001b[0m\n",
      "\u001b[0;32m~/.pyenv/versions/3.8.12/envs/lewagon/lib/python3.8/site-packages/pandas/_libs/index.pyx\u001b[0m in \u001b[0;36mpandas._libs.index.IndexEngine.get_loc\u001b[0;34m()\u001b[0m\n",
      "\u001b[0;32mpandas/_libs/hashtable_class_helper.pxi\u001b[0m in \u001b[0;36mpandas._libs.hashtable.PyObjectHashTable.get_item\u001b[0;34m()\u001b[0m\n",
      "\u001b[0;32mpandas/_libs/hashtable_class_helper.pxi\u001b[0m in \u001b[0;36mpandas._libs.hashtable.PyObjectHashTable.get_item\u001b[0;34m()\u001b[0m\n",
      "\u001b[0;31mKeyError\u001b[0m: 0",
      "\nThe above exception was the direct cause of the following exception:\n",
      "\u001b[0;31mKeyError\u001b[0m                                  Traceback (most recent call last)",
      "\u001b[0;32m/tmp/ipykernel_3344/3021419158.py\u001b[0m in \u001b[0;36m<module>\u001b[0;34m\u001b[0m\n\u001b[0;32m----> 1\u001b[0;31m \u001b[0mdf_test\u001b[0m\u001b[0;34m[\u001b[0m\u001b[0;36m0\u001b[0m\u001b[0;34m]\u001b[0m\u001b[0;34m\u001b[0m\u001b[0;34m\u001b[0m\u001b[0m\n\u001b[0m",
      "\u001b[0;32m~/.pyenv/versions/3.8.12/envs/lewagon/lib/python3.8/site-packages/pandas/core/frame.py\u001b[0m in \u001b[0;36m__getitem__\u001b[0;34m(self, key)\u001b[0m\n\u001b[1;32m   3456\u001b[0m             \u001b[0;32mif\u001b[0m \u001b[0mself\u001b[0m\u001b[0;34m.\u001b[0m\u001b[0mcolumns\u001b[0m\u001b[0;34m.\u001b[0m\u001b[0mnlevels\u001b[0m \u001b[0;34m>\u001b[0m \u001b[0;36m1\u001b[0m\u001b[0;34m:\u001b[0m\u001b[0;34m\u001b[0m\u001b[0;34m\u001b[0m\u001b[0m\n\u001b[1;32m   3457\u001b[0m                 \u001b[0;32mreturn\u001b[0m \u001b[0mself\u001b[0m\u001b[0;34m.\u001b[0m\u001b[0m_getitem_multilevel\u001b[0m\u001b[0;34m(\u001b[0m\u001b[0mkey\u001b[0m\u001b[0;34m)\u001b[0m\u001b[0;34m\u001b[0m\u001b[0;34m\u001b[0m\u001b[0m\n\u001b[0;32m-> 3458\u001b[0;31m             \u001b[0mindexer\u001b[0m \u001b[0;34m=\u001b[0m \u001b[0mself\u001b[0m\u001b[0;34m.\u001b[0m\u001b[0mcolumns\u001b[0m\u001b[0;34m.\u001b[0m\u001b[0mget_loc\u001b[0m\u001b[0;34m(\u001b[0m\u001b[0mkey\u001b[0m\u001b[0;34m)\u001b[0m\u001b[0;34m\u001b[0m\u001b[0;34m\u001b[0m\u001b[0m\n\u001b[0m\u001b[1;32m   3459\u001b[0m             \u001b[0;32mif\u001b[0m \u001b[0mis_integer\u001b[0m\u001b[0;34m(\u001b[0m\u001b[0mindexer\u001b[0m\u001b[0;34m)\u001b[0m\u001b[0;34m:\u001b[0m\u001b[0;34m\u001b[0m\u001b[0;34m\u001b[0m\u001b[0m\n\u001b[1;32m   3460\u001b[0m                 \u001b[0mindexer\u001b[0m \u001b[0;34m=\u001b[0m \u001b[0;34m[\u001b[0m\u001b[0mindexer\u001b[0m\u001b[0;34m]\u001b[0m\u001b[0;34m\u001b[0m\u001b[0;34m\u001b[0m\u001b[0m\n",
      "\u001b[0;32m~/.pyenv/versions/3.8.12/envs/lewagon/lib/python3.8/site-packages/pandas/core/indexes/base.py\u001b[0m in \u001b[0;36mget_loc\u001b[0;34m(self, key, method, tolerance)\u001b[0m\n\u001b[1;32m   3361\u001b[0m                 \u001b[0;32mreturn\u001b[0m \u001b[0mself\u001b[0m\u001b[0;34m.\u001b[0m\u001b[0m_engine\u001b[0m\u001b[0;34m.\u001b[0m\u001b[0mget_loc\u001b[0m\u001b[0;34m(\u001b[0m\u001b[0mcasted_key\u001b[0m\u001b[0;34m)\u001b[0m\u001b[0;34m\u001b[0m\u001b[0;34m\u001b[0m\u001b[0m\n\u001b[1;32m   3362\u001b[0m             \u001b[0;32mexcept\u001b[0m \u001b[0mKeyError\u001b[0m \u001b[0;32mas\u001b[0m \u001b[0merr\u001b[0m\u001b[0;34m:\u001b[0m\u001b[0;34m\u001b[0m\u001b[0;34m\u001b[0m\u001b[0m\n\u001b[0;32m-> 3363\u001b[0;31m                 \u001b[0;32mraise\u001b[0m \u001b[0mKeyError\u001b[0m\u001b[0;34m(\u001b[0m\u001b[0mkey\u001b[0m\u001b[0;34m)\u001b[0m \u001b[0;32mfrom\u001b[0m \u001b[0merr\u001b[0m\u001b[0;34m\u001b[0m\u001b[0;34m\u001b[0m\u001b[0m\n\u001b[0m\u001b[1;32m   3364\u001b[0m \u001b[0;34m\u001b[0m\u001b[0m\n\u001b[1;32m   3365\u001b[0m         \u001b[0;32mif\u001b[0m \u001b[0mis_scalar\u001b[0m\u001b[0;34m(\u001b[0m\u001b[0mkey\u001b[0m\u001b[0;34m)\u001b[0m \u001b[0;32mand\u001b[0m \u001b[0misna\u001b[0m\u001b[0;34m(\u001b[0m\u001b[0mkey\u001b[0m\u001b[0;34m)\u001b[0m \u001b[0;32mand\u001b[0m \u001b[0;32mnot\u001b[0m \u001b[0mself\u001b[0m\u001b[0;34m.\u001b[0m\u001b[0mhasnans\u001b[0m\u001b[0;34m:\u001b[0m\u001b[0;34m\u001b[0m\u001b[0;34m\u001b[0m\u001b[0m\n",
      "\u001b[0;31mKeyError\u001b[0m: 0"
     ]
    }
   ],
   "source": []
  },
  {
   "cell_type": "code",
   "execution_count": 243,
   "id": "7974a00b",
=======
   "execution_count": 66,
   "id": "685ec4f0",
   "metadata": {},
   "outputs": [],
   "source": [
    "X_train, y_train = get_X_y(df_train, 12, 30) # 12 sequences of a length of 30 days\n",
    "X_test, y_test = get_X_y(df_test, 12, 30) # 12 sequences of a length of 30 days"
   ]
  },
  {
   "cell_type": "code",
   "execution_count": 67,
   "id": "6584a055",
>>>>>>> b9a670dc68b3b2caf9614b9a8412444259f30c13
   "metadata": {},
   "outputs": [
    {
     "data": {
<<<<<<< HEAD
      "image/png": "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\n",
      "text/plain": [
       "<Figure size 432x288 with 1 Axes>"
      ]
     },
     "metadata": {
      "needs_background": "light"
     },
     "output_type": "display_data"
    }
   ],
   "source": [
    "import matplotlib.pyplot as plt\n",
    "plt.plot(df_test)\n",
    "\n",
    "plt.show;"
   ]
  },
  {
   "cell_type": "code",
   "execution_count": null,
   "id": "4b6beae4",
   "metadata": {},
   "outputs": [],
   "source": [
    "\n",
    "split_subsample_sequence(df_test, 30)"
   ]
  },
  {
   "cell_type": "code",
   "execution_count": 156,
   "id": "95d9c404",
   "metadata": {},
   "outputs": [],
   "source": [
    "X_train, y_train = get_X_y(df_train, 12, 30) # 12 sequences of a length of 30 days\n",
    "X_test, y_test = get_X_y(df_test, 12, 30) # 12 sequences of a length of 30 days"
=======
      "text/plain": [
       "(12, 29, 2)"
      ]
     },
     "execution_count": 67,
     "metadata": {},
     "output_type": "execute_result"
    }
   ],
   "source": [
    "X_test.shape"
>>>>>>> b9a670dc68b3b2caf9614b9a8412444259f30c13
   ]
  },
  {
   "cell_type": "code",
<<<<<<< HEAD
   "execution_count": 239,
   "id": "636d81e9",
=======
   "execution_count": 68,
   "id": "6bd92a3a",
>>>>>>> b9a670dc68b3b2caf9614b9a8412444259f30c13
   "metadata": {},
   "outputs": [
    {
     "data": {
      "text/plain": [
<<<<<<< HEAD
       "(12, 29, 2)"
      ]
     },
     "execution_count": 239,
=======
       "(12,)"
      ]
     },
     "execution_count": 68,
>>>>>>> b9a670dc68b3b2caf9614b9a8412444259f30c13
     "metadata": {},
     "output_type": "execute_result"
    }
   ],
   "source": [
<<<<<<< HEAD
    "X_test.shape"
   ]
  },
  {
   "cell_type": "code",
   "execution_count": 238,
   "id": "56f68e1e",
   "metadata": {},
   "outputs": [
    {
     "data": {
      "text/plain": [
       "(12,)"
      ]
     },
     "execution_count": 238,
     "metadata": {},
     "output_type": "execute_result"
    }
   ],
   "source": [
=======
>>>>>>> b9a670dc68b3b2caf9614b9a8412444259f30c13
    "y_test.shape"
   ]
  },
  {
   "cell_type": "markdown",
<<<<<<< HEAD
   "id": "8ab856a5",
=======
   "id": "c6e63c00",
>>>>>>> b9a670dc68b3b2caf9614b9a8412444259f30c13
   "metadata": {},
   "source": [
    "## predict a baseline"
   ]
  },
  {
   "cell_type": "code",
<<<<<<< HEAD
   "execution_count": 157,
   "id": "b38d89b7",
=======
   "execution_count": null,
   "id": "e93a0bd7",
>>>>>>> b9a670dc68b3b2caf9614b9a8412444259f30c13
   "metadata": {},
   "outputs": [],
   "source": [
    "# We here decide to predict the mean of the train set y_train\n",
    "y_pred = np.mean(y_train)\n",
    "bench_res = np.mean(np.abs(y_pred - y_test)/y_test)*100\n",
    "\n",
    "print(f'Benchmark MAPE on the test set : {bench_res:.0f} %')"
   ]
  },
  {
   "cell_type": "code",
<<<<<<< HEAD
   "execution_count": 158,
   "id": "72dcb95d",
=======
   "execution_count": null,
   "id": "22e52f38",
>>>>>>> b9a670dc68b3b2caf9614b9a8412444259f30c13
   "metadata": {},
   "outputs": [],
   "source": [
    "# Or (better) we predict the last pollution value!\n",
    "y_pred_baseline = X_test[:,-1,0]\n",
    "bench_res = np.mean(np.abs(y_pred_baseline - y_test)/y_test)*100\n",
    "print(f'Benchmark MAPE on the test set : {bench_res:.0f} %')"
   ]
  },
  {
   "cell_type": "markdown",
<<<<<<< HEAD
   "id": "959eab48",
=======
   "id": "cf9d6121",
>>>>>>> b9a670dc68b3b2caf9614b9a8412444259f30c13
   "metadata": {},
   "source": []
  },
  {
   "cell_type": "markdown",
<<<<<<< HEAD
   "id": "dc40417e",
=======
   "id": "d9beb63e",
>>>>>>> b9a670dc68b3b2caf9614b9a8412444259f30c13
   "metadata": {},
   "source": [
    "## Imports for model\n"
   ]
  },
  {
   "cell_type": "code",
<<<<<<< HEAD
   "execution_count": 192,
   "id": "e1ea1bab",
=======
   "execution_count": null,
   "id": "53a1c6d6",
>>>>>>> b9a670dc68b3b2caf9614b9a8412444259f30c13
   "metadata": {},
   "outputs": [],
   "source": [
    "from tensorflow.keras import models\n",
    "from tensorflow.keras import layers\n",
    "from tensorflow.keras import optimizers, metrics\n",
    "from tensorflow.keras.layers.experimental.preprocessing import Normalization\n",
    "from tensorflow.keras.callbacks import EarlyStopping\n",
    "import matplotlib.pyplot as plt"
   ]
  },
  {
   "cell_type": "markdown",
   "id": "eeb13e75",
   "metadata": {
    "heading_collapsed": true
   },
   "source": [
    "## simple LSTM"
   ]
  },
  {
   "cell_type": "code",
   "execution_count": 50,
   "id": "eca16b46",
   "metadata": {
    "hidden": true
   },
   "outputs": [
    {
     "name": "stderr",
     "output_type": "stream",
     "text": [
      "2021-12-01 12:35:30.448788: W tensorflow/stream_executor/platform/default/dso_loader.cc:64] Could not load dynamic library 'libcudart.so.11.0'; dlerror: libcudart.so.11.0: cannot open shared object file: No such file or directory\n",
      "2021-12-01 12:35:30.448980: I tensorflow/stream_executor/cuda/cudart_stub.cc:29] Ignore above cudart dlerror if you do not have a GPU set up on your machine.\n"
     ]
    }
   ],
   "source": [
    "def init_model():\n",
    "    metric = metrics.MAPE\n",
    "    opt = optimizers.RMSprop(learning_rate=0.01)\n",
    "    \n",
    "    model = models.Sequential()\n",
    "    model.add(layers.LSTM(20, activation='tanh'))\n",
    "    model.add(layers.Dense(5, activation='relu'))\n",
    "    model.add(layers.Dense(1, activation='linear'))\n",
    "    \n",
    "    model.compile(loss='mse', \n",
    "                  optimizer=opt, \n",
    "                  metrics=[metric])\n",
    "    \n",
    "    return model"
   ]
  },
  {
   "cell_type": "code",
<<<<<<< HEAD
   "execution_count": 194,
   "id": "56215103",
   "metadata": {},
=======
   "execution_count": 56,
   "id": "dc8c288f",
   "metadata": {
    "hidden": true
   },
>>>>>>> b9a670dc68b3b2caf9614b9a8412444259f30c13
   "outputs": [],
   "source": [
    "model = init_model()"
   ]
  },
  {
   "cell_type": "code",
<<<<<<< HEAD
   "execution_count": 195,
   "id": "0f6f8992",
   "metadata": {},
=======
   "execution_count": 57,
   "id": "f67c23b7",
   "metadata": {
    "collapsed": true,
    "hidden": true
   },
>>>>>>> b9a670dc68b3b2caf9614b9a8412444259f30c13
   "outputs": [
    {
     "ename": "NameError",
     "evalue": "name 'X_train' is not defined",
     "output_type": "error",
     "traceback": [
      "\u001b[0;31m---------------------------------------------------------------------------\u001b[0m",
      "\u001b[0;31mNameError\u001b[0m                                 Traceback (most recent call last)",
      "\u001b[0;32m/tmp/ipykernel_2669/3873395643.py\u001b[0m in \u001b[0;36m<module>\u001b[0;34m\u001b[0m\n\u001b[1;32m      2\u001b[0m \u001b[0mes\u001b[0m \u001b[0;34m=\u001b[0m \u001b[0mEarlyStopping\u001b[0m\u001b[0;34m(\u001b[0m\u001b[0mmonitor\u001b[0m\u001b[0;34m=\u001b[0m\u001b[0;34m'val_loss'\u001b[0m\u001b[0;34m,\u001b[0m \u001b[0mverbose\u001b[0m\u001b[0;34m=\u001b[0m\u001b[0;36m1\u001b[0m\u001b[0;34m,\u001b[0m \u001b[0mpatience\u001b[0m\u001b[0;34m=\u001b[0m\u001b[0;36m10\u001b[0m\u001b[0;34m,\u001b[0m \u001b[0mrestore_best_weights\u001b[0m\u001b[0;34m=\u001b[0m\u001b[0;32mTrue\u001b[0m\u001b[0;34m)\u001b[0m\u001b[0;34m\u001b[0m\u001b[0;34m\u001b[0m\u001b[0m\n\u001b[1;32m      3\u001b[0m \u001b[0;34m\u001b[0m\u001b[0m\n\u001b[0;32m----> 4\u001b[0;31m history = model.fit(X_train, y_train,\n\u001b[0m\u001b[1;32m      5\u001b[0m             \u001b[0mvalidation_split\u001b[0m\u001b[0;34m=\u001b[0m\u001b[0;36m0.2\u001b[0m\u001b[0;34m,\u001b[0m\u001b[0;34m\u001b[0m\u001b[0;34m\u001b[0m\u001b[0m\n\u001b[1;32m      6\u001b[0m             \u001b[0mepochs\u001b[0m\u001b[0;34m=\u001b[0m\u001b[0;36m1000\u001b[0m\u001b[0;34m,\u001b[0m\u001b[0;34m\u001b[0m\u001b[0;34m\u001b[0m\u001b[0m\n",
      "\u001b[0;31mNameError\u001b[0m: name 'X_train' is not defined"
     ]
    }
   ],
   "source": [
    "\n",
    "es = EarlyStopping(monitor='val_loss', verbose=1, patience=10, restore_best_weights=True)\n",
    "\n",
    "history = model.fit(X_train, y_train,\n",
    "            validation_split=0.2,\n",
    "            epochs=1000, \n",
    "            batch_size=64,\n",
    "            callbacks=[es], verbose=0)"
   ]
  },
  {
   "cell_type": "code",
<<<<<<< HEAD
   "execution_count": 196,
   "id": "67703995",
   "metadata": {},
   "outputs": [
    {
     "name": "stdout",
     "output_type": "stream",
     "text": [
      "Model: \"sequential_103\"\n",
      "_________________________________________________________________\n",
      " Layer (type)                Output Shape              Param #   \n",
      "=================================================================\n",
      " lstm_204 (LSTM)             (None, 20)                1840      \n",
      "                                                                 \n",
      " dense_206 (Dense)           (None, 5)                 105       \n",
      "                                                                 \n",
      " dense_207 (Dense)           (None, 1)                 6         \n",
      "                                                                 \n",
      "=================================================================\n",
      "Total params: 1,951\n",
      "Trainable params: 1,951\n",
      "Non-trainable params: 0\n",
      "_________________________________________________________________\n"
     ]
    }
   ],
=======
   "execution_count": null,
   "id": "3b195731",
   "metadata": {
    "hidden": true
   },
   "outputs": [],
>>>>>>> b9a670dc68b3b2caf9614b9a8412444259f30c13
   "source": [
    "model.summary()"
   ]
  },
  {
   "cell_type": "code",
<<<<<<< HEAD
   "execution_count": 197,
   "id": "60f0d113",
   "metadata": {},
   "outputs": [
    {
     "data": {
      "text/plain": [
       "[<matplotlib.lines.Line2D at 0x7f16a4090e20>]"
      ]
     },
     "execution_count": 197,
     "metadata": {},
     "output_type": "execute_result"
    },
    {
     "data": {
      "image/png": "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\n",
      "text/plain": [
       "<Figure size 432x288 with 1 Axes>"
      ]
     },
     "metadata": {
      "needs_background": "light"
     },
     "output_type": "display_data"
    }
   ],
=======
   "execution_count": null,
   "id": "01938e69",
   "metadata": {
    "hidden": true
   },
   "outputs": [],
>>>>>>> b9a670dc68b3b2caf9614b9a8412444259f30c13
   "source": [
    "\n",
    "plt.plot(history.history['mean_absolute_percentage_error'])\n",
    "plt.plot(history.history['val_mean_absolute_percentage_error'])"
   ]
  },
  {
   "cell_type": "code",
<<<<<<< HEAD
   "execution_count": 46,
   "id": "af7684f2",
   "metadata": {},
   "outputs": [
    {
     "name": "stdout",
     "output_type": "stream",
     "text": [
      "MAPE on the test set : 62 %\n"
     ]
    }
   ],
=======
   "execution_count": null,
   "id": "e16a67b4",
   "metadata": {
    "hidden": true
   },
   "outputs": [],
>>>>>>> b9a670dc68b3b2caf9614b9a8412444259f30c13
   "source": [
    "res = model.evaluate(X_test, y_test, verbose=0)\n",
    "\n",
    "print(f'MAPE on the test set : {res[1]:.0f} %')"
   ]
  },
  {
   "cell_type": "markdown",
<<<<<<< HEAD
   "id": "31b005c6",
   "metadata": {},
=======
   "id": "1fa24f95",
   "metadata": {
    "heading_collapsed": true
   },
>>>>>>> b9a670dc68b3b2caf9614b9a8412444259f30c13
   "source": [
    "## Improved Model"
   ]
  },
  {
   "cell_type": "code",
<<<<<<< HEAD
   "execution_count": 198,
   "id": "dfe4ca38",
   "metadata": {},
=======
   "execution_count": 53,
   "id": "de945b77",
   "metadata": {
    "hidden": true
   },
>>>>>>> b9a670dc68b3b2caf9614b9a8412444259f30c13
   "outputs": [
    {
     "ename": "NameError",
     "evalue": "name 'EarlyStopping' is not defined",
     "output_type": "error",
     "traceback": [
      "\u001b[0;31m---------------------------------------------------------------------------\u001b[0m",
      "\u001b[0;31mNameError\u001b[0m                                 Traceback (most recent call last)",
      "\u001b[0;32m/tmp/ipykernel_2669/1725965018.py\u001b[0m in \u001b[0;36m<module>\u001b[0;34m\u001b[0m\n\u001b[1;32m     17\u001b[0m \u001b[0mmodel_2\u001b[0m \u001b[0;34m=\u001b[0m \u001b[0minit_model_2\u001b[0m\u001b[0;34m(\u001b[0m\u001b[0;34m)\u001b[0m\u001b[0;34m\u001b[0m\u001b[0;34m\u001b[0m\u001b[0m\n\u001b[1;32m     18\u001b[0m \u001b[0;34m\u001b[0m\u001b[0m\n\u001b[0;32m---> 19\u001b[0;31m \u001b[0mes\u001b[0m \u001b[0;34m=\u001b[0m \u001b[0mEarlyStopping\u001b[0m\u001b[0;34m(\u001b[0m\u001b[0mmonitor\u001b[0m\u001b[0;34m=\u001b[0m\u001b[0;34m'val_loss'\u001b[0m\u001b[0;34m,\u001b[0m \u001b[0mverbose\u001b[0m\u001b[0;34m=\u001b[0m\u001b[0;36m1\u001b[0m\u001b[0;34m,\u001b[0m \u001b[0mpatience\u001b[0m\u001b[0;34m=\u001b[0m\u001b[0;36m5\u001b[0m\u001b[0;34m,\u001b[0m \u001b[0mrestore_best_weights\u001b[0m\u001b[0;34m=\u001b[0m\u001b[0;32mTrue\u001b[0m\u001b[0;34m)\u001b[0m\u001b[0;34m\u001b[0m\u001b[0;34m\u001b[0m\u001b[0m\n\u001b[0m\u001b[1;32m     20\u001b[0m \u001b[0;34m\u001b[0m\u001b[0m\n\u001b[1;32m     21\u001b[0m history_2 = model_2.fit(X_train, y_train,\n",
      "\u001b[0;31mNameError\u001b[0m: name 'EarlyStopping' is not defined"
     ]
    }
   ],
   "source": [
    "def init_model_2():\n",
    "    metric = metrics.MAPE\n",
    "    opt = optimizers.RMSprop(learning_rate=0.005)\n",
    "    \n",
    "    model = models.Sequential()\n",
    "    model.add(layers.LSTM(20, return_sequences=True, activation='tanh'))\n",
    "    model.add(layers.LSTM(10, activation='tanh'))\n",
    "    model.add(layers.Dense(5, activation='relu'))\n",
    "    model.add(layers.Dense(1, activation='linear'))\n",
    "    \n",
    "    model.compile(loss='mse', \n",
    "                  optimizer=opt, \n",
    "                  metrics=[metric])\n",
    "    \n",
    "    return model\n",
    "\n",
    "model_2 = init_model_2()\n",
    "\n",
    "es = EarlyStopping(monitor='val_loss', verbose=1, patience=5, restore_best_weights=True)\n",
    "\n",
    "history_2 = model_2.fit(X_train, y_train,\n",
    "            validation_split=0.3,\n",
    "            epochs=1000, \n",
    "            batch_size=32,\n",
    "            callbacks=[es], verbose=0)"
   ]
  },
  {
   "cell_type": "code",
<<<<<<< HEAD
   "execution_count": 199,
   "id": "36d265c3",
   "metadata": {},
   "outputs": [
    {
     "data": {
      "text/plain": [
       "[<matplotlib.lines.Line2D at 0x7f16cb2c8a00>]"
      ]
     },
     "execution_count": 199,
     "metadata": {},
     "output_type": "execute_result"
    },
    {
     "data": {
      "image/png": "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\n",
      "text/plain": [
       "<Figure size 432x288 with 1 Axes>"
      ]
     },
     "metadata": {
      "needs_background": "light"
     },
     "output_type": "display_data"
    }
   ],
=======
   "execution_count": null,
   "id": "cfa1cf7e",
   "metadata": {
    "hidden": true
   },
   "outputs": [],
>>>>>>> b9a670dc68b3b2caf9614b9a8412444259f30c13
   "source": [
    "import matplotlib.pyplot as plt\n",
    "plt.plot(history_2.history['mean_absolute_percentage_error'])\n",
    "plt.plot(history_2.history['val_mean_absolute_percentage_error'])"
   ]
  },
  {
   "cell_type": "code",
<<<<<<< HEAD
   "execution_count": 200,
   "id": "8282fc87",
   "metadata": {},
   "outputs": [
    {
     "name": "stdout",
     "output_type": "stream",
     "text": [
      "MAPE on the test set : 19 %\n"
     ]
    }
   ],
=======
   "execution_count": null,
   "id": "2faae1f4",
   "metadata": {
    "hidden": true
   },
   "outputs": [],
>>>>>>> b9a670dc68b3b2caf9614b9a8412444259f30c13
   "source": [
    "res = model_2.evaluate(X_test, y_test, verbose=0)\n",
    "\n",
    "print(f'MAPE on the test set : {res[1]:.0f} %')"
   ]
  },
  {
   "cell_type": "code",
   "execution_count": null,
<<<<<<< HEAD
   "id": "64a9b3d5",
   "metadata": {},
=======
   "id": "4f7745e9",
   "metadata": {
    "hidden": true
   },
>>>>>>> b9a670dc68b3b2caf9614b9a8412444259f30c13
   "outputs": [],
   "source": []
  },
  {
   "cell_type": "markdown",
<<<<<<< HEAD
   "id": "70fc8476",
=======
   "id": "f31901a4",
>>>>>>> b9a670dc68b3b2caf9614b9a8412444259f30c13
   "metadata": {},
   "source": [
    "## Check Performance of the models"
   ]
  },
  {
   "cell_type": "code",
<<<<<<< HEAD
   "execution_count": 201,
   "id": "136db256",
=======
   "execution_count": 47,
   "id": "5906e687",
>>>>>>> b9a670dc68b3b2caf9614b9a8412444259f30c13
   "metadata": {},
   "outputs": [],
   "source": [
    "def train_model(nb_sequences=12, nb_days=30, plot_history=False):\n",
    "    X_train, y_train = get_X_y(df_train, nb_sequences, nb_days)\n",
    "    X_test, y_test = get_X_y(df_test, round(nb_sequences*0.2), nb_days)\n",
    "\n",
    "    metric = metrics.MAPE\n",
    "    opt = optimizers.RMSprop(learning_rate=0.01)\n",
    "\n",
    "    model = models.Sequential()\n",
    "    model.add(layers.LSTM(20, return_sequences=True, activation='tanh'))\n",
    "    model.add(layers.LSTM(10, activation='tanh'))\n",
    "    model.add(layers.Dense(5, activation='relu'))\n",
    "    model.add(layers.Dense(1, activation='linear'))\n",
    "\n",
    "    model.compile(loss='mse', \n",
    "                  optimizer=opt, \n",
    "                  metrics=[metric])\n",
    "\n",
    "\n",
    "    es = EarlyStopping(monitor='val_loss', patience=5, restore_best_weights=True)\n",
    "\n",
    "    history = model.fit(X_train, y_train,\n",
    "            validation_split=0.3,\n",
    "            epochs=1000, \n",
    "            batch_size=64,\n",
    "            callbacks=[es],\n",
    "            verbose=0)\n",
    "\n",
    "    if plot_history:\n",
    "        plt.plot(history.history['mean_absolute_percentage_error'])\n",
    "        plt.plot(history.history['val_mean_absolute_percentage_error'])\n",
    "        plt.show()\n",
    "\n",
    "    res = model.evaluate(X_test, y_test, verbose=0)\n",
    "    return res"
   ]
  },
  {
   "cell_type": "code",
<<<<<<< HEAD
   "execution_count": 202,
   "id": "eec4b62b",
   "metadata": {},
=======
   "execution_count": 48,
   "id": "15eb170a",
   "metadata": {
    "collapsed": true
   },
>>>>>>> b9a670dc68b3b2caf9614b9a8412444259f30c13
   "outputs": [
    {
     "ename": "NameError",
     "evalue": "name 'metrics' is not defined",
     "output_type": "error",
     "traceback": [
      "\u001b[0;31m---------------------------------------------------------------------------\u001b[0m",
      "\u001b[0;31mNameError\u001b[0m                                 Traceback (most recent call last)",
      "\u001b[0;32m/tmp/ipykernel_2669/3562411242.py\u001b[0m in \u001b[0;36m<module>\u001b[0;34m\u001b[0m\n\u001b[0;32m----> 1\u001b[0;31m \u001b[0mtrain_model\u001b[0m\u001b[0;34m(\u001b[0m\u001b[0mnb_sequences\u001b[0m\u001b[0;34m=\u001b[0m\u001b[0;36m12\u001b[0m\u001b[0;34m,\u001b[0m \u001b[0mnb_days\u001b[0m\u001b[0;34m=\u001b[0m\u001b[0;36m30\u001b[0m\u001b[0;34m,\u001b[0m \u001b[0mplot_history\u001b[0m\u001b[0;34m=\u001b[0m\u001b[0;32mTrue\u001b[0m\u001b[0;34m)\u001b[0m\u001b[0;34m\u001b[0m\u001b[0;34m\u001b[0m\u001b[0m\n\u001b[0m",
      "\u001b[0;32m/tmp/ipykernel_2669/4124212806.py\u001b[0m in \u001b[0;36mtrain_model\u001b[0;34m(nb_sequences, nb_days, plot_history)\u001b[0m\n\u001b[1;32m      3\u001b[0m     \u001b[0mX_test\u001b[0m\u001b[0;34m,\u001b[0m \u001b[0my_test\u001b[0m \u001b[0;34m=\u001b[0m \u001b[0mget_X_y\u001b[0m\u001b[0;34m(\u001b[0m\u001b[0mdf_test\u001b[0m\u001b[0;34m,\u001b[0m \u001b[0mround\u001b[0m\u001b[0;34m(\u001b[0m\u001b[0mnb_sequences\u001b[0m\u001b[0;34m*\u001b[0m\u001b[0;36m0.2\u001b[0m\u001b[0;34m)\u001b[0m\u001b[0;34m,\u001b[0m \u001b[0mnb_days\u001b[0m\u001b[0;34m)\u001b[0m\u001b[0;34m\u001b[0m\u001b[0;34m\u001b[0m\u001b[0m\n\u001b[1;32m      4\u001b[0m \u001b[0;34m\u001b[0m\u001b[0m\n\u001b[0;32m----> 5\u001b[0;31m     \u001b[0mmetric\u001b[0m \u001b[0;34m=\u001b[0m \u001b[0mmetrics\u001b[0m\u001b[0;34m.\u001b[0m\u001b[0mMAPE\u001b[0m\u001b[0;34m\u001b[0m\u001b[0;34m\u001b[0m\u001b[0m\n\u001b[0m\u001b[1;32m      6\u001b[0m     \u001b[0mopt\u001b[0m \u001b[0;34m=\u001b[0m \u001b[0moptimizers\u001b[0m\u001b[0;34m.\u001b[0m\u001b[0mRMSprop\u001b[0m\u001b[0;34m(\u001b[0m\u001b[0mlearning_rate\u001b[0m\u001b[0;34m=\u001b[0m\u001b[0;36m0.01\u001b[0m\u001b[0;34m)\u001b[0m\u001b[0;34m\u001b[0m\u001b[0;34m\u001b[0m\u001b[0m\n\u001b[1;32m      7\u001b[0m \u001b[0;34m\u001b[0m\u001b[0m\n",
      "\u001b[0;31mNameError\u001b[0m: name 'metrics' is not defined"
     ]
    }
   ],
   "source": [
    "train_model(nb_sequences=12, nb_days=30, plot_history=True)"
   ]
  },
  {
   "cell_type": "markdown",
   "id": "e6b60eb0",
   "metadata": {
    "heading_collapsed": true
   },
   "source": [
    "## manual Grid Search LSTM"
   ]
  },
  {
   "cell_type": "code",
<<<<<<< HEAD
   "execution_count": 203,
   "id": "8ff7f444",
   "metadata": {},
=======
   "execution_count": null,
   "id": "96dc0c2e",
   "metadata": {
    "hidden": true
   },
>>>>>>> b9a670dc68b3b2caf9614b9a8412444259f30c13
   "outputs": [],
   "source": [
    "nb_days_grid = [12,30,60]\n",
    "nb_sequences_grid = [12, 50, 100]\n",
    "MAPE = []"
   ]
  },
  {
   "cell_type": "code",
<<<<<<< HEAD
   "execution_count": 66,
   "id": "2ce7f542",
   "metadata": {},
   "outputs": [
    {
     "name": "stdout",
     "output_type": "stream",
     "text": [
      "For 12 sequences and 12 days of observation, the MAPE is of 9 %\n",
      "For 50 sequences and 12 days of observation, the MAPE is of 18 %\n",
      "For 100 sequences and 12 days of observation, the MAPE is of 13 %\n",
      "For 12 sequences and 30 days of observation, the MAPE is of 22 %\n",
      "For 50 sequences and 30 days of observation, the MAPE is of 10 %\n",
      "For 100 sequences and 30 days of observation, the MAPE is of 11 %\n",
      "For 12 sequences and 60 days of observation, the MAPE is of 14 %\n",
      "For 50 sequences and 60 days of observation, the MAPE is of 7 %\n",
      "For 100 sequences and 60 days of observation, the MAPE is of 19 %\n"
     ]
    }
   ],
=======
   "execution_count": null,
   "id": "1813dbb5",
   "metadata": {
    "hidden": true
   },
   "outputs": [],
>>>>>>> b9a670dc68b3b2caf9614b9a8412444259f30c13
   "source": [
    "for nb_days in nb_days_grid:\n",
    "    for nb_sequences in nb_sequences_grid:\n",
    "        res = train_model(nb_sequences=nb_sequences, nb_days=nb_days)\n",
    "        MAPE.append((nb_days, nb_sequences, res[1]))\n",
    "        print(f'For {nb_sequences} sequences and {nb_days} days of observation, the MAPE is of {res[1]:.0f} %')"
   ]
  },
  {
   "cell_type": "code",
<<<<<<< HEAD
   "execution_count": 71,
   "id": "62fe876e",
   "metadata": {},
   "outputs": [
    {
     "data": {
      "text/plain": [
       "[(12, 12, 30.623857498168945),\n",
       " (12, 50, 22.42176628112793),\n",
       " (12, 100, 10.805002212524414),\n",
       " (30, 12, 48.83187484741211),\n",
       " (30, 50, 8.421904563903809),\n",
       " (30, 100, 16.333904266357422),\n",
       " (60, 12, 54.898162841796875),\n",
       " (60, 50, 17.427099227905273),\n",
       " (60, 100, 6.6427812576293945),\n",
       " (12, 100, 16.22715950012207),\n",
       " (30, 100, 13.879152297973633),\n",
       " (60, 100, 7.761134147644043),\n",
       " (12, 12, 9.168890953063965),\n",
       " (12, 50, 18.47922134399414),\n",
       " (12, 100, 12.610896110534668),\n",
       " (30, 12, 21.59432601928711),\n",
       " (30, 50, 9.587403297424316),\n",
       " (30, 100, 10.919512748718262),\n",
       " (60, 12, 13.678723335266113),\n",
       " (60, 50, 6.962544918060303),\n",
       " (60, 100, 19.122385025024414)]"
      ]
     },
     "execution_count": 71,
     "metadata": {},
     "output_type": "execute_result"
    }
   ],
=======
   "execution_count": null,
   "id": "623cc199",
   "metadata": {
    "hidden": true
   },
   "outputs": [],
>>>>>>> b9a670dc68b3b2caf9614b9a8412444259f30c13
   "source": [
    "MAPE"
   ]
  },
  {
   "cell_type": "code",
<<<<<<< HEAD
   "execution_count": 73,
   "id": "0795a93f",
   "metadata": {},
   "outputs": [
    {
     "data": {
      "text/plain": [
       "<matplotlib.collections.PathCollection at 0x7f16ec0f6400>"
      ]
     },
     "execution_count": 73,
     "metadata": {},
     "output_type": "execute_result"
    },
    {
     "data": {
      "image/png": "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\n",
      "text/plain": [
       "<Figure size 432x288 with 1 Axes>"
      ]
     },
     "metadata": {
      "needs_background": "light"
     },
     "output_type": "display_data"
    }
   ],
=======
   "execution_count": null,
   "id": "550588e5",
   "metadata": {
    "hidden": true
   },
   "outputs": [],
>>>>>>> b9a670dc68b3b2caf9614b9a8412444259f30c13
   "source": [
    "import matplotlib\n",
    "x = [res[0] for res in MAPE] # n_days\n",
    "y = [res[1] for res in MAPE] # n_seq\n",
    "c = [res[2] for res in MAPE] # MAPE  \n",
    "plt.scatter(x, y, c=c, norm=matplotlib.colors.Normalize(clip=False), cmap='coolwarm') # vmin=20, vmax=50, "
   ]
  },
  {
   "cell_type": "code",
<<<<<<< HEAD
   "execution_count": 229,
   "id": "f0b3b82d",
   "metadata": {},
=======
   "execution_count": null,
   "id": "0666490c",
   "metadata": {
    "hidden": true
   },
>>>>>>> b9a670dc68b3b2caf9614b9a8412444259f30c13
   "outputs": [],
   "source": [
    "# sns.heatmap(data= x, y, c=c)"
   ]
  },
  {
   "cell_type": "markdown",
   "id": "2da6330f",
   "metadata": {},
   "source": [
    "## Test LSTM with prediction"
   ]
  },
  {
   "cell_type": "code",
<<<<<<< HEAD
   "execution_count": 235,
   "id": "c9743020",
=======
   "execution_count": 69,
   "id": "340ce2ef",
>>>>>>> b9a670dc68b3b2caf9614b9a8412444259f30c13
   "metadata": {},
   "outputs": [],
   "source": [
    "def train_model_predict(nb_sequences=12, nb_days=30, plot_history=False):\n",
    "    X_train, y_train = get_X_y(df_train, nb_sequences, nb_days)\n",
    "    X_test, y_test = get_X_y(df_test, round(nb_sequences*0.2), nb_days)\n",
    "\n",
    "    metric = metrics.MAPE\n",
    "    opt = optimizers.RMSprop(learning_rate=0.01)\n",
    "\n",
    "    model = models.Sequential()\n",
    "    model.add(layers.LSTM(20, return_sequences=True, activation='tanh'))\n",
    "    model.add(layers.LSTM(10, activation='tanh'))\n",
    "    model.add(layers.Dense(5, activation='relu'))\n",
    "    model.add(layers.Dense(1, activation='linear'))\n",
    "\n",
    "    model.compile(loss='mse', \n",
    "                  optimizer=opt, \n",
    "                  metrics=[metric])\n",
    "\n",
    "\n",
    "    es = EarlyStopping(monitor='val_loss', patience=5, restore_best_weights=True)\n",
    "\n",
    "    history = model.fit(X_train, y_train,\n",
    "            validation_split=0.3,\n",
    "            epochs=1000, \n",
    "            batch_size=64,\n",
    "            callbacks=[es],\n",
    "            verbose=0)\n",
    "\n",
    "    if plot_history:\n",
    "        plt.plot(history.history['mean_absolute_percentage_error'])\n",
    "        plt.plot(history.history['val_mean_absolute_percentage_error'])\n",
    "        plt.show()\n",
    "\n",
    "    res = model.evaluate(X_test, y_test, verbose=0)\n",
    "    y_pred = model.predict(X_test)\n",
    "    return res, y_pred"
   ]
  },
  {
   "cell_type": "code",
<<<<<<< HEAD
   "execution_count": 236,
   "id": "3d977714",
=======
   "execution_count": 70,
   "id": "bc11a6ab",
>>>>>>> b9a670dc68b3b2caf9614b9a8412444259f30c13
   "metadata": {},
   "outputs": [],
   "source": [
    "result = train_model_predict(nb_sequences=12, nb_days=30, plot_history=False)\n"
   ]
  },
  {
   "cell_type": "code",
<<<<<<< HEAD
   "execution_count": 206,
   "id": "bcdcb62c",
=======
   "execution_count": 71,
   "id": "06f93718",
>>>>>>> b9a670dc68b3b2caf9614b9a8412444259f30c13
   "metadata": {},
   "outputs": [
    {
     "data": {
      "text/plain": [
       "([0.05257798358798027, 29.545623779296875],\n",
       " array([[0.45786142],\n",
       "        [0.5031962 ]], dtype=float32))"
      ]
     },
     "execution_count": 71,
     "metadata": {},
     "output_type": "execute_result"
    }
   ],
   "source": [
    "result"
   ]
  },
  {
   "cell_type": "code",
<<<<<<< HEAD
   "execution_count": 213,
   "id": "0705dd47",
=======
   "execution_count": 72,
   "id": "50bc5ea4",
>>>>>>> b9a670dc68b3b2caf9614b9a8412444259f30c13
   "metadata": {},
   "outputs": [],
   "source": [
    "result_1  = result[1][0]\n",
    "result_1 = result_1.reshape(-1, 1)"
   ]
  },
  {
   "cell_type": "code",
<<<<<<< HEAD
   "execution_count": 222,
   "id": "78aa3d83",
=======
   "execution_count": null,
   "id": "ae0fdbcb",
>>>>>>> b9a670dc68b3b2caf9614b9a8412444259f30c13
   "metadata": {},
   "outputs": [],
   "source": [
    "y_pred = scaler.inverse_transform(result_1)"
   ]
  },
  {
   "cell_type": "code",
<<<<<<< HEAD
   "execution_count": 231,
   "id": "b85d15c3",
=======
   "execution_count": null,
   "id": "f97760ba",
>>>>>>> b9a670dc68b3b2caf9614b9a8412444259f30c13
   "metadata": {},
   "outputs": [],
   "source": [
    "y_pred[0][0]"
   ]
  },
  {
   "cell_type": "code",
<<<<<<< HEAD
   "execution_count": 221,
   "id": "6fc2002b",
=======
   "execution_count": null,
   "id": "0c8a15f3",
>>>>>>> b9a670dc68b3b2caf9614b9a8412444259f30c13
   "metadata": {},
   "outputs": [],
   "source": [
    "scaler.inverse_transform(X_test[0])"
   ]
  },
  {
   "cell_type": "code",
<<<<<<< HEAD
   "execution_count": 216,
   "id": "64038bc9",
=======
   "execution_count": null,
   "id": "d6184e4c",
>>>>>>> b9a670dc68b3b2caf9614b9a8412444259f30c13
   "metadata": {},
   "outputs": [],
   "source": [
    "scaler.inverse_transform(y_test.reshape(-1, 1))"
   ]
  },
  {
   "cell_type": "code",
   "execution_count": null,
   "id": "38dcaa20",
   "metadata": {},
   "outputs": [],
   "source": [
    "def train_model_predict(nb_sequences=12, nb_days=30, plot_history=False):\n",
    "    X_train, y_train = get_X_y(df_train, nb_sequences, nb_days)\n",
    "    X_test, y_test = get_X_y(df_test, round(nb_sequences*0.2), nb_days)\n",
    "\n",
    "    metric = metrics.MAPE\n",
    "    opt = optimizers.RMSprop(learning_rate=0.01)\n",
    "\n",
    "    model = models.Sequential()\n",
    "    model.add(layers.LSTM(20, return_sequences=True, activation='tanh'))\n",
    "    model.add(layers.LSTM(10, activation='tanh'))\n",
    "    model.add(layers.Dense(5, activation='relu'))\n",
    "    model.add(layers.Dense(1, activation='linear'))\n",
    "\n",
    "    model.compile(loss='mse', \n",
    "                  optimizer=opt, \n",
    "                  metrics=[metric])\n",
    "\n",
    "\n",
    "    es = EarlyStopping(monitor='val_loss', patience=5, restore_best_weights=True)\n",
    "\n",
    "    history = model.fit(X_train, y_train,\n",
    "            validation_split=0.3,\n",
    "            epochs=1000, \n",
    "            batch_size=64,\n",
    "            callbacks=[es],\n",
    "            verbose=0)\n",
    "\n",
    "    if plot_history:\n",
    "        plt.plot(history.history['mean_absolute_percentage_error'])\n",
    "        plt.plot(history.history['val_mean_absolute_percentage_error'])\n",
    "        plt.show()\n",
    "\n",
    "    return model\n",
    "\n",
    "model = train_model_predict(X_test)"
   ]
  },
  {
   "cell_type": "code",
   "execution_count": null,
   "id": "167d4523",
   "metadata": {},
   "outputs": [],
   "source": [
    "X_test"
   ]
  },
  {
   "cell_type": "markdown",
<<<<<<< HEAD
   "id": "25a5aa17",
=======
   "id": "4754c253",
>>>>>>> b9a670dc68b3b2caf9614b9a8412444259f30c13
   "metadata": {},
   "source": [
    "## Plot the results"
   ]
  },
  {
   "cell_type": "code",
   "execution_count": null,
<<<<<<< HEAD
   "id": "11e91ca5",
=======
   "id": "8bf4d75d",
>>>>>>> b9a670dc68b3b2caf9614b9a8412444259f30c13
   "metadata": {},
   "outputs": [],
   "source": [
    "plt.figure(figsize=(20, 6))\n",
    "plt.plot(y_test_transformed, color = 'black', label = 'AMZN Stock Price')\n",
    "plt.plot(predicted_stock_price, color = 'green', label = 'Predicted AMZN Stock Price')\n",
    "plt.title('AMZN Stock Price Prediction')\n",
    "plt.xlabel('Time')\n",
    "plt.ylabel('AMZN Stock Price')\n",
    "plt.legend()\n",
    "plt.show()"
   ]
  }
 ],
 "metadata": {
  "kernelspec": {
   "display_name": "Python 3 (ipykernel)",
   "language": "python",
   "name": "python3"
  },
  "language_info": {
   "codemirror_mode": {
    "name": "ipython",
    "version": 3
   },
   "file_extension": ".py",
   "mimetype": "text/x-python",
   "name": "python",
   "nbconvert_exporter": "python",
   "pygments_lexer": "ipython3",
   "version": "3.8.12"
  },
  "toc": {
   "base_numbering": 1,
   "nav_menu": {},
   "number_sections": true,
   "sideBar": true,
   "skip_h1_title": false,
   "title_cell": "Table of Contents",
   "title_sidebar": "Contents",
   "toc_cell": false,
   "toc_position": {},
   "toc_section_display": true,
   "toc_window_display": true
  }
 },
 "nbformat": 4,
 "nbformat_minor": 5
}
