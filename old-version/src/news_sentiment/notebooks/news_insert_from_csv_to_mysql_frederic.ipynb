{
 "cells": [
  {
   "cell_type": "code",
   "execution_count": 1,
<<<<<<< HEAD
=======
   "id": "8c3faaee",
   "metadata": {},
   "outputs": [
    {
     "name": "stdout",
     "output_type": "stream",
     "text": [
      "Collecting python-dotenv\n",
      "  Downloading python_dotenv-0.19.2-py2.py3-none-any.whl (17 kB)\n",
      "Installing collected packages: python-dotenv\n",
      "Successfully installed python-dotenv-0.19.2\n"
     ]
    }
   ],
   "source": [
    "!pip install python-dotenv"
   ]
  },
  {
   "cell_type": "code",
   "execution_count": 8,
   "id": "d37df340",
   "metadata": {},
   "outputs": [
    {
     "name": "stdout",
     "output_type": "stream",
     "text": [
      "Requirement already satisfied: pymysql in /home/frcloers/.pyenv/versions/3.8.12/envs/lewagon/lib/python3.8/site-packages (1.0.2)\r\n"
     ]
    }
   ],
   "source": [
    "!pip install pymysql"
   ]
  },
  {
   "cell_type": "code",
   "execution_count": 22,
>>>>>>> 9e0a2e8058c1285bb1bff4a584d6643f2a00ad8d
   "id": "a9e057c7",
   "metadata": {},
   "outputs": [],
   "source": [
    "import pandas as pd\n",
    "import numpy as np\n",
    "from google.cloud import storage\n",
    "import pymysql\n",
    "from datetime import datetime\n",
    "from dotenv import load_dotenv\n",
    "import os"
   ]
  },
  {
   "cell_type": "code",
   "execution_count": 23,
   "id": "e0b21c57",
   "metadata": {},
   "outputs": [
    {
     "data": {
      "text/plain": [
       "True"
      ]
     },
     "execution_count": 23,
     "metadata": {},
     "output_type": "execute_result"
    }
   ],
   "source": [
    "load_dotenv()"
   ]
  },
  {
   "cell_type": "markdown",
   "id": "78a36ef0",
   "metadata": {},
   "source": [
    "# Import the CSV in a DataFrame"
   ]
  },
  {
   "cell_type": "code",
   "execution_count": 13,
   "id": "21f0413a",
   "metadata": {},
   "outputs": [],
   "source": [
    "def get_data_from_gcp(nrows=10000, local=False, optimize=False, **kwargs):\n",
    "    \"\"\"method to get the training data (or a portion of it) from google cloud bucket\"\"\"\n",
    "    # Add Client() here\n",
    "    client = storage.Client()\n",
    "    if local:\n",
    "        path = \"data/data_data_10Mill.csv\"\n",
    "    else:\n",
    "        path = \"gs://stock-news-pred-bucket/stock_news_top_6_stocks\"\n",
    "    df = pd.read_csv(path)#add nrows after if you want to select a specific number of row\n",
    "    return df"
   ]
  },
  {
   "cell_type": "code",
   "execution_count": 14,
   "id": "5451d571",
   "metadata": {},
   "outputs": [],
   "source": [
    "df = get_data_from_gcp()"
   ]
  },
  {
   "cell_type": "code",
   "execution_count": 15,
   "id": "872b8d17",
   "metadata": {},
   "outputs": [
    {
     "data": {
      "text/html": [
       "<div>\n",
       "<style scoped>\n",
       "    .dataframe tbody tr th:only-of-type {\n",
       "        vertical-align: middle;\n",
       "    }\n",
       "\n",
       "    .dataframe tbody tr th {\n",
       "        vertical-align: top;\n",
       "    }\n",
       "\n",
       "    .dataframe thead th {\n",
       "        text-align: right;\n",
       "    }\n",
       "</style>\n",
       "<table border=\"1\" class=\"dataframe\">\n",
       "  <thead>\n",
       "    <tr style=\"text-align: right;\">\n",
       "      <th></th>\n",
       "      <th>Unnamed: 0</th>\n",
       "      <th>date</th>\n",
       "      <th>title</th>\n",
       "      <th>content</th>\n",
       "      <th>ticker</th>\n",
       "    </tr>\n",
       "  </thead>\n",
       "  <tbody>\n",
       "    <tr>\n",
       "      <th>0</th>\n",
       "      <td>0</td>\n",
       "      <td>2020-11-10T20:35:50+00:00</td>\n",
       "      <td>Stocks mixed as tech sell-off continues</td>\n",
       "      <td>Steve Sosnick, Interactive Brokers Chief Strat...</td>\n",
       "      <td>AAPL</td>\n",
       "    </tr>\n",
       "    <tr>\n",
       "      <th>1</th>\n",
       "      <td>1</td>\n",
       "      <td>2020-11-13T14:00:00+00:00</td>\n",
       "      <td>LinkedIn Co-founder: the number of ‘tech giant...</td>\n",
       "      <td>LinkedIn Co-founder Reid Hoffman joins 'Influe...</td>\n",
       "      <td>AAPL</td>\n",
       "    </tr>\n",
       "    <tr>\n",
       "      <th>2</th>\n",
       "      <td>2</td>\n",
       "      <td>2020-11-09T09:15:52+00:00</td>\n",
       "      <td>Apple Freezes New Business for Pegatron on Chi...</td>\n",
       "      <td>(Bloomberg) -- Apple Inc. suspended new busine...</td>\n",
       "      <td>AAPL</td>\n",
       "    </tr>\n",
       "    <tr>\n",
       "      <th>3</th>\n",
       "      <td>3</td>\n",
       "      <td>2020-11-03T01:17:24+00:00</td>\n",
       "      <td>Apple to Launch MacBooks With Own Chips Next Week</td>\n",
       "      <td>(Bloomberg) -- Apple Inc.’s 15-year relationsh...</td>\n",
       "      <td>AAPL</td>\n",
       "    </tr>\n",
       "    <tr>\n",
       "      <th>4</th>\n",
       "      <td>4</td>\n",
       "      <td>2020-11-11T16:18:37+00:00</td>\n",
       "      <td>Alibaba Singles’ Day Ends Strongly as Beijing ...</td>\n",
       "      <td>(Bloomberg) -- Alibaba Group Holding Ltd. post...</td>\n",
       "      <td>AAPL</td>\n",
       "    </tr>\n",
       "  </tbody>\n",
       "</table>\n",
       "</div>"
      ],
      "text/plain": [
       "   Unnamed: 0                       date  \\\n",
       "0           0  2020-11-10T20:35:50+00:00   \n",
       "1           1  2020-11-13T14:00:00+00:00   \n",
       "2           2  2020-11-09T09:15:52+00:00   \n",
       "3           3  2020-11-03T01:17:24+00:00   \n",
       "4           4  2020-11-11T16:18:37+00:00   \n",
       "\n",
       "                                               title  \\\n",
       "0            Stocks mixed as tech sell-off continues   \n",
       "1  LinkedIn Co-founder: the number of ‘tech giant...   \n",
       "2  Apple Freezes New Business for Pegatron on Chi...   \n",
       "3  Apple to Launch MacBooks With Own Chips Next Week   \n",
       "4  Alibaba Singles’ Day Ends Strongly as Beijing ...   \n",
       "\n",
       "                                             content ticker  \n",
       "0  Steve Sosnick, Interactive Brokers Chief Strat...   AAPL  \n",
       "1  LinkedIn Co-founder Reid Hoffman joins 'Influe...   AAPL  \n",
       "2  (Bloomberg) -- Apple Inc. suspended new busine...   AAPL  \n",
       "3  (Bloomberg) -- Apple Inc.’s 15-year relationsh...   AAPL  \n",
       "4  (Bloomberg) -- Alibaba Group Holding Ltd. post...   AAPL  "
      ]
     },
     "execution_count": 15,
     "metadata": {},
     "output_type": "execute_result"
    }
   ],
   "source": [
    "df.head()"
   ]
  },
  {
   "cell_type": "markdown",
   "id": "698380cd",
   "metadata": {},
   "source": [
    "# Prepare the CSV file to insert in the db"
   ]
  },
  {
   "cell_type": "code",
   "execution_count": 16,
   "id": "7d929a19",
   "metadata": {},
   "outputs": [],
   "source": [
    "df_clean = df.drop(columns='Unnamed: 0')"
   ]
  },
  {
   "cell_type": "code",
   "execution_count": 17,
   "id": "3e32e5b6",
   "metadata": {},
   "outputs": [
    {
     "data": {
      "text/html": [
       "<div>\n",
       "<style scoped>\n",
       "    .dataframe tbody tr th:only-of-type {\n",
       "        vertical-align: middle;\n",
       "    }\n",
       "\n",
       "    .dataframe tbody tr th {\n",
       "        vertical-align: top;\n",
       "    }\n",
       "\n",
       "    .dataframe thead th {\n",
       "        text-align: right;\n",
       "    }\n",
       "</style>\n",
       "<table border=\"1\" class=\"dataframe\">\n",
       "  <thead>\n",
       "    <tr style=\"text-align: right;\">\n",
       "      <th></th>\n",
       "      <th>date</th>\n",
       "      <th>title</th>\n",
       "      <th>content</th>\n",
       "      <th>ticker</th>\n",
       "    </tr>\n",
       "  </thead>\n",
       "  <tbody>\n",
       "    <tr>\n",
       "      <th>0</th>\n",
       "      <td>2020-11-10T20:35:50+00:00</td>\n",
       "      <td>Stocks mixed as tech sell-off continues</td>\n",
       "      <td>Steve Sosnick, Interactive Brokers Chief Strat...</td>\n",
       "      <td>AAPL</td>\n",
       "    </tr>\n",
       "    <tr>\n",
       "      <th>1</th>\n",
       "      <td>2020-11-13T14:00:00+00:00</td>\n",
       "      <td>LinkedIn Co-founder: the number of ‘tech giant...</td>\n",
       "      <td>LinkedIn Co-founder Reid Hoffman joins 'Influe...</td>\n",
       "      <td>AAPL</td>\n",
       "    </tr>\n",
       "    <tr>\n",
       "      <th>2</th>\n",
       "      <td>2020-11-09T09:15:52+00:00</td>\n",
       "      <td>Apple Freezes New Business for Pegatron on Chi...</td>\n",
       "      <td>(Bloomberg) -- Apple Inc. suspended new busine...</td>\n",
       "      <td>AAPL</td>\n",
       "    </tr>\n",
       "    <tr>\n",
       "      <th>3</th>\n",
       "      <td>2020-11-03T01:17:24+00:00</td>\n",
       "      <td>Apple to Launch MacBooks With Own Chips Next Week</td>\n",
       "      <td>(Bloomberg) -- Apple Inc.’s 15-year relationsh...</td>\n",
       "      <td>AAPL</td>\n",
       "    </tr>\n",
       "    <tr>\n",
       "      <th>4</th>\n",
       "      <td>2020-11-11T16:18:37+00:00</td>\n",
       "      <td>Alibaba Singles’ Day Ends Strongly as Beijing ...</td>\n",
       "      <td>(Bloomberg) -- Alibaba Group Holding Ltd. post...</td>\n",
       "      <td>AAPL</td>\n",
       "    </tr>\n",
       "    <tr>\n",
       "      <th>...</th>\n",
       "      <td>...</td>\n",
       "      <td>...</td>\n",
       "      <td>...</td>\n",
       "      <td>...</td>\n",
       "    </tr>\n",
       "    <tr>\n",
       "      <th>33590</th>\n",
       "      <td>2021-11-22T15:59:49+00:00</td>\n",
       "      <td>Fed Chair Powell renomination 'is good news fo...</td>\n",
       "      <td>Michael Arone of State Street Global Advisors ...</td>\n",
       "      <td>NFLX</td>\n",
       "    </tr>\n",
       "    <tr>\n",
       "      <th>33591</th>\n",
       "      <td>2021-11-22T18:41:00+00:00</td>\n",
       "      <td>Disney Stock Is Down. This Analyst Sees Stream...</td>\n",
       "      <td>Slowing subscriber growth at Disney+ worried i...</td>\n",
       "      <td>NFLX</td>\n",
       "    </tr>\n",
       "    <tr>\n",
       "      <th>33592</th>\n",
       "      <td>2021-11-22T21:03:11+00:00</td>\n",
       "      <td>Netflix employee at the center of protests aga...</td>\n",
       "      <td>By Kanishka Singh\\n\\nNov 22 (Reuters) - A Netf...</td>\n",
       "      <td>NFLX</td>\n",
       "    </tr>\n",
       "    <tr>\n",
       "      <th>33593</th>\n",
       "      <td>2021-11-22T17:31:00+00:00</td>\n",
       "      <td>Kevin Spacey Loses Arbitration Case Against ‘H...</td>\n",
       "      <td>Under the terms of the arbitrator’s ruling, MR...</td>\n",
       "      <td>NFLX</td>\n",
       "    </tr>\n",
       "    <tr>\n",
       "      <th>33594</th>\n",
       "      <td>2021-11-23T07:33:00+00:00</td>\n",
       "      <td>Two Netflix workers who complained about Dave ...</td>\n",
       "      <td>Chappelle's \"The Closer\" first aired on Oct. 1...</td>\n",
       "      <td>NFLX</td>\n",
       "    </tr>\n",
       "  </tbody>\n",
       "</table>\n",
       "<p>33595 rows × 4 columns</p>\n",
       "</div>"
      ],
      "text/plain": [
       "                            date  \\\n",
       "0      2020-11-10T20:35:50+00:00   \n",
       "1      2020-11-13T14:00:00+00:00   \n",
       "2      2020-11-09T09:15:52+00:00   \n",
       "3      2020-11-03T01:17:24+00:00   \n",
       "4      2020-11-11T16:18:37+00:00   \n",
       "...                          ...   \n",
       "33590  2021-11-22T15:59:49+00:00   \n",
       "33591  2021-11-22T18:41:00+00:00   \n",
       "33592  2021-11-22T21:03:11+00:00   \n",
       "33593  2021-11-22T17:31:00+00:00   \n",
       "33594  2021-11-23T07:33:00+00:00   \n",
       "\n",
       "                                                   title  \\\n",
       "0                Stocks mixed as tech sell-off continues   \n",
       "1      LinkedIn Co-founder: the number of ‘tech giant...   \n",
       "2      Apple Freezes New Business for Pegatron on Chi...   \n",
       "3      Apple to Launch MacBooks With Own Chips Next Week   \n",
       "4      Alibaba Singles’ Day Ends Strongly as Beijing ...   \n",
       "...                                                  ...   \n",
       "33590  Fed Chair Powell renomination 'is good news fo...   \n",
       "33591  Disney Stock Is Down. This Analyst Sees Stream...   \n",
       "33592  Netflix employee at the center of protests aga...   \n",
       "33593  Kevin Spacey Loses Arbitration Case Against ‘H...   \n",
       "33594  Two Netflix workers who complained about Dave ...   \n",
       "\n",
       "                                                 content ticker  \n",
       "0      Steve Sosnick, Interactive Brokers Chief Strat...   AAPL  \n",
       "1      LinkedIn Co-founder Reid Hoffman joins 'Influe...   AAPL  \n",
       "2      (Bloomberg) -- Apple Inc. suspended new busine...   AAPL  \n",
       "3      (Bloomberg) -- Apple Inc.’s 15-year relationsh...   AAPL  \n",
       "4      (Bloomberg) -- Alibaba Group Holding Ltd. post...   AAPL  \n",
       "...                                                  ...    ...  \n",
       "33590  Michael Arone of State Street Global Advisors ...   NFLX  \n",
       "33591  Slowing subscriber growth at Disney+ worried i...   NFLX  \n",
       "33592  By Kanishka Singh\\n\\nNov 22 (Reuters) - A Netf...   NFLX  \n",
       "33593  Under the terms of the arbitrator’s ruling, MR...   NFLX  \n",
       "33594  Chappelle's \"The Closer\" first aired on Oct. 1...   NFLX  \n",
       "\n",
       "[33595 rows x 4 columns]"
      ]
     },
     "execution_count": 17,
     "metadata": {},
     "output_type": "execute_result"
    }
   ],
   "source": [
    "df_clean"
   ]
  },
  {
   "cell_type": "code",
   "execution_count": 22,
   "id": "d42b5e8c",
   "metadata": {},
   "outputs": [
    {
     "data": {
      "text/plain": [
       "0        2020-11-10T20:35:50+00:00\n",
       "1        2020-11-13T14:00:00+00:00\n",
       "2        2020-11-09T09:15:52+00:00\n",
       "3        2020-11-03T01:17:24+00:00\n",
       "4        2020-11-11T16:18:37+00:00\n",
       "                   ...            \n",
       "33590    2021-11-22T15:59:49+00:00\n",
       "33591    2021-11-22T18:41:00+00:00\n",
       "33592    2021-11-22T21:03:11+00:00\n",
       "33593    2021-11-22T17:31:00+00:00\n",
       "33594    2021-11-23T07:33:00+00:00\n",
       "Name: date, Length: 33595, dtype: object"
      ]
     },
     "execution_count": 22,
     "metadata": {},
     "output_type": "execute_result"
    }
   ],
   "source": [
    "df_clean['date']"
   ]
  },
  {
   "cell_type": "code",
   "execution_count": 24,
   "id": "a13b475a",
   "metadata": {},
   "outputs": [],
   "source": [
    "df_clean['date'] = pd.to_datetime(df_clean['date'], yearfirst=True, format='%Y-%m-%d').dt.date"
   ]
  },
  {
   "cell_type": "code",
   "execution_count": 25,
   "id": "5fb048f5",
   "metadata": {},
   "outputs": [
    {
     "data": {
      "text/html": [
       "<div>\n",
       "<style scoped>\n",
       "    .dataframe tbody tr th:only-of-type {\n",
       "        vertical-align: middle;\n",
       "    }\n",
       "\n",
       "    .dataframe tbody tr th {\n",
       "        vertical-align: top;\n",
       "    }\n",
       "\n",
       "    .dataframe thead th {\n",
       "        text-align: right;\n",
       "    }\n",
       "</style>\n",
       "<table border=\"1\" class=\"dataframe\">\n",
       "  <thead>\n",
       "    <tr style=\"text-align: right;\">\n",
       "      <th></th>\n",
       "      <th>date</th>\n",
       "      <th>title</th>\n",
       "      <th>content</th>\n",
       "      <th>ticker</th>\n",
       "    </tr>\n",
       "  </thead>\n",
       "  <tbody>\n",
       "    <tr>\n",
       "      <th>0</th>\n",
       "      <td>2020-11-10</td>\n",
       "      <td>Stocks mixed as tech sell-off continues</td>\n",
       "      <td>Steve Sosnick, Interactive Brokers Chief Strat...</td>\n",
       "      <td>AAPL</td>\n",
       "    </tr>\n",
       "    <tr>\n",
       "      <th>1</th>\n",
       "      <td>2020-11-13</td>\n",
       "      <td>LinkedIn Co-founder: the number of ‘tech giant...</td>\n",
       "      <td>LinkedIn Co-founder Reid Hoffman joins 'Influe...</td>\n",
       "      <td>AAPL</td>\n",
       "    </tr>\n",
       "    <tr>\n",
       "      <th>2</th>\n",
       "      <td>2020-11-09</td>\n",
       "      <td>Apple Freezes New Business for Pegatron on Chi...</td>\n",
       "      <td>(Bloomberg) -- Apple Inc. suspended new busine...</td>\n",
       "      <td>AAPL</td>\n",
       "    </tr>\n",
       "    <tr>\n",
       "      <th>3</th>\n",
       "      <td>2020-11-03</td>\n",
       "      <td>Apple to Launch MacBooks With Own Chips Next Week</td>\n",
       "      <td>(Bloomberg) -- Apple Inc.’s 15-year relationsh...</td>\n",
       "      <td>AAPL</td>\n",
       "    </tr>\n",
       "    <tr>\n",
       "      <th>4</th>\n",
       "      <td>2020-11-11</td>\n",
       "      <td>Alibaba Singles’ Day Ends Strongly as Beijing ...</td>\n",
       "      <td>(Bloomberg) -- Alibaba Group Holding Ltd. post...</td>\n",
       "      <td>AAPL</td>\n",
       "    </tr>\n",
       "    <tr>\n",
       "      <th>...</th>\n",
       "      <td>...</td>\n",
       "      <td>...</td>\n",
       "      <td>...</td>\n",
       "      <td>...</td>\n",
       "    </tr>\n",
       "    <tr>\n",
       "      <th>33590</th>\n",
       "      <td>2021-11-22</td>\n",
       "      <td>Fed Chair Powell renomination 'is good news fo...</td>\n",
       "      <td>Michael Arone of State Street Global Advisors ...</td>\n",
       "      <td>NFLX</td>\n",
       "    </tr>\n",
       "    <tr>\n",
       "      <th>33591</th>\n",
       "      <td>2021-11-22</td>\n",
       "      <td>Disney Stock Is Down. This Analyst Sees Stream...</td>\n",
       "      <td>Slowing subscriber growth at Disney+ worried i...</td>\n",
       "      <td>NFLX</td>\n",
       "    </tr>\n",
       "    <tr>\n",
       "      <th>33592</th>\n",
       "      <td>2021-11-22</td>\n",
       "      <td>Netflix employee at the center of protests aga...</td>\n",
       "      <td>By Kanishka Singh\\n\\nNov 22 (Reuters) - A Netf...</td>\n",
       "      <td>NFLX</td>\n",
       "    </tr>\n",
       "    <tr>\n",
       "      <th>33593</th>\n",
       "      <td>2021-11-22</td>\n",
       "      <td>Kevin Spacey Loses Arbitration Case Against ‘H...</td>\n",
       "      <td>Under the terms of the arbitrator’s ruling, MR...</td>\n",
       "      <td>NFLX</td>\n",
       "    </tr>\n",
       "    <tr>\n",
       "      <th>33594</th>\n",
       "      <td>2021-11-23</td>\n",
       "      <td>Two Netflix workers who complained about Dave ...</td>\n",
       "      <td>Chappelle's \"The Closer\" first aired on Oct. 1...</td>\n",
       "      <td>NFLX</td>\n",
       "    </tr>\n",
       "  </tbody>\n",
       "</table>\n",
       "<p>33595 rows × 4 columns</p>\n",
       "</div>"
      ],
      "text/plain": [
       "             date                                              title  \\\n",
       "0      2020-11-10            Stocks mixed as tech sell-off continues   \n",
       "1      2020-11-13  LinkedIn Co-founder: the number of ‘tech giant...   \n",
       "2      2020-11-09  Apple Freezes New Business for Pegatron on Chi...   \n",
       "3      2020-11-03  Apple to Launch MacBooks With Own Chips Next Week   \n",
       "4      2020-11-11  Alibaba Singles’ Day Ends Strongly as Beijing ...   \n",
       "...           ...                                                ...   \n",
       "33590  2021-11-22  Fed Chair Powell renomination 'is good news fo...   \n",
       "33591  2021-11-22  Disney Stock Is Down. This Analyst Sees Stream...   \n",
       "33592  2021-11-22  Netflix employee at the center of protests aga...   \n",
       "33593  2021-11-22  Kevin Spacey Loses Arbitration Case Against ‘H...   \n",
       "33594  2021-11-23  Two Netflix workers who complained about Dave ...   \n",
       "\n",
       "                                                 content ticker  \n",
       "0      Steve Sosnick, Interactive Brokers Chief Strat...   AAPL  \n",
       "1      LinkedIn Co-founder Reid Hoffman joins 'Influe...   AAPL  \n",
       "2      (Bloomberg) -- Apple Inc. suspended new busine...   AAPL  \n",
       "3      (Bloomberg) -- Apple Inc.’s 15-year relationsh...   AAPL  \n",
       "4      (Bloomberg) -- Alibaba Group Holding Ltd. post...   AAPL  \n",
       "...                                                  ...    ...  \n",
       "33590  Michael Arone of State Street Global Advisors ...   NFLX  \n",
       "33591  Slowing subscriber growth at Disney+ worried i...   NFLX  \n",
       "33592  By Kanishka Singh\\n\\nNov 22 (Reuters) - A Netf...   NFLX  \n",
       "33593  Under the terms of the arbitrator’s ruling, MR...   NFLX  \n",
       "33594  Chappelle's \"The Closer\" first aired on Oct. 1...   NFLX  \n",
       "\n",
       "[33595 rows x 4 columns]"
      ]
     },
     "execution_count": 25,
     "metadata": {},
     "output_type": "execute_result"
    }
   ],
   "source": [
    "df_clean"
   ]
  },
  {
   "cell_type": "code",
   "execution_count": 26,
   "id": "62767dc4",
   "metadata": {},
   "outputs": [],
   "source": [
    "df_clean = df_clean[[\"date\", \"ticker\", \"title\", \"content\"]]"
   ]
  },
  {
   "cell_type": "code",
   "execution_count": 27,
   "id": "5bcdd61b",
   "metadata": {},
   "outputs": [
    {
     "data": {
      "text/html": [
       "<div>\n",
       "<style scoped>\n",
       "    .dataframe tbody tr th:only-of-type {\n",
       "        vertical-align: middle;\n",
       "    }\n",
       "\n",
       "    .dataframe tbody tr th {\n",
       "        vertical-align: top;\n",
       "    }\n",
       "\n",
       "    .dataframe thead th {\n",
       "        text-align: right;\n",
       "    }\n",
       "</style>\n",
       "<table border=\"1\" class=\"dataframe\">\n",
       "  <thead>\n",
       "    <tr style=\"text-align: right;\">\n",
       "      <th></th>\n",
       "      <th>date</th>\n",
       "      <th>ticker</th>\n",
       "      <th>title</th>\n",
       "      <th>content</th>\n",
       "    </tr>\n",
       "  </thead>\n",
       "  <tbody>\n",
       "    <tr>\n",
       "      <th>0</th>\n",
       "      <td>2020-11-10</td>\n",
       "      <td>AAPL</td>\n",
       "      <td>Stocks mixed as tech sell-off continues</td>\n",
       "      <td>Steve Sosnick, Interactive Brokers Chief Strat...</td>\n",
       "    </tr>\n",
       "    <tr>\n",
       "      <th>1</th>\n",
       "      <td>2020-11-13</td>\n",
       "      <td>AAPL</td>\n",
       "      <td>LinkedIn Co-founder: the number of ‘tech giant...</td>\n",
       "      <td>LinkedIn Co-founder Reid Hoffman joins 'Influe...</td>\n",
       "    </tr>\n",
       "    <tr>\n",
       "      <th>2</th>\n",
       "      <td>2020-11-09</td>\n",
       "      <td>AAPL</td>\n",
       "      <td>Apple Freezes New Business for Pegatron on Chi...</td>\n",
       "      <td>(Bloomberg) -- Apple Inc. suspended new busine...</td>\n",
       "    </tr>\n",
       "    <tr>\n",
       "      <th>3</th>\n",
       "      <td>2020-11-03</td>\n",
       "      <td>AAPL</td>\n",
       "      <td>Apple to Launch MacBooks With Own Chips Next Week</td>\n",
       "      <td>(Bloomberg) -- Apple Inc.’s 15-year relationsh...</td>\n",
       "    </tr>\n",
       "    <tr>\n",
       "      <th>4</th>\n",
       "      <td>2020-11-11</td>\n",
       "      <td>AAPL</td>\n",
       "      <td>Alibaba Singles’ Day Ends Strongly as Beijing ...</td>\n",
       "      <td>(Bloomberg) -- Alibaba Group Holding Ltd. post...</td>\n",
       "    </tr>\n",
       "    <tr>\n",
       "      <th>...</th>\n",
       "      <td>...</td>\n",
       "      <td>...</td>\n",
       "      <td>...</td>\n",
       "      <td>...</td>\n",
       "    </tr>\n",
       "    <tr>\n",
       "      <th>33590</th>\n",
       "      <td>2021-11-22</td>\n",
       "      <td>NFLX</td>\n",
       "      <td>Fed Chair Powell renomination 'is good news fo...</td>\n",
       "      <td>Michael Arone of State Street Global Advisors ...</td>\n",
       "    </tr>\n",
       "    <tr>\n",
       "      <th>33591</th>\n",
       "      <td>2021-11-22</td>\n",
       "      <td>NFLX</td>\n",
       "      <td>Disney Stock Is Down. This Analyst Sees Stream...</td>\n",
       "      <td>Slowing subscriber growth at Disney+ worried i...</td>\n",
       "    </tr>\n",
       "    <tr>\n",
       "      <th>33592</th>\n",
       "      <td>2021-11-22</td>\n",
       "      <td>NFLX</td>\n",
       "      <td>Netflix employee at the center of protests aga...</td>\n",
       "      <td>By Kanishka Singh\\n\\nNov 22 (Reuters) - A Netf...</td>\n",
       "    </tr>\n",
       "    <tr>\n",
       "      <th>33593</th>\n",
       "      <td>2021-11-22</td>\n",
       "      <td>NFLX</td>\n",
       "      <td>Kevin Spacey Loses Arbitration Case Against ‘H...</td>\n",
       "      <td>Under the terms of the arbitrator’s ruling, MR...</td>\n",
       "    </tr>\n",
       "    <tr>\n",
       "      <th>33594</th>\n",
       "      <td>2021-11-23</td>\n",
       "      <td>NFLX</td>\n",
       "      <td>Two Netflix workers who complained about Dave ...</td>\n",
       "      <td>Chappelle's \"The Closer\" first aired on Oct. 1...</td>\n",
       "    </tr>\n",
       "  </tbody>\n",
       "</table>\n",
       "<p>33595 rows × 4 columns</p>\n",
       "</div>"
      ],
      "text/plain": [
       "             date ticker                                              title  \\\n",
       "0      2020-11-10   AAPL            Stocks mixed as tech sell-off continues   \n",
       "1      2020-11-13   AAPL  LinkedIn Co-founder: the number of ‘tech giant...   \n",
       "2      2020-11-09   AAPL  Apple Freezes New Business for Pegatron on Chi...   \n",
       "3      2020-11-03   AAPL  Apple to Launch MacBooks With Own Chips Next Week   \n",
       "4      2020-11-11   AAPL  Alibaba Singles’ Day Ends Strongly as Beijing ...   \n",
       "...           ...    ...                                                ...   \n",
       "33590  2021-11-22   NFLX  Fed Chair Powell renomination 'is good news fo...   \n",
       "33591  2021-11-22   NFLX  Disney Stock Is Down. This Analyst Sees Stream...   \n",
       "33592  2021-11-22   NFLX  Netflix employee at the center of protests aga...   \n",
       "33593  2021-11-22   NFLX  Kevin Spacey Loses Arbitration Case Against ‘H...   \n",
       "33594  2021-11-23   NFLX  Two Netflix workers who complained about Dave ...   \n",
       "\n",
       "                                                 content  \n",
       "0      Steve Sosnick, Interactive Brokers Chief Strat...  \n",
       "1      LinkedIn Co-founder Reid Hoffman joins 'Influe...  \n",
       "2      (Bloomberg) -- Apple Inc. suspended new busine...  \n",
       "3      (Bloomberg) -- Apple Inc.’s 15-year relationsh...  \n",
       "4      (Bloomberg) -- Alibaba Group Holding Ltd. post...  \n",
       "...                                                  ...  \n",
       "33590  Michael Arone of State Street Global Advisors ...  \n",
       "33591  Slowing subscriber growth at Disney+ worried i...  \n",
       "33592  By Kanishka Singh\\n\\nNov 22 (Reuters) - A Netf...  \n",
       "33593  Under the terms of the arbitrator’s ruling, MR...  \n",
       "33594  Chappelle's \"The Closer\" first aired on Oct. 1...  \n",
       "\n",
       "[33595 rows x 4 columns]"
      ]
     },
     "execution_count": 27,
     "metadata": {},
     "output_type": "execute_result"
    }
   ],
   "source": [
    "df_clean"
   ]
  },
  {
   "cell_type": "code",
   "execution_count": null,
   "id": "7f793a23",
   "metadata": {},
   "outputs": [],
   "source": []
  },
  {
   "cell_type": "code",
   "execution_count": 179,
   "id": "7a9874c7",
   "metadata": {},
   "outputs": [],
   "source": [
    "#Don't forget to clean the content from emoji (to avoid to get an error encode blabla...)\n",
    "df_clean= df_clean.astype(str).apply(lambda x: x.str.encode('ascii', 'ignore').str.decode('ascii'))"
   ]
  },
  {
   "cell_type": "code",
   "execution_count": 180,
   "id": "1bb2039f",
   "metadata": {},
   "outputs": [],
   "source": [
    "df_clean['date'] = df_clean['date'].astype(str)\n",
    "df_clean['content'] = df_clean['content'].astype(str)"
   ]
  },
  {
   "cell_type": "code",
   "execution_count": 181,
   "id": "58705bd9",
   "metadata": {},
   "outputs": [
    {
     "data": {
      "text/plain": [
       "[\"Bitcoin has broken above $60,000 for the first time since April, prompting a market-wide price surge.\\n\\nThe latest gains follow news on Friday that the US Securities and Exchange Commission is set to approve the first bitcoin futures exchange-traded fund (ETF) early next week.\\n\\nOther leading cryptocurrencies have also seen big price increases in recent days, with Ethereum (ether), Binance Coin and Ripple (XRP) all rising by between 5-10 per cent over the last week.\\n\\nThe crypto market is now valued at more than $2.44 trillion, meaning it is now worth more than Apple, the worlds most valuable company.\\n\\nSome analysts have forecast a record-breaking end to the year, with one price prediction model putting BTC on track to hit a new all-time-high by November. The same model predicts that bitcoin will hit six figures in 2021.\\n\\nWell have all the latest news, analysis and expert price predictions right here.\\n\\nRead More\\n\\nBitcoin price prediction model remains amazingly accurate with less than 1% error  and forecasts record end to 2021\\n\\nKey points\\n\\nCrypto market value overtakes Apple Bitcoin advocates share best trading strategy' Highly-anticipated bitcoin futures ETF set for approval\\n\\nBitcoin price to hit $150,000 this cycle?\\n\\n13:09 , Anthony Cuthbertson\\n\\nWith bitcoin still hovering just a couple of thousand dollars away from its all-time high, one analyst has zoomed out from the short-term market movements to look at the big big picture.\\n\\nLooking at price data from the last nine years, crypto author Glen Goodman has extrapolated a potential peak for BTC this cycle at around $150,000. This could be followed by a major correction to around $20,000, though he warns that this lower bound could be hit before the top end is reached.\\n\\nThe amount of variables that could impact the market in the future mean such projections are hugely hypothetical, though interesting to consider.\\n\\nThis is the big big #Bitcoin picture. *If* this repeating pattern continues, the top end for $BTC this cycle is ~$150,000, and return to the bottom line would be ~$20,000.\\r\\n\\r\\nSo which target will be hit first?? Look at the pattern, decide with your own eyes, and tell me below... https://t.co/rjy6DsGgfUpic.twitter.com/YX8sWBGkJO\\n\\n Glen Goodman (@glengoodman) October 17, 2021\\n\\nBitcoin price surges again overnight\\n\\nStory continues\\n\\nSaturday 16 October 2021 08:25 , Anthony Cuthbertson\\n\\nAnother overnight rally has seen the price of bitcoin hit a fresh six-month high above $62,000  leaving it less than $2,000 away from its all-time high.\\n\\nBitcoin is now up by 44 per cent since the beginning of October, while other leading cryptocurrencies have also seen similarly remarkable gains.\\n\\nAt the halfway point, heres how the top five have fared since the start of the month:\\n\\n Bitcoin: +44%\\n\\n Ethereum: +27%\\n\\n Binance Coin: +24%\\n\\n Cardano: +5%\\n\\n Ripple: +20%\\n\\nBitcoin price closing in on all-time high\\n\\nFriday 15 October 2021 16:17 , Anthony Cuthbertson\\n\\nBitcoin has more than quintupled in price over the last 12 months, and is now less than $4,000 away from the all-time high that it experienced in mid April.\\n\\nIts been a bumpy year for bitcoin, with some analysts predicting that the latest price rally was merely a dead cat bounce that would see the cryptocurrency tumble all the way back to below $20,000.\\n\\nThe closer BTC gets to its $64,000 record, the less likely this scenario looks. One of the most prominent advocates of this bear market theory, the pseudonymous Mr Whale, seems to have been receiving a lot of comments on Twitter, judging by his latest tweet:\\n\\npic.twitter.com/MIAlxySvII\\n\\n Mr. Whale (@CryptoWhale) October 15, 2021\\n\\nBitcoin price finally breaks $60,000, with traders extremely bullish'\\n\\nFriday 15 October 2021 14:56 , Anthony Cuthbertson\\n\\nAfter teasing the $60,000 price mark all day, bitcoin has finally broken above it.\\n\\nThis is the first time since April that the worlds biggest cryptocurrency has reached this high, and breaching this milestone could prompt a significant price rally, according to one analyst.\\n\\nWill Morris, a sales trader at the UK based digital asset broker GlobalBlock, believes this could be the start of an extremely bullish phase for bitcoin.\\n\\nTraders previously suggested that for bitcoin to enter an extremely bullish phase and go parabolic it would need to break the $59-60k level, he tells The Independent.\\n\\nIf BTC breaks to $61k there could be minimal upside pressure. All-time highs of nearly $65k will be the next resistance level before a potential price discovery phase. While the BTC price has fiercely rallied over the past few weeks, bitcoin balance on exchanges remains at the lowest levels in nine months, indicating investors are holding bitcoin in wallets rather than readying themselves to sell.\\n\\nHow high could bitcoin price go?\\n\\nFriday 15 October 2021 13:31 , Anthony Cuthbertson\\n\\nDepending on who you ask, the answer to this question can range from $0 to north of $1 million.\\n\\nBut separating the so-called FUDsters from the Moon Boys are the more realistic crypto analysts, who put bitcoins price within a window of between $10,000 and $250,000 over the next year.\\n\\nOne of the most accurate forecasts made in recent months comes from the pseudonymous Dutch analyst PlanB, who predicted in June the price of bitcoin in August and September to within less than a third of a per cent.\\n\\nAccording to PlanBs worst case scenario, bitcoin will be at $63,000 at the end of October, before shooting up to $98,000 in November and $135,000 in December. Today he tweets:\\n\\nClear skies pic.twitter.com/QQusv4slgw\\n\\n PlanB (@100trillionUSD) October 15, 2021\\n\\nCrypto expert predicts price frenzy'\\n\\nFriday 15 October 2021 11:06 , Anthony Cuthbertson\\n\\nBitcoin is set for more short-term gains and possibly even a buying frenzy, according to one crypto expert.\\n\\nWeve heard from Greg Waisman, co-founder and COO at the global payments network Mercuryo, who believes todays ETF news could provide the next major leg up for the market that will push bitcoin to a new all-time high.\\n\\nWaisman this could come within the next couple of weeks, before climbing a further $10,000 before the end of the year. Heres what he had to say:\\n\\nThe $6.7 trillion US ETF industry is the largest market in the world  bitcoin frenzy may reach new heights in the near future.\\n\\nApproving futures-based bitcoin ETFs will be seen as a forward-thinking move by the SEC and could lead to a bullish run. Given the size of the US ETF industry and current positivity in the market, following Chinas ban being put behind the public, El Salvadors good will  using surplus funds from The Bitcoin Trust for noble purposes and the emergence of India as the country with most crypto users, among other reasons, I believe not only will bitcoin cross $60,000 but also break its all-time high this month and potentially surpass $65,000 by the end of the month.\\n\\nUnless some barriers to growth appear in the latter stages of the year, bitcoin is poised to reach $75,000 by the end of the year.\\n\\nGreg Waisman, Mercuryo\\n\\nBitcoin price set for record-breaking end to 2021?\\n\\nFriday 15 October 2021 10:45 , Anthony Cuthbertson\\n\\nOctober has historically been a positive month for bitcoin, averaging 13 per cent gains since 2011, though this is just a fraction of the price increase typically seen in November.\\n\\nWith nearly a 40 per cent price rise in October already, bitcoin is vastly outperforming the precedent.\\n\\nWere still only halfway through October, but if bitcoin stays at its current price and then replicates the average gains of previous years, it will reach six figures before Christmas. Thats clearly just hypothetical but several prominent analysts like PlanB have made similar projections.\\n\\nCrypto analysts react to bitcoin ETF news\\n\\nFriday 15 October 2021 09:10 , Anthony Cuthbertson\\n\\nYou can read the full story of the long-awaited bitcoin futures ETF right here, which includes analysis from crypto experts about what this news means for the space.\\n\\nWell be getting more reaction throughout the day from analysts, as well as expert price predictions for bitcoin and the rest of the cryptocurrency market. Could we be in for a record-breaking end to 2021? It would take only one more sudden surge, like the one we saw earlier this morning, for BTC to hit a new all-time high - though some are warning that mania could once again be creeping into the market, signalling a dip could also be on its way at some point.\\n\\nBitcoin ETF news sends price of crypto soaring\\n\\nBitcoin price surges, closing in on record high\\n\\nFriday 15 October 2021 06:51 , Anthony Cuthbertson\\n\\nThe price of bitcoin is now less than $5,000 away from its all-time high, after suddenly shooting up from below $57,000 to close to $60,000 on Friday morning.\\n\\nThe gains come off the back of a report that the US Securities and Exchange Commission (SEC) is set to approve the launch of a bitcoin exchange-traded fund (ETF).\\n\\nThis would be a massive step forward for bitcoin and cryptocurrency investors, who have been calling for a bitcoin ETF approval for years.\\n\\nThe official Twitter account from the SECs investor education office also hinted that an announcement was imminent, tweeting about the risks of trading bitcoin futures contracts.\\n\\nBefore investing in a fund that holds Bitcoin futures contracts, make sure you carefully weigh the potential risks and benefits. \\r\\n\\r\\nCheck out our Investor Bulletin to learn more: https://t.co/AZbrkpfn8F\\n\\n SEC Investor Ed (@SEC_Investor_Ed) October 14, 2021\\n\\nDogecoin price spikes after Elon Musk tweets\\n\\nThursday 14 October 2021 15:04 , Anthony Cuthbertson\\n\\nElon Musk has once again sent the price of dogecoin soaring after trading tweets with the cryptocurrencys founder, Billy Markus.\\n\\nThe meme-inspired crypto shot up nearly 10 per cent after Musk replied with the 100 emoji after Markus tweeted, if you dont run a dogecoin node, you are satan.\\n\\nThe centibillionaire also posted a crying face emoji to a meme posted by Markus, inspired by hit Netflix show Squid Game.\\n\\n\\n\\n Elon Musk (@elonmusk) October 14, 2021\\n\\nAs the richest person in the world, Musk revealed earlier this year that beyond Tesla stock and his share of ownership in SpaceX, cryptocurrency is the only thing of significant value that he owns.\\n\\nThe only ones he has admitted to personally owning are bitcoin, Ethereum (ether) and, you guessed it, dogecoin. (CoinMarketCap)\\n\\nHow bitcoin and crypto market stack up\\n\\nThursday 14 October 2021 13:28 , Anthony Cuthbertson\\n\\nAfter overtaking the market value of Apple today, we put this chart together to see how the cryptocurrency market stacks up against the top 10 leading assets.\\n\\nAccounting for nearly half of the global crypto market cap, bitcoin ranks above Facebook, Tesla and Berkshire Hathaway in the top 10.\\n\\nNo included on this chart are precious metals, but if they were gold would be way out in front with a market cap of more than $11 trillion. Silver would also rank 7th on the list, just ahead of bitcoin with a market cap of $1.31 trillion.\\n\\nCrypto market value overtakes Apple\\n\\nThursday 14 October 2021 12:01 , Anthony Cuthbertson\\n\\nThe cryptocurrency market is now worth more than the worlds most valuable company.\\n\\nBitcoins price surge, combined with gains from Ethereum (ether), Cardano (ada) and Ripple (XRP) over the last few hours has pushed the overall crypto market cap up by 5 per cent.\\n\\nThis puts it at $2.37 trillion - roughly $40 billion more than Apple.\\n\\nBitcoin alone is now closing in on the market cap of silver, with analysts making comparisons to the astonishing price increase that it experienced in 2013.\\n\\nYou can read the full story here.\\n\\nBitcoin price rally sees crypto market overtake worlds most valuable company\\n\\nBitcoin price shoots up as institutional investors return'\\n\\nThursday 14 October 2021 08:51 , Anthony Cuthbertson\\n\\nBitcoin is once again on the ascendency, hitting a fresh five-month high on Thursday morning after a brief moment of price consolidation in the middle of the week.\\n\\nThe overall crypto market has also shot up, with an increase in value of around 5 per cent since this time yesterday. That equates to more than $100 billion.\\n\\nWeve heard from the UK head of the Luno cryptocurrency exchange this morning, who offers his thoughts on why bitcoin and other leading cryptocurrencies are surging.\\n\\nThe rising expectations for a bitcoin ETF shown by rising open interest, and growing basis premiums for CMEs futures may be a cause of the bullish momentum. CMEs share of the global open interest in the bitcoin futures also reached 17 per cent this week  the highest level recorded since February 2021 suggesting institutional traders have returned to bitcoin.\\n\\nSam Kopelman, Luno\\n\\nBitcoin price slides but Binance Coin skyrockets\\n\\nWednesday 13 October 2021 11:24 , Anthony Cuthbertson\\n\\nThe price of bitcoin has now slipped below $55,000, though other leading cryptocurrencies are seeing a major resurgence.\\n\\nBinance Coin is now up more than 16 per cent since this time yesterday, while Polkadot and Uniswap are both up by more than 7 per cent.\\n\\nThe latest gains have pushed Binance Coins price above $450  less than $200 away from its all-time high  and means its market cap is now close to $80 billion.\\n\\nThe reason for the price surge appears to be the introduction of a $1 billion fund that Binance claims will be the biggest growth fund in the history or crypto.\\n\\nUS overtakes China for bitcoin mining\\n\\nWednesday 13 October 2021 09:51 , Anthony Cuthbertson\\n\\nFor the first time ever, the US has overtaken China to become the top destination for bitcoin miners.\\n\\nNew data from the Cambridge Centre for Alternative Finance shows that one third of bitcoins hashrate is now in the US, following a 428 per cent increase since September 2020.\\n\\nThe shift comes after Chinas massive crackdown on mining operations in the country, which wiped out roughly half of all bitcoin miners.\\n\\nCheap energy and vast renewable power sources has made the US an attractive destination for miners, though it still doesnt command the same dominance in the sector as China once did. Analysts see the spreading out of market share as a major positive for bitcoin and should ultimately reduce big price fluctuations as no single country can have a significant impact on the sector through introducing new legislation.\\n\\nBitcoin advocates share long-term trading strategy\\n\\nWednesday 13 October 2021 07:15 , Anthony Cuthbertson\\n\\nTwo of the most high-profile bitcoin advocates have offered their advice on cryptocurrency trading.\\n\\nMicroStrategy CEO Michael Saylor, who has ploughed billions of the companys cash reserves into bitcoin, and Binance CEO Changpeng Zhao (CZ) have both said they do not look at short-term price swings.\\n\\nInstead, CZ advises to focus on the long term, while Saylor says the best strategy is to buy bitcoin and wait. It seems to have worked for him so far, with MicroStrategy more than doubling the $3.16 billion that it has invested into bitcoin.\\n\\nTrading #Bitcoin is like trading Apple, Amazon, Google, or Facebook a decade ago. The more you obsess over timing the market, the more mistakes you make. They were all technology networks that were dominant & destined to grow. The best strategy is to buy bitcoin and wait. https://t.co/D3XiQ2B71R\\n\\n Michael Saylor (@saylor) October 12, 2021\\n\\nAltcoins surge as bitcoin price stalls\\n\\nWednesday 13 October 2021 06:55 , Anthony Cuthbertson\\n\\nBitcoins steady price gains since the start of the week appear to be on hold, as it remains below $56,000 on Wednesday morning.\\n\\nMaking up for the lack of movement are several leading cryptocurrencies that have surged in price overnight.\\n\\nBinance Coin is up 8 per cent, while Solana and Polkadot are both up by around 3 per cent. Bitcoins slight dip in price, combined with these altcoin gains, mean the overall crypto market has moved by less than a third of a per cent since this time yesterday.\\n\\nBitcoin price dips but remains up by 10%\\n\\nTuesday 12 October 2021 19:11 , Anthony Cuthbertson\\n\\nThe price of bitcoin has dipped slightly over the last few hours, falling from above $57,000 to below $56,000.\\n\\nDespite the losses, BTC remains up by more than 10 per cent week-on-week, and remains within a relatively tight trading window that has proved remarkably stable since the sudden surge at the start of October. Bitcoins market cap also remains above $1 trillion, though the overall crypto market cap has fallen by just over 2 per cent to $2.29 trillion over the last 24 hours.\\n\\nHeres how the price chart looks for the last seven days, courtesy of CoinMarketCap. (CoinMarketCap)\\n\\nBitcoin price actually benefits from Chinese crackdown, expert claims\\n\\nTuesday 12 October 2021 13:27 , Anthony Cuthbertson\\n\\nAfter bitcoin hit an all-time high of just above $64,000 in mid April, the cryptocurrency suffered one of the most devastating price crashes in its history that took it below $30,000.\\n\\nOne of the leading causes was Chinas crackdown on cryptocurrency, which forced miners - which made up more than 70 per cent of the network - to close operations and move out of the country. But while this had a negative impact on bitcoins price in the short term, some crypto experts believe it will actually be beneficial in the long run.\\n\\nPeriodic shock-tests seem to only make bitcoin grow stronger, Paolo Ardoino, chief technology officer of the exchange Bitfinex, tells The Independent.\\n\\nThe hashrate is recovering to reach a near all-time high in the wake of the China ban... We see the king of crypto is once again showing its resilience. In the case of any ban or restrictions on bitcoin, there will always be someone left to fill the void. We expect to see others step up as Chinas power diminishes. This is a true testament to the far reach and resilience of the industry.\\n\\nFive countries will accept bitcoin as legal tender in 2022, crypto boss predicts\\n\\nTuesday 12 October 2021 11:27 , Anthony Cuthbertson\\n\\nFollowing El Salvadors pioneering Bitcoin Law, which made the cryptocurrency legal tender in the Central American country last month, there has been a lot of speculation over which countries might follow suit.\\n\\nA bold new prediction has just come from Alex Hoeptner, the CEO of cryptocurrency exchange Bitmex, who believes that at least five countries will adopt bitcoin by the end of next year.\\n\\nHoeptner says all of them will be developing countries, citing remittance fees, inflation and politics as the three main factors driving the adoption.\\n\\nOver the next year, and as El Salvador works out the kinks in its rollout, savvy politicians will be thinking of how they can take a similar path, and how it might benefit both them and their constituents, he said. What El Salvador did is take the first leap of faith, making similar moves by other countries much easier to consider. (Getty Images)\\n\\nJPMorgans Jamie Dimon says bitcoin is worthless, exposing stark lack of knowledge\\n\\nTuesday 12 October 2021 09:57 , Anthony Cuthbertson\\n\\nJPMorgan CEO Jamie Dimon has said he believes bitcoin is worthless, while also revealing that his clients disagree.\\n\\nHe said that JPMorgan will provide customers as-clean-as-possible access to bitcoin, saying that his personal opinion on the worlds most valuable cryptocurrency is irrelevant when there is such strong demand for it.\\n\\nIt is not the first time the controversial CEO has spoken out against bitcoin, though his latest comments have revealed a fundamental misunderstanding about the cryptocurrency. He questioned whether bitcoins fixed supply - no more than 21 million coins will ever exist - will magically increase in the future, asking: How do you know it ends at 21 million? You all read the algorithms? You guys all believe that? I dont know, Ive always been a skeptic of stuff like that?\\n\\nIf he bothered to read the algorithms himself, he would realise that it is just five lines of code that limit bitcoins supply.\\n\\nFive lines of code that results in 21m #Bitcoinpic.twitter.com/Isx8CTYMe0\\n\\n Bitcoin (@Bitcoin) October 12, 2021\\n\\nBitcoin ETF speculation pushing price up?\\n\\nTuesday 12 October 2021 09:31 , Anthony Cuthbertson\\n\\nWidely reported speculation that the US Securities and Exchange Commission (SEC) is interested in four separate bitcoin exchange-traded funds (ETF) is being cited as one of the driving factors behind the cryptocurrencys astonishing price rise since the start of October.\\n\\nWeve heard from Konstantin Anissimov, executive director of the crypto exchange CEX.IO, who says the rumours are just one of several factors pushing bitcoins price higher.\\n\\nHeres what he had to say:\\n\\nThere are a few reasons why bitcoin is currently experiencing a bullish surge.October has been a good month for crypto investors. El Salvadors move to adopt bitcoin as legal tender has been seen in a positive light.El Salvadors President, Nayib Bukele announced that they will use surplus funds from The Bitcoin Trust to build a veterinary hospital. The use of bitcoin for such a noble cause has surely played a role in public approval and a gain in price.Another reason for Bitcoins increase in value is JPMorgans recent note to investors - it said that the prized crypto asset seems to be a better hedge against inflation than gold. I believe the latest bitcoin rally is a direct result of inflation concerns and investors are using the cryptocurrency as a hedge against it. The USs positive stance on cryptocurrencies in recent weeks is another contributing factor.The public sentiment is bullish at the moment and there appear to be no roadblocks in the near future. 2021 has been a topsy-turvy year for cryptocurrencies as is usually the case  we could be in for a good end to the year!\\n\\nKonstantin Anissimov, CEX.IO\\n\\nMystery whale buys $1.6 billion of bitcoin\\n\\nTuesday 12 October 2021 07:58 , Anthony Cuthbertson\\n\\nA mysterious investor, or group of investors, has placed an order to buy $1.6 billion worth of bitcoin on a cryptocurrency exchange.\\n\\nSuch a large volume trade has inevitably contributed to bitcoins price surge, pushing it above $57,000 for the first time since May.\\n\\nKi Young, a crypto analyst and CEO of on-chain data firm CryptoQuant, speculated that traders may be taking on large positions ahead of a rumoured approval by the US Securities and Exchange Commission of a futures-based bitcoin exchange-traded fund (ETF). This kind of announcement would be huge for bitcoin, and would almost certainly lead to fresh new price highs.\\n\\nBitcoin price closing in on ATH as crypto market closes in on Apple\\n\\nTuesday 12 October 2021 07:51 , Anthony Cuthbertson\\n\\nBitcoin has risen by nearly a third in value since the start of the month, with the price gains pushing the overall crypto market cap above the value of tech giants like Amazon, Alphabet (Google) and Microsoft.\\n\\nThe cryptocurrency market is currently worth $2.32 trillion, meaning only Apple is worth more at $2.36 trillion.\\n\\nThe market value of bitcoin alone is more than $1 trillion, meaning one more price rally could push it above silver. Some analysts and investors, such as MicroStrategys Michael Saylor, believe the worlds most valuable cryptocurrency will one day flip gold, due to its inbuilt scarcity. That would put the price of a single bitcoin at around half a million dollars. (CompaniesMarketCap)\\n\\nHello and welcome...\\n\\nTuesday 12 October 2021 07:35 , Anthony Cuthbertson\\n\\nto The Independents live coverage of the crypto market. With another bull run seemingly underway, well have all the latest news, updates and analysis throughout the week for bitcoin, Ethereum (ether) and other leading cryptocurrencies.\\n\\nWell also be bringing you expert price predictions, as well as seeking to answer the question of whether we really are set to see a new all-time high for bitcoin within the next 10 weeks. Its currently less than $7,000 away from hitting a new record, with its notorious volatility meaning such a jump could be achieved in just a few hours - though such a significant price move could also go the other way.\"]"
      ]
     },
     "execution_count": 181,
     "metadata": {},
     "output_type": "execute_result"
    }
   ],
   "source": [
    "select_color = df_clean.loc[df_clean.index == 5730]\n",
    "list(select_color['content'])"
   ]
  },
  {
   "cell_type": "code",
   "execution_count": 178,
   "id": "9423e281",
   "metadata": {},
   "outputs": [
    {
     "data": {
      "text/plain": [
       "[\"Bitcoin has broken above $60,000 for the first time since April, prompting a market-wide price surge.\\n\\nThe latest gains follow news on Friday that the US Securities and Exchange Commission is set to approve the first bitcoin futures exchange-traded fund (ETF) early next week.\\n\\nOther leading cryptocurrencies have also seen big price increases in recent days, with Ethereum (ether), Binance Coin and Ripple (XRP) all rising by between 5-10 per cent over the last week.\\n\\nThe crypto market is now valued at more than $2.44 trillion, meaning it is now worth more than Apple, the worlds most valuable company.\\n\\nSome analysts have forecast a record-breaking end to the year, with one price prediction model putting BTC on track to hit a new all-time-high by November. The same model predicts that bitcoin will hit six figures in 2021.\\n\\nWell have all the latest news, analysis and expert price predictions right here.\\n\\nRead More\\n\\nBitcoin price prediction model remains amazingly accurate with less than 1% error  and forecasts record end to 2021\\n\\nKey points\\n\\nCrypto market value overtakes Apple Bitcoin advocates share best trading strategy' Highly-anticipated bitcoin futures ETF set for approval\\n\\nBitcoin price to hit $150,000 this cycle?\\n\\n13:09 , Anthony Cuthbertson\\n\\nWith bitcoin still hovering just a couple of thousand dollars away from its all-time high, one analyst has zoomed out from the short-term market movements to look at the big big picture.\\n\\nLooking at price data from the last nine years, crypto author Glen Goodman has extrapolated a potential peak for BTC this cycle at around $150,000. This could be followed by a major correction to around $20,000, though he warns that this lower bound could be hit before the top end is reached.\\n\\nThe amount of variables that could impact the market in the future mean such projections are hugely hypothetical, though interesting to consider.\\n\\nThis is the big big #Bitcoin picture. *If* this repeating pattern continues, the top end for $BTC this cycle is ~$150,000, and return to the bottom line would be ~$20,000.\\r\\n\\r\\nSo which target will be hit first?? Look at the pattern, decide with your own eyes, and tell me below... https://t.co/rjy6DsGgfUpic.twitter.com/YX8sWBGkJO\\n\\n Glen Goodman (@glengoodman) October 17, 2021\\n\\nBitcoin price surges again overnight\\n\\nStory continues\\n\\nSaturday 16 October 2021 08:25 , Anthony Cuthbertson\\n\\nAnother overnight rally has seen the price of bitcoin hit a fresh six-month high above $62,000  leaving it less than $2,000 away from its all-time high.\\n\\nBitcoin is now up by 44 per cent since the beginning of October, while other leading cryptocurrencies have also seen similarly remarkable gains.\\n\\nAt the halfway point, heres how the top five have fared since the start of the month:\\n\\n Bitcoin: +44%\\n\\n Ethereum: +27%\\n\\n Binance Coin: +24%\\n\\n Cardano: +5%\\n\\n Ripple: +20%\\n\\nBitcoin price closing in on all-time high\\n\\nFriday 15 October 2021 16:17 , Anthony Cuthbertson\\n\\nBitcoin has more than quintupled in price over the last 12 months, and is now less than $4,000 away from the all-time high that it experienced in mid April.\\n\\nIts been a bumpy year for bitcoin, with some analysts predicting that the latest price rally was merely a dead cat bounce that would see the cryptocurrency tumble all the way back to below $20,000.\\n\\nThe closer BTC gets to its $64,000 record, the less likely this scenario looks. One of the most prominent advocates of this bear market theory, the pseudonymous Mr Whale, seems to have been receiving a lot of comments on Twitter, judging by his latest tweet:\\n\\npic.twitter.com/MIAlxySvII\\n\\n Mr. Whale (@CryptoWhale) October 15, 2021\\n\\nBitcoin price finally breaks $60,000, with traders extremely bullish'\\n\\nFriday 15 October 2021 14:56 , Anthony Cuthbertson\\n\\nAfter teasing the $60,000 price mark all day, bitcoin has finally broken above it.\\n\\nThis is the first time since April that the worlds biggest cryptocurrency has reached this high, and breaching this milestone could prompt a significant price rally, according to one analyst.\\n\\nWill Morris, a sales trader at the UK based digital asset broker GlobalBlock, believes this could be the start of an extremely bullish phase for bitcoin.\\n\\nTraders previously suggested that for bitcoin to enter an extremely bullish phase and go parabolic it would need to break the $59-60k level, he tells The Independent.\\n\\nIf BTC breaks to $61k there could be minimal upside pressure. All-time highs of nearly $65k will be the next resistance level before a potential price discovery phase. While the BTC price has fiercely rallied over the past few weeks, bitcoin balance on exchanges remains at the lowest levels in nine months, indicating investors are holding bitcoin in wallets rather than readying themselves to sell.\\n\\nHow high could bitcoin price go?\\n\\nFriday 15 October 2021 13:31 , Anthony Cuthbertson\\n\\nDepending on who you ask, the answer to this question can range from $0 to north of $1 million.\\n\\nBut separating the so-called FUDsters from the Moon Boys are the more realistic crypto analysts, who put bitcoins price within a window of between $10,000 and $250,000 over the next year.\\n\\nOne of the most accurate forecasts made in recent months comes from the pseudonymous Dutch analyst PlanB, who predicted in June the price of bitcoin in August and September to within less than a third of a per cent.\\n\\nAccording to PlanBs worst case scenario, bitcoin will be at $63,000 at the end of October, before shooting up to $98,000 in November and $135,000 in December. Today he tweets:\\n\\nClear skies pic.twitter.com/QQusv4slgw\\n\\n PlanB (@100trillionUSD) October 15, 2021\\n\\nCrypto expert predicts price frenzy'\\n\\nFriday 15 October 2021 11:06 , Anthony Cuthbertson\\n\\nBitcoin is set for more short-term gains and possibly even a buying frenzy, according to one crypto expert.\\n\\nWeve heard from Greg Waisman, co-founder and COO at the global payments network Mercuryo, who believes todays ETF news could provide the next major leg up for the market that will push bitcoin to a new all-time high.\\n\\nWaisman this could come within the next couple of weeks, before climbing a further $10,000 before the end of the year. Heres what he had to say:\\n\\nThe $6.7 trillion US ETF industry is the largest market in the world  bitcoin frenzy may reach new heights in the near future.\\n\\nApproving futures-based bitcoin ETFs will be seen as a forward-thinking move by the SEC and could lead to a bullish run. Given the size of the US ETF industry and current positivity in the market, following Chinas ban being put behind the public, El Salvadors good will  using surplus funds from The Bitcoin Trust for noble purposes and the emergence of India as the country with most crypto users, among other reasons, I believe not only will bitcoin cross $60,000 but also break its all-time high this month and potentially surpass $65,000 by the end of the month.\\n\\nUnless some barriers to growth appear in the latter stages of the year, bitcoin is poised to reach $75,000 by the end of the year.\\n\\nGreg Waisman, Mercuryo\\n\\nBitcoin price set for record-breaking end to 2021?\\n\\nFriday 15 October 2021 10:45 , Anthony Cuthbertson\\n\\nOctober has historically been a positive month for bitcoin, averaging 13 per cent gains since 2011, though this is just a fraction of the price increase typically seen in November.\\n\\nWith nearly a 40 per cent price rise in October already, bitcoin is vastly outperforming the precedent.\\n\\nWere still only halfway through October, but if bitcoin stays at its current price and then replicates the average gains of previous years, it will reach six figures before Christmas. Thats clearly just hypothetical but several prominent analysts like PlanB have made similar projections.\\n\\nCrypto analysts react to bitcoin ETF news\\n\\nFriday 15 October 2021 09:10 , Anthony Cuthbertson\\n\\nYou can read the full story of the long-awaited bitcoin futures ETF right here, which includes analysis from crypto experts about what this news means for the space.\\n\\nWell be getting more reaction throughout the day from analysts, as well as expert price predictions for bitcoin and the rest of the cryptocurrency market. Could we be in for a record-breaking end to 2021? It would take only one more sudden surge, like the one we saw earlier this morning, for BTC to hit a new all-time high - though some are warning that mania could once again be creeping into the market, signalling a dip could also be on its way at some point.\\n\\nBitcoin ETF news sends price of crypto soaring\\n\\nBitcoin price surges, closing in on record high\\n\\nFriday 15 October 2021 06:51 , Anthony Cuthbertson\\n\\nThe price of bitcoin is now less than $5,000 away from its all-time high, after suddenly shooting up from below $57,000 to close to $60,000 on Friday morning.\\n\\nThe gains come off the back of a report that the US Securities and Exchange Commission (SEC) is set to approve the launch of a bitcoin exchange-traded fund (ETF).\\n\\nThis would be a massive step forward for bitcoin and cryptocurrency investors, who have been calling for a bitcoin ETF approval for years.\\n\\nThe official Twitter account from the SECs investor education office also hinted that an announcement was imminent, tweeting about the risks of trading bitcoin futures contracts.\\n\\nBefore investing in a fund that holds Bitcoin futures contracts, make sure you carefully weigh the potential risks and benefits. \\r\\n\\r\\nCheck out our Investor Bulletin to learn more: https://t.co/AZbrkpfn8F\\n\\n SEC Investor Ed (@SEC_Investor_Ed) October 14, 2021\\n\\nDogecoin price spikes after Elon Musk tweets\\n\\nThursday 14 October 2021 15:04 , Anthony Cuthbertson\\n\\nElon Musk has once again sent the price of dogecoin soaring after trading tweets with the cryptocurrencys founder, Billy Markus.\\n\\nThe meme-inspired crypto shot up nearly 10 per cent after Musk replied with the 100 emoji after Markus tweeted, if you dont run a dogecoin node, you are satan.\\n\\nThe centibillionaire also posted a crying face emoji to a meme posted by Markus, inspired by hit Netflix show Squid Game.\\n\\n\\n\\n Elon Musk (@elonmusk) October 14, 2021\\n\\nAs the richest person in the world, Musk revealed earlier this year that beyond Tesla stock and his share of ownership in SpaceX, cryptocurrency is the only thing of significant value that he owns.\\n\\nThe only ones he has admitted to personally owning are bitcoin, Ethereum (ether) and, you guessed it, dogecoin. (CoinMarketCap)\\n\\nHow bitcoin and crypto market stack up\\n\\nThursday 14 October 2021 13:28 , Anthony Cuthbertson\\n\\nAfter overtaking the market value of Apple today, we put this chart together to see how the cryptocurrency market stacks up against the top 10 leading assets.\\n\\nAccounting for nearly half of the global crypto market cap, bitcoin ranks above Facebook, Tesla and Berkshire Hathaway in the top 10.\\n\\nNo included on this chart are precious metals, but if they were gold would be way out in front with a market cap of more than $11 trillion. Silver would also rank 7th on the list, just ahead of bitcoin with a market cap of $1.31 trillion.\\n\\nCrypto market value overtakes Apple\\n\\nThursday 14 October 2021 12:01 , Anthony Cuthbertson\\n\\nThe cryptocurrency market is now worth more than the worlds most valuable company.\\n\\nBitcoins price surge, combined with gains from Ethereum (ether), Cardano (ada) and Ripple (XRP) over the last few hours has pushed the overall crypto market cap up by 5 per cent.\\n\\nThis puts it at $2.37 trillion - roughly $40 billion more than Apple.\\n\\nBitcoin alone is now closing in on the market cap of silver, with analysts making comparisons to the astonishing price increase that it experienced in 2013.\\n\\nYou can read the full story here.\\n\\nBitcoin price rally sees crypto market overtake worlds most valuable company\\n\\nBitcoin price shoots up as institutional investors return'\\n\\nThursday 14 October 2021 08:51 , Anthony Cuthbertson\\n\\nBitcoin is once again on the ascendency, hitting a fresh five-month high on Thursday morning after a brief moment of price consolidation in the middle of the week.\\n\\nThe overall crypto market has also shot up, with an increase in value of around 5 per cent since this time yesterday. That equates to more than $100 billion.\\n\\nWeve heard from the UK head of the Luno cryptocurrency exchange this morning, who offers his thoughts on why bitcoin and other leading cryptocurrencies are surging.\\n\\nThe rising expectations for a bitcoin ETF shown by rising open interest, and growing basis premiums for CMEs futures may be a cause of the bullish momentum. CMEs share of the global open interest in the bitcoin futures also reached 17 per cent this week  the highest level recorded since February 2021 suggesting institutional traders have returned to bitcoin.\\n\\nSam Kopelman, Luno\\n\\nBitcoin price slides but Binance Coin skyrockets\\n\\nWednesday 13 October 2021 11:24 , Anthony Cuthbertson\\n\\nThe price of bitcoin has now slipped below $55,000, though other leading cryptocurrencies are seeing a major resurgence.\\n\\nBinance Coin is now up more than 16 per cent since this time yesterday, while Polkadot and Uniswap are both up by more than 7 per cent.\\n\\nThe latest gains have pushed Binance Coins price above $450  less than $200 away from its all-time high  and means its market cap is now close to $80 billion.\\n\\nThe reason for the price surge appears to be the introduction of a $1 billion fund that Binance claims will be the biggest growth fund in the history or crypto.\\n\\nUS overtakes China for bitcoin mining\\n\\nWednesday 13 October 2021 09:51 , Anthony Cuthbertson\\n\\nFor the first time ever, the US has overtaken China to become the top destination for bitcoin miners.\\n\\nNew data from the Cambridge Centre for Alternative Finance shows that one third of bitcoins hashrate is now in the US, following a 428 per cent increase since September 2020.\\n\\nThe shift comes after Chinas massive crackdown on mining operations in the country, which wiped out roughly half of all bitcoin miners.\\n\\nCheap energy and vast renewable power sources has made the US an attractive destination for miners, though it still doesnt command the same dominance in the sector as China once did. Analysts see the spreading out of market share as a major positive for bitcoin and should ultimately reduce big price fluctuations as no single country can have a significant impact on the sector through introducing new legislation.\\n\\nBitcoin advocates share long-term trading strategy\\n\\nWednesday 13 October 2021 07:15 , Anthony Cuthbertson\\n\\nTwo of the most high-profile bitcoin advocates have offered their advice on cryptocurrency trading.\\n\\nMicroStrategy CEO Michael Saylor, who has ploughed billions of the companys cash reserves into bitcoin, and Binance CEO Changpeng Zhao (CZ) have both said they do not look at short-term price swings.\\n\\nInstead, CZ advises to focus on the long term, while Saylor says the best strategy is to buy bitcoin and wait. It seems to have worked for him so far, with MicroStrategy more than doubling the $3.16 billion that it has invested into bitcoin.\\n\\nTrading #Bitcoin is like trading Apple, Amazon, Google, or Facebook a decade ago. The more you obsess over timing the market, the more mistakes you make. They were all technology networks that were dominant & destined to grow. The best strategy is to buy bitcoin and wait. https://t.co/D3XiQ2B71R\\n\\n Michael Saylor (@saylor) October 12, 2021\\n\\nAltcoins surge as bitcoin price stalls\\n\\nWednesday 13 October 2021 06:55 , Anthony Cuthbertson\\n\\nBitcoins steady price gains since the start of the week appear to be on hold, as it remains below $56,000 on Wednesday morning.\\n\\nMaking up for the lack of movement are several leading cryptocurrencies that have surged in price overnight.\\n\\nBinance Coin is up 8 per cent, while Solana and Polkadot are both up by around 3 per cent. Bitcoins slight dip in price, combined with these altcoin gains, mean the overall crypto market has moved by less than a third of a per cent since this time yesterday.\\n\\nBitcoin price dips but remains up by 10%\\n\\nTuesday 12 October 2021 19:11 , Anthony Cuthbertson\\n\\nThe price of bitcoin has dipped slightly over the last few hours, falling from above $57,000 to below $56,000.\\n\\nDespite the losses, BTC remains up by more than 10 per cent week-on-week, and remains within a relatively tight trading window that has proved remarkably stable since the sudden surge at the start of October. Bitcoins market cap also remains above $1 trillion, though the overall crypto market cap has fallen by just over 2 per cent to $2.29 trillion over the last 24 hours.\\n\\nHeres how the price chart looks for the last seven days, courtesy of CoinMarketCap. (CoinMarketCap)\\n\\nBitcoin price actually benefits from Chinese crackdown, expert claims\\n\\nTuesday 12 October 2021 13:27 , Anthony Cuthbertson\\n\\nAfter bitcoin hit an all-time high of just above $64,000 in mid April, the cryptocurrency suffered one of the most devastating price crashes in its history that took it below $30,000.\\n\\nOne of the leading causes was Chinas crackdown on cryptocurrency, which forced miners - which made up more than 70 per cent of the network - to close operations and move out of the country. But while this had a negative impact on bitcoins price in the short term, some crypto experts believe it will actually be beneficial in the long run.\\n\\nPeriodic shock-tests seem to only make bitcoin grow stronger, Paolo Ardoino, chief technology officer of the exchange Bitfinex, tells The Independent.\\n\\nThe hashrate is recovering to reach a near all-time high in the wake of the China ban... We see the king of crypto is once again showing its resilience. In the case of any ban or restrictions on bitcoin, there will always be someone left to fill the void. We expect to see others step up as Chinas power diminishes. This is a true testament to the far reach and resilience of the industry.\\n\\nFive countries will accept bitcoin as legal tender in 2022, crypto boss predicts\\n\\nTuesday 12 October 2021 11:27 , Anthony Cuthbertson\\n\\nFollowing El Salvadors pioneering Bitcoin Law, which made the cryptocurrency legal tender in the Central American country last month, there has been a lot of speculation over which countries might follow suit.\\n\\nA bold new prediction has just come from Alex Hoeptner, the CEO of cryptocurrency exchange Bitmex, who believes that at least five countries will adopt bitcoin by the end of next year.\\n\\nHoeptner says all of them will be developing countries, citing remittance fees, inflation and politics as the three main factors driving the adoption.\\n\\nOver the next year, and as El Salvador works out the kinks in its rollout, savvy politicians will be thinking of how they can take a similar path, and how it might benefit both them and their constituents, he said. What El Salvador did is take the first leap of faith, making similar moves by other countries much easier to consider. (Getty Images)\\n\\nJPMorgans Jamie Dimon says bitcoin is worthless, exposing stark lack of knowledge\\n\\nTuesday 12 October 2021 09:57 , Anthony Cuthbertson\\n\\nJPMorgan CEO Jamie Dimon has said he believes bitcoin is worthless, while also revealing that his clients disagree.\\n\\nHe said that JPMorgan will provide customers as-clean-as-possible access to bitcoin, saying that his personal opinion on the worlds most valuable cryptocurrency is irrelevant when there is such strong demand for it.\\n\\nIt is not the first time the controversial CEO has spoken out against bitcoin, though his latest comments have revealed a fundamental misunderstanding about the cryptocurrency. He questioned whether bitcoins fixed supply - no more than 21 million coins will ever exist - will magically increase in the future, asking: How do you know it ends at 21 million? You all read the algorithms? You guys all believe that? I dont know, Ive always been a skeptic of stuff like that?\\n\\nIf he bothered to read the algorithms himself, he would realise that it is just five lines of code that limit bitcoins supply.\\n\\nFive lines of code that results in 21m #Bitcoinpic.twitter.com/Isx8CTYMe0\\n\\n Bitcoin (@Bitcoin) October 12, 2021\\n\\nBitcoin ETF speculation pushing price up?\\n\\nTuesday 12 October 2021 09:31 , Anthony Cuthbertson\\n\\nWidely reported speculation that the US Securities and Exchange Commission (SEC) is interested in four separate bitcoin exchange-traded funds (ETF) is being cited as one of the driving factors behind the cryptocurrencys astonishing price rise since the start of October.\\n\\nWeve heard from Konstantin Anissimov, executive director of the crypto exchange CEX.IO, who says the rumours are just one of several factors pushing bitcoins price higher.\\n\\nHeres what he had to say:\\n\\nThere are a few reasons why bitcoin is currently experiencing a bullish surge.October has been a good month for crypto investors. El Salvadors move to adopt bitcoin as legal tender has been seen in a positive light.El Salvadors President, Nayib Bukele announced that they will use surplus funds from The Bitcoin Trust to build a veterinary hospital. The use of bitcoin for such a noble cause has surely played a role in public approval and a gain in price.Another reason for Bitcoins increase in value is JPMorgans recent note to investors - it said that the prized crypto asset seems to be a better hedge against inflation than gold. I believe the latest bitcoin rally is a direct result of inflation concerns and investors are using the cryptocurrency as a hedge against it. The USs positive stance on cryptocurrencies in recent weeks is another contributing factor.The public sentiment is bullish at the moment and there appear to be no roadblocks in the near future. 2021 has been a topsy-turvy year for cryptocurrencies as is usually the case  we could be in for a good end to the year!\\n\\nKonstantin Anissimov, CEX.IO\\n\\nMystery whale buys $1.6 billion of bitcoin\\n\\nTuesday 12 October 2021 07:58 , Anthony Cuthbertson\\n\\nA mysterious investor, or group of investors, has placed an order to buy $1.6 billion worth of bitcoin on a cryptocurrency exchange.\\n\\nSuch a large volume trade has inevitably contributed to bitcoins price surge, pushing it above $57,000 for the first time since May.\\n\\nKi Young, a crypto analyst and CEO of on-chain data firm CryptoQuant, speculated that traders may be taking on large positions ahead of a rumoured approval by the US Securities and Exchange Commission of a futures-based bitcoin exchange-traded fund (ETF). This kind of announcement would be huge for bitcoin, and would almost certainly lead to fresh new price highs.\\n\\nBitcoin price closing in on ATH as crypto market closes in on Apple\\n\\nTuesday 12 October 2021 07:51 , Anthony Cuthbertson\\n\\nBitcoin has risen by nearly a third in value since the start of the month, with the price gains pushing the overall crypto market cap above the value of tech giants like Amazon, Alphabet (Google) and Microsoft.\\n\\nThe cryptocurrency market is currently worth $2.32 trillion, meaning only Apple is worth more at $2.36 trillion.\\n\\nThe market value of bitcoin alone is more than $1 trillion, meaning one more price rally could push it above silver. Some analysts and investors, such as MicroStrategys Michael Saylor, believe the worlds most valuable cryptocurrency will one day flip gold, due to its inbuilt scarcity. That would put the price of a single bitcoin at around half a million dollars. (CompaniesMarketCap)\\n\\nHello and welcome...\\n\\nTuesday 12 October 2021 07:35 , Anthony Cuthbertson\\n\\nto The Independents live coverage of the crypto market. With another bull run seemingly underway, well have all the latest news, updates and analysis throughout the week for bitcoin, Ethereum (ether) and other leading cryptocurrencies.\\n\\nWell also be bringing you expert price predictions, as well as seeking to answer the question of whether we really are set to see a new all-time high for bitcoin within the next 10 weeks. Its currently less than $7,000 away from hitting a new record, with its notorious volatility meaning such a jump could be achieved in just a few hours - though such a significant price move could also go the other way.\"]"
      ]
     },
     "execution_count": 178,
     "metadata": {},
     "output_type": "execute_result"
    }
   ],
   "source": [
    "list(clean_emoji['content'])"
   ]
  },
  {
   "cell_type": "markdown",
   "id": "cc2c8e10",
   "metadata": {},
   "source": [
    "# Connect to the database"
   ]
  },
  {
   "cell_type": "code",
   "execution_count": 24,
   "id": "d0dcfa04",
   "metadata": {},
   "outputs": [],
   "source": [
    "def connect_to_db():\n",
    "    \"\"\"Function to make the connection with\\\n",
    "    the database and return the cursor\"\"\"\n",
    "    connection = pymysql.connect(\n",
    "        host=os.environ.get('DB_HOST'), \n",
    "        user=os.environ.get('DB_USER'),\n",
    "        password=os.environ.get('DB_PASSWORD'),\n",
    "        db=os.environ.get('DB_NAME')\n",
    "    )\n",
    "    return connection.cursor()"
   ]
  },
  {
   "cell_type": "code",
   "execution_count": 27,
   "id": "a4a47c9f",
   "metadata": {},
   "outputs": [],
   "source": [
    "cursor = connect_to_db()"
   ]
  },
  {
   "cell_type": "code",
   "execution_count": 28,
   "id": "1e065707",
   "metadata": {},
   "outputs": [
    {
     "name": "stdout",
     "output_type": "stream",
     "text": [
      "('AAPL',)\n",
      "('AMZN',)\n",
      "('GOOGL',)\n",
      "('MSFT',)\n",
      "('NFLX',)\n",
      "('TSLA',)\n"
     ]
    }
   ],
   "source": [
    "# Create a new query that selects the entire contents of 'ticker'\n",
    "sql = \"SELECT * FROM `ticker`\"\n",
    "cursor.execute(sql)\n",
    "\n",
    "# Fetch all the records and use a for loop to print them one line at a time\n",
    "result = cursor.fetchall()\n",
    "for i in result:\n",
    "    print(i)"
   ]
  },
  {
   "cell_type": "code",
   "execution_count": null,
   "id": "7108aef2",
   "metadata": {},
   "outputs": [],
   "source": []
  },
  {
   "cell_type": "code",
   "execution_count": 34,
   "id": "ba984b10",
   "metadata": {},
   "outputs": [
    {
     "data": {
      "text/plain": [
       "array(['AAPL', 'MSFT', 'GOOGL', 'AMZN', 'TSLA', 'NFLX'], dtype=object)"
      ]
     },
     "execution_count": 34,
     "metadata": {},
     "output_type": "execute_result"
    }
   ],
   "source": [
    "df_clean['ticker'].unique()"
   ]
  },
  {
   "cell_type": "code",
   "execution_count": 194,
   "id": "c253315f",
   "metadata": {},
   "outputs": [],
   "source": [
    "list_news = list(df_clean.values)\n",
    "list_news = np.array(list_news)\n",
    "list_news = list_news.tolist()"
   ]
  },
  {
   "cell_type": "code",
   "execution_count": 195,
   "id": "7cc4e10e",
   "metadata": {
    "collapsed": true
   },
   "outputs": [
    {
     "data": {
      "text/plain": [
       "\"Bitcoin has broken above $60,000 for the first time since April, prompting a market-wide price surge.\\n\\nThe latest gains follow news on Friday that the US Securities and Exchange Commission is set to approve the first bitcoin futures exchange-traded fund (ETF) early next week.\\n\\nOther leading cryptocurrencies have also seen big price increases in recent days, with Ethereum (ether), Binance Coin and Ripple (XRP) all rising by between 5-10 per cent over the last week.\\n\\nThe crypto market is now valued at more than $2.44 trillion, meaning it is now worth more than Apple, the worlds most valuable company.\\n\\nSome analysts have forecast a record-breaking end to the year, with one price prediction model putting BTC on track to hit a new all-time-high by November. The same model predicts that bitcoin will hit six figures in 2021.\\n\\nWell have all the latest news, analysis and expert price predictions right here.\\n\\nRead More\\n\\nBitcoin price prediction model remains amazingly accurate with less than 1% error  and forecasts record end to 2021\\n\\nKey points\\n\\nCrypto market value overtakes Apple Bitcoin advocates share best trading strategy' Highly-anticipated bitcoin futures ETF set for approval\\n\\nBitcoin price to hit $150,000 this cycle?\\n\\n13:09 , Anthony Cuthbertson\\n\\nWith bitcoin still hovering just a couple of thousand dollars away from its all-time high, one analyst has zoomed out from the short-term market movements to look at the big big picture.\\n\\nLooking at price data from the last nine years, crypto author Glen Goodman has extrapolated a potential peak for BTC this cycle at around $150,000. This could be followed by a major correction to around $20,000, though he warns that this lower bound could be hit before the top end is reached.\\n\\nThe amount of variables that could impact the market in the future mean such projections are hugely hypothetical, though interesting to consider.\\n\\nThis is the big big #Bitcoin picture. *If* this repeating pattern continues, the top end for $BTC this cycle is ~$150,000, and return to the bottom line would be ~$20,000.\\r\\n\\r\\nSo which target will be hit first?? Look at the pattern, decide with your own eyes, and tell me below... https://t.co/rjy6DsGgfUpic.twitter.com/YX8sWBGkJO\\n\\n Glen Goodman (@glengoodman) October 17, 2021\\n\\nBitcoin price surges again overnight\\n\\nStory continues\\n\\nSaturday 16 October 2021 08:25 , Anthony Cuthbertson\\n\\nAnother overnight rally has seen the price of bitcoin hit a fresh six-month high above $62,000  leaving it less than $2,000 away from its all-time high.\\n\\nBitcoin is now up by 44 per cent since the beginning of October, while other leading cryptocurrencies have also seen similarly remarkable gains.\\n\\nAt the halfway point, heres how the top five have fared since the start of the month:\\n\\n Bitcoin: +44%\\n\\n Ethereum: +27%\\n\\n Binance Coin: +24%\\n\\n Cardano: +5%\\n\\n Ripple: +20%\\n\\nBitcoin price closing in on all-time high\\n\\nFriday 15 October 2021 16:17 , Anthony Cuthbertson\\n\\nBitcoin has more than quintupled in price over the last 12 months, and is now less than $4,000 away from the all-time high that it experienced in mid April.\\n\\nIts been a bumpy year for bitcoin, with some analysts predicting that the latest price rally was merely a dead cat bounce that would see the cryptocurrency tumble all the way back to below $20,000.\\n\\nThe closer BTC gets to its $64,000 record, the less likely this scenario looks. One of the most prominent advocates of this bear market theory, the pseudonymous Mr Whale, seems to have been receiving a lot of comments on Twitter, judging by his latest tweet:\\n\\npic.twitter.com/MIAlxySvII\\n\\n Mr. Whale (@CryptoWhale) October 15, 2021\\n\\nBitcoin price finally breaks $60,000, with traders extremely bullish'\\n\\nFriday 15 October 2021 14:56 , Anthony Cuthbertson\\n\\nAfter teasing the $60,000 price mark all day, bitcoin has finally broken above it.\\n\\nThis is the first time since April that the worlds biggest cryptocurrency has reached this high, and breaching this milestone could prompt a significant price rally, according to one analyst.\\n\\nWill Morris, a sales trader at the UK based digital asset broker GlobalBlock, believes this could be the start of an extremely bullish phase for bitcoin.\\n\\nTraders previously suggested that for bitcoin to enter an extremely bullish phase and go parabolic it would need to break the $59-60k level, he tells The Independent.\\n\\nIf BTC breaks to $61k there could be minimal upside pressure. All-time highs of nearly $65k will be the next resistance level before a potential price discovery phase. While the BTC price has fiercely rallied over the past few weeks, bitcoin balance on exchanges remains at the lowest levels in nine months, indicating investors are holding bitcoin in wallets rather than readying themselves to sell.\\n\\nHow high could bitcoin price go?\\n\\nFriday 15 October 2021 13:31 , Anthony Cuthbertson\\n\\nDepending on who you ask, the answer to this question can range from $0 to north of $1 million.\\n\\nBut separating the so-called FUDsters from the Moon Boys are the more realistic crypto analysts, who put bitcoins price within a window of between $10,000 and $250,000 over the next year.\\n\\nOne of the most accurate forecasts made in recent months comes from the pseudonymous Dutch analyst PlanB, who predicted in June the price of bitcoin in August and September to within less than a third of a per cent.\\n\\nAccording to PlanBs worst case scenario, bitcoin will be at $63,000 at the end of October, before shooting up to $98,000 in November and $135,000 in December. Today he tweets:\\n\\nClear skies pic.twitter.com/QQusv4slgw\\n\\n PlanB (@100trillionUSD) October 15, 2021\\n\\nCrypto expert predicts price frenzy'\\n\\nFriday 15 October 2021 11:06 , Anthony Cuthbertson\\n\\nBitcoin is set for more short-term gains and possibly even a buying frenzy, according to one crypto expert.\\n\\nWeve heard from Greg Waisman, co-founder and COO at the global payments network Mercuryo, who believes todays ETF news could provide the next major leg up for the market that will push bitcoin to a new all-time high.\\n\\nWaisman this could come within the next couple of weeks, before climbing a further $10,000 before the end of the year. Heres what he had to say:\\n\\nThe $6.7 trillion US ETF industry is the largest market in the world  bitcoin frenzy may reach new heights in the near future.\\n\\nApproving futures-based bitcoin ETFs will be seen as a forward-thinking move by the SEC and could lead to a bullish run. Given the size of the US ETF industry and current positivity in the market, following Chinas ban being put behind the public, El Salvadors good will  using surplus funds from The Bitcoin Trust for noble purposes and the emergence of India as the country with most crypto users, among other reasons, I believe not only will bitcoin cross $60,000 but also break its all-time high this month and potentially surpass $65,000 by the end of the month.\\n\\nUnless some barriers to growth appear in the latter stages of the year, bitcoin is poised to reach $75,000 by the end of the year.\\n\\nGreg Waisman, Mercuryo\\n\\nBitcoin price set for record-breaking end to 2021?\\n\\nFriday 15 October 2021 10:45 , Anthony Cuthbertson\\n\\nOctober has historically been a positive month for bitcoin, averaging 13 per cent gains since 2011, though this is just a fraction of the price increase typically seen in November.\\n\\nWith nearly a 40 per cent price rise in October already, bitcoin is vastly outperforming the precedent.\\n\\nWere still only halfway through October, but if bitcoin stays at its current price and then replicates the average gains of previous years, it will reach six figures before Christmas. Thats clearly just hypothetical but several prominent analysts like PlanB have made similar projections.\\n\\nCrypto analysts react to bitcoin ETF news\\n\\nFriday 15 October 2021 09:10 , Anthony Cuthbertson\\n\\nYou can read the full story of the long-awaited bitcoin futures ETF right here, which includes analysis from crypto experts about what this news means for the space.\\n\\nWell be getting more reaction throughout the day from analysts, as well as expert price predictions for bitcoin and the rest of the cryptocurrency market. Could we be in for a record-breaking end to 2021? It would take only one more sudden surge, like the one we saw earlier this morning, for BTC to hit a new all-time high - though some are warning that mania could once again be creeping into the market, signalling a dip could also be on its way at some point.\\n\\nBitcoin ETF news sends price of crypto soaring\\n\\nBitcoin price surges, closing in on record high\\n\\nFriday 15 October 2021 06:51 , Anthony Cuthbertson\\n\\nThe price of bitcoin is now less than $5,000 away from its all-time high, after suddenly shooting up from below $57,000 to close to $60,000 on Friday morning.\\n\\nThe gains come off the back of a report that the US Securities and Exchange Commission (SEC) is set to approve the launch of a bitcoin exchange-traded fund (ETF).\\n\\nThis would be a massive step forward for bitcoin and cryptocurrency investors, who have been calling for a bitcoin ETF approval for years.\\n\\nThe official Twitter account from the SECs investor education office also hinted that an announcement was imminent, tweeting about the risks of trading bitcoin futures contracts.\\n\\nBefore investing in a fund that holds Bitcoin futures contracts, make sure you carefully weigh the potential risks and benefits. \\r\\n\\r\\nCheck out our Investor Bulletin to learn more: https://t.co/AZbrkpfn8F\\n\\n SEC Investor Ed (@SEC_Investor_Ed) October 14, 2021\\n\\nDogecoin price spikes after Elon Musk tweets\\n\\nThursday 14 October 2021 15:04 , Anthony Cuthbertson\\n\\nElon Musk has once again sent the price of dogecoin soaring after trading tweets with the cryptocurrencys founder, Billy Markus.\\n\\nThe meme-inspired crypto shot up nearly 10 per cent after Musk replied with the 100 emoji after Markus tweeted, if you dont run a dogecoin node, you are satan.\\n\\nThe centibillionaire also posted a crying face emoji to a meme posted by Markus, inspired by hit Netflix show Squid Game.\\n\\n\\n\\n Elon Musk (@elonmusk) October 14, 2021\\n\\nAs the richest person in the world, Musk revealed earlier this year that beyond Tesla stock and his share of ownership in SpaceX, cryptocurrency is the only thing of significant value that he owns.\\n\\nThe only ones he has admitted to personally owning are bitcoin, Ethereum (ether) and, you guessed it, dogecoin. (CoinMarketCap)\\n\\nHow bitcoin and crypto market stack up\\n\\nThursday 14 October 2021 13:28 , Anthony Cuthbertson\\n\\nAfter overtaking the market value of Apple today, we put this chart together to see how the cryptocurrency market stacks up against the top 10 leading assets.\\n\\nAccounting for nearly half of the global crypto market cap, bitcoin ranks above Facebook, Tesla and Berkshire Hathaway in the top 10.\\n\\nNo included on this chart are precious metals, but if they were gold would be way out in front with a market cap of more than $11 trillion. Silver would also rank 7th on the list, just ahead of bitcoin with a market cap of $1.31 trillion.\\n\\nCrypto market value overtakes Apple\\n\\nThursday 14 October 2021 12:01 , Anthony Cuthbertson\\n\\nThe cryptocurrency market is now worth more than the worlds most valuable company.\\n\\nBitcoins price surge, combined with gains from Ethereum (ether), Cardano (ada) and Ripple (XRP) over the last few hours has pushed the overall crypto market cap up by 5 per cent.\\n\\nThis puts it at $2.37 trillion - roughly $40 billion more than Apple.\\n\\nBitcoin alone is now closing in on the market cap of silver, with analysts making comparisons to the astonishing price increase that it experienced in 2013.\\n\\nYou can read the full story here.\\n\\nBitcoin price rally sees crypto market overtake worlds most valuable company\\n\\nBitcoin price shoots up as institutional investors return'\\n\\nThursday 14 October 2021 08:51 , Anthony Cuthbertson\\n\\nBitcoin is once again on the ascendency, hitting a fresh five-month high on Thursday morning after a brief moment of price consolidation in the middle of the week.\\n\\nThe overall crypto market has also shot up, with an increase in value of around 5 per cent since this time yesterday. That equates to more than $100 billion.\\n\\nWeve heard from the UK head of the Luno cryptocurrency exchange this morning, who offers his thoughts on why bitcoin and other leading cryptocurrencies are surging.\\n\\nThe rising expectations for a bitcoin ETF shown by rising open interest, and growing basis premiums for CMEs futures may be a cause of the bullish momentum. CMEs share of the global open interest in the bitcoin futures also reached 17 per cent this week  the highest level recorded since February 2021 suggesting institutional traders have returned to bitcoin.\\n\\nSam Kopelman, Luno\\n\\nBitcoin price slides but Binance Coin skyrockets\\n\\nWednesday 13 October 2021 11:24 , Anthony Cuthbertson\\n\\nThe price of bitcoin has now slipped below $55,000, though other leading cryptocurrencies are seeing a major resurgence.\\n\\nBinance Coin is now up more than 16 per cent since this time yesterday, while Polkadot and Uniswap are both up by more than 7 per cent.\\n\\nThe latest gains have pushed Binance Coins price above $450  less than $200 away from its all-time high  and means its market cap is now close to $80 billion.\\n\\nThe reason for the price surge appears to be the introduction of a $1 billion fund that Binance claims will be the biggest growth fund in the history or crypto.\\n\\nUS overtakes China for bitcoin mining\\n\\nWednesday 13 October 2021 09:51 , Anthony Cuthbertson\\n\\nFor the first time ever, the US has overtaken China to become the top destination for bitcoin miners.\\n\\nNew data from the Cambridge Centre for Alternative Finance shows that one third of bitcoins hashrate is now in the US, following a 428 per cent increase since September 2020.\\n\\nThe shift comes after Chinas massive crackdown on mining operations in the country, which wiped out roughly half of all bitcoin miners.\\n\\nCheap energy and vast renewable power sources has made the US an attractive destination for miners, though it still doesnt command the same dominance in the sector as China once did. Analysts see the spreading out of market share as a major positive for bitcoin and should ultimately reduce big price fluctuations as no single country can have a significant impact on the sector through introducing new legislation.\\n\\nBitcoin advocates share long-term trading strategy\\n\\nWednesday 13 October 2021 07:15 , Anthony Cuthbertson\\n\\nTwo of the most high-profile bitcoin advocates have offered their advice on cryptocurrency trading.\\n\\nMicroStrategy CEO Michael Saylor, who has ploughed billions of the companys cash reserves into bitcoin, and Binance CEO Changpeng Zhao (CZ) have both said they do not look at short-term price swings.\\n\\nInstead, CZ advises to focus on the long term, while Saylor says the best strategy is to buy bitcoin and wait. It seems to have worked for him so far, with MicroStrategy more than doubling the $3.16 billion that it has invested into bitcoin.\\n\\nTrading #Bitcoin is like trading Apple, Amazon, Google, or Facebook a decade ago. The more you obsess over timing the market, the more mistakes you make. They were all technology networks that were dominant & destined to grow. The best strategy is to buy bitcoin and wait. https://t.co/D3XiQ2B71R\\n\\n Michael Saylor (@saylor) October 12, 2021\\n\\nAltcoins surge as bitcoin price stalls\\n\\nWednesday 13 October 2021 06:55 , Anthony Cuthbertson\\n\\nBitcoins steady price gains since the start of the week appear to be on hold, as it remains below $56,000 on Wednesday morning.\\n\\nMaking up for the lack of movement are several leading cryptocurrencies that have surged in price overnight.\\n\\nBinance Coin is up 8 per cent, while Solana and Polkadot are both up by around 3 per cent. Bitcoins slight dip in price, combined with these altcoin gains, mean the overall crypto market has moved by less than a third of a per cent since this time yesterday.\\n\\nBitcoin price dips but remains up by 10%\\n\\nTuesday 12 October 2021 19:11 , Anthony Cuthbertson\\n\\nThe price of bitcoin has dipped slightly over the last few hours, falling from above $57,000 to below $56,000.\\n\\nDespite the losses, BTC remains up by more than 10 per cent week-on-week, and remains within a relatively tight trading window that has proved remarkably stable since the sudden surge at the start of October. Bitcoins market cap also remains above $1 trillion, though the overall crypto market cap has fallen by just over 2 per cent to $2.29 trillion over the last 24 hours.\\n\\nHeres how the price chart looks for the last seven days, courtesy of CoinMarketCap. (CoinMarketCap)\\n\\nBitcoin price actually benefits from Chinese crackdown, expert claims\\n\\nTuesday 12 October 2021 13:27 , Anthony Cuthbertson\\n\\nAfter bitcoin hit an all-time high of just above $64,000 in mid April, the cryptocurrency suffered one of the most devastating price crashes in its history that took it below $30,000.\\n\\nOne of the leading causes was Chinas crackdown on cryptocurrency, which forced miners - which made up more than 70 per cent of the network - to close operations and move out of the country. But while this had a negative impact on bitcoins price in the short term, some crypto experts believe it will actually be beneficial in the long run.\\n\\nPeriodic shock-tests seem to only make bitcoin grow stronger, Paolo Ardoino, chief technology officer of the exchange Bitfinex, tells The Independent.\\n\\nThe hashrate is recovering to reach a near all-time high in the wake of the China ban... We see the king of crypto is once again showing its resilience. In the case of any ban or restrictions on bitcoin, there will always be someone left to fill the void. We expect to see others step up as Chinas power diminishes. This is a true testament to the far reach and resilience of the industry.\\n\\nFive countries will accept bitcoin as legal tender in 2022, crypto boss predicts\\n\\nTuesday 12 October 2021 11:27 , Anthony Cuthbertson\\n\\nFollowing El Salvadors pioneering Bitcoin Law, which made the cryptocurrency legal tender in the Central American country last month, there has been a lot of speculation over which countries might follow suit.\\n\\nA bold new prediction has just come from Alex Hoeptner, the CEO of cryptocurrency exchange Bitmex, who believes that at least five countries will adopt bitcoin by the end of next year.\\n\\nHoeptner says all of them will be developing countries, citing remittance fees, inflation and politics as the three main factors driving the adoption.\\n\\nOver the next year, and as El Salvador works out the kinks in its rollout, savvy politicians will be thinking of how they can take a similar path, and how it might benefit both them and their constituents, he said. What El Salvador did is take the first leap of faith, making similar moves by other countries much easier to consider. (Getty Images)\\n\\nJPMorgans Jamie Dimon says bitcoin is worthless, exposing stark lack of knowledge\\n\\nTuesday 12 October 2021 09:57 , Anthony Cuthbertson\\n\\nJPMorgan CEO Jamie Dimon has said he believes bitcoin is worthless, while also revealing that his clients disagree.\\n\\nHe said that JPMorgan will provide customers as-clean-as-possible access to bitcoin, saying that his personal opinion on the worlds most valuable cryptocurrency is irrelevant when there is such strong demand for it.\\n\\nIt is not the first time the controversial CEO has spoken out against bitcoin, though his latest comments have revealed a fundamental misunderstanding about the cryptocurrency. He questioned whether bitcoins fixed supply - no more than 21 million coins will ever exist - will magically increase in the future, asking: How do you know it ends at 21 million? You all read the algorithms? You guys all believe that? I dont know, Ive always been a skeptic of stuff like that?\\n\\nIf he bothered to read the algorithms himself, he would realise that it is just five lines of code that limit bitcoins supply.\\n\\nFive lines of code that results in 21m #Bitcoinpic.twitter.com/Isx8CTYMe0\\n\\n Bitcoin (@Bitcoin) October 12, 2021\\n\\nBitcoin ETF speculation pushing price up?\\n\\nTuesday 12 October 2021 09:31 , Anthony Cuthbertson\\n\\nWidely reported speculation that the US Securities and Exchange Commission (SEC) is interested in four separate bitcoin exchange-traded funds (ETF) is being cited as one of the driving factors behind the cryptocurrencys astonishing price rise since the start of October.\\n\\nWeve heard from Konstantin Anissimov, executive director of the crypto exchange CEX.IO, who says the rumours are just one of several factors pushing bitcoins price higher.\\n\\nHeres what he had to say:\\n\\nThere are a few reasons why bitcoin is currently experiencing a bullish surge.October has been a good month for crypto investors. El Salvadors move to adopt bitcoin as legal tender has been seen in a positive light.El Salvadors President, Nayib Bukele announced that they will use surplus funds from The Bitcoin Trust to build a veterinary hospital. The use of bitcoin for such a noble cause has surely played a role in public approval and a gain in price.Another reason for Bitcoins increase in value is JPMorgans recent note to investors - it said that the prized crypto asset seems to be a better hedge against inflation than gold. I believe the latest bitcoin rally is a direct result of inflation concerns and investors are using the cryptocurrency as a hedge against it. The USs positive stance on cryptocurrencies in recent weeks is another contributing factor.The public sentiment is bullish at the moment and there appear to be no roadblocks in the near future. 2021 has been a topsy-turvy year for cryptocurrencies as is usually the case  we could be in for a good end to the year!\\n\\nKonstantin Anissimov, CEX.IO\\n\\nMystery whale buys $1.6 billion of bitcoin\\n\\nTuesday 12 October 2021 07:58 , Anthony Cuthbertson\\n\\nA mysterious investor, or group of investors, has placed an order to buy $1.6 billion worth of bitcoin on a cryptocurrency exchange.\\n\\nSuch a large volume trade has inevitably contributed to bitcoins price surge, pushing it above $57,000 for the first time since May.\\n\\nKi Young, a crypto analyst and CEO of on-chain data firm CryptoQuant, speculated that traders may be taking on large positions ahead of a rumoured approval by the US Securities and Exchange Commission of a futures-based bitcoin exchange-traded fund (ETF). This kind of announcement would be huge for bitcoin, and would almost certainly lead to fresh new price highs.\\n\\nBitcoin price closing in on ATH as crypto market closes in on Apple\\n\\nTuesday 12 October 2021 07:51 , Anthony Cuthbertson\\n\\nBitcoin has risen by nearly a third in value since the start of the month, with the price gains pushing the overall crypto market cap above the value of tech giants like Amazon, Alphabet (Google) and Microsoft.\\n\\nThe cryptocurrency market is currently worth $2.32 trillion, meaning only Apple is worth more at $2.36 trillion.\\n\\nThe market value of bitcoin alone is more than $1 trillion, meaning one more price rally could push it above silver. Some analysts and investors, such as MicroStrategys Michael Saylor, believe the worlds most valuable cryptocurrency will one day flip gold, due to its inbuilt scarcity. That would put the price of a single bitcoin at around half a million dollars. (CompaniesMarketCap)\\n\\nHello and welcome...\\n\\nTuesday 12 October 2021 07:35 , Anthony Cuthbertson\\n\\nto The Independents live coverage of the crypto market. With another bull run seemingly underway, well have all the latest news, updates and analysis throughout the week for bitcoin, Ethereum (ether) and other leading cryptocurrencies.\\n\\nWell also be bringing you expert price predictions, as well as seeking to answer the question of whether we really are set to see a new all-time high for bitcoin within the next 10 weeks. Its currently less than $7,000 away from hitting a new record, with its notorious volatility meaning such a jump could be achieved in just a few hours - though such a significant price move could also go the other way.\""
      ]
     },
     "execution_count": 195,
     "metadata": {},
     "output_type": "execute_result"
    }
   ],
   "source": [
    "list_news[5730][3]"
   ]
  },
  {
   "cell_type": "code",
   "execution_count": 196,
   "id": "2de27689",
   "metadata": {},
   "outputs": [
    {
     "name": "stdout",
     "output_type": "stream",
     "text": [
      "CPU times: user 17.6 s, sys: 2.08 s, total: 19.7 s\n",
      "Wall time: 30min 28s\n"
     ]
    }
   ],
   "source": [
    "%%time\n",
    "for news in list_news:\n",
    "    sql = \"\"\"INSERT INTO newsapi(`date`, ticker, title, content) VALUES (%s, %s, %s, %s)\"\"\"\n",
    "    \n",
    "    values = (news[0], news[1], news[2], news[3])\n",
    "    \n",
    "    cursor.execute(sql, values)\n",
    "\n",
    "    # the connection is not autocommitted by default, so we must commit to save our changes\n",
    "    connection.commit()\n",
    "    \n"
   ]
  },
  {
   "cell_type": "code",
   "execution_count": null,
   "id": "e87ae6ee",
   "metadata": {},
   "outputs": [],
   "source": []
  },
  {
   "cell_type": "code",
   "execution_count": null,
   "id": "166a7d11",
   "metadata": {},
   "outputs": [],
   "source": []
  },
  {
   "cell_type": "code",
   "execution_count": null,
   "id": "dfa4b098",
   "metadata": {},
   "outputs": [],
   "source": []
  }
 ],
 "metadata": {
  "kernelspec": {
   "display_name": "Python 3 (ipykernel)",
   "language": "python",
   "name": "python3"
  },
  "language_info": {
   "codemirror_mode": {
    "name": "ipython",
    "version": 3
   },
   "file_extension": ".py",
   "mimetype": "text/x-python",
   "name": "python",
   "nbconvert_exporter": "python",
   "pygments_lexer": "ipython3",
   "version": "3.8.12"
  },
  "toc": {
   "base_numbering": 1,
   "nav_menu": {},
   "number_sections": true,
   "sideBar": true,
   "skip_h1_title": false,
   "title_cell": "Table of Contents",
   "title_sidebar": "Contents",
   "toc_cell": false,
   "toc_position": {
    "height": "calc(100% - 180px)",
    "left": "10px",
    "top": "150px",
    "width": "279.273px"
   },
   "toc_section_display": true,
   "toc_window_display": true
  }
 },
 "nbformat": 4,
 "nbformat_minor": 5
}
